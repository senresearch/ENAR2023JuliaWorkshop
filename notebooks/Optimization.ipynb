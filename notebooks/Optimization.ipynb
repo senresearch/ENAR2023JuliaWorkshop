{
 "cells": [
  {
   "cell_type": "markdown",
   "id": "6a13d07b",
   "metadata": {},
   "source": [
    "# Scientific computing\n",
    "___\n",
    "\n",
    "**Gregory Farage, Śaunak Sen**    \n",
    "\n",
    "    gfarage@uthsc.edu / sen@uthsc.edu\n",
    "    Division of Biostatistics\n",
    "    Department of Preventive Medicine\n",
    "    University of Tennessee Health Science Center\n",
    "    Memphis, TN\n",
    "\n",
    "\n",
    "\n",
    "In this note we will look at some Julia features for scientific computing including linear algebra, the typing system, and parallel/distributed computing."
   ]
  },
  {
   "cell_type": "markdown",
   "id": "763778cd",
   "metadata": {
    "jp-MarkdownHeadingCollapsed": true
   },
   "source": [
    "## Example: Least squares\n",
    "\n",
    "We will write a simple linear regression routine that will use linear algebra functions.  Recall that we want to fit a model of the form\n",
    "\n",
    "$$ y = X\\beta + \\epsilon,$$ \n",
    "\n",
    "where $y$ is the response vector, $X$ is the matrix of predictors (design matrix) and $\\epsilon$ are the errors.  We assume homoscedastic error, so that $V(\\epsilon) = \\sigma^2 I$."
   ]
  },
  {
   "cell_type": "code",
   "execution_count": 1,
   "id": "7f55ed07",
   "metadata": {},
   "outputs": [],
   "source": [
    "# load packages we will be using\n",
    "using LinearAlgebra, DataFrames, CSV, GLM, BenchmarkTools"
   ]
  },
  {
   "cell_type": "markdown",
   "id": "829d47b5",
   "metadata": {},
   "source": [
    "We download the Arabidopsis data from the web URL."
   ]
  },
  {
   "cell_type": "code",
   "execution_count": 2,
   "id": "20c0a58e",
   "metadata": {},
   "outputs": [],
   "source": [
    "agrenURL = agrenURL = \"https://raw.githubusercontent.com/sens/smalldata/master/arabidopsis/agren2013.csv\"\n",
    "agren = CSV.read(download(agrenURL),DataFrame,missingstring=\"NA\");"
   ]
  },
  {
   "cell_type": "markdown",
   "id": "f51bb581",
   "metadata": {},
   "source": [
    "For convenience we subset the data to those without any missing data.  We will also convert the data frame into a matrix so that the linear regression routine does not have to handle missing data."
   ]
  },
  {
   "cell_type": "code",
   "execution_count": 3,
   "id": "eec47978",
   "metadata": {},
   "outputs": [
    {
     "data": {
      "text/html": [
       "<div><div style = \"float: left;\"><span>4×8 DataFrame</span></div><div style = \"clear: both;\"></div></div><div class = \"data-frame\" style = \"overflow-x: scroll;\"><table class = \"data-frame\" style = \"margin-bottom: 6px;\"><thead><tr class = \"header\"><th class = \"rowNumber\" style = \"font-weight: bold; text-align: right;\">Row</th><th style = \"text-align: left;\">it09</th><th style = \"text-align: left;\">it10</th><th style = \"text-align: left;\">it11</th><th style = \"text-align: left;\">sw09</th><th style = \"text-align: left;\">sw10</th><th style = \"text-align: left;\">sw11</th><th style = \"text-align: left;\">id</th><th style = \"text-align: left;\">flc</th></tr><tr class = \"subheader headerLastRow\"><th class = \"rowNumber\" style = \"font-weight: bold; text-align: right;\"></th><th title = \"Float64\" style = \"text-align: left;\">Float64</th><th title = \"Float64\" style = \"text-align: left;\">Float64</th><th title = \"Float64\" style = \"text-align: left;\">Float64</th><th title = \"Float64\" style = \"text-align: left;\">Float64</th><th title = \"Float64\" style = \"text-align: left;\">Float64</th><th title = \"Float64\" style = \"text-align: left;\">Float64</th><th title = \"Int64\" style = \"text-align: left;\">Int64</th><th title = \"Int64\" style = \"text-align: left;\">Int64</th></tr></thead><tbody><tr><td class = \"rowNumber\" style = \"font-weight: bold; text-align: right;\">1</td><td style = \"text-align: right;\">19.7616</td><td style = \"text-align: right;\">24.1761</td><td style = \"text-align: right;\">15.6778</td><td style = \"text-align: right;\">5.66443</td><td style = \"text-align: right;\">21.4804</td><td style = \"text-align: right;\">4.47778</td><td style = \"text-align: right;\">1</td><td style = \"text-align: right;\">1</td></tr><tr><td class = \"rowNumber\" style = \"font-weight: bold; text-align: right;\">2</td><td style = \"text-align: right;\">6.28846</td><td style = \"text-align: right;\">1.77401</td><td style = \"text-align: right;\">3.23889</td><td style = \"text-align: right;\">9.54305</td><td style = \"text-align: right;\">22.1222</td><td style = \"text-align: right;\">7.76667</td><td style = \"text-align: right;\">2</td><td style = \"text-align: right;\">2</td></tr><tr><td class = \"rowNumber\" style = \"font-weight: bold; text-align: right;\">3</td><td style = \"text-align: right;\">12.034</td><td style = \"text-align: right;\">12.4605</td><td style = \"text-align: right;\">10.601</td><td style = \"text-align: right;\">11.8038</td><td style = \"text-align: right;\">23.0487</td><td style = \"text-align: right;\">14.8712</td><td style = \"text-align: right;\">3</td><td style = \"text-align: right;\">2</td></tr><tr><td class = \"rowNumber\" style = \"font-weight: bold; text-align: right;\">4</td><td style = \"text-align: right;\">20.1253</td><td style = \"text-align: right;\">14.1169</td><td style = \"text-align: right;\">12.9035</td><td style = \"text-align: right;\">7.44263</td><td style = \"text-align: right;\">22.5834</td><td style = \"text-align: right;\">8.1937</td><td style = \"text-align: right;\">6</td><td style = \"text-align: right;\">1</td></tr></tbody></table></div>"
      ],
      "text/latex": [
       "\\begin{tabular}{r|cccccccc}\n",
       "\t& it09 & it10 & it11 & sw09 & sw10 & sw11 & id & flc\\\\\n",
       "\t\\hline\n",
       "\t& Float64 & Float64 & Float64 & Float64 & Float64 & Float64 & Int64 & Int64\\\\\n",
       "\t\\hline\n",
       "\t1 & 19.7616 & 24.1761 & 15.6778 & 5.66443 & 21.4804 & 4.47778 & 1 & 1 \\\\\n",
       "\t2 & 6.28846 & 1.77401 & 3.23889 & 9.54305 & 22.1222 & 7.76667 & 2 & 2 \\\\\n",
       "\t3 & 12.034 & 12.4605 & 10.601 & 11.8038 & 23.0487 & 14.8712 & 3 & 2 \\\\\n",
       "\t4 & 20.1253 & 14.1169 & 12.9035 & 7.44263 & 22.5834 & 8.1937 & 6 & 1 \\\\\n",
       "\\end{tabular}\n"
      ],
      "text/plain": [
       "\u001b[1m4×8 DataFrame\u001b[0m\n",
       "\u001b[1m Row \u001b[0m│\u001b[1m it09     \u001b[0m\u001b[1m it10     \u001b[0m\u001b[1m it11     \u001b[0m\u001b[1m sw09     \u001b[0m\u001b[1m sw10    \u001b[0m\u001b[1m sw11     \u001b[0m\u001b[1m id    \u001b[0m\u001b[1m flc  \u001b[0m ⋯\n",
       "     │\u001b[90m Float64  \u001b[0m\u001b[90m Float64  \u001b[0m\u001b[90m Float64  \u001b[0m\u001b[90m Float64  \u001b[0m\u001b[90m Float64 \u001b[0m\u001b[90m Float64  \u001b[0m\u001b[90m Int64 \u001b[0m\u001b[90m Int64\u001b[0m ⋯\n",
       "─────┼──────────────────────────────────────────────────────────────────────────\n",
       "   1 │ 19.7616   24.1761   15.6778    5.66443  21.4804   4.47778      1      1 ⋯\n",
       "   2 │  6.28846   1.77401   3.23889   9.54305  22.1222   7.76667      2      2\n",
       "   3 │ 12.034    12.4605   10.601    11.8038   23.0487  14.8712       3      2\n",
       "   4 │ 20.1253   14.1169   12.9035    7.44263  22.5834   8.1937       6      1"
      ]
     },
     "execution_count": 3,
     "metadata": {},
     "output_type": "execute_result"
    }
   ],
   "source": [
    "# drop the rows with missing data\n",
    "agren1 = dropmissing(agren)\n",
    "# check how many rows are left\n",
    "nrow(agren1)\n",
    "# few rows\n",
    "first(agren1,4)"
   ]
  },
  {
   "cell_type": "markdown",
   "id": "7eff4008",
   "metadata": {},
   "source": [
    "Next, we conver the data into a matrix (from a data frame); we will do the linear regression of fitness in Italy for 2010 using the 2009 data as the predictor."
   ]
  },
  {
   "cell_type": "code",
   "execution_count": 4,
   "id": "f50c060e",
   "metadata": {},
   "outputs": [
    {
     "data": {
      "text/plain": [
       "392×2 Matrix{Float64}:\n",
       " 1.0  19.7616\n",
       " 1.0   6.28846\n",
       " 1.0  12.034\n",
       " 1.0  20.1253\n",
       " 1.0  15.1278\n",
       " 1.0  19.2091\n",
       " 1.0  12.9434\n",
       " 1.0  14.2244\n",
       " 1.0  20.5921\n",
       " 1.0  15.6141\n",
       " 1.0  10.9073\n",
       " 1.0  11.8156\n",
       " 1.0  13.0657\n",
       " ⋮    \n",
       " 1.0  12.8839\n",
       " 1.0  10.4514\n",
       " 1.0  12.6483\n",
       " 1.0   9.6031\n",
       " 1.0   9.4072\n",
       " 1.0  15.6564\n",
       " 1.0   8.98307\n",
       " 1.0  12.1569\n",
       " 1.0   9.39266\n",
       " 1.0  11.965\n",
       " 1.0  11.593\n",
       " 1.0  14.265"
      ]
     },
     "execution_count": 4,
     "metadata": {},
     "output_type": "execute_result"
    }
   ],
   "source": [
    "# convert data frame to matrix\n",
    "agrenMat = Matrix(agren1[:,1:6])\n",
    "# convert outcome/response vector to a matrix with one column\n",
    "y = reshape(agrenMat[:,2],:,1)\n",
    "# make the predictor matrix including an intercept\n",
    "X = [ ones(nrow(agren1)) agrenMat[:,1] ]"
   ]
  },
  {
   "cell_type": "markdown",
   "id": "a5b099a2",
   "metadata": {},
   "source": [
    "We use the standard function to do the linear regression."
   ]
  },
  {
   "cell_type": "code",
   "execution_count": 5,
   "id": "a14fb194",
   "metadata": {},
   "outputs": [
    {
     "data": {
      "text/plain": [
       "StatsModels.TableRegressionModel{LinearModel{GLM.LmResp{Vector{Float64}}, GLM.DensePredChol{Float64, CholeskyPivoted{Float64, Matrix{Float64}, Vector{Int64}}}}, Matrix{Float64}}\n",
       "\n",
       "it10 ~ 1 + it09\n",
       "\n",
       "Coefficients:\n",
       "─────────────────────────────────────────────────────────────────────────\n",
       "                 Coef.  Std. Error      t  Pr(>|t|)  Lower 95%  Upper 95%\n",
       "─────────────────────────────────────────────────────────────────────────\n",
       "(Intercept)  -0.611065   0.660604   -0.93    0.3555  -1.90985    0.687726\n",
       "it09          0.708875   0.0530086  13.37    <1e-33   0.604656   0.813093\n",
       "─────────────────────────────────────────────────────────────────────────"
      ]
     },
     "execution_count": 5,
     "metadata": {},
     "output_type": "execute_result"
    }
   ],
   "source": [
    "# run linear regression using built-in function\n",
    "# @btime\n",
    "out = lm(@formula(it10~it09),agren1)"
   ]
  },
  {
   "cell_type": "markdown",
   "id": "cbfb44b9",
   "metadata": {},
   "source": [
    "We will create a data structure called `Ls` to store the results of linear regression."
   ]
  },
  {
   "cell_type": "code",
   "execution_count": 6,
   "id": "8708215d",
   "metadata": {},
   "outputs": [],
   "source": [
    "# define new data structure (object)\n",
    "struct Ls\n",
    "    β::Matrix{Float64} # regression coefficients\n",
    "    V::Matrix{Float64} # variance covariance of estimates\n",
    "end"
   ]
  },
  {
   "cell_type": "markdown",
   "id": "24adc1ae",
   "metadata": {},
   "source": [
    "Next we write a function to calculate the least squares estimate and variance-covariance matrix.  Note that we specify the types of the arguments.  This is important for the compiler to optimize for speed.\n",
    "\n",
    "It is well-known that the least squares estimates have closed-form formulas.\n",
    "$$\\hat{\\beta} = (X^\\prime X)^{{-}1} X^\\prime y,$$\n",
    "$$\\hat{y} = X\\hat{\\beta}$$\n",
    "$$\\hat{\\sigma^2} = \\|y-\\hat{y}\\|^2 /(n-p)$$\n",
    "$$ V(\\hat{\\beta}) = \\sigma^2 (X^\\prime X)^{{-}1}$$"
   ]
  },
  {
   "cell_type": "code",
   "execution_count": 7,
   "id": "3329851d",
   "metadata": {},
   "outputs": [],
   "source": [
    "\"\"\"\n",
    "ls: function for least squares estimation\n",
    "\n",
    "y = response (matrix with one column)\n",
    "X = matrix of predictors (assumed to be of full rank)\n",
    "\"\"\"\n",
    "function ls( y::Matrix{Float64}, X::Matrix{Float64} )\n",
    "    n,p = size(X)   # dimensions of design matrix (predictors)\n",
    "    β = (X'X)\\(X'y) # least squares estimate\n",
    "    ŷ = X*β      # calculate fitted values\n",
    "    σ² = norm(y-ŷ)^2/(n-p)  # calculate residual standard deviation\n",
    "    return Ls(β,(σ²*inv(X'X))) # return estimate and variance/covariance\n",
    "end;"
   ]
  },
  {
   "cell_type": "markdown",
   "id": "49421ed0",
   "metadata": {},
   "source": [
    "We now examine the estimates and compare with the values of the standard implementation."
   ]
  },
  {
   "cell_type": "code",
   "execution_count": 8,
   "id": "ce6d0290",
   "metadata": {},
   "outputs": [
    {
     "data": {
      "text/plain": [
       "Ls([-0.6110646951084405; 0.7088745462882894;;], [0.43639736798916184 -0.03434349111923561; -0.03434349111923561 0.0028099070240469883])"
      ]
     },
     "execution_count": 8,
     "metadata": {},
     "output_type": "execute_result"
    }
   ],
   "source": [
    "# @btime\n",
    "lsout = ls(y,X)"
   ]
  },
  {
   "cell_type": "code",
   "execution_count": 9,
   "id": "6e41ee3a",
   "metadata": {},
   "outputs": [
    {
     "data": {
      "text/plain": [
       "2×2 Matrix{Float64}:\n",
       " -0.611065  -0.611065\n",
       "  0.708875   0.708875"
      ]
     },
     "execution_count": 9,
     "metadata": {},
     "output_type": "execute_result"
    }
   ],
   "source": [
    "hcat( lsout.β, coef(out) )"
   ]
  },
  {
   "cell_type": "markdown",
   "id": "7864c6a2",
   "metadata": {},
   "source": [
    "We compare the variance covariances as well, which are also essentially identical."
   ]
  },
  {
   "cell_type": "code",
   "execution_count": 10,
   "id": "9e5e57f5",
   "metadata": {},
   "outputs": [
    {
     "data": {
      "text/plain": [
       "2×2 Matrix{Float64}:\n",
       "  0.436397   -0.0343435\n",
       " -0.0343435   0.00280991"
      ]
     },
     "execution_count": 10,
     "metadata": {},
     "output_type": "execute_result"
    }
   ],
   "source": [
    "lsout.V"
   ]
  },
  {
   "cell_type": "code",
   "execution_count": 11,
   "id": "fccf3cea",
   "metadata": {},
   "outputs": [
    {
     "data": {
      "text/plain": [
       "2×2 Matrix{Float64}:\n",
       "  0.436397   -0.0343435\n",
       " -0.0343435   0.00280991"
      ]
     },
     "execution_count": 11,
     "metadata": {},
     "output_type": "execute_result"
    }
   ],
   "source": [
    "vcov(out)"
   ]
  },
  {
   "cell_type": "markdown",
   "id": "63fa9b36",
   "metadata": {},
   "source": [
    "## Example: Gradient descent\n",
    "\n",
    "Now we examine writing a simple minimizer using gradient descent for a convex function that is a squared error loss with a L$_1$ penalty.  We import a package to perform symbolic differentiation.\n",
    "\n",
    "We consider minimizing the with respect to $x$, the function $$f(x) = (x-2)^2 + 2\\|x\\|.$$"
   ]
  },
  {
   "cell_type": "code",
   "execution_count": 12,
   "id": "5a03963d",
   "metadata": {},
   "outputs": [
    {
     "data": {
      "image/svg+xml": [
       "<?xml version=\"1.0\" encoding=\"utf-8\"?>\n",
       "<svg xmlns=\"http://www.w3.org/2000/svg\" xmlns:xlink=\"http://www.w3.org/1999/xlink\" width=\"600\" height=\"400\" viewBox=\"0 0 2400 1600\">\n",
       "<defs>\n",
       "  <clipPath id=\"clip000\">\n",
       "    <rect x=\"0\" y=\"0\" width=\"2400\" height=\"1600\"/>\n",
       "  </clipPath>\n",
       "</defs>\n",
       "<path clip-path=\"url(#clip000)\" d=\"M0 1600 L2400 1600 L2400 0 L0 0  Z\" fill=\"#ffffff\" fill-rule=\"evenodd\" fill-opacity=\"1\"/>\n",
       "<defs>\n",
       "  <clipPath id=\"clip001\">\n",
       "    <rect x=\"480\" y=\"0\" width=\"1681\" height=\"1600\"/>\n",
       "  </clipPath>\n",
       "</defs>\n",
       "<path clip-path=\"url(#clip000)\" d=\"M138.959 1486.45 L2352.76 1486.45 L2352.76 47.2441 L138.959 47.2441  Z\" fill=\"#ffffff\" fill-rule=\"evenodd\" fill-opacity=\"1\"/>\n",
       "<defs>\n",
       "  <clipPath id=\"clip002\">\n",
       "    <rect x=\"138\" y=\"47\" width=\"2215\" height=\"1440\"/>\n",
       "  </clipPath>\n",
       "</defs>\n",
       "<polyline clip-path=\"url(#clip002)\" style=\"stroke:#000000; stroke-linecap:round; stroke-linejoin:round; stroke-width:2; stroke-opacity:0.1; fill:none\" points=\"201.614,1486.45 201.614,47.2441 \"/>\n",
       "<polyline clip-path=\"url(#clip002)\" style=\"stroke:#000000; stroke-linecap:round; stroke-linejoin:round; stroke-width:2; stroke-opacity:0.1; fill:none\" points=\"619.312,1486.45 619.312,47.2441 \"/>\n",
       "<polyline clip-path=\"url(#clip002)\" style=\"stroke:#000000; stroke-linecap:round; stroke-linejoin:round; stroke-width:2; stroke-opacity:0.1; fill:none\" points=\"1037.01,1486.45 1037.01,47.2441 \"/>\n",
       "<polyline clip-path=\"url(#clip002)\" style=\"stroke:#000000; stroke-linecap:round; stroke-linejoin:round; stroke-width:2; stroke-opacity:0.1; fill:none\" points=\"1454.71,1486.45 1454.71,47.2441 \"/>\n",
       "<polyline clip-path=\"url(#clip002)\" style=\"stroke:#000000; stroke-linecap:round; stroke-linejoin:round; stroke-width:2; stroke-opacity:0.1; fill:none\" points=\"1872.4,1486.45 1872.4,47.2441 \"/>\n",
       "<polyline clip-path=\"url(#clip002)\" style=\"stroke:#000000; stroke-linecap:round; stroke-linejoin:round; stroke-width:2; stroke-opacity:0.1; fill:none\" points=\"2290.1,1486.45 2290.1,47.2441 \"/>\n",
       "<polyline clip-path=\"url(#clip000)\" style=\"stroke:#000000; stroke-linecap:round; stroke-linejoin:round; stroke-width:4; stroke-opacity:1; fill:none\" points=\"138.959,1486.45 2352.76,1486.45 \"/>\n",
       "<polyline clip-path=\"url(#clip000)\" style=\"stroke:#000000; stroke-linecap:round; stroke-linejoin:round; stroke-width:4; stroke-opacity:1; fill:none\" points=\"201.614,1486.45 201.614,1467.55 \"/>\n",
       "<polyline clip-path=\"url(#clip000)\" style=\"stroke:#000000; stroke-linecap:round; stroke-linejoin:round; stroke-width:4; stroke-opacity:1; fill:none\" points=\"619.312,1486.45 619.312,1467.55 \"/>\n",
       "<polyline clip-path=\"url(#clip000)\" style=\"stroke:#000000; stroke-linecap:round; stroke-linejoin:round; stroke-width:4; stroke-opacity:1; fill:none\" points=\"1037.01,1486.45 1037.01,1467.55 \"/>\n",
       "<polyline clip-path=\"url(#clip000)\" style=\"stroke:#000000; stroke-linecap:round; stroke-linejoin:round; stroke-width:4; stroke-opacity:1; fill:none\" points=\"1454.71,1486.45 1454.71,1467.55 \"/>\n",
       "<polyline clip-path=\"url(#clip000)\" style=\"stroke:#000000; stroke-linecap:round; stroke-linejoin:round; stroke-width:4; stroke-opacity:1; fill:none\" points=\"1872.4,1486.45 1872.4,1467.55 \"/>\n",
       "<polyline clip-path=\"url(#clip000)\" style=\"stroke:#000000; stroke-linecap:round; stroke-linejoin:round; stroke-width:4; stroke-opacity:1; fill:none\" points=\"2290.1,1486.45 2290.1,1467.55 \"/>\n",
       "<path clip-path=\"url(#clip000)\" d=\"M171.371 1532.02 L201.047 1532.02 L201.047 1535.95 L171.371 1535.95 L171.371 1532.02 Z\" fill=\"#000000\" fill-rule=\"nonzero\" fill-opacity=\"1\" /><path clip-path=\"url(#clip000)\" d=\"M211.95 1544.91 L219.588 1544.91 L219.588 1518.55 L211.278 1520.21 L211.278 1515.95 L219.542 1514.29 L224.218 1514.29 L224.218 1544.91 L231.857 1544.91 L231.857 1548.85 L211.95 1548.85 L211.95 1544.91 Z\" fill=\"#000000\" fill-rule=\"nonzero\" fill-opacity=\"1\" /><path clip-path=\"url(#clip000)\" d=\"M619.312 1517.37 Q615.7 1517.37 613.872 1520.93 Q612.066 1524.47 612.066 1531.6 Q612.066 1538.71 613.872 1542.27 Q615.7 1545.82 619.312 1545.82 Q622.946 1545.82 624.751 1542.27 Q626.58 1538.71 626.58 1531.6 Q626.58 1524.47 624.751 1520.93 Q622.946 1517.37 619.312 1517.37 M619.312 1513.66 Q625.122 1513.66 628.177 1518.27 Q631.256 1522.85 631.256 1531.6 Q631.256 1540.33 628.177 1544.94 Q625.122 1549.52 619.312 1549.52 Q613.501 1549.52 610.423 1544.94 Q607.367 1540.33 607.367 1531.6 Q607.367 1522.85 610.423 1518.27 Q613.501 1513.66 619.312 1513.66 Z\" fill=\"#000000\" fill-rule=\"nonzero\" fill-opacity=\"1\" /><path clip-path=\"url(#clip000)\" d=\"M1027.39 1544.91 L1035.03 1544.91 L1035.03 1518.55 L1026.72 1520.21 L1026.72 1515.95 L1034.98 1514.29 L1039.66 1514.29 L1039.66 1544.91 L1047.3 1544.91 L1047.3 1548.85 L1027.39 1548.85 L1027.39 1544.91 Z\" fill=\"#000000\" fill-rule=\"nonzero\" fill-opacity=\"1\" /><path clip-path=\"url(#clip000)\" d=\"M1449.36 1544.91 L1465.68 1544.91 L1465.68 1548.85 L1443.73 1548.85 L1443.73 1544.91 Q1446.4 1542.16 1450.98 1537.53 Q1455.59 1532.88 1456.77 1531.53 Q1459.01 1529.01 1459.89 1527.27 Q1460.79 1525.51 1460.79 1523.82 Q1460.79 1521.07 1458.85 1519.33 Q1456.93 1517.6 1453.83 1517.6 Q1451.63 1517.6 1449.17 1518.36 Q1446.74 1519.13 1443.97 1520.68 L1443.97 1515.95 Q1446.79 1514.82 1449.24 1514.24 Q1451.7 1513.66 1453.73 1513.66 Q1459.1 1513.66 1462.3 1516.35 Q1465.49 1519.03 1465.49 1523.52 Q1465.49 1525.65 1464.68 1527.57 Q1463.9 1529.47 1461.79 1532.07 Q1461.21 1532.74 1458.11 1535.95 Q1455.01 1539.15 1449.36 1544.91 Z\" fill=\"#000000\" fill-rule=\"nonzero\" fill-opacity=\"1\" /><path clip-path=\"url(#clip000)\" d=\"M1876.65 1530.21 Q1880.01 1530.93 1881.88 1533.2 Q1883.78 1535.47 1883.78 1538.8 Q1883.78 1543.92 1880.26 1546.72 Q1876.74 1549.52 1870.26 1549.52 Q1868.09 1549.52 1865.77 1549.08 Q1863.48 1548.66 1861.03 1547.81 L1861.03 1543.29 Q1862.97 1544.43 1865.29 1545.01 Q1867.6 1545.58 1870.12 1545.58 Q1874.52 1545.58 1876.81 1543.85 Q1879.13 1542.11 1879.13 1538.8 Q1879.13 1535.75 1876.98 1534.03 Q1874.85 1532.3 1871.03 1532.3 L1867 1532.3 L1867 1528.45 L1871.21 1528.45 Q1874.66 1528.45 1876.49 1527.09 Q1878.32 1525.7 1878.32 1523.11 Q1878.32 1520.45 1876.42 1519.03 Q1874.55 1517.6 1871.03 1517.6 Q1869.11 1517.6 1866.91 1518.01 Q1864.71 1518.43 1862.07 1519.31 L1862.07 1515.14 Q1864.73 1514.4 1867.05 1514.03 Q1869.38 1513.66 1871.44 1513.66 Q1876.77 1513.66 1879.87 1516.09 Q1882.97 1518.5 1882.97 1522.62 Q1882.97 1525.49 1881.33 1527.48 Q1879.68 1529.45 1876.65 1530.21 Z\" fill=\"#000000\" fill-rule=\"nonzero\" fill-opacity=\"1\" /><path clip-path=\"url(#clip000)\" d=\"M2293.11 1518.36 L2281.31 1536.81 L2293.11 1536.81 L2293.11 1518.36 M2291.88 1514.29 L2297.76 1514.29 L2297.76 1536.81 L2302.69 1536.81 L2302.69 1540.7 L2297.76 1540.7 L2297.76 1548.85 L2293.11 1548.85 L2293.11 1540.7 L2277.51 1540.7 L2277.51 1536.19 L2291.88 1514.29 Z\" fill=\"#000000\" fill-rule=\"nonzero\" fill-opacity=\"1\" /><polyline clip-path=\"url(#clip002)\" style=\"stroke:#000000; stroke-linecap:round; stroke-linejoin:round; stroke-width:2; stroke-opacity:0.1; fill:none\" points=\"138.959,1294.9 2352.76,1294.9 \"/>\n",
       "<polyline clip-path=\"url(#clip002)\" style=\"stroke:#000000; stroke-linecap:round; stroke-linejoin:round; stroke-width:2; stroke-opacity:0.1; fill:none\" points=\"138.959,993.166 2352.76,993.166 \"/>\n",
       "<polyline clip-path=\"url(#clip002)\" style=\"stroke:#000000; stroke-linecap:round; stroke-linejoin:round; stroke-width:2; stroke-opacity:0.1; fill:none\" points=\"138.959,691.436 2352.76,691.436 \"/>\n",
       "<polyline clip-path=\"url(#clip002)\" style=\"stroke:#000000; stroke-linecap:round; stroke-linejoin:round; stroke-width:2; stroke-opacity:0.1; fill:none\" points=\"138.959,389.706 2352.76,389.706 \"/>\n",
       "<polyline clip-path=\"url(#clip002)\" style=\"stroke:#000000; stroke-linecap:round; stroke-linejoin:round; stroke-width:2; stroke-opacity:0.1; fill:none\" points=\"138.959,87.9763 2352.76,87.9763 \"/>\n",
       "<polyline clip-path=\"url(#clip000)\" style=\"stroke:#000000; stroke-linecap:round; stroke-linejoin:round; stroke-width:4; stroke-opacity:1; fill:none\" points=\"138.959,1486.45 138.959,47.2441 \"/>\n",
       "<polyline clip-path=\"url(#clip000)\" style=\"stroke:#000000; stroke-linecap:round; stroke-linejoin:round; stroke-width:4; stroke-opacity:1; fill:none\" points=\"138.959,1294.9 157.857,1294.9 \"/>\n",
       "<polyline clip-path=\"url(#clip000)\" style=\"stroke:#000000; stroke-linecap:round; stroke-linejoin:round; stroke-width:4; stroke-opacity:1; fill:none\" points=\"138.959,993.166 157.857,993.166 \"/>\n",
       "<polyline clip-path=\"url(#clip000)\" style=\"stroke:#000000; stroke-linecap:round; stroke-linejoin:round; stroke-width:4; stroke-opacity:1; fill:none\" points=\"138.959,691.436 157.857,691.436 \"/>\n",
       "<polyline clip-path=\"url(#clip000)\" style=\"stroke:#000000; stroke-linecap:round; stroke-linejoin:round; stroke-width:4; stroke-opacity:1; fill:none\" points=\"138.959,389.706 157.857,389.706 \"/>\n",
       "<polyline clip-path=\"url(#clip000)\" style=\"stroke:#000000; stroke-linecap:round; stroke-linejoin:round; stroke-width:4; stroke-opacity:1; fill:none\" points=\"138.959,87.9763 157.857,87.9763 \"/>\n",
       "<path clip-path=\"url(#clip000)\" d=\"M93.3762 1281.69 L81.5707 1300.14 L93.3762 1300.14 L93.3762 1281.69 M92.1493 1277.62 L98.0289 1277.62 L98.0289 1300.14 L102.959 1300.14 L102.959 1304.03 L98.0289 1304.03 L98.0289 1312.18 L93.3762 1312.18 L93.3762 1304.03 L77.7744 1304.03 L77.7744 1299.51 L92.1493 1277.62 Z\" fill=\"#000000\" fill-rule=\"nonzero\" fill-opacity=\"1\" /><path clip-path=\"url(#clip000)\" d=\"M91.4317 991.303 Q88.2836 991.303 86.4318 993.455 Q84.6031 995.608 84.6031 999.358 Q84.6031 1003.08 86.4318 1005.26 Q88.2836 1007.41 91.4317 1007.41 Q94.5799 1007.41 96.4085 1005.26 Q98.2604 1003.08 98.2604 999.358 Q98.2604 995.608 96.4085 993.455 Q94.5799 991.303 91.4317 991.303 M100.714 976.65 L100.714 980.909 Q98.9548 980.076 97.1493 979.636 Q95.3669 979.196 93.6076 979.196 Q88.978 979.196 86.5243 982.321 Q84.0938 985.446 83.7466 991.766 Q85.1123 989.752 87.1725 988.687 Q89.2327 987.599 91.7095 987.599 Q96.9178 987.599 99.927 990.77 Q102.959 993.918 102.959 999.358 Q102.959 1004.68 99.8113 1007.9 Q96.6632 1011.12 91.4317 1011.12 Q85.4364 1011.12 82.2651 1006.53 Q79.0938 1001.93 79.0938 993.201 Q79.0938 985.006 82.9827 980.145 Q86.8716 975.261 93.4225 975.261 Q95.1817 975.261 96.9641 975.608 Q98.7696 975.955 100.714 976.65 Z\" fill=\"#000000\" fill-rule=\"nonzero\" fill-opacity=\"1\" /><path clip-path=\"url(#clip000)\" d=\"M91.1077 692.304 Q87.7743 692.304 85.8531 694.087 Q83.9549 695.869 83.9549 698.994 Q83.9549 702.119 85.8531 703.901 Q87.7743 705.684 91.1077 705.684 Q94.441 705.684 96.3623 703.901 Q98.2835 702.096 98.2835 698.994 Q98.2835 695.869 96.3623 694.087 Q94.4641 692.304 91.1077 692.304 M86.4318 690.313 Q83.4225 689.573 81.7327 687.513 Q80.066 685.452 80.066 682.489 Q80.066 678.346 83.0058 675.939 Q85.9688 673.531 91.1077 673.531 Q96.2697 673.531 99.2095 675.939 Q102.149 678.346 102.149 682.489 Q102.149 685.452 100.459 687.513 Q98.7928 689.573 95.8067 690.313 Q99.1863 691.1 101.061 693.392 Q102.959 695.684 102.959 698.994 Q102.959 704.017 99.8808 706.702 Q96.8252 709.387 91.1077 709.387 Q85.3901 709.387 82.3114 706.702 Q79.2559 704.017 79.2559 698.994 Q79.2559 695.684 81.154 693.392 Q83.0521 691.1 86.4318 690.313 M84.7188 682.929 Q84.7188 685.614 86.3855 687.119 Q88.0753 688.624 91.1077 688.624 Q94.1169 688.624 95.8067 687.119 Q97.5197 685.614 97.5197 682.929 Q97.5197 680.244 95.8067 678.739 Q94.1169 677.235 91.1077 677.235 Q88.0753 677.235 86.3855 678.739 Q84.7188 680.244 84.7188 682.929 Z\" fill=\"#000000\" fill-rule=\"nonzero\" fill-opacity=\"1\" /><path clip-path=\"url(#clip000)\" d=\"M51.6634 403.051 L59.3023 403.051 L59.3023 376.685 L50.9921 378.352 L50.9921 374.093 L59.256 372.426 L63.9319 372.426 L63.9319 403.051 L71.5707 403.051 L71.5707 406.986 L51.6634 406.986 L51.6634 403.051 Z\" fill=\"#000000\" fill-rule=\"nonzero\" fill-opacity=\"1\" /><path clip-path=\"url(#clip000)\" d=\"M91.0151 375.505 Q87.404 375.505 85.5753 379.07 Q83.7697 382.611 83.7697 389.741 Q83.7697 396.847 85.5753 400.412 Q87.404 403.954 91.0151 403.954 Q94.6493 403.954 96.4548 400.412 Q98.2835 396.847 98.2835 389.741 Q98.2835 382.611 96.4548 379.07 Q94.6493 375.505 91.0151 375.505 M91.0151 371.801 Q96.8252 371.801 99.8808 376.408 Q102.959 380.991 102.959 389.741 Q102.959 398.468 99.8808 403.074 Q96.8252 407.657 91.0151 407.657 Q85.2049 407.657 82.1262 403.074 Q79.0707 398.468 79.0707 389.741 Q79.0707 380.991 82.1262 376.408 Q85.2049 371.801 91.0151 371.801 Z\" fill=\"#000000\" fill-rule=\"nonzero\" fill-opacity=\"1\" /><path clip-path=\"url(#clip000)\" d=\"M53.2606 101.321 L60.8995 101.321 L60.8995 74.9555 L52.5893 76.6222 L52.5893 72.3629 L60.8532 70.6963 L65.5291 70.6963 L65.5291 101.321 L73.1679 101.321 L73.1679 105.256 L53.2606 105.256 L53.2606 101.321 Z\" fill=\"#000000\" fill-rule=\"nonzero\" fill-opacity=\"1\" /><path clip-path=\"url(#clip000)\" d=\"M86.6401 101.321 L102.959 101.321 L102.959 105.256 L81.0151 105.256 L81.0151 101.321 Q83.6771 98.5665 88.2604 93.9369 Q92.8669 89.2841 94.0475 87.9416 Q96.2928 85.4184 97.1724 83.6823 Q98.0752 81.9231 98.0752 80.2333 Q98.0752 77.4786 96.1308 75.7425 Q94.2095 74.0064 91.1077 74.0064 Q88.9086 74.0064 86.4549 74.7703 Q84.0244 75.5342 81.2466 77.0851 L81.2466 72.3629 Q84.0707 71.2287 86.5243 70.65 Q88.978 70.0713 91.0151 70.0713 Q96.3854 70.0713 99.5798 72.7565 Q102.774 75.4416 102.774 79.9323 Q102.774 82.062 101.964 83.9832 Q101.177 85.8814 99.0706 88.474 Q98.4919 89.1453 95.39 92.3628 Q92.2882 95.5573 86.6401 101.321 Z\" fill=\"#000000\" fill-rule=\"nonzero\" fill-opacity=\"1\" /><polyline clip-path=\"url(#clip002)\" style=\"stroke:#009af9; stroke-linecap:round; stroke-linejoin:round; stroke-width:4; stroke-opacity:1; fill:none\" points=\"201.614,238.841 208.413,258.446 215.211,277.97 246.643,367.196 278.074,454.714 309.506,540.524 340.937,624.624 378.715,723.446 416.493,819.799 448.434,899.339 480.374,977.114 515.071,1059.6 549.768,1140.01 565.761,1176.37 581.755,1212.29 589.752,1230.08 597.748,1247.76 605.745,1265.34 613.742,1282.8 618.029,1292.11 622.315,1297.06 626.602,1300.12 630.889,1303.14 639.462,1309.1 648.036,1314.93 665.183,1326.21 682.329,1336.98 722.062,1359.99 761.795,1380.27 797.104,1395.99 832.414,1409.57 863.377,1419.69 894.341,1428.16 928.099,1435.5 961.857,1440.88 995.816,1444.29 1029.78,1445.72 1067.32,1444.97 1104.87,1441.78 1140.59,1436.48 1176.32,1428.98 1213.46,1418.84 1250.61,1406.31 1281.87,1393.91 1313.14,1379.83 1351.32,1360.34 1389.49,1338.33 1424.46,1315.95 1459.43,1291.46 1491.73,1266.97 1524.03,1240.67 1556.74,1212.18 1589.46,1181.85 1626.13,1145.66 1662.79,1107.14 1696.02,1070.23 1729.24,1031.41 1767.29,984.613 1805.33,935.319 1840.55,887.445 1875.77,837.425 1910.5,786.011 1945.22,732.512 1978.94,678.574 2012.65,622.669 2047.22,563.32 2081.78,501.904 2119.65,432.244 2157.51,360.105 2185.02,306.153 2212.52,250.893 2240.03,194.324 2267.53,136.448 2273.17,124.413 2278.82,112.322 2284.46,100.177 2290.1,87.9763 \"/>\n",
       "</svg>\n"
      ]
     },
     "execution_count": 12,
     "metadata": {},
     "output_type": "execute_result"
    }
   ],
   "source": [
    "using Calculus, Plots\n",
    "f(x) = (x-2.0)^2 + 2.0*abs(x)\n",
    "plot(f,-1,4,lab=\"\")"
   ]
  },
  {
   "cell_type": "markdown",
   "id": "57236ef7",
   "metadata": {},
   "source": [
    "We calculate the derivative and assign the the function a name."
   ]
  },
  {
   "cell_type": "code",
   "execution_count": 13,
   "id": "299fddff",
   "metadata": {},
   "outputs": [
    {
     "data": {
      "image/svg+xml": [
       "<?xml version=\"1.0\" encoding=\"utf-8\"?>\n",
       "<svg xmlns=\"http://www.w3.org/2000/svg\" xmlns:xlink=\"http://www.w3.org/1999/xlink\" width=\"600\" height=\"400\" viewBox=\"0 0 2400 1600\">\n",
       "<defs>\n",
       "  <clipPath id=\"clip040\">\n",
       "    <rect x=\"0\" y=\"0\" width=\"2400\" height=\"1600\"/>\n",
       "  </clipPath>\n",
       "</defs>\n",
       "<path clip-path=\"url(#clip040)\" d=\"M0 1600 L2400 1600 L2400 0 L0 0  Z\" fill=\"#ffffff\" fill-rule=\"evenodd\" fill-opacity=\"1\"/>\n",
       "<defs>\n",
       "  <clipPath id=\"clip041\">\n",
       "    <rect x=\"480\" y=\"0\" width=\"1681\" height=\"1600\"/>\n",
       "  </clipPath>\n",
       "</defs>\n",
       "<path clip-path=\"url(#clip040)\" d=\"M193.936 1486.45 L2352.76 1486.45 L2352.76 47.2441 L193.936 47.2441  Z\" fill=\"#ffffff\" fill-rule=\"evenodd\" fill-opacity=\"1\"/>\n",
       "<defs>\n",
       "  <clipPath id=\"clip042\">\n",
       "    <rect x=\"193\" y=\"47\" width=\"2160\" height=\"1440\"/>\n",
       "  </clipPath>\n",
       "</defs>\n",
       "<polyline clip-path=\"url(#clip042)\" style=\"stroke:#000000; stroke-linecap:round; stroke-linejoin:round; stroke-width:2; stroke-opacity:0.1; fill:none\" points=\"255.035,1486.45 255.035,47.2441 \"/>\n",
       "<polyline clip-path=\"url(#clip042)\" style=\"stroke:#000000; stroke-linecap:round; stroke-linejoin:round; stroke-width:2; stroke-opacity:0.1; fill:none\" points=\"662.359,1486.45 662.359,47.2441 \"/>\n",
       "<polyline clip-path=\"url(#clip042)\" style=\"stroke:#000000; stroke-linecap:round; stroke-linejoin:round; stroke-width:2; stroke-opacity:0.1; fill:none\" points=\"1069.68,1486.45 1069.68,47.2441 \"/>\n",
       "<polyline clip-path=\"url(#clip042)\" style=\"stroke:#000000; stroke-linecap:round; stroke-linejoin:round; stroke-width:2; stroke-opacity:0.1; fill:none\" points=\"1477.01,1486.45 1477.01,47.2441 \"/>\n",
       "<polyline clip-path=\"url(#clip042)\" style=\"stroke:#000000; stroke-linecap:round; stroke-linejoin:round; stroke-width:2; stroke-opacity:0.1; fill:none\" points=\"1884.33,1486.45 1884.33,47.2441 \"/>\n",
       "<polyline clip-path=\"url(#clip042)\" style=\"stroke:#000000; stroke-linecap:round; stroke-linejoin:round; stroke-width:2; stroke-opacity:0.1; fill:none\" points=\"2291.66,1486.45 2291.66,47.2441 \"/>\n",
       "<polyline clip-path=\"url(#clip040)\" style=\"stroke:#000000; stroke-linecap:round; stroke-linejoin:round; stroke-width:4; stroke-opacity:1; fill:none\" points=\"193.936,1486.45 2352.76,1486.45 \"/>\n",
       "<polyline clip-path=\"url(#clip040)\" style=\"stroke:#000000; stroke-linecap:round; stroke-linejoin:round; stroke-width:4; stroke-opacity:1; fill:none\" points=\"255.035,1486.45 255.035,1467.55 \"/>\n",
       "<polyline clip-path=\"url(#clip040)\" style=\"stroke:#000000; stroke-linecap:round; stroke-linejoin:round; stroke-width:4; stroke-opacity:1; fill:none\" points=\"662.359,1486.45 662.359,1467.55 \"/>\n",
       "<polyline clip-path=\"url(#clip040)\" style=\"stroke:#000000; stroke-linecap:round; stroke-linejoin:round; stroke-width:4; stroke-opacity:1; fill:none\" points=\"1069.68,1486.45 1069.68,1467.55 \"/>\n",
       "<polyline clip-path=\"url(#clip040)\" style=\"stroke:#000000; stroke-linecap:round; stroke-linejoin:round; stroke-width:4; stroke-opacity:1; fill:none\" points=\"1477.01,1486.45 1477.01,1467.55 \"/>\n",
       "<polyline clip-path=\"url(#clip040)\" style=\"stroke:#000000; stroke-linecap:round; stroke-linejoin:round; stroke-width:4; stroke-opacity:1; fill:none\" points=\"1884.33,1486.45 1884.33,1467.55 \"/>\n",
       "<polyline clip-path=\"url(#clip040)\" style=\"stroke:#000000; stroke-linecap:round; stroke-linejoin:round; stroke-width:4; stroke-opacity:1; fill:none\" points=\"2291.66,1486.45 2291.66,1467.55 \"/>\n",
       "<path clip-path=\"url(#clip040)\" d=\"M224.792 1532.02 L254.468 1532.02 L254.468 1535.95 L224.792 1535.95 L224.792 1532.02 Z\" fill=\"#000000\" fill-rule=\"nonzero\" fill-opacity=\"1\" /><path clip-path=\"url(#clip040)\" d=\"M265.37 1544.91 L273.009 1544.91 L273.009 1518.55 L264.699 1520.21 L264.699 1515.95 L272.963 1514.29 L277.639 1514.29 L277.639 1544.91 L285.278 1544.91 L285.278 1548.85 L265.37 1548.85 L265.37 1544.91 Z\" fill=\"#000000\" fill-rule=\"nonzero\" fill-opacity=\"1\" /><path clip-path=\"url(#clip040)\" d=\"M662.359 1517.37 Q658.748 1517.37 656.919 1520.93 Q655.114 1524.47 655.114 1531.6 Q655.114 1538.71 656.919 1542.27 Q658.748 1545.82 662.359 1545.82 Q665.993 1545.82 667.799 1542.27 Q669.628 1538.71 669.628 1531.6 Q669.628 1524.47 667.799 1520.93 Q665.993 1517.37 662.359 1517.37 M662.359 1513.66 Q668.169 1513.66 671.225 1518.27 Q674.304 1522.85 674.304 1531.6 Q674.304 1540.33 671.225 1544.94 Q668.169 1549.52 662.359 1549.52 Q656.549 1549.52 653.47 1544.94 Q650.415 1540.33 650.415 1531.6 Q650.415 1522.85 653.47 1518.27 Q656.549 1513.66 662.359 1513.66 Z\" fill=\"#000000\" fill-rule=\"nonzero\" fill-opacity=\"1\" /><path clip-path=\"url(#clip040)\" d=\"M1060.07 1544.91 L1067.7 1544.91 L1067.7 1518.55 L1059.39 1520.21 L1059.39 1515.95 L1067.66 1514.29 L1072.33 1514.29 L1072.33 1544.91 L1079.97 1544.91 L1079.97 1548.85 L1060.07 1548.85 L1060.07 1544.91 Z\" fill=\"#000000\" fill-rule=\"nonzero\" fill-opacity=\"1\" /><path clip-path=\"url(#clip040)\" d=\"M1471.66 1544.91 L1487.98 1544.91 L1487.98 1548.85 L1466.04 1548.85 L1466.04 1544.91 Q1468.7 1542.16 1473.28 1537.53 Q1477.89 1532.88 1479.07 1531.53 Q1481.31 1529.01 1482.19 1527.27 Q1483.1 1525.51 1483.1 1523.82 Q1483.1 1521.07 1481.15 1519.33 Q1479.23 1517.6 1476.13 1517.6 Q1473.93 1517.6 1471.48 1518.36 Q1469.05 1519.13 1466.27 1520.68 L1466.27 1515.95 Q1469.09 1514.82 1471.55 1514.24 Q1474 1513.66 1476.04 1513.66 Q1481.41 1513.66 1484.6 1516.35 Q1487.8 1519.03 1487.8 1523.52 Q1487.8 1525.65 1486.99 1527.57 Q1486.2 1529.47 1484.09 1532.07 Q1483.51 1532.74 1480.41 1535.95 Q1477.31 1539.15 1471.66 1544.91 Z\" fill=\"#000000\" fill-rule=\"nonzero\" fill-opacity=\"1\" /><path clip-path=\"url(#clip040)\" d=\"M1888.58 1530.21 Q1891.94 1530.93 1893.81 1533.2 Q1895.71 1535.47 1895.71 1538.8 Q1895.71 1543.92 1892.19 1546.72 Q1888.67 1549.52 1882.19 1549.52 Q1880.02 1549.52 1877.7 1549.08 Q1875.41 1548.66 1872.96 1547.81 L1872.96 1543.29 Q1874.9 1544.43 1877.21 1545.01 Q1879.53 1545.58 1882.05 1545.58 Q1886.45 1545.58 1888.74 1543.85 Q1891.06 1542.11 1891.06 1538.8 Q1891.06 1535.75 1888.9 1534.03 Q1886.77 1532.3 1882.96 1532.3 L1878.93 1532.3 L1878.93 1528.45 L1883.14 1528.45 Q1886.59 1528.45 1888.42 1527.09 Q1890.25 1525.7 1890.25 1523.11 Q1890.25 1520.45 1888.35 1519.03 Q1886.47 1517.6 1882.96 1517.6 Q1881.03 1517.6 1878.84 1518.01 Q1876.64 1518.43 1874 1519.31 L1874 1515.14 Q1876.66 1514.4 1878.97 1514.03 Q1881.31 1513.66 1883.37 1513.66 Q1888.7 1513.66 1891.8 1516.09 Q1894.9 1518.5 1894.9 1522.62 Q1894.9 1525.49 1893.26 1527.48 Q1891.61 1529.45 1888.58 1530.21 Z\" fill=\"#000000\" fill-rule=\"nonzero\" fill-opacity=\"1\" /><path clip-path=\"url(#clip040)\" d=\"M2294.67 1518.36 L2282.86 1536.81 L2294.67 1536.81 L2294.67 1518.36 M2293.44 1514.29 L2299.32 1514.29 L2299.32 1536.81 L2304.25 1536.81 L2304.25 1540.7 L2299.32 1540.7 L2299.32 1548.85 L2294.67 1548.85 L2294.67 1540.7 L2279.06 1540.7 L2279.06 1536.19 L2293.44 1514.29 Z\" fill=\"#000000\" fill-rule=\"nonzero\" fill-opacity=\"1\" /><polyline clip-path=\"url(#clip042)\" style=\"stroke:#000000; stroke-linecap:round; stroke-linejoin:round; stroke-width:2; stroke-opacity:0.1; fill:none\" points=\"193.936,1397.22 2352.76,1397.22 \"/>\n",
       "<polyline clip-path=\"url(#clip042)\" style=\"stroke:#000000; stroke-linecap:round; stroke-linejoin:round; stroke-width:2; stroke-opacity:0.1; fill:none\" points=\"193.936,1154.77 2352.76,1154.77 \"/>\n",
       "<polyline clip-path=\"url(#clip042)\" style=\"stroke:#000000; stroke-linecap:round; stroke-linejoin:round; stroke-width:2; stroke-opacity:0.1; fill:none\" points=\"193.936,912.318 2352.76,912.318 \"/>\n",
       "<polyline clip-path=\"url(#clip042)\" style=\"stroke:#000000; stroke-linecap:round; stroke-linejoin:round; stroke-width:2; stroke-opacity:0.1; fill:none\" points=\"193.936,669.865 2352.76,669.865 \"/>\n",
       "<polyline clip-path=\"url(#clip042)\" style=\"stroke:#000000; stroke-linecap:round; stroke-linejoin:round; stroke-width:2; stroke-opacity:0.1; fill:none\" points=\"193.936,427.411 2352.76,427.411 \"/>\n",
       "<polyline clip-path=\"url(#clip042)\" style=\"stroke:#000000; stroke-linecap:round; stroke-linejoin:round; stroke-width:2; stroke-opacity:0.1; fill:none\" points=\"193.936,184.958 2352.76,184.958 \"/>\n",
       "<polyline clip-path=\"url(#clip040)\" style=\"stroke:#000000; stroke-linecap:round; stroke-linejoin:round; stroke-width:4; stroke-opacity:1; fill:none\" points=\"193.936,1486.45 193.936,47.2441 \"/>\n",
       "<polyline clip-path=\"url(#clip040)\" style=\"stroke:#000000; stroke-linecap:round; stroke-linejoin:round; stroke-width:4; stroke-opacity:1; fill:none\" points=\"193.936,1397.22 212.834,1397.22 \"/>\n",
       "<polyline clip-path=\"url(#clip040)\" style=\"stroke:#000000; stroke-linecap:round; stroke-linejoin:round; stroke-width:4; stroke-opacity:1; fill:none\" points=\"193.936,1154.77 212.834,1154.77 \"/>\n",
       "<polyline clip-path=\"url(#clip040)\" style=\"stroke:#000000; stroke-linecap:round; stroke-linejoin:round; stroke-width:4; stroke-opacity:1; fill:none\" points=\"193.936,912.318 212.834,912.318 \"/>\n",
       "<polyline clip-path=\"url(#clip040)\" style=\"stroke:#000000; stroke-linecap:round; stroke-linejoin:round; stroke-width:4; stroke-opacity:1; fill:none\" points=\"193.936,669.865 212.834,669.865 \"/>\n",
       "<polyline clip-path=\"url(#clip040)\" style=\"stroke:#000000; stroke-linecap:round; stroke-linejoin:round; stroke-width:4; stroke-opacity:1; fill:none\" points=\"193.936,427.411 212.834,427.411 \"/>\n",
       "<polyline clip-path=\"url(#clip040)\" style=\"stroke:#000000; stroke-linecap:round; stroke-linejoin:round; stroke-width:4; stroke-opacity:1; fill:none\" points=\"193.936,184.958 212.834,184.958 \"/>\n",
       "<path clip-path=\"url(#clip040)\" d=\"M51.9875 1397.68 L81.6633 1397.68 L81.6633 1401.61 L51.9875 1401.61 L51.9875 1397.68 Z\" fill=\"#000000\" fill-rule=\"nonzero\" fill-opacity=\"1\" /><path clip-path=\"url(#clip040)\" d=\"M90.5752 1379.94 L112.797 1379.94 L112.797 1381.94 L100.251 1414.5 L95.3669 1414.5 L107.172 1383.88 L90.5752 1383.88 L90.5752 1379.94 Z\" fill=\"#000000\" fill-rule=\"nonzero\" fill-opacity=\"1\" /><path clip-path=\"url(#clip040)\" d=\"M121.918 1408.63 L126.802 1408.63 L126.802 1414.5 L121.918 1414.5 L121.918 1408.63 Z\" fill=\"#000000\" fill-rule=\"nonzero\" fill-opacity=\"1\" /><path clip-path=\"url(#clip040)\" d=\"M137.033 1379.94 L155.39 1379.94 L155.39 1383.88 L141.316 1383.88 L141.316 1392.35 Q142.334 1392.01 143.353 1391.84 Q144.371 1391.66 145.39 1391.66 Q151.177 1391.66 154.556 1394.83 Q157.936 1398 157.936 1403.42 Q157.936 1409 154.464 1412.1 Q150.992 1415.18 144.672 1415.18 Q142.496 1415.18 140.228 1414.81 Q137.982 1414.44 135.575 1413.69 L135.575 1409 Q137.658 1410.13 139.881 1410.69 Q142.103 1411.24 144.58 1411.24 Q148.584 1411.24 150.922 1409.13 Q153.26 1407.03 153.26 1403.42 Q153.26 1399.81 150.922 1397.7 Q148.584 1395.59 144.58 1395.59 Q142.705 1395.59 140.83 1396.01 Q138.978 1396.43 137.033 1397.31 L137.033 1379.94 Z\" fill=\"#000000\" fill-rule=\"nonzero\" fill-opacity=\"1\" /><path clip-path=\"url(#clip040)\" d=\"M50.9921 1155.22 L80.6679 1155.22 L80.6679 1159.16 L50.9921 1159.16 L50.9921 1155.22 Z\" fill=\"#000000\" fill-rule=\"nonzero\" fill-opacity=\"1\" /><path clip-path=\"url(#clip040)\" d=\"M90.8067 1137.49 L109.163 1137.49 L109.163 1141.43 L95.0891 1141.43 L95.0891 1149.9 Q96.1076 1149.55 97.1261 1149.39 Q98.1447 1149.2 99.1632 1149.2 Q104.95 1149.2 108.33 1152.38 Q111.709 1155.55 111.709 1160.96 Q111.709 1166.54 108.237 1169.64 Q104.765 1172.72 98.4456 1172.72 Q96.2697 1172.72 94.0012 1172.35 Q91.7558 1171.98 89.3484 1171.24 L89.3484 1166.54 Q91.4317 1167.68 93.6539 1168.23 Q95.8761 1168.79 98.353 1168.79 Q102.358 1168.79 104.696 1166.68 Q107.033 1164.57 107.033 1160.96 Q107.033 1157.35 104.696 1155.25 Q102.358 1153.14 98.353 1153.14 Q96.478 1153.14 94.603 1153.56 Q92.7512 1153.97 90.8067 1154.85 L90.8067 1137.49 Z\" fill=\"#000000\" fill-rule=\"nonzero\" fill-opacity=\"1\" /><path clip-path=\"url(#clip040)\" d=\"M120.922 1166.17 L125.807 1166.17 L125.807 1172.05 L120.922 1172.05 L120.922 1166.17 Z\" fill=\"#000000\" fill-rule=\"nonzero\" fill-opacity=\"1\" /><path clip-path=\"url(#clip040)\" d=\"M145.992 1140.57 Q142.381 1140.57 140.552 1144.14 Q138.746 1147.68 138.746 1154.81 Q138.746 1161.91 140.552 1165.48 Q142.381 1169.02 145.992 1169.02 Q149.626 1169.02 151.431 1165.48 Q153.26 1161.91 153.26 1154.81 Q153.26 1147.68 151.431 1144.14 Q149.626 1140.57 145.992 1140.57 M145.992 1136.87 Q151.802 1136.87 154.857 1141.47 Q157.936 1146.06 157.936 1154.81 Q157.936 1163.53 154.857 1168.14 Q151.802 1172.72 145.992 1172.72 Q140.181 1172.72 137.103 1168.14 Q134.047 1163.53 134.047 1154.81 Q134.047 1146.06 137.103 1141.47 Q140.181 1136.87 145.992 1136.87 Z\" fill=\"#000000\" fill-rule=\"nonzero\" fill-opacity=\"1\" /><path clip-path=\"url(#clip040)\" d=\"M51.9875 912.769 L81.6633 912.769 L81.6633 916.705 L51.9875 916.705 L51.9875 912.769 Z\" fill=\"#000000\" fill-rule=\"nonzero\" fill-opacity=\"1\" /><path clip-path=\"url(#clip040)\" d=\"M95.7836 925.663 L112.103 925.663 L112.103 929.598 L90.1586 929.598 L90.1586 925.663 Q92.8206 922.908 97.4039 918.279 Q102.01 913.626 103.191 912.283 Q105.436 909.76 106.316 908.024 Q107.219 906.265 107.219 904.575 Q107.219 901.82 105.274 900.084 Q103.353 898.348 100.251 898.348 Q98.0521 898.348 95.5984 899.112 Q93.1678 899.876 90.3901 901.427 L90.3901 896.705 Q93.2141 895.57 95.6678 894.992 Q98.1215 894.413 100.159 894.413 Q105.529 894.413 108.723 897.098 Q111.918 899.783 111.918 904.274 Q111.918 906.404 111.108 908.325 Q110.321 910.223 108.214 912.816 Q107.635 913.487 104.534 916.705 Q101.432 919.899 95.7836 925.663 Z\" fill=\"#000000\" fill-rule=\"nonzero\" fill-opacity=\"1\" /><path clip-path=\"url(#clip040)\" d=\"M121.918 923.718 L126.802 923.718 L126.802 929.598 L121.918 929.598 L121.918 923.718 Z\" fill=\"#000000\" fill-rule=\"nonzero\" fill-opacity=\"1\" /><path clip-path=\"url(#clip040)\" d=\"M137.033 895.038 L155.39 895.038 L155.39 898.973 L141.316 898.973 L141.316 907.445 Q142.334 907.098 143.353 906.936 Q144.371 906.751 145.39 906.751 Q151.177 906.751 154.556 909.922 Q157.936 913.094 157.936 918.51 Q157.936 924.089 154.464 927.191 Q150.992 930.269 144.672 930.269 Q142.496 930.269 140.228 929.899 Q137.982 929.529 135.575 928.788 L135.575 924.089 Q137.658 925.223 139.881 925.779 Q142.103 926.334 144.58 926.334 Q148.584 926.334 150.922 924.228 Q153.26 922.121 153.26 918.51 Q153.26 914.899 150.922 912.793 Q148.584 910.686 144.58 910.686 Q142.705 910.686 140.83 911.103 Q138.978 911.519 137.033 912.399 L137.033 895.038 Z\" fill=\"#000000\" fill-rule=\"nonzero\" fill-opacity=\"1\" /><path clip-path=\"url(#clip040)\" d=\"M100.76 655.663 Q97.1493 655.663 95.3206 659.228 Q93.515 662.77 93.515 669.899 Q93.515 677.006 95.3206 680.571 Q97.1493 684.112 100.76 684.112 Q104.395 684.112 106.2 680.571 Q108.029 677.006 108.029 669.899 Q108.029 662.77 106.2 659.228 Q104.395 655.663 100.76 655.663 M100.76 651.96 Q106.571 651.96 109.626 656.566 Q112.705 661.149 112.705 669.899 Q112.705 678.626 109.626 683.233 Q106.571 687.816 100.76 687.816 Q94.9502 687.816 91.8715 683.233 Q88.816 678.626 88.816 669.899 Q88.816 661.149 91.8715 656.566 Q94.9502 651.96 100.76 651.96 Z\" fill=\"#000000\" fill-rule=\"nonzero\" fill-opacity=\"1\" /><path clip-path=\"url(#clip040)\" d=\"M120.922 681.265 L125.807 681.265 L125.807 687.145 L120.922 687.145 L120.922 681.265 Z\" fill=\"#000000\" fill-rule=\"nonzero\" fill-opacity=\"1\" /><path clip-path=\"url(#clip040)\" d=\"M145.992 655.663 Q142.381 655.663 140.552 659.228 Q138.746 662.77 138.746 669.899 Q138.746 677.006 140.552 680.571 Q142.381 684.112 145.992 684.112 Q149.626 684.112 151.431 680.571 Q153.26 677.006 153.26 669.899 Q153.26 662.77 151.431 659.228 Q149.626 655.663 145.992 655.663 M145.992 651.96 Q151.802 651.96 154.857 656.566 Q157.936 661.149 157.936 669.899 Q157.936 678.626 154.857 683.233 Q151.802 687.816 145.992 687.816 Q140.181 687.816 137.103 683.233 Q134.047 678.626 134.047 669.899 Q134.047 661.149 137.103 656.566 Q140.181 651.96 145.992 651.96 Z\" fill=\"#000000\" fill-rule=\"nonzero\" fill-opacity=\"1\" /><path clip-path=\"url(#clip040)\" d=\"M95.7836 440.756 L112.103 440.756 L112.103 444.691 L90.1586 444.691 L90.1586 440.756 Q92.8206 438.001 97.4039 433.372 Q102.01 428.719 103.191 427.376 Q105.436 424.853 106.316 423.117 Q107.219 421.358 107.219 419.668 Q107.219 416.914 105.274 415.177 Q103.353 413.441 100.251 413.441 Q98.0521 413.441 95.5984 414.205 Q93.1678 414.969 90.3901 416.52 L90.3901 411.798 Q93.2141 410.664 95.6678 410.085 Q98.1215 409.506 100.159 409.506 Q105.529 409.506 108.723 412.191 Q111.918 414.876 111.918 419.367 Q111.918 421.497 111.108 423.418 Q110.321 425.316 108.214 427.909 Q107.635 428.58 104.534 431.798 Q101.432 434.992 95.7836 440.756 Z\" fill=\"#000000\" fill-rule=\"nonzero\" fill-opacity=\"1\" /><path clip-path=\"url(#clip040)\" d=\"M121.918 438.812 L126.802 438.812 L126.802 444.691 L121.918 444.691 L121.918 438.812 Z\" fill=\"#000000\" fill-rule=\"nonzero\" fill-opacity=\"1\" /><path clip-path=\"url(#clip040)\" d=\"M137.033 410.131 L155.39 410.131 L155.39 414.066 L141.316 414.066 L141.316 422.538 Q142.334 422.191 143.353 422.029 Q144.371 421.844 145.39 421.844 Q151.177 421.844 154.556 425.015 Q157.936 428.187 157.936 433.603 Q157.936 439.182 154.464 442.284 Q150.992 445.362 144.672 445.362 Q142.496 445.362 140.228 444.992 Q137.982 444.622 135.575 443.881 L135.575 439.182 Q137.658 440.316 139.881 440.872 Q142.103 441.427 144.58 441.427 Q148.584 441.427 150.922 439.321 Q153.26 437.214 153.26 433.603 Q153.26 429.992 150.922 427.886 Q148.584 425.779 144.58 425.779 Q142.705 425.779 140.83 426.196 Q138.978 426.613 137.033 427.492 L137.033 410.131 Z\" fill=\"#000000\" fill-rule=\"nonzero\" fill-opacity=\"1\" /><path clip-path=\"url(#clip040)\" d=\"M90.8067 167.678 L109.163 167.678 L109.163 171.613 L95.0891 171.613 L95.0891 180.085 Q96.1076 179.738 97.1261 179.576 Q98.1447 179.391 99.1632 179.391 Q104.95 179.391 108.33 182.562 Q111.709 185.733 111.709 191.15 Q111.709 196.728 108.237 199.83 Q104.765 202.909 98.4456 202.909 Q96.2697 202.909 94.0012 202.539 Q91.7558 202.168 89.3484 201.427 L89.3484 196.728 Q91.4317 197.863 93.6539 198.418 Q95.8761 198.974 98.353 198.974 Q102.358 198.974 104.696 196.867 Q107.033 194.761 107.033 191.15 Q107.033 187.539 104.696 185.432 Q102.358 183.326 98.353 183.326 Q96.478 183.326 94.603 183.742 Q92.7512 184.159 90.8067 185.039 L90.8067 167.678 Z\" fill=\"#000000\" fill-rule=\"nonzero\" fill-opacity=\"1\" /><path clip-path=\"url(#clip040)\" d=\"M120.922 196.358 L125.807 196.358 L125.807 202.238 L120.922 202.238 L120.922 196.358 Z\" fill=\"#000000\" fill-rule=\"nonzero\" fill-opacity=\"1\" /><path clip-path=\"url(#clip040)\" d=\"M145.992 170.756 Q142.381 170.756 140.552 174.321 Q138.746 177.863 138.746 184.992 Q138.746 192.099 140.552 195.664 Q142.381 199.205 145.992 199.205 Q149.626 199.205 151.431 195.664 Q153.26 192.099 153.26 184.992 Q153.26 177.863 151.431 174.321 Q149.626 170.756 145.992 170.756 M145.992 167.053 Q151.802 167.053 154.857 171.659 Q157.936 176.242 157.936 184.992 Q157.936 193.719 154.857 198.326 Q151.802 202.909 145.992 202.909 Q140.181 202.909 137.103 198.326 Q134.047 193.719 134.047 184.992 Q134.047 176.242 137.103 171.659 Q140.181 167.053 145.992 167.053 Z\" fill=\"#000000\" fill-rule=\"nonzero\" fill-opacity=\"1\" /><polyline clip-path=\"url(#clip042)\" style=\"stroke:#009af9; stroke-linecap:round; stroke-linejoin:round; stroke-width:4; stroke-opacity:1; fill:none\" points=\"255.035,1445.72 268.294,1439.4 390.898,1381.02 464.577,1345.93 526.872,1316.27 560.707,1300.16 594.542,1284.05 610.139,1276.62 625.735,1269.19 633.533,1265.48 641.332,1261.77 645.231,1259.91 649.13,1258.05 653.029,1256.2 656.928,1254.34 657.973,1253.84 659.018,1253.34 660.063,1252.85 661.108,1252.35 661.631,1252.1 662.153,1251.85 662.676,863.677 663.198,863.428 663.721,863.179 664.244,862.93 664.766,862.681 665.289,862.432 667.379,861.437 669.469,860.442 671.559,859.447 673.649,858.451 682.01,854.47 690.37,850.489 707.091,842.527 723.812,834.564 762.558,816.114 801.304,797.664 870.17,764.871 930.558,736.114 996.398,704.762 1062.63,673.224 1135.86,638.354 1205.53,605.176 1277.98,570.679 1338.96,541.639 1413.41,506.185 1481.62,473.708 1544.61,443.712 1608.42,413.327 1679.93,379.274 1744.73,348.417 1818.92,313.087 1887.62,280.375 1955.34,248.125 2021.1,216.812 2088.51,184.713 2162.36,149.545 2269.65,98.4571 2291.66,87.9763 \"/>\n",
       "</svg>\n"
      ]
     },
     "execution_count": 13,
     "metadata": {},
     "output_type": "execute_result"
    }
   ],
   "source": [
    "plot(derivative(f),-1,4,lab=\"\")"
   ]
  },
  {
   "cell_type": "markdown",
   "id": "c8cfa802",
   "metadata": {},
   "source": [
    "We write the gradient descent solver that takes as input the function, its gradient, an initial value, a stepsize, and a tolerance value to determine convergence.  The block of text within triple quotes before a function definition is interpreted as Markdown for documenting the function.\n",
    "\n",
    "The function is very easy to understand, and almost looks like pseudocode."
   ]
  },
  {
   "cell_type": "code",
   "execution_count": null,
   "id": "86826672",
   "metadata": {},
   "outputs": [],
   "source": [
    "\"\"\"\n",
    "gradientDescent: Minimizer of a one-dimensional function using gradient descent\n",
    "\n",
    "- f = function to minimize (scalar arguments)   \n",
    "- ∇f = derivative of f   \n",
    "- x0 = starting value  \n",
    "- stepsize = step size for gradient descent  \n",
    "- tol = tolerance for determining convergence\n",
    "\"\"\"\n",
    "function gradientDescent( f::Function, ∇f::Function, x0::Float64, stepsize::Float64, tol::Float64)\n",
    "    change = 10.0*tol # initialize change variable\n",
    "    x1 = x0 # intialize current value\n",
    "    while( abs(change)>tol ) # repeat loop while convergence criterion unmet\n",
    "        x1 = x0 - stepsize*∇f(x0) # new value is old value in the direction of the gradient\n",
    "        change = f(x1)-f(x0) # calculate change\n",
    "        x0 = x1 # update old value\n",
    "    end\n",
    "    return x1, f(x1) # return minimizer and function value\n",
    "end"
   ]
  },
  {
   "cell_type": "code",
   "execution_count": null,
   "id": "eb8e0b48",
   "metadata": {},
   "outputs": [],
   "source": [
    "?gradientDescent"
   ]
  },
  {
   "cell_type": "markdown",
   "id": "2d7d769b",
   "metadata": {},
   "source": [
    "Now we are ready to apply this function to the LASSO like function."
   ]
  },
  {
   "cell_type": "code",
   "execution_count": null,
   "id": "e513d846",
   "metadata": {},
   "outputs": [],
   "source": [
    "gradientDescent( f , derivative(f), 1.0, 0.5, 1e-5)"
   ]
  },
  {
   "cell_type": "code",
   "execution_count": null,
   "id": "c4f67b77",
   "metadata": {},
   "outputs": [],
   "source": [
    "f(0)"
   ]
  },
  {
   "cell_type": "markdown",
   "id": "0c1ee639",
   "metadata": {},
   "source": [
    "## Pass by reference\n",
    "\n",
    "When dealing with large datasets, it is useful to avoid copying the data too much.  In Julia, arrays are passed by reference, by default.  This may take some getting used to for R or Matlab users, as the following example shows.\n",
    "\n",
    "We define an array with three values."
   ]
  },
  {
   "cell_type": "code",
   "execution_count": null,
   "id": "aefe1b3b",
   "metadata": {},
   "outputs": [],
   "source": [
    "men = [\"tom\",\"dick\",\"harry\"]"
   ]
  },
  {
   "cell_type": "markdown",
   "id": "dd3a9c9b",
   "metadata": {},
   "source": [
    "We make a copy called `horsemen`, which is just a copy of the pointer, so is still referring to the same data as `men`.\n",
    "\n",
    "The variable `footmen` holds a copy of the data into a new array."
   ]
  },
  {
   "cell_type": "code",
   "execution_count": null,
   "id": "bf3d98b6",
   "metadata": {},
   "outputs": [],
   "source": [
    "horsemen = men\n",
    "footmen = copy(men)\n",
    "hcat( men, horsemen, footmen )"
   ]
  },
  {
   "cell_type": "markdown",
   "id": "c2a4666c",
   "metadata": {},
   "source": [
    "Not let's change the name of the first element of `men`, and see what happens."
   ]
  },
  {
   "cell_type": "code",
   "execution_count": null,
   "id": "851cc259",
   "metadata": {},
   "outputs": [],
   "source": [
    "horsemen[1] = \"john\"\n",
    "hcat(men,horsemen,footmen)"
   ]
  },
  {
   "cell_type": "markdown",
   "id": "d6296e5d",
   "metadata": {},
   "source": [
    "We see that both `men` and `horsemen` have changed, but `footmen` has not (because it is a copy of the original data)."
   ]
  },
  {
   "cell_type": "markdown",
   "id": "3cb06409",
   "metadata": {},
   "source": [
    "Not copying data saves a lot of time, as the following timing example shows."
   ]
  },
  {
   "cell_type": "code",
   "execution_count": null,
   "id": "5de0d245",
   "metadata": {},
   "outputs": [],
   "source": [
    "@time x0 = randn(10000,10000);"
   ]
  },
  {
   "cell_type": "code",
   "execution_count": null,
   "id": "a9e73240",
   "metadata": {},
   "outputs": [],
   "source": [
    "@time x1 = x0; # copy pointer"
   ]
  },
  {
   "cell_type": "code",
   "execution_count": null,
   "id": "7de7e442",
   "metadata": {},
   "outputs": [],
   "source": [
    "@time x2 = copy(x0); # copy data"
   ]
  },
  {
   "cell_type": "markdown",
   "id": "4c00b54c",
   "metadata": {},
   "source": [
    "## Multiple dispatch\n",
    "\n",
    "The idea of multiple dispatch is that you can have the same function name (to the users), but depending on the type of the argument, a different underlying function will be called.  This has the advantage of presenting a unified interface to the users, and can also be used to create default functions for certain types that work generally over a type.\n",
    "\n",
    "Consider how we would simulate a 4x4 matrix of random normal variables."
   ]
  },
  {
   "cell_type": "code",
   "execution_count": null,
   "id": "ab366d4c",
   "metadata": {},
   "outputs": [],
   "source": [
    "using Distributions\n",
    "rand(Normal(),4,4)"
   ]
  },
  {
   "cell_type": "markdown",
   "id": "16a8f382",
   "metadata": {},
   "source": [
    "The same function is called to simulate a 4x4 matrix of random uniform variables.  The underlying functions are different, but are called with a unified interface.  It also helps us think in more abstract terms. The `rand` function gets random numbers and arranges them into a 4x4 array. Depending on the distribution type, it uses a different random number generation function."
   ]
  },
  {
   "cell_type": "code",
   "execution_count": null,
   "id": "12d2cd0b",
   "metadata": {},
   "outputs": [],
   "source": [
    "rand(Uniform(),4,4)"
   ]
  },
  {
   "cell_type": "markdown",
   "id": "6068f924",
   "metadata": {},
   "source": [
    "We can look at the type of `Normal()` and its supertype."
   ]
  },
  {
   "cell_type": "code",
   "execution_count": null,
   "id": "9a344d88",
   "metadata": {},
   "outputs": [],
   "source": [
    "typeof(Normal())"
   ]
  },
  {
   "cell_type": "code",
   "execution_count": null,
   "id": "2d299762",
   "metadata": {},
   "outputs": [],
   "source": [
    "supertype(Normal)"
   ]
  },
  {
   "cell_type": "markdown",
   "id": "cec1c8ef",
   "metadata": {},
   "source": [
    "We can calculate the pdf, calculate the MLE for data."
   ]
  },
  {
   "cell_type": "code",
   "execution_count": null,
   "id": "9685cc2c",
   "metadata": {},
   "outputs": [],
   "source": [
    "pdf(Normal(),0.0)"
   ]
  },
  {
   "cell_type": "code",
   "execution_count": null,
   "id": "963ec087",
   "metadata": {},
   "outputs": [],
   "source": [
    "fit_mle(Normal,rand(Normal(2.0,3.0),10000))"
   ]
  },
  {
   "cell_type": "markdown",
   "id": "b49be064",
   "metadata": {},
   "source": [
    "If we define the `+` operation among distributions to be a convolution, we can even \"add\" distributions and for distributions that are closed under convolution, this function will work automatically without extra work from us."
   ]
  },
  {
   "cell_type": "code",
   "execution_count": null,
   "id": "7737c2ac",
   "metadata": {},
   "outputs": [],
   "source": [
    "import Base.+"
   ]
  },
  {
   "cell_type": "code",
   "execution_count": null,
   "id": "0d31eeaf",
   "metadata": {},
   "outputs": [],
   "source": [
    "+(x::Distribution,y::Distribution) = convolve(x,y)"
   ]
  },
  {
   "cell_type": "code",
   "execution_count": null,
   "id": "056c5caa",
   "metadata": {},
   "outputs": [],
   "source": [
    "(Cauchy()+Cauchy()+Cauchy())/3"
   ]
  },
  {
   "cell_type": "markdown",
   "id": "cb079022",
   "metadata": {},
   "source": [
    "## Parallel and distributed computing\n",
    "\n",
    "We write a function for generating a random walk."
   ]
  },
  {
   "cell_type": "code",
   "execution_count": null,
   "id": "2a3d5309",
   "metadata": {},
   "outputs": [],
   "source": [
    "function randomwalk(n::Int64)\n",
    "    x = rand(Normal(),n)\n",
    "    return cumsum(x)/sqrt(n)\n",
    "end"
   ]
  },
  {
   "cell_type": "markdown",
   "id": "bf308665",
   "metadata": {},
   "source": [
    "It can take some time to run large random walks.  If we want to run 4 of those, it takes longer than we would like.  Since the 4 walks can be done independently, we can use distributed computing."
   ]
  },
  {
   "cell_type": "code",
   "execution_count": null,
   "id": "d16df84e",
   "metadata": {},
   "outputs": [],
   "source": [
    "@time randomwalk(10_000_000);"
   ]
  },
  {
   "cell_type": "code",
   "execution_count": null,
   "id": "30e125d4",
   "metadata": {},
   "outputs": [],
   "source": [
    "@time mapreduce(x->randomwalk(10_000_000),hcat,1:4) |> size"
   ]
  },
  {
   "cell_type": "markdown",
   "id": "15ead965",
   "metadata": {},
   "source": [
    "We check the hardware."
   ]
  },
  {
   "cell_type": "code",
   "execution_count": null,
   "id": "f53e809b",
   "metadata": {},
   "outputs": [],
   "source": [
    "using Hwloc\n",
    "Hwloc.getinfo()"
   ]
  },
  {
   "cell_type": "markdown",
   "id": "8e51b85b",
   "metadata": {},
   "source": [
    "We load the `Distributed` package, check the number of processes running, and add tweo more processes."
   ]
  },
  {
   "cell_type": "code",
   "execution_count": null,
   "id": "8fb2e634",
   "metadata": {},
   "outputs": [],
   "source": [
    "using Distributed"
   ]
  },
  {
   "cell_type": "code",
   "execution_count": null,
   "id": "f8f7dd92",
   "metadata": {},
   "outputs": [],
   "source": [
    "nprocs()"
   ]
  },
  {
   "cell_type": "code",
   "execution_count": null,
   "id": "fe1705a0",
   "metadata": {},
   "outputs": [],
   "source": [
    "addprocs(2)"
   ]
  },
  {
   "cell_type": "code",
   "execution_count": null,
   "id": "748789f0",
   "metadata": {},
   "outputs": [],
   "source": [
    "workers()"
   ]
  },
  {
   "cell_type": "markdown",
   "id": "ba777819",
   "metadata": {},
   "source": [
    "To run on different computers, we have to send the functions everywhere."
   ]
  },
  {
   "cell_type": "code",
   "execution_count": null,
   "id": "341f6599",
   "metadata": {
    "lines_to_next_cell": 2
   },
   "outputs": [],
   "source": [
    "@everywhere using Distributions, Random\n",
    "@everywhere function randomwalk(n::Int64)\n",
    "    x = rand(Normal(),n)\n",
    "    return cumsum(x)/sqrt(n)\n",
    "end"
   ]
  },
  {
   "cell_type": "markdown",
   "id": "02065f83",
   "metadata": {},
   "source": [
    "Compare the time for parallel map to a simple map."
   ]
  },
  {
   "cell_type": "code",
   "execution_count": null,
   "id": "9ab92c6d",
   "metadata": {},
   "outputs": [],
   "source": [
    "@time pmap(i->randomwalk(10_000_000),1:10);"
   ]
  },
  {
   "cell_type": "code",
   "execution_count": null,
   "id": "8ee30031",
   "metadata": {},
   "outputs": [],
   "source": [
    "@time map(i->randomwalk(10_000_000),1:10);"
   ]
  },
  {
   "cell_type": "markdown",
   "id": "f46b7b56",
   "metadata": {},
   "source": [
    "For reproducibility we will want more control over the random number generator and send the same seeds to each process as in this example below."
   ]
  },
  {
   "cell_type": "code",
   "execution_count": null,
   "id": "1fe738a3",
   "metadata": {},
   "outputs": [],
   "source": [
    "rng = MersenneTwister.(1:3);"
   ]
  },
  {
   "cell_type": "code",
   "execution_count": null,
   "id": "930f45d7",
   "metadata": {},
   "outputs": [],
   "source": [
    "pmap( r -> rand(r,Normal(),3), rng )"
   ]
  },
  {
   "cell_type": "markdown",
   "id": "9bf616ac",
   "metadata": {},
   "source": [
    "## Exercises\n",
    "\n",
    "- Find out how many cores and threads you can run on your computer.\n",
    "- Add at least two processes to your instance.\n",
    "- Generate 4 Uniform(0,1) random numbers on each thread and return the matrix; call that A\n",
    "- Calculate A(A'A)⁻¹A' (transpose matrix A, if it is not full rank)."
   ]
  }
 ],
 "metadata": {
  "jupytext": {
   "encoding": "# -*- coding: utf-8 -*-",
   "formats": "ipynb,jl:light"
  },
  "kernelspec": {
   "display_name": "Julia 1.8.5",
   "language": "julia",
   "name": "julia-1.8"
  },
  "language_info": {
   "file_extension": ".jl",
   "mimetype": "application/julia",
   "name": "julia",
   "version": "1.8.5"
  }
 },
 "nbformat": 4,
 "nbformat_minor": 5
}
