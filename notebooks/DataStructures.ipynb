{
 "cells": [
  {
   "cell_type": "markdown",
   "id": "d3490c65-0dc2-488b-aa5c-994e29c046d4",
   "metadata": {},
   "source": [
    "# Data Structures in Julia\n",
    "___\n",
    "\n",
    "**Gregory Farage, Śaunak Sen**    \n",
    "\n",
    "    gfarage@uthsc.edu / sen@uthsc.edu\n",
    "    Division of Biostatistics\n",
    "    Department of Preventive Medicine\n",
    "    University of Tennessee Health Science Center\n",
    "    Memphis, TN\n",
    "\n",
    "Julia has a rich collection of built-in data structures that make it easy to handle and manipulate data in various formats.\n",
    "In this tutorial, we will explore four of the most commonly used data structures in Julia: \n",
    "* Arrays\n",
    "* Tuples\n",
    "* Named Tuples\n",
    "* Dictionaries\n",
    "\n",
    "We will cover how to create, access, and modify each data structure.\n",
    "\n",
    "*References for this notebook:*\n",
    "* [Julia language: a concise tutorial - Data Type](https://syl1.gitbook.io/julia-language-a-concise-tutorial/language-core/data-types)\n",
    "* [MIT lectures](https://github.com/mitmath/18S096)\n",
    "* [Excelling at Julia Basics and Beyond (Huda Nassar, Jane Herriman)](https://github.com/xorJane/Excelling-at-Julia-Basics-and-Beyond)\n",
    "* [wikibooks - Introducing Julia/Arrays and tuples](https://en.wikibooks.org/wiki/Introducing_Julia/Arrays_and_tuples)"
   ]
  },
  {
   "cell_type": "markdown",
   "id": "68211e17-0fa4-43ed-81fa-c484f301fd42",
   "metadata": {
    "slideshow": {
     "slide_type": "subslide"
    }
   },
   "source": [
    "### Outline of this notebook\n",
    "\n",
    "- Arrays\n",
    "- Tuples \n",
    "- Named Tuples\n",
    "- Dictionaries "
   ]
  },
  {
   "cell_type": "markdown",
   "id": "4f6b3df9-96f3-45f5-9375-af0020f5df15",
   "metadata": {},
   "source": [
    "## Arrays\n",
    "An array is a collection of elements of the same type, arranged in one or more dimensions. Arrays can be used to represent matrices, vectors, tables, and other data structures."
   ]
  },
  {
   "cell_type": "markdown",
   "id": "748092ab-001f-4677-a5e5-7705d85a1586",
   "metadata": {},
   "source": [
    "### Creating Arrays\n",
    "We can create an array in Julia using the Array constructor or the `[ ]` syntax. For example, let's create an array of integers:"
   ]
  },
  {
   "cell_type": "code",
   "execution_count": 22,
   "id": "722b5638-4959-437f-a28b-3866f42f7ace",
   "metadata": {},
   "outputs": [
    {
     "data": {
      "text/plain": [
       "Any[]"
      ]
     },
     "execution_count": 22,
     "metadata": {},
     "output_type": "execute_result"
    }
   ],
   "source": [
    "arr = []"
   ]
  },
  {
   "cell_type": "markdown",
   "id": "fbdbcb6d-f27c-4a7f-875a-9a7d3096844c",
   "metadata": {},
   "source": [
    "We can also create an array with initial values by specifying them inside the square brackets:"
   ]
  },
  {
   "cell_type": "code",
   "execution_count": 23,
   "id": "affe522d-2233-44e0-bcdd-5dba52c31a5a",
   "metadata": {},
   "outputs": [
    {
     "data": {
      "text/plain": [
       "5-element Vector{Int64}:\n",
       " 1\n",
       " 2\n",
       " 3\n",
       " 4\n",
       " 5"
      ]
     },
     "execution_count": 23,
     "metadata": {},
     "output_type": "execute_result"
    }
   ],
   "source": [
    "arr = [1, 2, 3, 4, 5]"
   ]
  },
  {
   "cell_type": "markdown",
   "id": "b53253db-ee7a-4b7b-a9fa-f48f7ce02d7b",
   "metadata": {},
   "source": [
    "In this case, the array arr has five elements with values 1, 2, 3, 4, and 5.   \n",
    "An array of one dimension is also called `Vector`."
   ]
  },
  {
   "cell_type": "code",
   "execution_count": 30,
   "id": "c741b759-3fe1-4acf-82ce-f6721e8825a9",
   "metadata": {},
   "outputs": [
    {
     "data": {
      "text/plain": [
       "Vector{Int64}\u001b[90m (alias for \u001b[39m\u001b[90mArray{Int64, 1}\u001b[39m\u001b[90m)\u001b[39m"
      ]
     },
     "execution_count": 30,
     "metadata": {},
     "output_type": "execute_result"
    }
   ],
   "source": [
    "typeof(arr)"
   ]
  },
  {
   "cell_type": "markdown",
   "id": "e715d490-b4c5-4f16-9ffd-15351d98cdb7",
   "metadata": {},
   "source": [
    "We note that `typeof(arr)` returned:\n",
    "* the type of our data structure: `Array`\n",
    "* the type of each element: `Int64`\n",
    "* the dimension of our array: `1`."
   ]
  },
  {
   "cell_type": "markdown",
   "id": "a09a528a-35ba-4414-a7c4-211dbf5c8610",
   "metadata": {},
   "source": [
    "Let's create a 2-dimensional (2x4) array by hand: "
   ]
  },
  {
   "cell_type": "code",
   "execution_count": 163,
   "id": "3e2e5686-0292-46c1-8164-2b65886c3b35",
   "metadata": {},
   "outputs": [
    {
     "data": {
      "text/plain": [
       "2×4 Matrix{Int64}:\n",
       " 1  2  3  4\n",
       " 5  6  7  8"
      ]
     },
     "execution_count": 163,
     "metadata": {},
     "output_type": "execute_result"
    }
   ],
   "source": [
    "arr2 = [1 2 3 4;5 6 7 8]"
   ]
  },
  {
   "cell_type": "markdown",
   "id": "55e33032-67bc-4588-8ed4-0a8dfe957ad8",
   "metadata": {},
   "source": [
    "We can also create arrays of specific sizes filled up with zeros or ones by using the `zeros()` or `ones()` functions:"
   ]
  },
  {
   "cell_type": "code",
   "execution_count": 27,
   "id": "ad5ed664-7ec5-4cf4-9702-bc67381a2cbb",
   "metadata": {},
   "outputs": [
    {
     "data": {
      "text/plain": [
       "3×3 Matrix{Float64}:\n",
       " 0.0  0.0  0.0\n",
       " 0.0  0.0  0.0\n",
       " 0.0  0.0  0.0"
      ]
     },
     "execution_count": 27,
     "metadata": {},
     "output_type": "execute_result"
    }
   ],
   "source": [
    "arr_0s = zeros(3, 3)"
   ]
  },
  {
   "cell_type": "code",
   "execution_count": 28,
   "id": "b83b4db6-7025-4b88-b843-add12873653d",
   "metadata": {},
   "outputs": [
    {
     "data": {
      "text/plain": [
       "2×7 Matrix{Float64}:\n",
       " 1.0  1.0  1.0  1.0  1.0  1.0  1.0\n",
       " 1.0  1.0  1.0  1.0  1.0  1.0  1.0"
      ]
     },
     "execution_count": 28,
     "metadata": {},
     "output_type": "execute_result"
    }
   ],
   "source": [
    "arr_1s = ones(2, 7)"
   ]
  },
  {
   "cell_type": "markdown",
   "id": "8fd4c435-7578-4114-b9c7-86b6a14052a9",
   "metadata": {},
   "source": [
    "In these examples, zeros_array is a 3x3 array of zeros and ones_array is a 2x7 array of ones. Arrays of 2-dimensions are called `Matrix`."
   ]
  },
  {
   "cell_type": "code",
   "execution_count": 31,
   "id": "f02f1232-3623-42a4-9c6e-9da9f082e982",
   "metadata": {},
   "outputs": [
    {
     "data": {
      "text/plain": [
       "Matrix{Float64}\u001b[90m (alias for \u001b[39m\u001b[90mArray{Float64, 2}\u001b[39m\u001b[90m)\u001b[39m"
      ]
     },
     "execution_count": 31,
     "metadata": {},
     "output_type": "execute_result"
    }
   ],
   "source": [
    "typeof(arr_1s)"
   ]
  },
  {
   "cell_type": "markdown",
   "id": "abdaedb5-b5ba-4ca8-bbaa-a3cb21ab01f0",
   "metadata": {},
   "source": [
    "The `rand()` function provides a different way to generate a vector or a matrix:"
   ]
  },
  {
   "cell_type": "code",
   "execution_count": 7,
   "id": "45e8eebb-6f45-4868-b175-392fe103e4ba",
   "metadata": {},
   "outputs": [
    {
     "data": {
      "text/plain": [
       "10-element Vector{Float64}:\n",
       " 0.5786723221241187\n",
       " 0.7079998023661394\n",
       " 0.05067179599606564\n",
       " 0.6231486254402397\n",
       " 0.07074222710684275\n",
       " 0.9655540435930666\n",
       " 0.3588996506023684\n",
       " 0.48358150017655843\n",
       " 0.6198541145946439\n",
       " 0.17061285104748902"
      ]
     },
     "execution_count": 7,
     "metadata": {},
     "output_type": "execute_result"
    }
   ],
   "source": [
    "rand(10) # will create a vector of length 10"
   ]
  },
  {
   "cell_type": "code",
   "execution_count": 6,
   "id": "754665d0-fceb-4572-b8b0-67daddeae21c",
   "metadata": {},
   "outputs": [
    {
     "data": {
      "text/plain": [
       "3×3 Matrix{Float64}:\n",
       " 0.672027  0.717172  0.468574\n",
       " 0.887255  0.736471  0.117355\n",
       " 0.797939  0.755613  0.266292"
      ]
     },
     "execution_count": 6,
     "metadata": {},
     "output_type": "execute_result"
    }
   ],
   "source": [
    "rand(3, 3) # will create a 3-by-3 matrix"
   ]
  },
  {
   "cell_type": "markdown",
   "id": "401f87d1-8a16-4106-a999-68ca935e48f9",
   "metadata": {},
   "source": [
    "### Indexing Arrays\n",
    "We can access individual elements of an array using indexing. In Julia, indexing starts at 1 (unlike some other programming languages, **e.g.** Python, where it starts at 0)."
   ]
  },
  {
   "cell_type": "code",
   "execution_count": 60,
   "id": "c84c1a13-0988-4e80-bb23-e397706ffec3",
   "metadata": {},
   "outputs": [
    {
     "data": {
      "text/plain": [
       "7-element Vector{Char}:\n",
       " 'A': ASCII/Unicode U+0041 (category Lu: Letter, uppercase)\n",
       " 'B': ASCII/Unicode U+0042 (category Lu: Letter, uppercase)\n",
       " 'C': ASCII/Unicode U+0043 (category Lu: Letter, uppercase)\n",
       " 'D': ASCII/Unicode U+0044 (category Lu: Letter, uppercase)\n",
       " 'E': ASCII/Unicode U+0045 (category Lu: Letter, uppercase)\n",
       " 'F': ASCII/Unicode U+0046 (category Lu: Letter, uppercase)\n",
       " 'G': ASCII/Unicode U+0047 (category Lu: Letter, uppercase)"
      ]
     },
     "execution_count": 60,
     "metadata": {},
     "output_type": "execute_result"
    }
   ],
   "source": [
    "vect = collect('A':'G')"
   ]
  },
  {
   "cell_type": "code",
   "execution_count": 61,
   "id": "739eaf70-1237-4fe5-9d5e-6b61bb3ee153",
   "metadata": {},
   "outputs": [
    {
     "name": "stdout",
     "output_type": "stream",
     "text": [
      "A\n",
      "C\n"
     ]
    }
   ],
   "source": [
    "println(vect[1]) # prints A\n",
    "println(vect[3]) # prints C"
   ]
  },
  {
   "cell_type": "markdown",
   "id": "7e8cca5e-437c-4d9a-96a6-96699ddc2204",
   "metadata": {},
   "source": [
    "We can also use slicing to access a range of elements in an array:"
   ]
  },
  {
   "cell_type": "code",
   "execution_count": 62,
   "id": "3a64f2aa-349c-491a-b1bd-66760d4b359b",
   "metadata": {},
   "outputs": [
    {
     "name": "stdout",
     "output_type": "stream",
     "text": [
      "['E', 'F', 'G']\n"
     ]
    }
   ],
   "source": [
    "println(vect[5:7]) # prints ['E', 'F', 'G']"
   ]
  },
  {
   "cell_type": "markdown",
   "id": "16602082-079d-4091-b7a2-54ba499d6cbe",
   "metadata": {},
   "source": [
    "We can also append elements to an array using the `push!()` function:"
   ]
  },
  {
   "cell_type": "code",
   "execution_count": 64,
   "id": "9d760db0-8ade-4091-9760-bcff1a0e5088",
   "metadata": {},
   "outputs": [
    {
     "name": "stdout",
     "output_type": "stream",
     "text": [
      "['A', 'B', 'C', 'D', 'E', 'F', 'G', 'H', 'H']\n"
     ]
    }
   ],
   "source": [
    "push!(vect, 'H')\n",
    "println(vect) # prints ['A', 'B', 'C', 'D', 'E', 'F', 'G', 'H']"
   ]
  },
  {
   "cell_type": "markdown",
   "id": "f78df4ca-2507-4d98-8fa2-422cab87636d",
   "metadata": {},
   "source": [
    "### Broadcasting across arrays\n",
    "Broadcasting is a way of applying an operation to each element of an array or collection, without explicitly writing a loop.   \n",
    "For example, let's say we have two matrix `mat1` and `mat2`:"
   ]
  },
  {
   "cell_type": "code",
   "execution_count": 202,
   "id": "951f4772-2f0d-4985-8b8f-1781b6cdd54f",
   "metadata": {},
   "outputs": [
    {
     "data": {
      "text/plain": [
       "2×2 Matrix{Int64}:\n",
       " 1  2\n",
       " 3  4"
      ]
     },
     "execution_count": 202,
     "metadata": {},
     "output_type": "execute_result"
    }
   ],
   "source": [
    "mat1 = [1  2; 3 4]"
   ]
  },
  {
   "cell_type": "code",
   "execution_count": 203,
   "id": "2c2dfc4a-c986-42de-9c9f-0ed231295343",
   "metadata": {},
   "outputs": [
    {
     "data": {
      "text/plain": [
       "2×2 Matrix{Int64}:\n",
       " 0  3\n",
       " 3  0"
      ]
     },
     "execution_count": 203,
     "metadata": {},
     "output_type": "execute_result"
    }
   ],
   "source": [
    "mat2 = [0 3; 3 0]"
   ]
  },
  {
   "cell_type": "markdown",
   "id": "0d81c12a-bc56-4907-b37f-97a0feb29ff2",
   "metadata": {},
   "source": [
    "If we want to multiply the elements of mat1 and mat2 together, we can use broadcasting with the dot `.` operator:"
   ]
  },
  {
   "cell_type": "code",
   "execution_count": 205,
   "id": "cb5694b0-4e61-4fc4-b927-5064d494f120",
   "metadata": {},
   "outputs": [
    {
     "data": {
      "text/plain": [
       "2×2 Matrix{Int64}:\n",
       " 0  6\n",
       " 9  0"
      ]
     },
     "execution_count": 205,
     "metadata": {},
     "output_type": "execute_result"
    }
   ],
   "source": [
    "mat1 .* mat2"
   ]
  },
  {
   "cell_type": "markdown",
   "id": "364e9f64-8a7f-4f41-a215-17378a8d51be",
   "metadata": {},
   "source": [
    "We can also use broadcasting with user-defined functions. To enable broadcasting for a function, we insert the `. operator` between the function name and its arguments.  \n",
    "As an example, let's apply the cosine funtion to each element of `mat2` and add 2:"
   ]
  },
  {
   "cell_type": "code",
   "execution_count": 214,
   "id": "d6ed19b8-67ed-468b-913e-85a73c3962f1",
   "metadata": {},
   "outputs": [
    {
     "data": {
      "text/plain": [
       "2×2 Matrix{Float64}:\n",
       " 3.0      1.01001\n",
       " 1.01001  3.0"
      ]
     },
     "execution_count": 214,
     "metadata": {},
     "output_type": "execute_result"
    }
   ],
   "source": [
    "cos.(mat2) .+ 2"
   ]
  },
  {
   "cell_type": "markdown",
   "id": "17ab7c1b-239e-42a2-85de-06388877c1b1",
   "metadata": {},
   "source": [
    "### Useful Array Functions\n",
    "\n",
    "There are many useful functions that we can use with arrays in Julia. Here are some examples:\n",
    "\n",
    "* length(arr): returns the length of the array\n",
    "* size(arr): returns the length of each dimension the array\n",
    "* reverse(arr): returns the array in reverse order\n",
    "* sort(arr): sorts the array in ascending order\n",
    "* sum(arr): returns the sum of the elements in the array"
   ]
  },
  {
   "cell_type": "markdown",
   "id": "4f651fbf-ee39-4eed-9124-e14317f81a9a",
   "metadata": {},
   "source": [
    "**Note: what is the type of the following array?**\n",
    "```julia\n",
    "vec_new = [1, 2, 3, \"A\", \"B\", \"C\"]\n",
    "```"
   ]
  },
  {
   "cell_type": "markdown",
   "id": "f32949f2-5f8a-4446-9b17-d4c2b9b8af41",
   "metadata": {},
   "source": [
    "## Tuples\n",
    "\n",
    "A tuple is a collection of elements that can be of different types and different size.   \n",
    "Unlike arrays, tuples are immutable, meaning that their elements cannot be changed after they are created.    "
   ]
  },
  {
   "cell_type": "markdown",
   "id": "a0e439ee-0d48-4148-817d-ff51e2e8c360",
   "metadata": {},
   "source": [
    "### Creating Tuples\n",
    "\n",
    "To create an empty tuple, we can use the `()` operator with no arguments:"
   ]
  },
  {
   "cell_type": "code",
   "execution_count": 66,
   "id": "cc36e82d-ac6a-4cac-aa5f-6fd3f2813b73",
   "metadata": {},
   "outputs": [
    {
     "data": {
      "text/plain": [
       "()"
      ]
     },
     "execution_count": 66,
     "metadata": {},
     "output_type": "execute_result"
    }
   ],
   "source": [
    "tpl = ()"
   ]
  },
  {
   "cell_type": "markdown",
   "id": "a821976e-651c-456d-a6ed-b7e725daaf2d",
   "metadata": {},
   "source": [
    "To create a tuple with initial values, we specify them inside the parentheses:"
   ]
  },
  {
   "cell_type": "code",
   "execution_count": 68,
   "id": "b03786e5-d095-4106-b6d6-70683b89e58d",
   "metadata": {},
   "outputs": [
    {
     "data": {
      "text/plain": [
       "([1, 2, 3], \"hello\", 3.14)"
      ]
     },
     "execution_count": 68,
     "metadata": {},
     "output_type": "execute_result"
    }
   ],
   "source": [
    "tpl = ([1, 2, 3], \"hello\", 3.14)"
   ]
  },
  {
   "cell_type": "markdown",
   "id": "96ee0a20-c1e9-4cb3-bed2-f312971e2cc0",
   "metadata": {},
   "source": [
    "In this example, we create a tuple of an array of integers, a string, and a floating-point number."
   ]
  },
  {
   "cell_type": "markdown",
   "id": "be18bc7d-fb2f-4414-9350-637e211c7832",
   "metadata": {},
   "source": [
    "We can also convert a vector into a Tuple with the `Tuple()` constructor:"
   ]
  },
  {
   "cell_type": "code",
   "execution_count": 189,
   "id": "4e081df5-8656-476d-a0b4-bf70e75b76d6",
   "metadata": {},
   "outputs": [
    {
     "data": {
      "text/plain": [
       "(1, 2, 3)"
      ]
     },
     "execution_count": 189,
     "metadata": {},
     "output_type": "execute_result"
    }
   ],
   "source": [
    "v = [1,2,3]\n",
    "Tuple(v)"
   ]
  },
  {
   "cell_type": "markdown",
   "id": "486b9066-0027-4ed1-89c5-107b1c90dcf2",
   "metadata": {},
   "source": [
    "### Accessing Elements\n",
    "\n",
    "We can access elements in a tuple using indexing. The index of the first element in a tuple is always `1`.    \n",
    "For example, to access the first element of the tuple t we created earlier, we can use the following code:"
   ]
  },
  {
   "cell_type": "code",
   "execution_count": 70,
   "id": "97796a1d-7db6-443d-ac0e-000433d0fa5d",
   "metadata": {},
   "outputs": [
    {
     "data": {
      "text/plain": [
       "3-element Vector{Int64}:\n",
       " 1\n",
       " 2\n",
       " 3"
      ]
     },
     "execution_count": 70,
     "metadata": {},
     "output_type": "execute_result"
    }
   ],
   "source": [
    "tpl[1] # returns [1, 2, 3]"
   ]
  },
  {
   "cell_type": "markdown",
   "id": "42c3c1a6-2784-4c7d-8b8e-abf49742a5ad",
   "metadata": {},
   "source": [
    "### Operations on Tuples\n",
    "\n",
    "Tuples support a variety of operations, including indexing, concatenation, and iteration.\n",
    "For example, let's concatenate two tuples:"
   ]
  },
  {
   "cell_type": "code",
   "execution_count": 84,
   "id": "52752a8c-08cf-4072-ba20-11348f5735e5",
   "metadata": {},
   "outputs": [
    {
     "data": {
      "text/plain": [
       "(([1, 2], \"A\", \"B\"), (3.0, 5.0))"
      ]
     },
     "execution_count": 84,
     "metadata": {},
     "output_type": "execute_result"
    }
   ],
   "source": [
    "tpl1 = ([1, 2], \"A\", \"B\")\n",
    "tpl2 = (3.0, 5.0)\n",
    "tpl3 = (tpl1, tpl2) # try using splat operator ..."
   ]
  },
  {
   "cell_type": "markdown",
   "id": "4f327e65-a634-48eb-a53b-c74825f5bbe0",
   "metadata": {},
   "source": [
    "This creates a new tuple `tpl3` containing the tuples elements `tpl1` and `tpl2`."
   ]
  },
  {
   "cell_type": "markdown",
   "id": "9fe0575f-b01a-4566-ac83-0a1c688cc6b3",
   "metadata": {},
   "source": [
    "We can iterate over the elements of a tuple using a for loop. For example, let's iterate over the elements of a tuple:"
   ]
  },
  {
   "cell_type": "code",
   "execution_count": 85,
   "id": "e6b837c9-65f0-4054-9bc2-a850e294eaab",
   "metadata": {},
   "outputs": [
    {
     "name": "stdout",
     "output_type": "stream",
     "text": [
      "[1, 2, 3]\n",
      "hello\n",
      "3.14\n"
     ]
    }
   ],
   "source": [
    "for x in tpl\n",
    "    println(x)\n",
    "end"
   ]
  },
  {
   "cell_type": "markdown",
   "id": "5373e6f5-46bf-437c-aee0-c70c3a3d0e80",
   "metadata": {},
   "source": [
    "## Named Tuples in Julia\n",
    "\n",
    "Named tuples are a data structure in Julia that combine the features of tuples and dictionaries. Like tuples, they are immutable and ordered, but they also have named fields like dictionaries. This makes them a convenient way to store and access structured data."
   ]
  },
  {
   "cell_type": "markdown",
   "id": "cb02b390-e029-4609-8fdb-5fae18384fb5",
   "metadata": {},
   "source": [
    "### Creating a Named Tuple"
   ]
  },
  {
   "cell_type": "markdown",
   "id": "2f13bdde-a81d-4390-aae5-796105240a1c",
   "metadata": {},
   "source": [
    "Named Tuples are similar to Tuples, but with the added feature of assigning a name to each element. To create a named tuple, the syntax involves using the `=` operator within the Tuple.For example, we can create a named tuple that represents the geographical coordinate of a location like this:"
   ]
  },
  {
   "cell_type": "code",
   "execution_count": 91,
   "id": "f7eba742-09ef-46db-bf26-1c7c3b022103",
   "metadata": {},
   "outputs": [
    {
     "data": {
      "text/plain": [
       "(latitude = 36.1627, longitude = -86.7816)"
      ]
     },
     "execution_count": 91,
     "metadata": {},
     "output_type": "execute_result"
    }
   ],
   "source": [
    "coor_Nashville = (latitude = 36.1627, longitude = -86.7816)"
   ]
  },
  {
   "cell_type": "markdown",
   "id": "2a45a224-1044-49c8-a9d3-0ce777a78d98",
   "metadata": {},
   "source": [
    "This creates a named tuple `coor_Nashville` with two fields `latitude` and `longitude`, and assigns them the values 36.1627 and 36.1627, -86.7816, respectively.    \n",
    "We can also create a named tuple using the `NamedTuple` constructor:"
   ]
  },
  {
   "cell_type": "code",
   "execution_count": 92,
   "id": "e14d6ec9-305a-496d-b8f0-dd57af330fe6",
   "metadata": {},
   "outputs": [
    {
     "data": {
      "text/plain": [
       "(latitude = 36.1627, longitude = -86.7816)"
      ]
     },
     "execution_count": 92,
     "metadata": {},
     "output_type": "execute_result"
    }
   ],
   "source": [
    "coor_Nashville = NamedTuple{(:latitude, :longitude)}((36.1627, -86.7816))"
   ]
  },
  {
   "cell_type": "markdown",
   "id": "c9e8853d-fcb5-4a4a-8a6b-f1938abf0a3d",
   "metadata": {},
   "source": [
    "This is equivalent to the previous example."
   ]
  },
  {
   "cell_type": "markdown",
   "id": "fc244d6f-9fe0-4de2-b34c-6b6f868028ca",
   "metadata": {},
   "source": [
    "### Accessing Fields in a Named Tuple\n",
    "\n",
    "We can access the fields in a named tuple using dot `.` notation. For example, to get the value of the `latitude` field in `corr_Nashville`, we can use:"
   ]
  },
  {
   "cell_type": "code",
   "execution_count": 94,
   "id": "6d7f7183-4632-4561-921a-89cb84ecde56",
   "metadata": {},
   "outputs": [
    {
     "data": {
      "text/plain": [
       "36.1627"
      ]
     },
     "execution_count": 94,
     "metadata": {},
     "output_type": "execute_result"
    }
   ],
   "source": [
    "coor_Nashville.latitude"
   ]
  },
  {
   "cell_type": "markdown",
   "id": "27a9e69a-d3ee-46f0-9acf-605c60b52c20",
   "metadata": {},
   "source": [
    "We can also access the fields using square bracket notation, like tuples:"
   ]
  },
  {
   "cell_type": "code",
   "execution_count": 95,
   "id": "0643e1e3-7203-4b6e-b024-3c52873d6e93",
   "metadata": {},
   "outputs": [
    {
     "data": {
      "text/plain": [
       "36.1627"
      ]
     },
     "execution_count": 95,
     "metadata": {},
     "output_type": "execute_result"
    }
   ],
   "source": [
    "coor_Nashville[1]"
   ]
  },
  {
   "cell_type": "markdown",
   "id": "3fc11492-2bed-47b4-865d-c20d4a10ba18",
   "metadata": {},
   "source": [
    "### Converting Named Tuples to Other Types\n",
    "We can convert a named tuple to a dictionary using the `Dict()` function with the `pairs()` function:"
   ]
  },
  {
   "cell_type": "code",
   "execution_count": 105,
   "id": "4575b9a0-f4df-409b-b91e-0a0d3c782864",
   "metadata": {},
   "outputs": [
    {
     "data": {
      "text/plain": [
       "Dict{Symbol, Float64} with 2 entries:\n",
       "  :longitude => -86.7816\n",
       "  :latitude  => 36.1627"
      ]
     },
     "execution_count": 105,
     "metadata": {},
     "output_type": "execute_result"
    }
   ],
   "source": [
    "coor_Nashville_dict = coor_Nashville |> pairs |> Dict"
   ]
  },
  {
   "cell_type": "markdown",
   "id": "d87bcd10-472e-416b-b5c8-069bf48a86e1",
   "metadata": {},
   "source": [
    "This creates a dictionary `coor_Nashville_dict` with the fields and values of `coor_Nashville`."
   ]
  },
  {
   "cell_type": "markdown",
   "id": "72eb7967-8c0d-40cf-9286-e776e015e0a7",
   "metadata": {},
   "source": [
    "We can also convert a named tuple to a regular tuple using the Tuple function:"
   ]
  },
  {
   "cell_type": "code",
   "execution_count": 106,
   "id": "a10317e9-f6df-4c71-883a-06a85daee371",
   "metadata": {},
   "outputs": [
    {
     "data": {
      "text/plain": [
       "(36.1627, -86.7816)"
      ]
     },
     "execution_count": 106,
     "metadata": {},
     "output_type": "execute_result"
    }
   ],
   "source": [
    "coor_Nashville_tuple = Tuple(coor_Nashville)"
   ]
  },
  {
   "cell_type": "markdown",
   "id": "9481cf72-fe76-4aa8-919a-3cd20d9b6cce",
   "metadata": {},
   "source": [
    "## Dictionaries\n",
    "\n",
    "Dictionaries are collections of key-value pairs. Each key is associated with a value, and we can use the key to retrieve the corresponding value. Dictionaries are also known as associative arrays."
   ]
  },
  {
   "cell_type": "markdown",
   "id": "4c829acc-428b-428b-93bb-cb8d7916ed0b",
   "metadata": {},
   "source": [
    "### Creating Dictionaries\n",
    "\n",
    "We can create a dictionary in Julia using the `Dict()` constructor or the `[ ]` syntax. For example, let's create a dictionary of names and ages:"
   ]
  },
  {
   "cell_type": "code",
   "execution_count": 150,
   "id": "9b76a32b-20ef-4968-9007-eef61458ce9d",
   "metadata": {},
   "outputs": [
    {
     "data": {
      "text/plain": [
       "Dict{String, Int64} with 4 entries:\n",
       "  \"Alice\"   => 25\n",
       "  \"Charlie\" => 40\n",
       "  \"Bob\"     => 30\n",
       "  \"Eve\"     => 35"
      ]
     },
     "execution_count": 150,
     "metadata": {},
     "output_type": "execute_result"
    }
   ],
   "source": [
    "ages_dict = Dict(\"Alice\" => 25, \"Bob\" => 30, \"Charlie\" => 40, \"Eve\" => 35)"
   ]
  },
  {
   "cell_type": "code",
   "execution_count": 146,
   "id": "82c17473-bb9c-4e0a-aeb7-aec6f4155acd",
   "metadata": {},
   "outputs": [
    {
     "data": {
      "text/plain": [
       "Dict{String, Int64} with 4 entries:\n",
       "  \"Alice\"   => 25\n",
       "  \"Charlie\" => 40\n",
       "  \"Bob\"     => 30\n",
       "  \"Eve\"     => 35"
      ]
     },
     "execution_count": 146,
     "metadata": {},
     "output_type": "execute_result"
    }
   ],
   "source": [
    "ages2_dict = Dict(\"Alice\" => 25, \"Bob\" => 30, \"Charlie\" => 40, \"Eve\" => 35)"
   ]
  },
  {
   "cell_type": "markdown",
   "id": "99232f4d-1d15-45d0-b01c-301a96607a75",
   "metadata": {},
   "source": [
    "We can observe that dictionnaries do not preserve order."
   ]
  },
  {
   "cell_type": "markdown",
   "id": "d5d7d584-7f73-4c94-850f-4ed81457f94d",
   "metadata": {},
   "source": [
    "*Notes: FYI [the story of Alice and Bob](https://en.wikipedia.org/wiki/Alice_and_Bob#:~:text=For%20example%2C%20%22How%20can%20Bob,a%20public%2Dkey%20cryptosystem%3F%22)*"
   ]
  },
  {
   "cell_type": "markdown",
   "id": "669a51e7-24bf-481d-b183-6489fd49d2e0",
   "metadata": {},
   "source": [
    "### Accessing Elements\n",
    "\n",
    "We can access elements in a dictionary using the keys. For example, to access the age of Alice in the dictionary `ages_dict`, we can use the following code:"
   ]
  },
  {
   "cell_type": "code",
   "execution_count": 135,
   "id": "233449e4-cb62-4fd2-b870-c2fff80937c1",
   "metadata": {},
   "outputs": [
    {
     "data": {
      "text/plain": [
       "25"
      ]
     },
     "execution_count": 135,
     "metadata": {},
     "output_type": "execute_result"
    }
   ],
   "source": [
    "ages_dict[\"Alice\"] "
   ]
  },
  {
   "cell_type": "markdown",
   "id": "cd7f96bb-d6eb-44e7-81fd-989e9c4dae93",
   "metadata": {},
   "source": [
    "We can also use the function `get()` which requires a default value to return in case a key is not found in the dictionary:"
   ]
  },
  {
   "cell_type": "code",
   "execution_count": 136,
   "id": "5adc8671-1581-49f9-9749-dd78f7c73848",
   "metadata": {},
   "outputs": [
    {
     "data": {
      "text/plain": [
       "30"
      ]
     },
     "execution_count": 136,
     "metadata": {},
     "output_type": "execute_result"
    }
   ],
   "source": [
    "get(ages_dict, \"Bob\", \"key does not exist!!!\")"
   ]
  },
  {
   "cell_type": "code",
   "execution_count": 137,
   "id": "c8bea291-8b8d-4c7f-9b71-1c09ca6877d1",
   "metadata": {},
   "outputs": [
    {
     "data": {
      "text/plain": [
       "\"Key does not exist!!!\""
      ]
     },
     "execution_count": 137,
     "metadata": {},
     "output_type": "execute_result"
    }
   ],
   "source": [
    "get(ages_dict, \"Mallory\", \"Key does not exist!!!\")"
   ]
  },
  {
   "cell_type": "markdown",
   "id": "ff071942-6b68-433e-9da1-98bbfcf514f6",
   "metadata": {},
   "source": [
    "### Removing Values from a Dictionary   \n",
    "\n",
    "You can remove a key-value pair from a dictionary using the `delete!()` function:"
   ]
  },
  {
   "cell_type": "code",
   "execution_count": 151,
   "id": "62c8bc02-7169-4310-ba79-d1ba4cf5452c",
   "metadata": {
    "lines_to_next_cell": 2
   },
   "outputs": [
    {
     "data": {
      "text/plain": [
       "Dict{String, Int64} with 3 entries:\n",
       "  \"Alice\" => 25\n",
       "  \"Bob\"   => 30\n",
       "  \"Eve\"   => 35"
      ]
     },
     "execution_count": 151,
     "metadata": {},
     "output_type": "execute_result"
    }
   ],
   "source": [
    "delete!(ages_dict, \"Charlie\")"
   ]
  },
  {
   "cell_type": "markdown",
   "id": "0cf32498-01be-4713-8813-ce2c349bedea",
   "metadata": {},
   "source": [
    "This will remove the key-value pair corresponding to the key \"Charlie\" from the dictionary.   \n",
    "Similarly, we can use the `pop!()` function:"
   ]
  },
  {
   "cell_type": "code",
   "execution_count": 152,
   "id": "b34fc0f2-133d-4ce2-acfa-39884b0ae190",
   "metadata": {},
   "outputs": [
    {
     "data": {
      "text/plain": [
       "35"
      ]
     },
     "execution_count": 152,
     "metadata": {},
     "output_type": "execute_result"
    }
   ],
   "source": [
    "pop!(ages_dict, \"Eve\")"
   ]
  },
  {
   "cell_type": "code",
   "execution_count": 153,
   "id": "63bcd52c-0dde-42f7-a97e-acfe56b87f72",
   "metadata": {},
   "outputs": [
    {
     "data": {
      "text/plain": [
       "Dict{String, Int64} with 2 entries:\n",
       "  \"Alice\" => 25\n",
       "  \"Bob\"   => 30"
      ]
     },
     "execution_count": 153,
     "metadata": {},
     "output_type": "execute_result"
    }
   ],
   "source": [
    "ages_dict"
   ]
  },
  {
   "cell_type": "code",
   "execution_count": 154,
   "id": "f4eb221a-2105-4009-9347-e0495ba4047c",
   "metadata": {},
   "outputs": [
    {
     "name": "stdout",
     "output_type": "stream",
     "text": [
      "Julia Version 1.8.5\n",
      "Commit 17cfb8e65e (2023-01-08 06:45 UTC)\n",
      "Platform Info:\n",
      "  OS: Windows (x86_64-w64-mingw32)\n",
      "  CPU: 8 × 11th Gen Intel(R) Core(TM) i7-1165G7 @ 2.80GHz\n",
      "  WORD_SIZE: 64\n",
      "  LIBM: libopenlibm\n",
      "  LLVM: libLLVM-13.0.1 (ORCJIT, tigerlake)\n",
      "  Threads: 1 on 8 virtual cores\n"
     ]
    }
   ],
   "source": [
    "versioninfo()"
   ]
  },
  {
   "cell_type": "markdown",
   "id": "66cd34a7-7086-42c8-a81b-ade8b84ed216",
   "metadata": {},
   "source": [
    "## Summary\n",
    "\n",
    "In this notebook, we learned how to create arrays, tuples and dictionaries, access their elements, and perform operations on them, such as concatenation, iteration, adding, and deleting element"
   ]
  },
  {
   "cell_type": "markdown",
   "id": "261d0100-77d7-4573-afcb-358285d95084",
   "metadata": {},
   "source": [
    "## Exercise - Data Structure"
   ]
  },
  {
   "cell_type": "markdown",
   "id": "1be918af-31ea-4dbc-8982-3c0fc3f9305e",
   "metadata": {},
   "source": [
    "#### Ex.1: Arrays in Julia\n",
    "\n",
    "Create a 3x3 matrix A with random integers between 1 and 10 using the function `rand()`. Then check the data type of the A."
   ]
  },
  {
   "cell_type": "code",
   "execution_count": null,
   "id": "262c967a-3f7c-455b-9d71-2899a12a37b9",
   "metadata": {},
   "outputs": [],
   "source": []
  },
  {
   "cell_type": "markdown",
   "id": "4b33c6b9-1649-458f-a579-d7d45e66d518",
   "metadata": {},
   "source": [
    "#### Ex.2: Functions in Julia\n",
    "Define a function `f(x)` that takes in an integer number x and returns its squared value."
   ]
  },
  {
   "cell_type": "code",
   "execution_count": null,
   "id": "cd3781a6-1b7e-463c-834a-48385d201569",
   "metadata": {},
   "outputs": [],
   "source": []
  },
  {
   "cell_type": "markdown",
   "id": "12334033-0ae0-448d-ac70-22161cb91f00",
   "metadata": {},
   "source": [
    "#### Ex.3: Loops in Julia\n",
    "\n",
    "Apply the function f(x) to each element of the matrix A using a loop, with the number of iterations obtained by `size(A)`, and then store the result in a new matrix B."
   ]
  },
  {
   "cell_type": "code",
   "execution_count": null,
   "id": "5d81bd8d-b861-4290-bfd6-9346409be4be",
   "metadata": {},
   "outputs": [],
   "source": []
  },
  {
   "cell_type": "markdown",
   "id": "f459ebcf-a3dc-407c-9af9-7c1414cac830",
   "metadata": {},
   "source": [
    "#### Ex.4: Broadcasting\n",
    "\n",
    "Apply this function f(x) to each element of the matrix A using broadcasting (by `f.()`) and store the result in a matrix C."
   ]
  },
  {
   "cell_type": "code",
   "execution_count": null,
   "id": "19cc0727-8597-48f8-a91e-341972f1134d",
   "metadata": {},
   "outputs": [],
   "source": []
  },
  {
   "cell_type": "markdown",
   "id": "b10eb8fd-615e-4768-b3a4-d95f293e997c",
   "metadata": {},
   "source": [
    "#### Ex.5 Tuples in Julia\n",
    "Create a tuple of three, containing the numbers in the second column of matrix A, and store the results in the new tuple D.\n",
    "\n",
    "Check the data type of D."
   ]
  },
  {
   "cell_type": "code",
   "execution_count": null,
   "id": "349dd741-0d03-49c7-91d7-247c9606d211",
   "metadata": {},
   "outputs": [],
   "source": []
  },
  {
   "cell_type": "markdown",
   "id": "087588db-c9f5-4beb-9a3d-f42ad5e51a3f",
   "metadata": {},
   "source": [
    "#### Optional: Broadcasting in the Tuple\n",
    "\n",
    "Apply the function f(x) to the tuple D with broadcasting. \n",
    "\n",
    "Assign the output to variable E."
   ]
  },
  {
   "cell_type": "code",
   "execution_count": null,
   "id": "a9544265-6a1b-48b1-beb9-f22a8f2dd8b1",
   "metadata": {},
   "outputs": [],
   "source": []
  }
 ],
 "metadata": {
  "jupytext": {
   "encoding": "# -*- coding: utf-8 -*-",
   "formats": "ipynb,jl:light"
  },
  "kernelspec": {
   "display_name": "Julia 1.8.5",
   "language": "julia",
   "name": "julia-1.8"
  },
  "language_info": {
   "file_extension": ".jl",
   "mimetype": "application/julia",
   "name": "julia",
   "version": "1.8.5"
  }
 },
 "nbformat": 4,
 "nbformat_minor": 5
}
