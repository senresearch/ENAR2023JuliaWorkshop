{
 "cells": [
  {
   "cell_type": "markdown",
   "id": "62abddb0-3a40-4524-aa28-cd5eded3047c",
   "metadata": {
    "slideshow": {
     "slide_type": "slide"
    }
   },
   "source": [
    "# Language Binding in R with JuliaCall\n",
    "---\n",
    "\n",
    "**Gregory Farage, Śaunak Sen**    \n",
    "\n",
    "    gfarage@uthsc.edu / sen@uthsc.edu\n",
    "    Division of Biostatistics\n",
    "    Department of Preventive Medicine\n",
    "    University of Tennessee Health Science Center\n",
    "    Memphis, TN\n",
    "\n",
    "`JuliaCall` is a package that enables the integration of Julia language into R programming. With `JuliaCall`, users can execute Julia commands and functions within R, utilizing Julia's high-performance computing capabilities while still working within the familiar R environment. The package provides seamless communication between the two languages, allowing for data to be passed between R and Julia with ease. `JuliaCall` also provides for the installation of Julia packages from within R, making it a convenient tool for those looking to leverage the power of Julia while still utilizing R as their primary programming language.\n",
    "\n",
    "\n",
    "*References for this notebook:*\n",
    "* [JuliaCall: Integrating R and Julia by Hans W. Borchers](https://hwborchers.github.io/)\n",
    "* [JuliaCall.jl](https://cran.r-project.org/web/packages/JuliaCall/index.html)"
   ]
  },
  {
   "cell_type": "markdown",
   "id": "1515cffa-8f2c-4554-b883-c13c41fe6a8d",
   "metadata": {
    "slideshow": {
     "slide_type": "subslide"
    }
   },
   "source": [
    "### Outline of this notebook\n",
    "\n",
    "- Calling python built-in function \n",
    "- Calling python hand-written function \n",
    "- Importing python libraries\n",
    "- Calling R built-in function\n",
    "- Calling R hand-written function"
   ]
  },
  {
   "cell_type": "markdown",
   "id": "b2d56b17-62ec-40c5-9bc0-d85bf7216f36",
   "metadata": {},
   "source": [
    "`JuliaCall` offers a valuable solution for those seeking to take advantage of the benefits of both R and Julia in their data analysis and scientific computing projects."
   ]
  },
  {
   "cell_type": "markdown",
   "id": "5a4105d5-753f-4350-8363-c46ecfb79a81",
   "metadata": {},
   "source": [
    "## Example choice"
   ]
  },
  {
   "cell_type": "markdown",
   "id": "0af1e939-79bc-4f15-b93b-e69cac1033cb",
   "metadata": {},
   "source": [
    "Let's use the `sum` function as an example to understand how calling mechanisms work.   \n",
    "\n",
    "The function `sum(x)` can computes the sum of all elements in an array `x` of length $n$:\n",
    "$$\n",
    "\\mathrm{sum}(x) = \\sum_{i=1}^n x_i.\n",
    "$$"
   ]
  },
  {
   "cell_type": "markdown",
   "id": "3f50cba5-b8ae-4875-ac84-f19a65460bea",
   "metadata": {},
   "source": [
    "Generate a vector of random numbers"
   ]
  },
  {
   "cell_type": "code",
   "execution_count": 1,
   "id": "a21f4171-7407-4d5d-8b3e-5b73cd32e97e",
   "metadata": {
    "slideshow": {
     "slide_type": "subslide"
    },
    "tags": []
   },
   "outputs": [],
   "source": [
    "a <- runif(n=10^3, min=0, max=1)"
   ]
  },
  {
   "cell_type": "markdown",
   "id": "f32af191-cb2c-43b0-a6ca-ba77aee091cc",
   "metadata": {
    "slideshow": {
     "slide_type": "-"
    }
   },
   "source": [
    "The expected value is 500, since the vector `a` has a uniform distribution on [0,1) with each entry having a mean of 0.5."
   ]
  },
  {
   "cell_type": "code",
   "execution_count": 2,
   "id": "d54767f4-de63-4658-9cdb-5e235660ef65",
   "metadata": {
    "tags": []
   },
   "outputs": [
    {
     "data": {
      "text/html": [
       "487.40907052625"
      ],
      "text/latex": [
       "487.40907052625"
      ],
      "text/markdown": [
       "487.40907052625"
      ],
      "text/plain": [
       "[1] 487.4091"
      ]
     },
     "metadata": {},
     "output_type": "display_data"
    }
   ],
   "source": [
    "sum(a)"
   ]
  },
  {
   "cell_type": "markdown",
   "id": "4b23974b-cf28-4675-ac1f-5afa3b567750",
   "metadata": {
    "slideshow": {
     "slide_type": "slide"
    },
    "tags": []
   },
   "source": [
    "## JuliaCall first initialization"
   ]
  },
  {
   "cell_type": "code",
   "execution_count": 3,
   "id": "794e7f7b-ff22-4faa-b45c-34a833e2c74b",
   "metadata": {
    "tags": []
   },
   "outputs": [
    {
     "name": "stderr",
     "output_type": "stream",
     "text": [
      "Julia version 1.8.5 at location C:\\Users\\farag\\AppData\\Local\\Programs\\JULIA-~1.5\\bin will be used.\n",
      "\n",
      "Loading setup script for JuliaCall...\n",
      "\n",
      "Finish loading setup script for JuliaCall.\n",
      "\n"
     ]
    }
   ],
   "source": [
    "library(JuliaCall)\n",
    "julia_setup() # Do initial setup for the JuliaCall package."
   ]
  },
  {
   "cell_type": "markdown",
   "id": "33ed05a9-dbb9-404a-a1a9-ab767da19398",
   "metadata": {},
   "source": [
    "We can specify the path to a specific Julia version in the `julia_setup()` function by providing it as an option or argument. The code below illustrates how to initiate a Julia installation from a different directory.   \n",
    "```R\n",
    "> julia_setup(JULIA_HOME = \"~/Softwares/julia/julia-1.8.5/bin/\")\n",
    "```"
   ]
  },
  {
   "cell_type": "markdown",
   "id": "ece9cc8e-50d3-4604-8152-32a2f9f917f3",
   "metadata": {
    "slideshow": {
     "slide_type": "slide"
    },
    "tags": []
   },
   "source": [
    "## Calling Julia's built-in `sum` "
   ]
  },
  {
   "cell_type": "markdown",
   "id": "fc290e02-23dc-4a73-9eae-123dd1bd4b12",
   "metadata": {},
   "source": [
    "In this example, the vector `a` is passed as an argument to the `sum` function in Julia. The argument `a` is first converted from R to a Julia object, and then the sum operation is performed on it. The resulting value is then returned back to R as an R object, which can be assigned to a variable. Notably,in this implementation, the variable `a` is NOT generated within the Julia environment."
   ]
  },
  {
   "cell_type": "code",
   "execution_count": 4,
   "id": "58a3715a-6829-489e-811a-2955300d8fd2",
   "metadata": {
    "tags": []
   },
   "outputs": [
    {
     "data": {
      "text/html": [
       "487.40907052625"
      ],
      "text/latex": [
       "487.40907052625"
      ],
      "text/markdown": [
       "487.40907052625"
      ],
      "text/plain": [
       "[1] 487.4091"
      ]
     },
     "metadata": {},
     "output_type": "display_data"
    }
   ],
   "source": [
    "julia_call(\"sum\", a)"
   ]
  },
  {
   "cell_type": "markdown",
   "id": "51626ff0-ad03-4eae-b1d4-986b9151ab31",
   "metadata": {},
   "source": [
    "To convert an R object, such as a number, vector, or matrix, into a Julia object and assign it to a variable name, the `julia_assign()` command must be used. The resulting variable can then be used in other Julia commands."
   ]
  },
  {
   "cell_type": "markdown",
   "id": "9923ac0a-8450-4c5e-aabb-40dcb9a259b8",
   "metadata": {},
   "source": [
    "First let see if the variable exist in Julia:"
   ]
  },
  {
   "cell_type": "code",
   "execution_count": 5,
   "id": "898e2cd6-b5b9-46ba-843c-c8ecba060e17",
   "metadata": {
    "tags": []
   },
   "outputs": [
    {
     "data": {
      "text/html": [
       "FALSE"
      ],
      "text/latex": [
       "FALSE"
      ],
      "text/markdown": [
       "FALSE"
      ],
      "text/plain": [
       "[1] FALSE"
      ]
     },
     "metadata": {},
     "output_type": "display_data"
    }
   ],
   "source": [
    "julia_exists(\"name_var_in_julia\")"
   ]
  },
  {
   "cell_type": "code",
   "execution_count": 6,
   "id": "f432a745-d866-4e40-8403-8818f82caa62",
   "metadata": {
    "tags": []
   },
   "outputs": [],
   "source": [
    "julia_assign(\"name_var_in_julia\", a)"
   ]
  },
  {
   "cell_type": "markdown",
   "id": "931d7370-3394-4a1d-bfa8-d1fd1ce116a0",
   "metadata": {},
   "source": [
    "Now, let's confirm that the variable named \"name_var_in_julia\" exists:"
   ]
  },
  {
   "cell_type": "code",
   "execution_count": 7,
   "id": "58d60de0-7881-49ef-94b0-fa31934ba032",
   "metadata": {
    "tags": []
   },
   "outputs": [
    {
     "data": {
      "text/html": [
       "TRUE"
      ],
      "text/latex": [
       "TRUE"
      ],
      "text/markdown": [
       "TRUE"
      ],
      "text/plain": [
       "[1] TRUE"
      ]
     },
     "metadata": {},
     "output_type": "display_data"
    }
   ],
   "source": [
    "julia_exists(\"name_var_in_julia\")"
   ]
  },
  {
   "cell_type": "markdown",
   "id": "4d7168dd-f9f8-4737-a25e-9a12165f2533",
   "metadata": {
    "slideshow": {
     "slide_type": "slide"
    }
   },
   "source": [
    "## Calling hand-written Julia `sum` function \n",
    "\n",
    "\n",
    "#### Loading local Julia code\n",
    "In this instance, we created a Julia script called *julia_sum.jl* to process the `sum` function, which we then import into R via `JuliaCall`. This method permits us to load the code locally within R."
   ]
  },
  {
   "cell_type": "markdown",
   "id": "6257ac25-74e7-4e3d-aa75-fd7bc18eb347",
   "metadata": {},
   "source": [
    "_filename: julia_sum.jl_\n",
    "\n",
    "```julia\n",
    "function jl_sum(R)\n",
    "    s = 0.0\n",
    "    for r in R\n",
    "        s += r\n",
    "    end\n",
    "    return s\n",
    "end\n",
    "```"
   ]
  },
  {
   "cell_type": "markdown",
   "id": "65af0361-8bc1-41ea-b605-bad143ad201b",
   "metadata": {},
   "source": [
    "We use the `julia_source()` function to source our Julia code file."
   ]
  },
  {
   "cell_type": "code",
   "execution_count": 8,
   "id": "89a0a6f8-73f0-4bbf-80de-3a3f908cc272",
   "metadata": {
    "tags": []
   },
   "outputs": [],
   "source": [
    "julia_source(\"julia_sum.jl\")"
   ]
  },
  {
   "cell_type": "markdown",
   "id": "c238ed17-4959-4735-a85a-125b03d8113a",
   "metadata": {},
   "source": [
    "Let's verify that our function `jl_sum()` is defined in Julia: "
   ]
  },
  {
   "cell_type": "code",
   "execution_count": 9,
   "id": "93b0d5e6-c839-4b9e-8807-c39e0bd28b22",
   "metadata": {
    "tags": []
   },
   "outputs": [
    {
     "data": {
      "text/html": [
       "TRUE"
      ],
      "text/latex": [
       "TRUE"
      ],
      "text/markdown": [
       "TRUE"
      ],
      "text/plain": [
       "[1] TRUE"
      ]
     },
     "metadata": {},
     "output_type": "display_data"
    }
   ],
   "source": [
    "julia_exists(\"jl_sum\")"
   ]
  },
  {
   "cell_type": "markdown",
   "id": "d725ca1e-8e90-498d-a3e1-2161a22f23c9",
   "metadata": {},
   "source": [
    "To apply our new Julia sum function, `jl_sum()`, and save the result we can just use `julia_call()` such as:"
   ]
  },
  {
   "cell_type": "code",
   "execution_count": 10,
   "id": "d84388e3-5deb-4ed4-83a1-6e24805dff2d",
   "metadata": {
    "tags": []
   },
   "outputs": [
    {
     "data": {
      "text/html": [
       "487.40907052625"
      ],
      "text/latex": [
       "487.40907052625"
      ],
      "text/markdown": [
       "487.40907052625"
      ],
      "text/plain": [
       "[1] 487.4091"
      ]
     },
     "metadata": {},
     "output_type": "display_data"
    }
   ],
   "source": [
    "result <- julia_call(\"jl_sum\", a)\n",
    "result"
   ]
  },
  {
   "cell_type": "markdown",
   "id": "293bb946-61ab-450e-8558-d6c5cd9abb3c",
   "metadata": {
    "tags": []
   },
   "source": [
    "#### Wrapping Julia code in R"
   ]
  },
  {
   "cell_type": "markdown",
   "id": "872a677b-68c0-4041-8226-6cffef2d0d1e",
   "metadata": {
    "slideshow": {
     "slide_type": "subslide"
    }
   },
   "source": [
    "Another option consist in writting the string containing a Julia expression/function  and wrap it into the R function `julia_command()`:"
   ]
  },
  {
   "cell_type": "code",
   "execution_count": 11,
   "id": "49876293-e3a5-4917-a57c-61cc464f05c4",
   "metadata": {
    "tags": []
   },
   "outputs": [
    {
     "data": {
      "text/html": [
       "jl_sum2 (generic function with 1 method)"
      ]
     },
     "metadata": {},
     "output_type": "display_data"
    }
   ],
   "source": [
    "julia_command(\n",
    "    \"function jl_sum2(R)\n",
    "        s = 0.0\n",
    "        for r in R\n",
    "            s += r\n",
    "        end\n",
    "        return s\n",
    "    end\"\n",
    ")"
   ]
  },
  {
   "cell_type": "markdown",
   "id": "e0e1f8f6-6de9-4fca-9e5b-4bc554add451",
   "metadata": {},
   "source": [
    "Simlarly, we can obtain our result with `julia_call()`:"
   ]
  },
  {
   "cell_type": "code",
   "execution_count": 12,
   "id": "10a7a53f-7771-4acc-8a8c-888576d7c7a3",
   "metadata": {
    "tags": []
   },
   "outputs": [
    {
     "data": {
      "text/html": [
       "487.40907052625"
      ],
      "text/latex": [
       "487.40907052625"
      ],
      "text/markdown": [
       "487.40907052625"
      ],
      "text/plain": [
       "[1] 487.4091"
      ]
     },
     "metadata": {},
     "output_type": "display_data"
    }
   ],
   "source": [
    "julia_call(\"jl_sum2\", a)"
   ]
  },
  {
   "cell_type": "markdown",
   "id": "b27eba9f-e43b-4eb8-82f7-9c083c160119",
   "metadata": {},
   "source": [
    "Notice that the output of a `julia_command()` corresponds to the output we would get in Julia. The function `julia_eval()` returns the output in R. Let's try a simple example:"
   ]
  },
  {
   "cell_type": "markdown",
   "id": "8a88ad06-5af6-41ce-876a-bee741eade1b",
   "metadata": {},
   "source": [
    "Julia's output:"
   ]
  },
  {
   "cell_type": "code",
   "execution_count": 13,
   "id": "c53e0c6f-1b85-4adb-b1de-b318192060da",
   "metadata": {
    "tags": []
   },
   "outputs": [
    {
     "data": {
      "text/html": [
       "Vector{Float64} (alias for Array{Float64, 1})"
      ]
     },
     "metadata": {},
     "output_type": "display_data"
    }
   ],
   "source": [
    "julia_command(\"typeof(name_var_in_julia)\")"
   ]
  },
  {
   "cell_type": "markdown",
   "id": "4bdc2400-03a7-4cf3-9ff4-b08a0d8343ac",
   "metadata": {},
   "source": [
    "R's output:"
   ]
  },
  {
   "cell_type": "code",
   "execution_count": 14,
   "id": "85ab533a-afa8-4196-9a18-0148d2a136a7",
   "metadata": {
    "tags": []
   },
   "outputs": [
    {
     "data": {
      "text/plain": [
       "Julia Object of type DataType.\n",
       "Vector{Float64}"
      ]
     },
     "metadata": {},
     "output_type": "display_data"
    }
   ],
   "source": [
    "julia_eval(\"typeof(name_var_in_julia)\")"
   ]
  },
  {
   "cell_type": "markdown",
   "id": "df6a3c98-9dba-4482-b565-88dc4d82ed52",
   "metadata": {
    "slideshow": {
     "slide_type": "slide"
    }
   },
   "source": [
    "## Transfering data between Julia and R \n",
    "\n",
    "To transfer data between both languages, `JuliaCall.jl` provides two functions: `julia_assign()` and `julia_evaluate()`.\n",
    "\n",
    "* The `julia_evaluate()` function is used to transfer data from Julia to R. \n",
    "* The `julia_assign()` function is used to transfer data from R to Julia. "
   ]
  },
  {
   "cell_type": "markdown",
   "id": "28c54302-c2e4-4d97-a14f-fea4559841b1",
   "metadata": {},
   "source": [
    "In the next example, we demonstrate how to tranfer data between R and Julia.\n",
    "For this demonstration, we use a small dataset, which is based on a genetic study conducted on Arabidopsis thaliana, sourced from [Ågren et. al. (2013) via John Lovell](https://www.ncbi.nlm.nih.gov/pmc/articles/PMC3876199/). The phenotype dataset comprises a group of Arabidopsis recombinant inbred lines that were obtained from a cross between two parents hailing from Italy and Sweden. These lines were cultivated in Italy and Sweden over a span of three years, from 2009 to 2011. The phenotype, which is an indicator of fitness, is the average number of seeds per plant for each line. In addition, we possess the genotype data for the FLC (Flowering Time C) locus.\n",
    "\n",
    "Column names:\n",
    "\n",
    "- id: ID of RI line (first two are the parents)\n",
    "- it09: Italy 2009\n",
    "- it10: Italy 2010\n",
    "- it11: Italy 2011\n",
    "- sw09: Sweden 2009\n",
    "- sw10: Sweden 2010\n",
    "- sw11: Sweden 2011\n",
    "- flc: Flowering time locus (C) genotype"
   ]
  },
  {
   "cell_type": "markdown",
   "id": "aa2d344a-5934-4b3b-a32f-c9036ee3a92b",
   "metadata": {},
   "source": [
    "Let's load the necessary packages to read the data:"
   ]
  },
  {
   "cell_type": "code",
   "execution_count": 15,
   "id": "3c010033-9ba8-499b-b95e-1b601129c3d4",
   "metadata": {},
   "outputs": [],
   "source": [
    "julia_command(\"using DataFrames, CSV\" )"
   ]
  },
  {
   "cell_type": "markdown",
   "id": "32a34340-600d-4ebe-be22-ab32aedb33d7",
   "metadata": {},
   "source": [
    "If a package is not found, we can install it using the function `julia_install_package_if_needed()`, which takes the string of the package's name as argument."
   ]
  },
  {
   "cell_type": "code",
   "execution_count": 36,
   "id": "5c03ef84-fc07-4fb1-a324-b22a3dda9abc",
   "metadata": {},
   "outputs": [],
   "source": [
    "# to install package\n",
    "# julia_install_package_if_needed(\"DataFrames\")"
   ]
  },
  {
   "cell_type": "markdown",
   "id": "7a607bf6-da9c-47f3-8d74-8c74018ed2b2",
   "metadata": {},
   "source": [
    "As shown in the previous section, we can transfer data from R to Julia using `julia_assign()`. For example, we can transfer a string URL to Julia and store the information in a variable named `agrenURL`."
   ]
  },
  {
   "cell_type": "code",
   "execution_count": 19,
   "id": "2a293449-4df7-46e7-bd02-24136f84c71e",
   "metadata": {},
   "outputs": [],
   "source": [
    "julia_assign(\"agrenURL\", \n",
    "             \"https://raw.githubusercontent.com/sens/smalldata/master/arabidopsis/agren2013.csv\")"
   ]
  },
  {
   "cell_type": "markdown",
   "id": "3349e378-6a2d-45bb-9183-fd56460a30c6",
   "metadata": {},
   "source": [
    "Let's read and store our dataframe into `agren` in Julia. "
   ]
  },
  {
   "cell_type": "code",
   "execution_count": 31,
   "id": "fe508468-b6af-471d-9732-6535b44f3346",
   "metadata": {
    "slideshow": {
     "slide_type": "-"
    },
    "tags": []
   },
   "outputs": [],
   "source": [
    "julia_command(\n",
    "    paste(\"agren = CSV.read(download(agrenURL),DataFrame, missingstring=\\\"NA\\\");\",\n",
    "    \"agren = dropmissing(agren, disallowmissing=true);\")\n",
    ")"
   ]
  },
  {
   "cell_type": "markdown",
   "id": "d4b99b2c-ea8e-4f0b-a4c9-bd9ef3d4f78a",
   "metadata": {},
   "source": [
    "Now, we transfer a subset of our dataframe from Julia to R by using the function `julia_eval`.  "
   ]
  },
  {
   "cell_type": "code",
   "execution_count": 39,
   "id": "86a8d617-f6f3-4711-ab92-8155d40de4e4",
   "metadata": {},
   "outputs": [],
   "source": [
    "agrenFit <- julia_eval(\"agren[:,[1,2,3,4,5,6]]\")"
   ]
  },
  {
   "cell_type": "code",
   "execution_count": 35,
   "id": "f9b2887e-6e7b-41c5-9abd-bc9ae272acc5",
   "metadata": {},
   "outputs": [
    {
     "data": {
      "image/png": "[encoded data removed]",
      "text/plain": [
       "Plot with title \"ViolinPlot of Fitness Values per site and year\""
      ]
     },
     "metadata": {
      "image/png": {
       "height": 420,
       "width": 420
      }
     },
     "output_type": "display_data"
    }
   ],
   "source": [
    "vioplot::vioplot(agrenFit, \n",
    "            names=names(agrenFit), \n",
    "            main = \"ViolinPlot of Fitness Values per site and year\", \n",
    "            xlab =\"Site\", \n",
    "            ylab =  \"Fitness Values\",\n",
    "            col = rainbow(6))"
   ]
  },
  {
   "cell_type": "markdown",
   "id": "74d041da-8ad0-47e3-a26b-a4b1ece2f2ad",
   "metadata": {
    "slideshow": {
     "slide_type": "slide"
    }
   },
   "source": [
    "## Summary\n",
    "\n",
    "* JuliaCall provides access to Julia's high-performance computing capabilities, which can be useful for tasks that require intensive numerical computations.\n",
    "\n",
    "* Access to Julia's packages.\n",
    "\n",
    "* JuliaCall makes it easy to integrate Julia code into R programs, allowing users to combine the strengths of both languages in a single workflow.\n",
    "\n",
    "* Interoperability: JuliaCall allows for seamless interoperability between R and Julia, enabling users to easily pass data and objects between the two languages.\n",
    "\n"
   ]
  },
  {
   "cell_type": "code",
   "execution_count": 3,
   "id": "1de06aca-1ba7-48a8-88a1-45ac7b8a7305",
   "metadata": {
    "tags": []
   },
   "outputs": [
    {
     "data": {
      "text/plain": [
       "R version 4.2.2 Patched (2022-11-10 r83330)\n",
       "Platform: x86_64-pc-linux-gnu (64-bit)\n",
       "Running under: Ubuntu 22.04.2 LTS\n",
       "\n",
       "Matrix products: default\n",
       "BLAS:   /usr/lib/x86_64-linux-gnu/blas/libblas.so.3.10.0\n",
       "LAPACK: /usr/lib/x86_64-linux-gnu/lapack/liblapack.so.3.10.0\n",
       "\n",
       "locale:\n",
       " [1] LC_CTYPE=en_US.UTF-8       LC_NUMERIC=C              \n",
       " [3] LC_TIME=en_US.UTF-8        LC_COLLATE=en_US.UTF-8    \n",
       " [5] LC_MONETARY=en_US.UTF-8    LC_MESSAGES=en_US.UTF-8   \n",
       " [7] LC_PAPER=en_US.UTF-8       LC_NAME=C                 \n",
       " [9] LC_ADDRESS=C               LC_TELEPHONE=C            \n",
       "[11] LC_MEASUREMENT=en_US.UTF-8 LC_IDENTIFICATION=C       \n",
       "\n",
       "attached base packages:\n",
       "[1] stats     graphics  grDevices utils     datasets  methods   base     \n",
       "\n",
       "other attached packages:\n",
       "[1] vioplot_0.4.0 zoo_1.8-11    sm_2.2-5.7.1 \n",
       "\n",
       "loaded via a namespace (and not attached):\n",
       " [1] lattice_0.20-45 fansi_1.0.3     crayon_1.5.2    digest_0.6.31  \n",
       " [5] utf8_1.2.2      IRdisplay_1.1   grid_4.2.2      repr_1.1.4     \n",
       " [9] lifecycle_1.0.3 jsonlite_1.8.4  evaluate_0.19   pillar_1.8.1   \n",
       "[13] rlang_1.0.6     cli_3.5.0       uuid_1.1-0      vctrs_0.5.1    \n",
       "[17] IRkernel_1.3.1  tools_4.2.2     glue_1.6.2      fastmap_1.1.0  \n",
       "[21] compiler_4.2.2  base64enc_0.1-3 pbdZMQ_0.3-8    htmltools_0.5.4"
      ]
     },
     "metadata": {},
     "output_type": "display_data"
    }
   ],
   "source": [
    "sessionInfo()"
   ]
  },
  {
   "cell_type": "markdown",
   "id": "4d84d6cd-56e9-4e39-9d30-55d1c454c73d",
   "metadata": {},
   "source": [
    "## Exercise: using `julia_call` package in R"
   ]
  },
  {
   "cell_type": "markdown",
   "id": "0c82b48c-a087-4974-a53f-ce2af640409b",
   "metadata": {},
   "source": [
    "If you are an extensive R user and are not ready to fully switch to Julia, but still want to experience some features in Julia, such as using some Julia packages for your data analysis, this exercise would be particularly of your interests. \n",
    "\n",
    "For this exercise, we would use the Julia package `MatrixLM.jl`, a fast application of fitting multivariate linear models in Julia. We will fit the model:\n",
    "\n",
    "$$Y = XBZ^T+E\n",
    "$$\n",
    "\n",
    "where \n",
    "\n",
    "- $Y$ is the multivariate response of dimension $n \\times m$\n",
    "- $X$ is the design matrix of row covariates of dimension $n \\times p$\n",
    "- $Z$ is the design matrix of column covariates of dimension $m \\times q$\n",
    "- $B$ is the matrix of interative effects of row and column covariates; it has dimension $p \\times q$\n",
    "- $E$ is the $n \\times m$ matrix of normal noises.\n",
    "\n",
    "\n",
    "We will be simulating data using R code, and use `MatrixLM.jl`\n",
    "\n",
    "The goal of this exercise is mainly to familiarize you with the `R/julia_call` functionalities, by which you can easily utilize some additional features in Julia running Julia packages in the backend, while still staying in the R interface."
   ]
  },
  {
   "cell_type": "markdown",
   "id": "19524f0b-cc71-4fff-86ac-816f14d8c7eb",
   "metadata": {},
   "source": [
    "#### Ex.1: Simulate data in R"
   ]
  },
  {
   "cell_type": "markdown",
   "id": "14fb81e8-235a-4a82-bfc3-76177abe00de",
   "metadata": {},
   "source": [
    "Set the random seed to be 1. Then, simulate the data as the following:\n",
    "\n",
    "- n = 100, m = 250\n",
    "- The number of row covariates, p = 5\n",
    "- The number of column covariates, q = 5\n",
    "- Simulate X, Z, B as matrices of uniformly distributed numbers in [0, 1], of the corresponding sizes \n",
    "- Simulate random normal errors E with standard deviation $\\sigma = 0.1$\n",
    "- Simulate Y by the model $Y = XBZ^T+E$"
   ]
  },
  {
   "cell_type": "code",
   "execution_count": null,
   "id": "6abbf13c-5344-4431-a8b4-66af6eb6220f",
   "metadata": {},
   "outputs": [],
   "source": []
  },
  {
   "cell_type": "markdown",
   "id": "5623f748-0190-4b72-b672-cf4aa4562b89",
   "metadata": {
    "tags": []
   },
   "source": [
    "#### Ex.2: Load data into Julia \n",
    "(using `julia_assign()`)"
   ]
  },
  {
   "cell_type": "code",
   "execution_count": null,
   "id": "b6b6f90b-06b6-46f3-a452-effb3f596e69",
   "metadata": {},
   "outputs": [],
   "source": []
  },
  {
   "cell_type": "markdown",
   "id": "e33c1cd0-61a6-4324-bd58-dd9959e8d870",
   "metadata": {},
   "source": [
    "#### Ex.3: Check all simulated data has been loaded into Julia\n",
    "(using `julia_exists`)"
   ]
  },
  {
   "cell_type": "code",
   "execution_count": null,
   "id": "abc0ef6a-6dbb-43aa-a2c9-5571e608f438",
   "metadata": {},
   "outputs": [],
   "source": []
  },
  {
   "cell_type": "markdown",
   "id": "8ba06212-c18f-4cdc-829c-093a6b1a746b",
   "metadata": {},
   "source": [
    "#### Ex.4 - Load package in Julia\n",
    "(using `julia_library()`)"
   ]
  },
  {
   "cell_type": "code",
   "execution_count": null,
   "id": "92d204e5-1ed6-43ff-a1f7-301c74ddee29",
   "metadata": {},
   "outputs": [],
   "source": []
  },
  {
   "cell_type": "markdown",
   "id": "18efa32d-dd8d-474d-855d-7d559aee6f47",
   "metadata": {},
   "source": [
    "#### Ex.5: Extract the output from Julia into R "
   ]
  },
  {
   "cell_type": "markdown",
   "id": "1a1dee14-2c09-4e15-807c-da7b176d9ab8",
   "metadata": {},
   "source": [
    "First, evaluate the Matrix Linear Model by running the following Julia command (you can copy and paste each line to a line executing `julia_command()`)"
   ]
  },
  {
   "cell_type": "markdown",
   "id": "ab6bf312-89f3-445d-a532-606531e2c13f",
   "metadata": {},
   "source": [
    "```julia\n",
    "dat = RawData(Response(Y), Predictors(X, Z));\n",
    "est = mlm(dat; hasXIntercept = false, hasZIntercept = false);\n",
    "\n",
    "```"
   ]
  },
  {
   "cell_type": "markdown",
   "id": "1d49c9c4-13e3-4744-90c3-c9d339dfe1f3",
   "metadata": {},
   "source": [
    "Next, after the package finished the task, extract the output estimated $B$ and assign it to a variable in R environment.\n",
    "\n",
    "**Which one should you use? `julia_command()` or `julia_eval()`? Test it out!**"
   ]
  },
  {
   "cell_type": "code",
   "execution_count": null,
   "id": "ed2b98f0-5d45-452f-9931-575f6eb1b4d4",
   "metadata": {},
   "outputs": [],
   "source": []
  }
 ],
 "metadata": {
  "jupytext": {
   "formats": "ipynb,Rmd"
  },
  "kernelspec": {
   "display_name": "R",
   "language": "R",
   "name": "ir"
  },
  "language_info": {
   "codemirror_mode": "r",
   "file_extension": ".r",
   "mimetype": "text/x-r-source",
   "name": "R",
   "pygments_lexer": "r",
   "version": "4.2.2"
  }
 },
 "nbformat": 4,
 "nbformat_minor": 5
}
