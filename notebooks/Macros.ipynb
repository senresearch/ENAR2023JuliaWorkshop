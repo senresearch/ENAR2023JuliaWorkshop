{
 "cells": [
  {
   "cell_type": "markdown",
   "id": "f053baae-be35-4c79-83bc-d2d07654cde5",
   "metadata": {},
   "source": [
    "# Macros\n",
    "___\n",
    "\n",
    "\n",
    "Macros are a powerful feature of the Julia programming language; still, they can be daunting for users coming from Python, Matlab or R who may not have encountered similar constructs before. This notebook aims to provide a simple introduction which will help you determine when it is appropriate to use macros and how to avoid common pitfalls.\n",
    "\n",
    "\n",
    "   \n",
    "   \n",
    "*References for this notebook:*\n",
    "* [Macros - Julia Documentation](https://docs.julialang.org/en/v1/manual/metaprogramming/#man-macros)\n",
    "* [Julia macros for beginners by Julius Krumbiegel](https://jkrumbiegel.com/pages/2021-06-07-macros-for-beginners/)\n",
    "* [Julia language: a concise tutorial - Metaprogramming](https://syl1.gitbook.io/julia-language-a-concise-tutorial/language-core/metaprogramming)\n",
    "\n",
    "### Outline of this notebook\n",
    "\n",
    "\n",
    "- What does a Julia's macro look like? \n",
    "- What is a macro?\n",
    "- Expression and Evaluations\n",
    "- How to create a macro?"
   ]
  },
  {
   "cell_type": "markdown",
   "id": "850ca8ae-3600-47fc-b795-849dfbac9d99",
   "metadata": {},
   "source": [
    "## What does a Julia's macro look like?"
   ]
  },
  {
   "cell_type": "markdown",
   "id": "14d276a2-228d-4f27-a562-8bcdb6a4ae2e",
   "metadata": {},
   "source": [
    "#### boiler-plate"
   ]
  },
  {
   "cell_type": "markdown",
   "id": "c58e9580-fbae-421f-aee3-714f3b4bf47b",
   "metadata": {},
   "source": [
    "Macros in Julia are declared using the `@` character followed by a unique name assigned in the macro block."
   ]
  },
  {
   "cell_type": "markdown",
   "id": "557f4452-88c0-4a66-984f-f3ce72de5f9e",
   "metadata": {},
   "source": [
    "For example, the `@time` macro returns the measured timing and the total amount of allocations of a Julia program."
   ]
  },
  {
   "cell_type": "code",
   "execution_count": 8,
   "id": "92271dfc-9f46-48e3-ab09-0f0e642a4dae",
   "metadata": {
    "tags": []
   },
   "outputs": [
    {
     "name": "stdout",
     "output_type": "stream",
     "text": [
      "  0.025662 seconds (2 allocations: 68.665 MiB, 26.17% gc time)\n"
     ]
    }
   ],
   "source": [
    "@time A = rand(3_000, 3_000);"
   ]
  },
  {
   "cell_type": "markdown",
   "id": "183cc3d2-8f82-440e-954e-8ece37b7abde",
   "metadata": {},
   "source": [
    "Another example of a useful macro is the @formula macro from the StatsModels.jl package, which returns a Formula object that can be used to refer to columns in data for statistical modeling purposes."
   ]
  },
  {
   "cell_type": "markdown",
   "id": "0d2251be-138e-464a-afaf-f0794aa07492",
   "metadata": {},
   "source": [
    "#### domain specific, new languae or syntax"
   ]
  },
  {
   "cell_type": "code",
   "execution_count": 9,
   "id": "8c9545f3-c953-4fe7-aa8c-307787116548",
   "metadata": {
    "tags": []
   },
   "outputs": [],
   "source": [
    "using GLM, DataFrames, Plots"
   ]
  },
  {
   "cell_type": "markdown",
   "id": "cec44490-3d5d-47fa-82e2-cc83f6426f32",
   "metadata": {},
   "source": [
    "Let generate an artificial dataset and apply a linear regression using the the macro `@formula`:"
   ]
  },
  {
   "cell_type": "code",
   "execution_count": 10,
   "id": "8810949a-4597-491d-99d3-33490d40d203",
   "metadata": {
    "tags": []
   },
   "outputs": [],
   "source": [
    "# Generate data\n",
    "n = 100;\n",
    "X = rand(Normal(0, 1), n)\n",
    "β = 3; σₙₒᵢₛₑ = 2;\n",
    "Y = X*β + σₙₒᵢₛₑ*rand(Normal(0, 1), n);\n",
    "df = DataFrame(X = X, Y = Y);"
   ]
  },
  {
   "cell_type": "code",
   "execution_count": 11,
   "id": "e0b6d337-52ad-4067-853a-3435fe1f703b",
   "metadata": {
    "tags": []
   },
   "outputs": [
    {
     "data": {
      "image/svg+xml": [
       "<?xml version=\"1.0\" encoding=\"utf-8\"?>\n",
       "<svg xmlns=\"http://www.w3.org/2000/svg\" xmlns:xlink=\"http://www.w3.org/1999/xlink\" width=\"400\" height=\"200\" viewBox=\"0 0 1600 800\">\n",
       "<defs>\n",
       "  <clipPath id=\"clip790\">\n",
       "    <rect x=\"0\" y=\"0\" width=\"1600\" height=\"800\"/>\n",
       "  </clipPath>\n",
       "</defs>\n",
       "<path clip-path=\"url(#clip790)\" d=\"M0 800 L1600 800 L1600 0 L0 0  Z\" fill=\"#ffffff\" fill-rule=\"evenodd\" fill-opacity=\"1\"/>\n",
       "<defs>\n",
       "  <clipPath id=\"clip791\">\n",
       "    <rect x=\"320\" y=\"0\" width=\"1121\" height=\"800\"/>\n",
       "  </clipPath>\n",
       "</defs>\n",
       "<path clip-path=\"url(#clip790)\" d=\"M139.709 703.088 L1552.76 703.088 L1552.76 47.2441 L139.709 47.2441  Z\" fill=\"#ffffff\" fill-rule=\"evenodd\" fill-opacity=\"1\"/>\n",
       "<defs>\n",
       "  <clipPath id=\"clip792\">\n",
       "    <rect x=\"139\" y=\"47\" width=\"1414\" height=\"657\"/>\n",
       "  </clipPath>\n",
       "</defs>\n",
       "<polyline clip-path=\"url(#clip792)\" style=\"stroke:#000000; stroke-linecap:round; stroke-linejoin:round; stroke-width:2; stroke-opacity:0.1; fill:none\" points=\"174.424,703.088 174.424,47.2441 \"/>\n",
       "<polyline clip-path=\"url(#clip792)\" style=\"stroke:#000000; stroke-linecap:round; stroke-linejoin:round; stroke-width:2; stroke-opacity:0.1; fill:none\" points=\"464.614,703.088 464.614,47.2441 \"/>\n",
       "<polyline clip-path=\"url(#clip792)\" style=\"stroke:#000000; stroke-linecap:round; stroke-linejoin:round; stroke-width:2; stroke-opacity:0.1; fill:none\" points=\"754.804,703.088 754.804,47.2441 \"/>\n",
       "<polyline clip-path=\"url(#clip792)\" style=\"stroke:#000000; stroke-linecap:round; stroke-linejoin:round; stroke-width:2; stroke-opacity:0.1; fill:none\" points=\"1044.99,703.088 1044.99,47.2441 \"/>\n",
       "<polyline clip-path=\"url(#clip792)\" style=\"stroke:#000000; stroke-linecap:round; stroke-linejoin:round; stroke-width:2; stroke-opacity:0.1; fill:none\" points=\"1335.18,703.088 1335.18,47.2441 \"/>\n",
       "<polyline clip-path=\"url(#clip790)\" style=\"stroke:#000000; stroke-linecap:round; stroke-linejoin:round; stroke-width:4; stroke-opacity:1; fill:none\" points=\"139.709,703.088 1552.76,703.088 \"/>\n",
       "<polyline clip-path=\"url(#clip790)\" style=\"stroke:#000000; stroke-linecap:round; stroke-linejoin:round; stroke-width:4; stroke-opacity:1; fill:none\" points=\"174.424,703.088 174.424,684.19 \"/>\n",
       "<polyline clip-path=\"url(#clip790)\" style=\"stroke:#000000; stroke-linecap:round; stroke-linejoin:round; stroke-width:4; stroke-opacity:1; fill:none\" points=\"464.614,703.088 464.614,684.19 \"/>\n",
       "<polyline clip-path=\"url(#clip790)\" style=\"stroke:#000000; stroke-linecap:round; stroke-linejoin:round; stroke-width:4; stroke-opacity:1; fill:none\" points=\"754.804,703.088 754.804,684.19 \"/>\n",
       "<polyline clip-path=\"url(#clip790)\" style=\"stroke:#000000; stroke-linecap:round; stroke-linejoin:round; stroke-width:4; stroke-opacity:1; fill:none\" points=\"1044.99,703.088 1044.99,684.19 \"/>\n",
       "<polyline clip-path=\"url(#clip790)\" style=\"stroke:#000000; stroke-linecap:round; stroke-linejoin:round; stroke-width:4; stroke-opacity:1; fill:none\" points=\"1335.18,703.088 1335.18,684.19 \"/>\n",
       "<path clip-path=\"url(#clip790)\" d=\"M144.366 742.259 L174.042 742.259 L174.042 746.194 L144.366 746.194 L144.366 742.259 Z\" fill=\"#000000\" fill-rule=\"evenodd\" fill-opacity=\"1\" /><path clip-path=\"url(#clip790)\" d=\"M188.162 755.153 L204.482 755.153 L204.482 759.088 L182.537 759.088 L182.537 755.153 Q185.199 752.398 189.783 747.768 Q194.389 743.116 195.57 741.773 Q197.815 739.25 198.695 737.514 Q199.597 735.755 199.597 734.065 Q199.597 731.31 197.653 729.574 Q195.732 727.838 192.63 727.838 Q190.431 727.838 187.977 728.602 Q185.546 729.366 182.769 730.917 L182.769 726.195 Q185.593 725.06 188.046 724.482 Q190.5 723.903 192.537 723.903 Q197.908 723.903 201.102 726.588 Q204.296 729.273 204.296 733.764 Q204.296 735.894 203.486 737.815 Q202.699 739.713 200.593 742.306 Q200.014 742.977 196.912 746.194 Q193.81 749.389 188.162 755.153 Z\" fill=\"#000000\" fill-rule=\"evenodd\" fill-opacity=\"1\" /><path clip-path=\"url(#clip790)\" d=\"M434.371 742.259 L464.047 742.259 L464.047 746.194 L434.371 746.194 L434.371 742.259 Z\" fill=\"#000000\" fill-rule=\"evenodd\" fill-opacity=\"1\" /><path clip-path=\"url(#clip790)\" d=\"M474.95 755.153 L482.588 755.153 L482.588 728.787 L474.278 730.454 L474.278 726.195 L482.542 724.528 L487.218 724.528 L487.218 755.153 L494.857 755.153 L494.857 759.088 L474.95 759.088 L474.95 755.153 Z\" fill=\"#000000\" fill-rule=\"evenodd\" fill-opacity=\"1\" /><path clip-path=\"url(#clip790)\" d=\"M754.804 727.607 Q751.193 727.607 749.364 731.171 Q747.559 734.713 747.559 741.843 Q747.559 748.949 749.364 752.514 Q751.193 756.055 754.804 756.055 Q758.438 756.055 760.244 752.514 Q762.072 748.949 762.072 741.843 Q762.072 734.713 760.244 731.171 Q758.438 727.607 754.804 727.607 M754.804 723.903 Q760.614 723.903 763.67 728.509 Q766.748 733.093 766.748 741.843 Q766.748 750.569 763.67 755.176 Q760.614 759.759 754.804 759.759 Q748.994 759.759 745.915 755.176 Q742.86 750.569 742.86 741.843 Q742.86 733.093 745.915 728.509 Q748.994 723.903 754.804 723.903 Z\" fill=\"#000000\" fill-rule=\"evenodd\" fill-opacity=\"1\" /><path clip-path=\"url(#clip790)\" d=\"M1035.38 755.153 L1043.01 755.153 L1043.01 728.787 L1034.7 730.454 L1034.7 726.195 L1042.97 724.528 L1047.64 724.528 L1047.64 755.153 L1055.28 755.153 L1055.28 759.088 L1035.38 759.088 L1035.38 755.153 Z\" fill=\"#000000\" fill-rule=\"evenodd\" fill-opacity=\"1\" /><path clip-path=\"url(#clip790)\" d=\"M1329.84 755.153 L1346.16 755.153 L1346.16 759.088 L1324.21 759.088 L1324.21 755.153 Q1326.87 752.398 1331.46 747.768 Q1336.06 743.116 1337.24 741.773 Q1339.49 739.25 1340.37 737.514 Q1341.27 735.755 1341.27 734.065 Q1341.27 731.31 1339.33 729.574 Q1337.41 727.838 1334.3 727.838 Q1332.11 727.838 1329.65 728.602 Q1327.22 729.366 1324.44 730.917 L1324.44 726.195 Q1327.27 725.06 1329.72 724.482 Q1332.17 723.903 1334.21 723.903 Q1339.58 723.903 1342.78 726.588 Q1345.97 729.273 1345.97 733.764 Q1345.97 735.894 1345.16 737.815 Q1344.37 739.713 1342.27 742.306 Q1341.69 742.977 1338.59 746.194 Q1335.48 749.389 1329.84 755.153 Z\" fill=\"#000000\" fill-rule=\"evenodd\" fill-opacity=\"1\" /><polyline clip-path=\"url(#clip792)\" style=\"stroke:#000000; stroke-linecap:round; stroke-linejoin:round; stroke-width:2; stroke-opacity:0.1; fill:none\" points=\"139.709,577.693 1552.76,577.693 \"/>\n",
       "<polyline clip-path=\"url(#clip792)\" style=\"stroke:#000000; stroke-linecap:round; stroke-linejoin:round; stroke-width:2; stroke-opacity:0.1; fill:none\" points=\"139.709,405.22 1552.76,405.22 \"/>\n",
       "<polyline clip-path=\"url(#clip792)\" style=\"stroke:#000000; stroke-linecap:round; stroke-linejoin:round; stroke-width:2; stroke-opacity:0.1; fill:none\" points=\"139.709,232.746 1552.76,232.746 \"/>\n",
       "<polyline clip-path=\"url(#clip792)\" style=\"stroke:#000000; stroke-linecap:round; stroke-linejoin:round; stroke-width:2; stroke-opacity:0.1; fill:none\" points=\"139.709,60.2725 1552.76,60.2725 \"/>\n",
       "<polyline clip-path=\"url(#clip790)\" style=\"stroke:#000000; stroke-linecap:round; stroke-linejoin:round; stroke-width:4; stroke-opacity:1; fill:none\" points=\"139.709,703.088 139.709,47.2441 \"/>\n",
       "<polyline clip-path=\"url(#clip790)\" style=\"stroke:#000000; stroke-linecap:round; stroke-linejoin:round; stroke-width:4; stroke-opacity:1; fill:none\" points=\"139.709,577.693 158.607,577.693 \"/>\n",
       "<polyline clip-path=\"url(#clip790)\" style=\"stroke:#000000; stroke-linecap:round; stroke-linejoin:round; stroke-width:4; stroke-opacity:1; fill:none\" points=\"139.709,405.22 158.607,405.22 \"/>\n",
       "<polyline clip-path=\"url(#clip790)\" style=\"stroke:#000000; stroke-linecap:round; stroke-linejoin:round; stroke-width:4; stroke-opacity:1; fill:none\" points=\"139.709,232.746 158.607,232.746 \"/>\n",
       "<polyline clip-path=\"url(#clip790)\" style=\"stroke:#000000; stroke-linecap:round; stroke-linejoin:round; stroke-width:4; stroke-opacity:1; fill:none\" points=\"139.709,60.2725 158.607,60.2725 \"/>\n",
       "<path clip-path=\"url(#clip790)\" d=\"M54.9921 578.144 L84.6679 578.144 L84.6679 582.08 L54.9921 582.08 L54.9921 578.144 Z\" fill=\"#000000\" fill-rule=\"evenodd\" fill-opacity=\"1\" /><path clip-path=\"url(#clip790)\" d=\"M94.8067 560.413 L113.163 560.413 L113.163 564.348 L99.0891 564.348 L99.0891 572.82 Q100.108 572.473 101.126 572.311 Q102.145 572.126 103.163 572.126 Q108.95 572.126 112.33 575.297 Q115.709 578.469 115.709 583.885 Q115.709 589.464 112.237 592.566 Q108.765 595.644 102.446 595.644 Q100.27 595.644 98.0012 595.274 Q95.7558 594.904 93.3484 594.163 L93.3484 589.464 Q95.4317 590.598 97.6539 591.154 Q99.8761 591.709 102.353 591.709 Q106.358 591.709 108.696 589.603 Q111.033 587.496 111.033 583.885 Q111.033 580.274 108.696 578.168 Q106.358 576.061 102.353 576.061 Q100.478 576.061 98.603 576.478 Q96.7512 576.895 94.8067 577.774 L94.8067 560.413 Z\" fill=\"#000000\" fill-rule=\"evenodd\" fill-opacity=\"1\" /><path clip-path=\"url(#clip790)\" d=\"M103.765 391.018 Q100.154 391.018 98.3252 394.583 Q96.5197 398.125 96.5197 405.254 Q96.5197 412.361 98.3252 415.926 Q100.154 419.467 103.765 419.467 Q107.399 419.467 109.205 415.926 Q111.033 412.361 111.033 405.254 Q111.033 398.125 109.205 394.583 Q107.399 391.018 103.765 391.018 M103.765 387.315 Q109.575 387.315 112.631 391.921 Q115.709 396.504 115.709 405.254 Q115.709 413.981 112.631 418.588 Q109.575 423.171 103.765 423.171 Q97.9549 423.171 94.8762 418.588 Q91.8206 413.981 91.8206 405.254 Q91.8206 396.504 94.8762 391.921 Q97.9549 387.315 103.765 387.315 Z\" fill=\"#000000\" fill-rule=\"evenodd\" fill-opacity=\"1\" /><path clip-path=\"url(#clip790)\" d=\"M94.8067 215.466 L113.163 215.466 L113.163 219.401 L99.0891 219.401 L99.0891 227.873 Q100.108 227.526 101.126 227.364 Q102.145 227.179 103.163 227.179 Q108.95 227.179 112.33 230.35 Q115.709 233.521 115.709 238.938 Q115.709 244.517 112.237 247.619 Q108.765 250.697 102.446 250.697 Q100.27 250.697 98.0012 250.327 Q95.7558 249.957 93.3484 249.216 L93.3484 244.517 Q95.4317 245.651 97.6539 246.207 Q99.8761 246.762 102.353 246.762 Q106.358 246.762 108.696 244.656 Q111.033 242.549 111.033 238.938 Q111.033 235.327 108.696 233.221 Q106.358 231.114 102.353 231.114 Q100.478 231.114 98.603 231.531 Q96.7512 231.947 94.8067 232.827 L94.8067 215.466 Z\" fill=\"#000000\" fill-rule=\"evenodd\" fill-opacity=\"1\" /><path clip-path=\"url(#clip790)\" d=\"M64.4134 73.6173 L72.0522 73.6173 L72.0522 47.2517 L63.7421 48.9184 L63.7421 44.6591 L72.0059 42.9925 L76.6818 42.9925 L76.6818 73.6173 L84.3207 73.6173 L84.3207 77.5525 L64.4134 77.5525 L64.4134 73.6173 Z\" fill=\"#000000\" fill-rule=\"evenodd\" fill-opacity=\"1\" /><path clip-path=\"url(#clip790)\" d=\"M103.765 46.0712 Q100.154 46.0712 98.3252 49.636 Q96.5197 53.1776 96.5197 60.3072 Q96.5197 67.4136 98.3252 70.9784 Q100.154 74.5201 103.765 74.5201 Q107.399 74.5201 109.205 70.9784 Q111.033 67.4136 111.033 60.3072 Q111.033 53.1776 109.205 49.636 Q107.399 46.0712 103.765 46.0712 M103.765 42.3675 Q109.575 42.3675 112.631 46.9739 Q115.709 51.5572 115.709 60.3072 Q115.709 69.034 112.631 73.6405 Q109.575 78.2238 103.765 78.2238 Q97.9549 78.2238 94.8762 73.6405 Q91.8206 69.034 91.8206 60.3072 Q91.8206 51.5572 94.8762 46.9739 Q97.9549 42.3675 103.765 42.3675 Z\" fill=\"#000000\" fill-rule=\"evenodd\" fill-opacity=\"1\" /><circle clip-path=\"url(#clip792)\" cx=\"234.93\" cy=\"596.176\" r=\"14.4\" fill=\"#009af9\" fill-rule=\"evenodd\" fill-opacity=\"1\" stroke=\"#000000\" stroke-opacity=\"1\" stroke-width=\"1.6\"/>\n",
       "<circle clip-path=\"url(#clip792)\" cx=\"261.587\" cy=\"431.888\" r=\"14.4\" fill=\"#009af9\" fill-rule=\"evenodd\" fill-opacity=\"1\" stroke=\"#000000\" stroke-opacity=\"1\" stroke-width=\"1.6\"/>\n",
       "<circle clip-path=\"url(#clip792)\" cx=\"726.61\" cy=\"490.765\" r=\"14.4\" fill=\"#009af9\" fill-rule=\"evenodd\" fill-opacity=\"1\" stroke=\"#000000\" stroke-opacity=\"1\" stroke-width=\"1.6\"/>\n",
       "<circle clip-path=\"url(#clip792)\" cx=\"632.142\" cy=\"429.399\" r=\"14.4\" fill=\"#009af9\" fill-rule=\"evenodd\" fill-opacity=\"1\" stroke=\"#000000\" stroke-opacity=\"1\" stroke-width=\"1.6\"/>\n",
       "<circle clip-path=\"url(#clip792)\" cx=\"984.523\" cy=\"410.855\" r=\"14.4\" fill=\"#009af9\" fill-rule=\"evenodd\" fill-opacity=\"1\" stroke=\"#000000\" stroke-opacity=\"1\" stroke-width=\"1.6\"/>\n",
       "<circle clip-path=\"url(#clip792)\" cx=\"543.799\" cy=\"424.577\" r=\"14.4\" fill=\"#009af9\" fill-rule=\"evenodd\" fill-opacity=\"1\" stroke=\"#000000\" stroke-opacity=\"1\" stroke-width=\"1.6\"/>\n",
       "<circle clip-path=\"url(#clip792)\" cx=\"1059.67\" cy=\"314.01\" r=\"14.4\" fill=\"#009af9\" fill-rule=\"evenodd\" fill-opacity=\"1\" stroke=\"#000000\" stroke-opacity=\"1\" stroke-width=\"1.6\"/>\n",
       "<circle clip-path=\"url(#clip792)\" cx=\"841.425\" cy=\"477.945\" r=\"14.4\" fill=\"#009af9\" fill-rule=\"evenodd\" fill-opacity=\"1\" stroke=\"#000000\" stroke-opacity=\"1\" stroke-width=\"1.6\"/>\n",
       "<circle clip-path=\"url(#clip792)\" cx=\"718.13\" cy=\"485.631\" r=\"14.4\" fill=\"#009af9\" fill-rule=\"evenodd\" fill-opacity=\"1\" stroke=\"#000000\" stroke-opacity=\"1\" stroke-width=\"1.6\"/>\n",
       "<circle clip-path=\"url(#clip792)\" cx=\"1065.17\" cy=\"304.624\" r=\"14.4\" fill=\"#009af9\" fill-rule=\"evenodd\" fill-opacity=\"1\" stroke=\"#000000\" stroke-opacity=\"1\" stroke-width=\"1.6\"/>\n",
       "<circle clip-path=\"url(#clip792)\" cx=\"971.896\" cy=\"308.606\" r=\"14.4\" fill=\"#009af9\" fill-rule=\"evenodd\" fill-opacity=\"1\" stroke=\"#000000\" stroke-opacity=\"1\" stroke-width=\"1.6\"/>\n",
       "<circle clip-path=\"url(#clip792)\" cx=\"948.223\" cy=\"310.536\" r=\"14.4\" fill=\"#009af9\" fill-rule=\"evenodd\" fill-opacity=\"1\" stroke=\"#000000\" stroke-opacity=\"1\" stroke-width=\"1.6\"/>\n",
       "<circle clip-path=\"url(#clip792)\" cx=\"658.857\" cy=\"453.255\" r=\"14.4\" fill=\"#009af9\" fill-rule=\"evenodd\" fill-opacity=\"1\" stroke=\"#000000\" stroke-opacity=\"1\" stroke-width=\"1.6\"/>\n",
       "<circle clip-path=\"url(#clip792)\" cx=\"1143.68\" cy=\"103.465\" r=\"14.4\" fill=\"#009af9\" fill-rule=\"evenodd\" fill-opacity=\"1\" stroke=\"#000000\" stroke-opacity=\"1\" stroke-width=\"1.6\"/>\n",
       "<circle clip-path=\"url(#clip792)\" cx=\"950.017\" cy=\"317.658\" r=\"14.4\" fill=\"#009af9\" fill-rule=\"evenodd\" fill-opacity=\"1\" stroke=\"#000000\" stroke-opacity=\"1\" stroke-width=\"1.6\"/>\n",
       "<circle clip-path=\"url(#clip792)\" cx=\"1039.94\" cy=\"420.494\" r=\"14.4\" fill=\"#009af9\" fill-rule=\"evenodd\" fill-opacity=\"1\" stroke=\"#000000\" stroke-opacity=\"1\" stroke-width=\"1.6\"/>\n",
       "<circle clip-path=\"url(#clip792)\" cx=\"780.587\" cy=\"381.063\" r=\"14.4\" fill=\"#009af9\" fill-rule=\"evenodd\" fill-opacity=\"1\" stroke=\"#000000\" stroke-opacity=\"1\" stroke-width=\"1.6\"/>\n",
       "<circle clip-path=\"url(#clip792)\" cx=\"832.03\" cy=\"498.113\" r=\"14.4\" fill=\"#009af9\" fill-rule=\"evenodd\" fill-opacity=\"1\" stroke=\"#000000\" stroke-opacity=\"1\" stroke-width=\"1.6\"/>\n",
       "<circle clip-path=\"url(#clip792)\" cx=\"840.447\" cy=\"381.935\" r=\"14.4\" fill=\"#009af9\" fill-rule=\"evenodd\" fill-opacity=\"1\" stroke=\"#000000\" stroke-opacity=\"1\" stroke-width=\"1.6\"/>\n",
       "<circle clip-path=\"url(#clip792)\" cx=\"1053.46\" cy=\"303.647\" r=\"14.4\" fill=\"#009af9\" fill-rule=\"evenodd\" fill-opacity=\"1\" stroke=\"#000000\" stroke-opacity=\"1\" stroke-width=\"1.6\"/>\n",
       "<circle clip-path=\"url(#clip792)\" cx=\"1029.83\" cy=\"341.618\" r=\"14.4\" fill=\"#009af9\" fill-rule=\"evenodd\" fill-opacity=\"1\" stroke=\"#000000\" stroke-opacity=\"1\" stroke-width=\"1.6\"/>\n",
       "<circle clip-path=\"url(#clip792)\" cx=\"962.995\" cy=\"328.768\" r=\"14.4\" fill=\"#009af9\" fill-rule=\"evenodd\" fill-opacity=\"1\" stroke=\"#000000\" stroke-opacity=\"1\" stroke-width=\"1.6\"/>\n",
       "<circle clip-path=\"url(#clip792)\" cx=\"1296.91\" cy=\"324.47\" r=\"14.4\" fill=\"#009af9\" fill-rule=\"evenodd\" fill-opacity=\"1\" stroke=\"#000000\" stroke-opacity=\"1\" stroke-width=\"1.6\"/>\n",
       "<circle clip-path=\"url(#clip792)\" cx=\"932.248\" cy=\"451.812\" r=\"14.4\" fill=\"#009af9\" fill-rule=\"evenodd\" fill-opacity=\"1\" stroke=\"#000000\" stroke-opacity=\"1\" stroke-width=\"1.6\"/>\n",
       "<circle clip-path=\"url(#clip792)\" cx=\"787.815\" cy=\"453.503\" r=\"14.4\" fill=\"#009af9\" fill-rule=\"evenodd\" fill-opacity=\"1\" stroke=\"#000000\" stroke-opacity=\"1\" stroke-width=\"1.6\"/>\n",
       "<circle clip-path=\"url(#clip792)\" cx=\"840.403\" cy=\"453.537\" r=\"14.4\" fill=\"#009af9\" fill-rule=\"evenodd\" fill-opacity=\"1\" stroke=\"#000000\" stroke-opacity=\"1\" stroke-width=\"1.6\"/>\n",
       "<circle clip-path=\"url(#clip792)\" cx=\"746.233\" cy=\"446.531\" r=\"14.4\" fill=\"#009af9\" fill-rule=\"evenodd\" fill-opacity=\"1\" stroke=\"#000000\" stroke-opacity=\"1\" stroke-width=\"1.6\"/>\n",
       "<circle clip-path=\"url(#clip792)\" cx=\"604.618\" cy=\"535.584\" r=\"14.4\" fill=\"#009af9\" fill-rule=\"evenodd\" fill-opacity=\"1\" stroke=\"#000000\" stroke-opacity=\"1\" stroke-width=\"1.6\"/>\n",
       "<circle clip-path=\"url(#clip792)\" cx=\"711.717\" cy=\"398.511\" r=\"14.4\" fill=\"#009af9\" fill-rule=\"evenodd\" fill-opacity=\"1\" stroke=\"#000000\" stroke-opacity=\"1\" stroke-width=\"1.6\"/>\n",
       "<circle clip-path=\"url(#clip792)\" cx=\"783.051\" cy=\"455.633\" r=\"14.4\" fill=\"#009af9\" fill-rule=\"evenodd\" fill-opacity=\"1\" stroke=\"#000000\" stroke-opacity=\"1\" stroke-width=\"1.6\"/>\n",
       "<circle clip-path=\"url(#clip792)\" cx=\"1013.85\" cy=\"351.537\" r=\"14.4\" fill=\"#009af9\" fill-rule=\"evenodd\" fill-opacity=\"1\" stroke=\"#000000\" stroke-opacity=\"1\" stroke-width=\"1.6\"/>\n",
       "<circle clip-path=\"url(#clip792)\" cx=\"585.902\" cy=\"439.1\" r=\"14.4\" fill=\"#009af9\" fill-rule=\"evenodd\" fill-opacity=\"1\" stroke=\"#000000\" stroke-opacity=\"1\" stroke-width=\"1.6\"/>\n",
       "<circle clip-path=\"url(#clip792)\" cx=\"606.141\" cy=\"511.398\" r=\"14.4\" fill=\"#009af9\" fill-rule=\"evenodd\" fill-opacity=\"1\" stroke=\"#000000\" stroke-opacity=\"1\" stroke-width=\"1.6\"/>\n",
       "<circle clip-path=\"url(#clip792)\" cx=\"402.388\" cy=\"491.006\" r=\"14.4\" fill=\"#009af9\" fill-rule=\"evenodd\" fill-opacity=\"1\" stroke=\"#000000\" stroke-opacity=\"1\" stroke-width=\"1.6\"/>\n",
       "<circle clip-path=\"url(#clip792)\" cx=\"751.1\" cy=\"447.684\" r=\"14.4\" fill=\"#009af9\" fill-rule=\"evenodd\" fill-opacity=\"1\" stroke=\"#000000\" stroke-opacity=\"1\" stroke-width=\"1.6\"/>\n",
       "<circle clip-path=\"url(#clip792)\" cx=\"179.701\" cy=\"517.465\" r=\"14.4\" fill=\"#009af9\" fill-rule=\"evenodd\" fill-opacity=\"1\" stroke=\"#000000\" stroke-opacity=\"1\" stroke-width=\"1.6\"/>\n",
       "<circle clip-path=\"url(#clip792)\" cx=\"690.986\" cy=\"393.479\" r=\"14.4\" fill=\"#009af9\" fill-rule=\"evenodd\" fill-opacity=\"1\" stroke=\"#000000\" stroke-opacity=\"1\" stroke-width=\"1.6\"/>\n",
       "<circle clip-path=\"url(#clip792)\" cx=\"632.644\" cy=\"482.172\" r=\"14.4\" fill=\"#009af9\" fill-rule=\"evenodd\" fill-opacity=\"1\" stroke=\"#000000\" stroke-opacity=\"1\" stroke-width=\"1.6\"/>\n",
       "<circle clip-path=\"url(#clip792)\" cx=\"597.436\" cy=\"516.86\" r=\"14.4\" fill=\"#009af9\" fill-rule=\"evenodd\" fill-opacity=\"1\" stroke=\"#000000\" stroke-opacity=\"1\" stroke-width=\"1.6\"/>\n",
       "<circle clip-path=\"url(#clip792)\" cx=\"1038.75\" cy=\"300.245\" r=\"14.4\" fill=\"#009af9\" fill-rule=\"evenodd\" fill-opacity=\"1\" stroke=\"#000000\" stroke-opacity=\"1\" stroke-width=\"1.6\"/>\n",
       "<circle clip-path=\"url(#clip792)\" cx=\"393.578\" cy=\"654.101\" r=\"14.4\" fill=\"#009af9\" fill-rule=\"evenodd\" fill-opacity=\"1\" stroke=\"#000000\" stroke-opacity=\"1\" stroke-width=\"1.6\"/>\n",
       "<circle clip-path=\"url(#clip792)\" cx=\"697.632\" cy=\"307.067\" r=\"14.4\" fill=\"#009af9\" fill-rule=\"evenodd\" fill-opacity=\"1\" stroke=\"#000000\" stroke-opacity=\"1\" stroke-width=\"1.6\"/>\n",
       "<circle clip-path=\"url(#clip792)\" cx=\"310.325\" cy=\"656.672\" r=\"14.4\" fill=\"#009af9\" fill-rule=\"evenodd\" fill-opacity=\"1\" stroke=\"#000000\" stroke-opacity=\"1\" stroke-width=\"1.6\"/>\n",
       "<circle clip-path=\"url(#clip792)\" cx=\"663.285\" cy=\"473.321\" r=\"14.4\" fill=\"#009af9\" fill-rule=\"evenodd\" fill-opacity=\"1\" stroke=\"#000000\" stroke-opacity=\"1\" stroke-width=\"1.6\"/>\n",
       "<circle clip-path=\"url(#clip792)\" cx=\"523.114\" cy=\"407.614\" r=\"14.4\" fill=\"#009af9\" fill-rule=\"evenodd\" fill-opacity=\"1\" stroke=\"#000000\" stroke-opacity=\"1\" stroke-width=\"1.6\"/>\n",
       "<circle clip-path=\"url(#clip792)\" cx=\"695.892\" cy=\"416.5\" r=\"14.4\" fill=\"#009af9\" fill-rule=\"evenodd\" fill-opacity=\"1\" stroke=\"#000000\" stroke-opacity=\"1\" stroke-width=\"1.6\"/>\n",
       "<circle clip-path=\"url(#clip792)\" cx=\"426.863\" cy=\"606.101\" r=\"14.4\" fill=\"#009af9\" fill-rule=\"evenodd\" fill-opacity=\"1\" stroke=\"#000000\" stroke-opacity=\"1\" stroke-width=\"1.6\"/>\n",
       "<circle clip-path=\"url(#clip792)\" cx=\"707.155\" cy=\"377.943\" r=\"14.4\" fill=\"#009af9\" fill-rule=\"evenodd\" fill-opacity=\"1\" stroke=\"#000000\" stroke-opacity=\"1\" stroke-width=\"1.6\"/>\n",
       "<circle clip-path=\"url(#clip792)\" cx=\"631.478\" cy=\"454.005\" r=\"14.4\" fill=\"#009af9\" fill-rule=\"evenodd\" fill-opacity=\"1\" stroke=\"#000000\" stroke-opacity=\"1\" stroke-width=\"1.6\"/>\n",
       "<circle clip-path=\"url(#clip792)\" cx=\"1007.59\" cy=\"435.81\" r=\"14.4\" fill=\"#009af9\" fill-rule=\"evenodd\" fill-opacity=\"1\" stroke=\"#000000\" stroke-opacity=\"1\" stroke-width=\"1.6\"/>\n",
       "<circle clip-path=\"url(#clip792)\" cx=\"584.44\" cy=\"552.583\" r=\"14.4\" fill=\"#009af9\" fill-rule=\"evenodd\" fill-opacity=\"1\" stroke=\"#000000\" stroke-opacity=\"1\" stroke-width=\"1.6\"/>\n",
       "<circle clip-path=\"url(#clip792)\" cx=\"599.634\" cy=\"593.084\" r=\"14.4\" fill=\"#009af9\" fill-rule=\"evenodd\" fill-opacity=\"1\" stroke=\"#000000\" stroke-opacity=\"1\" stroke-width=\"1.6\"/>\n",
       "<circle clip-path=\"url(#clip792)\" cx=\"238.906\" cy=\"604.657\" r=\"14.4\" fill=\"#009af9\" fill-rule=\"evenodd\" fill-opacity=\"1\" stroke=\"#000000\" stroke-opacity=\"1\" stroke-width=\"1.6\"/>\n",
       "<circle clip-path=\"url(#clip792)\" cx=\"1211.4\" cy=\"190.345\" r=\"14.4\" fill=\"#009af9\" fill-rule=\"evenodd\" fill-opacity=\"1\" stroke=\"#000000\" stroke-opacity=\"1\" stroke-width=\"1.6\"/>\n",
       "<circle clip-path=\"url(#clip792)\" cx=\"1046.94\" cy=\"244.227\" r=\"14.4\" fill=\"#009af9\" fill-rule=\"evenodd\" fill-opacity=\"1\" stroke=\"#000000\" stroke-opacity=\"1\" stroke-width=\"1.6\"/>\n",
       "<circle clip-path=\"url(#clip792)\" cx=\"1371.24\" cy=\"111.65\" r=\"14.4\" fill=\"#009af9\" fill-rule=\"evenodd\" fill-opacity=\"1\" stroke=\"#000000\" stroke-opacity=\"1\" stroke-width=\"1.6\"/>\n",
       "<circle clip-path=\"url(#clip792)\" cx=\"958.366\" cy=\"301.274\" r=\"14.4\" fill=\"#009af9\" fill-rule=\"evenodd\" fill-opacity=\"1\" stroke=\"#000000\" stroke-opacity=\"1\" stroke-width=\"1.6\"/>\n",
       "<circle clip-path=\"url(#clip792)\" cx=\"327.915\" cy=\"563.921\" r=\"14.4\" fill=\"#009af9\" fill-rule=\"evenodd\" fill-opacity=\"1\" stroke=\"#000000\" stroke-opacity=\"1\" stroke-width=\"1.6\"/>\n",
       "<circle clip-path=\"url(#clip792)\" cx=\"975.103\" cy=\"274.604\" r=\"14.4\" fill=\"#009af9\" fill-rule=\"evenodd\" fill-opacity=\"1\" stroke=\"#000000\" stroke-opacity=\"1\" stroke-width=\"1.6\"/>\n",
       "<circle clip-path=\"url(#clip792)\" cx=\"719.711\" cy=\"364.066\" r=\"14.4\" fill=\"#009af9\" fill-rule=\"evenodd\" fill-opacity=\"1\" stroke=\"#000000\" stroke-opacity=\"1\" stroke-width=\"1.6\"/>\n",
       "<circle clip-path=\"url(#clip792)\" cx=\"398.867\" cy=\"530.458\" r=\"14.4\" fill=\"#009af9\" fill-rule=\"evenodd\" fill-opacity=\"1\" stroke=\"#000000\" stroke-opacity=\"1\" stroke-width=\"1.6\"/>\n",
       "<circle clip-path=\"url(#clip792)\" cx=\"617.937\" cy=\"456.893\" r=\"14.4\" fill=\"#009af9\" fill-rule=\"evenodd\" fill-opacity=\"1\" stroke=\"#000000\" stroke-opacity=\"1\" stroke-width=\"1.6\"/>\n",
       "<circle clip-path=\"url(#clip792)\" cx=\"825.782\" cy=\"442.436\" r=\"14.4\" fill=\"#009af9\" fill-rule=\"evenodd\" fill-opacity=\"1\" stroke=\"#000000\" stroke-opacity=\"1\" stroke-width=\"1.6\"/>\n",
       "<circle clip-path=\"url(#clip792)\" cx=\"1312.58\" cy=\"197.272\" r=\"14.4\" fill=\"#009af9\" fill-rule=\"evenodd\" fill-opacity=\"1\" stroke=\"#000000\" stroke-opacity=\"1\" stroke-width=\"1.6\"/>\n",
       "<circle clip-path=\"url(#clip792)\" cx=\"1512.76\" cy=\"65.8057\" r=\"14.4\" fill=\"#009af9\" fill-rule=\"evenodd\" fill-opacity=\"1\" stroke=\"#000000\" stroke-opacity=\"1\" stroke-width=\"1.6\"/>\n",
       "<circle clip-path=\"url(#clip792)\" cx=\"1179.33\" cy=\"214.87\" r=\"14.4\" fill=\"#009af9\" fill-rule=\"evenodd\" fill-opacity=\"1\" stroke=\"#000000\" stroke-opacity=\"1\" stroke-width=\"1.6\"/>\n",
       "<circle clip-path=\"url(#clip792)\" cx=\"711.669\" cy=\"475.354\" r=\"14.4\" fill=\"#009af9\" fill-rule=\"evenodd\" fill-opacity=\"1\" stroke=\"#000000\" stroke-opacity=\"1\" stroke-width=\"1.6\"/>\n",
       "<circle clip-path=\"url(#clip792)\" cx=\"844.706\" cy=\"398.104\" r=\"14.4\" fill=\"#009af9\" fill-rule=\"evenodd\" fill-opacity=\"1\" stroke=\"#000000\" stroke-opacity=\"1\" stroke-width=\"1.6\"/>\n",
       "<circle clip-path=\"url(#clip792)\" cx=\"755.578\" cy=\"422.325\" r=\"14.4\" fill=\"#009af9\" fill-rule=\"evenodd\" fill-opacity=\"1\" stroke=\"#000000\" stroke-opacity=\"1\" stroke-width=\"1.6\"/>\n",
       "<circle clip-path=\"url(#clip792)\" cx=\"294.17\" cy=\"684.526\" r=\"14.4\" fill=\"#009af9\" fill-rule=\"evenodd\" fill-opacity=\"1\" stroke=\"#000000\" stroke-opacity=\"1\" stroke-width=\"1.6\"/>\n",
       "<circle clip-path=\"url(#clip792)\" cx=\"765.309\" cy=\"409.894\" r=\"14.4\" fill=\"#009af9\" fill-rule=\"evenodd\" fill-opacity=\"1\" stroke=\"#000000\" stroke-opacity=\"1\" stroke-width=\"1.6\"/>\n",
       "<circle clip-path=\"url(#clip792)\" cx=\"543.617\" cy=\"568.559\" r=\"14.4\" fill=\"#009af9\" fill-rule=\"evenodd\" fill-opacity=\"1\" stroke=\"#000000\" stroke-opacity=\"1\" stroke-width=\"1.6\"/>\n",
       "<circle clip-path=\"url(#clip792)\" cx=\"580.984\" cy=\"528.259\" r=\"14.4\" fill=\"#009af9\" fill-rule=\"evenodd\" fill-opacity=\"1\" stroke=\"#000000\" stroke-opacity=\"1\" stroke-width=\"1.6\"/>\n",
       "<circle clip-path=\"url(#clip792)\" cx=\"1058.42\" cy=\"295.657\" r=\"14.4\" fill=\"#009af9\" fill-rule=\"evenodd\" fill-opacity=\"1\" stroke=\"#000000\" stroke-opacity=\"1\" stroke-width=\"1.6\"/>\n",
       "<circle clip-path=\"url(#clip792)\" cx=\"396.264\" cy=\"483.452\" r=\"14.4\" fill=\"#009af9\" fill-rule=\"evenodd\" fill-opacity=\"1\" stroke=\"#000000\" stroke-opacity=\"1\" stroke-width=\"1.6\"/>\n",
       "<circle clip-path=\"url(#clip792)\" cx=\"940.48\" cy=\"343.542\" r=\"14.4\" fill=\"#009af9\" fill-rule=\"evenodd\" fill-opacity=\"1\" stroke=\"#000000\" stroke-opacity=\"1\" stroke-width=\"1.6\"/>\n",
       "<circle clip-path=\"url(#clip792)\" cx=\"396.674\" cy=\"434.045\" r=\"14.4\" fill=\"#009af9\" fill-rule=\"evenodd\" fill-opacity=\"1\" stroke=\"#000000\" stroke-opacity=\"1\" stroke-width=\"1.6\"/>\n",
       "<circle clip-path=\"url(#clip792)\" cx=\"906.724\" cy=\"333.81\" r=\"14.4\" fill=\"#009af9\" fill-rule=\"evenodd\" fill-opacity=\"1\" stroke=\"#000000\" stroke-opacity=\"1\" stroke-width=\"1.6\"/>\n",
       "<circle clip-path=\"url(#clip792)\" cx=\"1192.64\" cy=\"287.704\" r=\"14.4\" fill=\"#009af9\" fill-rule=\"evenodd\" fill-opacity=\"1\" stroke=\"#000000\" stroke-opacity=\"1\" stroke-width=\"1.6\"/>\n",
       "<circle clip-path=\"url(#clip792)\" cx=\"691.971\" cy=\"482.371\" r=\"14.4\" fill=\"#009af9\" fill-rule=\"evenodd\" fill-opacity=\"1\" stroke=\"#000000\" stroke-opacity=\"1\" stroke-width=\"1.6\"/>\n",
       "<circle clip-path=\"url(#clip792)\" cx=\"868.642\" cy=\"361.006\" r=\"14.4\" fill=\"#009af9\" fill-rule=\"evenodd\" fill-opacity=\"1\" stroke=\"#000000\" stroke-opacity=\"1\" stroke-width=\"1.6\"/>\n",
       "<circle clip-path=\"url(#clip792)\" cx=\"444.628\" cy=\"522.975\" r=\"14.4\" fill=\"#009af9\" fill-rule=\"evenodd\" fill-opacity=\"1\" stroke=\"#000000\" stroke-opacity=\"1\" stroke-width=\"1.6\"/>\n",
       "<circle clip-path=\"url(#clip792)\" cx=\"685.075\" cy=\"453.367\" r=\"14.4\" fill=\"#009af9\" fill-rule=\"evenodd\" fill-opacity=\"1\" stroke=\"#000000\" stroke-opacity=\"1\" stroke-width=\"1.6\"/>\n",
       "<circle clip-path=\"url(#clip792)\" cx=\"858.896\" cy=\"259.551\" r=\"14.4\" fill=\"#009af9\" fill-rule=\"evenodd\" fill-opacity=\"1\" stroke=\"#000000\" stroke-opacity=\"1\" stroke-width=\"1.6\"/>\n",
       "<circle clip-path=\"url(#clip792)\" cx=\"1046.28\" cy=\"177.079\" r=\"14.4\" fill=\"#009af9\" fill-rule=\"evenodd\" fill-opacity=\"1\" stroke=\"#000000\" stroke-opacity=\"1\" stroke-width=\"1.6\"/>\n",
       "<circle clip-path=\"url(#clip792)\" cx=\"735.362\" cy=\"516.014\" r=\"14.4\" fill=\"#009af9\" fill-rule=\"evenodd\" fill-opacity=\"1\" stroke=\"#000000\" stroke-opacity=\"1\" stroke-width=\"1.6\"/>\n",
       "<circle clip-path=\"url(#clip792)\" cx=\"555.764\" cy=\"514.109\" r=\"14.4\" fill=\"#009af9\" fill-rule=\"evenodd\" fill-opacity=\"1\" stroke=\"#000000\" stroke-opacity=\"1\" stroke-width=\"1.6\"/>\n",
       "<circle clip-path=\"url(#clip792)\" cx=\"623.041\" cy=\"504.684\" r=\"14.4\" fill=\"#009af9\" fill-rule=\"evenodd\" fill-opacity=\"1\" stroke=\"#000000\" stroke-opacity=\"1\" stroke-width=\"1.6\"/>\n",
       "<circle clip-path=\"url(#clip792)\" cx=\"817.269\" cy=\"377.142\" r=\"14.4\" fill=\"#009af9\" fill-rule=\"evenodd\" fill-opacity=\"1\" stroke=\"#000000\" stroke-opacity=\"1\" stroke-width=\"1.6\"/>\n",
       "<circle clip-path=\"url(#clip792)\" cx=\"761.16\" cy=\"563.614\" r=\"14.4\" fill=\"#009af9\" fill-rule=\"evenodd\" fill-opacity=\"1\" stroke=\"#000000\" stroke-opacity=\"1\" stroke-width=\"1.6\"/>\n",
       "<circle clip-path=\"url(#clip792)\" cx=\"417.633\" cy=\"489.167\" r=\"14.4\" fill=\"#009af9\" fill-rule=\"evenodd\" fill-opacity=\"1\" stroke=\"#000000\" stroke-opacity=\"1\" stroke-width=\"1.6\"/>\n",
       "<circle clip-path=\"url(#clip792)\" cx=\"923.719\" cy=\"313.005\" r=\"14.4\" fill=\"#009af9\" fill-rule=\"evenodd\" fill-opacity=\"1\" stroke=\"#000000\" stroke-opacity=\"1\" stroke-width=\"1.6\"/>\n",
       "<circle clip-path=\"url(#clip792)\" cx=\"808.304\" cy=\"415.591\" r=\"14.4\" fill=\"#009af9\" fill-rule=\"evenodd\" fill-opacity=\"1\" stroke=\"#000000\" stroke-opacity=\"1\" stroke-width=\"1.6\"/>\n",
       "<circle clip-path=\"url(#clip792)\" cx=\"653.815\" cy=\"274.099\" r=\"14.4\" fill=\"#009af9\" fill-rule=\"evenodd\" fill-opacity=\"1\" stroke=\"#000000\" stroke-opacity=\"1\" stroke-width=\"1.6\"/>\n",
       "<circle clip-path=\"url(#clip792)\" cx=\"937.476\" cy=\"285.717\" r=\"14.4\" fill=\"#009af9\" fill-rule=\"evenodd\" fill-opacity=\"1\" stroke=\"#000000\" stroke-opacity=\"1\" stroke-width=\"1.6\"/>\n",
       "<circle clip-path=\"url(#clip792)\" cx=\"1043.94\" cy=\"254.564\" r=\"14.4\" fill=\"#009af9\" fill-rule=\"evenodd\" fill-opacity=\"1\" stroke=\"#000000\" stroke-opacity=\"1\" stroke-width=\"1.6\"/>\n",
       "<circle clip-path=\"url(#clip792)\" cx=\"1356.72\" cy=\"93.3502\" r=\"14.4\" fill=\"#009af9\" fill-rule=\"evenodd\" fill-opacity=\"1\" stroke=\"#000000\" stroke-opacity=\"1\" stroke-width=\"1.6\"/>\n",
       "<circle clip-path=\"url(#clip792)\" cx=\"381.645\" cy=\"570.957\" r=\"14.4\" fill=\"#009af9\" fill-rule=\"evenodd\" fill-opacity=\"1\" stroke=\"#000000\" stroke-opacity=\"1\" stroke-width=\"1.6\"/>\n",
       "<circle clip-path=\"url(#clip792)\" cx=\"312.861\" cy=\"523.005\" r=\"14.4\" fill=\"#009af9\" fill-rule=\"evenodd\" fill-opacity=\"1\" stroke=\"#000000\" stroke-opacity=\"1\" stroke-width=\"1.6\"/>\n",
       "<circle clip-path=\"url(#clip792)\" cx=\"1250.95\" cy=\"236.591\" r=\"14.4\" fill=\"#009af9\" fill-rule=\"evenodd\" fill-opacity=\"1\" stroke=\"#000000\" stroke-opacity=\"1\" stroke-width=\"1.6\"/>\n",
       "<path clip-path=\"url(#clip790)\" d=\"M186.811 172.786 L427.976 172.786 L427.976 69.1056 L186.811 69.1056  Z\" fill=\"#ffffff\" fill-rule=\"evenodd\" fill-opacity=\"1\"/>\n",
       "<polyline clip-path=\"url(#clip790)\" style=\"stroke:#000000; stroke-linecap:round; stroke-linejoin:round; stroke-width:4; stroke-opacity:1; fill:none\" points=\"186.811,172.786 427.976,172.786 427.976,69.1056 186.811,69.1056 186.811,172.786 \"/>\n",
       "<circle clip-path=\"url(#clip790)\" cx=\"249.613\" cy=\"120.946\" r=\"23.04\" fill=\"#009af9\" fill-rule=\"evenodd\" fill-opacity=\"1\" stroke=\"#000000\" stroke-opacity=\"1\" stroke-width=\"2.56\"/>\n",
       "<path clip-path=\"url(#clip790)\" d=\"M331.327 116.235 L331.327 102.207 L335.586 102.207 L335.586 138.226 L331.327 138.226 L331.327 134.337 Q329.984 136.651 327.924 137.786 Q325.887 138.897 323.017 138.897 Q318.318 138.897 315.355 135.147 Q312.415 131.397 312.415 125.286 Q312.415 119.175 315.355 115.425 Q318.318 111.675 323.017 111.675 Q325.887 111.675 327.924 112.809 Q329.984 113.92 331.327 116.235 M316.813 125.286 Q316.813 129.985 318.734 132.67 Q320.679 135.332 324.059 135.332 Q327.438 135.332 329.383 132.67 Q331.327 129.985 331.327 125.286 Q331.327 120.587 329.383 117.925 Q327.438 115.24 324.059 115.24 Q320.679 115.24 318.734 117.925 Q316.813 120.587 316.813 125.286 Z\" fill=\"#000000\" fill-rule=\"evenodd\" fill-opacity=\"1\" /><path clip-path=\"url(#clip790)\" d=\"M356.142 125.193 Q350.98 125.193 348.989 126.374 Q346.998 127.554 346.998 130.402 Q346.998 132.67 348.48 134.013 Q349.984 135.332 352.554 135.332 Q356.095 135.332 358.225 132.832 Q360.378 130.309 360.378 126.142 L360.378 125.193 L356.142 125.193 M364.637 123.434 L364.637 138.226 L360.378 138.226 L360.378 134.29 Q358.919 136.651 356.744 137.786 Q354.568 138.897 351.419 138.897 Q347.438 138.897 345.077 136.675 Q342.739 134.429 342.739 130.679 Q342.739 126.304 345.656 124.082 Q348.595 121.86 354.406 121.86 L360.378 121.86 L360.378 121.443 Q360.378 118.503 358.433 116.906 Q356.512 115.286 353.017 115.286 Q350.795 115.286 348.688 115.818 Q346.582 116.351 344.637 117.415 L344.637 113.48 Q346.975 112.578 349.174 112.138 Q351.373 111.675 353.457 111.675 Q359.081 111.675 361.859 114.591 Q364.637 117.508 364.637 123.434 Z\" fill=\"#000000\" fill-rule=\"evenodd\" fill-opacity=\"1\" /><path clip-path=\"url(#clip790)\" d=\"M377.623 104.939 L377.623 112.3 L386.396 112.3 L386.396 115.61 L377.623 115.61 L377.623 129.684 Q377.623 132.855 378.48 133.758 Q379.359 134.661 382.021 134.661 L386.396 134.661 L386.396 138.226 L382.021 138.226 Q377.091 138.226 375.216 136.397 Q373.341 134.545 373.341 129.684 L373.341 115.61 L370.216 115.61 L370.216 112.3 L373.341 112.3 L373.341 104.939 L377.623 104.939 Z\" fill=\"#000000\" fill-rule=\"evenodd\" fill-opacity=\"1\" /><path clip-path=\"url(#clip790)\" d=\"M403.78 125.193 Q398.618 125.193 396.628 126.374 Q394.637 127.554 394.637 130.402 Q394.637 132.67 396.118 134.013 Q397.623 135.332 400.192 135.332 Q403.734 135.332 405.864 132.832 Q408.016 130.309 408.016 126.142 L408.016 125.193 L403.78 125.193 M412.276 123.434 L412.276 138.226 L408.016 138.226 L408.016 134.29 Q406.558 136.651 404.382 137.786 Q402.206 138.897 399.058 138.897 Q395.077 138.897 392.716 136.675 Q390.378 134.429 390.378 130.679 Q390.378 126.304 393.294 124.082 Q396.234 121.86 402.044 121.86 L408.016 121.86 L408.016 121.443 Q408.016 118.503 406.072 116.906 Q404.151 115.286 400.655 115.286 Q398.433 115.286 396.327 115.818 Q394.22 116.351 392.276 117.415 L392.276 113.48 Q394.614 112.578 396.813 112.138 Q399.012 111.675 401.095 111.675 Q406.72 111.675 409.498 114.591 Q412.276 117.508 412.276 123.434 Z\" fill=\"#000000\" fill-rule=\"evenodd\" fill-opacity=\"1\" /></svg>\n"
      ]
     },
     "execution_count": 11,
     "metadata": {},
     "output_type": "execute_result"
    }
   ],
   "source": [
    "scatter(X, Y, size = (400, 200), label = \"data\"  )"
   ]
  },
  {
   "cell_type": "code",
   "execution_count": 12,
   "id": "c3376337-045a-42e7-8777-ebe82e1ec59c",
   "metadata": {
    "tags": []
   },
   "outputs": [
    {
     "data": {
      "text/plain": [
       "StatsModels.TableRegressionModel{LinearModel{GLM.LmResp{Vector{Float64}}, GLM.DensePredChol{Float64, LinearAlgebra.CholeskyPivoted{Float64, Matrix{Float64}, Vector{Int64}}}}, Matrix{Float64}}\n",
       "\n",
       "Y ~ 1 + X\n",
       "\n",
       "Coefficients:\n",
       "────────────────────────────────────────────────────────────────────────\n",
       "                Coef.  Std. Error      t  Pr(>|t|)  Lower 95%  Upper 95%\n",
       "────────────────────────────────────────────────────────────────────────\n",
       "(Intercept)  -0.25643    0.197721  -1.30    0.1977  -0.648801   0.135941\n",
       "X             3.19593    0.203858  15.68    <1e-27   2.79138    3.60048\n",
       "────────────────────────────────────────────────────────────────────────"
      ]
     },
     "execution_count": 12,
     "metadata": {},
     "output_type": "execute_result"
    }
   ],
   "source": [
    "# Linear regression\n",
    "out = lm(@formula(Y ~ X), df)"
   ]
  },
  {
   "cell_type": "code",
   "execution_count": 13,
   "id": "0da22506-b0e9-4127-a788-aca4c01f916e",
   "metadata": {
    "tags": []
   },
   "outputs": [
    {
     "data": {
      "image/svg+xml": [
       "<?xml version=\"1.0\" encoding=\"utf-8\"?>\n",
       "<svg xmlns=\"http://www.w3.org/2000/svg\" xmlns:xlink=\"http://www.w3.org/1999/xlink\" width=\"400\" height=\"200\" viewBox=\"0 0 1600 800\">\n",
       "<defs>\n",
       "  <clipPath id=\"clip830\">\n",
       "    <rect x=\"0\" y=\"0\" width=\"1600\" height=\"800\"/>\n",
       "  </clipPath>\n",
       "</defs>\n",
       "<path clip-path=\"url(#clip830)\" d=\"M0 800 L1600 800 L1600 0 L0 0  Z\" fill=\"#ffffff\" fill-rule=\"evenodd\" fill-opacity=\"1\"/>\n",
       "<defs>\n",
       "  <clipPath id=\"clip831\">\n",
       "    <rect x=\"320\" y=\"0\" width=\"1121\" height=\"800\"/>\n",
       "  </clipPath>\n",
       "</defs>\n",
       "<path clip-path=\"url(#clip830)\" d=\"M139.709 703.088 L1552.76 703.088 L1552.76 47.2441 L139.709 47.2441  Z\" fill=\"#ffffff\" fill-rule=\"evenodd\" fill-opacity=\"1\"/>\n",
       "<defs>\n",
       "  <clipPath id=\"clip832\">\n",
       "    <rect x=\"139\" y=\"47\" width=\"1414\" height=\"657\"/>\n",
       "  </clipPath>\n",
       "</defs>\n",
       "<polyline clip-path=\"url(#clip832)\" style=\"stroke:#000000; stroke-linecap:round; stroke-linejoin:round; stroke-width:2; stroke-opacity:0.1; fill:none\" points=\"174.424,703.088 174.424,47.2441 \"/>\n",
       "<polyline clip-path=\"url(#clip832)\" style=\"stroke:#000000; stroke-linecap:round; stroke-linejoin:round; stroke-width:2; stroke-opacity:0.1; fill:none\" points=\"464.614,703.088 464.614,47.2441 \"/>\n",
       "<polyline clip-path=\"url(#clip832)\" style=\"stroke:#000000; stroke-linecap:round; stroke-linejoin:round; stroke-width:2; stroke-opacity:0.1; fill:none\" points=\"754.804,703.088 754.804,47.2441 \"/>\n",
       "<polyline clip-path=\"url(#clip832)\" style=\"stroke:#000000; stroke-linecap:round; stroke-linejoin:round; stroke-width:2; stroke-opacity:0.1; fill:none\" points=\"1044.99,703.088 1044.99,47.2441 \"/>\n",
       "<polyline clip-path=\"url(#clip832)\" style=\"stroke:#000000; stroke-linecap:round; stroke-linejoin:round; stroke-width:2; stroke-opacity:0.1; fill:none\" points=\"1335.18,703.088 1335.18,47.2441 \"/>\n",
       "<polyline clip-path=\"url(#clip830)\" style=\"stroke:#000000; stroke-linecap:round; stroke-linejoin:round; stroke-width:4; stroke-opacity:1; fill:none\" points=\"139.709,703.088 1552.76,703.088 \"/>\n",
       "<polyline clip-path=\"url(#clip830)\" style=\"stroke:#000000; stroke-linecap:round; stroke-linejoin:round; stroke-width:4; stroke-opacity:1; fill:none\" points=\"174.424,703.088 174.424,684.19 \"/>\n",
       "<polyline clip-path=\"url(#clip830)\" style=\"stroke:#000000; stroke-linecap:round; stroke-linejoin:round; stroke-width:4; stroke-opacity:1; fill:none\" points=\"464.614,703.088 464.614,684.19 \"/>\n",
       "<polyline clip-path=\"url(#clip830)\" style=\"stroke:#000000; stroke-linecap:round; stroke-linejoin:round; stroke-width:4; stroke-opacity:1; fill:none\" points=\"754.804,703.088 754.804,684.19 \"/>\n",
       "<polyline clip-path=\"url(#clip830)\" style=\"stroke:#000000; stroke-linecap:round; stroke-linejoin:round; stroke-width:4; stroke-opacity:1; fill:none\" points=\"1044.99,703.088 1044.99,684.19 \"/>\n",
       "<polyline clip-path=\"url(#clip830)\" style=\"stroke:#000000; stroke-linecap:round; stroke-linejoin:round; stroke-width:4; stroke-opacity:1; fill:none\" points=\"1335.18,703.088 1335.18,684.19 \"/>\n",
       "<path clip-path=\"url(#clip830)\" d=\"M144.366 742.259 L174.042 742.259 L174.042 746.194 L144.366 746.194 L144.366 742.259 Z\" fill=\"#000000\" fill-rule=\"evenodd\" fill-opacity=\"1\" /><path clip-path=\"url(#clip830)\" d=\"M188.162 755.153 L204.482 755.153 L204.482 759.088 L182.537 759.088 L182.537 755.153 Q185.199 752.398 189.783 747.768 Q194.389 743.116 195.57 741.773 Q197.815 739.25 198.695 737.514 Q199.597 735.755 199.597 734.065 Q199.597 731.31 197.653 729.574 Q195.732 727.838 192.63 727.838 Q190.431 727.838 187.977 728.602 Q185.546 729.366 182.769 730.917 L182.769 726.195 Q185.593 725.06 188.046 724.482 Q190.5 723.903 192.537 723.903 Q197.908 723.903 201.102 726.588 Q204.296 729.273 204.296 733.764 Q204.296 735.894 203.486 737.815 Q202.699 739.713 200.593 742.306 Q200.014 742.977 196.912 746.194 Q193.81 749.389 188.162 755.153 Z\" fill=\"#000000\" fill-rule=\"evenodd\" fill-opacity=\"1\" /><path clip-path=\"url(#clip830)\" d=\"M434.371 742.259 L464.047 742.259 L464.047 746.194 L434.371 746.194 L434.371 742.259 Z\" fill=\"#000000\" fill-rule=\"evenodd\" fill-opacity=\"1\" /><path clip-path=\"url(#clip830)\" d=\"M474.95 755.153 L482.588 755.153 L482.588 728.787 L474.278 730.454 L474.278 726.195 L482.542 724.528 L487.218 724.528 L487.218 755.153 L494.857 755.153 L494.857 759.088 L474.95 759.088 L474.95 755.153 Z\" fill=\"#000000\" fill-rule=\"evenodd\" fill-opacity=\"1\" /><path clip-path=\"url(#clip830)\" d=\"M754.804 727.607 Q751.193 727.607 749.364 731.171 Q747.559 734.713 747.559 741.843 Q747.559 748.949 749.364 752.514 Q751.193 756.055 754.804 756.055 Q758.438 756.055 760.244 752.514 Q762.072 748.949 762.072 741.843 Q762.072 734.713 760.244 731.171 Q758.438 727.607 754.804 727.607 M754.804 723.903 Q760.614 723.903 763.67 728.509 Q766.748 733.093 766.748 741.843 Q766.748 750.569 763.67 755.176 Q760.614 759.759 754.804 759.759 Q748.994 759.759 745.915 755.176 Q742.86 750.569 742.86 741.843 Q742.86 733.093 745.915 728.509 Q748.994 723.903 754.804 723.903 Z\" fill=\"#000000\" fill-rule=\"evenodd\" fill-opacity=\"1\" /><path clip-path=\"url(#clip830)\" d=\"M1035.38 755.153 L1043.01 755.153 L1043.01 728.787 L1034.7 730.454 L1034.7 726.195 L1042.97 724.528 L1047.64 724.528 L1047.64 755.153 L1055.28 755.153 L1055.28 759.088 L1035.38 759.088 L1035.38 755.153 Z\" fill=\"#000000\" fill-rule=\"evenodd\" fill-opacity=\"1\" /><path clip-path=\"url(#clip830)\" d=\"M1329.84 755.153 L1346.16 755.153 L1346.16 759.088 L1324.21 759.088 L1324.21 755.153 Q1326.87 752.398 1331.46 747.768 Q1336.06 743.116 1337.24 741.773 Q1339.49 739.25 1340.37 737.514 Q1341.27 735.755 1341.27 734.065 Q1341.27 731.31 1339.33 729.574 Q1337.41 727.838 1334.3 727.838 Q1332.11 727.838 1329.65 728.602 Q1327.22 729.366 1324.44 730.917 L1324.44 726.195 Q1327.27 725.06 1329.72 724.482 Q1332.17 723.903 1334.21 723.903 Q1339.58 723.903 1342.78 726.588 Q1345.97 729.273 1345.97 733.764 Q1345.97 735.894 1345.16 737.815 Q1344.37 739.713 1342.27 742.306 Q1341.69 742.977 1338.59 746.194 Q1335.48 749.389 1329.84 755.153 Z\" fill=\"#000000\" fill-rule=\"evenodd\" fill-opacity=\"1\" /><polyline clip-path=\"url(#clip832)\" style=\"stroke:#000000; stroke-linecap:round; stroke-linejoin:round; stroke-width:2; stroke-opacity:0.1; fill:none\" points=\"139.709,577.693 1552.76,577.693 \"/>\n",
       "<polyline clip-path=\"url(#clip832)\" style=\"stroke:#000000; stroke-linecap:round; stroke-linejoin:round; stroke-width:2; stroke-opacity:0.1; fill:none\" points=\"139.709,405.22 1552.76,405.22 \"/>\n",
       "<polyline clip-path=\"url(#clip832)\" style=\"stroke:#000000; stroke-linecap:round; stroke-linejoin:round; stroke-width:2; stroke-opacity:0.1; fill:none\" points=\"139.709,232.746 1552.76,232.746 \"/>\n",
       "<polyline clip-path=\"url(#clip832)\" style=\"stroke:#000000; stroke-linecap:round; stroke-linejoin:round; stroke-width:2; stroke-opacity:0.1; fill:none\" points=\"139.709,60.2725 1552.76,60.2725 \"/>\n",
       "<polyline clip-path=\"url(#clip830)\" style=\"stroke:#000000; stroke-linecap:round; stroke-linejoin:round; stroke-width:4; stroke-opacity:1; fill:none\" points=\"139.709,703.088 139.709,47.2441 \"/>\n",
       "<polyline clip-path=\"url(#clip830)\" style=\"stroke:#000000; stroke-linecap:round; stroke-linejoin:round; stroke-width:4; stroke-opacity:1; fill:none\" points=\"139.709,577.693 158.607,577.693 \"/>\n",
       "<polyline clip-path=\"url(#clip830)\" style=\"stroke:#000000; stroke-linecap:round; stroke-linejoin:round; stroke-width:4; stroke-opacity:1; fill:none\" points=\"139.709,405.22 158.607,405.22 \"/>\n",
       "<polyline clip-path=\"url(#clip830)\" style=\"stroke:#000000; stroke-linecap:round; stroke-linejoin:round; stroke-width:4; stroke-opacity:1; fill:none\" points=\"139.709,232.746 158.607,232.746 \"/>\n",
       "<polyline clip-path=\"url(#clip830)\" style=\"stroke:#000000; stroke-linecap:round; stroke-linejoin:round; stroke-width:4; stroke-opacity:1; fill:none\" points=\"139.709,60.2725 158.607,60.2725 \"/>\n",
       "<path clip-path=\"url(#clip830)\" d=\"M54.9921 578.144 L84.6679 578.144 L84.6679 582.08 L54.9921 582.08 L54.9921 578.144 Z\" fill=\"#000000\" fill-rule=\"evenodd\" fill-opacity=\"1\" /><path clip-path=\"url(#clip830)\" d=\"M94.8067 560.413 L113.163 560.413 L113.163 564.348 L99.0891 564.348 L99.0891 572.82 Q100.108 572.473 101.126 572.311 Q102.145 572.126 103.163 572.126 Q108.95 572.126 112.33 575.297 Q115.709 578.469 115.709 583.885 Q115.709 589.464 112.237 592.566 Q108.765 595.644 102.446 595.644 Q100.27 595.644 98.0012 595.274 Q95.7558 594.904 93.3484 594.163 L93.3484 589.464 Q95.4317 590.598 97.6539 591.154 Q99.8761 591.709 102.353 591.709 Q106.358 591.709 108.696 589.603 Q111.033 587.496 111.033 583.885 Q111.033 580.274 108.696 578.168 Q106.358 576.061 102.353 576.061 Q100.478 576.061 98.603 576.478 Q96.7512 576.895 94.8067 577.774 L94.8067 560.413 Z\" fill=\"#000000\" fill-rule=\"evenodd\" fill-opacity=\"1\" /><path clip-path=\"url(#clip830)\" d=\"M103.765 391.018 Q100.154 391.018 98.3252 394.583 Q96.5197 398.125 96.5197 405.254 Q96.5197 412.361 98.3252 415.926 Q100.154 419.467 103.765 419.467 Q107.399 419.467 109.205 415.926 Q111.033 412.361 111.033 405.254 Q111.033 398.125 109.205 394.583 Q107.399 391.018 103.765 391.018 M103.765 387.315 Q109.575 387.315 112.631 391.921 Q115.709 396.504 115.709 405.254 Q115.709 413.981 112.631 418.588 Q109.575 423.171 103.765 423.171 Q97.9549 423.171 94.8762 418.588 Q91.8206 413.981 91.8206 405.254 Q91.8206 396.504 94.8762 391.921 Q97.9549 387.315 103.765 387.315 Z\" fill=\"#000000\" fill-rule=\"evenodd\" fill-opacity=\"1\" /><path clip-path=\"url(#clip830)\" d=\"M94.8067 215.466 L113.163 215.466 L113.163 219.401 L99.0891 219.401 L99.0891 227.873 Q100.108 227.526 101.126 227.364 Q102.145 227.179 103.163 227.179 Q108.95 227.179 112.33 230.35 Q115.709 233.521 115.709 238.938 Q115.709 244.517 112.237 247.619 Q108.765 250.697 102.446 250.697 Q100.27 250.697 98.0012 250.327 Q95.7558 249.957 93.3484 249.216 L93.3484 244.517 Q95.4317 245.651 97.6539 246.207 Q99.8761 246.762 102.353 246.762 Q106.358 246.762 108.696 244.656 Q111.033 242.549 111.033 238.938 Q111.033 235.327 108.696 233.221 Q106.358 231.114 102.353 231.114 Q100.478 231.114 98.603 231.531 Q96.7512 231.947 94.8067 232.827 L94.8067 215.466 Z\" fill=\"#000000\" fill-rule=\"evenodd\" fill-opacity=\"1\" /><path clip-path=\"url(#clip830)\" d=\"M64.4134 73.6173 L72.0522 73.6173 L72.0522 47.2517 L63.7421 48.9184 L63.7421 44.6591 L72.0059 42.9925 L76.6818 42.9925 L76.6818 73.6173 L84.3207 73.6173 L84.3207 77.5525 L64.4134 77.5525 L64.4134 73.6173 Z\" fill=\"#000000\" fill-rule=\"evenodd\" fill-opacity=\"1\" /><path clip-path=\"url(#clip830)\" d=\"M103.765 46.0712 Q100.154 46.0712 98.3252 49.636 Q96.5197 53.1776 96.5197 60.3072 Q96.5197 67.4136 98.3252 70.9784 Q100.154 74.5201 103.765 74.5201 Q107.399 74.5201 109.205 70.9784 Q111.033 67.4136 111.033 60.3072 Q111.033 53.1776 109.205 49.636 Q107.399 46.0712 103.765 46.0712 M103.765 42.3675 Q109.575 42.3675 112.631 46.9739 Q115.709 51.5572 115.709 60.3072 Q115.709 69.034 112.631 73.6405 Q109.575 78.2238 103.765 78.2238 Q97.9549 78.2238 94.8762 73.6405 Q91.8206 69.034 91.8206 60.3072 Q91.8206 51.5572 94.8762 46.9739 Q97.9549 42.3675 103.765 42.3675 Z\" fill=\"#000000\" fill-rule=\"evenodd\" fill-opacity=\"1\" /><circle clip-path=\"url(#clip832)\" cx=\"234.93\" cy=\"596.176\" r=\"14.4\" fill=\"#009af9\" fill-rule=\"evenodd\" fill-opacity=\"1\" stroke=\"#000000\" stroke-opacity=\"1\" stroke-width=\"1.6\"/>\n",
       "<circle clip-path=\"url(#clip832)\" cx=\"261.587\" cy=\"431.888\" r=\"14.4\" fill=\"#009af9\" fill-rule=\"evenodd\" fill-opacity=\"1\" stroke=\"#000000\" stroke-opacity=\"1\" stroke-width=\"1.6\"/>\n",
       "<circle clip-path=\"url(#clip832)\" cx=\"726.61\" cy=\"490.765\" r=\"14.4\" fill=\"#009af9\" fill-rule=\"evenodd\" fill-opacity=\"1\" stroke=\"#000000\" stroke-opacity=\"1\" stroke-width=\"1.6\"/>\n",
       "<circle clip-path=\"url(#clip832)\" cx=\"632.142\" cy=\"429.399\" r=\"14.4\" fill=\"#009af9\" fill-rule=\"evenodd\" fill-opacity=\"1\" stroke=\"#000000\" stroke-opacity=\"1\" stroke-width=\"1.6\"/>\n",
       "<circle clip-path=\"url(#clip832)\" cx=\"984.523\" cy=\"410.855\" r=\"14.4\" fill=\"#009af9\" fill-rule=\"evenodd\" fill-opacity=\"1\" stroke=\"#000000\" stroke-opacity=\"1\" stroke-width=\"1.6\"/>\n",
       "<circle clip-path=\"url(#clip832)\" cx=\"543.799\" cy=\"424.577\" r=\"14.4\" fill=\"#009af9\" fill-rule=\"evenodd\" fill-opacity=\"1\" stroke=\"#000000\" stroke-opacity=\"1\" stroke-width=\"1.6\"/>\n",
       "<circle clip-path=\"url(#clip832)\" cx=\"1059.67\" cy=\"314.01\" r=\"14.4\" fill=\"#009af9\" fill-rule=\"evenodd\" fill-opacity=\"1\" stroke=\"#000000\" stroke-opacity=\"1\" stroke-width=\"1.6\"/>\n",
       "<circle clip-path=\"url(#clip832)\" cx=\"841.425\" cy=\"477.945\" r=\"14.4\" fill=\"#009af9\" fill-rule=\"evenodd\" fill-opacity=\"1\" stroke=\"#000000\" stroke-opacity=\"1\" stroke-width=\"1.6\"/>\n",
       "<circle clip-path=\"url(#clip832)\" cx=\"718.13\" cy=\"485.631\" r=\"14.4\" fill=\"#009af9\" fill-rule=\"evenodd\" fill-opacity=\"1\" stroke=\"#000000\" stroke-opacity=\"1\" stroke-width=\"1.6\"/>\n",
       "<circle clip-path=\"url(#clip832)\" cx=\"1065.17\" cy=\"304.624\" r=\"14.4\" fill=\"#009af9\" fill-rule=\"evenodd\" fill-opacity=\"1\" stroke=\"#000000\" stroke-opacity=\"1\" stroke-width=\"1.6\"/>\n",
       "<circle clip-path=\"url(#clip832)\" cx=\"971.896\" cy=\"308.606\" r=\"14.4\" fill=\"#009af9\" fill-rule=\"evenodd\" fill-opacity=\"1\" stroke=\"#000000\" stroke-opacity=\"1\" stroke-width=\"1.6\"/>\n",
       "<circle clip-path=\"url(#clip832)\" cx=\"948.223\" cy=\"310.536\" r=\"14.4\" fill=\"#009af9\" fill-rule=\"evenodd\" fill-opacity=\"1\" stroke=\"#000000\" stroke-opacity=\"1\" stroke-width=\"1.6\"/>\n",
       "<circle clip-path=\"url(#clip832)\" cx=\"658.857\" cy=\"453.255\" r=\"14.4\" fill=\"#009af9\" fill-rule=\"evenodd\" fill-opacity=\"1\" stroke=\"#000000\" stroke-opacity=\"1\" stroke-width=\"1.6\"/>\n",
       "<circle clip-path=\"url(#clip832)\" cx=\"1143.68\" cy=\"103.465\" r=\"14.4\" fill=\"#009af9\" fill-rule=\"evenodd\" fill-opacity=\"1\" stroke=\"#000000\" stroke-opacity=\"1\" stroke-width=\"1.6\"/>\n",
       "<circle clip-path=\"url(#clip832)\" cx=\"950.017\" cy=\"317.658\" r=\"14.4\" fill=\"#009af9\" fill-rule=\"evenodd\" fill-opacity=\"1\" stroke=\"#000000\" stroke-opacity=\"1\" stroke-width=\"1.6\"/>\n",
       "<circle clip-path=\"url(#clip832)\" cx=\"1039.94\" cy=\"420.494\" r=\"14.4\" fill=\"#009af9\" fill-rule=\"evenodd\" fill-opacity=\"1\" stroke=\"#000000\" stroke-opacity=\"1\" stroke-width=\"1.6\"/>\n",
       "<circle clip-path=\"url(#clip832)\" cx=\"780.587\" cy=\"381.063\" r=\"14.4\" fill=\"#009af9\" fill-rule=\"evenodd\" fill-opacity=\"1\" stroke=\"#000000\" stroke-opacity=\"1\" stroke-width=\"1.6\"/>\n",
       "<circle clip-path=\"url(#clip832)\" cx=\"832.03\" cy=\"498.113\" r=\"14.4\" fill=\"#009af9\" fill-rule=\"evenodd\" fill-opacity=\"1\" stroke=\"#000000\" stroke-opacity=\"1\" stroke-width=\"1.6\"/>\n",
       "<circle clip-path=\"url(#clip832)\" cx=\"840.447\" cy=\"381.935\" r=\"14.4\" fill=\"#009af9\" fill-rule=\"evenodd\" fill-opacity=\"1\" stroke=\"#000000\" stroke-opacity=\"1\" stroke-width=\"1.6\"/>\n",
       "<circle clip-path=\"url(#clip832)\" cx=\"1053.46\" cy=\"303.647\" r=\"14.4\" fill=\"#009af9\" fill-rule=\"evenodd\" fill-opacity=\"1\" stroke=\"#000000\" stroke-opacity=\"1\" stroke-width=\"1.6\"/>\n",
       "<circle clip-path=\"url(#clip832)\" cx=\"1029.83\" cy=\"341.618\" r=\"14.4\" fill=\"#009af9\" fill-rule=\"evenodd\" fill-opacity=\"1\" stroke=\"#000000\" stroke-opacity=\"1\" stroke-width=\"1.6\"/>\n",
       "<circle clip-path=\"url(#clip832)\" cx=\"962.995\" cy=\"328.768\" r=\"14.4\" fill=\"#009af9\" fill-rule=\"evenodd\" fill-opacity=\"1\" stroke=\"#000000\" stroke-opacity=\"1\" stroke-width=\"1.6\"/>\n",
       "<circle clip-path=\"url(#clip832)\" cx=\"1296.91\" cy=\"324.47\" r=\"14.4\" fill=\"#009af9\" fill-rule=\"evenodd\" fill-opacity=\"1\" stroke=\"#000000\" stroke-opacity=\"1\" stroke-width=\"1.6\"/>\n",
       "<circle clip-path=\"url(#clip832)\" cx=\"932.248\" cy=\"451.812\" r=\"14.4\" fill=\"#009af9\" fill-rule=\"evenodd\" fill-opacity=\"1\" stroke=\"#000000\" stroke-opacity=\"1\" stroke-width=\"1.6\"/>\n",
       "<circle clip-path=\"url(#clip832)\" cx=\"787.815\" cy=\"453.503\" r=\"14.4\" fill=\"#009af9\" fill-rule=\"evenodd\" fill-opacity=\"1\" stroke=\"#000000\" stroke-opacity=\"1\" stroke-width=\"1.6\"/>\n",
       "<circle clip-path=\"url(#clip832)\" cx=\"840.403\" cy=\"453.537\" r=\"14.4\" fill=\"#009af9\" fill-rule=\"evenodd\" fill-opacity=\"1\" stroke=\"#000000\" stroke-opacity=\"1\" stroke-width=\"1.6\"/>\n",
       "<circle clip-path=\"url(#clip832)\" cx=\"746.233\" cy=\"446.531\" r=\"14.4\" fill=\"#009af9\" fill-rule=\"evenodd\" fill-opacity=\"1\" stroke=\"#000000\" stroke-opacity=\"1\" stroke-width=\"1.6\"/>\n",
       "<circle clip-path=\"url(#clip832)\" cx=\"604.618\" cy=\"535.584\" r=\"14.4\" fill=\"#009af9\" fill-rule=\"evenodd\" fill-opacity=\"1\" stroke=\"#000000\" stroke-opacity=\"1\" stroke-width=\"1.6\"/>\n",
       "<circle clip-path=\"url(#clip832)\" cx=\"711.717\" cy=\"398.511\" r=\"14.4\" fill=\"#009af9\" fill-rule=\"evenodd\" fill-opacity=\"1\" stroke=\"#000000\" stroke-opacity=\"1\" stroke-width=\"1.6\"/>\n",
       "<circle clip-path=\"url(#clip832)\" cx=\"783.051\" cy=\"455.633\" r=\"14.4\" fill=\"#009af9\" fill-rule=\"evenodd\" fill-opacity=\"1\" stroke=\"#000000\" stroke-opacity=\"1\" stroke-width=\"1.6\"/>\n",
       "<circle clip-path=\"url(#clip832)\" cx=\"1013.85\" cy=\"351.537\" r=\"14.4\" fill=\"#009af9\" fill-rule=\"evenodd\" fill-opacity=\"1\" stroke=\"#000000\" stroke-opacity=\"1\" stroke-width=\"1.6\"/>\n",
       "<circle clip-path=\"url(#clip832)\" cx=\"585.902\" cy=\"439.1\" r=\"14.4\" fill=\"#009af9\" fill-rule=\"evenodd\" fill-opacity=\"1\" stroke=\"#000000\" stroke-opacity=\"1\" stroke-width=\"1.6\"/>\n",
       "<circle clip-path=\"url(#clip832)\" cx=\"606.141\" cy=\"511.398\" r=\"14.4\" fill=\"#009af9\" fill-rule=\"evenodd\" fill-opacity=\"1\" stroke=\"#000000\" stroke-opacity=\"1\" stroke-width=\"1.6\"/>\n",
       "<circle clip-path=\"url(#clip832)\" cx=\"402.388\" cy=\"491.006\" r=\"14.4\" fill=\"#009af9\" fill-rule=\"evenodd\" fill-opacity=\"1\" stroke=\"#000000\" stroke-opacity=\"1\" stroke-width=\"1.6\"/>\n",
       "<circle clip-path=\"url(#clip832)\" cx=\"751.1\" cy=\"447.684\" r=\"14.4\" fill=\"#009af9\" fill-rule=\"evenodd\" fill-opacity=\"1\" stroke=\"#000000\" stroke-opacity=\"1\" stroke-width=\"1.6\"/>\n",
       "<circle clip-path=\"url(#clip832)\" cx=\"179.701\" cy=\"517.465\" r=\"14.4\" fill=\"#009af9\" fill-rule=\"evenodd\" fill-opacity=\"1\" stroke=\"#000000\" stroke-opacity=\"1\" stroke-width=\"1.6\"/>\n",
       "<circle clip-path=\"url(#clip832)\" cx=\"690.986\" cy=\"393.479\" r=\"14.4\" fill=\"#009af9\" fill-rule=\"evenodd\" fill-opacity=\"1\" stroke=\"#000000\" stroke-opacity=\"1\" stroke-width=\"1.6\"/>\n",
       "<circle clip-path=\"url(#clip832)\" cx=\"632.644\" cy=\"482.172\" r=\"14.4\" fill=\"#009af9\" fill-rule=\"evenodd\" fill-opacity=\"1\" stroke=\"#000000\" stroke-opacity=\"1\" stroke-width=\"1.6\"/>\n",
       "<circle clip-path=\"url(#clip832)\" cx=\"597.436\" cy=\"516.86\" r=\"14.4\" fill=\"#009af9\" fill-rule=\"evenodd\" fill-opacity=\"1\" stroke=\"#000000\" stroke-opacity=\"1\" stroke-width=\"1.6\"/>\n",
       "<circle clip-path=\"url(#clip832)\" cx=\"1038.75\" cy=\"300.245\" r=\"14.4\" fill=\"#009af9\" fill-rule=\"evenodd\" fill-opacity=\"1\" stroke=\"#000000\" stroke-opacity=\"1\" stroke-width=\"1.6\"/>\n",
       "<circle clip-path=\"url(#clip832)\" cx=\"393.578\" cy=\"654.101\" r=\"14.4\" fill=\"#009af9\" fill-rule=\"evenodd\" fill-opacity=\"1\" stroke=\"#000000\" stroke-opacity=\"1\" stroke-width=\"1.6\"/>\n",
       "<circle clip-path=\"url(#clip832)\" cx=\"697.632\" cy=\"307.067\" r=\"14.4\" fill=\"#009af9\" fill-rule=\"evenodd\" fill-opacity=\"1\" stroke=\"#000000\" stroke-opacity=\"1\" stroke-width=\"1.6\"/>\n",
       "<circle clip-path=\"url(#clip832)\" cx=\"310.325\" cy=\"656.672\" r=\"14.4\" fill=\"#009af9\" fill-rule=\"evenodd\" fill-opacity=\"1\" stroke=\"#000000\" stroke-opacity=\"1\" stroke-width=\"1.6\"/>\n",
       "<circle clip-path=\"url(#clip832)\" cx=\"663.285\" cy=\"473.321\" r=\"14.4\" fill=\"#009af9\" fill-rule=\"evenodd\" fill-opacity=\"1\" stroke=\"#000000\" stroke-opacity=\"1\" stroke-width=\"1.6\"/>\n",
       "<circle clip-path=\"url(#clip832)\" cx=\"523.114\" cy=\"407.614\" r=\"14.4\" fill=\"#009af9\" fill-rule=\"evenodd\" fill-opacity=\"1\" stroke=\"#000000\" stroke-opacity=\"1\" stroke-width=\"1.6\"/>\n",
       "<circle clip-path=\"url(#clip832)\" cx=\"695.892\" cy=\"416.5\" r=\"14.4\" fill=\"#009af9\" fill-rule=\"evenodd\" fill-opacity=\"1\" stroke=\"#000000\" stroke-opacity=\"1\" stroke-width=\"1.6\"/>\n",
       "<circle clip-path=\"url(#clip832)\" cx=\"426.863\" cy=\"606.101\" r=\"14.4\" fill=\"#009af9\" fill-rule=\"evenodd\" fill-opacity=\"1\" stroke=\"#000000\" stroke-opacity=\"1\" stroke-width=\"1.6\"/>\n",
       "<circle clip-path=\"url(#clip832)\" cx=\"707.155\" cy=\"377.943\" r=\"14.4\" fill=\"#009af9\" fill-rule=\"evenodd\" fill-opacity=\"1\" stroke=\"#000000\" stroke-opacity=\"1\" stroke-width=\"1.6\"/>\n",
       "<circle clip-path=\"url(#clip832)\" cx=\"631.478\" cy=\"454.005\" r=\"14.4\" fill=\"#009af9\" fill-rule=\"evenodd\" fill-opacity=\"1\" stroke=\"#000000\" stroke-opacity=\"1\" stroke-width=\"1.6\"/>\n",
       "<circle clip-path=\"url(#clip832)\" cx=\"1007.59\" cy=\"435.81\" r=\"14.4\" fill=\"#009af9\" fill-rule=\"evenodd\" fill-opacity=\"1\" stroke=\"#000000\" stroke-opacity=\"1\" stroke-width=\"1.6\"/>\n",
       "<circle clip-path=\"url(#clip832)\" cx=\"584.44\" cy=\"552.583\" r=\"14.4\" fill=\"#009af9\" fill-rule=\"evenodd\" fill-opacity=\"1\" stroke=\"#000000\" stroke-opacity=\"1\" stroke-width=\"1.6\"/>\n",
       "<circle clip-path=\"url(#clip832)\" cx=\"599.634\" cy=\"593.084\" r=\"14.4\" fill=\"#009af9\" fill-rule=\"evenodd\" fill-opacity=\"1\" stroke=\"#000000\" stroke-opacity=\"1\" stroke-width=\"1.6\"/>\n",
       "<circle clip-path=\"url(#clip832)\" cx=\"238.906\" cy=\"604.657\" r=\"14.4\" fill=\"#009af9\" fill-rule=\"evenodd\" fill-opacity=\"1\" stroke=\"#000000\" stroke-opacity=\"1\" stroke-width=\"1.6\"/>\n",
       "<circle clip-path=\"url(#clip832)\" cx=\"1211.4\" cy=\"190.345\" r=\"14.4\" fill=\"#009af9\" fill-rule=\"evenodd\" fill-opacity=\"1\" stroke=\"#000000\" stroke-opacity=\"1\" stroke-width=\"1.6\"/>\n",
       "<circle clip-path=\"url(#clip832)\" cx=\"1046.94\" cy=\"244.227\" r=\"14.4\" fill=\"#009af9\" fill-rule=\"evenodd\" fill-opacity=\"1\" stroke=\"#000000\" stroke-opacity=\"1\" stroke-width=\"1.6\"/>\n",
       "<circle clip-path=\"url(#clip832)\" cx=\"1371.24\" cy=\"111.65\" r=\"14.4\" fill=\"#009af9\" fill-rule=\"evenodd\" fill-opacity=\"1\" stroke=\"#000000\" stroke-opacity=\"1\" stroke-width=\"1.6\"/>\n",
       "<circle clip-path=\"url(#clip832)\" cx=\"958.366\" cy=\"301.274\" r=\"14.4\" fill=\"#009af9\" fill-rule=\"evenodd\" fill-opacity=\"1\" stroke=\"#000000\" stroke-opacity=\"1\" stroke-width=\"1.6\"/>\n",
       "<circle clip-path=\"url(#clip832)\" cx=\"327.915\" cy=\"563.921\" r=\"14.4\" fill=\"#009af9\" fill-rule=\"evenodd\" fill-opacity=\"1\" stroke=\"#000000\" stroke-opacity=\"1\" stroke-width=\"1.6\"/>\n",
       "<circle clip-path=\"url(#clip832)\" cx=\"975.103\" cy=\"274.604\" r=\"14.4\" fill=\"#009af9\" fill-rule=\"evenodd\" fill-opacity=\"1\" stroke=\"#000000\" stroke-opacity=\"1\" stroke-width=\"1.6\"/>\n",
       "<circle clip-path=\"url(#clip832)\" cx=\"719.711\" cy=\"364.066\" r=\"14.4\" fill=\"#009af9\" fill-rule=\"evenodd\" fill-opacity=\"1\" stroke=\"#000000\" stroke-opacity=\"1\" stroke-width=\"1.6\"/>\n",
       "<circle clip-path=\"url(#clip832)\" cx=\"398.867\" cy=\"530.458\" r=\"14.4\" fill=\"#009af9\" fill-rule=\"evenodd\" fill-opacity=\"1\" stroke=\"#000000\" stroke-opacity=\"1\" stroke-width=\"1.6\"/>\n",
       "<circle clip-path=\"url(#clip832)\" cx=\"617.937\" cy=\"456.893\" r=\"14.4\" fill=\"#009af9\" fill-rule=\"evenodd\" fill-opacity=\"1\" stroke=\"#000000\" stroke-opacity=\"1\" stroke-width=\"1.6\"/>\n",
       "<circle clip-path=\"url(#clip832)\" cx=\"825.782\" cy=\"442.436\" r=\"14.4\" fill=\"#009af9\" fill-rule=\"evenodd\" fill-opacity=\"1\" stroke=\"#000000\" stroke-opacity=\"1\" stroke-width=\"1.6\"/>\n",
       "<circle clip-path=\"url(#clip832)\" cx=\"1312.58\" cy=\"197.272\" r=\"14.4\" fill=\"#009af9\" fill-rule=\"evenodd\" fill-opacity=\"1\" stroke=\"#000000\" stroke-opacity=\"1\" stroke-width=\"1.6\"/>\n",
       "<circle clip-path=\"url(#clip832)\" cx=\"1512.76\" cy=\"65.8057\" r=\"14.4\" fill=\"#009af9\" fill-rule=\"evenodd\" fill-opacity=\"1\" stroke=\"#000000\" stroke-opacity=\"1\" stroke-width=\"1.6\"/>\n",
       "<circle clip-path=\"url(#clip832)\" cx=\"1179.33\" cy=\"214.87\" r=\"14.4\" fill=\"#009af9\" fill-rule=\"evenodd\" fill-opacity=\"1\" stroke=\"#000000\" stroke-opacity=\"1\" stroke-width=\"1.6\"/>\n",
       "<circle clip-path=\"url(#clip832)\" cx=\"711.669\" cy=\"475.354\" r=\"14.4\" fill=\"#009af9\" fill-rule=\"evenodd\" fill-opacity=\"1\" stroke=\"#000000\" stroke-opacity=\"1\" stroke-width=\"1.6\"/>\n",
       "<circle clip-path=\"url(#clip832)\" cx=\"844.706\" cy=\"398.104\" r=\"14.4\" fill=\"#009af9\" fill-rule=\"evenodd\" fill-opacity=\"1\" stroke=\"#000000\" stroke-opacity=\"1\" stroke-width=\"1.6\"/>\n",
       "<circle clip-path=\"url(#clip832)\" cx=\"755.578\" cy=\"422.325\" r=\"14.4\" fill=\"#009af9\" fill-rule=\"evenodd\" fill-opacity=\"1\" stroke=\"#000000\" stroke-opacity=\"1\" stroke-width=\"1.6\"/>\n",
       "<circle clip-path=\"url(#clip832)\" cx=\"294.17\" cy=\"684.526\" r=\"14.4\" fill=\"#009af9\" fill-rule=\"evenodd\" fill-opacity=\"1\" stroke=\"#000000\" stroke-opacity=\"1\" stroke-width=\"1.6\"/>\n",
       "<circle clip-path=\"url(#clip832)\" cx=\"765.309\" cy=\"409.894\" r=\"14.4\" fill=\"#009af9\" fill-rule=\"evenodd\" fill-opacity=\"1\" stroke=\"#000000\" stroke-opacity=\"1\" stroke-width=\"1.6\"/>\n",
       "<circle clip-path=\"url(#clip832)\" cx=\"543.617\" cy=\"568.559\" r=\"14.4\" fill=\"#009af9\" fill-rule=\"evenodd\" fill-opacity=\"1\" stroke=\"#000000\" stroke-opacity=\"1\" stroke-width=\"1.6\"/>\n",
       "<circle clip-path=\"url(#clip832)\" cx=\"580.984\" cy=\"528.259\" r=\"14.4\" fill=\"#009af9\" fill-rule=\"evenodd\" fill-opacity=\"1\" stroke=\"#000000\" stroke-opacity=\"1\" stroke-width=\"1.6\"/>\n",
       "<circle clip-path=\"url(#clip832)\" cx=\"1058.42\" cy=\"295.657\" r=\"14.4\" fill=\"#009af9\" fill-rule=\"evenodd\" fill-opacity=\"1\" stroke=\"#000000\" stroke-opacity=\"1\" stroke-width=\"1.6\"/>\n",
       "<circle clip-path=\"url(#clip832)\" cx=\"396.264\" cy=\"483.452\" r=\"14.4\" fill=\"#009af9\" fill-rule=\"evenodd\" fill-opacity=\"1\" stroke=\"#000000\" stroke-opacity=\"1\" stroke-width=\"1.6\"/>\n",
       "<circle clip-path=\"url(#clip832)\" cx=\"940.48\" cy=\"343.542\" r=\"14.4\" fill=\"#009af9\" fill-rule=\"evenodd\" fill-opacity=\"1\" stroke=\"#000000\" stroke-opacity=\"1\" stroke-width=\"1.6\"/>\n",
       "<circle clip-path=\"url(#clip832)\" cx=\"396.674\" cy=\"434.045\" r=\"14.4\" fill=\"#009af9\" fill-rule=\"evenodd\" fill-opacity=\"1\" stroke=\"#000000\" stroke-opacity=\"1\" stroke-width=\"1.6\"/>\n",
       "<circle clip-path=\"url(#clip832)\" cx=\"906.724\" cy=\"333.81\" r=\"14.4\" fill=\"#009af9\" fill-rule=\"evenodd\" fill-opacity=\"1\" stroke=\"#000000\" stroke-opacity=\"1\" stroke-width=\"1.6\"/>\n",
       "<circle clip-path=\"url(#clip832)\" cx=\"1192.64\" cy=\"287.704\" r=\"14.4\" fill=\"#009af9\" fill-rule=\"evenodd\" fill-opacity=\"1\" stroke=\"#000000\" stroke-opacity=\"1\" stroke-width=\"1.6\"/>\n",
       "<circle clip-path=\"url(#clip832)\" cx=\"691.971\" cy=\"482.371\" r=\"14.4\" fill=\"#009af9\" fill-rule=\"evenodd\" fill-opacity=\"1\" stroke=\"#000000\" stroke-opacity=\"1\" stroke-width=\"1.6\"/>\n",
       "<circle clip-path=\"url(#clip832)\" cx=\"868.642\" cy=\"361.006\" r=\"14.4\" fill=\"#009af9\" fill-rule=\"evenodd\" fill-opacity=\"1\" stroke=\"#000000\" stroke-opacity=\"1\" stroke-width=\"1.6\"/>\n",
       "<circle clip-path=\"url(#clip832)\" cx=\"444.628\" cy=\"522.975\" r=\"14.4\" fill=\"#009af9\" fill-rule=\"evenodd\" fill-opacity=\"1\" stroke=\"#000000\" stroke-opacity=\"1\" stroke-width=\"1.6\"/>\n",
       "<circle clip-path=\"url(#clip832)\" cx=\"685.075\" cy=\"453.367\" r=\"14.4\" fill=\"#009af9\" fill-rule=\"evenodd\" fill-opacity=\"1\" stroke=\"#000000\" stroke-opacity=\"1\" stroke-width=\"1.6\"/>\n",
       "<circle clip-path=\"url(#clip832)\" cx=\"858.896\" cy=\"259.551\" r=\"14.4\" fill=\"#009af9\" fill-rule=\"evenodd\" fill-opacity=\"1\" stroke=\"#000000\" stroke-opacity=\"1\" stroke-width=\"1.6\"/>\n",
       "<circle clip-path=\"url(#clip832)\" cx=\"1046.28\" cy=\"177.079\" r=\"14.4\" fill=\"#009af9\" fill-rule=\"evenodd\" fill-opacity=\"1\" stroke=\"#000000\" stroke-opacity=\"1\" stroke-width=\"1.6\"/>\n",
       "<circle clip-path=\"url(#clip832)\" cx=\"735.362\" cy=\"516.014\" r=\"14.4\" fill=\"#009af9\" fill-rule=\"evenodd\" fill-opacity=\"1\" stroke=\"#000000\" stroke-opacity=\"1\" stroke-width=\"1.6\"/>\n",
       "<circle clip-path=\"url(#clip832)\" cx=\"555.764\" cy=\"514.109\" r=\"14.4\" fill=\"#009af9\" fill-rule=\"evenodd\" fill-opacity=\"1\" stroke=\"#000000\" stroke-opacity=\"1\" stroke-width=\"1.6\"/>\n",
       "<circle clip-path=\"url(#clip832)\" cx=\"623.041\" cy=\"504.684\" r=\"14.4\" fill=\"#009af9\" fill-rule=\"evenodd\" fill-opacity=\"1\" stroke=\"#000000\" stroke-opacity=\"1\" stroke-width=\"1.6\"/>\n",
       "<circle clip-path=\"url(#clip832)\" cx=\"817.269\" cy=\"377.142\" r=\"14.4\" fill=\"#009af9\" fill-rule=\"evenodd\" fill-opacity=\"1\" stroke=\"#000000\" stroke-opacity=\"1\" stroke-width=\"1.6\"/>\n",
       "<circle clip-path=\"url(#clip832)\" cx=\"761.16\" cy=\"563.614\" r=\"14.4\" fill=\"#009af9\" fill-rule=\"evenodd\" fill-opacity=\"1\" stroke=\"#000000\" stroke-opacity=\"1\" stroke-width=\"1.6\"/>\n",
       "<circle clip-path=\"url(#clip832)\" cx=\"417.633\" cy=\"489.167\" r=\"14.4\" fill=\"#009af9\" fill-rule=\"evenodd\" fill-opacity=\"1\" stroke=\"#000000\" stroke-opacity=\"1\" stroke-width=\"1.6\"/>\n",
       "<circle clip-path=\"url(#clip832)\" cx=\"923.719\" cy=\"313.005\" r=\"14.4\" fill=\"#009af9\" fill-rule=\"evenodd\" fill-opacity=\"1\" stroke=\"#000000\" stroke-opacity=\"1\" stroke-width=\"1.6\"/>\n",
       "<circle clip-path=\"url(#clip832)\" cx=\"808.304\" cy=\"415.591\" r=\"14.4\" fill=\"#009af9\" fill-rule=\"evenodd\" fill-opacity=\"1\" stroke=\"#000000\" stroke-opacity=\"1\" stroke-width=\"1.6\"/>\n",
       "<circle clip-path=\"url(#clip832)\" cx=\"653.815\" cy=\"274.099\" r=\"14.4\" fill=\"#009af9\" fill-rule=\"evenodd\" fill-opacity=\"1\" stroke=\"#000000\" stroke-opacity=\"1\" stroke-width=\"1.6\"/>\n",
       "<circle clip-path=\"url(#clip832)\" cx=\"937.476\" cy=\"285.717\" r=\"14.4\" fill=\"#009af9\" fill-rule=\"evenodd\" fill-opacity=\"1\" stroke=\"#000000\" stroke-opacity=\"1\" stroke-width=\"1.6\"/>\n",
       "<circle clip-path=\"url(#clip832)\" cx=\"1043.94\" cy=\"254.564\" r=\"14.4\" fill=\"#009af9\" fill-rule=\"evenodd\" fill-opacity=\"1\" stroke=\"#000000\" stroke-opacity=\"1\" stroke-width=\"1.6\"/>\n",
       "<circle clip-path=\"url(#clip832)\" cx=\"1356.72\" cy=\"93.3502\" r=\"14.4\" fill=\"#009af9\" fill-rule=\"evenodd\" fill-opacity=\"1\" stroke=\"#000000\" stroke-opacity=\"1\" stroke-width=\"1.6\"/>\n",
       "<circle clip-path=\"url(#clip832)\" cx=\"381.645\" cy=\"570.957\" r=\"14.4\" fill=\"#009af9\" fill-rule=\"evenodd\" fill-opacity=\"1\" stroke=\"#000000\" stroke-opacity=\"1\" stroke-width=\"1.6\"/>\n",
       "<circle clip-path=\"url(#clip832)\" cx=\"312.861\" cy=\"523.005\" r=\"14.4\" fill=\"#009af9\" fill-rule=\"evenodd\" fill-opacity=\"1\" stroke=\"#000000\" stroke-opacity=\"1\" stroke-width=\"1.6\"/>\n",
       "<circle clip-path=\"url(#clip832)\" cx=\"1250.95\" cy=\"236.591\" r=\"14.4\" fill=\"#009af9\" fill-rule=\"evenodd\" fill-opacity=\"1\" stroke=\"#000000\" stroke-opacity=\"1\" stroke-width=\"1.6\"/>\n",
       "<polyline clip-path=\"url(#clip832)\" style=\"stroke:#e26f46; stroke-linecap:round; stroke-linejoin:round; stroke-width:4; stroke-opacity:1; fill:none\" points=\"234.93,611.564 261.587,601.438 726.61,424.776 632.142,460.664 984.523,326.795 543.799,494.226 1059.67,298.245 841.425,381.158 718.13,427.998 1065.17,296.156 971.896,331.592 948.223,340.585 658.857,450.515 1143.68,266.33 950.017,339.904 1039.94,305.743 780.587,404.27 832.03,384.727 840.447,381.529 1053.46,300.608 1029.83,309.582 962.995,334.973 1296.91,208.119 932.248,346.654 787.815,401.524 840.403,381.546 746.233,417.321 604.618,471.12 711.717,430.434 783.051,403.334 1013.85,315.652 585.902,478.231 606.141,470.542 402.388,547.948 751.1,415.472 179.701,632.546 690.986,438.31 632.644,460.473 597.436,473.849 1038.75,306.196 393.578,551.294 697.632,435.785 310.325,582.922 663.285,448.833 523.114,502.084 695.892,436.446 426.863,538.649 707.155,432.167 631.478,460.917 1007.59,318.031 584.44,478.786 599.634,473.014 238.906,610.054 1211.4,240.605 1046.94,303.084 1371.24,179.88 958.366,336.732 327.915,576.24 975.103,330.374 719.711,427.397 398.867,549.285 617.937,466.06 825.782,387.1 1312.58,202.169 1512.76,126.117 1179.33,252.789 711.669,430.452 844.706,379.911 755.578,413.771 294.17,589.059 765.309,410.074 543.617,494.295 580.984,480.099 1058.42,298.723 396.264,550.274 940.48,343.527 396.674,550.118 906.724,356.351 1192.64,247.732 691.971,437.935 868.642,370.818 444.628,531.901 685.075,440.555 858.896,374.521 1046.28,303.333 735.362,421.451 555.764,489.68 623.041,464.122 817.269,390.335 761.16,411.65 417.633,542.156 923.719,349.894 808.304,393.74 653.815,452.431 937.476,344.668 1043.94,304.222 1356.72,185.396 381.645,555.828 312.861,581.958 1250.95,225.582 \"/>\n",
       "<path clip-path=\"url(#clip830)\" d=\"M186.811 224.626 L544.388 224.626 L544.388 69.1056 L186.811 69.1056  Z\" fill=\"#ffffff\" fill-rule=\"evenodd\" fill-opacity=\"1\"/>\n",
       "<polyline clip-path=\"url(#clip830)\" style=\"stroke:#000000; stroke-linecap:round; stroke-linejoin:round; stroke-width:4; stroke-opacity:1; fill:none\" points=\"186.811,224.626 544.388,224.626 544.388,69.1056 186.811,69.1056 186.811,224.626 \"/>\n",
       "<circle clip-path=\"url(#clip830)\" cx=\"249.613\" cy=\"120.946\" r=\"23.04\" fill=\"#009af9\" fill-rule=\"evenodd\" fill-opacity=\"1\" stroke=\"#000000\" stroke-opacity=\"1\" stroke-width=\"2.56\"/>\n",
       "<path clip-path=\"url(#clip830)\" d=\"M331.327 116.235 L331.327 102.207 L335.586 102.207 L335.586 138.226 L331.327 138.226 L331.327 134.337 Q329.984 136.651 327.924 137.786 Q325.887 138.897 323.017 138.897 Q318.318 138.897 315.355 135.147 Q312.415 131.397 312.415 125.286 Q312.415 119.175 315.355 115.425 Q318.318 111.675 323.017 111.675 Q325.887 111.675 327.924 112.809 Q329.984 113.92 331.327 116.235 M316.813 125.286 Q316.813 129.985 318.734 132.67 Q320.679 135.332 324.059 135.332 Q327.438 135.332 329.383 132.67 Q331.327 129.985 331.327 125.286 Q331.327 120.587 329.383 117.925 Q327.438 115.24 324.059 115.24 Q320.679 115.24 318.734 117.925 Q316.813 120.587 316.813 125.286 Z\" fill=\"#000000\" fill-rule=\"evenodd\" fill-opacity=\"1\" /><path clip-path=\"url(#clip830)\" d=\"M356.142 125.193 Q350.98 125.193 348.989 126.374 Q346.998 127.554 346.998 130.402 Q346.998 132.67 348.48 134.013 Q349.984 135.332 352.554 135.332 Q356.095 135.332 358.225 132.832 Q360.378 130.309 360.378 126.142 L360.378 125.193 L356.142 125.193 M364.637 123.434 L364.637 138.226 L360.378 138.226 L360.378 134.29 Q358.919 136.651 356.744 137.786 Q354.568 138.897 351.419 138.897 Q347.438 138.897 345.077 136.675 Q342.739 134.429 342.739 130.679 Q342.739 126.304 345.656 124.082 Q348.595 121.86 354.406 121.86 L360.378 121.86 L360.378 121.443 Q360.378 118.503 358.433 116.906 Q356.512 115.286 353.017 115.286 Q350.795 115.286 348.688 115.818 Q346.582 116.351 344.637 117.415 L344.637 113.48 Q346.975 112.578 349.174 112.138 Q351.373 111.675 353.457 111.675 Q359.081 111.675 361.859 114.591 Q364.637 117.508 364.637 123.434 Z\" fill=\"#000000\" fill-rule=\"evenodd\" fill-opacity=\"1\" /><path clip-path=\"url(#clip830)\" d=\"M377.623 104.939 L377.623 112.3 L386.396 112.3 L386.396 115.61 L377.623 115.61 L377.623 129.684 Q377.623 132.855 378.48 133.758 Q379.359 134.661 382.021 134.661 L386.396 134.661 L386.396 138.226 L382.021 138.226 Q377.091 138.226 375.216 136.397 Q373.341 134.545 373.341 129.684 L373.341 115.61 L370.216 115.61 L370.216 112.3 L373.341 112.3 L373.341 104.939 L377.623 104.939 Z\" fill=\"#000000\" fill-rule=\"evenodd\" fill-opacity=\"1\" /><path clip-path=\"url(#clip830)\" d=\"M403.78 125.193 Q398.618 125.193 396.628 126.374 Q394.637 127.554 394.637 130.402 Q394.637 132.67 396.118 134.013 Q397.623 135.332 400.192 135.332 Q403.734 135.332 405.864 132.832 Q408.016 130.309 408.016 126.142 L408.016 125.193 L403.78 125.193 M412.276 123.434 L412.276 138.226 L408.016 138.226 L408.016 134.29 Q406.558 136.651 404.382 137.786 Q402.206 138.897 399.058 138.897 Q395.077 138.897 392.716 136.675 Q390.378 134.429 390.378 130.679 Q390.378 126.304 393.294 124.082 Q396.234 121.86 402.044 121.86 L408.016 121.86 L408.016 121.443 Q408.016 118.503 406.072 116.906 Q404.151 115.286 400.655 115.286 Q398.433 115.286 396.327 115.818 Q394.22 116.351 392.276 117.415 L392.276 113.48 Q394.614 112.578 396.813 112.138 Q399.012 111.675 401.095 111.675 Q406.72 111.675 409.498 114.591 Q412.276 117.508 412.276 123.434 Z\" fill=\"#000000\" fill-rule=\"evenodd\" fill-opacity=\"1\" /><polyline clip-path=\"url(#clip830)\" style=\"stroke:#e26f46; stroke-linecap:round; stroke-linejoin:round; stroke-width:4; stroke-opacity:1; fill:none\" points=\"202.511,172.786 296.715,172.786 \"/>\n",
       "<path clip-path=\"url(#clip830)\" d=\"M316.697 186.177 L316.697 199.927 L312.415 199.927 L312.415 164.14 L316.697 164.14 L316.697 168.075 Q318.04 165.76 320.077 164.649 Q322.137 163.515 324.984 163.515 Q329.707 163.515 332.646 167.265 Q335.609 171.015 335.609 177.126 Q335.609 183.237 332.646 186.987 Q329.707 190.737 324.984 190.737 Q322.137 190.737 320.077 189.626 Q318.04 188.491 316.697 186.177 M331.188 177.126 Q331.188 172.427 329.244 169.765 Q327.322 167.08 323.943 167.08 Q320.563 167.08 318.619 169.765 Q316.697 172.427 316.697 177.126 Q316.697 181.825 318.619 184.51 Q320.563 187.172 323.943 187.172 Q327.322 187.172 329.244 184.51 Q331.188 181.825 331.188 177.126 Z\" fill=\"#000000\" fill-rule=\"evenodd\" fill-opacity=\"1\" /><path clip-path=\"url(#clip830)\" d=\"M357.693 168.121 Q356.975 167.705 356.119 167.519 Q355.285 167.311 354.267 167.311 Q350.656 167.311 348.711 169.672 Q346.79 172.01 346.79 176.408 L346.79 190.066 L342.508 190.066 L342.508 164.14 L346.79 164.14 L346.79 168.168 Q348.132 165.806 350.285 164.672 Q352.438 163.515 355.517 163.515 Q355.957 163.515 356.489 163.584 Q357.021 163.631 357.669 163.746 L357.693 168.121 Z\" fill=\"#000000\" fill-rule=\"evenodd\" fill-opacity=\"1\" /><path clip-path=\"url(#clip830)\" d=\"M383.294 176.038 L383.294 178.121 L363.711 178.121 Q363.989 182.519 366.35 184.834 Q368.734 187.126 372.97 187.126 Q375.424 187.126 377.716 186.524 Q380.03 185.922 382.299 184.718 L382.299 188.746 Q380.007 189.718 377.6 190.228 Q375.193 190.737 372.716 190.737 Q366.512 190.737 362.878 187.126 Q359.267 183.515 359.267 177.357 Q359.267 170.992 362.693 167.265 Q366.142 163.515 371.975 163.515 Q377.206 163.515 380.239 166.894 Q383.294 170.251 383.294 176.038 M379.035 174.788 Q378.989 171.293 377.068 169.209 Q375.169 167.126 372.021 167.126 Q368.456 167.126 366.304 169.14 Q364.174 171.154 363.85 174.811 L379.035 174.788 Z\" fill=\"#000000\" fill-rule=\"evenodd\" fill-opacity=\"1\" /><path clip-path=\"url(#clip830)\" d=\"M407.345 168.075 L407.345 154.047 L411.604 154.047 L411.604 190.066 L407.345 190.066 L407.345 186.177 Q406.003 188.491 403.942 189.626 Q401.905 190.737 399.035 190.737 Q394.336 190.737 391.373 186.987 Q388.433 183.237 388.433 177.126 Q388.433 171.015 391.373 167.265 Q394.336 163.515 399.035 163.515 Q401.905 163.515 403.942 164.649 Q406.003 165.76 407.345 168.075 M392.831 177.126 Q392.831 181.825 394.753 184.51 Q396.697 187.172 400.077 187.172 Q403.456 187.172 405.401 184.51 Q407.345 181.825 407.345 177.126 Q407.345 172.427 405.401 169.765 Q403.456 167.08 400.077 167.08 Q396.697 167.08 394.753 169.765 Q392.831 172.427 392.831 177.126 Z\" fill=\"#000000\" fill-rule=\"evenodd\" fill-opacity=\"1\" /><path clip-path=\"url(#clip830)\" d=\"M420.377 164.14 L424.637 164.14 L424.637 190.066 L420.377 190.066 L420.377 164.14 M420.377 154.047 L424.637 154.047 L424.637 159.441 L420.377 159.441 L420.377 154.047 Z\" fill=\"#000000\" fill-rule=\"evenodd\" fill-opacity=\"1\" /><path clip-path=\"url(#clip830)\" d=\"M452.206 165.135 L452.206 169.117 Q450.4 168.121 448.572 167.635 Q446.766 167.126 444.914 167.126 Q440.771 167.126 438.479 169.765 Q436.188 172.38 436.188 177.126 Q436.188 181.871 438.479 184.51 Q440.771 187.126 444.914 187.126 Q446.766 187.126 448.572 186.64 Q450.4 186.13 452.206 185.135 L452.206 189.07 Q450.424 189.904 448.502 190.32 Q446.604 190.737 444.451 190.737 Q438.595 190.737 435.146 187.056 Q431.697 183.376 431.697 177.126 Q431.697 170.783 435.169 167.149 Q438.664 163.515 444.729 163.515 Q446.697 163.515 448.572 163.931 Q450.447 164.325 452.206 165.135 Z\" fill=\"#000000\" fill-rule=\"evenodd\" fill-opacity=\"1\" /><path clip-path=\"url(#clip830)\" d=\"M463.826 156.779 L463.826 164.14 L472.599 164.14 L472.599 167.45 L463.826 167.45 L463.826 181.524 Q463.826 184.695 464.683 185.598 Q465.562 186.501 468.224 186.501 L472.599 186.501 L472.599 190.066 L468.224 190.066 Q463.294 190.066 461.419 188.237 Q459.544 186.385 459.544 181.524 L459.544 167.45 L456.419 167.45 L456.419 164.14 L459.544 164.14 L459.544 156.779 L463.826 156.779 Z\" fill=\"#000000\" fill-rule=\"evenodd\" fill-opacity=\"1\" /><path clip-path=\"url(#clip830)\" d=\"M500.377 176.038 L500.377 178.121 L480.794 178.121 Q481.072 182.519 483.433 184.834 Q485.817 187.126 490.053 187.126 Q492.507 187.126 494.798 186.524 Q497.113 185.922 499.382 184.718 L499.382 188.746 Q497.09 189.718 494.683 190.228 Q492.275 190.737 489.798 190.737 Q483.595 190.737 479.96 187.126 Q476.349 183.515 476.349 177.357 Q476.349 170.992 479.775 167.265 Q483.224 163.515 489.058 163.515 Q494.289 163.515 497.321 166.894 Q500.377 170.251 500.377 176.038 M496.118 174.788 Q496.072 171.293 494.15 169.209 Q492.252 167.126 489.104 167.126 Q485.539 167.126 483.386 169.14 Q481.257 171.154 480.933 174.811 L496.118 174.788 Z\" fill=\"#000000\" fill-rule=\"evenodd\" fill-opacity=\"1\" /><path clip-path=\"url(#clip830)\" d=\"M524.428 168.075 L524.428 154.047 L528.687 154.047 L528.687 190.066 L524.428 190.066 L524.428 186.177 Q523.085 188.491 521.025 189.626 Q518.988 190.737 516.118 190.737 Q511.419 190.737 508.456 186.987 Q505.516 183.237 505.516 177.126 Q505.516 171.015 508.456 167.265 Q511.419 163.515 516.118 163.515 Q518.988 163.515 521.025 164.649 Q523.085 165.76 524.428 168.075 M509.914 177.126 Q509.914 181.825 511.835 184.51 Q513.78 187.172 517.159 187.172 Q520.539 187.172 522.483 184.51 Q524.428 181.825 524.428 177.126 Q524.428 172.427 522.483 169.765 Q520.539 167.08 517.159 167.08 Q513.78 167.08 511.835 169.765 Q509.914 172.427 509.914 177.126 Z\" fill=\"#000000\" fill-rule=\"evenodd\" fill-opacity=\"1\" /></svg>\n"
      ]
     },
     "execution_count": 13,
     "metadata": {},
     "output_type": "execute_result"
    }
   ],
   "source": [
    "plot!(X, predict(out, select(df, :X)), label = \"predicted\" )"
   ]
  },
  {
   "cell_type": "markdown",
   "id": "e8ac38da-8b30-481c-a9b3-ec25e6bafcf5",
   "metadata": {},
   "source": [
    "## What is a macro?"
   ]
  },
  {
   "cell_type": "markdown",
   "id": "6e1d2a09-8653-4690-b17d-9998b21ffb94",
   "metadata": {},
   "source": [
    "Macros are a way to perform metaprogramming in Julia. They can be a powerful tool for writing code quickly, but it is important to consider whether they are the best option for any given task. The process of a macro consist into first parsing and evaluating the macro, then the code produced by the macro is evaluated like an ordinary expression. Macros can be thought of as the \"code of code\". Writing a macro for the first time can be a challenging experience, as it requires understanding how it transforms an expression into something else. That is why it is important to consider whether using macros is really necessary or if regular functions could suffice  without introducing additional complexity. It is best to think carefully before deciding if macros are the most suitable option rather than relying solely on their potential power and convenience.    \n",
    "Before giving an example of macros and demonstrating how to create one, let's first take a look at how expressions are represented and evaluated."
   ]
  },
  {
   "cell_type": "markdown",
   "id": "eb553914-71e1-4ecf-812b-9f1c4a836382",
   "metadata": {},
   "source": [
    "## Expression and Evaluations"
   ]
  },
  {
   "cell_type": "markdown",
   "id": "0254ad5f-cf5f-45a4-a98e-20ee30ecef49",
   "metadata": {},
   "source": [
    "There are various methods for constructing an expression. For more information, follow this [link](https://docs.julialang.org/en/v1/manual/metaprogramming/). We can create an expression directly using the prefix `:` or by parsing a string with the function `Meta.parse()`. Let's take a look at a simple example to create and evaluate the expression: `3 + 7`."
   ]
  },
  {
   "cell_type": "code",
   "execution_count": 1,
   "id": "69bab9c3-35f7-4961-b066-881e13b7a73b",
   "metadata": {
    "tags": []
   },
   "outputs": [
    {
     "data": {
      "text/plain": [
       ":(3 + 7)"
      ]
     },
     "execution_count": 1,
     "metadata": {},
     "output_type": "execute_result"
    }
   ],
   "source": [
    "# example with the ':' prefix\n",
    "expr1 = :(3+7) "
   ]
  },
  {
   "cell_type": "code",
   "execution_count": 2,
   "id": "24506695-170b-44f6-b3d8-9d6ade12631c",
   "metadata": {
    "tags": []
   },
   "outputs": [
    {
     "data": {
      "text/plain": [
       "Expr"
      ]
     },
     "execution_count": 2,
     "metadata": {},
     "output_type": "execute_result"
    }
   ],
   "source": [
    "typeof(expr1)"
   ]
  },
  {
   "cell_type": "code",
   "execution_count": 3,
   "id": "70976516-cba4-4c3d-b822-047f5f1fb14d",
   "metadata": {
    "tags": []
   },
   "outputs": [
    {
     "data": {
      "text/plain": [
       ":(3 + 7)"
      ]
     },
     "execution_count": 3,
     "metadata": {},
     "output_type": "execute_result"
    }
   ],
   "source": [
    "# example\n",
    "string_expr = \"3 + 7\"\n",
    "expr2 = Meta.parse(string_expr)"
   ]
  },
  {
   "cell_type": "markdown",
   "id": "aafd8491-d637-4ff7-8dd5-9b84425c8be8",
   "metadata": {},
   "source": [
    "Julia provides the ability to interpolate literals or expressions into quoted expressions using a prefix `$`. This allows for more dynamic control of strings and other data types when building out code."
   ]
  },
  {
   "cell_type": "code",
   "execution_count": 4,
   "id": "0a9ea5ec-7489-4eb2-9134-3574b3585ba8",
   "metadata": {
    "tags": []
   },
   "outputs": [
    {
     "data": {
      "text/plain": [
       ":(3 + 7)"
      ]
     },
     "execution_count": 4,
     "metadata": {},
     "output_type": "execute_result"
    }
   ],
   "source": [
    "a = 3\n",
    "b = 7\n",
    "expr3 = :($a + $b)"
   ]
  },
  {
   "cell_type": "markdown",
   "id": "b485a21c-4824-47c5-b8a5-b5cec2c7188f",
   "metadata": {},
   "source": [
    "To evaluate an expression object in Julia, we can use the `eval` function:"
   ]
  },
  {
   "cell_type": "code",
   "execution_count": 5,
   "id": "dcc18633-813e-4b7a-883e-27f7105cca4b",
   "metadata": {
    "tags": []
   },
   "outputs": [
    {
     "data": {
      "text/plain": [
       "10"
      ]
     },
     "execution_count": 5,
     "metadata": {},
     "output_type": "execute_result"
    }
   ],
   "source": [
    "eval(expr3)"
   ]
  },
  {
   "cell_type": "markdown",
   "id": "372d3c02-ec10-4cc3-ae09-3d5b608ed038",
   "metadata": {},
   "source": [
    "In the case we have multiple expression to evalulate, we can use the quoting method with the `quote [...] end` block:"
   ]
  },
  {
   "cell_type": "code",
   "execution_count": 6,
   "id": "9557cf97-bc67-4533-b302-5880caa5909e",
   "metadata": {
    "tags": []
   },
   "outputs": [
    {
     "data": {
      "text/plain": [
       "quote\n",
       "    \u001b[90m#= In[6]:2 =#\u001b[39m\n",
       "    a = 3\n",
       "    \u001b[90m#= In[6]:3 =#\u001b[39m\n",
       "    b = 7\n",
       "    \u001b[90m#= In[6]:4 =#\u001b[39m\n",
       "    a + b\n",
       "end"
      ]
     },
     "execution_count": 6,
     "metadata": {},
     "output_type": "execute_result"
    }
   ],
   "source": [
    "expr4 = quote\n",
    "            a = 3\n",
    "            b = 7\n",
    "            a + b\n",
    "end"
   ]
  },
  {
   "cell_type": "code",
   "execution_count": 7,
   "id": "fbe9a856-8139-4256-8265-826467b4f592",
   "metadata": {
    "tags": []
   },
   "outputs": [
    {
     "data": {
      "text/plain": [
       "10"
      ]
     },
     "execution_count": 7,
     "metadata": {},
     "output_type": "execute_result"
    }
   ],
   "source": [
    "eval(expr4)"
   ]
  },
  {
   "cell_type": "markdown",
   "id": "2e6bb3b0-280f-44f3-822e-2781ce42a981",
   "metadata": {},
   "source": [
    "## How to create a macro?"
   ]
  },
  {
   "cell_type": "markdown",
   "id": "d5dd9d09-d5a7-4c14-9a2c-96b47a7e65ee",
   "metadata": {},
   "source": [
    "Programming macros require a higher level of coding expertise and knowledge of potential issues that need to be avoided. To ensure the macro is hygienic, it is important to guarantee that the expanded expression does not introduce any variables which conflict with existing ones in the surrounding code. More information about building Julia hygieninc macro can found [here](https://docs.julialang.org/en/v1/manual/metaprogramming/#Hygiene). \n",
    "To demonstrate how to create a macro, we will construct a basic one."
   ]
  },
  {
   "cell_type": "code",
   "execution_count": 14,
   "id": "88f4e307-5d87-4b90-b6b7-cd3d7303d2ba",
   "metadata": {
    "tags": []
   },
   "outputs": [],
   "source": [
    "using Distributions"
   ]
  },
  {
   "cell_type": "markdown",
   "id": "b6df4192-042b-4562-9fe6-b1a69375fdb9",
   "metadata": {},
   "source": [
    "In the following example, the function receives a value (i.e., the distribution information), but it does not retain the variable name that was assigned to it by the user. As such, when using this function, any previously assigned variable name is lost."
   ]
  },
  {
   "cell_type": "code",
   "execution_count": 15,
   "id": "d8fe6b98-b087-46f1-a0b5-14d9133ef7ce",
   "metadata": {
    "tags": []
   },
   "outputs": [],
   "source": [
    "function show_var_dist(variable)\n",
    "    println(\"The distribution of the variable you passed is \", variable)\n",
    "end;"
   ]
  },
  {
   "cell_type": "markdown",
   "id": "47c1847d-cc43-4b19-afe8-2d857ad5eddb",
   "metadata": {
    "tags": []
   },
   "source": [
    "Let have two random variables, named X₁ and X₂, with two distinct distributions."
   ]
  },
  {
   "cell_type": "code",
   "execution_count": 16,
   "id": "84b69317-e12c-4513-8f5d-e3b9ad54af71",
   "metadata": {
    "tags": []
   },
   "outputs": [
    {
     "data": {
      "text/plain": [
       "Cauchy{Float64}(μ=1.0, σ=1.0)"
      ]
     },
     "execution_count": 16,
     "metadata": {},
     "output_type": "execute_result"
    }
   ],
   "source": [
    "X₁ = Normal(0, 1)\n",
    "X₂ = Cauchy(1, 1)"
   ]
  },
  {
   "cell_type": "code",
   "execution_count": 17,
   "id": "396b5818-9a17-4ec1-bf65-21d3f527a33e",
   "metadata": {
    "tags": []
   },
   "outputs": [
    {
     "name": "stdout",
     "output_type": "stream",
     "text": [
      "The distribution of the variable you passed is Normal{Float64}(μ=0.0, σ=1.0)\n",
      "The distribution of the variable you passed is Cauchy{Float64}(μ=1.0, σ=1.0)\n"
     ]
    }
   ],
   "source": [
    "show_var_dist(X₁)\n",
    "show_var_dist(X₂)"
   ]
  },
  {
   "cell_type": "markdown",
   "id": "e8a79a55-fab3-4580-bbca-fa2c0493324c",
   "metadata": {},
   "source": [
    "We can see that any information about the random variable names used is lost (*i.e.*, X₁ and X₂), as the function only knows that these two distributions, Normal and Cauchy, were passed. If we require the information from variable names, we need to create a macro."
   ]
  },
  {
   "cell_type": "code",
   "execution_count": 18,
   "id": "e14fe5c2-651f-4955-9120-ec7c4f727aa3",
   "metadata": {
    "tags": []
   },
   "outputs": [
    {
     "name": "stdout",
     "output_type": "stream",
     "text": [
      "The distribution of X₁ you passed is Normal{Float64}(μ=0.0, σ=1.0)\n",
      "The distribution of X₂ you passed is Cauchy{Float64}(μ=1.0, σ=1.0)\n"
     ]
    }
   ],
   "source": [
    "macro show_var_dist(variable)\n",
    "    quote\n",
    "        println(\"The distribution of \",  $(string(variable)), \" you passed is \", $(esc(variable)))\n",
    "    end\n",
    "end\n",
    "\n",
    "@show_var_dist(X₁)\n",
    "@show_var_dist(X₂)"
   ]
  },
  {
   "cell_type": "code",
   "execution_count": 19,
   "id": "e9a15617-2b29-4888-8bce-b8a0ee348d68",
   "metadata": {
    "tags": []
   },
   "outputs": [
    {
     "name": "stdout",
     "output_type": "stream",
     "text": [
      "Julia Version 1.8.5\n",
      "Commit 17cfb8e65e (2023-01-08 06:45 UTC)\n",
      "Platform Info:\n",
      "  OS: Windows (x86_64-w64-mingw32)\n",
      "  CPU: 4 × Intel(R) Core(TM) i5-6500 CPU @ 3.20GHz\n",
      "  WORD_SIZE: 64\n",
      "  LIBM: libopenlibm\n",
      "  LLVM: libLLVM-13.0.1 (ORCJIT, skylake)\n",
      "  Threads: 1 on 4 virtual cores\n"
     ]
    }
   ],
   "source": [
    "versioninfo()"
   ]
  }
 ],
 "metadata": {
  "jupytext": {
   "encoding": "# -*- coding: utf-8 -*-",
   "formats": "ipynb,jl:light"
  },
  "kernelspec": {
   "display_name": "Julia 1.8.5",
   "language": "julia",
   "name": "julia-1.8"
  },
  "language_info": {
   "file_extension": ".jl",
   "mimetype": "application/julia",
   "name": "julia",
   "version": "1.8.5"
  }
 },
 "nbformat": 4,
 "nbformat_minor": 5
}
