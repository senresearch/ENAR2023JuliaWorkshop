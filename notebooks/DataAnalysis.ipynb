{
 "cells": [
  {
   "cell_type": "markdown",
   "metadata": {
    "slideshow": {
     "slide_type": "slide"
    }
   },
   "source": [
    "# Basic data analysis tasks\n",
    "\n",
    "- Data: Fitness in Arabidopsis recombinant inbred lines\n",
    "- Data input: CSV files, missing data\n",
    "- Data description: Summary statistics, plots\n",
    "- Modeling: Linear regression"
   ]
  },
  {
   "cell_type": "markdown",
   "metadata": {
    "slideshow": {
     "slide_type": "slide"
    }
   },
   "source": [
    "## Example: Fitness measured in Arabidopsis recombinant inbred lines\n",
    "\n",
    "This is phenotype data from Ågren et. al. (2013) via John Lovell.  A set of\n",
    "Arabidopsis recombinant inbred lines were derived from a cross of two\n",
    "parents from Italy and Sweden.  They were grown in three years\n",
    "(2009-2011) in Italy and Sweden.  The phenotype is the average number\n",
    "of seeds per plant for each line which is a measure of fitness. We also\n",
    "have the genotype data for the FLC (Flowering Time C) locus which is known to affect flowering time, an important trait affecting fitness in plants."
   ]
  },
  {
   "cell_type": "code",
   "execution_count": 1,
   "metadata": {},
   "outputs": [],
   "source": [
    "using Statistics, CSV, Plots, DataFrames, GLM"
   ]
  },
  {
   "cell_type": "markdown",
   "metadata": {
    "tags": []
   },
   "source": [
    "## Reading data\n",
    "\n",
    "We read in data from a web URL by first downloading it into a local file,\n",
    "and then parsing that file into a data frame.\n",
    "\n",
    "Column names:\n",
    "\n",
    "- id: ID of RI line (first two are the parents)\n",
    "- it09: Italy 2009\n",
    "- it10: Italy 2010\n",
    "- it11: Italy 2011\n",
    "- sw09: Sweden 2009\n",
    "- sw10: Sweden 2010\n",
    "- sw11: Sweden 2011\n",
    "- flc: Flowering time locus (C) genotype\n"
   ]
  },
  {
   "cell_type": "code",
   "execution_count": 2,
   "metadata": {},
   "outputs": [
    {
     "data": {
      "text/html": [
       "<div><div style = \"float: left;\"><span>10×8 DataFrame</span></div><div style = \"clear: both;\"></div></div><div class = \"data-frame\" style = \"overflow-x: scroll;\"><table class = \"data-frame\" style = \"margin-bottom: 6px;\"><thead><tr class = \"header\"><th class = \"rowNumber\" style = \"font-weight: bold; text-align: right;\">Row</th><th style = \"text-align: left;\">it09</th><th style = \"text-align: left;\">it10</th><th style = \"text-align: left;\">it11</th><th style = \"text-align: left;\">sw09</th><th style = \"text-align: left;\">sw10</th><th style = \"text-align: left;\">sw11</th><th style = \"text-align: left;\">id</th><th style = \"text-align: left;\">flc</th></tr><tr class = \"subheader headerLastRow\"><th class = \"rowNumber\" style = \"font-weight: bold; text-align: right;\"></th><th title = \"Union{Missing, Float64}\" style = \"text-align: left;\">Float64?</th><th title = \"Union{Missing, Float64}\" style = \"text-align: left;\">Float64?</th><th title = \"Float64\" style = \"text-align: left;\">Float64</th><th title = \"Union{Missing, Float64}\" style = \"text-align: left;\">Float64?</th><th title = \"Union{Missing, Float64}\" style = \"text-align: left;\">Float64?</th><th title = \"Float64\" style = \"text-align: left;\">Float64</th><th title = \"Int64\" style = \"text-align: left;\">Int64</th><th title = \"Int64\" style = \"text-align: left;\">Int64</th></tr></thead><tbody><tr><td class = \"rowNumber\" style = \"font-weight: bold; text-align: right;\">1</td><td style = \"text-align: right;\">19.7616</td><td style = \"text-align: right;\">24.1761</td><td style = \"text-align: right;\">15.6778</td><td style = \"text-align: right;\">5.66443</td><td style = \"text-align: right;\">21.4804</td><td style = \"text-align: right;\">4.47778</td><td style = \"text-align: right;\">1</td><td style = \"text-align: right;\">1</td></tr><tr><td class = \"rowNumber\" style = \"font-weight: bold; text-align: right;\">2</td><td style = \"text-align: right;\">6.28846</td><td style = \"text-align: right;\">1.77401</td><td style = \"text-align: right;\">3.23889</td><td style = \"text-align: right;\">9.54305</td><td style = \"text-align: right;\">22.1222</td><td style = \"text-align: right;\">7.76667</td><td style = \"text-align: right;\">2</td><td style = \"text-align: right;\">2</td></tr><tr><td class = \"rowNumber\" style = \"font-weight: bold; text-align: right;\">3</td><td style = \"text-align: right;\">12.034</td><td style = \"text-align: right;\">12.4605</td><td style = \"text-align: right;\">10.601</td><td style = \"text-align: right;\">11.8038</td><td style = \"text-align: right;\">23.0487</td><td style = \"text-align: right;\">14.8712</td><td style = \"text-align: right;\">3</td><td style = \"text-align: right;\">2</td></tr><tr><td class = \"rowNumber\" style = \"font-weight: bold; text-align: right;\">4</td><td style = \"text-align: right;\">20.1253</td><td style = \"text-align: right;\">14.1169</td><td style = \"text-align: right;\">12.9035</td><td style = \"text-align: right;\">7.44263</td><td style = \"text-align: right;\">22.5834</td><td style = \"text-align: right;\">8.1937</td><td style = \"text-align: right;\">6</td><td style = \"text-align: right;\">1</td></tr><tr><td class = \"rowNumber\" style = \"font-weight: bold; text-align: right;\">5</td><td style = \"text-align: right;\">15.1278</td><td style = \"text-align: right;\">13.2925</td><td style = \"text-align: right;\">15.0646</td><td style = \"text-align: right;\">6.89696</td><td style = \"text-align: right;\">22.1404</td><td style = \"text-align: right;\">8.4891</td><td style = \"text-align: right;\">7</td><td style = \"text-align: right;\">1</td></tr><tr><td class = \"rowNumber\" style = \"font-weight: bold; text-align: right;\">6</td><td style = \"text-align: right;\">19.2091</td><td style = \"text-align: right;\">13.9549</td><td style = \"text-align: right;\">12.9868</td><td style = \"text-align: right;\">8.39536</td><td style = \"text-align: right;\">25.5612</td><td style = \"text-align: right;\">8.08018</td><td style = \"text-align: right;\">8</td><td style = \"text-align: right;\">1</td></tr><tr><td class = \"rowNumber\" style = \"font-weight: bold; text-align: right;\">7</td><td style = \"text-align: right;\">12.9434</td><td style = \"text-align: right;\">11.9672</td><td style = \"text-align: right;\">11.4831</td><td style = \"text-align: right;\">12.014</td><td style = \"text-align: right;\">24.298</td><td style = \"text-align: right;\">18.1587</td><td style = \"text-align: right;\">11</td><td style = \"text-align: right;\">2</td></tr><tr><td class = \"rowNumber\" style = \"font-weight: bold; text-align: right;\">8</td><td style = \"text-align: right;\">14.2244</td><td style = \"text-align: right;\">5.45326</td><td style = \"text-align: right;\">5.124</td><td style = \"text-align: right;\">8.51941</td><td style = \"text-align: right;\">22.8739</td><td style = \"text-align: right;\">19.51</td><td style = \"text-align: right;\">13</td><td style = \"text-align: right;\">1</td></tr><tr><td class = \"rowNumber\" style = \"font-weight: bold; text-align: right;\">9</td><td style = \"text-align: right;\">20.5921</td><td style = \"text-align: right;\">14.8691</td><td style = \"text-align: right;\">11.1797</td><td style = \"text-align: right;\">6.51861</td><td style = \"text-align: right;\">21.5116</td><td style = \"text-align: right;\">8.03754</td><td style = \"text-align: right;\">14</td><td style = \"text-align: right;\">1</td></tr><tr><td class = \"rowNumber\" style = \"font-weight: bold; text-align: right;\">10</td><td style = \"text-align: right;\">15.6141</td><td style = \"text-align: right;\">12.0889</td><td style = \"text-align: right;\">10.2923</td><td style = \"text-align: right;\">11.8832</td><td style = \"text-align: right;\">22.879</td><td style = \"text-align: right;\">10.9994</td><td style = \"text-align: right;\">16</td><td style = \"text-align: right;\">1</td></tr></tbody></table></div>"
      ],
      "text/latex": [
       "\\begin{tabular}{r|cccccccc}\n",
       "\t& it09 & it10 & it11 & sw09 & sw10 & sw11 & id & flc\\\\\n",
       "\t\\hline\n",
       "\t& Float64? & Float64? & Float64 & Float64? & Float64? & Float64 & Int64 & Int64\\\\\n",
       "\t\\hline\n",
       "\t1 & 19.7616 & 24.1761 & 15.6778 & 5.66443 & 21.4804 & 4.47778 & 1 & 1 \\\\\n",
       "\t2 & 6.28846 & 1.77401 & 3.23889 & 9.54305 & 22.1222 & 7.76667 & 2 & 2 \\\\\n",
       "\t3 & 12.034 & 12.4605 & 10.601 & 11.8038 & 23.0487 & 14.8712 & 3 & 2 \\\\\n",
       "\t4 & 20.1253 & 14.1169 & 12.9035 & 7.44263 & 22.5834 & 8.1937 & 6 & 1 \\\\\n",
       "\t5 & 15.1278 & 13.2925 & 15.0646 & 6.89696 & 22.1404 & 8.4891 & 7 & 1 \\\\\n",
       "\t6 & 19.2091 & 13.9549 & 12.9868 & 8.39536 & 25.5612 & 8.08018 & 8 & 1 \\\\\n",
       "\t7 & 12.9434 & 11.9672 & 11.4831 & 12.014 & 24.298 & 18.1587 & 11 & 2 \\\\\n",
       "\t8 & 14.2244 & 5.45326 & 5.124 & 8.51941 & 22.8739 & 19.51 & 13 & 1 \\\\\n",
       "\t9 & 20.5921 & 14.8691 & 11.1797 & 6.51861 & 21.5116 & 8.03754 & 14 & 1 \\\\\n",
       "\t10 & 15.6141 & 12.0889 & 10.2923 & 11.8832 & 22.879 & 10.9994 & 16 & 1 \\\\\n",
       "\\end{tabular}\n"
      ],
      "text/plain": [
       "\u001b[1m10×8 DataFrame\u001b[0m\n",
       "\u001b[1m Row \u001b[0m│\u001b[1m it09     \u001b[0m\u001b[1m it10     \u001b[0m\u001b[1m it11     \u001b[0m\u001b[1m sw09     \u001b[0m\u001b[1m sw10     \u001b[0m\u001b[1m sw11     \u001b[0m\u001b[1m id    \u001b[0m\u001b[1m flc \u001b[0m ⋯\n",
       "     │\u001b[90m Float64? \u001b[0m\u001b[90m Float64? \u001b[0m\u001b[90m Float64  \u001b[0m\u001b[90m Float64? \u001b[0m\u001b[90m Float64? \u001b[0m\u001b[90m Float64  \u001b[0m\u001b[90m Int64 \u001b[0m\u001b[90m Int6\u001b[0m ⋯\n",
       "─────┼──────────────────────────────────────────────────────────────────────────\n",
       "   1 │ 19.7616   24.1761   15.6778    5.66443   21.4804   4.47778      1       ⋯\n",
       "   2 │  6.28846   1.77401   3.23889   9.54305   22.1222   7.76667      2\n",
       "   3 │ 12.034    12.4605   10.601    11.8038    23.0487  14.8712       3\n",
       "   4 │ 20.1253   14.1169   12.9035    7.44263   22.5834   8.1937       6\n",
       "   5 │ 15.1278   13.2925   15.0646    6.89696   22.1404   8.4891       7       ⋯\n",
       "   6 │ 19.2091   13.9549   12.9868    8.39536   25.5612   8.08018      8\n",
       "   7 │ 12.9434   11.9672   11.4831   12.014     24.298   18.1587      11\n",
       "   8 │ 14.2244    5.45326   5.124     8.51941   22.8739  19.51        13\n",
       "   9 │ 20.5921   14.8691   11.1797    6.51861   21.5116   8.03754     14       ⋯\n",
       "  10 │ 15.6141   12.0889   10.2923   11.8832    22.879   10.9994      16\n",
       "\u001b[36m                                                                1 column omitted\u001b[0m"
      ]
     },
     "execution_count": 2,
     "metadata": {},
     "output_type": "execute_result"
    }
   ],
   "source": [
    "agrenURL = \"https://raw.githubusercontent.com/sens/smalldata/master/arabidopsis/agren2013.csv\"\n",
    "agren = CSV.read(download(agrenURL),DataFrame,missingstring=\"NA\")\n",
    "first(agren,10)"
   ]
  },
  {
   "cell_type": "markdown",
   "metadata": {
    "slideshow": {
     "slide_type": "slide"
    }
   },
   "source": [
    "## Data description\n",
    "\n",
    "We get an outline of the variables in the data frame using `describe`. Note the types of each column.  Notice that the columns with missing data have a different type.  Julia has a special `missing` value and type.  Columns with missing data will be the union of the `Missing` type and the type of the rest of the data."
   ]
  },
  {
   "cell_type": "code",
   "execution_count": 3,
   "metadata": {},
   "outputs": [
    {
     "data": {
      "text/html": [
       "<div><div style = \"float: left;\"><span>8×7 DataFrame</span></div><div style = \"clear: both;\"></div></div><div class = \"data-frame\" style = \"overflow-x: scroll;\"><table class = \"data-frame\" style = \"margin-bottom: 6px;\"><thead><tr class = \"header\"><th class = \"rowNumber\" style = \"font-weight: bold; text-align: right;\">Row</th><th style = \"text-align: left;\">variable</th><th style = \"text-align: left;\">mean</th><th style = \"text-align: left;\">min</th><th style = \"text-align: left;\">median</th><th style = \"text-align: left;\">max</th><th style = \"text-align: left;\">nmissing</th><th style = \"text-align: left;\">eltype</th></tr><tr class = \"subheader headerLastRow\"><th class = \"rowNumber\" style = \"font-weight: bold; text-align: right;\"></th><th title = \"Symbol\" style = \"text-align: left;\">Symbol</th><th title = \"Float64\" style = \"text-align: left;\">Float64</th><th title = \"Real\" style = \"text-align: left;\">Real</th><th title = \"Float64\" style = \"text-align: left;\">Float64</th><th title = \"Real\" style = \"text-align: left;\">Real</th><th title = \"Int64\" style = \"text-align: left;\">Int64</th><th title = \"Type\" style = \"text-align: left;\">Type</th></tr></thead><tbody><tr><td class = \"rowNumber\" style = \"font-weight: bold; text-align: right;\">1</td><td style = \"text-align: left;\">it09</td><td style = \"text-align: right;\">12.2106</td><td style = \"text-align: right;\">6.28846</td><td style = \"text-align: right;\">12.0582</td><td style = \"text-align: right;\">20.5921</td><td style = \"text-align: right;\">6</td><td style = \"text-align: left;\">Union{Missing, Float64}</td></tr><tr><td class = \"rowNumber\" style = \"font-weight: bold; text-align: right;\">2</td><td style = \"text-align: left;\">it10</td><td style = \"text-align: right;\">8.08256</td><td style = \"text-align: right;\">1.77401</td><td style = \"text-align: right;\">7.53993</td><td style = \"text-align: right;\">24.1761</td><td style = \"text-align: right;\">2</td><td style = \"text-align: left;\">Union{Missing, Float64}</td></tr><tr><td class = \"rowNumber\" style = \"font-weight: bold; text-align: right;\">3</td><td style = \"text-align: left;\">it11</td><td style = \"text-align: right;\">8.92073</td><td style = \"text-align: right;\">3.23889</td><td style = \"text-align: right;\">8.52447</td><td style = \"text-align: right;\">19.3107</td><td style = \"text-align: right;\">0</td><td style = \"text-align: left;\">Float64</td></tr><tr><td class = \"rowNumber\" style = \"font-weight: bold; text-align: right;\">4</td><td style = \"text-align: left;\">sw09</td><td style = \"text-align: right;\">10.8503</td><td style = \"text-align: right;\">5.66443</td><td style = \"text-align: right;\">10.832</td><td style = \"text-align: right;\">15.0012</td><td style = \"text-align: right;\">6</td><td style = \"text-align: left;\">Union{Missing, Float64}</td></tr><tr><td class = \"rowNumber\" style = \"font-weight: bold; text-align: right;\">5</td><td style = \"text-align: left;\">sw10</td><td style = \"text-align: right;\">23.3658</td><td style = \"text-align: right;\">19.2318</td><td style = \"text-align: right;\">23.0893</td><td style = \"text-align: right;\">34.1327</td><td style = \"text-align: right;\">2</td><td style = \"text-align: left;\">Union{Missing, Float64}</td></tr><tr><td class = \"rowNumber\" style = \"font-weight: bold; text-align: right;\">6</td><td style = \"text-align: left;\">sw11</td><td style = \"text-align: right;\">13.4934</td><td style = \"text-align: right;\">4.47778</td><td style = \"text-align: right;\">12.8102</td><td style = \"text-align: right;\">32.1889</td><td style = \"text-align: right;\">0</td><td style = \"text-align: left;\">Float64</td></tr><tr><td class = \"rowNumber\" style = \"font-weight: bold; text-align: right;\">7</td><td style = \"text-align: left;\">id</td><td style = \"text-align: right;\">325.637</td><td style = \"text-align: right;\">1</td><td style = \"text-align: right;\">313.5</td><td style = \"text-align: right;\">700</td><td style = \"text-align: right;\">0</td><td style = \"text-align: left;\">Int64</td></tr><tr><td class = \"rowNumber\" style = \"font-weight: bold; text-align: right;\">8</td><td style = \"text-align: left;\">flc</td><td style = \"text-align: right;\">1.535</td><td style = \"text-align: right;\">1</td><td style = \"text-align: right;\">2.0</td><td style = \"text-align: right;\">2</td><td style = \"text-align: right;\">0</td><td style = \"text-align: left;\">Int64</td></tr></tbody></table></div>"
      ],
      "text/latex": [
       "\\begin{tabular}{r|ccccccc}\n",
       "\t& variable & mean & min & median & max & nmissing & eltype\\\\\n",
       "\t\\hline\n",
       "\t& Symbol & Float64 & Real & Float64 & Real & Int64 & Type\\\\\n",
       "\t\\hline\n",
       "\t1 & it09 & 12.2106 & 6.28846 & 12.0582 & 20.5921 & 6 & Union\\{Missing, Float64\\} \\\\\n",
       "\t2 & it10 & 8.08256 & 1.77401 & 7.53993 & 24.1761 & 2 & Union\\{Missing, Float64\\} \\\\\n",
       "\t3 & it11 & 8.92073 & 3.23889 & 8.52447 & 19.3107 & 0 & Float64 \\\\\n",
       "\t4 & sw09 & 10.8503 & 5.66443 & 10.832 & 15.0012 & 6 & Union\\{Missing, Float64\\} \\\\\n",
       "\t5 & sw10 & 23.3658 & 19.2318 & 23.0893 & 34.1327 & 2 & Union\\{Missing, Float64\\} \\\\\n",
       "\t6 & sw11 & 13.4934 & 4.47778 & 12.8102 & 32.1889 & 0 & Float64 \\\\\n",
       "\t7 & id & 325.637 & 1 & 313.5 & 700 & 0 & Int64 \\\\\n",
       "\t8 & flc & 1.535 & 1 & 2.0 & 2 & 0 & Int64 \\\\\n",
       "\\end{tabular}\n"
      ],
      "text/plain": [
       "\u001b[1m8×7 DataFrame\u001b[0m\n",
       "\u001b[1m Row \u001b[0m│\u001b[1m variable \u001b[0m\u001b[1m mean      \u001b[0m\u001b[1m min      \u001b[0m\u001b[1m median    \u001b[0m\u001b[1m max      \u001b[0m\u001b[1m nmissing \u001b[0m\u001b[1m eltype   \u001b[0m ⋯\n",
       "     │\u001b[90m Symbol   \u001b[0m\u001b[90m Float64   \u001b[0m\u001b[90m Real     \u001b[0m\u001b[90m Float64   \u001b[0m\u001b[90m Real     \u001b[0m\u001b[90m Int64    \u001b[0m\u001b[90m Type     \u001b[0m ⋯\n",
       "─────┼──────────────────────────────────────────────────────────────────────────\n",
       "   1 │ it09       12.2106    6.28846   12.0582    20.5921         6  Union{Mis ⋯\n",
       "   2 │ it10        8.08256   1.77401    7.53993   24.1761         2  Union{Mis\n",
       "   3 │ it11        8.92073   3.23889    8.52447   19.3107         0  Float64\n",
       "   4 │ sw09       10.8503    5.66443   10.832     15.0012         6  Union{Mis\n",
       "   5 │ sw10       23.3658   19.2318    23.0893    34.1327         2  Union{Mis ⋯\n",
       "   6 │ sw11       13.4934    4.47778   12.8102    32.1889         0  Float64\n",
       "   7 │ id        325.637     1        313.5      700              0  Int64\n",
       "   8 │ flc         1.535     1          2.0        2              0  Int64\n",
       "\u001b[36m                                                                1 column omitted\u001b[0m"
      ]
     },
     "execution_count": 3,
     "metadata": {},
     "output_type": "execute_result"
    }
   ],
   "source": [
    "describe(agren)"
   ]
  },
  {
   "cell_type": "markdown",
   "metadata": {
    "slideshow": {
     "slide_type": "slide"
    }
   },
   "source": [
    "## Calculating summary statistics\n",
    "\n",
    "To calculate summary statistics, we have to be aware of any missingness, and when we have missing data, we have to skip the missing observations using `skipmissing`. Otherwise, it will just return `missing`."
   ]
  },
  {
   "cell_type": "code",
   "execution_count": 4,
   "metadata": {},
   "outputs": [
    {
     "data": {
      "text/plain": [
       "12.211"
      ]
     },
     "execution_count": 4,
     "metadata": {},
     "output_type": "execute_result"
    }
   ],
   "source": [
    "mean(skipmissing(agren.it09)) |> (x-> round(x,digits=3))"
   ]
  },
  {
   "cell_type": "code",
   "execution_count": 5,
   "metadata": {},
   "outputs": [
    {
     "data": {
      "text/plain": [
       "missing"
      ]
     },
     "execution_count": 5,
     "metadata": {},
     "output_type": "execute_result"
    }
   ],
   "source": [
    "mean(agren.it09)"
   ]
  },
  {
   "cell_type": "markdown",
   "metadata": {},
   "source": [
    "To calculate the mean of all the columns we can do it several ways.  One option is to apply the mean function to each column."
   ]
  },
  {
   "cell_type": "code",
   "execution_count": 6,
   "metadata": {},
   "outputs": [
    {
     "data": {
      "text/plain": [
       "8-element Vector{Float64}:\n",
       "  12.210566789309647\n",
       "   8.082563855927145\n",
       "   8.920732948515003\n",
       "  10.850313666266498\n",
       "  23.36584553505025\n",
       "  13.493410758197498\n",
       " 325.6375\n",
       "   1.535"
      ]
     },
     "execution_count": 6,
     "metadata": {},
     "output_type": "execute_result"
    }
   ],
   "source": [
    "mean.(skipmissing.(eachcol(agren)))"
   ]
  },
  {
   "cell_type": "markdown",
   "metadata": {},
   "source": [
    "Another way is to use a map function over columns, as follows. This looks nicer."
   ]
  },
  {
   "cell_type": "code",
   "execution_count": 7,
   "metadata": {},
   "outputs": [
    {
     "data": {
      "text/html": [
       "<div><div style = \"float: left;\"><span>1×8 DataFrame</span></div><div style = \"clear: both;\"></div></div><div class = \"data-frame\" style = \"overflow-x: scroll;\"><table class = \"data-frame\" style = \"margin-bottom: 6px;\"><thead><tr class = \"header\"><th class = \"rowNumber\" style = \"font-weight: bold; text-align: right;\">Row</th><th style = \"text-align: left;\">it09</th><th style = \"text-align: left;\">it10</th><th style = \"text-align: left;\">it11</th><th style = \"text-align: left;\">sw09</th><th style = \"text-align: left;\">sw10</th><th style = \"text-align: left;\">sw11</th><th style = \"text-align: left;\">id</th><th style = \"text-align: left;\">flc</th></tr><tr class = \"subheader headerLastRow\"><th class = \"rowNumber\" style = \"font-weight: bold; text-align: right;\"></th><th title = \"Float64\" style = \"text-align: left;\">Float64</th><th title = \"Float64\" style = \"text-align: left;\">Float64</th><th title = \"Float64\" style = \"text-align: left;\">Float64</th><th title = \"Float64\" style = \"text-align: left;\">Float64</th><th title = \"Float64\" style = \"text-align: left;\">Float64</th><th title = \"Float64\" style = \"text-align: left;\">Float64</th><th title = \"Float64\" style = \"text-align: left;\">Float64</th><th title = \"Float64\" style = \"text-align: left;\">Float64</th></tr></thead><tbody><tr><td class = \"rowNumber\" style = \"font-weight: bold; text-align: right;\">1</td><td style = \"text-align: right;\">12.2106</td><td style = \"text-align: right;\">8.08256</td><td style = \"text-align: right;\">8.92073</td><td style = \"text-align: right;\">10.8503</td><td style = \"text-align: right;\">23.3658</td><td style = \"text-align: right;\">13.4934</td><td style = \"text-align: right;\">325.637</td><td style = \"text-align: right;\">1.535</td></tr></tbody></table></div>"
      ],
      "text/latex": [
       "\\begin{tabular}{r|cccccccc}\n",
       "\t& it09 & it10 & it11 & sw09 & sw10 & sw11 & id & flc\\\\\n",
       "\t\\hline\n",
       "\t& Float64 & Float64 & Float64 & Float64 & Float64 & Float64 & Float64 & Float64\\\\\n",
       "\t\\hline\n",
       "\t1 & 12.2106 & 8.08256 & 8.92073 & 10.8503 & 23.3658 & 13.4934 & 325.637 & 1.535 \\\\\n",
       "\\end{tabular}\n"
      ],
      "text/plain": [
       "\u001b[1m1×8 DataFrame\u001b[0m\n",
       "\u001b[1m Row \u001b[0m│\u001b[1m it09    \u001b[0m\u001b[1m it10    \u001b[0m\u001b[1m it11    \u001b[0m\u001b[1m sw09    \u001b[0m\u001b[1m sw10    \u001b[0m\u001b[1m sw11    \u001b[0m\u001b[1m id      \u001b[0m\u001b[1m flc     \u001b[0m\n",
       "     │\u001b[90m Float64 \u001b[0m\u001b[90m Float64 \u001b[0m\u001b[90m Float64 \u001b[0m\u001b[90m Float64 \u001b[0m\u001b[90m Float64 \u001b[0m\u001b[90m Float64 \u001b[0m\u001b[90m Float64 \u001b[0m\u001b[90m Float64 \u001b[0m\n",
       "─────┼────────────────────────────────────────────────────────────────────────\n",
       "   1 │ 12.2106  8.08256  8.92073  10.8503  23.3658  13.4934  325.637    1.535"
      ]
     },
     "execution_count": 7,
     "metadata": {},
     "output_type": "execute_result"
    }
   ],
   "source": [
    "mapcols(x -> mean(skipmissing(x)),agren)"
   ]
  },
  {
   "cell_type": "markdown",
   "metadata": {
    "slideshow": {
     "slide_type": "slide"
    }
   },
   "source": [
    "## Visualization: histogram\n",
    "\n",
    "One of the preliminary steps is to visualize the data using a histogram.  Since those functions only deal with non-missing data, we have to convert the data to floating point."
   ]
  },
  {
   "cell_type": "code",
   "execution_count": 8,
   "metadata": {},
   "outputs": [
    {
     "data": {
      "text/plain": [
       "10-element Vector{Float64}:\n",
       " 19.7615894\n",
       "  6.288461538\n",
       " 12.034024\n",
       " 20.12533947\n",
       " 15.12775059\n",
       " 19.20913213\n",
       " 12.94336695\n",
       " 14.224423\n",
       " 20.59205843\n",
       " 15.61411457"
      ]
     },
     "execution_count": 8,
     "metadata": {},
     "output_type": "execute_result"
    }
   ],
   "source": [
    "Float64.(skipmissing(agren.it09)) |> (x->first(x,10))"
   ]
  },
  {
   "cell_type": "code",
   "execution_count": 9,
   "metadata": {},
   "outputs": [
    {
     "data": {
      "image/svg+xml": [
       "<?xml version=\"1.0\" encoding=\"utf-8\"?>\n",
       "<svg xmlns=\"http://www.w3.org/2000/svg\" xmlns:xlink=\"http://www.w3.org/1999/xlink\" width=\"600\" height=\"400\" viewBox=\"0 0 2400 1600\">\n",
       "<defs>\n",
       "  <clipPath id=\"clip370\">\n",
       "    <rect x=\"0\" y=\"0\" width=\"2400\" height=\"1600\"/>\n",
       "  </clipPath>\n",
       "</defs>\n",
       "<path clip-path=\"url(#clip370)\" d=\"M0 1600 L2400 1600 L2400 0 L0 0  Z\" fill=\"#ffffff\" fill-rule=\"evenodd\" fill-opacity=\"1\"/>\n",
       "<defs>\n",
       "  <clipPath id=\"clip371\">\n",
       "    <rect x=\"480\" y=\"0\" width=\"1681\" height=\"1600\"/>\n",
       "  </clipPath>\n",
       "</defs>\n",
       "<path clip-path=\"url(#clip370)\" d=\"M141.853 1486.45 L2352.76 1486.45 L2352.76 47.2441 L141.853 47.2441  Z\" fill=\"#ffffff\" fill-rule=\"evenodd\" fill-opacity=\"1\"/>\n",
       "<defs>\n",
       "  <clipPath id=\"clip372\">\n",
       "    <rect x=\"141\" y=\"47\" width=\"2212\" height=\"1440\"/>\n",
       "  </clipPath>\n",
       "</defs>\n",
       "<polyline clip-path=\"url(#clip372)\" style=\"stroke:#000000; stroke-linecap:round; stroke-linejoin:round; stroke-width:2; stroke-opacity:0.1; fill:none\" points=\"460.226,1486.45 460.226,47.2441 \"/>\n",
       "<polyline clip-path=\"url(#clip372)\" style=\"stroke:#000000; stroke-linecap:round; stroke-linejoin:round; stroke-width:2; stroke-opacity:0.1; fill:none\" points=\"788.175,1486.45 788.175,47.2441 \"/>\n",
       "<polyline clip-path=\"url(#clip372)\" style=\"stroke:#000000; stroke-linecap:round; stroke-linejoin:round; stroke-width:2; stroke-opacity:0.1; fill:none\" points=\"1116.12,1486.45 1116.12,47.2441 \"/>\n",
       "<polyline clip-path=\"url(#clip372)\" style=\"stroke:#000000; stroke-linecap:round; stroke-linejoin:round; stroke-width:2; stroke-opacity:0.1; fill:none\" points=\"1444.07,1486.45 1444.07,47.2441 \"/>\n",
       "<polyline clip-path=\"url(#clip372)\" style=\"stroke:#000000; stroke-linecap:round; stroke-linejoin:round; stroke-width:2; stroke-opacity:0.1; fill:none\" points=\"1772.02,1486.45 1772.02,47.2441 \"/>\n",
       "<polyline clip-path=\"url(#clip372)\" style=\"stroke:#000000; stroke-linecap:round; stroke-linejoin:round; stroke-width:2; stroke-opacity:0.1; fill:none\" points=\"2099.97,1486.45 2099.97,47.2441 \"/>\n",
       "<polyline clip-path=\"url(#clip370)\" style=\"stroke:#000000; stroke-linecap:round; stroke-linejoin:round; stroke-width:4; stroke-opacity:1; fill:none\" points=\"141.853,1486.45 2352.76,1486.45 \"/>\n",
       "<polyline clip-path=\"url(#clip370)\" style=\"stroke:#000000; stroke-linecap:round; stroke-linejoin:round; stroke-width:4; stroke-opacity:1; fill:none\" points=\"460.226,1486.45 460.226,1467.55 \"/>\n",
       "<polyline clip-path=\"url(#clip370)\" style=\"stroke:#000000; stroke-linecap:round; stroke-linejoin:round; stroke-width:4; stroke-opacity:1; fill:none\" points=\"788.175,1486.45 788.175,1467.55 \"/>\n",
       "<polyline clip-path=\"url(#clip370)\" style=\"stroke:#000000; stroke-linecap:round; stroke-linejoin:round; stroke-width:4; stroke-opacity:1; fill:none\" points=\"1116.12,1486.45 1116.12,1467.55 \"/>\n",
       "<polyline clip-path=\"url(#clip370)\" style=\"stroke:#000000; stroke-linecap:round; stroke-linejoin:round; stroke-width:4; stroke-opacity:1; fill:none\" points=\"1444.07,1486.45 1444.07,1467.55 \"/>\n",
       "<polyline clip-path=\"url(#clip370)\" style=\"stroke:#000000; stroke-linecap:round; stroke-linejoin:round; stroke-width:4; stroke-opacity:1; fill:none\" points=\"1772.02,1486.45 1772.02,1467.55 \"/>\n",
       "<polyline clip-path=\"url(#clip370)\" style=\"stroke:#000000; stroke-linecap:round; stroke-linejoin:round; stroke-width:4; stroke-opacity:1; fill:none\" points=\"2099.97,1486.45 2099.97,1467.55 \"/>\n",
       "<path clip-path=\"url(#clip370)\" d=\"M426.546 1514.29 L448.768 1514.29 L448.768 1516.28 L436.222 1548.85 L431.337 1548.85 L443.143 1518.22 L426.546 1518.22 L426.546 1514.29 Z\" fill=\"#000000\" fill-rule=\"nonzero\" fill-opacity=\"1\" /><path clip-path=\"url(#clip370)\" d=\"M457.888 1542.97 L462.772 1542.97 L462.772 1548.85 L457.888 1548.85 L457.888 1542.97 Z\" fill=\"#000000\" fill-rule=\"nonzero\" fill-opacity=\"1\" /><path clip-path=\"url(#clip370)\" d=\"M473.004 1514.29 L491.36 1514.29 L491.36 1518.22 L477.286 1518.22 L477.286 1526.7 Q478.305 1526.35 479.323 1526.19 Q480.342 1526 481.36 1526 Q487.147 1526 490.527 1529.17 Q493.906 1532.34 493.906 1537.76 Q493.906 1543.34 490.434 1546.44 Q486.962 1549.52 480.643 1549.52 Q478.467 1549.52 476.198 1549.15 Q473.953 1548.78 471.546 1548.04 L471.546 1543.34 Q473.629 1544.47 475.851 1545.03 Q478.073 1545.58 480.55 1545.58 Q484.555 1545.58 486.893 1543.48 Q489.231 1541.37 489.231 1537.76 Q489.231 1534.15 486.893 1532.04 Q484.555 1529.94 480.55 1529.94 Q478.675 1529.94 476.8 1530.35 Q474.948 1530.77 473.004 1531.65 L473.004 1514.29 Z\" fill=\"#000000\" fill-rule=\"nonzero\" fill-opacity=\"1\" /><path clip-path=\"url(#clip370)\" d=\"M740.247 1544.91 L747.886 1544.91 L747.886 1518.55 L739.576 1520.21 L739.576 1515.95 L747.84 1514.29 L752.516 1514.29 L752.516 1544.91 L760.155 1544.91 L760.155 1548.85 L740.247 1548.85 L740.247 1544.91 Z\" fill=\"#000000\" fill-rule=\"nonzero\" fill-opacity=\"1\" /><path clip-path=\"url(#clip370)\" d=\"M779.599 1517.37 Q775.988 1517.37 774.159 1520.93 Q772.354 1524.47 772.354 1531.6 Q772.354 1538.71 774.159 1542.27 Q775.988 1545.82 779.599 1545.82 Q783.233 1545.82 785.039 1542.27 Q786.868 1538.71 786.868 1531.6 Q786.868 1524.47 785.039 1520.93 Q783.233 1517.37 779.599 1517.37 M779.599 1513.66 Q785.409 1513.66 788.465 1518.27 Q791.543 1522.85 791.543 1531.6 Q791.543 1540.33 788.465 1544.94 Q785.409 1549.52 779.599 1549.52 Q773.789 1549.52 770.71 1544.94 Q767.655 1540.33 767.655 1531.6 Q767.655 1522.85 770.71 1518.27 Q773.789 1513.66 779.599 1513.66 Z\" fill=\"#000000\" fill-rule=\"nonzero\" fill-opacity=\"1\" /><path clip-path=\"url(#clip370)\" d=\"M799.761 1542.97 L804.645 1542.97 L804.645 1548.85 L799.761 1548.85 L799.761 1542.97 Z\" fill=\"#000000\" fill-rule=\"nonzero\" fill-opacity=\"1\" /><path clip-path=\"url(#clip370)\" d=\"M824.83 1517.37 Q821.219 1517.37 819.391 1520.93 Q817.585 1524.47 817.585 1531.6 Q817.585 1538.71 819.391 1542.27 Q821.219 1545.82 824.83 1545.82 Q828.465 1545.82 830.27 1542.27 Q832.099 1538.71 832.099 1531.6 Q832.099 1524.47 830.27 1520.93 Q828.465 1517.37 824.83 1517.37 M824.83 1513.66 Q830.64 1513.66 833.696 1518.27 Q836.775 1522.85 836.775 1531.6 Q836.775 1540.33 833.696 1544.94 Q830.64 1549.52 824.83 1549.52 Q819.02 1549.52 815.941 1544.94 Q812.886 1540.33 812.886 1531.6 Q812.886 1522.85 815.941 1518.27 Q819.02 1513.66 824.83 1513.66 Z\" fill=\"#000000\" fill-rule=\"nonzero\" fill-opacity=\"1\" /><path clip-path=\"url(#clip370)\" d=\"M1068.69 1544.91 L1076.33 1544.91 L1076.33 1518.55 L1068.02 1520.21 L1068.02 1515.95 L1076.29 1514.29 L1080.96 1514.29 L1080.96 1544.91 L1088.6 1544.91 L1088.6 1548.85 L1068.69 1548.85 L1068.69 1544.91 Z\" fill=\"#000000\" fill-rule=\"nonzero\" fill-opacity=\"1\" /><path clip-path=\"url(#clip370)\" d=\"M1102.07 1544.91 L1118.39 1544.91 L1118.39 1548.85 L1096.45 1548.85 L1096.45 1544.91 Q1099.11 1542.16 1103.69 1537.53 Q1108.3 1532.88 1109.48 1531.53 Q1111.73 1529.01 1112.61 1527.27 Q1113.51 1525.51 1113.51 1523.82 Q1113.51 1521.07 1111.56 1519.33 Q1109.64 1517.6 1106.54 1517.6 Q1104.34 1517.6 1101.89 1518.36 Q1099.46 1519.13 1096.68 1520.68 L1096.68 1515.95 Q1099.5 1514.82 1101.96 1514.24 Q1104.41 1513.66 1106.45 1513.66 Q1111.82 1513.66 1115.01 1516.35 Q1118.21 1519.03 1118.21 1523.52 Q1118.21 1525.65 1117.4 1527.57 Q1116.61 1529.47 1114.5 1532.07 Q1113.93 1532.74 1110.82 1535.95 Q1107.72 1539.15 1102.07 1544.91 Z\" fill=\"#000000\" fill-rule=\"nonzero\" fill-opacity=\"1\" /><path clip-path=\"url(#clip370)\" d=\"M1128.21 1542.97 L1133.09 1542.97 L1133.09 1548.85 L1128.21 1548.85 L1128.21 1542.97 Z\" fill=\"#000000\" fill-rule=\"nonzero\" fill-opacity=\"1\" /><path clip-path=\"url(#clip370)\" d=\"M1143.32 1514.29 L1161.68 1514.29 L1161.68 1518.22 L1147.61 1518.22 L1147.61 1526.7 Q1148.62 1526.35 1149.64 1526.19 Q1150.66 1526 1151.68 1526 Q1157.47 1526 1160.85 1529.17 Q1164.23 1532.34 1164.23 1537.76 Q1164.23 1543.34 1160.75 1546.44 Q1157.28 1549.52 1150.96 1549.52 Q1148.79 1549.52 1146.52 1549.15 Q1144.27 1548.78 1141.87 1548.04 L1141.87 1543.34 Q1143.95 1544.47 1146.17 1545.03 Q1148.39 1545.58 1150.87 1545.58 Q1154.87 1545.58 1157.21 1543.48 Q1159.55 1541.37 1159.55 1537.76 Q1159.55 1534.15 1157.21 1532.04 Q1154.87 1529.94 1150.87 1529.94 Q1148.99 1529.94 1147.12 1530.35 Q1145.27 1530.77 1143.32 1531.65 L1143.32 1514.29 Z\" fill=\"#000000\" fill-rule=\"nonzero\" fill-opacity=\"1\" /><path clip-path=\"url(#clip370)\" d=\"M1396.15 1544.91 L1403.78 1544.91 L1403.78 1518.55 L1395.47 1520.21 L1395.47 1515.95 L1403.74 1514.29 L1408.41 1514.29 L1408.41 1544.91 L1416.05 1544.91 L1416.05 1548.85 L1396.15 1548.85 L1396.15 1544.91 Z\" fill=\"#000000\" fill-rule=\"nonzero\" fill-opacity=\"1\" /><path clip-path=\"url(#clip370)\" d=\"M1425.54 1514.29 L1443.9 1514.29 L1443.9 1518.22 L1429.83 1518.22 L1429.83 1526.7 Q1430.84 1526.35 1431.86 1526.19 Q1432.88 1526 1433.9 1526 Q1439.69 1526 1443.07 1529.17 Q1446.45 1532.34 1446.45 1537.76 Q1446.45 1543.34 1442.97 1546.44 Q1439.5 1549.52 1433.18 1549.52 Q1431.01 1549.52 1428.74 1549.15 Q1426.49 1548.78 1424.09 1548.04 L1424.09 1543.34 Q1426.17 1544.47 1428.39 1545.03 Q1430.61 1545.58 1433.09 1545.58 Q1437.09 1545.58 1439.43 1543.48 Q1441.77 1541.37 1441.77 1537.76 Q1441.77 1534.15 1439.43 1532.04 Q1437.09 1529.94 1433.09 1529.94 Q1431.22 1529.94 1429.34 1530.35 Q1427.49 1530.77 1425.54 1531.65 L1425.54 1514.29 Z\" fill=\"#000000\" fill-rule=\"nonzero\" fill-opacity=\"1\" /><path clip-path=\"url(#clip370)\" d=\"M1455.66 1542.97 L1460.54 1542.97 L1460.54 1548.85 L1455.66 1548.85 L1455.66 1542.97 Z\" fill=\"#000000\" fill-rule=\"nonzero\" fill-opacity=\"1\" /><path clip-path=\"url(#clip370)\" d=\"M1480.73 1517.37 Q1477.12 1517.37 1475.29 1520.93 Q1473.48 1524.47 1473.48 1531.6 Q1473.48 1538.71 1475.29 1542.27 Q1477.12 1545.82 1480.73 1545.82 Q1484.36 1545.82 1486.17 1542.27 Q1488 1538.71 1488 1531.6 Q1488 1524.47 1486.17 1520.93 Q1484.36 1517.37 1480.73 1517.37 M1480.73 1513.66 Q1486.54 1513.66 1489.59 1518.27 Q1492.67 1522.85 1492.67 1531.6 Q1492.67 1540.33 1489.59 1544.94 Q1486.54 1549.52 1480.73 1549.52 Q1474.92 1549.52 1471.84 1544.94 Q1468.78 1540.33 1468.78 1531.6 Q1468.78 1522.85 1471.84 1518.27 Q1474.92 1513.66 1480.73 1513.66 Z\" fill=\"#000000\" fill-rule=\"nonzero\" fill-opacity=\"1\" /><path clip-path=\"url(#clip370)\" d=\"M1724.59 1544.91 L1732.23 1544.91 L1732.23 1518.55 L1723.92 1520.21 L1723.92 1515.95 L1732.19 1514.29 L1736.86 1514.29 L1736.86 1544.91 L1744.5 1544.91 L1744.5 1548.85 L1724.59 1548.85 L1724.59 1544.91 Z\" fill=\"#000000\" fill-rule=\"nonzero\" fill-opacity=\"1\" /><path clip-path=\"url(#clip370)\" d=\"M1752.76 1514.29 L1774.99 1514.29 L1774.99 1516.28 L1762.44 1548.85 L1757.56 1548.85 L1769.36 1518.22 L1752.76 1518.22 L1752.76 1514.29 Z\" fill=\"#000000\" fill-rule=\"nonzero\" fill-opacity=\"1\" /><path clip-path=\"url(#clip370)\" d=\"M1784.11 1542.97 L1788.99 1542.97 L1788.99 1548.85 L1784.11 1548.85 L1784.11 1542.97 Z\" fill=\"#000000\" fill-rule=\"nonzero\" fill-opacity=\"1\" /><path clip-path=\"url(#clip370)\" d=\"M1799.22 1514.29 L1817.58 1514.29 L1817.58 1518.22 L1803.5 1518.22 L1803.5 1526.7 Q1804.52 1526.35 1805.54 1526.19 Q1806.56 1526 1807.58 1526 Q1813.37 1526 1816.75 1529.17 Q1820.12 1532.34 1820.12 1537.76 Q1820.12 1543.34 1816.65 1546.44 Q1813.18 1549.52 1806.86 1549.52 Q1804.69 1549.52 1802.42 1549.15 Q1800.17 1548.78 1797.76 1548.04 L1797.76 1543.34 Q1799.85 1544.47 1802.07 1545.03 Q1804.29 1545.58 1806.77 1545.58 Q1810.77 1545.58 1813.11 1543.48 Q1815.45 1541.37 1815.45 1537.76 Q1815.45 1534.15 1813.11 1532.04 Q1810.77 1529.94 1806.77 1529.94 Q1804.89 1529.94 1803.02 1530.35 Q1801.17 1530.77 1799.22 1531.65 L1799.22 1514.29 Z\" fill=\"#000000\" fill-rule=\"nonzero\" fill-opacity=\"1\" /><path clip-path=\"url(#clip370)\" d=\"M2056.13 1544.91 L2072.45 1544.91 L2072.45 1548.85 L2050.51 1548.85 L2050.51 1544.91 Q2053.17 1542.16 2057.75 1537.53 Q2062.36 1532.88 2063.54 1531.53 Q2065.78 1529.01 2066.66 1527.27 Q2067.57 1525.51 2067.57 1523.82 Q2067.57 1521.07 2065.62 1519.33 Q2063.7 1517.6 2060.6 1517.6 Q2058.4 1517.6 2055.95 1518.36 Q2053.51 1519.13 2050.74 1520.68 L2050.74 1515.95 Q2053.56 1514.82 2056.01 1514.24 Q2058.47 1513.66 2060.51 1513.66 Q2065.88 1513.66 2069.07 1516.35 Q2072.26 1519.03 2072.26 1523.52 Q2072.26 1525.65 2071.45 1527.57 Q2070.67 1529.47 2068.56 1532.07 Q2067.98 1532.74 2064.88 1535.95 Q2061.78 1539.15 2056.13 1544.91 Z\" fill=\"#000000\" fill-rule=\"nonzero\" fill-opacity=\"1\" /><path clip-path=\"url(#clip370)\" d=\"M2092.26 1517.37 Q2088.65 1517.37 2086.82 1520.93 Q2085.02 1524.47 2085.02 1531.6 Q2085.02 1538.71 2086.82 1542.27 Q2088.65 1545.82 2092.26 1545.82 Q2095.9 1545.82 2097.7 1542.27 Q2099.53 1538.71 2099.53 1531.6 Q2099.53 1524.47 2097.7 1520.93 Q2095.9 1517.37 2092.26 1517.37 M2092.26 1513.66 Q2098.07 1513.66 2101.13 1518.27 Q2104.21 1522.85 2104.21 1531.6 Q2104.21 1540.33 2101.13 1544.94 Q2098.07 1549.52 2092.26 1549.52 Q2086.45 1549.52 2083.38 1544.94 Q2080.32 1540.33 2080.32 1531.6 Q2080.32 1522.85 2083.38 1518.27 Q2086.45 1513.66 2092.26 1513.66 Z\" fill=\"#000000\" fill-rule=\"nonzero\" fill-opacity=\"1\" /><path clip-path=\"url(#clip370)\" d=\"M2112.43 1542.97 L2117.31 1542.97 L2117.31 1548.85 L2112.43 1548.85 L2112.43 1542.97 Z\" fill=\"#000000\" fill-rule=\"nonzero\" fill-opacity=\"1\" /><path clip-path=\"url(#clip370)\" d=\"M2137.5 1517.37 Q2133.88 1517.37 2132.06 1520.93 Q2130.25 1524.47 2130.25 1531.6 Q2130.25 1538.71 2132.06 1542.27 Q2133.88 1545.82 2137.5 1545.82 Q2141.13 1545.82 2142.94 1542.27 Q2144.76 1538.71 2144.76 1531.6 Q2144.76 1524.47 2142.94 1520.93 Q2141.13 1517.37 2137.5 1517.37 M2137.5 1513.66 Q2143.31 1513.66 2146.36 1518.27 Q2149.44 1522.85 2149.44 1531.6 Q2149.44 1540.33 2146.36 1544.94 Q2143.31 1549.52 2137.5 1549.52 Q2131.69 1549.52 2128.61 1544.94 Q2125.55 1540.33 2125.55 1531.6 Q2125.55 1522.85 2128.61 1518.27 Q2131.69 1513.66 2137.5 1513.66 Z\" fill=\"#000000\" fill-rule=\"nonzero\" fill-opacity=\"1\" /><polyline clip-path=\"url(#clip372)\" style=\"stroke:#000000; stroke-linecap:round; stroke-linejoin:round; stroke-width:2; stroke-opacity:0.1; fill:none\" points=\"141.853,1445.72 2352.76,1445.72 \"/>\n",
       "<polyline clip-path=\"url(#clip372)\" style=\"stroke:#000000; stroke-linecap:round; stroke-linejoin:round; stroke-width:2; stroke-opacity:0.1; fill:none\" points=\"141.853,1240 2352.76,1240 \"/>\n",
       "<polyline clip-path=\"url(#clip372)\" style=\"stroke:#000000; stroke-linecap:round; stroke-linejoin:round; stroke-width:2; stroke-opacity:0.1; fill:none\" points=\"141.853,1034.28 2352.76,1034.28 \"/>\n",
       "<polyline clip-path=\"url(#clip372)\" style=\"stroke:#000000; stroke-linecap:round; stroke-linejoin:round; stroke-width:2; stroke-opacity:0.1; fill:none\" points=\"141.853,828.561 2352.76,828.561 \"/>\n",
       "<polyline clip-path=\"url(#clip372)\" style=\"stroke:#000000; stroke-linecap:round; stroke-linejoin:round; stroke-width:2; stroke-opacity:0.1; fill:none\" points=\"141.853,622.843 2352.76,622.843 \"/>\n",
       "<polyline clip-path=\"url(#clip372)\" style=\"stroke:#000000; stroke-linecap:round; stroke-linejoin:round; stroke-width:2; stroke-opacity:0.1; fill:none\" points=\"141.853,417.125 2352.76,417.125 \"/>\n",
       "<polyline clip-path=\"url(#clip372)\" style=\"stroke:#000000; stroke-linecap:round; stroke-linejoin:round; stroke-width:2; stroke-opacity:0.1; fill:none\" points=\"141.853,211.407 2352.76,211.407 \"/>\n",
       "<polyline clip-path=\"url(#clip370)\" style=\"stroke:#000000; stroke-linecap:round; stroke-linejoin:round; stroke-width:4; stroke-opacity:1; fill:none\" points=\"141.853,1486.45 141.853,47.2441 \"/>\n",
       "<polyline clip-path=\"url(#clip370)\" style=\"stroke:#000000; stroke-linecap:round; stroke-linejoin:round; stroke-width:4; stroke-opacity:1; fill:none\" points=\"141.853,1445.72 160.751,1445.72 \"/>\n",
       "<polyline clip-path=\"url(#clip370)\" style=\"stroke:#000000; stroke-linecap:round; stroke-linejoin:round; stroke-width:4; stroke-opacity:1; fill:none\" points=\"141.853,1240 160.751,1240 \"/>\n",
       "<polyline clip-path=\"url(#clip370)\" style=\"stroke:#000000; stroke-linecap:round; stroke-linejoin:round; stroke-width:4; stroke-opacity:1; fill:none\" points=\"141.853,1034.28 160.751,1034.28 \"/>\n",
       "<polyline clip-path=\"url(#clip370)\" style=\"stroke:#000000; stroke-linecap:round; stroke-linejoin:round; stroke-width:4; stroke-opacity:1; fill:none\" points=\"141.853,828.561 160.751,828.561 \"/>\n",
       "<polyline clip-path=\"url(#clip370)\" style=\"stroke:#000000; stroke-linecap:round; stroke-linejoin:round; stroke-width:4; stroke-opacity:1; fill:none\" points=\"141.853,622.843 160.751,622.843 \"/>\n",
       "<polyline clip-path=\"url(#clip370)\" style=\"stroke:#000000; stroke-linecap:round; stroke-linejoin:round; stroke-width:4; stroke-opacity:1; fill:none\" points=\"141.853,417.125 160.751,417.125 \"/>\n",
       "<polyline clip-path=\"url(#clip370)\" style=\"stroke:#000000; stroke-linecap:round; stroke-linejoin:round; stroke-width:4; stroke-opacity:1; fill:none\" points=\"141.853,211.407 160.751,211.407 \"/>\n",
       "<path clip-path=\"url(#clip370)\" d=\"M93.9086 1431.51 Q90.2975 1431.51 88.4688 1435.08 Q86.6632 1438.62 86.6632 1445.75 Q86.6632 1452.86 88.4688 1456.42 Q90.2975 1459.96 93.9086 1459.96 Q97.5428 1459.96 99.3483 1456.42 Q101.177 1452.86 101.177 1445.75 Q101.177 1438.62 99.3483 1435.08 Q97.5428 1431.51 93.9086 1431.51 M93.9086 1427.81 Q99.7187 1427.81 102.774 1432.42 Q105.853 1437 105.853 1445.75 Q105.853 1454.48 102.774 1459.08 Q99.7187 1463.67 93.9086 1463.67 Q88.0984 1463.67 85.0197 1459.08 Q81.9642 1454.48 81.9642 1445.75 Q81.9642 1437 85.0197 1432.42 Q88.0984 1427.81 93.9086 1427.81 Z\" fill=\"#000000\" fill-rule=\"nonzero\" fill-opacity=\"1\" /><path clip-path=\"url(#clip370)\" d=\"M54.5569 1253.34 L62.1958 1253.34 L62.1958 1226.98 L53.8856 1228.64 L53.8856 1224.38 L62.1495 1222.72 L66.8254 1222.72 L66.8254 1253.34 L74.4642 1253.34 L74.4642 1257.28 L54.5569 1257.28 L54.5569 1253.34 Z\" fill=\"#000000\" fill-rule=\"nonzero\" fill-opacity=\"1\" /><path clip-path=\"url(#clip370)\" d=\"M93.9086 1225.8 Q90.2975 1225.8 88.4688 1229.36 Q86.6632 1232.9 86.6632 1240.03 Q86.6632 1247.14 88.4688 1250.7 Q90.2975 1254.25 93.9086 1254.25 Q97.5428 1254.25 99.3483 1250.7 Q101.177 1247.14 101.177 1240.03 Q101.177 1232.9 99.3483 1229.36 Q97.5428 1225.8 93.9086 1225.8 M93.9086 1222.09 Q99.7187 1222.09 102.774 1226.7 Q105.853 1231.28 105.853 1240.03 Q105.853 1248.76 102.774 1253.37 Q99.7187 1257.95 93.9086 1257.95 Q88.0984 1257.95 85.0197 1253.37 Q81.9642 1248.76 81.9642 1240.03 Q81.9642 1231.28 85.0197 1226.7 Q88.0984 1222.09 93.9086 1222.09 Z\" fill=\"#000000\" fill-rule=\"nonzero\" fill-opacity=\"1\" /><path clip-path=\"url(#clip370)\" d=\"M57.7745 1047.62 L74.0939 1047.62 L74.0939 1051.56 L52.1495 1051.56 L52.1495 1047.62 Q54.8115 1044.87 59.3949 1040.24 Q64.0013 1035.59 65.1819 1034.24 Q67.4272 1031.72 68.3068 1029.99 Q69.2096 1028.23 69.2096 1026.54 Q69.2096 1023.78 67.2652 1022.05 Q65.3439 1020.31 62.2421 1020.31 Q60.043 1020.31 57.5893 1021.07 Q55.1588 1021.84 52.381 1023.39 L52.381 1018.67 Q55.2051 1017.53 57.6588 1016.95 Q60.1124 1016.37 62.1495 1016.37 Q67.5198 1016.37 70.7142 1019.06 Q73.9087 1021.74 73.9087 1026.24 Q73.9087 1028.37 73.0985 1030.29 Q72.3115 1032.18 70.205 1034.78 Q69.6263 1035.45 66.5245 1038.67 Q63.4226 1041.86 57.7745 1047.62 Z\" fill=\"#000000\" fill-rule=\"nonzero\" fill-opacity=\"1\" /><path clip-path=\"url(#clip370)\" d=\"M93.9086 1020.08 Q90.2975 1020.08 88.4688 1023.64 Q86.6632 1027.18 86.6632 1034.31 Q86.6632 1041.42 88.4688 1044.99 Q90.2975 1048.53 93.9086 1048.53 Q97.5428 1048.53 99.3483 1044.99 Q101.177 1041.42 101.177 1034.31 Q101.177 1027.18 99.3483 1023.64 Q97.5428 1020.08 93.9086 1020.08 M93.9086 1016.37 Q99.7187 1016.37 102.774 1020.98 Q105.853 1025.56 105.853 1034.31 Q105.853 1043.04 102.774 1047.65 Q99.7187 1052.23 93.9086 1052.23 Q88.0984 1052.23 85.0197 1047.65 Q81.9642 1043.04 81.9642 1034.31 Q81.9642 1025.56 85.0197 1020.98 Q88.0984 1016.37 93.9086 1016.37 Z\" fill=\"#000000\" fill-rule=\"nonzero\" fill-opacity=\"1\" /><path clip-path=\"url(#clip370)\" d=\"M67.9133 827.207 Q71.2698 827.925 73.1448 830.193 Q75.0429 832.462 75.0429 835.795 Q75.0429 840.911 71.5244 843.712 Q68.0059 846.513 61.5245 846.513 Q59.3486 846.513 57.0338 846.073 Q54.7421 845.656 52.2884 844.8 L52.2884 840.286 Q54.2328 841.42 56.5477 841.999 Q58.8625 842.578 61.3856 842.578 Q65.7837 842.578 68.0754 840.841 Q70.3902 839.105 70.3902 835.795 Q70.3902 832.74 68.2374 831.027 Q66.1078 829.291 62.2884 829.291 L58.2606 829.291 L58.2606 825.448 L62.4735 825.448 Q65.9226 825.448 67.7513 824.082 Q69.58 822.693 69.58 820.101 Q69.58 817.439 67.6819 816.027 Q65.8069 814.592 62.2884 814.592 Q60.3671 814.592 58.168 815.008 Q55.969 815.425 53.3301 816.305 L53.3301 812.138 Q55.9921 811.397 58.3069 811.027 Q60.6449 810.656 62.705 810.656 Q68.0291 810.656 71.1309 813.087 Q74.2327 815.494 74.2327 819.615 Q74.2327 822.485 72.5892 824.476 Q70.9457 826.443 67.9133 827.207 Z\" fill=\"#000000\" fill-rule=\"nonzero\" fill-opacity=\"1\" /><path clip-path=\"url(#clip370)\" d=\"M93.9086 814.36 Q90.2975 814.36 88.4688 817.925 Q86.6632 821.467 86.6632 828.596 Q86.6632 835.703 88.4688 839.267 Q90.2975 842.809 93.9086 842.809 Q97.5428 842.809 99.3483 839.267 Q101.177 835.703 101.177 828.596 Q101.177 821.467 99.3483 817.925 Q97.5428 814.36 93.9086 814.36 M93.9086 810.656 Q99.7187 810.656 102.774 815.263 Q105.853 819.846 105.853 828.596 Q105.853 837.323 102.774 841.929 Q99.7187 846.513 93.9086 846.513 Q88.0984 846.513 85.0197 841.929 Q81.9642 837.323 81.9642 828.596 Q81.9642 819.846 85.0197 815.263 Q88.0984 810.656 93.9086 810.656 Z\" fill=\"#000000\" fill-rule=\"nonzero\" fill-opacity=\"1\" /><path clip-path=\"url(#clip370)\" d=\"M66.5939 609.637 L54.7884 628.086 L66.5939 628.086 L66.5939 609.637 M65.367 605.563 L71.2466 605.563 L71.2466 628.086 L76.1772 628.086 L76.1772 631.975 L71.2466 631.975 L71.2466 640.123 L66.5939 640.123 L66.5939 631.975 L50.9921 631.975 L50.9921 627.461 L65.367 605.563 Z\" fill=\"#000000\" fill-rule=\"nonzero\" fill-opacity=\"1\" /><path clip-path=\"url(#clip370)\" d=\"M93.9086 608.642 Q90.2975 608.642 88.4688 612.207 Q86.6632 615.748 86.6632 622.878 Q86.6632 629.984 88.4688 633.549 Q90.2975 637.091 93.9086 637.091 Q97.5428 637.091 99.3483 633.549 Q101.177 629.984 101.177 622.878 Q101.177 615.748 99.3483 612.207 Q97.5428 608.642 93.9086 608.642 M93.9086 604.938 Q99.7187 604.938 102.774 609.545 Q105.853 614.128 105.853 622.878 Q105.853 631.605 102.774 636.211 Q99.7187 640.795 93.9086 640.795 Q88.0984 640.795 85.0197 636.211 Q81.9642 631.605 81.9642 622.878 Q81.9642 614.128 85.0197 609.545 Q88.0984 604.938 93.9086 604.938 Z\" fill=\"#000000\" fill-rule=\"nonzero\" fill-opacity=\"1\" /><path clip-path=\"url(#clip370)\" d=\"M53.793 399.845 L72.1494 399.845 L72.1494 403.78 L58.0754 403.78 L58.0754 412.253 Q59.0939 411.905 60.1124 411.743 Q61.131 411.558 62.1495 411.558 Q67.9365 411.558 71.3161 414.729 Q74.6957 417.901 74.6957 423.317 Q74.6957 428.896 71.2235 431.998 Q67.7513 435.077 61.4319 435.077 Q59.256 435.077 56.9875 434.706 Q54.7421 434.336 52.3347 433.595 L52.3347 428.896 Q54.418 430.03 56.6402 430.586 Q58.8625 431.141 61.3393 431.141 Q65.3439 431.141 67.6819 429.035 Q70.0198 426.928 70.0198 423.317 Q70.0198 419.706 67.6819 417.6 Q65.3439 415.493 61.3393 415.493 Q59.4643 415.493 57.5893 415.91 Q55.7375 416.327 53.793 417.206 L53.793 399.845 Z\" fill=\"#000000\" fill-rule=\"nonzero\" fill-opacity=\"1\" /><path clip-path=\"url(#clip370)\" d=\"M93.9086 402.924 Q90.2975 402.924 88.4688 406.489 Q86.6632 410.03 86.6632 417.16 Q86.6632 424.266 88.4688 427.831 Q90.2975 431.373 93.9086 431.373 Q97.5428 431.373 99.3483 427.831 Q101.177 424.266 101.177 417.16 Q101.177 410.03 99.3483 406.489 Q97.5428 402.924 93.9086 402.924 M93.9086 399.22 Q99.7187 399.22 102.774 403.827 Q105.853 408.41 105.853 417.16 Q105.853 425.887 102.774 430.493 Q99.7187 435.077 93.9086 435.077 Q88.0984 435.077 85.0197 430.493 Q81.9642 425.887 81.9642 417.16 Q81.9642 408.41 85.0197 403.827 Q88.0984 399.22 93.9086 399.22 Z\" fill=\"#000000\" fill-rule=\"nonzero\" fill-opacity=\"1\" /><path clip-path=\"url(#clip370)\" d=\"M64.3254 209.544 Q61.1773 209.544 59.3254 211.696 Q57.4967 213.849 57.4967 217.599 Q57.4967 221.326 59.3254 223.502 Q61.1773 225.655 64.3254 225.655 Q67.4735 225.655 69.3022 223.502 Q71.1541 221.326 71.1541 217.599 Q71.1541 213.849 69.3022 211.696 Q67.4735 209.544 64.3254 209.544 M73.6077 194.891 L73.6077 199.15 Q71.8485 198.317 70.0429 197.877 Q68.2606 197.437 66.5013 197.437 Q61.8717 197.437 59.418 200.562 Q56.9875 203.687 56.6402 210.007 Q58.006 207.993 60.0662 206.928 Q62.1263 205.84 64.6032 205.84 Q69.8115 205.84 72.8207 209.011 Q75.8531 212.159 75.8531 217.599 Q75.8531 222.923 72.705 226.141 Q69.5568 229.358 64.3254 229.358 Q58.33 229.358 55.1588 224.775 Q51.9875 220.169 51.9875 211.442 Q51.9875 203.247 55.8764 198.386 Q59.7652 193.502 66.3161 193.502 Q68.0754 193.502 69.8578 193.849 Q71.6633 194.197 73.6077 194.891 Z\" fill=\"#000000\" fill-rule=\"nonzero\" fill-opacity=\"1\" /><path clip-path=\"url(#clip370)\" d=\"M93.9086 197.206 Q90.2975 197.206 88.4688 200.771 Q86.6632 204.312 86.6632 211.442 Q86.6632 218.548 88.4688 222.113 Q90.2975 225.655 93.9086 225.655 Q97.5428 225.655 99.3483 222.113 Q101.177 218.548 101.177 211.442 Q101.177 204.312 99.3483 200.771 Q97.5428 197.206 93.9086 197.206 M93.9086 193.502 Q99.7187 193.502 102.774 198.109 Q105.853 202.692 105.853 211.442 Q105.853 220.169 102.774 224.775 Q99.7187 229.358 93.9086 229.358 Q88.0984 229.358 85.0197 224.775 Q81.9642 220.169 81.9642 211.442 Q81.9642 202.692 85.0197 198.109 Q88.0984 193.502 93.9086 193.502 Z\" fill=\"#000000\" fill-rule=\"nonzero\" fill-opacity=\"1\" /><path clip-path=\"url(#clip372)\" d=\"M263.457 1425.14 L263.457 1445.72 L394.636 1445.72 L394.636 1425.14 L263.457 1425.14 L263.457 1425.14  Z\" fill=\"#009af9\" fill-rule=\"evenodd\" fill-opacity=\"1\"/>\n",
       "<polyline clip-path=\"url(#clip372)\" style=\"stroke:#000000; stroke-linecap:round; stroke-linejoin:round; stroke-width:4; stroke-opacity:1; fill:none\" points=\"263.457,1425.14 263.457,1445.72 394.636,1445.72 394.636,1425.14 263.457,1425.14 \"/>\n",
       "<path clip-path=\"url(#clip372)\" d=\"M394.636 1260.57 L394.636 1445.72 L525.816 1445.72 L525.816 1260.57 L394.636 1260.57 L394.636 1260.57  Z\" fill=\"#009af9\" fill-rule=\"evenodd\" fill-opacity=\"1\"/>\n",
       "<polyline clip-path=\"url(#clip372)\" style=\"stroke:#000000; stroke-linecap:round; stroke-linejoin:round; stroke-width:4; stroke-opacity:1; fill:none\" points=\"394.636,1260.57 394.636,1445.72 525.816,1445.72 525.816,1260.57 394.636,1260.57 \"/>\n",
       "<path clip-path=\"url(#clip372)\" d=\"M525.816 1013.71 L525.816 1445.72 L656.996 1445.72 L656.996 1013.71 L525.816 1013.71 L525.816 1013.71  Z\" fill=\"#009af9\" fill-rule=\"evenodd\" fill-opacity=\"1\"/>\n",
       "<polyline clip-path=\"url(#clip372)\" style=\"stroke:#000000; stroke-linecap:round; stroke-linejoin:round; stroke-width:4; stroke-opacity:1; fill:none\" points=\"525.816,1013.71 525.816,1445.72 656.996,1445.72 656.996,1013.71 525.816,1013.71 \"/>\n",
       "<path clip-path=\"url(#clip372)\" d=\"M656.996 499.412 L656.996 1445.72 L788.175 1445.72 L788.175 499.412 L656.996 499.412 L656.996 499.412  Z\" fill=\"#009af9\" fill-rule=\"evenodd\" fill-opacity=\"1\"/>\n",
       "<polyline clip-path=\"url(#clip372)\" style=\"stroke:#000000; stroke-linecap:round; stroke-linejoin:round; stroke-width:4; stroke-opacity:1; fill:none\" points=\"656.996,499.412 656.996,1445.72 788.175,1445.72 788.175,499.412 656.996,499.412 \"/>\n",
       "<path clip-path=\"url(#clip372)\" d=\"M788.175 211.407 L788.175 1445.72 L919.355 1445.72 L919.355 211.407 L788.175 211.407 L788.175 211.407  Z\" fill=\"#009af9\" fill-rule=\"evenodd\" fill-opacity=\"1\"/>\n",
       "<polyline clip-path=\"url(#clip372)\" style=\"stroke:#000000; stroke-linecap:round; stroke-linejoin:round; stroke-width:4; stroke-opacity:1; fill:none\" points=\"788.175,211.407 788.175,1445.72 919.355,1445.72 919.355,211.407 788.175,211.407 \"/>\n",
       "<path clip-path=\"url(#clip372)\" d=\"M919.355 375.982 L919.355 1445.72 L1050.53 1445.72 L1050.53 375.982 L919.355 375.982 L919.355 375.982  Z\" fill=\"#009af9\" fill-rule=\"evenodd\" fill-opacity=\"1\"/>\n",
       "<polyline clip-path=\"url(#clip372)\" style=\"stroke:#000000; stroke-linecap:round; stroke-linejoin:round; stroke-width:4; stroke-opacity:1; fill:none\" points=\"919.355,375.982 919.355,1445.72 1050.53,1445.72 1050.53,375.982 919.355,375.982 \"/>\n",
       "<path clip-path=\"url(#clip372)\" d=\"M1050.53 87.9763 L1050.53 1445.72 L1181.71 1445.72 L1181.71 87.9763 L1050.53 87.9763 L1050.53 87.9763  Z\" fill=\"#009af9\" fill-rule=\"evenodd\" fill-opacity=\"1\"/>\n",
       "<polyline clip-path=\"url(#clip372)\" style=\"stroke:#000000; stroke-linecap:round; stroke-linejoin:round; stroke-width:4; stroke-opacity:1; fill:none\" points=\"1050.53,87.9763 1050.53,1445.72 1181.71,1445.72 1181.71,87.9763 1050.53,87.9763 \"/>\n",
       "<path clip-path=\"url(#clip372)\" d=\"M1181.71 519.984 L1181.71 1445.72 L1312.89 1445.72 L1312.89 519.984 L1181.71 519.984 L1181.71 519.984  Z\" fill=\"#009af9\" fill-rule=\"evenodd\" fill-opacity=\"1\"/>\n",
       "<polyline clip-path=\"url(#clip372)\" style=\"stroke:#000000; stroke-linecap:round; stroke-linejoin:round; stroke-width:4; stroke-opacity:1; fill:none\" points=\"1181.71,519.984 1181.71,1445.72 1312.89,1445.72 1312.89,519.984 1181.71,519.984 \"/>\n",
       "<path clip-path=\"url(#clip372)\" d=\"M1312.89 581.7 L1312.89 1445.72 L1444.07 1445.72 L1444.07 581.7 L1312.89 581.7 L1312.89 581.7  Z\" fill=\"#009af9\" fill-rule=\"evenodd\" fill-opacity=\"1\"/>\n",
       "<polyline clip-path=\"url(#clip372)\" style=\"stroke:#000000; stroke-linecap:round; stroke-linejoin:round; stroke-width:4; stroke-opacity:1; fill:none\" points=\"1312.89,581.7 1312.89,1445.72 1444.07,1445.72 1444.07,581.7 1312.89,581.7 \"/>\n",
       "<path clip-path=\"url(#clip372)\" d=\"M1444.07 828.561 L1444.07 1445.72 L1575.25 1445.72 L1575.25 828.561 L1444.07 828.561 L1444.07 828.561  Z\" fill=\"#009af9\" fill-rule=\"evenodd\" fill-opacity=\"1\"/>\n",
       "<polyline clip-path=\"url(#clip372)\" style=\"stroke:#000000; stroke-linecap:round; stroke-linejoin:round; stroke-width:4; stroke-opacity:1; fill:none\" points=\"1444.07,828.561 1444.07,1445.72 1575.25,1445.72 1575.25,828.561 1444.07,828.561 \"/>\n",
       "<path clip-path=\"url(#clip372)\" d=\"M1575.25 1260.57 L1575.25 1445.72 L1706.43 1445.72 L1706.43 1260.57 L1575.25 1260.57 L1575.25 1260.57  Z\" fill=\"#009af9\" fill-rule=\"evenodd\" fill-opacity=\"1\"/>\n",
       "<polyline clip-path=\"url(#clip372)\" style=\"stroke:#000000; stroke-linecap:round; stroke-linejoin:round; stroke-width:4; stroke-opacity:1; fill:none\" points=\"1575.25,1260.57 1575.25,1445.72 1706.43,1445.72 1706.43,1260.57 1575.25,1260.57 \"/>\n",
       "<path clip-path=\"url(#clip372)\" d=\"M1706.43 1322.28 L1706.43 1445.72 L1837.61 1445.72 L1837.61 1322.28 L1706.43 1322.28 L1706.43 1322.28  Z\" fill=\"#009af9\" fill-rule=\"evenodd\" fill-opacity=\"1\"/>\n",
       "<polyline clip-path=\"url(#clip372)\" style=\"stroke:#000000; stroke-linecap:round; stroke-linejoin:round; stroke-width:4; stroke-opacity:1; fill:none\" points=\"1706.43,1322.28 1706.43,1445.72 1837.61,1445.72 1837.61,1322.28 1706.43,1322.28 \"/>\n",
       "<path clip-path=\"url(#clip372)\" d=\"M1837.61 1404.57 L1837.61 1445.72 L1968.79 1445.72 L1968.79 1404.57 L1837.61 1404.57 L1837.61 1404.57  Z\" fill=\"#009af9\" fill-rule=\"evenodd\" fill-opacity=\"1\"/>\n",
       "<polyline clip-path=\"url(#clip372)\" style=\"stroke:#000000; stroke-linecap:round; stroke-linejoin:round; stroke-width:4; stroke-opacity:1; fill:none\" points=\"1837.61,1404.57 1837.61,1445.72 1968.79,1445.72 1968.79,1404.57 1837.61,1404.57 \"/>\n",
       "<path clip-path=\"url(#clip372)\" d=\"M1968.79 1384 L1968.79 1445.72 L2099.97 1445.72 L2099.97 1384 L1968.79 1384 L1968.79 1384  Z\" fill=\"#009af9\" fill-rule=\"evenodd\" fill-opacity=\"1\"/>\n",
       "<polyline clip-path=\"url(#clip372)\" style=\"stroke:#000000; stroke-linecap:round; stroke-linejoin:round; stroke-width:4; stroke-opacity:1; fill:none\" points=\"1968.79,1384 1968.79,1445.72 2099.97,1445.72 2099.97,1384 1968.79,1384 \"/>\n",
       "<path clip-path=\"url(#clip372)\" d=\"M2099.97 1404.57 L2099.97 1445.72 L2231.15 1445.72 L2231.15 1404.57 L2099.97 1404.57 L2099.97 1404.57  Z\" fill=\"#009af9\" fill-rule=\"evenodd\" fill-opacity=\"1\"/>\n",
       "<polyline clip-path=\"url(#clip372)\" style=\"stroke:#000000; stroke-linecap:round; stroke-linejoin:round; stroke-width:4; stroke-opacity:1; fill:none\" points=\"2099.97,1404.57 2099.97,1445.72 2231.15,1445.72 2231.15,1404.57 2099.97,1404.57 \"/>\n",
       "<circle clip-path=\"url(#clip372)\" style=\"fill:#009af9; stroke:none; fill-opacity:0\" cx=\"329.046\" cy=\"1425.14\" r=\"2\"/>\n",
       "<circle clip-path=\"url(#clip372)\" style=\"fill:#009af9; stroke:none; fill-opacity:0\" cx=\"460.226\" cy=\"1260.57\" r=\"2\"/>\n",
       "<circle clip-path=\"url(#clip372)\" style=\"fill:#009af9; stroke:none; fill-opacity:0\" cx=\"591.406\" cy=\"1013.71\" r=\"2\"/>\n",
       "<circle clip-path=\"url(#clip372)\" style=\"fill:#009af9; stroke:none; fill-opacity:0\" cx=\"722.586\" cy=\"499.412\" r=\"2\"/>\n",
       "<circle clip-path=\"url(#clip372)\" style=\"fill:#009af9; stroke:none; fill-opacity:0\" cx=\"853.765\" cy=\"211.407\" r=\"2\"/>\n",
       "<circle clip-path=\"url(#clip372)\" style=\"fill:#009af9; stroke:none; fill-opacity:0\" cx=\"984.945\" cy=\"375.982\" r=\"2\"/>\n",
       "<circle clip-path=\"url(#clip372)\" style=\"fill:#009af9; stroke:none; fill-opacity:0\" cx=\"1116.12\" cy=\"87.9763\" r=\"2\"/>\n",
       "<circle clip-path=\"url(#clip372)\" style=\"fill:#009af9; stroke:none; fill-opacity:0\" cx=\"1247.3\" cy=\"519.984\" r=\"2\"/>\n",
       "<circle clip-path=\"url(#clip372)\" style=\"fill:#009af9; stroke:none; fill-opacity:0\" cx=\"1378.48\" cy=\"581.7\" r=\"2\"/>\n",
       "<circle clip-path=\"url(#clip372)\" style=\"fill:#009af9; stroke:none; fill-opacity:0\" cx=\"1509.66\" cy=\"828.561\" r=\"2\"/>\n",
       "<circle clip-path=\"url(#clip372)\" style=\"fill:#009af9; stroke:none; fill-opacity:0\" cx=\"1640.84\" cy=\"1260.57\" r=\"2\"/>\n",
       "<circle clip-path=\"url(#clip372)\" style=\"fill:#009af9; stroke:none; fill-opacity:0\" cx=\"1772.02\" cy=\"1322.28\" r=\"2\"/>\n",
       "<circle clip-path=\"url(#clip372)\" style=\"fill:#009af9; stroke:none; fill-opacity:0\" cx=\"1903.2\" cy=\"1404.57\" r=\"2\"/>\n",
       "<circle clip-path=\"url(#clip372)\" style=\"fill:#009af9; stroke:none; fill-opacity:0\" cx=\"2034.38\" cy=\"1384\" r=\"2\"/>\n",
       "<circle clip-path=\"url(#clip372)\" style=\"fill:#009af9; stroke:none; fill-opacity:0\" cx=\"2165.56\" cy=\"1404.57\" r=\"2\"/>\n",
       "</svg>\n"
      ]
     },
     "execution_count": 9,
     "metadata": {},
     "output_type": "execute_result"
    }
   ],
   "source": [
    "histogram(Float64.(skipmissing(agren.it09)),lab=\"\")\n",
    "# display.(histogram.(eachcol(agren)))"
   ]
  },
  {
   "cell_type": "markdown",
   "metadata": {
    "slideshow": {
     "slide_type": "slide"
    }
   },
   "source": [
    "## Visualization: scatterplot\n",
    "\n",
    "Making a scatterplot is straightforward.  We log transform the data here using the `log2` function."
   ]
  },
  {
   "cell_type": "code",
   "execution_count": 10,
   "metadata": {},
   "outputs": [
    {
     "data": {
      "image/svg+xml": [
       "<?xml version=\"1.0\" encoding=\"utf-8\"?>\n",
       "<svg xmlns=\"http://www.w3.org/2000/svg\" xmlns:xlink=\"http://www.w3.org/1999/xlink\" width=\"600\" height=\"400\" viewBox=\"0 0 2400 1600\">\n",
       "<defs>\n",
       "  <clipPath id=\"clip410\">\n",
       "    <rect x=\"0\" y=\"0\" width=\"2400\" height=\"1600\"/>\n",
       "  </clipPath>\n",
       "</defs>\n",
       "<path clip-path=\"url(#clip410)\" d=\"M0 1600 L2400 1600 L2400 0 L0 0  Z\" fill=\"#ffffff\" fill-rule=\"evenodd\" fill-opacity=\"1\"/>\n",
       "<defs>\n",
       "  <clipPath id=\"clip411\">\n",
       "    <rect x=\"480\" y=\"0\" width=\"1681\" height=\"1600\"/>\n",
       "  </clipPath>\n",
       "</defs>\n",
       "<path clip-path=\"url(#clip410)\" d=\"M112.177 1486.45 L2352.76 1486.45 L2352.76 47.2441 L112.177 47.2441  Z\" fill=\"#ffffff\" fill-rule=\"evenodd\" fill-opacity=\"1\"/>\n",
       "<defs>\n",
       "  <clipPath id=\"clip412\">\n",
       "    <rect x=\"112\" y=\"47\" width=\"2242\" height=\"1440\"/>\n",
       "  </clipPath>\n",
       "</defs>\n",
       "<polyline clip-path=\"url(#clip412)\" style=\"stroke:#000000; stroke-linecap:round; stroke-linejoin:round; stroke-width:2; stroke-opacity:0.1; fill:none\" points=\"295.763,1486.45 295.763,47.2441 \"/>\n",
       "<polyline clip-path=\"url(#clip412)\" style=\"stroke:#000000; stroke-linecap:round; stroke-linejoin:round; stroke-width:2; stroke-opacity:0.1; fill:none\" points=\"604.555,1486.45 604.555,47.2441 \"/>\n",
       "<polyline clip-path=\"url(#clip412)\" style=\"stroke:#000000; stroke-linecap:round; stroke-linejoin:round; stroke-width:2; stroke-opacity:0.1; fill:none\" points=\"913.347,1486.45 913.347,47.2441 \"/>\n",
       "<polyline clip-path=\"url(#clip412)\" style=\"stroke:#000000; stroke-linecap:round; stroke-linejoin:round; stroke-width:2; stroke-opacity:0.1; fill:none\" points=\"1222.14,1486.45 1222.14,47.2441 \"/>\n",
       "<polyline clip-path=\"url(#clip412)\" style=\"stroke:#000000; stroke-linecap:round; stroke-linejoin:round; stroke-width:2; stroke-opacity:0.1; fill:none\" points=\"1530.93,1486.45 1530.93,47.2441 \"/>\n",
       "<polyline clip-path=\"url(#clip412)\" style=\"stroke:#000000; stroke-linecap:round; stroke-linejoin:round; stroke-width:2; stroke-opacity:0.1; fill:none\" points=\"1839.72,1486.45 1839.72,47.2441 \"/>\n",
       "<polyline clip-path=\"url(#clip412)\" style=\"stroke:#000000; stroke-linecap:round; stroke-linejoin:round; stroke-width:2; stroke-opacity:0.1; fill:none\" points=\"2148.51,1486.45 2148.51,47.2441 \"/>\n",
       "<polyline clip-path=\"url(#clip410)\" style=\"stroke:#000000; stroke-linecap:round; stroke-linejoin:round; stroke-width:4; stroke-opacity:1; fill:none\" points=\"112.177,1486.45 2352.76,1486.45 \"/>\n",
       "<polyline clip-path=\"url(#clip410)\" style=\"stroke:#000000; stroke-linecap:round; stroke-linejoin:round; stroke-width:4; stroke-opacity:1; fill:none\" points=\"295.763,1486.45 295.763,1467.55 \"/>\n",
       "<polyline clip-path=\"url(#clip410)\" style=\"stroke:#000000; stroke-linecap:round; stroke-linejoin:round; stroke-width:4; stroke-opacity:1; fill:none\" points=\"604.555,1486.45 604.555,1467.55 \"/>\n",
       "<polyline clip-path=\"url(#clip410)\" style=\"stroke:#000000; stroke-linecap:round; stroke-linejoin:round; stroke-width:4; stroke-opacity:1; fill:none\" points=\"913.347,1486.45 913.347,1467.55 \"/>\n",
       "<polyline clip-path=\"url(#clip410)\" style=\"stroke:#000000; stroke-linecap:round; stroke-linejoin:round; stroke-width:4; stroke-opacity:1; fill:none\" points=\"1222.14,1486.45 1222.14,1467.55 \"/>\n",
       "<polyline clip-path=\"url(#clip410)\" style=\"stroke:#000000; stroke-linecap:round; stroke-linejoin:round; stroke-width:4; stroke-opacity:1; fill:none\" points=\"1530.93,1486.45 1530.93,1467.55 \"/>\n",
       "<polyline clip-path=\"url(#clip410)\" style=\"stroke:#000000; stroke-linecap:round; stroke-linejoin:round; stroke-width:4; stroke-opacity:1; fill:none\" points=\"1839.72,1486.45 1839.72,1467.55 \"/>\n",
       "<polyline clip-path=\"url(#clip410)\" style=\"stroke:#000000; stroke-linecap:round; stroke-linejoin:round; stroke-width:4; stroke-opacity:1; fill:none\" points=\"2148.51,1486.45 2148.51,1467.55 \"/>\n",
       "<path clip-path=\"url(#clip410)\" d=\"M252.418 1544.91 L268.737 1544.91 L268.737 1548.85 L246.793 1548.85 L246.793 1544.91 Q249.455 1542.16 254.038 1537.53 Q258.645 1532.88 259.826 1531.53 Q262.071 1529.01 262.95 1527.27 Q263.853 1525.51 263.853 1523.82 Q263.853 1521.07 261.909 1519.33 Q259.988 1517.6 256.886 1517.6 Q254.687 1517.6 252.233 1518.36 Q249.802 1519.13 247.025 1520.68 L247.025 1515.95 Q249.849 1514.82 252.302 1514.24 Q254.756 1513.66 256.793 1513.66 Q262.163 1513.66 265.358 1516.35 Q268.552 1519.03 268.552 1523.52 Q268.552 1525.65 267.742 1527.57 Q266.955 1529.47 264.849 1532.07 Q264.27 1532.74 261.168 1535.95 Q258.066 1539.15 252.418 1544.91 Z\" fill=\"#000000\" fill-rule=\"nonzero\" fill-opacity=\"1\" /><path clip-path=\"url(#clip410)\" d=\"M278.552 1542.97 L283.436 1542.97 L283.436 1548.85 L278.552 1548.85 L278.552 1542.97 Z\" fill=\"#000000\" fill-rule=\"nonzero\" fill-opacity=\"1\" /><path clip-path=\"url(#clip410)\" d=\"M292.441 1514.29 L314.663 1514.29 L314.663 1516.28 L302.117 1548.85 L297.233 1548.85 L309.038 1518.22 L292.441 1518.22 L292.441 1514.29 Z\" fill=\"#000000\" fill-rule=\"nonzero\" fill-opacity=\"1\" /><path clip-path=\"url(#clip410)\" d=\"M323.83 1514.29 L342.186 1514.29 L342.186 1518.22 L328.112 1518.22 L328.112 1526.7 Q329.131 1526.35 330.149 1526.19 Q331.168 1526 332.186 1526 Q337.973 1526 341.353 1529.17 Q344.732 1532.34 344.732 1537.76 Q344.732 1543.34 341.26 1546.44 Q337.788 1549.52 331.469 1549.52 Q329.293 1549.52 327.024 1549.15 Q324.779 1548.78 322.371 1548.04 L322.371 1543.34 Q324.455 1544.47 326.677 1545.03 Q328.899 1545.58 331.376 1545.58 Q335.381 1545.58 337.719 1543.48 Q340.057 1541.37 340.057 1537.76 Q340.057 1534.15 337.719 1532.04 Q335.381 1529.94 331.376 1529.94 Q329.501 1529.94 327.626 1530.35 Q325.774 1530.77 323.83 1531.65 L323.83 1514.29 Z\" fill=\"#000000\" fill-rule=\"nonzero\" fill-opacity=\"1\" /><path clip-path=\"url(#clip410)\" d=\"M570.782 1530.21 Q574.138 1530.93 576.013 1533.2 Q577.911 1535.47 577.911 1538.8 Q577.911 1543.92 574.393 1546.72 Q570.874 1549.52 564.393 1549.52 Q562.217 1549.52 559.902 1549.08 Q557.611 1548.66 555.157 1547.81 L555.157 1543.29 Q557.101 1544.43 559.416 1545.01 Q561.731 1545.58 564.254 1545.58 Q568.652 1545.58 570.944 1543.85 Q573.259 1542.11 573.259 1538.8 Q573.259 1535.75 571.106 1534.03 Q568.976 1532.3 565.157 1532.3 L561.129 1532.3 L561.129 1528.45 L565.342 1528.45 Q568.791 1528.45 570.62 1527.09 Q572.448 1525.7 572.448 1523.11 Q572.448 1520.45 570.55 1519.03 Q568.675 1517.6 565.157 1517.6 Q563.235 1517.6 561.036 1518.01 Q558.837 1518.43 556.198 1519.31 L556.198 1515.14 Q558.861 1514.4 561.175 1514.03 Q563.513 1513.66 565.573 1513.66 Q570.897 1513.66 573.999 1516.09 Q577.101 1518.5 577.101 1522.62 Q577.101 1525.49 575.458 1527.48 Q573.814 1529.45 570.782 1530.21 Z\" fill=\"#000000\" fill-rule=\"nonzero\" fill-opacity=\"1\" /><path clip-path=\"url(#clip410)\" d=\"M586.777 1542.97 L591.661 1542.97 L591.661 1548.85 L586.777 1548.85 L586.777 1542.97 Z\" fill=\"#000000\" fill-rule=\"nonzero\" fill-opacity=\"1\" /><path clip-path=\"url(#clip410)\" d=\"M611.846 1517.37 Q608.235 1517.37 606.407 1520.93 Q604.601 1524.47 604.601 1531.6 Q604.601 1538.71 606.407 1542.27 Q608.235 1545.82 611.846 1545.82 Q615.481 1545.82 617.286 1542.27 Q619.115 1538.71 619.115 1531.6 Q619.115 1524.47 617.286 1520.93 Q615.481 1517.37 611.846 1517.37 M611.846 1513.66 Q617.657 1513.66 620.712 1518.27 Q623.791 1522.85 623.791 1531.6 Q623.791 1540.33 620.712 1544.94 Q617.657 1549.52 611.846 1549.52 Q606.036 1549.52 602.958 1544.94 Q599.902 1540.33 599.902 1531.6 Q599.902 1522.85 602.958 1518.27 Q606.036 1513.66 611.846 1513.66 Z\" fill=\"#000000\" fill-rule=\"nonzero\" fill-opacity=\"1\" /><path clip-path=\"url(#clip410)\" d=\"M642.008 1517.37 Q638.397 1517.37 636.568 1520.93 Q634.763 1524.47 634.763 1531.6 Q634.763 1538.71 636.568 1542.27 Q638.397 1545.82 642.008 1545.82 Q645.642 1545.82 647.448 1542.27 Q649.277 1538.71 649.277 1531.6 Q649.277 1524.47 647.448 1520.93 Q645.642 1517.37 642.008 1517.37 M642.008 1513.66 Q647.818 1513.66 650.874 1518.27 Q653.953 1522.85 653.953 1531.6 Q653.953 1540.33 650.874 1544.94 Q647.818 1549.52 642.008 1549.52 Q636.198 1549.52 633.119 1544.94 Q630.064 1540.33 630.064 1531.6 Q630.064 1522.85 633.119 1518.27 Q636.198 1513.66 642.008 1513.66 Z\" fill=\"#000000\" fill-rule=\"nonzero\" fill-opacity=\"1\" /><path clip-path=\"url(#clip410)\" d=\"M880.071 1530.21 Q883.428 1530.93 885.303 1533.2 Q887.201 1535.47 887.201 1538.8 Q887.201 1543.92 883.682 1546.72 Q880.164 1549.52 873.682 1549.52 Q871.507 1549.52 869.192 1549.08 Q866.9 1548.66 864.446 1547.81 L864.446 1543.29 Q866.391 1544.43 868.706 1545.01 Q871.02 1545.58 873.544 1545.58 Q877.942 1545.58 880.233 1543.85 Q882.548 1542.11 882.548 1538.8 Q882.548 1535.75 880.395 1534.03 Q878.266 1532.3 874.446 1532.3 L870.419 1532.3 L870.419 1528.45 L874.632 1528.45 Q878.081 1528.45 879.909 1527.09 Q881.738 1525.7 881.738 1523.11 Q881.738 1520.45 879.84 1519.03 Q877.965 1517.6 874.446 1517.6 Q872.525 1517.6 870.326 1518.01 Q868.127 1518.43 865.488 1519.31 L865.488 1515.14 Q868.15 1514.4 870.465 1514.03 Q872.803 1513.66 874.863 1513.66 Q880.187 1513.66 883.289 1516.09 Q886.391 1518.5 886.391 1522.62 Q886.391 1525.49 884.747 1527.48 Q883.104 1529.45 880.071 1530.21 Z\" fill=\"#000000\" fill-rule=\"nonzero\" fill-opacity=\"1\" /><path clip-path=\"url(#clip410)\" d=\"M896.067 1542.97 L900.951 1542.97 L900.951 1548.85 L896.067 1548.85 L896.067 1542.97 Z\" fill=\"#000000\" fill-rule=\"nonzero\" fill-opacity=\"1\" /><path clip-path=\"url(#clip410)\" d=\"M915.164 1544.91 L931.483 1544.91 L931.483 1548.85 L909.539 1548.85 L909.539 1544.91 Q912.201 1542.16 916.784 1537.53 Q921.391 1532.88 922.571 1531.53 Q924.816 1529.01 925.696 1527.27 Q926.599 1525.51 926.599 1523.82 Q926.599 1521.07 924.654 1519.33 Q922.733 1517.6 919.631 1517.6 Q917.432 1517.6 914.979 1518.36 Q912.548 1519.13 909.77 1520.68 L909.77 1515.95 Q912.594 1514.82 915.048 1514.24 Q917.502 1513.66 919.539 1513.66 Q924.909 1513.66 928.103 1516.35 Q931.298 1519.03 931.298 1523.52 Q931.298 1525.65 930.488 1527.57 Q929.701 1529.47 927.594 1532.07 Q927.016 1532.74 923.914 1535.95 Q920.812 1539.15 915.164 1544.91 Z\" fill=\"#000000\" fill-rule=\"nonzero\" fill-opacity=\"1\" /><path clip-path=\"url(#clip410)\" d=\"M941.344 1514.29 L959.701 1514.29 L959.701 1518.22 L945.627 1518.22 L945.627 1526.7 Q946.645 1526.35 947.664 1526.19 Q948.682 1526 949.701 1526 Q955.488 1526 958.867 1529.17 Q962.247 1532.34 962.247 1537.76 Q962.247 1543.34 958.775 1546.44 Q955.302 1549.52 948.983 1549.52 Q946.807 1549.52 944.539 1549.15 Q942.293 1548.78 939.886 1548.04 L939.886 1543.34 Q941.969 1544.47 944.191 1545.03 Q946.414 1545.58 948.89 1545.58 Q952.895 1545.58 955.233 1543.48 Q957.571 1541.37 957.571 1537.76 Q957.571 1534.15 955.233 1532.04 Q952.895 1529.94 948.89 1529.94 Q947.015 1529.94 945.14 1530.35 Q943.289 1530.77 941.344 1531.65 L941.344 1514.29 Z\" fill=\"#000000\" fill-rule=\"nonzero\" fill-opacity=\"1\" /><path clip-path=\"url(#clip410)\" d=\"M1188.37 1530.21 Q1191.72 1530.93 1193.6 1533.2 Q1195.5 1535.47 1195.5 1538.8 Q1195.5 1543.92 1191.98 1546.72 Q1188.46 1549.52 1181.98 1549.52 Q1179.8 1549.52 1177.49 1549.08 Q1175.19 1548.66 1172.74 1547.81 L1172.74 1543.29 Q1174.69 1544.43 1177 1545.01 Q1179.31 1545.58 1181.84 1545.58 Q1186.24 1545.58 1188.53 1543.85 Q1190.84 1542.11 1190.84 1538.8 Q1190.84 1535.75 1188.69 1534.03 Q1186.56 1532.3 1182.74 1532.3 L1178.71 1532.3 L1178.71 1528.45 L1182.93 1528.45 Q1186.37 1528.45 1188.2 1527.09 Q1190.03 1525.7 1190.03 1523.11 Q1190.03 1520.45 1188.13 1519.03 Q1186.26 1517.6 1182.74 1517.6 Q1180.82 1517.6 1178.62 1518.01 Q1176.42 1518.43 1173.78 1519.31 L1173.78 1515.14 Q1176.44 1514.4 1178.76 1514.03 Q1181.1 1513.66 1183.16 1513.66 Q1188.48 1513.66 1191.58 1516.09 Q1194.68 1518.5 1194.68 1522.62 Q1194.68 1525.49 1193.04 1527.48 Q1191.4 1529.45 1188.37 1530.21 Z\" fill=\"#000000\" fill-rule=\"nonzero\" fill-opacity=\"1\" /><path clip-path=\"url(#clip410)\" d=\"M1204.36 1542.97 L1209.25 1542.97 L1209.25 1548.85 L1204.36 1548.85 L1204.36 1542.97 Z\" fill=\"#000000\" fill-rule=\"nonzero\" fill-opacity=\"1\" /><path clip-path=\"url(#clip410)\" d=\"M1219.48 1514.29 L1237.83 1514.29 L1237.83 1518.22 L1223.76 1518.22 L1223.76 1526.7 Q1224.78 1526.35 1225.8 1526.19 Q1226.81 1526 1227.83 1526 Q1233.62 1526 1237 1529.17 Q1240.38 1532.34 1240.38 1537.76 Q1240.38 1543.34 1236.91 1546.44 Q1233.43 1549.52 1227.12 1549.52 Q1224.94 1549.52 1222.67 1549.15 Q1220.43 1548.78 1218.02 1548.04 L1218.02 1543.34 Q1220.1 1544.47 1222.32 1545.03 Q1224.55 1545.58 1227.02 1545.58 Q1231.03 1545.58 1233.37 1543.48 Q1235.7 1541.37 1235.7 1537.76 Q1235.7 1534.15 1233.37 1532.04 Q1231.03 1529.94 1227.02 1529.94 Q1225.15 1529.94 1223.27 1530.35 Q1221.42 1530.77 1219.48 1531.65 L1219.48 1514.29 Z\" fill=\"#000000\" fill-rule=\"nonzero\" fill-opacity=\"1\" /><path clip-path=\"url(#clip410)\" d=\"M1259.59 1517.37 Q1255.98 1517.37 1254.15 1520.93 Q1252.35 1524.47 1252.35 1531.6 Q1252.35 1538.71 1254.15 1542.27 Q1255.98 1545.82 1259.59 1545.82 Q1263.23 1545.82 1265.03 1542.27 Q1266.86 1538.71 1266.86 1531.6 Q1266.86 1524.47 1265.03 1520.93 Q1263.23 1517.37 1259.59 1517.37 M1259.59 1513.66 Q1265.4 1513.66 1268.46 1518.27 Q1271.54 1522.85 1271.54 1531.6 Q1271.54 1540.33 1268.46 1544.94 Q1265.4 1549.52 1259.59 1549.52 Q1253.78 1549.52 1250.7 1544.94 Q1247.65 1540.33 1247.65 1531.6 Q1247.65 1522.85 1250.7 1518.27 Q1253.78 1513.66 1259.59 1513.66 Z\" fill=\"#000000\" fill-rule=\"nonzero\" fill-opacity=\"1\" /><path clip-path=\"url(#clip410)\" d=\"M1497.66 1530.21 Q1501.01 1530.93 1502.89 1533.2 Q1504.78 1535.47 1504.78 1538.8 Q1504.78 1543.92 1501.27 1546.72 Q1497.75 1549.52 1491.27 1549.52 Q1489.09 1549.52 1486.78 1549.08 Q1484.48 1548.66 1482.03 1547.81 L1482.03 1543.29 Q1483.97 1544.43 1486.29 1545.01 Q1488.6 1545.58 1491.13 1545.58 Q1495.53 1545.58 1497.82 1543.85 Q1500.13 1542.11 1500.13 1538.8 Q1500.13 1535.75 1497.98 1534.03 Q1495.85 1532.3 1492.03 1532.3 L1488 1532.3 L1488 1528.45 L1492.22 1528.45 Q1495.66 1528.45 1497.49 1527.09 Q1499.32 1525.7 1499.32 1523.11 Q1499.32 1520.45 1497.42 1519.03 Q1495.55 1517.6 1492.03 1517.6 Q1490.11 1517.6 1487.91 1518.01 Q1485.71 1518.43 1483.07 1519.31 L1483.07 1515.14 Q1485.73 1514.4 1488.05 1514.03 Q1490.39 1513.66 1492.45 1513.66 Q1497.77 1513.66 1500.87 1516.09 Q1503.97 1518.5 1503.97 1522.62 Q1503.97 1525.49 1502.33 1527.48 Q1500.69 1529.45 1497.66 1530.21 Z\" fill=\"#000000\" fill-rule=\"nonzero\" fill-opacity=\"1\" /><path clip-path=\"url(#clip410)\" d=\"M1513.65 1542.97 L1518.53 1542.97 L1518.53 1548.85 L1513.65 1548.85 L1513.65 1542.97 Z\" fill=\"#000000\" fill-rule=\"nonzero\" fill-opacity=\"1\" /><path clip-path=\"url(#clip410)\" d=\"M1527.54 1514.29 L1549.76 1514.29 L1549.76 1516.28 L1537.22 1548.85 L1532.33 1548.85 L1544.14 1518.22 L1527.54 1518.22 L1527.54 1514.29 Z\" fill=\"#000000\" fill-rule=\"nonzero\" fill-opacity=\"1\" /><path clip-path=\"url(#clip410)\" d=\"M1558.93 1514.29 L1577.28 1514.29 L1577.28 1518.22 L1563.21 1518.22 L1563.21 1526.7 Q1564.23 1526.35 1565.25 1526.19 Q1566.27 1526 1567.28 1526 Q1573.07 1526 1576.45 1529.17 Q1579.83 1532.34 1579.83 1537.76 Q1579.83 1543.34 1576.36 1546.44 Q1572.89 1549.52 1566.57 1549.52 Q1564.39 1549.52 1562.12 1549.15 Q1559.88 1548.78 1557.47 1548.04 L1557.47 1543.34 Q1559.55 1544.47 1561.78 1545.03 Q1564 1545.58 1566.47 1545.58 Q1570.48 1545.58 1572.82 1543.48 Q1575.15 1541.37 1575.15 1537.76 Q1575.15 1534.15 1572.82 1532.04 Q1570.48 1529.94 1566.47 1529.94 Q1564.6 1529.94 1562.72 1530.35 Q1560.87 1530.77 1558.93 1531.65 L1558.93 1514.29 Z\" fill=\"#000000\" fill-rule=\"nonzero\" fill-opacity=\"1\" /><path clip-path=\"url(#clip410)\" d=\"M1805.28 1518.36 L1793.47 1536.81 L1805.28 1536.81 L1805.28 1518.36 M1804.05 1514.29 L1809.93 1514.29 L1809.93 1536.81 L1814.86 1536.81 L1814.86 1540.7 L1809.93 1540.7 L1809.93 1548.85 L1805.28 1548.85 L1805.28 1540.7 L1789.68 1540.7 L1789.68 1536.19 L1804.05 1514.29 Z\" fill=\"#000000\" fill-rule=\"nonzero\" fill-opacity=\"1\" /><path clip-path=\"url(#clip410)\" d=\"M1822.59 1542.97 L1827.48 1542.97 L1827.48 1548.85 L1822.59 1548.85 L1822.59 1542.97 Z\" fill=\"#000000\" fill-rule=\"nonzero\" fill-opacity=\"1\" /><path clip-path=\"url(#clip410)\" d=\"M1847.66 1517.37 Q1844.05 1517.37 1842.22 1520.93 Q1840.42 1524.47 1840.42 1531.6 Q1840.42 1538.71 1842.22 1542.27 Q1844.05 1545.82 1847.66 1545.82 Q1851.3 1545.82 1853.1 1542.27 Q1854.93 1538.71 1854.93 1531.6 Q1854.93 1524.47 1853.1 1520.93 Q1851.3 1517.37 1847.66 1517.37 M1847.66 1513.66 Q1853.47 1513.66 1856.53 1518.27 Q1859.61 1522.85 1859.61 1531.6 Q1859.61 1540.33 1856.53 1544.94 Q1853.47 1549.52 1847.66 1549.52 Q1841.85 1549.52 1838.77 1544.94 Q1835.72 1540.33 1835.72 1531.6 Q1835.72 1522.85 1838.77 1518.27 Q1841.85 1513.66 1847.66 1513.66 Z\" fill=\"#000000\" fill-rule=\"nonzero\" fill-opacity=\"1\" /><path clip-path=\"url(#clip410)\" d=\"M1877.82 1517.37 Q1874.21 1517.37 1872.38 1520.93 Q1870.58 1524.47 1870.58 1531.6 Q1870.58 1538.71 1872.38 1542.27 Q1874.21 1545.82 1877.82 1545.82 Q1881.46 1545.82 1883.26 1542.27 Q1885.09 1538.71 1885.09 1531.6 Q1885.09 1524.47 1883.26 1520.93 Q1881.46 1517.37 1877.82 1517.37 M1877.82 1513.66 Q1883.63 1513.66 1886.69 1518.27 Q1889.77 1522.85 1889.77 1531.6 Q1889.77 1540.33 1886.69 1544.94 Q1883.63 1549.52 1877.82 1549.52 Q1872.01 1549.52 1868.94 1544.94 Q1865.88 1540.33 1865.88 1531.6 Q1865.88 1522.85 1868.94 1518.27 Q1872.01 1513.66 1877.82 1513.66 Z\" fill=\"#000000\" fill-rule=\"nonzero\" fill-opacity=\"1\" /><path clip-path=\"url(#clip410)\" d=\"M2114.57 1518.36 L2102.76 1536.81 L2114.57 1536.81 L2114.57 1518.36 M2113.34 1514.29 L2119.22 1514.29 L2119.22 1536.81 L2124.15 1536.81 L2124.15 1540.7 L2119.22 1540.7 L2119.22 1548.85 L2114.57 1548.85 L2114.57 1540.7 L2098.97 1540.7 L2098.97 1536.19 L2113.34 1514.29 Z\" fill=\"#000000\" fill-rule=\"nonzero\" fill-opacity=\"1\" /><path clip-path=\"url(#clip410)\" d=\"M2131.88 1542.97 L2136.77 1542.97 L2136.77 1548.85 L2131.88 1548.85 L2131.88 1542.97 Z\" fill=\"#000000\" fill-rule=\"nonzero\" fill-opacity=\"1\" /><path clip-path=\"url(#clip410)\" d=\"M2150.98 1544.91 L2167.3 1544.91 L2167.3 1548.85 L2145.35 1548.85 L2145.35 1544.91 Q2148.02 1542.16 2152.6 1537.53 Q2157.21 1532.88 2158.39 1531.53 Q2160.63 1529.01 2161.51 1527.27 Q2162.41 1525.51 2162.41 1523.82 Q2162.41 1521.07 2160.47 1519.33 Q2158.55 1517.6 2155.45 1517.6 Q2153.25 1517.6 2150.79 1518.36 Q2148.36 1519.13 2145.59 1520.68 L2145.59 1515.95 Q2148.41 1514.82 2150.86 1514.24 Q2153.32 1513.66 2155.35 1513.66 Q2160.72 1513.66 2163.92 1516.35 Q2167.11 1519.03 2167.11 1523.52 Q2167.11 1525.65 2166.3 1527.57 Q2165.52 1529.47 2163.41 1532.07 Q2162.83 1532.74 2159.73 1535.95 Q2156.63 1539.15 2150.98 1544.91 Z\" fill=\"#000000\" fill-rule=\"nonzero\" fill-opacity=\"1\" /><path clip-path=\"url(#clip410)\" d=\"M2177.16 1514.29 L2195.52 1514.29 L2195.52 1518.22 L2181.44 1518.22 L2181.44 1526.7 Q2182.46 1526.35 2183.48 1526.19 Q2184.5 1526 2185.52 1526 Q2191.3 1526 2194.68 1529.17 Q2198.06 1532.34 2198.06 1537.76 Q2198.06 1543.34 2194.59 1546.44 Q2191.12 1549.52 2184.8 1549.52 Q2182.62 1549.52 2180.35 1549.15 Q2178.11 1548.78 2175.7 1548.04 L2175.7 1543.34 Q2177.78 1544.47 2180.01 1545.03 Q2182.23 1545.58 2184.71 1545.58 Q2188.71 1545.58 2191.05 1543.48 Q2193.39 1541.37 2193.39 1537.76 Q2193.39 1534.15 2191.05 1532.04 Q2188.71 1529.94 2184.71 1529.94 Q2182.83 1529.94 2180.96 1530.35 Q2179.1 1530.77 2177.16 1531.65 L2177.16 1514.29 Z\" fill=\"#000000\" fill-rule=\"nonzero\" fill-opacity=\"1\" /><polyline clip-path=\"url(#clip412)\" style=\"stroke:#000000; stroke-linecap:round; stroke-linejoin:round; stroke-width:2; stroke-opacity:0.1; fill:none\" points=\"112.177,1383.39 2352.76,1383.39 \"/>\n",
       "<polyline clip-path=\"url(#clip412)\" style=\"stroke:#000000; stroke-linecap:round; stroke-linejoin:round; stroke-width:2; stroke-opacity:0.1; fill:none\" points=\"112.177,1023.1 2352.76,1023.1 \"/>\n",
       "<polyline clip-path=\"url(#clip412)\" style=\"stroke:#000000; stroke-linecap:round; stroke-linejoin:round; stroke-width:2; stroke-opacity:0.1; fill:none\" points=\"112.177,662.818 2352.76,662.818 \"/>\n",
       "<polyline clip-path=\"url(#clip412)\" style=\"stroke:#000000; stroke-linecap:round; stroke-linejoin:round; stroke-width:2; stroke-opacity:0.1; fill:none\" points=\"112.177,302.531 2352.76,302.531 \"/>\n",
       "<polyline clip-path=\"url(#clip410)\" style=\"stroke:#000000; stroke-linecap:round; stroke-linejoin:round; stroke-width:4; stroke-opacity:1; fill:none\" points=\"112.177,1486.45 112.177,47.2441 \"/>\n",
       "<polyline clip-path=\"url(#clip410)\" style=\"stroke:#000000; stroke-linecap:round; stroke-linejoin:round; stroke-width:4; stroke-opacity:1; fill:none\" points=\"112.177,1383.39 131.075,1383.39 \"/>\n",
       "<polyline clip-path=\"url(#clip410)\" style=\"stroke:#000000; stroke-linecap:round; stroke-linejoin:round; stroke-width:4; stroke-opacity:1; fill:none\" points=\"112.177,1023.1 131.075,1023.1 \"/>\n",
       "<polyline clip-path=\"url(#clip410)\" style=\"stroke:#000000; stroke-linecap:round; stroke-linejoin:round; stroke-width:4; stroke-opacity:1; fill:none\" points=\"112.177,662.818 131.075,662.818 \"/>\n",
       "<polyline clip-path=\"url(#clip410)\" style=\"stroke:#000000; stroke-linecap:round; stroke-linejoin:round; stroke-width:4; stroke-opacity:1; fill:none\" points=\"112.177,302.531 131.075,302.531 \"/>\n",
       "<path clip-path=\"url(#clip410)\" d=\"M56.2699 1396.74 L63.9087 1396.74 L63.9087 1370.37 L55.5986 1372.04 L55.5986 1367.78 L63.8624 1366.11 L68.5383 1366.11 L68.5383 1396.74 L76.1772 1396.74 L76.1772 1400.67 L56.2699 1400.67 L56.2699 1396.74 Z\" fill=\"#000000\" fill-rule=\"nonzero\" fill-opacity=\"1\" /><path clip-path=\"url(#clip410)\" d=\"M59.8578 1036.45 L76.1772 1036.45 L76.1772 1040.38 L54.2328 1040.38 L54.2328 1036.45 Q56.8949 1033.7 61.4782 1029.07 Q66.0846 1024.41 67.2652 1023.07 Q69.5105 1020.55 70.3902 1018.81 Q71.2929 1017.05 71.2929 1015.36 Q71.2929 1012.61 69.3485 1010.87 Q67.4272 1009.13 64.3254 1009.13 Q62.1263 1009.13 59.6726 1009.9 Q57.2421 1010.66 54.4643 1012.21 L54.4643 1007.49 Q57.2884 1006.36 59.7421 1005.78 Q62.1958 1005.2 64.2328 1005.2 Q69.6031 1005.2 72.7976 1007.88 Q75.992 1010.57 75.992 1015.06 Q75.992 1017.19 75.1818 1019.11 Q74.3948 1021.01 72.2883 1023.6 Q71.7096 1024.27 68.6078 1027.49 Q65.5059 1030.69 59.8578 1036.45 Z\" fill=\"#000000\" fill-rule=\"nonzero\" fill-opacity=\"1\" /><path clip-path=\"url(#clip410)\" d=\"M69.0476 661.464 Q72.404 662.181 74.279 664.45 Q76.1772 666.718 76.1772 670.052 Q76.1772 675.168 72.6587 677.968 Q69.1402 680.769 62.6587 680.769 Q60.4828 680.769 58.168 680.33 Q55.8764 679.913 53.4227 679.056 L53.4227 674.543 Q55.3671 675.677 57.6819 676.255 Q59.9967 676.834 62.5198 676.834 Q66.918 676.834 69.2096 675.098 Q71.5244 673.362 71.5244 670.052 Q71.5244 666.996 69.3717 665.283 Q67.242 663.547 63.4226 663.547 L59.3949 663.547 L59.3949 659.705 L63.6078 659.705 Q67.0569 659.705 68.8855 658.339 Q70.7142 656.95 70.7142 654.357 Q70.7142 651.695 68.8161 650.283 Q66.9411 648.848 63.4226 648.848 Q61.5013 648.848 59.3023 649.265 Q57.1032 649.682 54.4643 650.561 L54.4643 646.395 Q57.1264 645.654 59.4412 645.283 Q61.7791 644.913 63.8393 644.913 Q69.1633 644.913 72.2652 647.344 Q75.367 649.751 75.367 653.871 Q75.367 656.742 73.7235 658.732 Q72.08 660.7 69.0476 661.464 Z\" fill=\"#000000\" fill-rule=\"nonzero\" fill-opacity=\"1\" /><path clip-path=\"url(#clip410)\" d=\"M66.5939 289.325 L54.7884 307.774 L66.5939 307.774 L66.5939 289.325 M65.367 285.251 L71.2466 285.251 L71.2466 307.774 L76.1772 307.774 L76.1772 311.663 L71.2466 311.663 L71.2466 319.811 L66.5939 319.811 L66.5939 311.663 L50.9921 311.663 L50.9921 307.149 L65.367 285.251 Z\" fill=\"#000000\" fill-rule=\"nonzero\" fill-opacity=\"1\" /><circle clip-path=\"url(#clip412)\" cx=\"2215.99\" cy=\"87.9763\" r=\"14.4\" fill=\"#009af9\" fill-rule=\"evenodd\" fill-opacity=\"1\" stroke=\"#000000\" stroke-opacity=\"1\" stroke-width=\"3.2\"/>\n",
       "<circle clip-path=\"url(#clip412)\" cx=\"175.59\" cy=\"1445.72\" r=\"14.4\" fill=\"#009af9\" fill-rule=\"evenodd\" fill-opacity=\"1\" stroke=\"#000000\" stroke-opacity=\"1\" stroke-width=\"3.2\"/>\n",
       "<circle clip-path=\"url(#clip412)\" cx=\"1332.13\" cy=\"432.492\" r=\"14.4\" fill=\"#009af9\" fill-rule=\"evenodd\" fill-opacity=\"1\" stroke=\"#000000\" stroke-opacity=\"1\" stroke-width=\"3.2\"/>\n",
       "<circle clip-path=\"url(#clip412)\" cx=\"2248.49\" cy=\"367.617\" r=\"14.4\" fill=\"#009af9\" fill-rule=\"evenodd\" fill-opacity=\"1\" stroke=\"#000000\" stroke-opacity=\"1\" stroke-width=\"3.2\"/>\n",
       "<circle clip-path=\"url(#clip412)\" cx=\"1739.83\" cy=\"398.892\" r=\"14.4\" fill=\"#009af9\" fill-rule=\"evenodd\" fill-opacity=\"1\" stroke=\"#000000\" stroke-opacity=\"1\" stroke-width=\"3.2\"/>\n",
       "<circle clip-path=\"url(#clip412)\" cx=\"2165.46\" cy=\"373.616\" r=\"14.4\" fill=\"#009af9\" fill-rule=\"evenodd\" fill-opacity=\"1\" stroke=\"#000000\" stroke-opacity=\"1\" stroke-width=\"3.2\"/>\n",
       "<circle clip-path=\"url(#clip412)\" cx=\"1461.94\" cy=\"453.486\" r=\"14.4\" fill=\"#009af9\" fill-rule=\"evenodd\" fill-opacity=\"1\" stroke=\"#000000\" stroke-opacity=\"1\" stroke-width=\"3.2\"/>\n",
       "<circle clip-path=\"url(#clip412)\" cx=\"1630.11\" cy=\"862.014\" r=\"14.4\" fill=\"#009af9\" fill-rule=\"evenodd\" fill-opacity=\"1\" stroke=\"#000000\" stroke-opacity=\"1\" stroke-width=\"3.2\"/>\n",
       "<circle clip-path=\"url(#clip412)\" cx=\"2289.34\" cy=\"340.632\" r=\"14.4\" fill=\"#009af9\" fill-rule=\"evenodd\" fill-opacity=\"1\" stroke=\"#000000\" stroke-opacity=\"1\" stroke-width=\"3.2\"/>\n",
       "<circle clip-path=\"url(#clip412)\" cx=\"1796.22\" cy=\"448.226\" r=\"14.4\" fill=\"#009af9\" fill-rule=\"evenodd\" fill-opacity=\"1\" stroke=\"#000000\" stroke-opacity=\"1\" stroke-width=\"3.2\"/>\n",
       "<circle clip-path=\"url(#clip412)\" cx=\"1156.95\" cy=\"840.888\" r=\"14.4\" fill=\"#009af9\" fill-rule=\"evenodd\" fill-opacity=\"1\" stroke=\"#000000\" stroke-opacity=\"1\" stroke-width=\"3.2\"/>\n",
       "<circle clip-path=\"url(#clip412)\" cx=\"1299.48\" cy=\"625.815\" r=\"14.4\" fill=\"#009af9\" fill-rule=\"evenodd\" fill-opacity=\"1\" stroke=\"#000000\" stroke-opacity=\"1\" stroke-width=\"3.2\"/>\n",
       "<circle clip-path=\"url(#clip412)\" cx=\"1478.7\" cy=\"687.433\" r=\"14.4\" fill=\"#009af9\" fill-rule=\"evenodd\" fill-opacity=\"1\" stroke=\"#000000\" stroke-opacity=\"1\" stroke-width=\"3.2\"/>\n",
       "<circle clip-path=\"url(#clip412)\" cx=\"1600.17\" cy=\"581.141\" r=\"14.4\" fill=\"#009af9\" fill-rule=\"evenodd\" fill-opacity=\"1\" stroke=\"#000000\" stroke-opacity=\"1\" stroke-width=\"3.2\"/>\n",
       "<circle clip-path=\"url(#clip412)\" cx=\"1938.35\" cy=\"261.123\" r=\"14.4\" fill=\"#009af9\" fill-rule=\"evenodd\" fill-opacity=\"1\" stroke=\"#000000\" stroke-opacity=\"1\" stroke-width=\"3.2\"/>\n",
       "<circle clip-path=\"url(#clip412)\" cx=\"1765.44\" cy=\"508.176\" r=\"14.4\" fill=\"#009af9\" fill-rule=\"evenodd\" fill-opacity=\"1\" stroke=\"#000000\" stroke-opacity=\"1\" stroke-width=\"3.2\"/>\n",
       "<circle clip-path=\"url(#clip412)\" cx=\"1515.88\" cy=\"1039.03\" r=\"14.4\" fill=\"#009af9\" fill-rule=\"evenodd\" fill-opacity=\"1\" stroke=\"#000000\" stroke-opacity=\"1\" stroke-width=\"3.2\"/>\n",
       "<circle clip-path=\"url(#clip412)\" cx=\"1349.56\" cy=\"575.421\" r=\"14.4\" fill=\"#009af9\" fill-rule=\"evenodd\" fill-opacity=\"1\" stroke=\"#000000\" stroke-opacity=\"1\" stroke-width=\"3.2\"/>\n",
       "<circle clip-path=\"url(#clip412)\" cx=\"1865\" cy=\"613.147\" r=\"14.4\" fill=\"#009af9\" fill-rule=\"evenodd\" fill-opacity=\"1\" stroke=\"#000000\" stroke-opacity=\"1\" stroke-width=\"3.2\"/>\n",
       "<circle clip-path=\"url(#clip412)\" cx=\"1697.69\" cy=\"772.716\" r=\"14.4\" fill=\"#009af9\" fill-rule=\"evenodd\" fill-opacity=\"1\" stroke=\"#000000\" stroke-opacity=\"1\" stroke-width=\"3.2\"/>\n",
       "<circle clip-path=\"url(#clip412)\" cx=\"1368.98\" cy=\"462.698\" r=\"14.4\" fill=\"#009af9\" fill-rule=\"evenodd\" fill-opacity=\"1\" stroke=\"#000000\" stroke-opacity=\"1\" stroke-width=\"3.2\"/>\n",
       "<circle clip-path=\"url(#clip412)\" cx=\"1691.17\" cy=\"602.357\" r=\"14.4\" fill=\"#009af9\" fill-rule=\"evenodd\" fill-opacity=\"1\" stroke=\"#000000\" stroke-opacity=\"1\" stroke-width=\"3.2\"/>\n",
       "<circle clip-path=\"url(#clip412)\" cx=\"1320.06\" cy=\"553.731\" r=\"14.4\" fill=\"#009af9\" fill-rule=\"evenodd\" fill-opacity=\"1\" stroke=\"#000000\" stroke-opacity=\"1\" stroke-width=\"3.2\"/>\n",
       "<circle clip-path=\"url(#clip412)\" cx=\"1397.41\" cy=\"795.311\" r=\"14.4\" fill=\"#009af9\" fill-rule=\"evenodd\" fill-opacity=\"1\" stroke=\"#000000\" stroke-opacity=\"1\" stroke-width=\"3.2\"/>\n",
       "<circle clip-path=\"url(#clip412)\" cx=\"1598.65\" cy=\"587.148\" r=\"14.4\" fill=\"#009af9\" fill-rule=\"evenodd\" fill-opacity=\"1\" stroke=\"#000000\" stroke-opacity=\"1\" stroke-width=\"3.2\"/>\n",
       "<circle clip-path=\"url(#clip412)\" cx=\"1172.42\" cy=\"710.823\" r=\"14.4\" fill=\"#009af9\" fill-rule=\"evenodd\" fill-opacity=\"1\" stroke=\"#000000\" stroke-opacity=\"1\" stroke-width=\"3.2\"/>\n",
       "<circle clip-path=\"url(#clip412)\" cx=\"1635.13\" cy=\"519.89\" r=\"14.4\" fill=\"#009af9\" fill-rule=\"evenodd\" fill-opacity=\"1\" stroke=\"#000000\" stroke-opacity=\"1\" stroke-width=\"3.2\"/>\n",
       "<circle clip-path=\"url(#clip412)\" cx=\"922.862\" cy=\"786.913\" r=\"14.4\" fill=\"#009af9\" fill-rule=\"evenodd\" fill-opacity=\"1\" stroke=\"#000000\" stroke-opacity=\"1\" stroke-width=\"3.2\"/>\n",
       "<circle clip-path=\"url(#clip412)\" cx=\"882.365\" cy=\"673.182\" r=\"14.4\" fill=\"#009af9\" fill-rule=\"evenodd\" fill-opacity=\"1\" stroke=\"#000000\" stroke-opacity=\"1\" stroke-width=\"3.2\"/>\n",
       "<circle clip-path=\"url(#clip412)\" cx=\"1677.42\" cy=\"351.462\" r=\"14.4\" fill=\"#009af9\" fill-rule=\"evenodd\" fill-opacity=\"1\" stroke=\"#000000\" stroke-opacity=\"1\" stroke-width=\"3.2\"/>\n",
       "<circle clip-path=\"url(#clip412)\" cx=\"1661.88\" cy=\"426.458\" r=\"14.4\" fill=\"#009af9\" fill-rule=\"evenodd\" fill-opacity=\"1\" stroke=\"#000000\" stroke-opacity=\"1\" stroke-width=\"3.2\"/>\n",
       "<circle clip-path=\"url(#clip412)\" cx=\"2022.43\" cy=\"374.53\" r=\"14.4\" fill=\"#009af9\" fill-rule=\"evenodd\" fill-opacity=\"1\" stroke=\"#000000\" stroke-opacity=\"1\" stroke-width=\"3.2\"/>\n",
       "<circle clip-path=\"url(#clip412)\" cx=\"1560.32\" cy=\"906.258\" r=\"14.4\" fill=\"#009af9\" fill-rule=\"evenodd\" fill-opacity=\"1\" stroke=\"#000000\" stroke-opacity=\"1\" stroke-width=\"3.2\"/>\n",
       "<circle clip-path=\"url(#clip412)\" cx=\"1534.14\" cy=\"669.237\" r=\"14.4\" fill=\"#009af9\" fill-rule=\"evenodd\" fill-opacity=\"1\" stroke=\"#000000\" stroke-opacity=\"1\" stroke-width=\"3.2\"/>\n",
       "<circle clip-path=\"url(#clip412)\" cx=\"1334.85\" cy=\"657.612\" r=\"14.4\" fill=\"#009af9\" fill-rule=\"evenodd\" fill-opacity=\"1\" stroke=\"#000000\" stroke-opacity=\"1\" stroke-width=\"3.2\"/>\n",
       "<circle clip-path=\"url(#clip412)\" cx=\"1198.79\" cy=\"795.831\" r=\"14.4\" fill=\"#009af9\" fill-rule=\"evenodd\" fill-opacity=\"1\" stroke=\"#000000\" stroke-opacity=\"1\" stroke-width=\"3.2\"/>\n",
       "<circle clip-path=\"url(#clip412)\" cx=\"630.281\" cy=\"1032.09\" r=\"14.4\" fill=\"#009af9\" fill-rule=\"evenodd\" fill-opacity=\"1\" stroke=\"#000000\" stroke-opacity=\"1\" stroke-width=\"3.2\"/>\n",
       "<circle clip-path=\"url(#clip412)\" cx=\"1562.37\" cy=\"425.468\" r=\"14.4\" fill=\"#009af9\" fill-rule=\"evenodd\" fill-opacity=\"1\" stroke=\"#000000\" stroke-opacity=\"1\" stroke-width=\"3.2\"/>\n",
       "<circle clip-path=\"url(#clip412)\" cx=\"1439.64\" cy=\"674.445\" r=\"14.4\" fill=\"#009af9\" fill-rule=\"evenodd\" fill-opacity=\"1\" stroke=\"#000000\" stroke-opacity=\"1\" stroke-width=\"3.2\"/>\n",
       "<circle clip-path=\"url(#clip412)\" cx=\"1629.9\" cy=\"908.976\" r=\"14.4\" fill=\"#009af9\" fill-rule=\"evenodd\" fill-opacity=\"1\" stroke=\"#000000\" stroke-opacity=\"1\" stroke-width=\"3.2\"/>\n",
       "<circle clip-path=\"url(#clip412)\" cx=\"1897.66\" cy=\"671.766\" r=\"14.4\" fill=\"#009af9\" fill-rule=\"evenodd\" fill-opacity=\"1\" stroke=\"#000000\" stroke-opacity=\"1\" stroke-width=\"3.2\"/>\n",
       "<circle clip-path=\"url(#clip412)\" cx=\"1832.01\" cy=\"662.122\" r=\"14.4\" fill=\"#009af9\" fill-rule=\"evenodd\" fill-opacity=\"1\" stroke=\"#000000\" stroke-opacity=\"1\" stroke-width=\"3.2\"/>\n",
       "<circle clip-path=\"url(#clip412)\" cx=\"917.092\" cy=\"596.831\" r=\"14.4\" fill=\"#009af9\" fill-rule=\"evenodd\" fill-opacity=\"1\" stroke=\"#000000\" stroke-opacity=\"1\" stroke-width=\"3.2\"/>\n",
       "<circle clip-path=\"url(#clip412)\" cx=\"1266.37\" cy=\"653.262\" r=\"14.4\" fill=\"#009af9\" fill-rule=\"evenodd\" fill-opacity=\"1\" stroke=\"#000000\" stroke-opacity=\"1\" stroke-width=\"3.2\"/>\n",
       "<circle clip-path=\"url(#clip412)\" cx=\"1565.05\" cy=\"744.769\" r=\"14.4\" fill=\"#009af9\" fill-rule=\"evenodd\" fill-opacity=\"1\" stroke=\"#000000\" stroke-opacity=\"1\" stroke-width=\"3.2\"/>\n",
       "<circle clip-path=\"url(#clip412)\" cx=\"1095.34\" cy=\"486.305\" r=\"14.4\" fill=\"#009af9\" fill-rule=\"evenodd\" fill-opacity=\"1\" stroke=\"#000000\" stroke-opacity=\"1\" stroke-width=\"3.2\"/>\n",
       "<circle clip-path=\"url(#clip412)\" cx=\"1247.44\" cy=\"654.419\" r=\"14.4\" fill=\"#009af9\" fill-rule=\"evenodd\" fill-opacity=\"1\" stroke=\"#000000\" stroke-opacity=\"1\" stroke-width=\"3.2\"/>\n",
       "<circle clip-path=\"url(#clip412)\" cx=\"1761.87\" cy=\"535.681\" r=\"14.4\" fill=\"#009af9\" fill-rule=\"evenodd\" fill-opacity=\"1\" stroke=\"#000000\" stroke-opacity=\"1\" stroke-width=\"3.2\"/>\n",
       "<circle clip-path=\"url(#clip412)\" cx=\"1604.27\" cy=\"456.251\" r=\"14.4\" fill=\"#009af9\" fill-rule=\"evenodd\" fill-opacity=\"1\" stroke=\"#000000\" stroke-opacity=\"1\" stroke-width=\"3.2\"/>\n",
       "<circle clip-path=\"url(#clip412)\" cx=\"1058.08\" cy=\"850.708\" r=\"14.4\" fill=\"#009af9\" fill-rule=\"evenodd\" fill-opacity=\"1\" stroke=\"#000000\" stroke-opacity=\"1\" stroke-width=\"3.2\"/>\n",
       "<circle clip-path=\"url(#clip412)\" cx=\"1165.84\" cy=\"610.461\" r=\"14.4\" fill=\"#009af9\" fill-rule=\"evenodd\" fill-opacity=\"1\" stroke=\"#000000\" stroke-opacity=\"1\" stroke-width=\"3.2\"/>\n",
       "<circle clip-path=\"url(#clip412)\" cx=\"1608.79\" cy=\"613.255\" r=\"14.4\" fill=\"#009af9\" fill-rule=\"evenodd\" fill-opacity=\"1\" stroke=\"#000000\" stroke-opacity=\"1\" stroke-width=\"3.2\"/>\n",
       "<circle clip-path=\"url(#clip412)\" cx=\"2017.09\" cy=\"339.177\" r=\"14.4\" fill=\"#009af9\" fill-rule=\"evenodd\" fill-opacity=\"1\" stroke=\"#000000\" stroke-opacity=\"1\" stroke-width=\"3.2\"/>\n",
       "<circle clip-path=\"url(#clip412)\" cx=\"1487.09\" cy=\"509.652\" r=\"14.4\" fill=\"#009af9\" fill-rule=\"evenodd\" fill-opacity=\"1\" stroke=\"#000000\" stroke-opacity=\"1\" stroke-width=\"3.2\"/>\n",
       "<circle clip-path=\"url(#clip412)\" cx=\"942.348\" cy=\"604.408\" r=\"14.4\" fill=\"#009af9\" fill-rule=\"evenodd\" fill-opacity=\"1\" stroke=\"#000000\" stroke-opacity=\"1\" stroke-width=\"3.2\"/>\n",
       "<circle clip-path=\"url(#clip412)\" cx=\"866.28\" cy=\"797.497\" r=\"14.4\" fill=\"#009af9\" fill-rule=\"evenodd\" fill-opacity=\"1\" stroke=\"#000000\" stroke-opacity=\"1\" stroke-width=\"3.2\"/>\n",
       "<circle clip-path=\"url(#clip412)\" cx=\"1401.32\" cy=\"663.006\" r=\"14.4\" fill=\"#009af9\" fill-rule=\"evenodd\" fill-opacity=\"1\" stroke=\"#000000\" stroke-opacity=\"1\" stroke-width=\"3.2\"/>\n",
       "<circle clip-path=\"url(#clip412)\" cx=\"1333.43\" cy=\"766.291\" r=\"14.4\" fill=\"#009af9\" fill-rule=\"evenodd\" fill-opacity=\"1\" stroke=\"#000000\" stroke-opacity=\"1\" stroke-width=\"3.2\"/>\n",
       "<circle clip-path=\"url(#clip412)\" cx=\"1609.84\" cy=\"580.362\" r=\"14.4\" fill=\"#009af9\" fill-rule=\"evenodd\" fill-opacity=\"1\" stroke=\"#000000\" stroke-opacity=\"1\" stroke-width=\"3.2\"/>\n",
       "<circle clip-path=\"url(#clip412)\" cx=\"799.571\" cy=\"880.516\" r=\"14.4\" fill=\"#009af9\" fill-rule=\"evenodd\" fill-opacity=\"1\" stroke=\"#000000\" stroke-opacity=\"1\" stroke-width=\"3.2\"/>\n",
       "<circle clip-path=\"url(#clip412)\" cx=\"1103.06\" cy=\"909.727\" r=\"14.4\" fill=\"#009af9\" fill-rule=\"evenodd\" fill-opacity=\"1\" stroke=\"#000000\" stroke-opacity=\"1\" stroke-width=\"3.2\"/>\n",
       "<circle clip-path=\"url(#clip412)\" cx=\"1460.2\" cy=\"534.985\" r=\"14.4\" fill=\"#009af9\" fill-rule=\"evenodd\" fill-opacity=\"1\" stroke=\"#000000\" stroke-opacity=\"1\" stroke-width=\"3.2\"/>\n",
       "<circle clip-path=\"url(#clip412)\" cx=\"828.385\" cy=\"657.992\" r=\"14.4\" fill=\"#009af9\" fill-rule=\"evenodd\" fill-opacity=\"1\" stroke=\"#000000\" stroke-opacity=\"1\" stroke-width=\"3.2\"/>\n",
       "<circle clip-path=\"url(#clip412)\" cx=\"1665.6\" cy=\"527.818\" r=\"14.4\" fill=\"#009af9\" fill-rule=\"evenodd\" fill-opacity=\"1\" stroke=\"#000000\" stroke-opacity=\"1\" stroke-width=\"3.2\"/>\n",
       "<circle clip-path=\"url(#clip412)\" cx=\"1763.23\" cy=\"590.877\" r=\"14.4\" fill=\"#009af9\" fill-rule=\"evenodd\" fill-opacity=\"1\" stroke=\"#000000\" stroke-opacity=\"1\" stroke-width=\"3.2\"/>\n",
       "<circle clip-path=\"url(#clip412)\" cx=\"1358.52\" cy=\"486.105\" r=\"14.4\" fill=\"#009af9\" fill-rule=\"evenodd\" fill-opacity=\"1\" stroke=\"#000000\" stroke-opacity=\"1\" stroke-width=\"3.2\"/>\n",
       "<circle clip-path=\"url(#clip412)\" cx=\"1500.17\" cy=\"650.639\" r=\"14.4\" fill=\"#009af9\" fill-rule=\"evenodd\" fill-opacity=\"1\" stroke=\"#000000\" stroke-opacity=\"1\" stroke-width=\"3.2\"/>\n",
       "<circle clip-path=\"url(#clip412)\" cx=\"1331.8\" cy=\"441.514\" r=\"14.4\" fill=\"#009af9\" fill-rule=\"evenodd\" fill-opacity=\"1\" stroke=\"#000000\" stroke-opacity=\"1\" stroke-width=\"3.2\"/>\n",
       "<circle clip-path=\"url(#clip412)\" cx=\"1361.21\" cy=\"712.802\" r=\"14.4\" fill=\"#009af9\" fill-rule=\"evenodd\" fill-opacity=\"1\" stroke=\"#000000\" stroke-opacity=\"1\" stroke-width=\"3.2\"/>\n",
       "<circle clip-path=\"url(#clip412)\" cx=\"1588.05\" cy=\"634.847\" r=\"14.4\" fill=\"#009af9\" fill-rule=\"evenodd\" fill-opacity=\"1\" stroke=\"#000000\" stroke-opacity=\"1\" stroke-width=\"3.2\"/>\n",
       "<circle clip-path=\"url(#clip412)\" cx=\"1471.76\" cy=\"473.316\" r=\"14.4\" fill=\"#009af9\" fill-rule=\"evenodd\" fill-opacity=\"1\" stroke=\"#000000\" stroke-opacity=\"1\" stroke-width=\"3.2\"/>\n",
       "<circle clip-path=\"url(#clip412)\" cx=\"1003.68\" cy=\"1041.61\" r=\"14.4\" fill=\"#009af9\" fill-rule=\"evenodd\" fill-opacity=\"1\" stroke=\"#000000\" stroke-opacity=\"1\" stroke-width=\"3.2\"/>\n",
       "<circle clip-path=\"url(#clip412)\" cx=\"1335.92\" cy=\"963.826\" r=\"14.4\" fill=\"#009af9\" fill-rule=\"evenodd\" fill-opacity=\"1\" stroke=\"#000000\" stroke-opacity=\"1\" stroke-width=\"3.2\"/>\n",
       "<circle clip-path=\"url(#clip412)\" cx=\"1984.44\" cy=\"678.139\" r=\"14.4\" fill=\"#009af9\" fill-rule=\"evenodd\" fill-opacity=\"1\" stroke=\"#000000\" stroke-opacity=\"1\" stroke-width=\"3.2\"/>\n",
       "<circle clip-path=\"url(#clip412)\" cx=\"1414.3\" cy=\"710.228\" r=\"14.4\" fill=\"#009af9\" fill-rule=\"evenodd\" fill-opacity=\"1\" stroke=\"#000000\" stroke-opacity=\"1\" stroke-width=\"3.2\"/>\n",
       "<circle clip-path=\"url(#clip412)\" cx=\"1278.52\" cy=\"895.743\" r=\"14.4\" fill=\"#009af9\" fill-rule=\"evenodd\" fill-opacity=\"1\" stroke=\"#000000\" stroke-opacity=\"1\" stroke-width=\"3.2\"/>\n",
       "<circle clip-path=\"url(#clip412)\" cx=\"1564.35\" cy=\"865.565\" r=\"14.4\" fill=\"#009af9\" fill-rule=\"evenodd\" fill-opacity=\"1\" stroke=\"#000000\" stroke-opacity=\"1\" stroke-width=\"3.2\"/>\n",
       "<circle clip-path=\"url(#clip412)\" cx=\"1628.99\" cy=\"794.547\" r=\"14.4\" fill=\"#009af9\" fill-rule=\"evenodd\" fill-opacity=\"1\" stroke=\"#000000\" stroke-opacity=\"1\" stroke-width=\"3.2\"/>\n",
       "<circle clip-path=\"url(#clip412)\" cx=\"1643.67\" cy=\"781.132\" r=\"14.4\" fill=\"#009af9\" fill-rule=\"evenodd\" fill-opacity=\"1\" stroke=\"#000000\" stroke-opacity=\"1\" stroke-width=\"3.2\"/>\n",
       "<circle clip-path=\"url(#clip412)\" cx=\"1229.16\" cy=\"690.582\" r=\"14.4\" fill=\"#009af9\" fill-rule=\"evenodd\" fill-opacity=\"1\" stroke=\"#000000\" stroke-opacity=\"1\" stroke-width=\"3.2\"/>\n",
       "<circle clip-path=\"url(#clip412)\" cx=\"1416.66\" cy=\"740.976\" r=\"14.4\" fill=\"#009af9\" fill-rule=\"evenodd\" fill-opacity=\"1\" stroke=\"#000000\" stroke-opacity=\"1\" stroke-width=\"3.2\"/>\n",
       "<circle clip-path=\"url(#clip412)\" cx=\"1044.58\" cy=\"710.091\" r=\"14.4\" fill=\"#009af9\" fill-rule=\"evenodd\" fill-opacity=\"1\" stroke=\"#000000\" stroke-opacity=\"1\" stroke-width=\"3.2\"/>\n",
       "<circle clip-path=\"url(#clip412)\" cx=\"1776.27\" cy=\"467.656\" r=\"14.4\" fill=\"#009af9\" fill-rule=\"evenodd\" fill-opacity=\"1\" stroke=\"#000000\" stroke-opacity=\"1\" stroke-width=\"3.2\"/>\n",
       "<circle clip-path=\"url(#clip412)\" cx=\"1380.53\" cy=\"519.356\" r=\"14.4\" fill=\"#009af9\" fill-rule=\"evenodd\" fill-opacity=\"1\" stroke=\"#000000\" stroke-opacity=\"1\" stroke-width=\"3.2\"/>\n",
       "<circle clip-path=\"url(#clip412)\" cx=\"1621.71\" cy=\"427.079\" r=\"14.4\" fill=\"#009af9\" fill-rule=\"evenodd\" fill-opacity=\"1\" stroke=\"#000000\" stroke-opacity=\"1\" stroke-width=\"3.2\"/>\n",
       "<circle clip-path=\"url(#clip412)\" cx=\"1742.35\" cy=\"899.067\" r=\"14.4\" fill=\"#009af9\" fill-rule=\"evenodd\" fill-opacity=\"1\" stroke=\"#000000\" stroke-opacity=\"1\" stroke-width=\"3.2\"/>\n",
       "<circle clip-path=\"url(#clip412)\" cx=\"1761.98\" cy=\"566.321\" r=\"14.4\" fill=\"#009af9\" fill-rule=\"evenodd\" fill-opacity=\"1\" stroke=\"#000000\" stroke-opacity=\"1\" stroke-width=\"3.2\"/>\n",
       "<circle clip-path=\"url(#clip412)\" cx=\"999.942\" cy=\"833.386\" r=\"14.4\" fill=\"#009af9\" fill-rule=\"evenodd\" fill-opacity=\"1\" stroke=\"#000000\" stroke-opacity=\"1\" stroke-width=\"3.2\"/>\n",
       "<circle clip-path=\"url(#clip412)\" cx=\"777.178\" cy=\"968.975\" r=\"14.4\" fill=\"#009af9\" fill-rule=\"evenodd\" fill-opacity=\"1\" stroke=\"#000000\" stroke-opacity=\"1\" stroke-width=\"3.2\"/>\n",
       "<circle clip-path=\"url(#clip412)\" cx=\"1818.32\" cy=\"539.279\" r=\"14.4\" fill=\"#009af9\" fill-rule=\"evenodd\" fill-opacity=\"1\" stroke=\"#000000\" stroke-opacity=\"1\" stroke-width=\"3.2\"/>\n",
       "<circle clip-path=\"url(#clip412)\" cx=\"1164.68\" cy=\"894.078\" r=\"14.4\" fill=\"#009af9\" fill-rule=\"evenodd\" fill-opacity=\"1\" stroke=\"#000000\" stroke-opacity=\"1\" stroke-width=\"3.2\"/>\n",
       "<circle clip-path=\"url(#clip412)\" cx=\"1728.16\" cy=\"505.864\" r=\"14.4\" fill=\"#009af9\" fill-rule=\"evenodd\" fill-opacity=\"1\" stroke=\"#000000\" stroke-opacity=\"1\" stroke-width=\"3.2\"/>\n",
       "<circle clip-path=\"url(#clip412)\" cx=\"1421\" cy=\"632.682\" r=\"14.4\" fill=\"#009af9\" fill-rule=\"evenodd\" fill-opacity=\"1\" stroke=\"#000000\" stroke-opacity=\"1\" stroke-width=\"3.2\"/>\n",
       "<circle clip-path=\"url(#clip412)\" cx=\"1560.31\" cy=\"451.57\" r=\"14.4\" fill=\"#009af9\" fill-rule=\"evenodd\" fill-opacity=\"1\" stroke=\"#000000\" stroke-opacity=\"1\" stroke-width=\"3.2\"/>\n",
       "<circle clip-path=\"url(#clip412)\" cx=\"1075.77\" cy=\"880.995\" r=\"14.4\" fill=\"#009af9\" fill-rule=\"evenodd\" fill-opacity=\"1\" stroke=\"#000000\" stroke-opacity=\"1\" stroke-width=\"3.2\"/>\n",
       "<circle clip-path=\"url(#clip412)\" cx=\"1754.58\" cy=\"449.868\" r=\"14.4\" fill=\"#009af9\" fill-rule=\"evenodd\" fill-opacity=\"1\" stroke=\"#000000\" stroke-opacity=\"1\" stroke-width=\"3.2\"/>\n",
       "<circle clip-path=\"url(#clip412)\" cx=\"1682.13\" cy=\"527.135\" r=\"14.4\" fill=\"#009af9\" fill-rule=\"evenodd\" fill-opacity=\"1\" stroke=\"#000000\" stroke-opacity=\"1\" stroke-width=\"3.2\"/>\n",
       "<circle clip-path=\"url(#clip412)\" cx=\"1415.28\" cy=\"626.89\" r=\"14.4\" fill=\"#009af9\" fill-rule=\"evenodd\" fill-opacity=\"1\" stroke=\"#000000\" stroke-opacity=\"1\" stroke-width=\"3.2\"/>\n",
       "<circle clip-path=\"url(#clip412)\" cx=\"1221.02\" cy=\"510.843\" r=\"14.4\" fill=\"#009af9\" fill-rule=\"evenodd\" fill-opacity=\"1\" stroke=\"#000000\" stroke-opacity=\"1\" stroke-width=\"3.2\"/>\n",
       "<circle clip-path=\"url(#clip412)\" cx=\"1429.61\" cy=\"703.99\" r=\"14.4\" fill=\"#009af9\" fill-rule=\"evenodd\" fill-opacity=\"1\" stroke=\"#000000\" stroke-opacity=\"1\" stroke-width=\"3.2\"/>\n",
       "<circle clip-path=\"url(#clip412)\" cx=\"1416.44\" cy=\"383.643\" r=\"14.4\" fill=\"#009af9\" fill-rule=\"evenodd\" fill-opacity=\"1\" stroke=\"#000000\" stroke-opacity=\"1\" stroke-width=\"3.2\"/>\n",
       "<circle clip-path=\"url(#clip412)\" cx=\"1201.56\" cy=\"822.258\" r=\"14.4\" fill=\"#009af9\" fill-rule=\"evenodd\" fill-opacity=\"1\" stroke=\"#000000\" stroke-opacity=\"1\" stroke-width=\"3.2\"/>\n",
       "<circle clip-path=\"url(#clip412)\" cx=\"1242.5\" cy=\"717.639\" r=\"14.4\" fill=\"#009af9\" fill-rule=\"evenodd\" fill-opacity=\"1\" stroke=\"#000000\" stroke-opacity=\"1\" stroke-width=\"3.2\"/>\n",
       "<circle clip-path=\"url(#clip412)\" cx=\"1838.36\" cy=\"473.889\" r=\"14.4\" fill=\"#009af9\" fill-rule=\"evenodd\" fill-opacity=\"1\" stroke=\"#000000\" stroke-opacity=\"1\" stroke-width=\"3.2\"/>\n",
       "<circle clip-path=\"url(#clip412)\" cx=\"1286.35\" cy=\"507.037\" r=\"14.4\" fill=\"#009af9\" fill-rule=\"evenodd\" fill-opacity=\"1\" stroke=\"#000000\" stroke-opacity=\"1\" stroke-width=\"3.2\"/>\n",
       "<circle clip-path=\"url(#clip412)\" cx=\"1175.88\" cy=\"781.689\" r=\"14.4\" fill=\"#009af9\" fill-rule=\"evenodd\" fill-opacity=\"1\" stroke=\"#000000\" stroke-opacity=\"1\" stroke-width=\"3.2\"/>\n",
       "<circle clip-path=\"url(#clip412)\" cx=\"1729.32\" cy=\"743.738\" r=\"14.4\" fill=\"#009af9\" fill-rule=\"evenodd\" fill-opacity=\"1\" stroke=\"#000000\" stroke-opacity=\"1\" stroke-width=\"3.2\"/>\n",
       "<circle clip-path=\"url(#clip412)\" cx=\"1846.1\" cy=\"759.306\" r=\"14.4\" fill=\"#009af9\" fill-rule=\"evenodd\" fill-opacity=\"1\" stroke=\"#000000\" stroke-opacity=\"1\" stroke-width=\"3.2\"/>\n",
       "<circle clip-path=\"url(#clip412)\" cx=\"941.977\" cy=\"943.666\" r=\"14.4\" fill=\"#009af9\" fill-rule=\"evenodd\" fill-opacity=\"1\" stroke=\"#000000\" stroke-opacity=\"1\" stroke-width=\"3.2\"/>\n",
       "<circle clip-path=\"url(#clip412)\" cx=\"1182.86\" cy=\"708.07\" r=\"14.4\" fill=\"#009af9\" fill-rule=\"evenodd\" fill-opacity=\"1\" stroke=\"#000000\" stroke-opacity=\"1\" stroke-width=\"3.2\"/>\n",
       "<circle clip-path=\"url(#clip412)\" cx=\"1225.43\" cy=\"835.039\" r=\"14.4\" fill=\"#009af9\" fill-rule=\"evenodd\" fill-opacity=\"1\" stroke=\"#000000\" stroke-opacity=\"1\" stroke-width=\"3.2\"/>\n",
       "<circle clip-path=\"url(#clip412)\" cx=\"1275.47\" cy=\"493.892\" r=\"14.4\" fill=\"#009af9\" fill-rule=\"evenodd\" fill-opacity=\"1\" stroke=\"#000000\" stroke-opacity=\"1\" stroke-width=\"3.2\"/>\n",
       "<circle clip-path=\"url(#clip412)\" cx=\"1136.39\" cy=\"856.028\" r=\"14.4\" fill=\"#009af9\" fill-rule=\"evenodd\" fill-opacity=\"1\" stroke=\"#000000\" stroke-opacity=\"1\" stroke-width=\"3.2\"/>\n",
       "<circle clip-path=\"url(#clip412)\" cx=\"579.722\" cy=\"1020.57\" r=\"14.4\" fill=\"#009af9\" fill-rule=\"evenodd\" fill-opacity=\"1\" stroke=\"#000000\" stroke-opacity=\"1\" stroke-width=\"3.2\"/>\n",
       "<circle clip-path=\"url(#clip412)\" cx=\"1530.75\" cy=\"452.793\" r=\"14.4\" fill=\"#009af9\" fill-rule=\"evenodd\" fill-opacity=\"1\" stroke=\"#000000\" stroke-opacity=\"1\" stroke-width=\"3.2\"/>\n",
       "<circle clip-path=\"url(#clip412)\" cx=\"1512.01\" cy=\"513.255\" r=\"14.4\" fill=\"#009af9\" fill-rule=\"evenodd\" fill-opacity=\"1\" stroke=\"#000000\" stroke-opacity=\"1\" stroke-width=\"3.2\"/>\n",
       "<circle clip-path=\"url(#clip412)\" cx=\"1710.92\" cy=\"477.361\" r=\"14.4\" fill=\"#009af9\" fill-rule=\"evenodd\" fill-opacity=\"1\" stroke=\"#000000\" stroke-opacity=\"1\" stroke-width=\"3.2\"/>\n",
       "<circle clip-path=\"url(#clip412)\" cx=\"1847.06\" cy=\"519.292\" r=\"14.4\" fill=\"#009af9\" fill-rule=\"evenodd\" fill-opacity=\"1\" stroke=\"#000000\" stroke-opacity=\"1\" stroke-width=\"3.2\"/>\n",
       "<circle clip-path=\"url(#clip412)\" cx=\"1332.95\" cy=\"574.866\" r=\"14.4\" fill=\"#009af9\" fill-rule=\"evenodd\" fill-opacity=\"1\" stroke=\"#000000\" stroke-opacity=\"1\" stroke-width=\"3.2\"/>\n",
       "<circle clip-path=\"url(#clip412)\" cx=\"1780.53\" cy=\"439.263\" r=\"14.4\" fill=\"#009af9\" fill-rule=\"evenodd\" fill-opacity=\"1\" stroke=\"#000000\" stroke-opacity=\"1\" stroke-width=\"3.2\"/>\n",
       "<circle clip-path=\"url(#clip412)\" cx=\"1348.06\" cy=\"302.812\" r=\"14.4\" fill=\"#009af9\" fill-rule=\"evenodd\" fill-opacity=\"1\" stroke=\"#000000\" stroke-opacity=\"1\" stroke-width=\"3.2\"/>\n",
       "<circle clip-path=\"url(#clip412)\" cx=\"2174.62\" cy=\"606.968\" r=\"14.4\" fill=\"#009af9\" fill-rule=\"evenodd\" fill-opacity=\"1\" stroke=\"#000000\" stroke-opacity=\"1\" stroke-width=\"3.2\"/>\n",
       "<circle clip-path=\"url(#clip412)\" cx=\"891.959\" cy=\"780.838\" r=\"14.4\" fill=\"#009af9\" fill-rule=\"evenodd\" fill-opacity=\"1\" stroke=\"#000000\" stroke-opacity=\"1\" stroke-width=\"3.2\"/>\n",
       "<circle clip-path=\"url(#clip412)\" cx=\"1567.99\" cy=\"495.168\" r=\"14.4\" fill=\"#009af9\" fill-rule=\"evenodd\" fill-opacity=\"1\" stroke=\"#000000\" stroke-opacity=\"1\" stroke-width=\"3.2\"/>\n",
       "<circle clip-path=\"url(#clip412)\" cx=\"963.303\" cy=\"827.121\" r=\"14.4\" fill=\"#009af9\" fill-rule=\"evenodd\" fill-opacity=\"1\" stroke=\"#000000\" stroke-opacity=\"1\" stroke-width=\"3.2\"/>\n",
       "<circle clip-path=\"url(#clip412)\" cx=\"1056.86\" cy=\"822.883\" r=\"14.4\" fill=\"#009af9\" fill-rule=\"evenodd\" fill-opacity=\"1\" stroke=\"#000000\" stroke-opacity=\"1\" stroke-width=\"3.2\"/>\n",
       "<circle clip-path=\"url(#clip412)\" cx=\"1472.9\" cy=\"641.382\" r=\"14.4\" fill=\"#009af9\" fill-rule=\"evenodd\" fill-opacity=\"1\" stroke=\"#000000\" stroke-opacity=\"1\" stroke-width=\"3.2\"/>\n",
       "<circle clip-path=\"url(#clip412)\" cx=\"735.815\" cy=\"822.545\" r=\"14.4\" fill=\"#009af9\" fill-rule=\"evenodd\" fill-opacity=\"1\" stroke=\"#000000\" stroke-opacity=\"1\" stroke-width=\"3.2\"/>\n",
       "<circle clip-path=\"url(#clip412)\" cx=\"983.532\" cy=\"922.883\" r=\"14.4\" fill=\"#009af9\" fill-rule=\"evenodd\" fill-opacity=\"1\" stroke=\"#000000\" stroke-opacity=\"1\" stroke-width=\"3.2\"/>\n",
       "<circle clip-path=\"url(#clip412)\" cx=\"1466.49\" cy=\"746.47\" r=\"14.4\" fill=\"#009af9\" fill-rule=\"evenodd\" fill-opacity=\"1\" stroke=\"#000000\" stroke-opacity=\"1\" stroke-width=\"3.2\"/>\n",
       "<circle clip-path=\"url(#clip412)\" cx=\"1065.86\" cy=\"613.609\" r=\"14.4\" fill=\"#009af9\" fill-rule=\"evenodd\" fill-opacity=\"1\" stroke=\"#000000\" stroke-opacity=\"1\" stroke-width=\"3.2\"/>\n",
       "<circle clip-path=\"url(#clip412)\" cx=\"1561.24\" cy=\"376.167\" r=\"14.4\" fill=\"#009af9\" fill-rule=\"evenodd\" fill-opacity=\"1\" stroke=\"#000000\" stroke-opacity=\"1\" stroke-width=\"3.2\"/>\n",
       "<circle clip-path=\"url(#clip412)\" cx=\"1125.62\" cy=\"669.617\" r=\"14.4\" fill=\"#009af9\" fill-rule=\"evenodd\" fill-opacity=\"1\" stroke=\"#000000\" stroke-opacity=\"1\" stroke-width=\"3.2\"/>\n",
       "<circle clip-path=\"url(#clip412)\" cx=\"1626.98\" cy=\"603.885\" r=\"14.4\" fill=\"#009af9\" fill-rule=\"evenodd\" fill-opacity=\"1\" stroke=\"#000000\" stroke-opacity=\"1\" stroke-width=\"3.2\"/>\n",
       "<circle clip-path=\"url(#clip412)\" cx=\"1481.5\" cy=\"705.927\" r=\"14.4\" fill=\"#009af9\" fill-rule=\"evenodd\" fill-opacity=\"1\" stroke=\"#000000\" stroke-opacity=\"1\" stroke-width=\"3.2\"/>\n",
       "<circle clip-path=\"url(#clip412)\" cx=\"1276.62\" cy=\"723.351\" r=\"14.4\" fill=\"#009af9\" fill-rule=\"evenodd\" fill-opacity=\"1\" stroke=\"#000000\" stroke-opacity=\"1\" stroke-width=\"3.2\"/>\n",
       "<circle clip-path=\"url(#clip412)\" cx=\"1349.5\" cy=\"678.166\" r=\"14.4\" fill=\"#009af9\" fill-rule=\"evenodd\" fill-opacity=\"1\" stroke=\"#000000\" stroke-opacity=\"1\" stroke-width=\"3.2\"/>\n",
       "<circle clip-path=\"url(#clip412)\" cx=\"660.055\" cy=\"1126.89\" r=\"14.4\" fill=\"#009af9\" fill-rule=\"evenodd\" fill-opacity=\"1\" stroke=\"#000000\" stroke-opacity=\"1\" stroke-width=\"3.2\"/>\n",
       "<circle clip-path=\"url(#clip412)\" cx=\"1584.58\" cy=\"596.962\" r=\"14.4\" fill=\"#009af9\" fill-rule=\"evenodd\" fill-opacity=\"1\" stroke=\"#000000\" stroke-opacity=\"1\" stroke-width=\"3.2\"/>\n",
       "<circle clip-path=\"url(#clip412)\" cx=\"1373.46\" cy=\"661.218\" r=\"14.4\" fill=\"#009af9\" fill-rule=\"evenodd\" fill-opacity=\"1\" stroke=\"#000000\" stroke-opacity=\"1\" stroke-width=\"3.2\"/>\n",
       "<circle clip-path=\"url(#clip412)\" cx=\"830.083\" cy=\"1007.86\" r=\"14.4\" fill=\"#009af9\" fill-rule=\"evenodd\" fill-opacity=\"1\" stroke=\"#000000\" stroke-opacity=\"1\" stroke-width=\"3.2\"/>\n",
       "<circle clip-path=\"url(#clip412)\" cx=\"1393.78\" cy=\"616.856\" r=\"14.4\" fill=\"#009af9\" fill-rule=\"evenodd\" fill-opacity=\"1\" stroke=\"#000000\" stroke-opacity=\"1\" stroke-width=\"3.2\"/>\n",
       "<circle clip-path=\"url(#clip412)\" cx=\"857.993\" cy=\"738.337\" r=\"14.4\" fill=\"#009af9\" fill-rule=\"evenodd\" fill-opacity=\"1\" stroke=\"#000000\" stroke-opacity=\"1\" stroke-width=\"3.2\"/>\n",
       "<circle clip-path=\"url(#clip412)\" cx=\"1002.61\" cy=\"620.826\" r=\"14.4\" fill=\"#009af9\" fill-rule=\"evenodd\" fill-opacity=\"1\" stroke=\"#000000\" stroke-opacity=\"1\" stroke-width=\"3.2\"/>\n",
       "<circle clip-path=\"url(#clip412)\" cx=\"811.444\" cy=\"800.414\" r=\"14.4\" fill=\"#009af9\" fill-rule=\"evenodd\" fill-opacity=\"1\" stroke=\"#000000\" stroke-opacity=\"1\" stroke-width=\"3.2\"/>\n",
       "<circle clip-path=\"url(#clip412)\" cx=\"1458.5\" cy=\"802.95\" r=\"14.4\" fill=\"#009af9\" fill-rule=\"evenodd\" fill-opacity=\"1\" stroke=\"#000000\" stroke-opacity=\"1\" stroke-width=\"3.2\"/>\n",
       "<circle clip-path=\"url(#clip412)\" cx=\"1355.55\" cy=\"922.384\" r=\"14.4\" fill=\"#009af9\" fill-rule=\"evenodd\" fill-opacity=\"1\" stroke=\"#000000\" stroke-opacity=\"1\" stroke-width=\"3.2\"/>\n",
       "<circle clip-path=\"url(#clip412)\" cx=\"846.033\" cy=\"679.937\" r=\"14.4\" fill=\"#009af9\" fill-rule=\"evenodd\" fill-opacity=\"1\" stroke=\"#000000\" stroke-opacity=\"1\" stroke-width=\"3.2\"/>\n",
       "<circle clip-path=\"url(#clip412)\" cx=\"1825.63\" cy=\"792.781\" r=\"14.4\" fill=\"#009af9\" fill-rule=\"evenodd\" fill-opacity=\"1\" stroke=\"#000000\" stroke-opacity=\"1\" stroke-width=\"3.2\"/>\n",
       "<circle clip-path=\"url(#clip412)\" cx=\"1217.54\" cy=\"475.835\" r=\"14.4\" fill=\"#009af9\" fill-rule=\"evenodd\" fill-opacity=\"1\" stroke=\"#000000\" stroke-opacity=\"1\" stroke-width=\"3.2\"/>\n",
       "<circle clip-path=\"url(#clip412)\" cx=\"1172.16\" cy=\"542.668\" r=\"14.4\" fill=\"#009af9\" fill-rule=\"evenodd\" fill-opacity=\"1\" stroke=\"#000000\" stroke-opacity=\"1\" stroke-width=\"3.2\"/>\n",
       "<circle clip-path=\"url(#clip412)\" cx=\"1684.46\" cy=\"555.042\" r=\"14.4\" fill=\"#009af9\" fill-rule=\"evenodd\" fill-opacity=\"1\" stroke=\"#000000\" stroke-opacity=\"1\" stroke-width=\"3.2\"/>\n",
       "<circle clip-path=\"url(#clip412)\" cx=\"1181.2\" cy=\"819.865\" r=\"14.4\" fill=\"#009af9\" fill-rule=\"evenodd\" fill-opacity=\"1\" stroke=\"#000000\" stroke-opacity=\"1\" stroke-width=\"3.2\"/>\n",
       "<circle clip-path=\"url(#clip412)\" cx=\"1307.26\" cy=\"654.126\" r=\"14.4\" fill=\"#009af9\" fill-rule=\"evenodd\" fill-opacity=\"1\" stroke=\"#000000\" stroke-opacity=\"1\" stroke-width=\"3.2\"/>\n",
       "<circle clip-path=\"url(#clip412)\" cx=\"808.881\" cy=\"1046.71\" r=\"14.4\" fill=\"#009af9\" fill-rule=\"evenodd\" fill-opacity=\"1\" stroke=\"#000000\" stroke-opacity=\"1\" stroke-width=\"3.2\"/>\n",
       "<circle clip-path=\"url(#clip412)\" cx=\"772.534\" cy=\"957.634\" r=\"14.4\" fill=\"#009af9\" fill-rule=\"evenodd\" fill-opacity=\"1\" stroke=\"#000000\" stroke-opacity=\"1\" stroke-width=\"3.2\"/>\n",
       "<circle clip-path=\"url(#clip412)\" cx=\"557.71\" cy=\"974.112\" r=\"14.4\" fill=\"#009af9\" fill-rule=\"evenodd\" fill-opacity=\"1\" stroke=\"#000000\" stroke-opacity=\"1\" stroke-width=\"3.2\"/>\n",
       "<circle clip-path=\"url(#clip412)\" cx=\"1282.67\" cy=\"635.146\" r=\"14.4\" fill=\"#009af9\" fill-rule=\"evenodd\" fill-opacity=\"1\" stroke=\"#000000\" stroke-opacity=\"1\" stroke-width=\"3.2\"/>\n",
       "<circle clip-path=\"url(#clip412)\" cx=\"1002.26\" cy=\"799.713\" r=\"14.4\" fill=\"#009af9\" fill-rule=\"evenodd\" fill-opacity=\"1\" stroke=\"#000000\" stroke-opacity=\"1\" stroke-width=\"3.2\"/>\n",
       "<circle clip-path=\"url(#clip412)\" cx=\"957.034\" cy=\"864.879\" r=\"14.4\" fill=\"#009af9\" fill-rule=\"evenodd\" fill-opacity=\"1\" stroke=\"#000000\" stroke-opacity=\"1\" stroke-width=\"3.2\"/>\n",
       "<circle clip-path=\"url(#clip412)\" cx=\"757.604\" cy=\"748.781\" r=\"14.4\" fill=\"#009af9\" fill-rule=\"evenodd\" fill-opacity=\"1\" stroke=\"#000000\" stroke-opacity=\"1\" stroke-width=\"3.2\"/>\n",
       "<circle clip-path=\"url(#clip412)\" cx=\"1296.57\" cy=\"450.847\" r=\"14.4\" fill=\"#009af9\" fill-rule=\"evenodd\" fill-opacity=\"1\" stroke=\"#000000\" stroke-opacity=\"1\" stroke-width=\"3.2\"/>\n",
       "<circle clip-path=\"url(#clip412)\" cx=\"1505.11\" cy=\"845.911\" r=\"14.4\" fill=\"#009af9\" fill-rule=\"evenodd\" fill-opacity=\"1\" stroke=\"#000000\" stroke-opacity=\"1\" stroke-width=\"3.2\"/>\n",
       "<circle clip-path=\"url(#clip412)\" cx=\"683.619\" cy=\"955.389\" r=\"14.4\" fill=\"#009af9\" fill-rule=\"evenodd\" fill-opacity=\"1\" stroke=\"#000000\" stroke-opacity=\"1\" stroke-width=\"3.2\"/>\n",
       "<circle clip-path=\"url(#clip412)\" cx=\"1115.85\" cy=\"845.106\" r=\"14.4\" fill=\"#009af9\" fill-rule=\"evenodd\" fill-opacity=\"1\" stroke=\"#000000\" stroke-opacity=\"1\" stroke-width=\"3.2\"/>\n",
       "<circle clip-path=\"url(#clip412)\" cx=\"1257.45\" cy=\"874.016\" r=\"14.4\" fill=\"#009af9\" fill-rule=\"evenodd\" fill-opacity=\"1\" stroke=\"#000000\" stroke-opacity=\"1\" stroke-width=\"3.2\"/>\n",
       "<circle clip-path=\"url(#clip412)\" cx=\"1177.94\" cy=\"836.041\" r=\"14.4\" fill=\"#009af9\" fill-rule=\"evenodd\" fill-opacity=\"1\" stroke=\"#000000\" stroke-opacity=\"1\" stroke-width=\"3.2\"/>\n",
       "<circle clip-path=\"url(#clip412)\" cx=\"1042.79\" cy=\"748.405\" r=\"14.4\" fill=\"#009af9\" fill-rule=\"evenodd\" fill-opacity=\"1\" stroke=\"#000000\" stroke-opacity=\"1\" stroke-width=\"3.2\"/>\n",
       "<circle clip-path=\"url(#clip412)\" cx=\"480.787\" cy=\"959.437\" r=\"14.4\" fill=\"#009af9\" fill-rule=\"evenodd\" fill-opacity=\"1\" stroke=\"#000000\" stroke-opacity=\"1\" stroke-width=\"3.2\"/>\n",
       "<circle clip-path=\"url(#clip412)\" cx=\"1670.23\" cy=\"459.524\" r=\"14.4\" fill=\"#009af9\" fill-rule=\"evenodd\" fill-opacity=\"1\" stroke=\"#000000\" stroke-opacity=\"1\" stroke-width=\"3.2\"/>\n",
       "<circle clip-path=\"url(#clip412)\" cx=\"982.288\" cy=\"678.782\" r=\"14.4\" fill=\"#009af9\" fill-rule=\"evenodd\" fill-opacity=\"1\" stroke=\"#000000\" stroke-opacity=\"1\" stroke-width=\"3.2\"/>\n",
       "<circle clip-path=\"url(#clip412)\" cx=\"1704.89\" cy=\"444.22\" r=\"14.4\" fill=\"#009af9\" fill-rule=\"evenodd\" fill-opacity=\"1\" stroke=\"#000000\" stroke-opacity=\"1\" stroke-width=\"3.2\"/>\n",
       "<circle clip-path=\"url(#clip412)\" cx=\"874.45\" cy=\"975.201\" r=\"14.4\" fill=\"#009af9\" fill-rule=\"evenodd\" fill-opacity=\"1\" stroke=\"#000000\" stroke-opacity=\"1\" stroke-width=\"3.2\"/>\n",
       "<circle clip-path=\"url(#clip412)\" cx=\"1116.54\" cy=\"698.003\" r=\"14.4\" fill=\"#009af9\" fill-rule=\"evenodd\" fill-opacity=\"1\" stroke=\"#000000\" stroke-opacity=\"1\" stroke-width=\"3.2\"/>\n",
       "<circle clip-path=\"url(#clip412)\" cx=\"1512.09\" cy=\"653.976\" r=\"14.4\" fill=\"#009af9\" fill-rule=\"evenodd\" fill-opacity=\"1\" stroke=\"#000000\" stroke-opacity=\"1\" stroke-width=\"3.2\"/>\n",
       "<circle clip-path=\"url(#clip412)\" cx=\"874.414\" cy=\"712.319\" r=\"14.4\" fill=\"#009af9\" fill-rule=\"evenodd\" fill-opacity=\"1\" stroke=\"#000000\" stroke-opacity=\"1\" stroke-width=\"3.2\"/>\n",
       "<circle clip-path=\"url(#clip412)\" cx=\"1116.69\" cy=\"891.083\" r=\"14.4\" fill=\"#009af9\" fill-rule=\"evenodd\" fill-opacity=\"1\" stroke=\"#000000\" stroke-opacity=\"1\" stroke-width=\"3.2\"/>\n",
       "<circle clip-path=\"url(#clip412)\" cx=\"1321.07\" cy=\"703.526\" r=\"14.4\" fill=\"#009af9\" fill-rule=\"evenodd\" fill-opacity=\"1\" stroke=\"#000000\" stroke-opacity=\"1\" stroke-width=\"3.2\"/>\n",
       "<circle clip-path=\"url(#clip412)\" cx=\"1454.31\" cy=\"658.393\" r=\"14.4\" fill=\"#009af9\" fill-rule=\"evenodd\" fill-opacity=\"1\" stroke=\"#000000\" stroke-opacity=\"1\" stroke-width=\"3.2\"/>\n",
       "<circle clip-path=\"url(#clip412)\" cx=\"1640.3\" cy=\"794.292\" r=\"14.4\" fill=\"#009af9\" fill-rule=\"evenodd\" fill-opacity=\"1\" stroke=\"#000000\" stroke-opacity=\"1\" stroke-width=\"3.2\"/>\n",
       "<circle clip-path=\"url(#clip412)\" cx=\"1662.23\" cy=\"693.614\" r=\"14.4\" fill=\"#009af9\" fill-rule=\"evenodd\" fill-opacity=\"1\" stroke=\"#000000\" stroke-opacity=\"1\" stroke-width=\"3.2\"/>\n",
       "<circle clip-path=\"url(#clip412)\" cx=\"1661.84\" cy=\"656.869\" r=\"14.4\" fill=\"#009af9\" fill-rule=\"evenodd\" fill-opacity=\"1\" stroke=\"#000000\" stroke-opacity=\"1\" stroke-width=\"3.2\"/>\n",
       "<circle clip-path=\"url(#clip412)\" cx=\"915.121\" cy=\"947.209\" r=\"14.4\" fill=\"#009af9\" fill-rule=\"evenodd\" fill-opacity=\"1\" stroke=\"#000000\" stroke-opacity=\"1\" stroke-width=\"3.2\"/>\n",
       "<circle clip-path=\"url(#clip412)\" cx=\"495.827\" cy=\"856.124\" r=\"14.4\" fill=\"#009af9\" fill-rule=\"evenodd\" fill-opacity=\"1\" stroke=\"#000000\" stroke-opacity=\"1\" stroke-width=\"3.2\"/>\n",
       "<circle clip-path=\"url(#clip412)\" cx=\"1226.33\" cy=\"688.858\" r=\"14.4\" fill=\"#009af9\" fill-rule=\"evenodd\" fill-opacity=\"1\" stroke=\"#000000\" stroke-opacity=\"1\" stroke-width=\"3.2\"/>\n",
       "<circle clip-path=\"url(#clip412)\" cx=\"734.336\" cy=\"987.765\" r=\"14.4\" fill=\"#009af9\" fill-rule=\"evenodd\" fill-opacity=\"1\" stroke=\"#000000\" stroke-opacity=\"1\" stroke-width=\"3.2\"/>\n",
       "<circle clip-path=\"url(#clip412)\" cx=\"1444.18\" cy=\"620.835\" r=\"14.4\" fill=\"#009af9\" fill-rule=\"evenodd\" fill-opacity=\"1\" stroke=\"#000000\" stroke-opacity=\"1\" stroke-width=\"3.2\"/>\n",
       "<circle clip-path=\"url(#clip412)\" cx=\"1195.74\" cy=\"866.262\" r=\"14.4\" fill=\"#009af9\" fill-rule=\"evenodd\" fill-opacity=\"1\" stroke=\"#000000\" stroke-opacity=\"1\" stroke-width=\"3.2\"/>\n",
       "<circle clip-path=\"url(#clip412)\" cx=\"1681.13\" cy=\"389.991\" r=\"14.4\" fill=\"#009af9\" fill-rule=\"evenodd\" fill-opacity=\"1\" stroke=\"#000000\" stroke-opacity=\"1\" stroke-width=\"3.2\"/>\n",
       "<circle clip-path=\"url(#clip412)\" cx=\"1481.78\" cy=\"739.066\" r=\"14.4\" fill=\"#009af9\" fill-rule=\"evenodd\" fill-opacity=\"1\" stroke=\"#000000\" stroke-opacity=\"1\" stroke-width=\"3.2\"/>\n",
       "<circle clip-path=\"url(#clip412)\" cx=\"1262.45\" cy=\"628.386\" r=\"14.4\" fill=\"#009af9\" fill-rule=\"evenodd\" fill-opacity=\"1\" stroke=\"#000000\" stroke-opacity=\"1\" stroke-width=\"3.2\"/>\n",
       "<circle clip-path=\"url(#clip412)\" cx=\"1217.29\" cy=\"757.517\" r=\"14.4\" fill=\"#009af9\" fill-rule=\"evenodd\" fill-opacity=\"1\" stroke=\"#000000\" stroke-opacity=\"1\" stroke-width=\"3.2\"/>\n",
       "<circle clip-path=\"url(#clip412)\" cx=\"1498.37\" cy=\"906.01\" r=\"14.4\" fill=\"#009af9\" fill-rule=\"evenodd\" fill-opacity=\"1\" stroke=\"#000000\" stroke-opacity=\"1\" stroke-width=\"3.2\"/>\n",
       "<circle clip-path=\"url(#clip412)\" cx=\"921.803\" cy=\"611.746\" r=\"14.4\" fill=\"#009af9\" fill-rule=\"evenodd\" fill-opacity=\"1\" stroke=\"#000000\" stroke-opacity=\"1\" stroke-width=\"3.2\"/>\n",
       "<circle clip-path=\"url(#clip412)\" cx=\"1078.33\" cy=\"797.386\" r=\"14.4\" fill=\"#009af9\" fill-rule=\"evenodd\" fill-opacity=\"1\" stroke=\"#000000\" stroke-opacity=\"1\" stroke-width=\"3.2\"/>\n",
       "<circle clip-path=\"url(#clip412)\" cx=\"923.545\" cy=\"842.139\" r=\"14.4\" fill=\"#009af9\" fill-rule=\"evenodd\" fill-opacity=\"1\" stroke=\"#000000\" stroke-opacity=\"1\" stroke-width=\"3.2\"/>\n",
       "<circle clip-path=\"url(#clip412)\" cx=\"727.556\" cy=\"1100.4\" r=\"14.4\" fill=\"#009af9\" fill-rule=\"evenodd\" fill-opacity=\"1\" stroke=\"#000000\" stroke-opacity=\"1\" stroke-width=\"3.2\"/>\n",
       "<circle clip-path=\"url(#clip412)\" cx=\"2001.31\" cy=\"423.007\" r=\"14.4\" fill=\"#009af9\" fill-rule=\"evenodd\" fill-opacity=\"1\" stroke=\"#000000\" stroke-opacity=\"1\" stroke-width=\"3.2\"/>\n",
       "<circle clip-path=\"url(#clip412)\" cx=\"1336.93\" cy=\"830.705\" r=\"14.4\" fill=\"#009af9\" fill-rule=\"evenodd\" fill-opacity=\"1\" stroke=\"#000000\" stroke-opacity=\"1\" stroke-width=\"3.2\"/>\n",
       "<circle clip-path=\"url(#clip412)\" cx=\"1432.15\" cy=\"920.303\" r=\"14.4\" fill=\"#009af9\" fill-rule=\"evenodd\" fill-opacity=\"1\" stroke=\"#000000\" stroke-opacity=\"1\" stroke-width=\"3.2\"/>\n",
       "<circle clip-path=\"url(#clip412)\" cx=\"1151.23\" cy=\"713.144\" r=\"14.4\" fill=\"#009af9\" fill-rule=\"evenodd\" fill-opacity=\"1\" stroke=\"#000000\" stroke-opacity=\"1\" stroke-width=\"3.2\"/>\n",
       "<circle clip-path=\"url(#clip412)\" cx=\"1584.2\" cy=\"329.163\" r=\"14.4\" fill=\"#009af9\" fill-rule=\"evenodd\" fill-opacity=\"1\" stroke=\"#000000\" stroke-opacity=\"1\" stroke-width=\"3.2\"/>\n",
       "<circle clip-path=\"url(#clip412)\" cx=\"1873.68\" cy=\"759.513\" r=\"14.4\" fill=\"#009af9\" fill-rule=\"evenodd\" fill-opacity=\"1\" stroke=\"#000000\" stroke-opacity=\"1\" stroke-width=\"3.2\"/>\n",
       "<circle clip-path=\"url(#clip412)\" cx=\"1588.84\" cy=\"610.745\" r=\"14.4\" fill=\"#009af9\" fill-rule=\"evenodd\" fill-opacity=\"1\" stroke=\"#000000\" stroke-opacity=\"1\" stroke-width=\"3.2\"/>\n",
       "<circle clip-path=\"url(#clip412)\" cx=\"1335.06\" cy=\"744.628\" r=\"14.4\" fill=\"#009af9\" fill-rule=\"evenodd\" fill-opacity=\"1\" stroke=\"#000000\" stroke-opacity=\"1\" stroke-width=\"3.2\"/>\n",
       "<circle clip-path=\"url(#clip412)\" cx=\"916.023\" cy=\"848.211\" r=\"14.4\" fill=\"#009af9\" fill-rule=\"evenodd\" fill-opacity=\"1\" stroke=\"#000000\" stroke-opacity=\"1\" stroke-width=\"3.2\"/>\n",
       "<circle clip-path=\"url(#clip412)\" cx=\"1009.39\" cy=\"701.49\" r=\"14.4\" fill=\"#009af9\" fill-rule=\"evenodd\" fill-opacity=\"1\" stroke=\"#000000\" stroke-opacity=\"1\" stroke-width=\"3.2\"/>\n",
       "<circle clip-path=\"url(#clip412)\" cx=\"1042.48\" cy=\"887.061\" r=\"14.4\" fill=\"#009af9\" fill-rule=\"evenodd\" fill-opacity=\"1\" stroke=\"#000000\" stroke-opacity=\"1\" stroke-width=\"3.2\"/>\n",
       "<circle clip-path=\"url(#clip412)\" cx=\"1624.41\" cy=\"649.297\" r=\"14.4\" fill=\"#009af9\" fill-rule=\"evenodd\" fill-opacity=\"1\" stroke=\"#000000\" stroke-opacity=\"1\" stroke-width=\"3.2\"/>\n",
       "<circle clip-path=\"url(#clip412)\" cx=\"1059.92\" cy=\"967.139\" r=\"14.4\" fill=\"#009af9\" fill-rule=\"evenodd\" fill-opacity=\"1\" stroke=\"#000000\" stroke-opacity=\"1\" stroke-width=\"3.2\"/>\n",
       "<circle clip-path=\"url(#clip412)\" cx=\"905.298\" cy=\"790.777\" r=\"14.4\" fill=\"#009af9\" fill-rule=\"evenodd\" fill-opacity=\"1\" stroke=\"#000000\" stroke-opacity=\"1\" stroke-width=\"3.2\"/>\n",
       "<circle clip-path=\"url(#clip412)\" cx=\"537.003\" cy=\"1041.91\" r=\"14.4\" fill=\"#009af9\" fill-rule=\"evenodd\" fill-opacity=\"1\" stroke=\"#000000\" stroke-opacity=\"1\" stroke-width=\"3.2\"/>\n",
       "<circle clip-path=\"url(#clip412)\" cx=\"676.398\" cy=\"1038.3\" r=\"14.4\" fill=\"#009af9\" fill-rule=\"evenodd\" fill-opacity=\"1\" stroke=\"#000000\" stroke-opacity=\"1\" stroke-width=\"3.2\"/>\n",
       "<circle clip-path=\"url(#clip412)\" cx=\"940.719\" cy=\"743.435\" r=\"14.4\" fill=\"#009af9\" fill-rule=\"evenodd\" fill-opacity=\"1\" stroke=\"#000000\" stroke-opacity=\"1\" stroke-width=\"3.2\"/>\n",
       "<circle clip-path=\"url(#clip412)\" cx=\"1063.48\" cy=\"975.698\" r=\"14.4\" fill=\"#009af9\" fill-rule=\"evenodd\" fill-opacity=\"1\" stroke=\"#000000\" stroke-opacity=\"1\" stroke-width=\"3.2\"/>\n",
       "<circle clip-path=\"url(#clip412)\" cx=\"1120.66\" cy=\"654.794\" r=\"14.4\" fill=\"#009af9\" fill-rule=\"evenodd\" fill-opacity=\"1\" stroke=\"#000000\" stroke-opacity=\"1\" stroke-width=\"3.2\"/>\n",
       "<circle clip-path=\"url(#clip412)\" cx=\"1578.34\" cy=\"746.699\" r=\"14.4\" fill=\"#009af9\" fill-rule=\"evenodd\" fill-opacity=\"1\" stroke=\"#000000\" stroke-opacity=\"1\" stroke-width=\"3.2\"/>\n",
       "<circle clip-path=\"url(#clip412)\" cx=\"1555.65\" cy=\"763.638\" r=\"14.4\" fill=\"#009af9\" fill-rule=\"evenodd\" fill-opacity=\"1\" stroke=\"#000000\" stroke-opacity=\"1\" stroke-width=\"3.2\"/>\n",
       "<circle clip-path=\"url(#clip412)\" cx=\"757.862\" cy=\"859.988\" r=\"14.4\" fill=\"#009af9\" fill-rule=\"evenodd\" fill-opacity=\"1\" stroke=\"#000000\" stroke-opacity=\"1\" stroke-width=\"3.2\"/>\n",
       "<circle clip-path=\"url(#clip412)\" cx=\"1149.36\" cy=\"798.909\" r=\"14.4\" fill=\"#009af9\" fill-rule=\"evenodd\" fill-opacity=\"1\" stroke=\"#000000\" stroke-opacity=\"1\" stroke-width=\"3.2\"/>\n",
       "<circle clip-path=\"url(#clip412)\" cx=\"856.315\" cy=\"690.475\" r=\"14.4\" fill=\"#009af9\" fill-rule=\"evenodd\" fill-opacity=\"1\" stroke=\"#000000\" stroke-opacity=\"1\" stroke-width=\"3.2\"/>\n",
       "<circle clip-path=\"url(#clip412)\" cx=\"1335.49\" cy=\"811.969\" r=\"14.4\" fill=\"#009af9\" fill-rule=\"evenodd\" fill-opacity=\"1\" stroke=\"#000000\" stroke-opacity=\"1\" stroke-width=\"3.2\"/>\n",
       "<circle clip-path=\"url(#clip412)\" cx=\"1393.69\" cy=\"678.815\" r=\"14.4\" fill=\"#009af9\" fill-rule=\"evenodd\" fill-opacity=\"1\" stroke=\"#000000\" stroke-opacity=\"1\" stroke-width=\"3.2\"/>\n",
       "<circle clip-path=\"url(#clip412)\" cx=\"419.89\" cy=\"924.592\" r=\"14.4\" fill=\"#009af9\" fill-rule=\"evenodd\" fill-opacity=\"1\" stroke=\"#000000\" stroke-opacity=\"1\" stroke-width=\"3.2\"/>\n",
       "<circle clip-path=\"url(#clip412)\" cx=\"1638.59\" cy=\"530.41\" r=\"14.4\" fill=\"#009af9\" fill-rule=\"evenodd\" fill-opacity=\"1\" stroke=\"#000000\" stroke-opacity=\"1\" stroke-width=\"3.2\"/>\n",
       "<circle clip-path=\"url(#clip412)\" cx=\"1332.13\" cy=\"801.073\" r=\"14.4\" fill=\"#009af9\" fill-rule=\"evenodd\" fill-opacity=\"1\" stroke=\"#000000\" stroke-opacity=\"1\" stroke-width=\"3.2\"/>\n",
       "<circle clip-path=\"url(#clip412)\" cx=\"1257.31\" cy=\"609.11\" r=\"14.4\" fill=\"#009af9\" fill-rule=\"evenodd\" fill-opacity=\"1\" stroke=\"#000000\" stroke-opacity=\"1\" stroke-width=\"3.2\"/>\n",
       "<circle clip-path=\"url(#clip412)\" cx=\"1156.74\" cy=\"793.798\" r=\"14.4\" fill=\"#009af9\" fill-rule=\"evenodd\" fill-opacity=\"1\" stroke=\"#000000\" stroke-opacity=\"1\" stroke-width=\"3.2\"/>\n",
       "<circle clip-path=\"url(#clip412)\" cx=\"621.312\" cy=\"810.699\" r=\"14.4\" fill=\"#009af9\" fill-rule=\"evenodd\" fill-opacity=\"1\" stroke=\"#000000\" stroke-opacity=\"1\" stroke-width=\"3.2\"/>\n",
       "<circle clip-path=\"url(#clip412)\" cx=\"918.418\" cy=\"927.016\" r=\"14.4\" fill=\"#009af9\" fill-rule=\"evenodd\" fill-opacity=\"1\" stroke=\"#000000\" stroke-opacity=\"1\" stroke-width=\"3.2\"/>\n",
       "<circle clip-path=\"url(#clip412)\" cx=\"1319.64\" cy=\"934.188\" r=\"14.4\" fill=\"#009af9\" fill-rule=\"evenodd\" fill-opacity=\"1\" stroke=\"#000000\" stroke-opacity=\"1\" stroke-width=\"3.2\"/>\n",
       "<circle clip-path=\"url(#clip412)\" cx=\"818.605\" cy=\"983.28\" r=\"14.4\" fill=\"#009af9\" fill-rule=\"evenodd\" fill-opacity=\"1\" stroke=\"#000000\" stroke-opacity=\"1\" stroke-width=\"3.2\"/>\n",
       "<circle clip-path=\"url(#clip412)\" cx=\"1074.99\" cy=\"669.546\" r=\"14.4\" fill=\"#009af9\" fill-rule=\"evenodd\" fill-opacity=\"1\" stroke=\"#000000\" stroke-opacity=\"1\" stroke-width=\"3.2\"/>\n",
       "<circle clip-path=\"url(#clip412)\" cx=\"1745.8\" cy=\"595.361\" r=\"14.4\" fill=\"#009af9\" fill-rule=\"evenodd\" fill-opacity=\"1\" stroke=\"#000000\" stroke-opacity=\"1\" stroke-width=\"3.2\"/>\n",
       "<circle clip-path=\"url(#clip412)\" cx=\"1158.55\" cy=\"885.446\" r=\"14.4\" fill=\"#009af9\" fill-rule=\"evenodd\" fill-opacity=\"1\" stroke=\"#000000\" stroke-opacity=\"1\" stroke-width=\"3.2\"/>\n",
       "<circle clip-path=\"url(#clip412)\" cx=\"1134.41\" cy=\"738.552\" r=\"14.4\" fill=\"#009af9\" fill-rule=\"evenodd\" fill-opacity=\"1\" stroke=\"#000000\" stroke-opacity=\"1\" stroke-width=\"3.2\"/>\n",
       "<circle clip-path=\"url(#clip412)\" cx=\"1009.79\" cy=\"814.374\" r=\"14.4\" fill=\"#009af9\" fill-rule=\"evenodd\" fill-opacity=\"1\" stroke=\"#000000\" stroke-opacity=\"1\" stroke-width=\"3.2\"/>\n",
       "<circle clip-path=\"url(#clip412)\" cx=\"1377.49\" cy=\"504.678\" r=\"14.4\" fill=\"#009af9\" fill-rule=\"evenodd\" fill-opacity=\"1\" stroke=\"#000000\" stroke-opacity=\"1\" stroke-width=\"3.2\"/>\n",
       "<circle clip-path=\"url(#clip412)\" cx=\"1577.66\" cy=\"598.823\" r=\"14.4\" fill=\"#009af9\" fill-rule=\"evenodd\" fill-opacity=\"1\" stroke=\"#000000\" stroke-opacity=\"1\" stroke-width=\"3.2\"/>\n",
       "<circle clip-path=\"url(#clip412)\" cx=\"1354.34\" cy=\"677.299\" r=\"14.4\" fill=\"#009af9\" fill-rule=\"evenodd\" fill-opacity=\"1\" stroke=\"#000000\" stroke-opacity=\"1\" stroke-width=\"3.2\"/>\n",
       "<circle clip-path=\"url(#clip412)\" cx=\"1695.06\" cy=\"450.105\" r=\"14.4\" fill=\"#009af9\" fill-rule=\"evenodd\" fill-opacity=\"1\" stroke=\"#000000\" stroke-opacity=\"1\" stroke-width=\"3.2\"/>\n",
       "<circle clip-path=\"url(#clip412)\" cx=\"1036.28\" cy=\"686.5\" r=\"14.4\" fill=\"#009af9\" fill-rule=\"evenodd\" fill-opacity=\"1\" stroke=\"#000000\" stroke-opacity=\"1\" stroke-width=\"3.2\"/>\n",
       "<circle clip-path=\"url(#clip412)\" cx=\"1270.34\" cy=\"655.365\" r=\"14.4\" fill=\"#009af9\" fill-rule=\"evenodd\" fill-opacity=\"1\" stroke=\"#000000\" stroke-opacity=\"1\" stroke-width=\"3.2\"/>\n",
       "<circle clip-path=\"url(#clip412)\" cx=\"844.479\" cy=\"1183.59\" r=\"14.4\" fill=\"#009af9\" fill-rule=\"evenodd\" fill-opacity=\"1\" stroke=\"#000000\" stroke-opacity=\"1\" stroke-width=\"3.2\"/>\n",
       "<circle clip-path=\"url(#clip412)\" cx=\"1278.52\" cy=\"884.679\" r=\"14.4\" fill=\"#009af9\" fill-rule=\"evenodd\" fill-opacity=\"1\" stroke=\"#000000\" stroke-opacity=\"1\" stroke-width=\"3.2\"/>\n",
       "<circle clip-path=\"url(#clip412)\" cx=\"1457.35\" cy=\"674.882\" r=\"14.4\" fill=\"#009af9\" fill-rule=\"evenodd\" fill-opacity=\"1\" stroke=\"#000000\" stroke-opacity=\"1\" stroke-width=\"3.2\"/>\n",
       "<circle clip-path=\"url(#clip412)\" cx=\"976.656\" cy=\"910.403\" r=\"14.4\" fill=\"#009af9\" fill-rule=\"evenodd\" fill-opacity=\"1\" stroke=\"#000000\" stroke-opacity=\"1\" stroke-width=\"3.2\"/>\n",
       "<circle clip-path=\"url(#clip412)\" cx=\"1150.54\" cy=\"595.115\" r=\"14.4\" fill=\"#009af9\" fill-rule=\"evenodd\" fill-opacity=\"1\" stroke=\"#000000\" stroke-opacity=\"1\" stroke-width=\"3.2\"/>\n",
       "<circle clip-path=\"url(#clip412)\" cx=\"812.504\" cy=\"987.645\" r=\"14.4\" fill=\"#009af9\" fill-rule=\"evenodd\" fill-opacity=\"1\" stroke=\"#000000\" stroke-opacity=\"1\" stroke-width=\"3.2\"/>\n",
       "<circle clip-path=\"url(#clip412)\" cx=\"1540.71\" cy=\"536.522\" r=\"14.4\" fill=\"#009af9\" fill-rule=\"evenodd\" fill-opacity=\"1\" stroke=\"#000000\" stroke-opacity=\"1\" stroke-width=\"3.2\"/>\n",
       "<circle clip-path=\"url(#clip412)\" cx=\"1749.71\" cy=\"178.158\" r=\"14.4\" fill=\"#009af9\" fill-rule=\"evenodd\" fill-opacity=\"1\" stroke=\"#000000\" stroke-opacity=\"1\" stroke-width=\"3.2\"/>\n",
       "<circle clip-path=\"url(#clip412)\" cx=\"979.992\" cy=\"587.439\" r=\"14.4\" fill=\"#009af9\" fill-rule=\"evenodd\" fill-opacity=\"1\" stroke=\"#000000\" stroke-opacity=\"1\" stroke-width=\"3.2\"/>\n",
       "<circle clip-path=\"url(#clip412)\" cx=\"1623.15\" cy=\"559.003\" r=\"14.4\" fill=\"#009af9\" fill-rule=\"evenodd\" fill-opacity=\"1\" stroke=\"#000000\" stroke-opacity=\"1\" stroke-width=\"3.2\"/>\n",
       "<circle clip-path=\"url(#clip412)\" cx=\"1370.82\" cy=\"618.132\" r=\"14.4\" fill=\"#009af9\" fill-rule=\"evenodd\" fill-opacity=\"1\" stroke=\"#000000\" stroke-opacity=\"1\" stroke-width=\"3.2\"/>\n",
       "<circle clip-path=\"url(#clip412)\" cx=\"1497.61\" cy=\"663.233\" r=\"14.4\" fill=\"#009af9\" fill-rule=\"evenodd\" fill-opacity=\"1\" stroke=\"#000000\" stroke-opacity=\"1\" stroke-width=\"3.2\"/>\n",
       "<circle clip-path=\"url(#clip412)\" cx=\"1895.63\" cy=\"683.333\" r=\"14.4\" fill=\"#009af9\" fill-rule=\"evenodd\" fill-opacity=\"1\" stroke=\"#000000\" stroke-opacity=\"1\" stroke-width=\"3.2\"/>\n",
       "<circle clip-path=\"url(#clip412)\" cx=\"921.08\" cy=\"719.652\" r=\"14.4\" fill=\"#009af9\" fill-rule=\"evenodd\" fill-opacity=\"1\" stroke=\"#000000\" stroke-opacity=\"1\" stroke-width=\"3.2\"/>\n",
       "<circle clip-path=\"url(#clip412)\" cx=\"2060.27\" cy=\"548.066\" r=\"14.4\" fill=\"#009af9\" fill-rule=\"evenodd\" fill-opacity=\"1\" stroke=\"#000000\" stroke-opacity=\"1\" stroke-width=\"3.2\"/>\n",
       "<circle clip-path=\"url(#clip412)\" cx=\"1498.04\" cy=\"377.905\" r=\"14.4\" fill=\"#009af9\" fill-rule=\"evenodd\" fill-opacity=\"1\" stroke=\"#000000\" stroke-opacity=\"1\" stroke-width=\"3.2\"/>\n",
       "<circle clip-path=\"url(#clip412)\" cx=\"1322.53\" cy=\"601.852\" r=\"14.4\" fill=\"#009af9\" fill-rule=\"evenodd\" fill-opacity=\"1\" stroke=\"#000000\" stroke-opacity=\"1\" stroke-width=\"3.2\"/>\n",
       "<circle clip-path=\"url(#clip412)\" cx=\"1616.26\" cy=\"367.2\" r=\"14.4\" fill=\"#009af9\" fill-rule=\"evenodd\" fill-opacity=\"1\" stroke=\"#000000\" stroke-opacity=\"1\" stroke-width=\"3.2\"/>\n",
       "<circle clip-path=\"url(#clip412)\" cx=\"1761.64\" cy=\"429.858\" r=\"14.4\" fill=\"#009af9\" fill-rule=\"evenodd\" fill-opacity=\"1\" stroke=\"#000000\" stroke-opacity=\"1\" stroke-width=\"3.2\"/>\n",
       "<circle clip-path=\"url(#clip412)\" cx=\"1405.33\" cy=\"658.167\" r=\"14.4\" fill=\"#009af9\" fill-rule=\"evenodd\" fill-opacity=\"1\" stroke=\"#000000\" stroke-opacity=\"1\" stroke-width=\"3.2\"/>\n",
       "<circle clip-path=\"url(#clip412)\" cx=\"1173.85\" cy=\"770.321\" r=\"14.4\" fill=\"#009af9\" fill-rule=\"evenodd\" fill-opacity=\"1\" stroke=\"#000000\" stroke-opacity=\"1\" stroke-width=\"3.2\"/>\n",
       "<circle clip-path=\"url(#clip412)\" cx=\"1008.6\" cy=\"848.496\" r=\"14.4\" fill=\"#009af9\" fill-rule=\"evenodd\" fill-opacity=\"1\" stroke=\"#000000\" stroke-opacity=\"1\" stroke-width=\"3.2\"/>\n",
       "<circle clip-path=\"url(#clip412)\" cx=\"1465.21\" cy=\"640.098\" r=\"14.4\" fill=\"#009af9\" fill-rule=\"evenodd\" fill-opacity=\"1\" stroke=\"#000000\" stroke-opacity=\"1\" stroke-width=\"3.2\"/>\n",
       "<circle clip-path=\"url(#clip412)\" cx=\"1005.83\" cy=\"954.053\" r=\"14.4\" fill=\"#009af9\" fill-rule=\"evenodd\" fill-opacity=\"1\" stroke=\"#000000\" stroke-opacity=\"1\" stroke-width=\"3.2\"/>\n",
       "<circle clip-path=\"url(#clip412)\" cx=\"1576.73\" cy=\"581.121\" r=\"14.4\" fill=\"#009af9\" fill-rule=\"evenodd\" fill-opacity=\"1\" stroke=\"#000000\" stroke-opacity=\"1\" stroke-width=\"3.2\"/>\n",
       "<circle clip-path=\"url(#clip412)\" cx=\"1036.82\" cy=\"490.903\" r=\"14.4\" fill=\"#009af9\" fill-rule=\"evenodd\" fill-opacity=\"1\" stroke=\"#000000\" stroke-opacity=\"1\" stroke-width=\"3.2\"/>\n",
       "<circle clip-path=\"url(#clip412)\" cx=\"954.597\" cy=\"893.361\" r=\"14.4\" fill=\"#009af9\" fill-rule=\"evenodd\" fill-opacity=\"1\" stroke=\"#000000\" stroke-opacity=\"1\" stroke-width=\"3.2\"/>\n",
       "<circle clip-path=\"url(#clip412)\" cx=\"1059.03\" cy=\"684.572\" r=\"14.4\" fill=\"#009af9\" fill-rule=\"evenodd\" fill-opacity=\"1\" stroke=\"#000000\" stroke-opacity=\"1\" stroke-width=\"3.2\"/>\n",
       "<circle clip-path=\"url(#clip412)\" cx=\"1485.11\" cy=\"724.846\" r=\"14.4\" fill=\"#009af9\" fill-rule=\"evenodd\" fill-opacity=\"1\" stroke=\"#000000\" stroke-opacity=\"1\" stroke-width=\"3.2\"/>\n",
       "<circle clip-path=\"url(#clip412)\" cx=\"1495.96\" cy=\"518.408\" r=\"14.4\" fill=\"#009af9\" fill-rule=\"evenodd\" fill-opacity=\"1\" stroke=\"#000000\" stroke-opacity=\"1\" stroke-width=\"3.2\"/>\n",
       "<circle clip-path=\"url(#clip412)\" cx=\"1388.42\" cy=\"745.612\" r=\"14.4\" fill=\"#009af9\" fill-rule=\"evenodd\" fill-opacity=\"1\" stroke=\"#000000\" stroke-opacity=\"1\" stroke-width=\"3.2\"/>\n",
       "<circle clip-path=\"url(#clip412)\" cx=\"1382.65\" cy=\"586.43\" r=\"14.4\" fill=\"#009af9\" fill-rule=\"evenodd\" fill-opacity=\"1\" stroke=\"#000000\" stroke-opacity=\"1\" stroke-width=\"3.2\"/>\n",
       "<circle clip-path=\"url(#clip412)\" cx=\"1077.85\" cy=\"632.336\" r=\"14.4\" fill=\"#009af9\" fill-rule=\"evenodd\" fill-opacity=\"1\" stroke=\"#000000\" stroke-opacity=\"1\" stroke-width=\"3.2\"/>\n",
       "<circle clip-path=\"url(#clip412)\" cx=\"1781.19\" cy=\"774.263\" r=\"14.4\" fill=\"#009af9\" fill-rule=\"evenodd\" fill-opacity=\"1\" stroke=\"#000000\" stroke-opacity=\"1\" stroke-width=\"3.2\"/>\n",
       "<circle clip-path=\"url(#clip412)\" cx=\"1066.15\" cy=\"825.694\" r=\"14.4\" fill=\"#009af9\" fill-rule=\"evenodd\" fill-opacity=\"1\" stroke=\"#000000\" stroke-opacity=\"1\" stroke-width=\"3.2\"/>\n",
       "<circle clip-path=\"url(#clip412)\" cx=\"1169.84\" cy=\"540.007\" r=\"14.4\" fill=\"#009af9\" fill-rule=\"evenodd\" fill-opacity=\"1\" stroke=\"#000000\" stroke-opacity=\"1\" stroke-width=\"3.2\"/>\n",
       "<circle clip-path=\"url(#clip412)\" cx=\"1683.81\" cy=\"88.0319\" r=\"14.4\" fill=\"#009af9\" fill-rule=\"evenodd\" fill-opacity=\"1\" stroke=\"#000000\" stroke-opacity=\"1\" stroke-width=\"3.2\"/>\n",
       "<circle clip-path=\"url(#clip412)\" cx=\"1724.77\" cy=\"580.56\" r=\"14.4\" fill=\"#009af9\" fill-rule=\"evenodd\" fill-opacity=\"1\" stroke=\"#000000\" stroke-opacity=\"1\" stroke-width=\"3.2\"/>\n",
       "<circle clip-path=\"url(#clip412)\" cx=\"1136.34\" cy=\"776.744\" r=\"14.4\" fill=\"#009af9\" fill-rule=\"evenodd\" fill-opacity=\"1\" stroke=\"#000000\" stroke-opacity=\"1\" stroke-width=\"3.2\"/>\n",
       "<circle clip-path=\"url(#clip412)\" cx=\"866.936\" cy=\"973.523\" r=\"14.4\" fill=\"#009af9\" fill-rule=\"evenodd\" fill-opacity=\"1\" stroke=\"#000000\" stroke-opacity=\"1\" stroke-width=\"3.2\"/>\n",
       "<circle clip-path=\"url(#clip412)\" cx=\"1105.6\" cy=\"848.93\" r=\"14.4\" fill=\"#009af9\" fill-rule=\"evenodd\" fill-opacity=\"1\" stroke=\"#000000\" stroke-opacity=\"1\" stroke-width=\"3.2\"/>\n",
       "<circle clip-path=\"url(#clip412)\" cx=\"1986.8\" cy=\"607.264\" r=\"14.4\" fill=\"#009af9\" fill-rule=\"evenodd\" fill-opacity=\"1\" stroke=\"#000000\" stroke-opacity=\"1\" stroke-width=\"3.2\"/>\n",
       "<circle clip-path=\"url(#clip412)\" cx=\"1201.52\" cy=\"882.959\" r=\"14.4\" fill=\"#009af9\" fill-rule=\"evenodd\" fill-opacity=\"1\" stroke=\"#000000\" stroke-opacity=\"1\" stroke-width=\"3.2\"/>\n",
       "<circle clip-path=\"url(#clip412)\" cx=\"1379.81\" cy=\"563.496\" r=\"14.4\" fill=\"#009af9\" fill-rule=\"evenodd\" fill-opacity=\"1\" stroke=\"#000000\" stroke-opacity=\"1\" stroke-width=\"3.2\"/>\n",
       "<circle clip-path=\"url(#clip412)\" cx=\"1581.57\" cy=\"533.753\" r=\"14.4\" fill=\"#009af9\" fill-rule=\"evenodd\" fill-opacity=\"1\" stroke=\"#000000\" stroke-opacity=\"1\" stroke-width=\"3.2\"/>\n",
       "<circle clip-path=\"url(#clip412)\" cx=\"1710.76\" cy=\"842.536\" r=\"14.4\" fill=\"#009af9\" fill-rule=\"evenodd\" fill-opacity=\"1\" stroke=\"#000000\" stroke-opacity=\"1\" stroke-width=\"3.2\"/>\n",
       "<circle clip-path=\"url(#clip412)\" cx=\"1281.8\" cy=\"874.123\" r=\"14.4\" fill=\"#009af9\" fill-rule=\"evenodd\" fill-opacity=\"1\" stroke=\"#000000\" stroke-opacity=\"1\" stroke-width=\"3.2\"/>\n",
       "<circle clip-path=\"url(#clip412)\" cx=\"1156.78\" cy=\"905.68\" r=\"14.4\" fill=\"#009af9\" fill-rule=\"evenodd\" fill-opacity=\"1\" stroke=\"#000000\" stroke-opacity=\"1\" stroke-width=\"3.2\"/>\n",
       "<circle clip-path=\"url(#clip412)\" cx=\"992.511\" cy=\"899.559\" r=\"14.4\" fill=\"#009af9\" fill-rule=\"evenodd\" fill-opacity=\"1\" stroke=\"#000000\" stroke-opacity=\"1\" stroke-width=\"3.2\"/>\n",
       "<circle clip-path=\"url(#clip412)\" cx=\"2084.27\" cy=\"420.774\" r=\"14.4\" fill=\"#009af9\" fill-rule=\"evenodd\" fill-opacity=\"1\" stroke=\"#000000\" stroke-opacity=\"1\" stroke-width=\"3.2\"/>\n",
       "<circle clip-path=\"url(#clip412)\" cx=\"1627.01\" cy=\"489.141\" r=\"14.4\" fill=\"#009af9\" fill-rule=\"evenodd\" fill-opacity=\"1\" stroke=\"#000000\" stroke-opacity=\"1\" stroke-width=\"3.2\"/>\n",
       "<circle clip-path=\"url(#clip412)\" cx=\"961.03\" cy=\"820.453\" r=\"14.4\" fill=\"#009af9\" fill-rule=\"evenodd\" fill-opacity=\"1\" stroke=\"#000000\" stroke-opacity=\"1\" stroke-width=\"3.2\"/>\n",
       "<circle clip-path=\"url(#clip412)\" cx=\"1732.13\" cy=\"696.114\" r=\"14.4\" fill=\"#009af9\" fill-rule=\"evenodd\" fill-opacity=\"1\" stroke=\"#000000\" stroke-opacity=\"1\" stroke-width=\"3.2\"/>\n",
       "<circle clip-path=\"url(#clip412)\" cx=\"1371.82\" cy=\"919.034\" r=\"14.4\" fill=\"#009af9\" fill-rule=\"evenodd\" fill-opacity=\"1\" stroke=\"#000000\" stroke-opacity=\"1\" stroke-width=\"3.2\"/>\n",
       "<circle clip-path=\"url(#clip412)\" cx=\"1980.86\" cy=\"458.885\" r=\"14.4\" fill=\"#009af9\" fill-rule=\"evenodd\" fill-opacity=\"1\" stroke=\"#000000\" stroke-opacity=\"1\" stroke-width=\"3.2\"/>\n",
       "<circle clip-path=\"url(#clip412)\" cx=\"1612.95\" cy=\"537.905\" r=\"14.4\" fill=\"#009af9\" fill-rule=\"evenodd\" fill-opacity=\"1\" stroke=\"#000000\" stroke-opacity=\"1\" stroke-width=\"3.2\"/>\n",
       "<circle clip-path=\"url(#clip412)\" cx=\"1607.47\" cy=\"783.861\" r=\"14.4\" fill=\"#009af9\" fill-rule=\"evenodd\" fill-opacity=\"1\" stroke=\"#000000\" stroke-opacity=\"1\" stroke-width=\"3.2\"/>\n",
       "<circle clip-path=\"url(#clip412)\" cx=\"1536.98\" cy=\"589.562\" r=\"14.4\" fill=\"#009af9\" fill-rule=\"evenodd\" fill-opacity=\"1\" stroke=\"#000000\" stroke-opacity=\"1\" stroke-width=\"3.2\"/>\n",
       "<circle clip-path=\"url(#clip412)\" cx=\"1460.47\" cy=\"271.637\" r=\"14.4\" fill=\"#009af9\" fill-rule=\"evenodd\" fill-opacity=\"1\" stroke=\"#000000\" stroke-opacity=\"1\" stroke-width=\"3.2\"/>\n",
       "<circle clip-path=\"url(#clip412)\" cx=\"1066.19\" cy=\"451.251\" r=\"14.4\" fill=\"#009af9\" fill-rule=\"evenodd\" fill-opacity=\"1\" stroke=\"#000000\" stroke-opacity=\"1\" stroke-width=\"3.2\"/>\n",
       "<circle clip-path=\"url(#clip412)\" cx=\"985.111\" cy=\"628.783\" r=\"14.4\" fill=\"#009af9\" fill-rule=\"evenodd\" fill-opacity=\"1\" stroke=\"#000000\" stroke-opacity=\"1\" stroke-width=\"3.2\"/>\n",
       "<circle clip-path=\"url(#clip412)\" cx=\"1410.95\" cy=\"738.795\" r=\"14.4\" fill=\"#009af9\" fill-rule=\"evenodd\" fill-opacity=\"1\" stroke=\"#000000\" stroke-opacity=\"1\" stroke-width=\"3.2\"/>\n",
       "<circle clip-path=\"url(#clip412)\" cx=\"1062.43\" cy=\"778.656\" r=\"14.4\" fill=\"#009af9\" fill-rule=\"evenodd\" fill-opacity=\"1\" stroke=\"#000000\" stroke-opacity=\"1\" stroke-width=\"3.2\"/>\n",
       "<circle clip-path=\"url(#clip412)\" cx=\"1466.08\" cy=\"693.594\" r=\"14.4\" fill=\"#009af9\" fill-rule=\"evenodd\" fill-opacity=\"1\" stroke=\"#000000\" stroke-opacity=\"1\" stroke-width=\"3.2\"/>\n",
       "<circle clip-path=\"url(#clip412)\" cx=\"1416.39\" cy=\"753.441\" r=\"14.4\" fill=\"#009af9\" fill-rule=\"evenodd\" fill-opacity=\"1\" stroke=\"#000000\" stroke-opacity=\"1\" stroke-width=\"3.2\"/>\n",
       "<circle clip-path=\"url(#clip412)\" cx=\"1282.82\" cy=\"620.417\" r=\"14.4\" fill=\"#009af9\" fill-rule=\"evenodd\" fill-opacity=\"1\" stroke=\"#000000\" stroke-opacity=\"1\" stroke-width=\"3.2\"/>\n",
       "<circle clip-path=\"url(#clip412)\" cx=\"1124.98\" cy=\"818.225\" r=\"14.4\" fill=\"#009af9\" fill-rule=\"evenodd\" fill-opacity=\"1\" stroke=\"#000000\" stroke-opacity=\"1\" stroke-width=\"3.2\"/>\n",
       "<circle clip-path=\"url(#clip412)\" cx=\"1456.29\" cy=\"500.745\" r=\"14.4\" fill=\"#009af9\" fill-rule=\"evenodd\" fill-opacity=\"1\" stroke=\"#000000\" stroke-opacity=\"1\" stroke-width=\"3.2\"/>\n",
       "<circle clip-path=\"url(#clip412)\" cx=\"844.356\" cy=\"891.06\" r=\"14.4\" fill=\"#009af9\" fill-rule=\"evenodd\" fill-opacity=\"1\" stroke=\"#000000\" stroke-opacity=\"1\" stroke-width=\"3.2\"/>\n",
       "<circle clip-path=\"url(#clip412)\" cx=\"1326.85\" cy=\"304.166\" r=\"14.4\" fill=\"#009af9\" fill-rule=\"evenodd\" fill-opacity=\"1\" stroke=\"#000000\" stroke-opacity=\"1\" stroke-width=\"3.2\"/>\n",
       "<circle clip-path=\"url(#clip412)\" cx=\"1309.68\" cy=\"449.701\" r=\"14.4\" fill=\"#009af9\" fill-rule=\"evenodd\" fill-opacity=\"1\" stroke=\"#000000\" stroke-opacity=\"1\" stroke-width=\"3.2\"/>\n",
       "<circle clip-path=\"url(#clip412)\" cx=\"1452.18\" cy=\"594.766\" r=\"14.4\" fill=\"#009af9\" fill-rule=\"evenodd\" fill-opacity=\"1\" stroke=\"#000000\" stroke-opacity=\"1\" stroke-width=\"3.2\"/>\n",
       "<circle clip-path=\"url(#clip412)\" cx=\"1232.43\" cy=\"575.959\" r=\"14.4\" fill=\"#009af9\" fill-rule=\"evenodd\" fill-opacity=\"1\" stroke=\"#000000\" stroke-opacity=\"1\" stroke-width=\"3.2\"/>\n",
       "<circle clip-path=\"url(#clip412)\" cx=\"1878.99\" cy=\"756.177\" r=\"14.4\" fill=\"#009af9\" fill-rule=\"evenodd\" fill-opacity=\"1\" stroke=\"#000000\" stroke-opacity=\"1\" stroke-width=\"3.2\"/>\n",
       "<circle clip-path=\"url(#clip412)\" cx=\"1941.73\" cy=\"621.226\" r=\"14.4\" fill=\"#009af9\" fill-rule=\"evenodd\" fill-opacity=\"1\" stroke=\"#000000\" stroke-opacity=\"1\" stroke-width=\"3.2\"/>\n",
       "<circle clip-path=\"url(#clip412)\" cx=\"982.49\" cy=\"290.41\" r=\"14.4\" fill=\"#009af9\" fill-rule=\"evenodd\" fill-opacity=\"1\" stroke=\"#000000\" stroke-opacity=\"1\" stroke-width=\"3.2\"/>\n",
       "<circle clip-path=\"url(#clip412)\" cx=\"1534.03\" cy=\"743.518\" r=\"14.4\" fill=\"#009af9\" fill-rule=\"evenodd\" fill-opacity=\"1\" stroke=\"#000000\" stroke-opacity=\"1\" stroke-width=\"3.2\"/>\n",
       "<circle clip-path=\"url(#clip412)\" cx=\"1624.16\" cy=\"655.839\" r=\"14.4\" fill=\"#009af9\" fill-rule=\"evenodd\" fill-opacity=\"1\" stroke=\"#000000\" stroke-opacity=\"1\" stroke-width=\"3.2\"/>\n",
       "<circle clip-path=\"url(#clip412)\" cx=\"1250.26\" cy=\"795.748\" r=\"14.4\" fill=\"#009af9\" fill-rule=\"evenodd\" fill-opacity=\"1\" stroke=\"#000000\" stroke-opacity=\"1\" stroke-width=\"3.2\"/>\n",
       "<circle clip-path=\"url(#clip412)\" cx=\"941.59\" cy=\"710.472\" r=\"14.4\" fill=\"#009af9\" fill-rule=\"evenodd\" fill-opacity=\"1\" stroke=\"#000000\" stroke-opacity=\"1\" stroke-width=\"3.2\"/>\n",
       "<circle clip-path=\"url(#clip412)\" cx=\"1704.77\" cy=\"815.843\" r=\"14.4\" fill=\"#009af9\" fill-rule=\"evenodd\" fill-opacity=\"1\" stroke=\"#000000\" stroke-opacity=\"1\" stroke-width=\"3.2\"/>\n",
       "<circle clip-path=\"url(#clip412)\" cx=\"1117.32\" cy=\"639.213\" r=\"14.4\" fill=\"#009af9\" fill-rule=\"evenodd\" fill-opacity=\"1\" stroke=\"#000000\" stroke-opacity=\"1\" stroke-width=\"3.2\"/>\n",
       "<circle clip-path=\"url(#clip412)\" cx=\"1119.73\" cy=\"824.896\" r=\"14.4\" fill=\"#009af9\" fill-rule=\"evenodd\" fill-opacity=\"1\" stroke=\"#000000\" stroke-opacity=\"1\" stroke-width=\"3.2\"/>\n",
       "<circle clip-path=\"url(#clip412)\" cx=\"1245.61\" cy=\"805.11\" r=\"14.4\" fill=\"#009af9\" fill-rule=\"evenodd\" fill-opacity=\"1\" stroke=\"#000000\" stroke-opacity=\"1\" stroke-width=\"3.2\"/>\n",
       "<circle clip-path=\"url(#clip412)\" cx=\"911.952\" cy=\"1067.3\" r=\"14.4\" fill=\"#009af9\" fill-rule=\"evenodd\" fill-opacity=\"1\" stroke=\"#000000\" stroke-opacity=\"1\" stroke-width=\"3.2\"/>\n",
       "<circle clip-path=\"url(#clip412)\" cx=\"1409.43\" cy=\"189.152\" r=\"14.4\" fill=\"#009af9\" fill-rule=\"evenodd\" fill-opacity=\"1\" stroke=\"#000000\" stroke-opacity=\"1\" stroke-width=\"3.2\"/>\n",
       "<circle clip-path=\"url(#clip412)\" cx=\"1090.27\" cy=\"621.16\" r=\"14.4\" fill=\"#009af9\" fill-rule=\"evenodd\" fill-opacity=\"1\" stroke=\"#000000\" stroke-opacity=\"1\" stroke-width=\"3.2\"/>\n",
       "<circle clip-path=\"url(#clip412)\" cx=\"1094.55\" cy=\"845.106\" r=\"14.4\" fill=\"#009af9\" fill-rule=\"evenodd\" fill-opacity=\"1\" stroke=\"#000000\" stroke-opacity=\"1\" stroke-width=\"3.2\"/>\n",
       "<circle clip-path=\"url(#clip412)\" cx=\"1016.57\" cy=\"837.877\" r=\"14.4\" fill=\"#009af9\" fill-rule=\"evenodd\" fill-opacity=\"1\" stroke=\"#000000\" stroke-opacity=\"1\" stroke-width=\"3.2\"/>\n",
       "<circle clip-path=\"url(#clip412)\" cx=\"1800.27\" cy=\"565.913\" r=\"14.4\" fill=\"#009af9\" fill-rule=\"evenodd\" fill-opacity=\"1\" stroke=\"#000000\" stroke-opacity=\"1\" stroke-width=\"3.2\"/>\n",
       "<circle clip-path=\"url(#clip412)\" cx=\"1300\" cy=\"498.268\" r=\"14.4\" fill=\"#009af9\" fill-rule=\"evenodd\" fill-opacity=\"1\" stroke=\"#000000\" stroke-opacity=\"1\" stroke-width=\"3.2\"/>\n",
       "<circle clip-path=\"url(#clip412)\" cx=\"1295.94\" cy=\"803.51\" r=\"14.4\" fill=\"#009af9\" fill-rule=\"evenodd\" fill-opacity=\"1\" stroke=\"#000000\" stroke-opacity=\"1\" stroke-width=\"3.2\"/>\n",
       "<circle clip-path=\"url(#clip412)\" cx=\"1025.46\" cy=\"802.237\" r=\"14.4\" fill=\"#009af9\" fill-rule=\"evenodd\" fill-opacity=\"1\" stroke=\"#000000\" stroke-opacity=\"1\" stroke-width=\"3.2\"/>\n",
       "<circle clip-path=\"url(#clip412)\" cx=\"1425.51\" cy=\"715.834\" r=\"14.4\" fill=\"#009af9\" fill-rule=\"evenodd\" fill-opacity=\"1\" stroke=\"#000000\" stroke-opacity=\"1\" stroke-width=\"3.2\"/>\n",
       "<circle clip-path=\"url(#clip412)\" cx=\"1828.33\" cy=\"566.974\" r=\"14.4\" fill=\"#009af9\" fill-rule=\"evenodd\" fill-opacity=\"1\" stroke=\"#000000\" stroke-opacity=\"1\" stroke-width=\"3.2\"/>\n",
       "<circle clip-path=\"url(#clip412)\" cx=\"1077.12\" cy=\"911.537\" r=\"14.4\" fill=\"#009af9\" fill-rule=\"evenodd\" fill-opacity=\"1\" stroke=\"#000000\" stroke-opacity=\"1\" stroke-width=\"3.2\"/>\n",
       "<circle clip-path=\"url(#clip412)\" cx=\"1303.26\" cy=\"738.457\" r=\"14.4\" fill=\"#009af9\" fill-rule=\"evenodd\" fill-opacity=\"1\" stroke=\"#000000\" stroke-opacity=\"1\" stroke-width=\"3.2\"/>\n",
       "<circle clip-path=\"url(#clip412)\" cx=\"1736.18\" cy=\"490.468\" r=\"14.4\" fill=\"#009af9\" fill-rule=\"evenodd\" fill-opacity=\"1\" stroke=\"#000000\" stroke-opacity=\"1\" stroke-width=\"3.2\"/>\n",
       "<circle clip-path=\"url(#clip412)\" cx=\"798.302\" cy=\"859.539\" r=\"14.4\" fill=\"#009af9\" fill-rule=\"evenodd\" fill-opacity=\"1\" stroke=\"#000000\" stroke-opacity=\"1\" stroke-width=\"3.2\"/>\n",
       "<circle clip-path=\"url(#clip412)\" cx=\"1138.29\" cy=\"747.647\" r=\"14.4\" fill=\"#009af9\" fill-rule=\"evenodd\" fill-opacity=\"1\" stroke=\"#000000\" stroke-opacity=\"1\" stroke-width=\"3.2\"/>\n",
       "<circle clip-path=\"url(#clip412)\" cx=\"1577.12\" cy=\"764.934\" r=\"14.4\" fill=\"#009af9\" fill-rule=\"evenodd\" fill-opacity=\"1\" stroke=\"#000000\" stroke-opacity=\"1\" stroke-width=\"3.2\"/>\n",
       "<circle clip-path=\"url(#clip412)\" cx=\"1755.21\" cy=\"720.332\" r=\"14.4\" fill=\"#009af9\" fill-rule=\"evenodd\" fill-opacity=\"1\" stroke=\"#000000\" stroke-opacity=\"1\" stroke-width=\"3.2\"/>\n",
       "<circle clip-path=\"url(#clip412)\" cx=\"768.663\" cy=\"790.589\" r=\"14.4\" fill=\"#009af9\" fill-rule=\"evenodd\" fill-opacity=\"1\" stroke=\"#000000\" stroke-opacity=\"1\" stroke-width=\"3.2\"/>\n",
       "<circle clip-path=\"url(#clip412)\" cx=\"971.881\" cy=\"699.917\" r=\"14.4\" fill=\"#009af9\" fill-rule=\"evenodd\" fill-opacity=\"1\" stroke=\"#000000\" stroke-opacity=\"1\" stroke-width=\"3.2\"/>\n",
       "<circle clip-path=\"url(#clip412)\" cx=\"1795.88\" cy=\"693.202\" r=\"14.4\" fill=\"#009af9\" fill-rule=\"evenodd\" fill-opacity=\"1\" stroke=\"#000000\" stroke-opacity=\"1\" stroke-width=\"3.2\"/>\n",
       "<circle clip-path=\"url(#clip412)\" cx=\"1714.58\" cy=\"618.657\" r=\"14.4\" fill=\"#009af9\" fill-rule=\"evenodd\" fill-opacity=\"1\" stroke=\"#000000\" stroke-opacity=\"1\" stroke-width=\"3.2\"/>\n",
       "<circle clip-path=\"url(#clip412)\" cx=\"1116.22\" cy=\"877.646\" r=\"14.4\" fill=\"#009af9\" fill-rule=\"evenodd\" fill-opacity=\"1\" stroke=\"#000000\" stroke-opacity=\"1\" stroke-width=\"3.2\"/>\n",
       "<circle clip-path=\"url(#clip412)\" cx=\"1369.4\" cy=\"669.826\" r=\"14.4\" fill=\"#009af9\" fill-rule=\"evenodd\" fill-opacity=\"1\" stroke=\"#000000\" stroke-opacity=\"1\" stroke-width=\"3.2\"/>\n",
       "<circle clip-path=\"url(#clip412)\" cx=\"1154.92\" cy=\"781.85\" r=\"14.4\" fill=\"#009af9\" fill-rule=\"evenodd\" fill-opacity=\"1\" stroke=\"#000000\" stroke-opacity=\"1\" stroke-width=\"3.2\"/>\n",
       "<circle clip-path=\"url(#clip412)\" cx=\"1423.67\" cy=\"848.543\" r=\"14.4\" fill=\"#009af9\" fill-rule=\"evenodd\" fill-opacity=\"1\" stroke=\"#000000\" stroke-opacity=\"1\" stroke-width=\"3.2\"/>\n",
       "<circle clip-path=\"url(#clip412)\" cx=\"1185.79\" cy=\"770.734\" r=\"14.4\" fill=\"#009af9\" fill-rule=\"evenodd\" fill-opacity=\"1\" stroke=\"#000000\" stroke-opacity=\"1\" stroke-width=\"3.2\"/>\n",
       "<circle clip-path=\"url(#clip412)\" cx=\"720.314\" cy=\"782.042\" r=\"14.4\" fill=\"#009af9\" fill-rule=\"evenodd\" fill-opacity=\"1\" stroke=\"#000000\" stroke-opacity=\"1\" stroke-width=\"3.2\"/>\n",
       "<circle clip-path=\"url(#clip412)\" cx=\"570.446\" cy=\"949.034\" r=\"14.4\" fill=\"#009af9\" fill-rule=\"evenodd\" fill-opacity=\"1\" stroke=\"#000000\" stroke-opacity=\"1\" stroke-width=\"3.2\"/>\n",
       "<circle clip-path=\"url(#clip412)\" cx=\"1219.53\" cy=\"777.003\" r=\"14.4\" fill=\"#009af9\" fill-rule=\"evenodd\" fill-opacity=\"1\" stroke=\"#000000\" stroke-opacity=\"1\" stroke-width=\"3.2\"/>\n",
       "<circle clip-path=\"url(#clip412)\" cx=\"1687.71\" cy=\"844.696\" r=\"14.4\" fill=\"#009af9\" fill-rule=\"evenodd\" fill-opacity=\"1\" stroke=\"#000000\" stroke-opacity=\"1\" stroke-width=\"3.2\"/>\n",
       "<circle clip-path=\"url(#clip412)\" cx=\"1621.31\" cy=\"551.989\" r=\"14.4\" fill=\"#009af9\" fill-rule=\"evenodd\" fill-opacity=\"1\" stroke=\"#000000\" stroke-opacity=\"1\" stroke-width=\"3.2\"/>\n",
       "<circle clip-path=\"url(#clip412)\" cx=\"1372.83\" cy=\"849.145\" r=\"14.4\" fill=\"#009af9\" fill-rule=\"evenodd\" fill-opacity=\"1\" stroke=\"#000000\" stroke-opacity=\"1\" stroke-width=\"3.2\"/>\n",
       "<circle clip-path=\"url(#clip412)\" cx=\"1153.72\" cy=\"709.681\" r=\"14.4\" fill=\"#009af9\" fill-rule=\"evenodd\" fill-opacity=\"1\" stroke=\"#000000\" stroke-opacity=\"1\" stroke-width=\"3.2\"/>\n",
       "<circle clip-path=\"url(#clip412)\" cx=\"647.667\" cy=\"971.107\" r=\"14.4\" fill=\"#009af9\" fill-rule=\"evenodd\" fill-opacity=\"1\" stroke=\"#000000\" stroke-opacity=\"1\" stroke-width=\"3.2\"/>\n",
       "<circle clip-path=\"url(#clip412)\" cx=\"1827.62\" cy=\"684.97\" r=\"14.4\" fill=\"#009af9\" fill-rule=\"evenodd\" fill-opacity=\"1\" stroke=\"#000000\" stroke-opacity=\"1\" stroke-width=\"3.2\"/>\n",
       "<circle clip-path=\"url(#clip412)\" cx=\"1381.16\" cy=\"766.812\" r=\"14.4\" fill=\"#009af9\" fill-rule=\"evenodd\" fill-opacity=\"1\" stroke=\"#000000\" stroke-opacity=\"1\" stroke-width=\"3.2\"/>\n",
       "<circle clip-path=\"url(#clip412)\" cx=\"837.15\" cy=\"756.607\" r=\"14.4\" fill=\"#009af9\" fill-rule=\"evenodd\" fill-opacity=\"1\" stroke=\"#000000\" stroke-opacity=\"1\" stroke-width=\"3.2\"/>\n",
       "<circle clip-path=\"url(#clip412)\" cx=\"1810.53\" cy=\"618.755\" r=\"14.4\" fill=\"#009af9\" fill-rule=\"evenodd\" fill-opacity=\"1\" stroke=\"#000000\" stroke-opacity=\"1\" stroke-width=\"3.2\"/>\n",
       "<circle clip-path=\"url(#clip412)\" cx=\"1308.84\" cy=\"722.585\" r=\"14.4\" fill=\"#009af9\" fill-rule=\"evenodd\" fill-opacity=\"1\" stroke=\"#000000\" stroke-opacity=\"1\" stroke-width=\"3.2\"/>\n",
       "<circle clip-path=\"url(#clip412)\" cx=\"1554.97\" cy=\"543.568\" r=\"14.4\" fill=\"#009af9\" fill-rule=\"evenodd\" fill-opacity=\"1\" stroke=\"#000000\" stroke-opacity=\"1\" stroke-width=\"3.2\"/>\n",
       "<circle clip-path=\"url(#clip412)\" cx=\"522.024\" cy=\"947.501\" r=\"14.4\" fill=\"#009af9\" fill-rule=\"evenodd\" fill-opacity=\"1\" stroke=\"#000000\" stroke-opacity=\"1\" stroke-width=\"3.2\"/>\n",
       "<circle clip-path=\"url(#clip412)\" cx=\"1109.04\" cy=\"638.373\" r=\"14.4\" fill=\"#009af9\" fill-rule=\"evenodd\" fill-opacity=\"1\" stroke=\"#000000\" stroke-opacity=\"1\" stroke-width=\"3.2\"/>\n",
       "<circle clip-path=\"url(#clip412)\" cx=\"818.618\" cy=\"913.681\" r=\"14.4\" fill=\"#009af9\" fill-rule=\"evenodd\" fill-opacity=\"1\" stroke=\"#000000\" stroke-opacity=\"1\" stroke-width=\"3.2\"/>\n",
       "<circle clip-path=\"url(#clip412)\" cx=\"1471.4\" cy=\"596.447\" r=\"14.4\" fill=\"#009af9\" fill-rule=\"evenodd\" fill-opacity=\"1\" stroke=\"#000000\" stroke-opacity=\"1\" stroke-width=\"3.2\"/>\n",
       "<circle clip-path=\"url(#clip412)\" cx=\"1537.22\" cy=\"591.453\" r=\"14.4\" fill=\"#009af9\" fill-rule=\"evenodd\" fill-opacity=\"1\" stroke=\"#000000\" stroke-opacity=\"1\" stroke-width=\"3.2\"/>\n",
       "<circle clip-path=\"url(#clip412)\" cx=\"1510.89\" cy=\"441.66\" r=\"14.4\" fill=\"#009af9\" fill-rule=\"evenodd\" fill-opacity=\"1\" stroke=\"#000000\" stroke-opacity=\"1\" stroke-width=\"3.2\"/>\n",
       "<circle clip-path=\"url(#clip412)\" cx=\"1521.58\" cy=\"601.652\" r=\"14.4\" fill=\"#009af9\" fill-rule=\"evenodd\" fill-opacity=\"1\" stroke=\"#000000\" stroke-opacity=\"1\" stroke-width=\"3.2\"/>\n",
       "<circle clip-path=\"url(#clip412)\" cx=\"1434.08\" cy=\"555.054\" r=\"14.4\" fill=\"#009af9\" fill-rule=\"evenodd\" fill-opacity=\"1\" stroke=\"#000000\" stroke-opacity=\"1\" stroke-width=\"3.2\"/>\n",
       "<circle clip-path=\"url(#clip412)\" cx=\"1627.11\" cy=\"900.802\" r=\"14.4\" fill=\"#009af9\" fill-rule=\"evenodd\" fill-opacity=\"1\" stroke=\"#000000\" stroke-opacity=\"1\" stroke-width=\"3.2\"/>\n",
       "<circle clip-path=\"url(#clip412)\" cx=\"1637.81\" cy=\"523.511\" r=\"14.4\" fill=\"#009af9\" fill-rule=\"evenodd\" fill-opacity=\"1\" stroke=\"#000000\" stroke-opacity=\"1\" stroke-width=\"3.2\"/>\n",
       "<circle clip-path=\"url(#clip412)\" cx=\"1405.96\" cy=\"790.153\" r=\"14.4\" fill=\"#009af9\" fill-rule=\"evenodd\" fill-opacity=\"1\" stroke=\"#000000\" stroke-opacity=\"1\" stroke-width=\"3.2\"/>\n",
       "<circle clip-path=\"url(#clip412)\" cx=\"1446.85\" cy=\"787.918\" r=\"14.4\" fill=\"#009af9\" fill-rule=\"evenodd\" fill-opacity=\"1\" stroke=\"#000000\" stroke-opacity=\"1\" stroke-width=\"3.2\"/>\n",
       "<circle clip-path=\"url(#clip412)\" cx=\"1453.73\" cy=\"929.065\" r=\"14.4\" fill=\"#009af9\" fill-rule=\"evenodd\" fill-opacity=\"1\" stroke=\"#000000\" stroke-opacity=\"1\" stroke-width=\"3.2\"/>\n",
       "<circle clip-path=\"url(#clip412)\" cx=\"1080.87\" cy=\"663.402\" r=\"14.4\" fill=\"#009af9\" fill-rule=\"evenodd\" fill-opacity=\"1\" stroke=\"#000000\" stroke-opacity=\"1\" stroke-width=\"3.2\"/>\n",
       "<circle clip-path=\"url(#clip412)\" cx=\"1420.84\" cy=\"605.156\" r=\"14.4\" fill=\"#009af9\" fill-rule=\"evenodd\" fill-opacity=\"1\" stroke=\"#000000\" stroke-opacity=\"1\" stroke-width=\"3.2\"/>\n",
       "<circle clip-path=\"url(#clip412)\" cx=\"930.021\" cy=\"821.757\" r=\"14.4\" fill=\"#009af9\" fill-rule=\"evenodd\" fill-opacity=\"1\" stroke=\"#000000\" stroke-opacity=\"1\" stroke-width=\"3.2\"/>\n",
       "<circle clip-path=\"url(#clip412)\" cx=\"893.294\" cy=\"744.912\" r=\"14.4\" fill=\"#009af9\" fill-rule=\"evenodd\" fill-opacity=\"1\" stroke=\"#000000\" stroke-opacity=\"1\" stroke-width=\"3.2\"/>\n",
       "<circle clip-path=\"url(#clip412)\" cx=\"1801.04\" cy=\"479.113\" r=\"14.4\" fill=\"#009af9\" fill-rule=\"evenodd\" fill-opacity=\"1\" stroke=\"#000000\" stroke-opacity=\"1\" stroke-width=\"3.2\"/>\n",
       "<circle clip-path=\"url(#clip412)\" cx=\"811.086\" cy=\"919.482\" r=\"14.4\" fill=\"#009af9\" fill-rule=\"evenodd\" fill-opacity=\"1\" stroke=\"#000000\" stroke-opacity=\"1\" stroke-width=\"3.2\"/>\n",
       "<circle clip-path=\"url(#clip412)\" cx=\"1350.23\" cy=\"802.705\" r=\"14.4\" fill=\"#009af9\" fill-rule=\"evenodd\" fill-opacity=\"1\" stroke=\"#000000\" stroke-opacity=\"1\" stroke-width=\"3.2\"/>\n",
       "<circle clip-path=\"url(#clip412)\" cx=\"890.538\" cy=\"873.196\" r=\"14.4\" fill=\"#009af9\" fill-rule=\"evenodd\" fill-opacity=\"1\" stroke=\"#000000\" stroke-opacity=\"1\" stroke-width=\"3.2\"/>\n",
       "<circle clip-path=\"url(#clip412)\" cx=\"1321.87\" cy=\"802.124\" r=\"14.4\" fill=\"#009af9\" fill-rule=\"evenodd\" fill-opacity=\"1\" stroke=\"#000000\" stroke-opacity=\"1\" stroke-width=\"3.2\"/>\n",
       "<circle clip-path=\"url(#clip412)\" cx=\"1265.6\" cy=\"770.637\" r=\"14.4\" fill=\"#009af9\" fill-rule=\"evenodd\" fill-opacity=\"1\" stroke=\"#000000\" stroke-opacity=\"1\" stroke-width=\"3.2\"/>\n",
       "<circle clip-path=\"url(#clip412)\" cx=\"1635.18\" cy=\"360.313\" r=\"14.4\" fill=\"#009af9\" fill-rule=\"evenodd\" fill-opacity=\"1\" stroke=\"#000000\" stroke-opacity=\"1\" stroke-width=\"3.2\"/>\n",
       "</svg>\n"
      ]
     },
     "execution_count": 10,
     "metadata": {},
     "output_type": "execute_result"
    }
   ],
   "source": [
    "scatter(log2.(agren.it09),log2.(agren.it10),lab=\"\")"
   ]
  },
  {
   "cell_type": "markdown",
   "metadata": {
    "slideshow": {
     "slide_type": "slide"
    }
   },
   "source": [
    "## Modeling: linear regression\n",
    "\n",
    "If we want to predict the fitness in 2011 using 2009 data, we can use linear regression.  The syntax is very similar to what you might use in R.  Notice the use of the `@formula` macro to express a formula.  This is another example of a domain-specific language."
   ]
  },
  {
   "cell_type": "code",
   "execution_count": 11,
   "metadata": {},
   "outputs": [
    {
     "data": {
      "text/plain": [
       "StatsModels.TableRegressionModel{LinearModel{GLM.LmResp{Vector{Float64}}, GLM.DensePredChol{Float64, LinearAlgebra.CholeskyPivoted{Float64, Matrix{Float64}, Vector{Int64}}}}, Matrix{Float64}}\n",
       "\n",
       "it11 ~ 1 + it09 + flc\n",
       "\n",
       "Coefficients:\n",
       "─────────────────────────────────────────────────────────────────────────\n",
       "                 Coef.  Std. Error      t  Pr(>|t|)  Lower 95%  Upper 95%\n",
       "─────────────────────────────────────────────────────────────────────────\n",
       "(Intercept)   1.32384    0.617786    2.14    0.0327   0.109246   2.53844\n",
       "it09          0.644665   0.0408089  15.80    <1e-43   0.564433   0.724897\n",
       "flc          -0.191375   0.19962    -0.96    0.3383  -0.583837   0.201088\n",
       "─────────────────────────────────────────────────────────────────────────"
      ]
     },
     "execution_count": 11,
     "metadata": {},
     "output_type": "execute_result"
    }
   ],
   "source": [
    "out0 = lm(@formula(it11~it09+flc),agren)"
   ]
  },
  {
   "cell_type": "markdown",
   "metadata": {},
   "source": [
    "## Extracting information\n",
    "\n",
    "We can get the coefficients and the variance-covariance matrix of the estimates using the `coef` and `vcov` functions."
   ]
  },
  {
   "cell_type": "code",
   "execution_count": 12,
   "metadata": {},
   "outputs": [
    {
     "data": {
      "text/plain": [
       "3-element Vector{Float64}:\n",
       "  1.3238442023474766\n",
       "  0.6446651610115701\n",
       " -0.19137472009472786"
      ]
     },
     "execution_count": 12,
     "metadata": {},
     "output_type": "execute_result"
    }
   ],
   "source": [
    "coef(out0)"
   ]
  },
  {
   "cell_type": "code",
   "execution_count": 13,
   "metadata": {},
   "outputs": [
    {
     "data": {
      "text/plain": [
       "3×3 Matrix{Float64}:\n",
       "  0.38166    -0.0215339    -0.0708066\n",
       " -0.0215339   0.00166536    0.000779437\n",
       " -0.0708066   0.000779437   0.0398481"
      ]
     },
     "execution_count": 13,
     "metadata": {},
     "output_type": "execute_result"
    }
   ],
   "source": [
    "vcov(out0)"
   ]
  },
  {
   "cell_type": "markdown",
   "metadata": {
    "slideshow": {
     "slide_type": "slide"
    }
   },
   "source": [
    "## Residual plots\n",
    "\n",
    "Residual plots are using the `resid` and `predict` functions."
   ]
  },
  {
   "cell_type": "code",
   "execution_count": 14,
   "metadata": {},
   "outputs": [
    {
     "data": {
      "image/svg+xml": [
       "<?xml version=\"1.0\" encoding=\"utf-8\"?>\n",
       "<svg xmlns=\"http://www.w3.org/2000/svg\" xmlns:xlink=\"http://www.w3.org/1999/xlink\" width=\"600\" height=\"400\" viewBox=\"0 0 2400 1600\">\n",
       "<defs>\n",
       "  <clipPath id=\"clip450\">\n",
       "    <rect x=\"0\" y=\"0\" width=\"2400\" height=\"1600\"/>\n",
       "  </clipPath>\n",
       "</defs>\n",
       "<path clip-path=\"url(#clip450)\" d=\"M0 1600 L2400 1600 L2400 0 L0 0  Z\" fill=\"#ffffff\" fill-rule=\"evenodd\" fill-opacity=\"1\"/>\n",
       "<defs>\n",
       "  <clipPath id=\"clip451\">\n",
       "    <rect x=\"480\" y=\"0\" width=\"1681\" height=\"1600\"/>\n",
       "  </clipPath>\n",
       "</defs>\n",
       "<path clip-path=\"url(#clip450)\" d=\"M139.446 1486.45 L2352.76 1486.45 L2352.76 47.2441 L139.446 47.2441  Z\" fill=\"#ffffff\" fill-rule=\"evenodd\" fill-opacity=\"1\"/>\n",
       "<defs>\n",
       "  <clipPath id=\"clip452\">\n",
       "    <rect x=\"139\" y=\"47\" width=\"2214\" height=\"1440\"/>\n",
       "  </clipPath>\n",
       "</defs>\n",
       "<polyline clip-path=\"url(#clip452)\" style=\"stroke:#000000; stroke-linecap:round; stroke-linejoin:round; stroke-width:2; stroke-opacity:0.1; fill:none\" points=\"504.621,1486.45 504.621,47.2441 \"/>\n",
       "<polyline clip-path=\"url(#clip452)\" style=\"stroke:#000000; stroke-linecap:round; stroke-linejoin:round; stroke-width:2; stroke-opacity:0.1; fill:none\" points=\"921.247,1486.45 921.247,47.2441 \"/>\n",
       "<polyline clip-path=\"url(#clip452)\" style=\"stroke:#000000; stroke-linecap:round; stroke-linejoin:round; stroke-width:2; stroke-opacity:0.1; fill:none\" points=\"1337.87,1486.45 1337.87,47.2441 \"/>\n",
       "<polyline clip-path=\"url(#clip452)\" style=\"stroke:#000000; stroke-linecap:round; stroke-linejoin:round; stroke-width:2; stroke-opacity:0.1; fill:none\" points=\"1754.5,1486.45 1754.5,47.2441 \"/>\n",
       "<polyline clip-path=\"url(#clip452)\" style=\"stroke:#000000; stroke-linecap:round; stroke-linejoin:round; stroke-width:2; stroke-opacity:0.1; fill:none\" points=\"2171.13,1486.45 2171.13,47.2441 \"/>\n",
       "<polyline clip-path=\"url(#clip450)\" style=\"stroke:#000000; stroke-linecap:round; stroke-linejoin:round; stroke-width:4; stroke-opacity:1; fill:none\" points=\"139.446,1486.45 2352.76,1486.45 \"/>\n",
       "<polyline clip-path=\"url(#clip450)\" style=\"stroke:#000000; stroke-linecap:round; stroke-linejoin:round; stroke-width:4; stroke-opacity:1; fill:none\" points=\"504.621,1486.45 504.621,1467.55 \"/>\n",
       "<polyline clip-path=\"url(#clip450)\" style=\"stroke:#000000; stroke-linecap:round; stroke-linejoin:round; stroke-width:4; stroke-opacity:1; fill:none\" points=\"921.247,1486.45 921.247,1467.55 \"/>\n",
       "<polyline clip-path=\"url(#clip450)\" style=\"stroke:#000000; stroke-linecap:round; stroke-linejoin:round; stroke-width:4; stroke-opacity:1; fill:none\" points=\"1337.87,1486.45 1337.87,1467.55 \"/>\n",
       "<polyline clip-path=\"url(#clip450)\" style=\"stroke:#000000; stroke-linecap:round; stroke-linejoin:round; stroke-width:4; stroke-opacity:1; fill:none\" points=\"1754.5,1486.45 1754.5,1467.55 \"/>\n",
       "<polyline clip-path=\"url(#clip450)\" style=\"stroke:#000000; stroke-linecap:round; stroke-linejoin:round; stroke-width:4; stroke-opacity:1; fill:none\" points=\"2171.13,1486.45 2171.13,1467.55 \"/>\n",
       "<path clip-path=\"url(#clip450)\" d=\"M474.089 1532.02 L503.765 1532.02 L503.765 1535.95 L474.089 1535.95 L474.089 1532.02 Z\" fill=\"#000000\" fill-rule=\"nonzero\" fill-opacity=\"1\" /><path clip-path=\"url(#clip450)\" d=\"M528.024 1530.21 Q531.38 1530.93 533.255 1533.2 Q535.153 1535.47 535.153 1538.8 Q535.153 1543.92 531.635 1546.72 Q528.116 1549.52 521.635 1549.52 Q519.459 1549.52 517.144 1549.08 Q514.853 1548.66 512.399 1547.81 L512.399 1543.29 Q514.343 1544.43 516.658 1545.01 Q518.973 1545.58 521.496 1545.58 Q525.894 1545.58 528.186 1543.85 Q530.501 1542.11 530.501 1538.8 Q530.501 1535.75 528.348 1534.03 Q526.218 1532.3 522.399 1532.3 L518.371 1532.3 L518.371 1528.45 L522.584 1528.45 Q526.033 1528.45 527.862 1527.09 Q529.69 1525.7 529.69 1523.11 Q529.69 1520.45 527.792 1519.03 Q525.917 1517.6 522.399 1517.6 Q520.477 1517.6 518.278 1518.01 Q516.079 1518.43 513.44 1519.31 L513.44 1515.14 Q516.103 1514.4 518.417 1514.03 Q520.755 1513.66 522.815 1513.66 Q528.139 1513.66 531.241 1516.09 Q534.343 1518.5 534.343 1522.62 Q534.343 1525.49 532.7 1527.48 Q531.056 1529.45 528.024 1530.21 Z\" fill=\"#000000\" fill-rule=\"nonzero\" fill-opacity=\"1\" /><path clip-path=\"url(#clip450)\" d=\"M921.247 1517.37 Q917.636 1517.37 915.808 1520.93 Q914.002 1524.47 914.002 1531.6 Q914.002 1538.71 915.808 1542.27 Q917.636 1545.82 921.247 1545.82 Q924.882 1545.82 926.687 1542.27 Q928.516 1538.71 928.516 1531.6 Q928.516 1524.47 926.687 1520.93 Q924.882 1517.37 921.247 1517.37 M921.247 1513.66 Q927.058 1513.66 930.113 1518.27 Q933.192 1522.85 933.192 1531.6 Q933.192 1540.33 930.113 1544.94 Q927.058 1549.52 921.247 1549.52 Q915.437 1549.52 912.359 1544.94 Q909.303 1540.33 909.303 1531.6 Q909.303 1522.85 912.359 1518.27 Q915.437 1513.66 921.247 1513.66 Z\" fill=\"#000000\" fill-rule=\"nonzero\" fill-opacity=\"1\" /><path clip-path=\"url(#clip450)\" d=\"M1342.12 1530.21 Q1345.48 1530.93 1347.35 1533.2 Q1349.25 1535.47 1349.25 1538.8 Q1349.25 1543.92 1345.73 1546.72 Q1342.21 1549.52 1335.73 1549.52 Q1333.56 1549.52 1331.24 1549.08 Q1328.95 1548.66 1326.5 1547.81 L1326.5 1543.29 Q1328.44 1544.43 1330.76 1545.01 Q1333.07 1545.58 1335.59 1545.58 Q1339.99 1545.58 1342.28 1543.85 Q1344.6 1542.11 1344.6 1538.8 Q1344.6 1535.75 1342.45 1534.03 Q1340.32 1532.3 1336.5 1532.3 L1332.47 1532.3 L1332.47 1528.45 L1336.68 1528.45 Q1340.13 1528.45 1341.96 1527.09 Q1343.79 1525.7 1343.79 1523.11 Q1343.79 1520.45 1341.89 1519.03 Q1340.01 1517.6 1336.5 1517.6 Q1334.58 1517.6 1332.38 1518.01 Q1330.18 1518.43 1327.54 1519.31 L1327.54 1515.14 Q1330.2 1514.4 1332.51 1514.03 Q1334.85 1513.66 1336.91 1513.66 Q1342.24 1513.66 1345.34 1516.09 Q1348.44 1518.5 1348.44 1522.62 Q1348.44 1525.49 1346.8 1527.48 Q1345.15 1529.45 1342.12 1530.21 Z\" fill=\"#000000\" fill-rule=\"nonzero\" fill-opacity=\"1\" /><path clip-path=\"url(#clip450)\" d=\"M1754.91 1529.7 Q1751.76 1529.7 1749.91 1531.86 Q1748.08 1534.01 1748.08 1537.76 Q1748.08 1541.49 1749.91 1543.66 Q1751.76 1545.82 1754.91 1545.82 Q1758.05 1545.82 1759.88 1543.66 Q1761.73 1541.49 1761.73 1537.76 Q1761.73 1534.01 1759.88 1531.86 Q1758.05 1529.7 1754.91 1529.7 M1764.19 1515.05 L1764.19 1519.31 Q1762.43 1518.48 1760.62 1518.04 Q1758.84 1517.6 1757.08 1517.6 Q1752.45 1517.6 1750 1520.72 Q1747.57 1523.85 1747.22 1530.17 Q1748.59 1528.15 1750.65 1527.09 Q1752.71 1526 1755.18 1526 Q1760.39 1526 1763.4 1529.17 Q1766.43 1532.32 1766.43 1537.76 Q1766.43 1543.08 1763.28 1546.3 Q1760.14 1549.52 1754.91 1549.52 Q1748.91 1549.52 1745.74 1544.94 Q1742.57 1540.33 1742.57 1531.6 Q1742.57 1523.41 1746.46 1518.55 Q1750.34 1513.66 1756.9 1513.66 Q1758.66 1513.66 1760.44 1514.01 Q1762.24 1514.36 1764.19 1515.05 Z\" fill=\"#000000\" fill-rule=\"nonzero\" fill-opacity=\"1\" /><path clip-path=\"url(#clip450)\" d=\"M2161.43 1548.13 L2161.43 1543.87 Q2163.19 1544.7 2164.99 1545.14 Q2166.8 1545.58 2168.53 1545.58 Q2173.16 1545.58 2175.59 1542.48 Q2178.05 1539.36 2178.39 1533.01 Q2177.05 1535.01 2174.99 1536.07 Q2172.93 1537.13 2170.43 1537.13 Q2165.25 1537.13 2162.21 1534.01 Q2159.2 1530.86 2159.2 1525.42 Q2159.2 1520.1 2162.35 1516.88 Q2165.5 1513.66 2170.73 1513.66 Q2176.73 1513.66 2179.88 1518.27 Q2183.05 1522.85 2183.05 1531.6 Q2183.05 1539.77 2179.16 1544.66 Q2175.29 1549.52 2168.74 1549.52 Q2166.98 1549.52 2165.18 1549.17 Q2163.37 1548.82 2161.43 1548.13 M2170.73 1533.48 Q2173.88 1533.48 2175.71 1531.32 Q2177.56 1529.17 2177.56 1525.42 Q2177.56 1521.7 2175.71 1519.54 Q2173.88 1517.37 2170.73 1517.37 Q2167.58 1517.37 2165.73 1519.54 Q2163.9 1521.7 2163.9 1525.42 Q2163.9 1529.17 2165.73 1531.32 Q2167.58 1533.48 2170.73 1533.48 Z\" fill=\"#000000\" fill-rule=\"nonzero\" fill-opacity=\"1\" /><polyline clip-path=\"url(#clip452)\" style=\"stroke:#000000; stroke-linecap:round; stroke-linejoin:round; stroke-width:2; stroke-opacity:0.1; fill:none\" points=\"139.446,1300.75 2352.76,1300.75 \"/>\n",
       "<polyline clip-path=\"url(#clip452)\" style=\"stroke:#000000; stroke-linecap:round; stroke-linejoin:round; stroke-width:2; stroke-opacity:0.1; fill:none\" points=\"139.446,1012.25 2352.76,1012.25 \"/>\n",
       "<polyline clip-path=\"url(#clip452)\" style=\"stroke:#000000; stroke-linecap:round; stroke-linejoin:round; stroke-width:2; stroke-opacity:0.1; fill:none\" points=\"139.446,723.751 2352.76,723.751 \"/>\n",
       "<polyline clip-path=\"url(#clip452)\" style=\"stroke:#000000; stroke-linecap:round; stroke-linejoin:round; stroke-width:2; stroke-opacity:0.1; fill:none\" points=\"139.446,435.251 2352.76,435.251 \"/>\n",
       "<polyline clip-path=\"url(#clip452)\" style=\"stroke:#000000; stroke-linecap:round; stroke-linejoin:round; stroke-width:2; stroke-opacity:0.1; fill:none\" points=\"139.446,146.751 2352.76,146.751 \"/>\n",
       "<polyline clip-path=\"url(#clip450)\" style=\"stroke:#000000; stroke-linecap:round; stroke-linejoin:round; stroke-width:4; stroke-opacity:1; fill:none\" points=\"139.446,1486.45 139.446,47.2441 \"/>\n",
       "<polyline clip-path=\"url(#clip450)\" style=\"stroke:#000000; stroke-linecap:round; stroke-linejoin:round; stroke-width:4; stroke-opacity:1; fill:none\" points=\"139.446,1300.75 158.343,1300.75 \"/>\n",
       "<polyline clip-path=\"url(#clip450)\" style=\"stroke:#000000; stroke-linecap:round; stroke-linejoin:round; stroke-width:4; stroke-opacity:1; fill:none\" points=\"139.446,1012.25 158.343,1012.25 \"/>\n",
       "<polyline clip-path=\"url(#clip450)\" style=\"stroke:#000000; stroke-linecap:round; stroke-linejoin:round; stroke-width:4; stroke-opacity:1; fill:none\" points=\"139.446,723.751 158.343,723.751 \"/>\n",
       "<polyline clip-path=\"url(#clip450)\" style=\"stroke:#000000; stroke-linecap:round; stroke-linejoin:round; stroke-width:4; stroke-opacity:1; fill:none\" points=\"139.446,435.251 158.343,435.251 \"/>\n",
       "<polyline clip-path=\"url(#clip450)\" style=\"stroke:#000000; stroke-linecap:round; stroke-linejoin:round; stroke-width:4; stroke-opacity:1; fill:none\" points=\"139.446,146.751 158.343,146.751 \"/>\n",
       "<path clip-path=\"url(#clip450)\" d=\"M91.9178 1298.89 Q88.7697 1298.89 86.9179 1301.04 Q85.0892 1303.19 85.0892 1306.94 Q85.0892 1310.67 86.9179 1312.85 Q88.7697 1315 91.9178 1315 Q95.066 1315 96.8947 1312.85 Q98.7465 1310.67 98.7465 1306.94 Q98.7465 1303.19 96.8947 1301.04 Q95.066 1298.89 91.9178 1298.89 M101.2 1284.24 L101.2 1288.49 Q99.4409 1287.66 97.6354 1287.22 Q95.853 1286.78 94.0937 1286.78 Q89.4641 1286.78 87.0105 1289.91 Q84.5799 1293.03 84.2327 1299.35 Q85.5984 1297.34 87.6586 1296.27 Q89.7188 1295.18 92.1956 1295.18 Q97.4039 1295.18 100.413 1298.36 Q103.446 1301.5 103.446 1306.94 Q103.446 1312.27 100.297 1315.48 Q97.1493 1318.7 91.9178 1318.7 Q85.9225 1318.7 82.7512 1314.12 Q79.5799 1309.51 79.5799 1300.79 Q79.5799 1292.59 83.4688 1287.73 Q87.3577 1282.85 93.9086 1282.85 Q95.6678 1282.85 97.4502 1283.19 Q99.2558 1283.54 101.2 1284.24 Z\" fill=\"#000000\" fill-rule=\"nonzero\" fill-opacity=\"1\" /><path clip-path=\"url(#clip450)\" d=\"M91.5938 1013.12 Q88.2604 1013.12 86.3392 1014.9 Q84.441 1016.68 84.441 1019.81 Q84.441 1022.93 86.3392 1024.72 Q88.2604 1026.5 91.5938 1026.5 Q94.9271 1026.5 96.8484 1024.72 Q98.7696 1022.91 98.7696 1019.81 Q98.7696 1016.68 96.8484 1014.9 Q94.9502 1013.12 91.5938 1013.12 M86.9179 1011.13 Q83.9086 1010.39 82.2188 1008.33 Q80.5522 1006.27 80.5522 1003.3 Q80.5522 999.161 83.492 996.754 Q86.4549 994.346 91.5938 994.346 Q96.7558 994.346 99.6956 996.754 Q102.635 999.161 102.635 1003.3 Q102.635 1006.27 100.946 1008.33 Q99.2789 1010.39 96.2928 1011.13 Q99.6724 1011.92 101.547 1014.21 Q103.446 1016.5 103.446 1019.81 Q103.446 1024.83 100.367 1027.52 Q97.3113 1030.2 91.5938 1030.2 Q85.8762 1030.2 82.7975 1027.52 Q79.742 1024.83 79.742 1019.81 Q79.742 1016.5 81.6401 1014.21 Q83.5382 1011.92 86.9179 1011.13 M85.2049 1003.74 Q85.2049 1006.43 86.8716 1007.93 Q88.5614 1009.44 91.5938 1009.44 Q94.603 1009.44 96.2928 1007.93 Q98.0058 1006.43 98.0058 1003.74 Q98.0058 1001.06 96.2928 999.555 Q94.603 998.05 91.5938 998.05 Q88.5614 998.05 86.8716 999.555 Q85.2049 1001.06 85.2049 1003.74 Z\" fill=\"#000000\" fill-rule=\"nonzero\" fill-opacity=\"1\" /><path clip-path=\"url(#clip450)\" d=\"M52.1495 737.096 L59.7884 737.096 L59.7884 710.73 L51.4782 712.397 L51.4782 708.138 L59.7421 706.471 L64.418 706.471 L64.418 737.096 L72.0568 737.096 L72.0568 741.031 L52.1495 741.031 L52.1495 737.096 Z\" fill=\"#000000\" fill-rule=\"nonzero\" fill-opacity=\"1\" /><path clip-path=\"url(#clip450)\" d=\"M91.5012 709.55 Q87.8901 709.55 86.0614 713.115 Q84.2558 716.656 84.2558 723.786 Q84.2558 730.892 86.0614 734.457 Q87.8901 737.999 91.5012 737.999 Q95.1354 737.999 96.941 734.457 Q98.7696 730.892 98.7696 723.786 Q98.7696 716.656 96.941 713.115 Q95.1354 709.55 91.5012 709.55 M91.5012 705.846 Q97.3113 705.846 100.367 710.453 Q103.446 715.036 103.446 723.786 Q103.446 732.513 100.367 737.119 Q97.3113 741.703 91.5012 741.703 Q85.691 741.703 82.6123 737.119 Q79.5568 732.513 79.5568 723.786 Q79.5568 715.036 82.6123 710.453 Q85.691 705.846 91.5012 705.846 Z\" fill=\"#000000\" fill-rule=\"nonzero\" fill-opacity=\"1\" /><path clip-path=\"url(#clip450)\" d=\"M53.7467 448.596 L61.3856 448.596 L61.3856 422.23 L53.0754 423.897 L53.0754 419.638 L61.3393 417.971 L66.0152 417.971 L66.0152 448.596 L73.654 448.596 L73.654 452.531 L53.7467 452.531 L53.7467 448.596 Z\" fill=\"#000000\" fill-rule=\"nonzero\" fill-opacity=\"1\" /><path clip-path=\"url(#clip450)\" d=\"M87.1262 448.596 L103.446 448.596 L103.446 452.531 L81.5012 452.531 L81.5012 448.596 Q84.1632 445.841 88.7466 441.212 Q93.353 436.559 94.5336 435.217 Q96.7789 432.693 97.6585 430.957 Q98.5613 429.198 98.5613 427.508 Q98.5613 424.754 96.6169 423.018 Q94.6956 421.281 91.5938 421.281 Q89.3947 421.281 86.941 422.045 Q84.5105 422.809 81.7327 424.36 L81.7327 419.638 Q84.5568 418.504 87.0105 417.925 Q89.4641 417.346 91.5012 417.346 Q96.8715 417.346 100.066 420.031 Q103.26 422.717 103.26 427.207 Q103.26 429.337 102.45 431.258 Q101.663 433.156 99.5567 435.749 Q98.978 436.42 95.8761 439.638 Q92.7743 442.832 87.1262 448.596 Z\" fill=\"#000000\" fill-rule=\"nonzero\" fill-opacity=\"1\" /><path clip-path=\"url(#clip450)\" d=\"M51.6634 160.096 L59.3023 160.096 L59.3023 133.73 L50.9921 135.397 L50.9921 131.138 L59.256 129.471 L63.9319 129.471 L63.9319 160.096 L71.5707 160.096 L71.5707 164.031 L51.6634 164.031 L51.6634 160.096 Z\" fill=\"#000000\" fill-rule=\"nonzero\" fill-opacity=\"1\" /><path clip-path=\"url(#clip450)\" d=\"M93.8623 133.545 L82.0568 151.994 L93.8623 151.994 L93.8623 133.545 M92.6354 129.471 L98.515 129.471 L98.515 151.994 L103.446 151.994 L103.446 155.883 L98.515 155.883 L98.515 164.031 L93.8623 164.031 L93.8623 155.883 L78.2605 155.883 L78.2605 151.369 L92.6354 129.471 Z\" fill=\"#000000\" fill-rule=\"nonzero\" fill-opacity=\"1\" /><circle clip-path=\"url(#clip452)\" cx=\"1172.01\" cy=\"165.204\" r=\"14.4\" fill=\"#009af9\" fill-rule=\"evenodd\" fill-opacity=\"1\" stroke=\"#000000\" stroke-opacity=\"1\" stroke-width=\"3.2\"/>\n",
       "<circle clip-path=\"url(#clip452)\" cx=\"677.36\" cy=\"1445.72\" r=\"14.4\" fill=\"#009af9\" fill-rule=\"evenodd\" fill-opacity=\"1\" stroke=\"#000000\" stroke-opacity=\"1\" stroke-width=\"3.2\"/>\n",
       "<circle clip-path=\"url(#clip452)\" cx=\"1185.38\" cy=\"911.419\" r=\"14.4\" fill=\"#009af9\" fill-rule=\"evenodd\" fill-opacity=\"1\" stroke=\"#000000\" stroke-opacity=\"1\" stroke-width=\"3.2\"/>\n",
       "<circle clip-path=\"url(#clip452)\" cx=\"754.17\" cy=\"131.378\" r=\"14.4\" fill=\"#009af9\" fill-rule=\"evenodd\" fill-opacity=\"1\" stroke=\"#000000\" stroke-opacity=\"1\" stroke-width=\"3.2\"/>\n",
       "<circle clip-path=\"url(#clip452)\" cx=\"1501.72\" cy=\"596.118\" r=\"14.4\" fill=\"#009af9\" fill-rule=\"evenodd\" fill-opacity=\"1\" stroke=\"#000000\" stroke-opacity=\"1\" stroke-width=\"3.2\"/>\n",
       "<circle clip-path=\"url(#clip452)\" cx=\"847.771\" cy=\"216.579\" r=\"14.4\" fill=\"#009af9\" fill-rule=\"evenodd\" fill-opacity=\"1\" stroke=\"#000000\" stroke-opacity=\"1\" stroke-width=\"3.2\"/>\n",
       "<circle clip-path=\"url(#clip452)\" cx=\"1226.48\" cy=\"826.856\" r=\"14.4\" fill=\"#009af9\" fill-rule=\"evenodd\" fill-opacity=\"1\" stroke=\"#000000\" stroke-opacity=\"1\" stroke-width=\"3.2\"/>\n",
       "<circle clip-path=\"url(#clip452)\" cx=\"202.086\" cy=\"680.121\" r=\"14.4\" fill=\"#009af9\" fill-rule=\"evenodd\" fill-opacity=\"1\" stroke=\"#000000\" stroke-opacity=\"1\" stroke-width=\"3.2\"/>\n",
       "<circle clip-path=\"url(#clip452)\" cx=\"472.986\" cy=\"87.9763\" r=\"14.4\" fill=\"#009af9\" fill-rule=\"evenodd\" fill-opacity=\"1\" stroke=\"#000000\" stroke-opacity=\"1\" stroke-width=\"3.2\"/>\n",
       "<circle clip-path=\"url(#clip452)\" cx=\"795.421\" cy=\"550.89\" r=\"14.4\" fill=\"#009af9\" fill-rule=\"evenodd\" fill-opacity=\"1\" stroke=\"#000000\" stroke-opacity=\"1\" stroke-width=\"3.2\"/>\n",
       "<circle clip-path=\"url(#clip452)\" cx=\"706.717\" cy=\"988.591\" r=\"14.4\" fill=\"#009af9\" fill-rule=\"evenodd\" fill-opacity=\"1\" stroke=\"#000000\" stroke-opacity=\"1\" stroke-width=\"3.2\"/>\n",
       "<circle clip-path=\"url(#clip452)\" cx=\"865.906\" cy=\"904.128\" r=\"14.4\" fill=\"#009af9\" fill-rule=\"evenodd\" fill-opacity=\"1\" stroke=\"#000000\" stroke-opacity=\"1\" stroke-width=\"3.2\"/>\n",
       "<circle clip-path=\"url(#clip452)\" cx=\"1017.2\" cy=\"815.482\" r=\"14.4\" fill=\"#009af9\" fill-rule=\"evenodd\" fill-opacity=\"1\" stroke=\"#000000\" stroke-opacity=\"1\" stroke-width=\"3.2\"/>\n",
       "<circle clip-path=\"url(#clip452)\" cx=\"574.106\" cy=\"729.768\" r=\"14.4\" fill=\"#009af9\" fill-rule=\"evenodd\" fill-opacity=\"1\" stroke=\"#000000\" stroke-opacity=\"1\" stroke-width=\"3.2\"/>\n",
       "<circle clip-path=\"url(#clip452)\" cx=\"1095.58\" cy=\"430.336\" r=\"14.4\" fill=\"#009af9\" fill-rule=\"evenodd\" fill-opacity=\"1\" stroke=\"#000000\" stroke-opacity=\"1\" stroke-width=\"3.2\"/>\n",
       "<circle clip-path=\"url(#clip452)\" cx=\"874.458\" cy=\"603.36\" r=\"14.4\" fill=\"#009af9\" fill-rule=\"evenodd\" fill-opacity=\"1\" stroke=\"#000000\" stroke-opacity=\"1\" stroke-width=\"3.2\"/>\n",
       "<circle clip-path=\"url(#clip452)\" cx=\"692.187\" cy=\"789.86\" r=\"14.4\" fill=\"#009af9\" fill-rule=\"evenodd\" fill-opacity=\"1\" stroke=\"#000000\" stroke-opacity=\"1\" stroke-width=\"3.2\"/>\n",
       "<circle clip-path=\"url(#clip452)\" cx=\"1177.13\" cy=\"872.81\" r=\"14.4\" fill=\"#009af9\" fill-rule=\"evenodd\" fill-opacity=\"1\" stroke=\"#000000\" stroke-opacity=\"1\" stroke-width=\"3.2\"/>\n",
       "<circle clip-path=\"url(#clip452)\" cx=\"465.293\" cy=\"521.353\" r=\"14.4\" fill=\"#009af9\" fill-rule=\"evenodd\" fill-opacity=\"1\" stroke=\"#000000\" stroke-opacity=\"1\" stroke-width=\"3.2\"/>\n",
       "<circle clip-path=\"url(#clip452)\" cx=\"1623.89\" cy=\"656.603\" r=\"14.4\" fill=\"#009af9\" fill-rule=\"evenodd\" fill-opacity=\"1\" stroke=\"#000000\" stroke-opacity=\"1\" stroke-width=\"3.2\"/>\n",
       "<circle clip-path=\"url(#clip452)\" cx=\"759.677\" cy=\"860.427\" r=\"14.4\" fill=\"#009af9\" fill-rule=\"evenodd\" fill-opacity=\"1\" stroke=\"#000000\" stroke-opacity=\"1\" stroke-width=\"3.2\"/>\n",
       "<circle clip-path=\"url(#clip452)\" cx=\"679.178\" cy=\"661.62\" r=\"14.4\" fill=\"#009af9\" fill-rule=\"evenodd\" fill-opacity=\"1\" stroke=\"#000000\" stroke-opacity=\"1\" stroke-width=\"3.2\"/>\n",
       "<circle clip-path=\"url(#clip452)\" cx=\"1390.37\" cy=\"891.366\" r=\"14.4\" fill=\"#009af9\" fill-rule=\"evenodd\" fill-opacity=\"1\" stroke=\"#000000\" stroke-opacity=\"1\" stroke-width=\"3.2\"/>\n",
       "<circle clip-path=\"url(#clip452)\" cx=\"762.305\" cy=\"869.658\" r=\"14.4\" fill=\"#009af9\" fill-rule=\"evenodd\" fill-opacity=\"1\" stroke=\"#000000\" stroke-opacity=\"1\" stroke-width=\"3.2\"/>\n",
       "<circle clip-path=\"url(#clip452)\" cx=\"480.61\" cy=\"730.875\" r=\"14.4\" fill=\"#009af9\" fill-rule=\"evenodd\" fill-opacity=\"1\" stroke=\"#000000\" stroke-opacity=\"1\" stroke-width=\"3.2\"/>\n",
       "<circle clip-path=\"url(#clip452)\" cx=\"827.475\" cy=\"979.746\" r=\"14.4\" fill=\"#009af9\" fill-rule=\"evenodd\" fill-opacity=\"1\" stroke=\"#000000\" stroke-opacity=\"1\" stroke-width=\"3.2\"/>\n",
       "<circle clip-path=\"url(#clip452)\" cx=\"661.68\" cy=\"676.388\" r=\"14.4\" fill=\"#009af9\" fill-rule=\"evenodd\" fill-opacity=\"1\" stroke=\"#000000\" stroke-opacity=\"1\" stroke-width=\"3.2\"/>\n",
       "<circle clip-path=\"url(#clip452)\" cx=\"860.401\" cy=\"1113.45\" r=\"14.4\" fill=\"#009af9\" fill-rule=\"evenodd\" fill-opacity=\"1\" stroke=\"#000000\" stroke-opacity=\"1\" stroke-width=\"3.2\"/>\n",
       "<circle clip-path=\"url(#clip452)\" cx=\"1111.04\" cy=\"1133.44\" r=\"14.4\" fill=\"#009af9\" fill-rule=\"evenodd\" fill-opacity=\"1\" stroke=\"#000000\" stroke-opacity=\"1\" stroke-width=\"3.2\"/>\n",
       "<circle clip-path=\"url(#clip452)\" cx=\"605.922\" cy=\"644.534\" r=\"14.4\" fill=\"#009af9\" fill-rule=\"evenodd\" fill-opacity=\"1\" stroke=\"#000000\" stroke-opacity=\"1\" stroke-width=\"3.2\"/>\n",
       "<circle clip-path=\"url(#clip452)\" cx=\"876.401\" cy=\"683.937\" r=\"14.4\" fill=\"#009af9\" fill-rule=\"evenodd\" fill-opacity=\"1\" stroke=\"#000000\" stroke-opacity=\"1\" stroke-width=\"3.2\"/>\n",
       "<circle clip-path=\"url(#clip452)\" cx=\"1214.55\" cy=\"354.356\" r=\"14.4\" fill=\"#009af9\" fill-rule=\"evenodd\" fill-opacity=\"1\" stroke=\"#000000\" stroke-opacity=\"1\" stroke-width=\"3.2\"/>\n",
       "<circle clip-path=\"url(#clip452)\" cx=\"813.7\" cy=\"758.535\" r=\"14.4\" fill=\"#009af9\" fill-rule=\"evenodd\" fill-opacity=\"1\" stroke=\"#000000\" stroke-opacity=\"1\" stroke-width=\"3.2\"/>\n",
       "<circle clip-path=\"url(#clip452)\" cx=\"967.116\" cy=\"777.084\" r=\"14.4\" fill=\"#009af9\" fill-rule=\"evenodd\" fill-opacity=\"1\" stroke=\"#000000\" stroke-opacity=\"1\" stroke-width=\"3.2\"/>\n",
       "<circle clip-path=\"url(#clip452)\" cx=\"1193.58\" cy=\"882.104\" r=\"14.4\" fill=\"#009af9\" fill-rule=\"evenodd\" fill-opacity=\"1\" stroke=\"#000000\" stroke-opacity=\"1\" stroke-width=\"3.2\"/>\n",
       "<circle clip-path=\"url(#clip452)\" cx=\"975.112\" cy=\"992.097\" r=\"14.4\" fill=\"#009af9\" fill-rule=\"evenodd\" fill-opacity=\"1\" stroke=\"#000000\" stroke-opacity=\"1\" stroke-width=\"3.2\"/>\n",
       "<circle clip-path=\"url(#clip452)\" cx=\"782.781\" cy=\"1248.13\" r=\"14.4\" fill=\"#009af9\" fill-rule=\"evenodd\" fill-opacity=\"1\" stroke=\"#000000\" stroke-opacity=\"1\" stroke-width=\"3.2\"/>\n",
       "<circle clip-path=\"url(#clip452)\" cx=\"735.875\" cy=\"757.067\" r=\"14.4\" fill=\"#009af9\" fill-rule=\"evenodd\" fill-opacity=\"1\" stroke=\"#000000\" stroke-opacity=\"1\" stroke-width=\"3.2\"/>\n",
       "<circle clip-path=\"url(#clip452)\" cx=\"1258.09\" cy=\"841.821\" r=\"14.4\" fill=\"#009af9\" fill-rule=\"evenodd\" fill-opacity=\"1\" stroke=\"#000000\" stroke-opacity=\"1\" stroke-width=\"3.2\"/>\n",
       "<circle clip-path=\"url(#clip452)\" cx=\"369.829\" cy=\"707.886\" r=\"14.4\" fill=\"#009af9\" fill-rule=\"evenodd\" fill-opacity=\"1\" stroke=\"#000000\" stroke-opacity=\"1\" stroke-width=\"3.2\"/>\n",
       "<circle clip-path=\"url(#clip452)\" cx=\"775.743\" cy=\"465.836\" r=\"14.4\" fill=\"#009af9\" fill-rule=\"evenodd\" fill-opacity=\"1\" stroke=\"#000000\" stroke-opacity=\"1\" stroke-width=\"3.2\"/>\n",
       "<circle clip-path=\"url(#clip452)\" cx=\"756.577\" cy=\"549.04\" r=\"14.4\" fill=\"#009af9\" fill-rule=\"evenodd\" fill-opacity=\"1\" stroke=\"#000000\" stroke-opacity=\"1\" stroke-width=\"3.2\"/>\n",
       "<circle clip-path=\"url(#clip452)\" cx=\"1301.18\" cy=\"1143.93\" r=\"14.4\" fill=\"#009af9\" fill-rule=\"evenodd\" fill-opacity=\"1\" stroke=\"#000000\" stroke-opacity=\"1\" stroke-width=\"3.2\"/>\n",
       "<circle clip-path=\"url(#clip452)\" cx=\"940.392\" cy=\"924.358\" r=\"14.4\" fill=\"#009af9\" fill-rule=\"evenodd\" fill-opacity=\"1\" stroke=\"#000000\" stroke-opacity=\"1\" stroke-width=\"3.2\"/>\n",
       "<circle clip-path=\"url(#clip452)\" cx=\"889.38\" cy=\"755.154\" r=\"14.4\" fill=\"#009af9\" fill-rule=\"evenodd\" fill-opacity=\"1\" stroke=\"#000000\" stroke-opacity=\"1\" stroke-width=\"3.2\"/>\n",
       "<circle clip-path=\"url(#clip452)\" cx=\"1312.32\" cy=\"1023.06\" r=\"14.4\" fill=\"#009af9\" fill-rule=\"evenodd\" fill-opacity=\"1\" stroke=\"#000000\" stroke-opacity=\"1\" stroke-width=\"3.2\"/>\n",
       "<circle clip-path=\"url(#clip452)\" cx=\"727.502\" cy=\"963.359\" r=\"14.4\" fill=\"#009af9\" fill-rule=\"evenodd\" fill-opacity=\"1\" stroke=\"#000000\" stroke-opacity=\"1\" stroke-width=\"3.2\"/>\n",
       "<circle clip-path=\"url(#clip452)\" cx=\"1065.33\" cy=\"606.214\" r=\"14.4\" fill=\"#009af9\" fill-rule=\"evenodd\" fill-opacity=\"1\" stroke=\"#000000\" stroke-opacity=\"1\" stroke-width=\"3.2\"/>\n",
       "<circle clip-path=\"url(#clip452)\" cx=\"936.276\" cy=\"699.169\" r=\"14.4\" fill=\"#009af9\" fill-rule=\"evenodd\" fill-opacity=\"1\" stroke=\"#000000\" stroke-opacity=\"1\" stroke-width=\"3.2\"/>\n",
       "<circle clip-path=\"url(#clip452)\" cx=\"880.487\" cy=\"1070.94\" r=\"14.4\" fill=\"#009af9\" fill-rule=\"evenodd\" fill-opacity=\"1\" stroke=\"#000000\" stroke-opacity=\"1\" stroke-width=\"3.2\"/>\n",
       "<circle clip-path=\"url(#clip452)\" cx=\"1018.73\" cy=\"983.519\" r=\"14.4\" fill=\"#009af9\" fill-rule=\"evenodd\" fill-opacity=\"1\" stroke=\"#000000\" stroke-opacity=\"1\" stroke-width=\"3.2\"/>\n",
       "<circle clip-path=\"url(#clip452)\" cx=\"1391.18\" cy=\"723.464\" r=\"14.4\" fill=\"#009af9\" fill-rule=\"evenodd\" fill-opacity=\"1\" stroke=\"#000000\" stroke-opacity=\"1\" stroke-width=\"3.2\"/>\n",
       "<circle clip-path=\"url(#clip452)\" cx=\"1288.21\" cy=\"386.893\" r=\"14.4\" fill=\"#009af9\" fill-rule=\"evenodd\" fill-opacity=\"1\" stroke=\"#000000\" stroke-opacity=\"1\" stroke-width=\"3.2\"/>\n",
       "<circle clip-path=\"url(#clip452)\" cx=\"837.714\" cy=\"809.746\" r=\"14.4\" fill=\"#009af9\" fill-rule=\"evenodd\" fill-opacity=\"1\" stroke=\"#000000\" stroke-opacity=\"1\" stroke-width=\"3.2\"/>\n",
       "<circle clip-path=\"url(#clip452)\" cx=\"992.422\" cy=\"1131.28\" r=\"14.4\" fill=\"#009af9\" fill-rule=\"evenodd\" fill-opacity=\"1\" stroke=\"#000000\" stroke-opacity=\"1\" stroke-width=\"3.2\"/>\n",
       "<circle clip-path=\"url(#clip452)\" cx=\"1031.22\" cy=\"1141.25\" r=\"14.4\" fill=\"#009af9\" fill-rule=\"evenodd\" fill-opacity=\"1\" stroke=\"#000000\" stroke-opacity=\"1\" stroke-width=\"3.2\"/>\n",
       "<circle clip-path=\"url(#clip452)\" cx=\"852.27\" cy=\"839.504\" r=\"14.4\" fill=\"#009af9\" fill-rule=\"evenodd\" fill-opacity=\"1\" stroke=\"#000000\" stroke-opacity=\"1\" stroke-width=\"3.2\"/>\n",
       "<circle clip-path=\"url(#clip452)\" cx=\"1019.28\" cy=\"882.993\" r=\"14.4\" fill=\"#009af9\" fill-rule=\"evenodd\" fill-opacity=\"1\" stroke=\"#000000\" stroke-opacity=\"1\" stroke-width=\"3.2\"/>\n",
       "<circle clip-path=\"url(#clip452)\" cx=\"749.894\" cy=\"722.692\" r=\"14.4\" fill=\"#009af9\" fill-rule=\"evenodd\" fill-opacity=\"1\" stroke=\"#000000\" stroke-opacity=\"1\" stroke-width=\"3.2\"/>\n",
       "<circle clip-path=\"url(#clip452)\" cx=\"890.663\" cy=\"1200.52\" r=\"14.4\" fill=\"#009af9\" fill-rule=\"evenodd\" fill-opacity=\"1\" stroke=\"#000000\" stroke-opacity=\"1\" stroke-width=\"3.2\"/>\n",
       "<circle clip-path=\"url(#clip452)\" cx=\"728.919\" cy=\"1018.8\" r=\"14.4\" fill=\"#009af9\" fill-rule=\"evenodd\" fill-opacity=\"1\" stroke=\"#000000\" stroke-opacity=\"1\" stroke-width=\"3.2\"/>\n",
       "<circle clip-path=\"url(#clip452)\" cx=\"518.548\" cy=\"800.419\" r=\"14.4\" fill=\"#009af9\" fill-rule=\"evenodd\" fill-opacity=\"1\" stroke=\"#000000\" stroke-opacity=\"1\" stroke-width=\"3.2\"/>\n",
       "<circle clip-path=\"url(#clip452)\" cx=\"840.751\" cy=\"1159.38\" r=\"14.4\" fill=\"#009af9\" fill-rule=\"evenodd\" fill-opacity=\"1\" stroke=\"#000000\" stroke-opacity=\"1\" stroke-width=\"3.2\"/>\n",
       "<circle clip-path=\"url(#clip452)\" cx=\"759.062\" cy=\"653.518\" r=\"14.4\" fill=\"#009af9\" fill-rule=\"evenodd\" fill-opacity=\"1\" stroke=\"#000000\" stroke-opacity=\"1\" stroke-width=\"3.2\"/>\n",
       "<circle clip-path=\"url(#clip452)\" cx=\"1155.63\" cy=\"605.127\" r=\"14.4\" fill=\"#009af9\" fill-rule=\"evenodd\" fill-opacity=\"1\" stroke=\"#000000\" stroke-opacity=\"1\" stroke-width=\"3.2\"/>\n",
       "<circle clip-path=\"url(#clip452)\" cx=\"1415.33\" cy=\"894.721\" r=\"14.4\" fill=\"#009af9\" fill-rule=\"evenodd\" fill-opacity=\"1\" stroke=\"#000000\" stroke-opacity=\"1\" stroke-width=\"3.2\"/>\n",
       "<circle clip-path=\"url(#clip452)\" cx=\"1217.79\" cy=\"800.752\" r=\"14.4\" fill=\"#009af9\" fill-rule=\"evenodd\" fill-opacity=\"1\" stroke=\"#000000\" stroke-opacity=\"1\" stroke-width=\"3.2\"/>\n",
       "<circle clip-path=\"url(#clip452)\" cx=\"899.748\" cy=\"911.622\" r=\"14.4\" fill=\"#009af9\" fill-rule=\"evenodd\" fill-opacity=\"1\" stroke=\"#000000\" stroke-opacity=\"1\" stroke-width=\"3.2\"/>\n",
       "<circle clip-path=\"url(#clip452)\" cx=\"985.253\" cy=\"893.004\" r=\"14.4\" fill=\"#009af9\" fill-rule=\"evenodd\" fill-opacity=\"1\" stroke=\"#000000\" stroke-opacity=\"1\" stroke-width=\"3.2\"/>\n",
       "<circle clip-path=\"url(#clip452)\" cx=\"1122.06\" cy=\"738.588\" r=\"14.4\" fill=\"#009af9\" fill-rule=\"evenodd\" fill-opacity=\"1\" stroke=\"#000000\" stroke-opacity=\"1\" stroke-width=\"3.2\"/>\n",
       "<circle clip-path=\"url(#clip452)\" cx=\"1079.5\" cy=\"792.596\" r=\"14.4\" fill=\"#009af9\" fill-rule=\"evenodd\" fill-opacity=\"1\" stroke=\"#000000\" stroke-opacity=\"1\" stroke-width=\"3.2\"/>\n",
       "<circle clip-path=\"url(#clip452)\" cx=\"992.982\" cy=\"1099.79\" r=\"14.4\" fill=\"#009af9\" fill-rule=\"evenodd\" fill-opacity=\"1\" stroke=\"#000000\" stroke-opacity=\"1\" stroke-width=\"3.2\"/>\n",
       "<circle clip-path=\"url(#clip452)\" cx=\"765.718\" cy=\"909.031\" r=\"14.4\" fill=\"#009af9\" fill-rule=\"evenodd\" fill-opacity=\"1\" stroke=\"#000000\" stroke-opacity=\"1\" stroke-width=\"3.2\"/>\n",
       "<circle clip-path=\"url(#clip452)\" cx=\"909.057\" cy=\"389.131\" r=\"14.4\" fill=\"#009af9\" fill-rule=\"evenodd\" fill-opacity=\"1\" stroke=\"#000000\" stroke-opacity=\"1\" stroke-width=\"3.2\"/>\n",
       "<circle clip-path=\"url(#clip452)\" cx=\"430.8\" cy=\"830.997\" r=\"14.4\" fill=\"#009af9\" fill-rule=\"evenodd\" fill-opacity=\"1\" stroke=\"#000000\" stroke-opacity=\"1\" stroke-width=\"3.2\"/>\n",
       "<circle clip-path=\"url(#clip452)\" cx=\"989.982\" cy=\"944.582\" r=\"14.4\" fill=\"#009af9\" fill-rule=\"evenodd\" fill-opacity=\"1\" stroke=\"#000000\" stroke-opacity=\"1\" stroke-width=\"3.2\"/>\n",
       "<circle clip-path=\"url(#clip452)\" cx=\"729.33\" cy=\"755.653\" r=\"14.4\" fill=\"#009af9\" fill-rule=\"evenodd\" fill-opacity=\"1\" stroke=\"#000000\" stroke-opacity=\"1\" stroke-width=\"3.2\"/>\n",
       "<circle clip-path=\"url(#clip452)\" cx=\"701.445\" cy=\"680.955\" r=\"14.4\" fill=\"#009af9\" fill-rule=\"evenodd\" fill-opacity=\"1\" stroke=\"#000000\" stroke-opacity=\"1\" stroke-width=\"3.2\"/>\n",
       "<circle clip-path=\"url(#clip452)\" cx=\"645.78\" cy=\"670.016\" r=\"14.4\" fill=\"#009af9\" fill-rule=\"evenodd\" fill-opacity=\"1\" stroke=\"#000000\" stroke-opacity=\"1\" stroke-width=\"3.2\"/>\n",
       "<circle clip-path=\"url(#clip452)\" cx=\"885.09\" cy=\"974.25\" r=\"14.4\" fill=\"#009af9\" fill-rule=\"evenodd\" fill-opacity=\"1\" stroke=\"#000000\" stroke-opacity=\"1\" stroke-width=\"3.2\"/>\n",
       "<circle clip-path=\"url(#clip452)\" cx=\"508.506\" cy=\"829.449\" r=\"14.4\" fill=\"#009af9\" fill-rule=\"evenodd\" fill-opacity=\"1\" stroke=\"#000000\" stroke-opacity=\"1\" stroke-width=\"3.2\"/>\n",
       "<circle clip-path=\"url(#clip452)\" cx=\"856.609\" cy=\"1050.58\" r=\"14.4\" fill=\"#009af9\" fill-rule=\"evenodd\" fill-opacity=\"1\" stroke=\"#000000\" stroke-opacity=\"1\" stroke-width=\"3.2\"/>\n",
       "<circle clip-path=\"url(#clip452)\" cx=\"1314.89\" cy=\"567.053\" r=\"14.4\" fill=\"#009af9\" fill-rule=\"evenodd\" fill-opacity=\"1\" stroke=\"#000000\" stroke-opacity=\"1\" stroke-width=\"3.2\"/>\n",
       "<circle clip-path=\"url(#clip452)\" cx=\"589.179\" cy=\"853\" r=\"14.4\" fill=\"#009af9\" fill-rule=\"evenodd\" fill-opacity=\"1\" stroke=\"#000000\" stroke-opacity=\"1\" stroke-width=\"3.2\"/>\n",
       "<circle clip-path=\"url(#clip452)\" cx=\"985.02\" cy=\"713.948\" r=\"14.4\" fill=\"#009af9\" fill-rule=\"evenodd\" fill-opacity=\"1\" stroke=\"#000000\" stroke-opacity=\"1\" stroke-width=\"3.2\"/>\n",
       "<circle clip-path=\"url(#clip452)\" cx=\"470.258\" cy=\"594.123\" r=\"14.4\" fill=\"#009af9\" fill-rule=\"evenodd\" fill-opacity=\"1\" stroke=\"#000000\" stroke-opacity=\"1\" stroke-width=\"3.2\"/>\n",
       "<circle clip-path=\"url(#clip452)\" cx=\"809.623\" cy=\"578.52\" r=\"14.4\" fill=\"#009af9\" fill-rule=\"evenodd\" fill-opacity=\"1\" stroke=\"#000000\" stroke-opacity=\"1\" stroke-width=\"3.2\"/>\n",
       "<circle clip-path=\"url(#clip452)\" cx=\"827.993\" cy=\"1074.14\" r=\"14.4\" fill=\"#009af9\" fill-rule=\"evenodd\" fill-opacity=\"1\" stroke=\"#000000\" stroke-opacity=\"1\" stroke-width=\"3.2\"/>\n",
       "<circle clip-path=\"url(#clip452)\" cx=\"728.711\" cy=\"1210.88\" r=\"14.4\" fill=\"#009af9\" fill-rule=\"evenodd\" fill-opacity=\"1\" stroke=\"#000000\" stroke-opacity=\"1\" stroke-width=\"3.2\"/>\n",
       "<circle clip-path=\"url(#clip452)\" cx=\"1456.65\" cy=\"532.768\" r=\"14.4\" fill=\"#009af9\" fill-rule=\"evenodd\" fill-opacity=\"1\" stroke=\"#000000\" stroke-opacity=\"1\" stroke-width=\"3.2\"/>\n",
       "<circle clip-path=\"url(#clip452)\" cx=\"615.213\" cy=\"1011.79\" r=\"14.4\" fill=\"#009af9\" fill-rule=\"evenodd\" fill-opacity=\"1\" stroke=\"#000000\" stroke-opacity=\"1\" stroke-width=\"3.2\"/>\n",
       "<circle clip-path=\"url(#clip452)\" cx=\"1447.95\" cy=\"632.906\" r=\"14.4\" fill=\"#009af9\" fill-rule=\"evenodd\" fill-opacity=\"1\" stroke=\"#000000\" stroke-opacity=\"1\" stroke-width=\"3.2\"/>\n",
       "<circle clip-path=\"url(#clip452)\" cx=\"1127.88\" cy=\"854.189\" r=\"14.4\" fill=\"#009af9\" fill-rule=\"evenodd\" fill-opacity=\"1\" stroke=\"#000000\" stroke-opacity=\"1\" stroke-width=\"3.2\"/>\n",
       "<circle clip-path=\"url(#clip452)\" cx=\"1211.33\" cy=\"730.932\" r=\"14.4\" fill=\"#009af9\" fill-rule=\"evenodd\" fill-opacity=\"1\" stroke=\"#000000\" stroke-opacity=\"1\" stroke-width=\"3.2\"/>\n",
       "<circle clip-path=\"url(#clip452)\" cx=\"968.532\" cy=\"1061.37\" r=\"14.4\" fill=\"#009af9\" fill-rule=\"evenodd\" fill-opacity=\"1\" stroke=\"#000000\" stroke-opacity=\"1\" stroke-width=\"3.2\"/>\n",
       "<circle clip-path=\"url(#clip452)\" cx=\"625.682\" cy=\"584.428\" r=\"14.4\" fill=\"#009af9\" fill-rule=\"evenodd\" fill-opacity=\"1\" stroke=\"#000000\" stroke-opacity=\"1\" stroke-width=\"3.2\"/>\n",
       "<circle clip-path=\"url(#clip452)\" cx=\"1031.8\" cy=\"640.937\" r=\"14.4\" fill=\"#009af9\" fill-rule=\"evenodd\" fill-opacity=\"1\" stroke=\"#000000\" stroke-opacity=\"1\" stroke-width=\"3.2\"/>\n",
       "<circle clip-path=\"url(#clip452)\" cx=\"380.822\" cy=\"830.354\" r=\"14.4\" fill=\"#009af9\" fill-rule=\"evenodd\" fill-opacity=\"1\" stroke=\"#000000\" stroke-opacity=\"1\" stroke-width=\"3.2\"/>\n",
       "<circle clip-path=\"url(#clip452)\" cx=\"1012.31\" cy=\"979.065\" r=\"14.4\" fill=\"#009af9\" fill-rule=\"evenodd\" fill-opacity=\"1\" stroke=\"#000000\" stroke-opacity=\"1\" stroke-width=\"3.2\"/>\n",
       "<circle clip-path=\"url(#clip452)\" cx=\"975.169\" cy=\"848.496\" r=\"14.4\" fill=\"#009af9\" fill-rule=\"evenodd\" fill-opacity=\"1\" stroke=\"#000000\" stroke-opacity=\"1\" stroke-width=\"3.2\"/>\n",
       "<circle clip-path=\"url(#clip452)\" cx=\"928.537\" cy=\"829.588\" r=\"14.4\" fill=\"#009af9\" fill-rule=\"evenodd\" fill-opacity=\"1\" stroke=\"#000000\" stroke-opacity=\"1\" stroke-width=\"3.2\"/>\n",
       "<circle clip-path=\"url(#clip452)\" cx=\"1126.56\" cy=\"962.879\" r=\"14.4\" fill=\"#009af9\" fill-rule=\"evenodd\" fill-opacity=\"1\" stroke=\"#000000\" stroke-opacity=\"1\" stroke-width=\"3.2\"/>\n",
       "<circle clip-path=\"url(#clip452)\" cx=\"585.76\" cy=\"938.709\" r=\"14.4\" fill=\"#009af9\" fill-rule=\"evenodd\" fill-opacity=\"1\" stroke=\"#000000\" stroke-opacity=\"1\" stroke-width=\"3.2\"/>\n",
       "<circle clip-path=\"url(#clip452)\" cx=\"439.537\" cy=\"516.144\" r=\"14.4\" fill=\"#009af9\" fill-rule=\"evenodd\" fill-opacity=\"1\" stroke=\"#000000\" stroke-opacity=\"1\" stroke-width=\"3.2\"/>\n",
       "<circle clip-path=\"url(#clip452)\" cx=\"994.178\" cy=\"912.193\" r=\"14.4\" fill=\"#009af9\" fill-rule=\"evenodd\" fill-opacity=\"1\" stroke=\"#000000\" stroke-opacity=\"1\" stroke-width=\"3.2\"/>\n",
       "<circle clip-path=\"url(#clip452)\" cx=\"877.29\" cy=\"1005.36\" r=\"14.4\" fill=\"#009af9\" fill-rule=\"evenodd\" fill-opacity=\"1\" stroke=\"#000000\" stroke-opacity=\"1\" stroke-width=\"3.2\"/>\n",
       "<circle clip-path=\"url(#clip452)\" cx=\"1071.94\" cy=\"631.994\" r=\"14.4\" fill=\"#009af9\" fill-rule=\"evenodd\" fill-opacity=\"1\" stroke=\"#000000\" stroke-opacity=\"1\" stroke-width=\"3.2\"/>\n",
       "<circle clip-path=\"url(#clip452)\" cx=\"855.153\" cy=\"509.675\" r=\"14.4\" fill=\"#009af9\" fill-rule=\"evenodd\" fill-opacity=\"1\" stroke=\"#000000\" stroke-opacity=\"1\" stroke-width=\"3.2\"/>\n",
       "<circle clip-path=\"url(#clip452)\" cx=\"739.125\" cy=\"1103.86\" r=\"14.4\" fill=\"#009af9\" fill-rule=\"evenodd\" fill-opacity=\"1\" stroke=\"#000000\" stroke-opacity=\"1\" stroke-width=\"3.2\"/>\n",
       "<circle clip-path=\"url(#clip452)\" cx=\"1062.41\" cy=\"973.732\" r=\"14.4\" fill=\"#009af9\" fill-rule=\"evenodd\" fill-opacity=\"1\" stroke=\"#000000\" stroke-opacity=\"1\" stroke-width=\"3.2\"/>\n",
       "<circle clip-path=\"url(#clip452)\" cx=\"665.888\" cy=\"976.455\" r=\"14.4\" fill=\"#009af9\" fill-rule=\"evenodd\" fill-opacity=\"1\" stroke=\"#000000\" stroke-opacity=\"1\" stroke-width=\"3.2\"/>\n",
       "<circle clip-path=\"url(#clip452)\" cx=\"1610.94\" cy=\"918.833\" r=\"14.4\" fill=\"#009af9\" fill-rule=\"evenodd\" fill-opacity=\"1\" stroke=\"#000000\" stroke-opacity=\"1\" stroke-width=\"3.2\"/>\n",
       "<circle clip-path=\"url(#clip452)\" cx=\"1073.3\" cy=\"1299.28\" r=\"14.4\" fill=\"#009af9\" fill-rule=\"evenodd\" fill-opacity=\"1\" stroke=\"#000000\" stroke-opacity=\"1\" stroke-width=\"3.2\"/>\n",
       "<circle clip-path=\"url(#clip452)\" cx=\"713.069\" cy=\"890.372\" r=\"14.4\" fill=\"#009af9\" fill-rule=\"evenodd\" fill-opacity=\"1\" stroke=\"#000000\" stroke-opacity=\"1\" stroke-width=\"3.2\"/>\n",
       "<circle clip-path=\"url(#clip452)\" cx=\"694.914\" cy=\"1027.83\" r=\"14.4\" fill=\"#009af9\" fill-rule=\"evenodd\" fill-opacity=\"1\" stroke=\"#000000\" stroke-opacity=\"1\" stroke-width=\"3.2\"/>\n",
       "<circle clip-path=\"url(#clip452)\" cx=\"808.451\" cy=\"1269.24\" r=\"14.4\" fill=\"#009af9\" fill-rule=\"evenodd\" fill-opacity=\"1\" stroke=\"#000000\" stroke-opacity=\"1\" stroke-width=\"3.2\"/>\n",
       "<circle clip-path=\"url(#clip452)\" cx=\"965.837\" cy=\"751.863\" r=\"14.4\" fill=\"#009af9\" fill-rule=\"evenodd\" fill-opacity=\"1\" stroke=\"#000000\" stroke-opacity=\"1\" stroke-width=\"3.2\"/>\n",
       "<circle clip-path=\"url(#clip452)\" cx=\"722.655\" cy=\"764.944\" r=\"14.4\" fill=\"#009af9\" fill-rule=\"evenodd\" fill-opacity=\"1\" stroke=\"#000000\" stroke-opacity=\"1\" stroke-width=\"3.2\"/>\n",
       "<circle clip-path=\"url(#clip452)\" cx=\"553.842\" cy=\"618.756\" r=\"14.4\" fill=\"#009af9\" fill-rule=\"evenodd\" fill-opacity=\"1\" stroke=\"#000000\" stroke-opacity=\"1\" stroke-width=\"3.2\"/>\n",
       "<circle clip-path=\"url(#clip452)\" cx=\"698.518\" cy=\"536.468\" r=\"14.4\" fill=\"#009af9\" fill-rule=\"evenodd\" fill-opacity=\"1\" stroke=\"#000000\" stroke-opacity=\"1\" stroke-width=\"3.2\"/>\n",
       "<circle clip-path=\"url(#clip452)\" cx=\"555.277\" cy=\"910.9\" r=\"14.4\" fill=\"#009af9\" fill-rule=\"evenodd\" fill-opacity=\"1\" stroke=\"#000000\" stroke-opacity=\"1\" stroke-width=\"3.2\"/>\n",
       "<circle clip-path=\"url(#clip452)\" cx=\"1253.82\" cy=\"563.617\" r=\"14.4\" fill=\"#009af9\" fill-rule=\"evenodd\" fill-opacity=\"1\" stroke=\"#000000\" stroke-opacity=\"1\" stroke-width=\"3.2\"/>\n",
       "<circle clip-path=\"url(#clip452)\" cx=\"1543.54\" cy=\"873.763\" r=\"14.4\" fill=\"#009af9\" fill-rule=\"evenodd\" fill-opacity=\"1\" stroke=\"#000000\" stroke-opacity=\"1\" stroke-width=\"3.2\"/>\n",
       "<circle clip-path=\"url(#clip452)\" cx=\"665.234\" cy=\"234.976\" r=\"14.4\" fill=\"#009af9\" fill-rule=\"evenodd\" fill-opacity=\"1\" stroke=\"#000000\" stroke-opacity=\"1\" stroke-width=\"3.2\"/>\n",
       "<circle clip-path=\"url(#clip452)\" cx=\"736.36\" cy=\"1156.35\" r=\"14.4\" fill=\"#009af9\" fill-rule=\"evenodd\" fill-opacity=\"1\" stroke=\"#000000\" stroke-opacity=\"1\" stroke-width=\"3.2\"/>\n",
       "<circle clip-path=\"url(#clip452)\" cx=\"715.891\" cy=\"753.048\" r=\"14.4\" fill=\"#009af9\" fill-rule=\"evenodd\" fill-opacity=\"1\" stroke=\"#000000\" stroke-opacity=\"1\" stroke-width=\"3.2\"/>\n",
       "<circle clip-path=\"url(#clip452)\" cx=\"784.181\" cy=\"1093.04\" r=\"14.4\" fill=\"#009af9\" fill-rule=\"evenodd\" fill-opacity=\"1\" stroke=\"#000000\" stroke-opacity=\"1\" stroke-width=\"3.2\"/>\n",
       "<circle clip-path=\"url(#clip452)\" cx=\"884.973\" cy=\"1043.99\" r=\"14.4\" fill=\"#009af9\" fill-rule=\"evenodd\" fill-opacity=\"1\" stroke=\"#000000\" stroke-opacity=\"1\" stroke-width=\"3.2\"/>\n",
       "<circle clip-path=\"url(#clip452)\" cx=\"1099.49\" cy=\"819.427\" r=\"14.4\" fill=\"#009af9\" fill-rule=\"evenodd\" fill-opacity=\"1\" stroke=\"#000000\" stroke-opacity=\"1\" stroke-width=\"3.2\"/>\n",
       "<circle clip-path=\"url(#clip452)\" cx=\"980.88\" cy=\"1229.69\" r=\"14.4\" fill=\"#009af9\" fill-rule=\"evenodd\" fill-opacity=\"1\" stroke=\"#000000\" stroke-opacity=\"1\" stroke-width=\"3.2\"/>\n",
       "<circle clip-path=\"url(#clip452)\" cx=\"982.259\" cy=\"1110.25\" r=\"14.4\" fill=\"#009af9\" fill-rule=\"evenodd\" fill-opacity=\"1\" stroke=\"#000000\" stroke-opacity=\"1\" stroke-width=\"3.2\"/>\n",
       "<circle clip-path=\"url(#clip452)\" cx=\"457.849\" cy=\"823.777\" r=\"14.4\" fill=\"#009af9\" fill-rule=\"evenodd\" fill-opacity=\"1\" stroke=\"#000000\" stroke-opacity=\"1\" stroke-width=\"3.2\"/>\n",
       "<circle clip-path=\"url(#clip452)\" cx=\"787.77\" cy=\"1039.14\" r=\"14.4\" fill=\"#009af9\" fill-rule=\"evenodd\" fill-opacity=\"1\" stroke=\"#000000\" stroke-opacity=\"1\" stroke-width=\"3.2\"/>\n",
       "<circle clip-path=\"url(#clip452)\" cx=\"622.276\" cy=\"757.875\" r=\"14.4\" fill=\"#009af9\" fill-rule=\"evenodd\" fill-opacity=\"1\" stroke=\"#000000\" stroke-opacity=\"1\" stroke-width=\"3.2\"/>\n",
       "<circle clip-path=\"url(#clip452)\" cx=\"930.256\" cy=\"1006.27\" r=\"14.4\" fill=\"#009af9\" fill-rule=\"evenodd\" fill-opacity=\"1\" stroke=\"#000000\" stroke-opacity=\"1\" stroke-width=\"3.2\"/>\n",
       "<circle clip-path=\"url(#clip452)\" cx=\"429.24\" cy=\"710.05\" r=\"14.4\" fill=\"#009af9\" fill-rule=\"evenodd\" fill-opacity=\"1\" stroke=\"#000000\" stroke-opacity=\"1\" stroke-width=\"3.2\"/>\n",
       "<circle clip-path=\"url(#clip452)\" cx=\"766.065\" cy=\"813.567\" r=\"14.4\" fill=\"#009af9\" fill-rule=\"evenodd\" fill-opacity=\"1\" stroke=\"#000000\" stroke-opacity=\"1\" stroke-width=\"3.2\"/>\n",
       "<circle clip-path=\"url(#clip452)\" cx=\"1121.55\" cy=\"945.743\" r=\"14.4\" fill=\"#009af9\" fill-rule=\"evenodd\" fill-opacity=\"1\" stroke=\"#000000\" stroke-opacity=\"1\" stroke-width=\"3.2\"/>\n",
       "<circle clip-path=\"url(#clip452)\" cx=\"521.179\" cy=\"900.454\" r=\"14.4\" fill=\"#009af9\" fill-rule=\"evenodd\" fill-opacity=\"1\" stroke=\"#000000\" stroke-opacity=\"1\" stroke-width=\"3.2\"/>\n",
       "<circle clip-path=\"url(#clip452)\" cx=\"694.474\" cy=\"1263.02\" r=\"14.4\" fill=\"#009af9\" fill-rule=\"evenodd\" fill-opacity=\"1\" stroke=\"#000000\" stroke-opacity=\"1\" stroke-width=\"3.2\"/>\n",
       "<circle clip-path=\"url(#clip452)\" cx=\"858.135\" cy=\"741.098\" r=\"14.4\" fill=\"#009af9\" fill-rule=\"evenodd\" fill-opacity=\"1\" stroke=\"#000000\" stroke-opacity=\"1\" stroke-width=\"3.2\"/>\n",
       "<circle clip-path=\"url(#clip452)\" cx=\"958.857\" cy=\"885.16\" r=\"14.4\" fill=\"#009af9\" fill-rule=\"evenodd\" fill-opacity=\"1\" stroke=\"#000000\" stroke-opacity=\"1\" stroke-width=\"3.2\"/>\n",
       "<circle clip-path=\"url(#clip452)\" cx=\"1051.42\" cy=\"1186.18\" r=\"14.4\" fill=\"#009af9\" fill-rule=\"evenodd\" fill-opacity=\"1\" stroke=\"#000000\" stroke-opacity=\"1\" stroke-width=\"3.2\"/>\n",
       "<circle clip-path=\"url(#clip452)\" cx=\"540.804\" cy=\"844.414\" r=\"14.4\" fill=\"#009af9\" fill-rule=\"evenodd\" fill-opacity=\"1\" stroke=\"#000000\" stroke-opacity=\"1\" stroke-width=\"3.2\"/>\n",
       "<circle clip-path=\"url(#clip452)\" cx=\"879.47\" cy=\"1145.25\" r=\"14.4\" fill=\"#009af9\" fill-rule=\"evenodd\" fill-opacity=\"1\" stroke=\"#000000\" stroke-opacity=\"1\" stroke-width=\"3.2\"/>\n",
       "<circle clip-path=\"url(#clip452)\" cx=\"1001.06\" cy=\"1072.74\" r=\"14.4\" fill=\"#009af9\" fill-rule=\"evenodd\" fill-opacity=\"1\" stroke=\"#000000\" stroke-opacity=\"1\" stroke-width=\"3.2\"/>\n",
       "<circle clip-path=\"url(#clip452)\" cx=\"991.96\" cy=\"1194.97\" r=\"14.4\" fill=\"#009af9\" fill-rule=\"evenodd\" fill-opacity=\"1\" stroke=\"#000000\" stroke-opacity=\"1\" stroke-width=\"3.2\"/>\n",
       "<circle clip-path=\"url(#clip452)\" cx=\"815.849\" cy=\"801.57\" r=\"14.4\" fill=\"#009af9\" fill-rule=\"evenodd\" fill-opacity=\"1\" stroke=\"#000000\" stroke-opacity=\"1\" stroke-width=\"3.2\"/>\n",
       "<circle clip-path=\"url(#clip452)\" cx=\"719.862\" cy=\"896.609\" r=\"14.4\" fill=\"#009af9\" fill-rule=\"evenodd\" fill-opacity=\"1\" stroke=\"#000000\" stroke-opacity=\"1\" stroke-width=\"3.2\"/>\n",
       "<circle clip-path=\"url(#clip452)\" cx=\"1099.43\" cy=\"1150.99\" r=\"14.4\" fill=\"#009af9\" fill-rule=\"evenodd\" fill-opacity=\"1\" stroke=\"#000000\" stroke-opacity=\"1\" stroke-width=\"3.2\"/>\n",
       "<circle clip-path=\"url(#clip452)\" cx=\"968.543\" cy=\"554.33\" r=\"14.4\" fill=\"#009af9\" fill-rule=\"evenodd\" fill-opacity=\"1\" stroke=\"#000000\" stroke-opacity=\"1\" stroke-width=\"3.2\"/>\n",
       "<circle clip-path=\"url(#clip452)\" cx=\"930.305\" cy=\"953.509\" r=\"14.4\" fill=\"#009af9\" fill-rule=\"evenodd\" fill-opacity=\"1\" stroke=\"#000000\" stroke-opacity=\"1\" stroke-width=\"3.2\"/>\n",
       "<circle clip-path=\"url(#clip452)\" cx=\"896.662\" cy=\"979.898\" r=\"14.4\" fill=\"#009af9\" fill-rule=\"evenodd\" fill-opacity=\"1\" stroke=\"#000000\" stroke-opacity=\"1\" stroke-width=\"3.2\"/>\n",
       "<circle clip-path=\"url(#clip452)\" cx=\"764.12\" cy=\"639.159\" r=\"14.4\" fill=\"#009af9\" fill-rule=\"evenodd\" fill-opacity=\"1\" stroke=\"#000000\" stroke-opacity=\"1\" stroke-width=\"3.2\"/>\n",
       "<circle clip-path=\"url(#clip452)\" cx=\"964.045\" cy=\"1002.3\" r=\"14.4\" fill=\"#009af9\" fill-rule=\"evenodd\" fill-opacity=\"1\" stroke=\"#000000\" stroke-opacity=\"1\" stroke-width=\"3.2\"/>\n",
       "<circle clip-path=\"url(#clip452)\" cx=\"1208.44\" cy=\"899.323\" r=\"14.4\" fill=\"#009af9\" fill-rule=\"evenodd\" fill-opacity=\"1\" stroke=\"#000000\" stroke-opacity=\"1\" stroke-width=\"3.2\"/>\n",
       "<circle clip-path=\"url(#clip452)\" cx=\"692.694\" cy=\"1168.56\" r=\"14.4\" fill=\"#009af9\" fill-rule=\"evenodd\" fill-opacity=\"1\" stroke=\"#000000\" stroke-opacity=\"1\" stroke-width=\"3.2\"/>\n",
       "<circle clip-path=\"url(#clip452)\" cx=\"793.801\" cy=\"1213.01\" r=\"14.4\" fill=\"#009af9\" fill-rule=\"evenodd\" fill-opacity=\"1\" stroke=\"#000000\" stroke-opacity=\"1\" stroke-width=\"3.2\"/>\n",
       "<circle clip-path=\"url(#clip452)\" cx=\"805.209\" cy=\"1305.86\" r=\"14.4\" fill=\"#009af9\" fill-rule=\"evenodd\" fill-opacity=\"1\" stroke=\"#000000\" stroke-opacity=\"1\" stroke-width=\"3.2\"/>\n",
       "<circle clip-path=\"url(#clip452)\" cx=\"1113.25\" cy=\"942.05\" r=\"14.4\" fill=\"#009af9\" fill-rule=\"evenodd\" fill-opacity=\"1\" stroke=\"#000000\" stroke-opacity=\"1\" stroke-width=\"3.2\"/>\n",
       "<circle clip-path=\"url(#clip452)\" cx=\"624.884\" cy=\"1100.53\" r=\"14.4\" fill=\"#009af9\" fill-rule=\"evenodd\" fill-opacity=\"1\" stroke=\"#000000\" stroke-opacity=\"1\" stroke-width=\"3.2\"/>\n",
       "<circle clip-path=\"url(#clip452)\" cx=\"621.525\" cy=\"1096.23\" r=\"14.4\" fill=\"#009af9\" fill-rule=\"evenodd\" fill-opacity=\"1\" stroke=\"#000000\" stroke-opacity=\"1\" stroke-width=\"3.2\"/>\n",
       "<circle clip-path=\"url(#clip452)\" cx=\"968.584\" cy=\"1219.84\" r=\"14.4\" fill=\"#009af9\" fill-rule=\"evenodd\" fill-opacity=\"1\" stroke=\"#000000\" stroke-opacity=\"1\" stroke-width=\"3.2\"/>\n",
       "<circle clip-path=\"url(#clip452)\" cx=\"779.859\" cy=\"905.921\" r=\"14.4\" fill=\"#009af9\" fill-rule=\"evenodd\" fill-opacity=\"1\" stroke=\"#000000\" stroke-opacity=\"1\" stroke-width=\"3.2\"/>\n",
       "<circle clip-path=\"url(#clip452)\" cx=\"1073.24\" cy=\"797.334\" r=\"14.4\" fill=\"#009af9\" fill-rule=\"evenodd\" fill-opacity=\"1\" stroke=\"#000000\" stroke-opacity=\"1\" stroke-width=\"3.2\"/>\n",
       "<circle clip-path=\"url(#clip452)\" cx=\"768.351\" cy=\"1252.8\" r=\"14.4\" fill=\"#009af9\" fill-rule=\"evenodd\" fill-opacity=\"1\" stroke=\"#000000\" stroke-opacity=\"1\" stroke-width=\"3.2\"/>\n",
       "<circle clip-path=\"url(#clip452)\" cx=\"720.585\" cy=\"1039.32\" r=\"14.4\" fill=\"#009af9\" fill-rule=\"evenodd\" fill-opacity=\"1\" stroke=\"#000000\" stroke-opacity=\"1\" stroke-width=\"3.2\"/>\n",
       "<circle clip-path=\"url(#clip452)\" cx=\"693.005\" cy=\"957.347\" r=\"14.4\" fill=\"#009af9\" fill-rule=\"evenodd\" fill-opacity=\"1\" stroke=\"#000000\" stroke-opacity=\"1\" stroke-width=\"3.2\"/>\n",
       "<circle clip-path=\"url(#clip452)\" cx=\"954.319\" cy=\"1004.18\" r=\"14.4\" fill=\"#009af9\" fill-rule=\"evenodd\" fill-opacity=\"1\" stroke=\"#000000\" stroke-opacity=\"1\" stroke-width=\"3.2\"/>\n",
       "<circle clip-path=\"url(#clip452)\" cx=\"858.452\" cy=\"1079.14\" r=\"14.4\" fill=\"#009af9\" fill-rule=\"evenodd\" fill-opacity=\"1\" stroke=\"#000000\" stroke-opacity=\"1\" stroke-width=\"3.2\"/>\n",
       "<circle clip-path=\"url(#clip452)\" cx=\"783.21\" cy=\"1336.47\" r=\"14.4\" fill=\"#009af9\" fill-rule=\"evenodd\" fill-opacity=\"1\" stroke=\"#000000\" stroke-opacity=\"1\" stroke-width=\"3.2\"/>\n",
       "<circle clip-path=\"url(#clip452)\" cx=\"1629.78\" cy=\"650.002\" r=\"14.4\" fill=\"#009af9\" fill-rule=\"evenodd\" fill-opacity=\"1\" stroke=\"#000000\" stroke-opacity=\"1\" stroke-width=\"3.2\"/>\n",
       "<circle clip-path=\"url(#clip452)\" cx=\"841.703\" cy=\"1083.29\" r=\"14.4\" fill=\"#009af9\" fill-rule=\"evenodd\" fill-opacity=\"1\" stroke=\"#000000\" stroke-opacity=\"1\" stroke-width=\"3.2\"/>\n",
       "<circle clip-path=\"url(#clip452)\" cx=\"1173.75\" cy=\"623.429\" r=\"14.4\" fill=\"#009af9\" fill-rule=\"evenodd\" fill-opacity=\"1\" stroke=\"#000000\" stroke-opacity=\"1\" stroke-width=\"3.2\"/>\n",
       "<circle clip-path=\"url(#clip452)\" cx=\"970.607\" cy=\"1164.9\" r=\"14.4\" fill=\"#009af9\" fill-rule=\"evenodd\" fill-opacity=\"1\" stroke=\"#000000\" stroke-opacity=\"1\" stroke-width=\"3.2\"/>\n",
       "<circle clip-path=\"url(#clip452)\" cx=\"1080.17\" cy=\"1038.94\" r=\"14.4\" fill=\"#009af9\" fill-rule=\"evenodd\" fill-opacity=\"1\" stroke=\"#000000\" stroke-opacity=\"1\" stroke-width=\"3.2\"/>\n",
       "<circle clip-path=\"url(#clip452)\" cx=\"1158.44\" cy=\"764.894\" r=\"14.4\" fill=\"#009af9\" fill-rule=\"evenodd\" fill-opacity=\"1\" stroke=\"#000000\" stroke-opacity=\"1\" stroke-width=\"3.2\"/>\n",
       "<circle clip-path=\"url(#clip452)\" cx=\"530.424\" cy=\"1137.31\" r=\"14.4\" fill=\"#009af9\" fill-rule=\"evenodd\" fill-opacity=\"1\" stroke=\"#000000\" stroke-opacity=\"1\" stroke-width=\"3.2\"/>\n",
       "<circle clip-path=\"url(#clip452)\" cx=\"562.22\" cy=\"1038.86\" r=\"14.4\" fill=\"#009af9\" fill-rule=\"evenodd\" fill-opacity=\"1\" stroke=\"#000000\" stroke-opacity=\"1\" stroke-width=\"3.2\"/>\n",
       "<circle clip-path=\"url(#clip452)\" cx=\"820.228\" cy=\"918.34\" r=\"14.4\" fill=\"#009af9\" fill-rule=\"evenodd\" fill-opacity=\"1\" stroke=\"#000000\" stroke-opacity=\"1\" stroke-width=\"3.2\"/>\n",
       "<circle clip-path=\"url(#clip452)\" cx=\"757.692\" cy=\"804.389\" r=\"14.4\" fill=\"#009af9\" fill-rule=\"evenodd\" fill-opacity=\"1\" stroke=\"#000000\" stroke-opacity=\"1\" stroke-width=\"3.2\"/>\n",
       "<circle clip-path=\"url(#clip452)\" cx=\"697.528\" cy=\"700.146\" r=\"14.4\" fill=\"#009af9\" fill-rule=\"evenodd\" fill-opacity=\"1\" stroke=\"#000000\" stroke-opacity=\"1\" stroke-width=\"3.2\"/>\n",
       "<circle clip-path=\"url(#clip452)\" cx=\"1468.83\" cy=\"683.67\" r=\"14.4\" fill=\"#009af9\" fill-rule=\"evenodd\" fill-opacity=\"1\" stroke=\"#000000\" stroke-opacity=\"1\" stroke-width=\"3.2\"/>\n",
       "<circle clip-path=\"url(#clip452)\" cx=\"952.837\" cy=\"656.356\" r=\"14.4\" fill=\"#009af9\" fill-rule=\"evenodd\" fill-opacity=\"1\" stroke=\"#000000\" stroke-opacity=\"1\" stroke-width=\"3.2\"/>\n",
       "<circle clip-path=\"url(#clip452)\" cx=\"837.312\" cy=\"1144.91\" r=\"14.4\" fill=\"#009af9\" fill-rule=\"evenodd\" fill-opacity=\"1\" stroke=\"#000000\" stroke-opacity=\"1\" stroke-width=\"3.2\"/>\n",
       "<circle clip-path=\"url(#clip452)\" cx=\"780.646\" cy=\"1330.59\" r=\"14.4\" fill=\"#009af9\" fill-rule=\"evenodd\" fill-opacity=\"1\" stroke=\"#000000\" stroke-opacity=\"1\" stroke-width=\"3.2\"/>\n",
       "<circle clip-path=\"url(#clip452)\" cx=\"1005.58\" cy=\"975.926\" r=\"14.4\" fill=\"#009af9\" fill-rule=\"evenodd\" fill-opacity=\"1\" stroke=\"#000000\" stroke-opacity=\"1\" stroke-width=\"3.2\"/>\n",
       "<circle clip-path=\"url(#clip452)\" cx=\"741.63\" cy=\"1230.35\" r=\"14.4\" fill=\"#009af9\" fill-rule=\"evenodd\" fill-opacity=\"1\" stroke=\"#000000\" stroke-opacity=\"1\" stroke-width=\"3.2\"/>\n",
       "<circle clip-path=\"url(#clip452)\" cx=\"963.355\" cy=\"811.182\" r=\"14.4\" fill=\"#009af9\" fill-rule=\"evenodd\" fill-opacity=\"1\" stroke=\"#000000\" stroke-opacity=\"1\" stroke-width=\"3.2\"/>\n",
       "<circle clip-path=\"url(#clip452)\" cx=\"805.322\" cy=\"993.877\" r=\"14.4\" fill=\"#009af9\" fill-rule=\"evenodd\" fill-opacity=\"1\" stroke=\"#000000\" stroke-opacity=\"1\" stroke-width=\"3.2\"/>\n",
       "<circle clip-path=\"url(#clip452)\" cx=\"1825.25\" cy=\"669.307\" r=\"14.4\" fill=\"#009af9\" fill-rule=\"evenodd\" fill-opacity=\"1\" stroke=\"#000000\" stroke-opacity=\"1\" stroke-width=\"3.2\"/>\n",
       "<circle clip-path=\"url(#clip452)\" cx=\"848.067\" cy=\"785.77\" r=\"14.4\" fill=\"#009af9\" fill-rule=\"evenodd\" fill-opacity=\"1\" stroke=\"#000000\" stroke-opacity=\"1\" stroke-width=\"3.2\"/>\n",
       "<circle clip-path=\"url(#clip452)\" cx=\"887.177\" cy=\"954.332\" r=\"14.4\" fill=\"#009af9\" fill-rule=\"evenodd\" fill-opacity=\"1\" stroke=\"#000000\" stroke-opacity=\"1\" stroke-width=\"3.2\"/>\n",
       "<circle clip-path=\"url(#clip452)\" cx=\"701.289\" cy=\"953.655\" r=\"14.4\" fill=\"#009af9\" fill-rule=\"evenodd\" fill-opacity=\"1\" stroke=\"#000000\" stroke-opacity=\"1\" stroke-width=\"3.2\"/>\n",
       "<circle clip-path=\"url(#clip452)\" cx=\"825.089\" cy=\"774.385\" r=\"14.4\" fill=\"#009af9\" fill-rule=\"evenodd\" fill-opacity=\"1\" stroke=\"#000000\" stroke-opacity=\"1\" stroke-width=\"3.2\"/>\n",
       "<circle clip-path=\"url(#clip452)\" cx=\"891.076\" cy=\"1113.98\" r=\"14.4\" fill=\"#009af9\" fill-rule=\"evenodd\" fill-opacity=\"1\" stroke=\"#000000\" stroke-opacity=\"1\" stroke-width=\"3.2\"/>\n",
       "<circle clip-path=\"url(#clip452)\" cx=\"865.153\" cy=\"1059.97\" r=\"14.4\" fill=\"#009af9\" fill-rule=\"evenodd\" fill-opacity=\"1\" stroke=\"#000000\" stroke-opacity=\"1\" stroke-width=\"3.2\"/>\n",
       "<circle clip-path=\"url(#clip452)\" cx=\"676.964\" cy=\"1113.11\" r=\"14.4\" fill=\"#009af9\" fill-rule=\"evenodd\" fill-opacity=\"1\" stroke=\"#000000\" stroke-opacity=\"1\" stroke-width=\"3.2\"/>\n",
       "<circle clip-path=\"url(#clip452)\" cx=\"631.737\" cy=\"1233.39\" r=\"14.4\" fill=\"#009af9\" fill-rule=\"evenodd\" fill-opacity=\"1\" stroke=\"#000000\" stroke-opacity=\"1\" stroke-width=\"3.2\"/>\n",
       "<circle clip-path=\"url(#clip452)\" cx=\"755.668\" cy=\"401.382\" r=\"14.4\" fill=\"#009af9\" fill-rule=\"evenodd\" fill-opacity=\"1\" stroke=\"#000000\" stroke-opacity=\"1\" stroke-width=\"3.2\"/>\n",
       "<circle clip-path=\"url(#clip452)\" cx=\"752.199\" cy=\"908.401\" r=\"14.4\" fill=\"#009af9\" fill-rule=\"evenodd\" fill-opacity=\"1\" stroke=\"#000000\" stroke-opacity=\"1\" stroke-width=\"3.2\"/>\n",
       "<circle clip-path=\"url(#clip452)\" cx=\"870.241\" cy=\"846.81\" r=\"14.4\" fill=\"#009af9\" fill-rule=\"evenodd\" fill-opacity=\"1\" stroke=\"#000000\" stroke-opacity=\"1\" stroke-width=\"3.2\"/>\n",
       "<circle clip-path=\"url(#clip452)\" cx=\"1011.03\" cy=\"991.842\" r=\"14.4\" fill=\"#009af9\" fill-rule=\"evenodd\" fill-opacity=\"1\" stroke=\"#000000\" stroke-opacity=\"1\" stroke-width=\"3.2\"/>\n",
       "<circle clip-path=\"url(#clip452)\" cx=\"1431.44\" cy=\"713.768\" r=\"14.4\" fill=\"#009af9\" fill-rule=\"evenodd\" fill-opacity=\"1\" stroke=\"#000000\" stroke-opacity=\"1\" stroke-width=\"3.2\"/>\n",
       "<circle clip-path=\"url(#clip452)\" cx=\"462.776\" cy=\"513.99\" r=\"14.4\" fill=\"#009af9\" fill-rule=\"evenodd\" fill-opacity=\"1\" stroke=\"#000000\" stroke-opacity=\"1\" stroke-width=\"3.2\"/>\n",
       "<circle clip-path=\"url(#clip452)\" cx=\"990.418\" cy=\"738.015\" r=\"14.4\" fill=\"#009af9\" fill-rule=\"evenodd\" fill-opacity=\"1\" stroke=\"#000000\" stroke-opacity=\"1\" stroke-width=\"3.2\"/>\n",
       "<circle clip-path=\"url(#clip452)\" cx=\"1250.83\" cy=\"881.971\" r=\"14.4\" fill=\"#009af9\" fill-rule=\"evenodd\" fill-opacity=\"1\" stroke=\"#000000\" stroke-opacity=\"1\" stroke-width=\"3.2\"/>\n",
       "<circle clip-path=\"url(#clip452)\" cx=\"1323.91\" cy=\"1144.47\" r=\"14.4\" fill=\"#009af9\" fill-rule=\"evenodd\" fill-opacity=\"1\" stroke=\"#000000\" stroke-opacity=\"1\" stroke-width=\"3.2\"/>\n",
       "<circle clip-path=\"url(#clip452)\" cx=\"881.968\" cy=\"1096.8\" r=\"14.4\" fill=\"#009af9\" fill-rule=\"evenodd\" fill-opacity=\"1\" stroke=\"#000000\" stroke-opacity=\"1\" stroke-width=\"3.2\"/>\n",
       "<circle clip-path=\"url(#clip452)\" cx=\"1017.69\" cy=\"1079.31\" r=\"14.4\" fill=\"#009af9\" fill-rule=\"evenodd\" fill-opacity=\"1\" stroke=\"#000000\" stroke-opacity=\"1\" stroke-width=\"3.2\"/>\n",
       "<circle clip-path=\"url(#clip452)\" cx=\"1061.73\" cy=\"711.953\" r=\"14.4\" fill=\"#009af9\" fill-rule=\"evenodd\" fill-opacity=\"1\" stroke=\"#000000\" stroke-opacity=\"1\" stroke-width=\"3.2\"/>\n",
       "<circle clip-path=\"url(#clip452)\" cx=\"596.11\" cy=\"1069.95\" r=\"14.4\" fill=\"#009af9\" fill-rule=\"evenodd\" fill-opacity=\"1\" stroke=\"#000000\" stroke-opacity=\"1\" stroke-width=\"3.2\"/>\n",
       "<circle clip-path=\"url(#clip452)\" cx=\"1087.76\" cy=\"1149.78\" r=\"14.4\" fill=\"#009af9\" fill-rule=\"evenodd\" fill-opacity=\"1\" stroke=\"#000000\" stroke-opacity=\"1\" stroke-width=\"3.2\"/>\n",
       "<circle clip-path=\"url(#clip452)\" cx=\"665.281\" cy=\"1314.23\" r=\"14.4\" fill=\"#009af9\" fill-rule=\"evenodd\" fill-opacity=\"1\" stroke=\"#000000\" stroke-opacity=\"1\" stroke-width=\"3.2\"/>\n",
       "<circle clip-path=\"url(#clip452)\" cx=\"927.396\" cy=\"1255.95\" r=\"14.4\" fill=\"#009af9\" fill-rule=\"evenodd\" fill-opacity=\"1\" stroke=\"#000000\" stroke-opacity=\"1\" stroke-width=\"3.2\"/>\n",
       "<circle clip-path=\"url(#clip452)\" cx=\"1402.81\" cy=\"1104.49\" r=\"14.4\" fill=\"#009af9\" fill-rule=\"evenodd\" fill-opacity=\"1\" stroke=\"#000000\" stroke-opacity=\"1\" stroke-width=\"3.2\"/>\n",
       "<circle clip-path=\"url(#clip452)\" cx=\"766.369\" cy=\"1040.42\" r=\"14.4\" fill=\"#009af9\" fill-rule=\"evenodd\" fill-opacity=\"1\" stroke=\"#000000\" stroke-opacity=\"1\" stroke-width=\"3.2\"/>\n",
       "<circle clip-path=\"url(#clip452)\" cx=\"1113.15\" cy=\"1036.64\" r=\"14.4\" fill=\"#009af9\" fill-rule=\"evenodd\" fill-opacity=\"1\" stroke=\"#000000\" stroke-opacity=\"1\" stroke-width=\"3.2\"/>\n",
       "<circle clip-path=\"url(#clip452)\" cx=\"710.284\" cy=\"745.603\" r=\"14.4\" fill=\"#009af9\" fill-rule=\"evenodd\" fill-opacity=\"1\" stroke=\"#000000\" stroke-opacity=\"1\" stroke-width=\"3.2\"/>\n",
       "<circle clip-path=\"url(#clip452)\" cx=\"1175.13\" cy=\"734.258\" r=\"14.4\" fill=\"#009af9\" fill-rule=\"evenodd\" fill-opacity=\"1\" stroke=\"#000000\" stroke-opacity=\"1\" stroke-width=\"3.2\"/>\n",
       "<circle clip-path=\"url(#clip452)\" cx=\"923.764\" cy=\"1219.72\" r=\"14.4\" fill=\"#009af9\" fill-rule=\"evenodd\" fill-opacity=\"1\" stroke=\"#000000\" stroke-opacity=\"1\" stroke-width=\"3.2\"/>\n",
       "<circle clip-path=\"url(#clip452)\" cx=\"856.636\" cy=\"1020.51\" r=\"14.4\" fill=\"#009af9\" fill-rule=\"evenodd\" fill-opacity=\"1\" stroke=\"#000000\" stroke-opacity=\"1\" stroke-width=\"3.2\"/>\n",
       "<circle clip-path=\"url(#clip452)\" cx=\"889.633\" cy=\"1173.66\" r=\"14.4\" fill=\"#009af9\" fill-rule=\"evenodd\" fill-opacity=\"1\" stroke=\"#000000\" stroke-opacity=\"1\" stroke-width=\"3.2\"/>\n",
       "<circle clip-path=\"url(#clip452)\" cx=\"966.656\" cy=\"881.698\" r=\"14.4\" fill=\"#009af9\" fill-rule=\"evenodd\" fill-opacity=\"1\" stroke=\"#000000\" stroke-opacity=\"1\" stroke-width=\"3.2\"/>\n",
       "<circle clip-path=\"url(#clip452)\" cx=\"929.169\" cy=\"872.084\" r=\"14.4\" fill=\"#009af9\" fill-rule=\"evenodd\" fill-opacity=\"1\" stroke=\"#000000\" stroke-opacity=\"1\" stroke-width=\"3.2\"/>\n",
       "<circle clip-path=\"url(#clip452)\" cx=\"1090.99\" cy=\"1359.79\" r=\"14.4\" fill=\"#009af9\" fill-rule=\"evenodd\" fill-opacity=\"1\" stroke=\"#000000\" stroke-opacity=\"1\" stroke-width=\"3.2\"/>\n",
       "<circle clip-path=\"url(#clip452)\" cx=\"351.5\" cy=\"701.419\" r=\"14.4\" fill=\"#009af9\" fill-rule=\"evenodd\" fill-opacity=\"1\" stroke=\"#000000\" stroke-opacity=\"1\" stroke-width=\"3.2\"/>\n",
       "<circle clip-path=\"url(#clip452)\" cx=\"823.322\" cy=\"911.419\" r=\"14.4\" fill=\"#009af9\" fill-rule=\"evenodd\" fill-opacity=\"1\" stroke=\"#000000\" stroke-opacity=\"1\" stroke-width=\"3.2\"/>\n",
       "<circle clip-path=\"url(#clip452)\" cx=\"1253.9\" cy=\"929.827\" r=\"14.4\" fill=\"#009af9\" fill-rule=\"evenodd\" fill-opacity=\"1\" stroke=\"#000000\" stroke-opacity=\"1\" stroke-width=\"3.2\"/>\n",
       "<circle clip-path=\"url(#clip452)\" cx=\"1072.15\" cy=\"1016.32\" r=\"14.4\" fill=\"#009af9\" fill-rule=\"evenodd\" fill-opacity=\"1\" stroke=\"#000000\" stroke-opacity=\"1\" stroke-width=\"3.2\"/>\n",
       "<circle clip-path=\"url(#clip452)\" cx=\"872.12\" cy=\"1251.92\" r=\"14.4\" fill=\"#009af9\" fill-rule=\"evenodd\" fill-opacity=\"1\" stroke=\"#000000\" stroke-opacity=\"1\" stroke-width=\"3.2\"/>\n",
       "<circle clip-path=\"url(#clip452)\" cx=\"898.611\" cy=\"1143.27\" r=\"14.4\" fill=\"#009af9\" fill-rule=\"evenodd\" fill-opacity=\"1\" stroke=\"#000000\" stroke-opacity=\"1\" stroke-width=\"3.2\"/>\n",
       "<circle clip-path=\"url(#clip452)\" cx=\"792.912\" cy=\"891.63\" r=\"14.4\" fill=\"#009af9\" fill-rule=\"evenodd\" fill-opacity=\"1\" stroke=\"#000000\" stroke-opacity=\"1\" stroke-width=\"3.2\"/>\n",
       "<circle clip-path=\"url(#clip452)\" cx=\"1176.78\" cy=\"1164\" r=\"14.4\" fill=\"#009af9\" fill-rule=\"evenodd\" fill-opacity=\"1\" stroke=\"#000000\" stroke-opacity=\"1\" stroke-width=\"3.2\"/>\n",
       "<circle clip-path=\"url(#clip452)\" cx=\"1040.06\" cy=\"1034.18\" r=\"14.4\" fill=\"#009af9\" fill-rule=\"evenodd\" fill-opacity=\"1\" stroke=\"#000000\" stroke-opacity=\"1\" stroke-width=\"3.2\"/>\n",
       "<circle clip-path=\"url(#clip452)\" cx=\"855.135\" cy=\"591.398\" r=\"14.4\" fill=\"#009af9\" fill-rule=\"evenodd\" fill-opacity=\"1\" stroke=\"#000000\" stroke-opacity=\"1\" stroke-width=\"3.2\"/>\n",
       "<circle clip-path=\"url(#clip452)\" cx=\"840.041\" cy=\"987.68\" r=\"14.4\" fill=\"#009af9\" fill-rule=\"evenodd\" fill-opacity=\"1\" stroke=\"#000000\" stroke-opacity=\"1\" stroke-width=\"3.2\"/>\n",
       "<circle clip-path=\"url(#clip452)\" cx=\"790.987\" cy=\"1001.34\" r=\"14.4\" fill=\"#009af9\" fill-rule=\"evenodd\" fill-opacity=\"1\" stroke=\"#000000\" stroke-opacity=\"1\" stroke-width=\"3.2\"/>\n",
       "<circle clip-path=\"url(#clip452)\" cx=\"1230.47\" cy=\"1068.99\" r=\"14.4\" fill=\"#009af9\" fill-rule=\"evenodd\" fill-opacity=\"1\" stroke=\"#000000\" stroke-opacity=\"1\" stroke-width=\"3.2\"/>\n",
       "<circle clip-path=\"url(#clip452)\" cx=\"1097.66\" cy=\"854.958\" r=\"14.4\" fill=\"#009af9\" fill-rule=\"evenodd\" fill-opacity=\"1\" stroke=\"#000000\" stroke-opacity=\"1\" stroke-width=\"3.2\"/>\n",
       "<circle clip-path=\"url(#clip452)\" cx=\"544.95\" cy=\"718.487\" r=\"14.4\" fill=\"#009af9\" fill-rule=\"evenodd\" fill-opacity=\"1\" stroke=\"#000000\" stroke-opacity=\"1\" stroke-width=\"3.2\"/>\n",
       "<circle clip-path=\"url(#clip452)\" cx=\"891.454\" cy=\"897.38\" r=\"14.4\" fill=\"#009af9\" fill-rule=\"evenodd\" fill-opacity=\"1\" stroke=\"#000000\" stroke-opacity=\"1\" stroke-width=\"3.2\"/>\n",
       "<circle clip-path=\"url(#clip452)\" cx=\"793.93\" cy=\"658.625\" r=\"14.4\" fill=\"#009af9\" fill-rule=\"evenodd\" fill-opacity=\"1\" stroke=\"#000000\" stroke-opacity=\"1\" stroke-width=\"3.2\"/>\n",
       "<circle clip-path=\"url(#clip452)\" cx=\"1337.7\" cy=\"1082.61\" r=\"14.4\" fill=\"#009af9\" fill-rule=\"evenodd\" fill-opacity=\"1\" stroke=\"#000000\" stroke-opacity=\"1\" stroke-width=\"3.2\"/>\n",
       "<circle clip-path=\"url(#clip452)\" cx=\"1079.25\" cy=\"921.949\" r=\"14.4\" fill=\"#009af9\" fill-rule=\"evenodd\" fill-opacity=\"1\" stroke=\"#000000\" stroke-opacity=\"1\" stroke-width=\"3.2\"/>\n",
       "<circle clip-path=\"url(#clip452)\" cx=\"636.241\" cy=\"1179.33\" r=\"14.4\" fill=\"#009af9\" fill-rule=\"evenodd\" fill-opacity=\"1\" stroke=\"#000000\" stroke-opacity=\"1\" stroke-width=\"3.2\"/>\n",
       "<circle clip-path=\"url(#clip452)\" cx=\"685.852\" cy=\"944.58\" r=\"14.4\" fill=\"#009af9\" fill-rule=\"evenodd\" fill-opacity=\"1\" stroke=\"#000000\" stroke-opacity=\"1\" stroke-width=\"3.2\"/>\n",
       "<circle clip-path=\"url(#clip452)\" cx=\"580.9\" cy=\"829.949\" r=\"14.4\" fill=\"#009af9\" fill-rule=\"evenodd\" fill-opacity=\"1\" stroke=\"#000000\" stroke-opacity=\"1\" stroke-width=\"3.2\"/>\n",
       "<circle clip-path=\"url(#clip452)\" cx=\"1058.7\" cy=\"1113.8\" r=\"14.4\" fill=\"#009af9\" fill-rule=\"evenodd\" fill-opacity=\"1\" stroke=\"#000000\" stroke-opacity=\"1\" stroke-width=\"3.2\"/>\n",
       "<circle clip-path=\"url(#clip452)\" cx=\"925.01\" cy=\"1019.84\" r=\"14.4\" fill=\"#009af9\" fill-rule=\"evenodd\" fill-opacity=\"1\" stroke=\"#000000\" stroke-opacity=\"1\" stroke-width=\"3.2\"/>\n",
       "<circle clip-path=\"url(#clip452)\" cx=\"778.806\" cy=\"1194.47\" r=\"14.4\" fill=\"#009af9\" fill-rule=\"evenodd\" fill-opacity=\"1\" stroke=\"#000000\" stroke-opacity=\"1\" stroke-width=\"3.2\"/>\n",
       "<circle clip-path=\"url(#clip452)\" cx=\"790.649\" cy=\"744.848\" r=\"14.4\" fill=\"#009af9\" fill-rule=\"evenodd\" fill-opacity=\"1\" stroke=\"#000000\" stroke-opacity=\"1\" stroke-width=\"3.2\"/>\n",
       "<circle clip-path=\"url(#clip452)\" cx=\"1257.17\" cy=\"588.293\" r=\"14.4\" fill=\"#009af9\" fill-rule=\"evenodd\" fill-opacity=\"1\" stroke=\"#000000\" stroke-opacity=\"1\" stroke-width=\"3.2\"/>\n",
       "<circle clip-path=\"url(#clip452)\" cx=\"1266.21\" cy=\"1084.48\" r=\"14.4\" fill=\"#009af9\" fill-rule=\"evenodd\" fill-opacity=\"1\" stroke=\"#000000\" stroke-opacity=\"1\" stroke-width=\"3.2\"/>\n",
       "<circle clip-path=\"url(#clip452)\" cx=\"791.939\" cy=\"712.889\" r=\"14.4\" fill=\"#009af9\" fill-rule=\"evenodd\" fill-opacity=\"1\" stroke=\"#000000\" stroke-opacity=\"1\" stroke-width=\"3.2\"/>\n",
       "<circle clip-path=\"url(#clip452)\" cx=\"614.561\" cy=\"886.857\" r=\"14.4\" fill=\"#009af9\" fill-rule=\"evenodd\" fill-opacity=\"1\" stroke=\"#000000\" stroke-opacity=\"1\" stroke-width=\"3.2\"/>\n",
       "<circle clip-path=\"url(#clip452)\" cx=\"2290.12\" cy=\"802.52\" r=\"14.4\" fill=\"#009af9\" fill-rule=\"evenodd\" fill-opacity=\"1\" stroke=\"#000000\" stroke-opacity=\"1\" stroke-width=\"3.2\"/>\n",
       "<circle clip-path=\"url(#clip452)\" cx=\"473.647\" cy=\"495.189\" r=\"14.4\" fill=\"#009af9\" fill-rule=\"evenodd\" fill-opacity=\"1\" stroke=\"#000000\" stroke-opacity=\"1\" stroke-width=\"3.2\"/>\n",
       "<circle clip-path=\"url(#clip452)\" cx=\"1130.29\" cy=\"1141.95\" r=\"14.4\" fill=\"#009af9\" fill-rule=\"evenodd\" fill-opacity=\"1\" stroke=\"#000000\" stroke-opacity=\"1\" stroke-width=\"3.2\"/>\n",
       "<circle clip-path=\"url(#clip452)\" cx=\"1215.02\" cy=\"318.97\" r=\"14.4\" fill=\"#009af9\" fill-rule=\"evenodd\" fill-opacity=\"1\" stroke=\"#000000\" stroke-opacity=\"1\" stroke-width=\"3.2\"/>\n",
       "<circle clip-path=\"url(#clip452)\" cx=\"900.795\" cy=\"774.613\" r=\"14.4\" fill=\"#009af9\" fill-rule=\"evenodd\" fill-opacity=\"1\" stroke=\"#000000\" stroke-opacity=\"1\" stroke-width=\"3.2\"/>\n",
       "<circle clip-path=\"url(#clip452)\" cx=\"1098.54\" cy=\"889.826\" r=\"14.4\" fill=\"#009af9\" fill-rule=\"evenodd\" fill-opacity=\"1\" stroke=\"#000000\" stroke-opacity=\"1\" stroke-width=\"3.2\"/>\n",
       "<circle clip-path=\"url(#clip452)\" cx=\"1383.69\" cy=\"690.362\" r=\"14.4\" fill=\"#009af9\" fill-rule=\"evenodd\" fill-opacity=\"1\" stroke=\"#000000\" stroke-opacity=\"1\" stroke-width=\"3.2\"/>\n",
       "<circle clip-path=\"url(#clip452)\" cx=\"1018.19\" cy=\"578.795\" r=\"14.4\" fill=\"#009af9\" fill-rule=\"evenodd\" fill-opacity=\"1\" stroke=\"#000000\" stroke-opacity=\"1\" stroke-width=\"3.2\"/>\n",
       "<circle clip-path=\"url(#clip452)\" cx=\"642.413\" cy=\"836.885\" r=\"14.4\" fill=\"#009af9\" fill-rule=\"evenodd\" fill-opacity=\"1\" stroke=\"#000000\" stroke-opacity=\"1\" stroke-width=\"3.2\"/>\n",
       "<circle clip-path=\"url(#clip452)\" cx=\"1210.53\" cy=\"1006.53\" r=\"14.4\" fill=\"#009af9\" fill-rule=\"evenodd\" fill-opacity=\"1\" stroke=\"#000000\" stroke-opacity=\"1\" stroke-width=\"3.2\"/>\n",
       "<circle clip-path=\"url(#clip452)\" cx=\"839.224\" cy=\"1069.61\" r=\"14.4\" fill=\"#009af9\" fill-rule=\"evenodd\" fill-opacity=\"1\" stroke=\"#000000\" stroke-opacity=\"1\" stroke-width=\"3.2\"/>\n",
       "<circle clip-path=\"url(#clip452)\" cx=\"425.265\" cy=\"797.035\" r=\"14.4\" fill=\"#009af9\" fill-rule=\"evenodd\" fill-opacity=\"1\" stroke=\"#000000\" stroke-opacity=\"1\" stroke-width=\"3.2\"/>\n",
       "<circle clip-path=\"url(#clip452)\" cx=\"1006.18\" cy=\"1098.67\" r=\"14.4\" fill=\"#009af9\" fill-rule=\"evenodd\" fill-opacity=\"1\" stroke=\"#000000\" stroke-opacity=\"1\" stroke-width=\"3.2\"/>\n",
       "<circle clip-path=\"url(#clip452)\" cx=\"1286.45\" cy=\"719.157\" r=\"14.4\" fill=\"#009af9\" fill-rule=\"evenodd\" fill-opacity=\"1\" stroke=\"#000000\" stroke-opacity=\"1\" stroke-width=\"3.2\"/>\n",
       "<circle clip-path=\"url(#clip452)\" cx=\"939.596\" cy=\"1054.72\" r=\"14.4\" fill=\"#009af9\" fill-rule=\"evenodd\" fill-opacity=\"1\" stroke=\"#000000\" stroke-opacity=\"1\" stroke-width=\"3.2\"/>\n",
       "<circle clip-path=\"url(#clip452)\" cx=\"974.841\" cy=\"1125.08\" r=\"14.4\" fill=\"#009af9\" fill-rule=\"evenodd\" fill-opacity=\"1\" stroke=\"#000000\" stroke-opacity=\"1\" stroke-width=\"3.2\"/>\n",
       "<circle clip-path=\"url(#clip452)\" cx=\"1021.64\" cy=\"1070.43\" r=\"14.4\" fill=\"#009af9\" fill-rule=\"evenodd\" fill-opacity=\"1\" stroke=\"#000000\" stroke-opacity=\"1\" stroke-width=\"3.2\"/>\n",
       "<circle clip-path=\"url(#clip452)\" cx=\"1077.19\" cy=\"811.101\" r=\"14.4\" fill=\"#009af9\" fill-rule=\"evenodd\" fill-opacity=\"1\" stroke=\"#000000\" stroke-opacity=\"1\" stroke-width=\"3.2\"/>\n",
       "<circle clip-path=\"url(#clip452)\" cx=\"674.531\" cy=\"803.651\" r=\"14.4\" fill=\"#009af9\" fill-rule=\"evenodd\" fill-opacity=\"1\" stroke=\"#000000\" stroke-opacity=\"1\" stroke-width=\"3.2\"/>\n",
       "<circle clip-path=\"url(#clip452)\" cx=\"975.357\" cy=\"875.504\" r=\"14.4\" fill=\"#009af9\" fill-rule=\"evenodd\" fill-opacity=\"1\" stroke=\"#000000\" stroke-opacity=\"1\" stroke-width=\"3.2\"/>\n",
       "<circle clip-path=\"url(#clip452)\" cx=\"819.291\" cy=\"879.239\" r=\"14.4\" fill=\"#009af9\" fill-rule=\"evenodd\" fill-opacity=\"1\" stroke=\"#000000\" stroke-opacity=\"1\" stroke-width=\"3.2\"/>\n",
       "<circle clip-path=\"url(#clip452)\" cx=\"1053.64\" cy=\"1032.63\" r=\"14.4\" fill=\"#009af9\" fill-rule=\"evenodd\" fill-opacity=\"1\" stroke=\"#000000\" stroke-opacity=\"1\" stroke-width=\"3.2\"/>\n",
       "<circle clip-path=\"url(#clip452)\" cx=\"997.049\" cy=\"563.081\" r=\"14.4\" fill=\"#009af9\" fill-rule=\"evenodd\" fill-opacity=\"1\" stroke=\"#000000\" stroke-opacity=\"1\" stroke-width=\"3.2\"/>\n",
       "<circle clip-path=\"url(#clip452)\" cx=\"1343.27\" cy=\"1066.59\" r=\"14.4\" fill=\"#009af9\" fill-rule=\"evenodd\" fill-opacity=\"1\" stroke=\"#000000\" stroke-opacity=\"1\" stroke-width=\"3.2\"/>\n",
       "<circle clip-path=\"url(#clip452)\" cx=\"1031.86\" cy=\"981.226\" r=\"14.4\" fill=\"#009af9\" fill-rule=\"evenodd\" fill-opacity=\"1\" stroke=\"#000000\" stroke-opacity=\"1\" stroke-width=\"3.2\"/>\n",
       "<circle clip-path=\"url(#clip452)\" cx=\"1296.78\" cy=\"667.259\" r=\"14.4\" fill=\"#009af9\" fill-rule=\"evenodd\" fill-opacity=\"1\" stroke=\"#000000\" stroke-opacity=\"1\" stroke-width=\"3.2\"/>\n",
       "<circle clip-path=\"url(#clip452)\" cx=\"626.503\" cy=\"635.564\" r=\"14.4\" fill=\"#009af9\" fill-rule=\"evenodd\" fill-opacity=\"1\" stroke=\"#000000\" stroke-opacity=\"1\" stroke-width=\"3.2\"/>\n",
       "<circle clip-path=\"url(#clip452)\" cx=\"1290.65\" cy=\"1027.86\" r=\"14.4\" fill=\"#009af9\" fill-rule=\"evenodd\" fill-opacity=\"1\" stroke=\"#000000\" stroke-opacity=\"1\" stroke-width=\"3.2\"/>\n",
       "<circle clip-path=\"url(#clip452)\" cx=\"684.973\" cy=\"1168.54\" r=\"14.4\" fill=\"#009af9\" fill-rule=\"evenodd\" fill-opacity=\"1\" stroke=\"#000000\" stroke-opacity=\"1\" stroke-width=\"3.2\"/>\n",
       "<circle clip-path=\"url(#clip452)\" cx=\"1025.27\" cy=\"1045.01\" r=\"14.4\" fill=\"#009af9\" fill-rule=\"evenodd\" fill-opacity=\"1\" stroke=\"#000000\" stroke-opacity=\"1\" stroke-width=\"3.2\"/>\n",
       "<circle clip-path=\"url(#clip452)\" cx=\"1022.32\" cy=\"414.599\" r=\"14.4\" fill=\"#009af9\" fill-rule=\"evenodd\" fill-opacity=\"1\" stroke=\"#000000\" stroke-opacity=\"1\" stroke-width=\"3.2\"/>\n",
       "<circle clip-path=\"url(#clip452)\" cx=\"818.466\" cy=\"962.902\" r=\"14.4\" fill=\"#009af9\" fill-rule=\"evenodd\" fill-opacity=\"1\" stroke=\"#000000\" stroke-opacity=\"1\" stroke-width=\"3.2\"/>\n",
       "<circle clip-path=\"url(#clip452)\" cx=\"787.654\" cy=\"881.072\" r=\"14.4\" fill=\"#009af9\" fill-rule=\"evenodd\" fill-opacity=\"1\" stroke=\"#000000\" stroke-opacity=\"1\" stroke-width=\"3.2\"/>\n",
       "<circle clip-path=\"url(#clip452)\" cx=\"980.092\" cy=\"715.669\" r=\"14.4\" fill=\"#009af9\" fill-rule=\"evenodd\" fill-opacity=\"1\" stroke=\"#000000\" stroke-opacity=\"1\" stroke-width=\"3.2\"/>\n",
       "<circle clip-path=\"url(#clip452)\" cx=\"834.296\" cy=\"646.485\" r=\"14.4\" fill=\"#009af9\" fill-rule=\"evenodd\" fill-opacity=\"1\" stroke=\"#000000\" stroke-opacity=\"1\" stroke-width=\"3.2\"/>\n",
       "<circle clip-path=\"url(#clip452)\" cx=\"705.687\" cy=\"942.581\" r=\"14.4\" fill=\"#009af9\" fill-rule=\"evenodd\" fill-opacity=\"1\" stroke=\"#000000\" stroke-opacity=\"1\" stroke-width=\"3.2\"/>\n",
       "<circle clip-path=\"url(#clip452)\" cx=\"922.053\" cy=\"1016.29\" r=\"14.4\" fill=\"#009af9\" fill-rule=\"evenodd\" fill-opacity=\"1\" stroke=\"#000000\" stroke-opacity=\"1\" stroke-width=\"3.2\"/>\n",
       "<circle clip-path=\"url(#clip452)\" cx=\"786.954\" cy=\"1078\" r=\"14.4\" fill=\"#009af9\" fill-rule=\"evenodd\" fill-opacity=\"1\" stroke=\"#000000\" stroke-opacity=\"1\" stroke-width=\"3.2\"/>\n",
       "<circle clip-path=\"url(#clip452)\" cx=\"794.53\" cy=\"296.142\" r=\"14.4\" fill=\"#009af9\" fill-rule=\"evenodd\" fill-opacity=\"1\" stroke=\"#000000\" stroke-opacity=\"1\" stroke-width=\"3.2\"/>\n",
       "<circle clip-path=\"url(#clip452)\" cx=\"934.748\" cy=\"710.025\" r=\"14.4\" fill=\"#009af9\" fill-rule=\"evenodd\" fill-opacity=\"1\" stroke=\"#000000\" stroke-opacity=\"1\" stroke-width=\"3.2\"/>\n",
       "<circle clip-path=\"url(#clip452)\" cx=\"835.347\" cy=\"1094.2\" r=\"14.4\" fill=\"#009af9\" fill-rule=\"evenodd\" fill-opacity=\"1\" stroke=\"#000000\" stroke-opacity=\"1\" stroke-width=\"3.2\"/>\n",
       "<circle clip-path=\"url(#clip452)\" cx=\"841.266\" cy=\"629.79\" r=\"14.4\" fill=\"#009af9\" fill-rule=\"evenodd\" fill-opacity=\"1\" stroke=\"#000000\" stroke-opacity=\"1\" stroke-width=\"3.2\"/>\n",
       "<circle clip-path=\"url(#clip452)\" cx=\"627.652\" cy=\"886.215\" r=\"14.4\" fill=\"#009af9\" fill-rule=\"evenodd\" fill-opacity=\"1\" stroke=\"#000000\" stroke-opacity=\"1\" stroke-width=\"3.2\"/>\n",
       "<circle clip-path=\"url(#clip452)\" cx=\"831.661\" cy=\"392.363\" r=\"14.4\" fill=\"#009af9\" fill-rule=\"evenodd\" fill-opacity=\"1\" stroke=\"#000000\" stroke-opacity=\"1\" stroke-width=\"3.2\"/>\n",
       "<circle clip-path=\"url(#clip452)\" cx=\"981.804\" cy=\"692.801\" r=\"14.4\" fill=\"#009af9\" fill-rule=\"evenodd\" fill-opacity=\"1\" stroke=\"#000000\" stroke-opacity=\"1\" stroke-width=\"3.2\"/>\n",
       "<circle clip-path=\"url(#clip452)\" cx=\"771.881\" cy=\"724.426\" r=\"14.4\" fill=\"#009af9\" fill-rule=\"evenodd\" fill-opacity=\"1\" stroke=\"#000000\" stroke-opacity=\"1\" stroke-width=\"3.2\"/>\n",
       "<circle clip-path=\"url(#clip452)\" cx=\"1229.17\" cy=\"775.083\" r=\"14.4\" fill=\"#009af9\" fill-rule=\"evenodd\" fill-opacity=\"1\" stroke=\"#000000\" stroke-opacity=\"1\" stroke-width=\"3.2\"/>\n",
       "<circle clip-path=\"url(#clip452)\" cx=\"1438.84\" cy=\"827.843\" r=\"14.4\" fill=\"#009af9\" fill-rule=\"evenodd\" fill-opacity=\"1\" stroke=\"#000000\" stroke-opacity=\"1\" stroke-width=\"3.2\"/>\n",
       "<circle clip-path=\"url(#clip452)\" cx=\"1276.11\" cy=\"1066.56\" r=\"14.4\" fill=\"#009af9\" fill-rule=\"evenodd\" fill-opacity=\"1\" stroke=\"#000000\" stroke-opacity=\"1\" stroke-width=\"3.2\"/>\n",
       "<circle clip-path=\"url(#clip452)\" cx=\"1507.07\" cy=\"1109.44\" r=\"14.4\" fill=\"#009af9\" fill-rule=\"evenodd\" fill-opacity=\"1\" stroke=\"#000000\" stroke-opacity=\"1\" stroke-width=\"3.2\"/>\n",
       "<circle clip-path=\"url(#clip452)\" cx=\"1057.16\" cy=\"860.806\" r=\"14.4\" fill=\"#009af9\" fill-rule=\"evenodd\" fill-opacity=\"1\" stroke=\"#000000\" stroke-opacity=\"1\" stroke-width=\"3.2\"/>\n",
       "<circle clip-path=\"url(#clip452)\" cx=\"894.938\" cy=\"1068.6\" r=\"14.4\" fill=\"#009af9\" fill-rule=\"evenodd\" fill-opacity=\"1\" stroke=\"#000000\" stroke-opacity=\"1\" stroke-width=\"3.2\"/>\n",
       "<circle clip-path=\"url(#clip452)\" cx=\"1240.72\" cy=\"824.051\" r=\"14.4\" fill=\"#009af9\" fill-rule=\"evenodd\" fill-opacity=\"1\" stroke=\"#000000\" stroke-opacity=\"1\" stroke-width=\"3.2\"/>\n",
       "<circle clip-path=\"url(#clip452)\" cx=\"1137.26\" cy=\"857.228\" r=\"14.4\" fill=\"#009af9\" fill-rule=\"evenodd\" fill-opacity=\"1\" stroke=\"#000000\" stroke-opacity=\"1\" stroke-width=\"3.2\"/>\n",
       "<circle clip-path=\"url(#clip452)\" cx=\"596.905\" cy=\"914.355\" r=\"14.4\" fill=\"#009af9\" fill-rule=\"evenodd\" fill-opacity=\"1\" stroke=\"#000000\" stroke-opacity=\"1\" stroke-width=\"3.2\"/>\n",
       "<circle clip-path=\"url(#clip452)\" cx=\"377.618\" cy=\"1006.63\" r=\"14.4\" fill=\"#009af9\" fill-rule=\"evenodd\" fill-opacity=\"1\" stroke=\"#000000\" stroke-opacity=\"1\" stroke-width=\"3.2\"/>\n",
       "<circle clip-path=\"url(#clip452)\" cx=\"1187.79\" cy=\"830.663\" r=\"14.4\" fill=\"#009af9\" fill-rule=\"evenodd\" fill-opacity=\"1\" stroke=\"#000000\" stroke-opacity=\"1\" stroke-width=\"3.2\"/>\n",
       "<circle clip-path=\"url(#clip452)\" cx=\"959.824\" cy=\"1151.79\" r=\"14.4\" fill=\"#009af9\" fill-rule=\"evenodd\" fill-opacity=\"1\" stroke=\"#000000\" stroke-opacity=\"1\" stroke-width=\"3.2\"/>\n",
       "<circle clip-path=\"url(#clip452)\" cx=\"990.094\" cy=\"887.119\" r=\"14.4\" fill=\"#009af9\" fill-rule=\"evenodd\" fill-opacity=\"1\" stroke=\"#000000\" stroke-opacity=\"1\" stroke-width=\"3.2\"/>\n",
       "<circle clip-path=\"url(#clip452)\" cx=\"1215.16\" cy=\"897.821\" r=\"14.4\" fill=\"#009af9\" fill-rule=\"evenodd\" fill-opacity=\"1\" stroke=\"#000000\" stroke-opacity=\"1\" stroke-width=\"3.2\"/>\n",
       "<circle clip-path=\"url(#clip452)\" cx=\"795.057\" cy=\"805.821\" r=\"14.4\" fill=\"#009af9\" fill-rule=\"evenodd\" fill-opacity=\"1\" stroke=\"#000000\" stroke-opacity=\"1\" stroke-width=\"3.2\"/>\n",
       "<circle clip-path=\"url(#clip452)\" cx=\"954.023\" cy=\"972.31\" r=\"14.4\" fill=\"#009af9\" fill-rule=\"evenodd\" fill-opacity=\"1\" stroke=\"#000000\" stroke-opacity=\"1\" stroke-width=\"3.2\"/>\n",
       "<circle clip-path=\"url(#clip452)\" cx=\"370.461\" cy=\"509.46\" r=\"14.4\" fill=\"#009af9\" fill-rule=\"evenodd\" fill-opacity=\"1\" stroke=\"#000000\" stroke-opacity=\"1\" stroke-width=\"3.2\"/>\n",
       "<circle clip-path=\"url(#clip452)\" cx=\"441.759\" cy=\"427.351\" r=\"14.4\" fill=\"#009af9\" fill-rule=\"evenodd\" fill-opacity=\"1\" stroke=\"#000000\" stroke-opacity=\"1\" stroke-width=\"3.2\"/>\n",
       "<circle clip-path=\"url(#clip452)\" cx=\"1874.5\" cy=\"1110.79\" r=\"14.4\" fill=\"#009af9\" fill-rule=\"evenodd\" fill-opacity=\"1\" stroke=\"#000000\" stroke-opacity=\"1\" stroke-width=\"3.2\"/>\n",
       "<circle clip-path=\"url(#clip452)\" cx=\"904.598\" cy=\"749.552\" r=\"14.4\" fill=\"#009af9\" fill-rule=\"evenodd\" fill-opacity=\"1\" stroke=\"#000000\" stroke-opacity=\"1\" stroke-width=\"3.2\"/>\n",
       "<circle clip-path=\"url(#clip452)\" cx=\"701.532\" cy=\"712.141\" r=\"14.4\" fill=\"#009af9\" fill-rule=\"evenodd\" fill-opacity=\"1\" stroke=\"#000000\" stroke-opacity=\"1\" stroke-width=\"3.2\"/>\n",
       "<circle clip-path=\"url(#clip452)\" cx=\"1109.35\" cy=\"934.063\" r=\"14.4\" fill=\"#009af9\" fill-rule=\"evenodd\" fill-opacity=\"1\" stroke=\"#000000\" stroke-opacity=\"1\" stroke-width=\"3.2\"/>\n",
       "<circle clip-path=\"url(#clip452)\" cx=\"998.317\" cy=\"1131.66\" r=\"14.4\" fill=\"#009af9\" fill-rule=\"evenodd\" fill-opacity=\"1\" stroke=\"#000000\" stroke-opacity=\"1\" stroke-width=\"3.2\"/>\n",
       "<circle clip-path=\"url(#clip452)\" cx=\"733.684\" cy=\"651.133\" r=\"14.4\" fill=\"#009af9\" fill-rule=\"evenodd\" fill-opacity=\"1\" stroke=\"#000000\" stroke-opacity=\"1\" stroke-width=\"3.2\"/>\n",
       "<circle clip-path=\"url(#clip452)\" cx=\"829.263\" cy=\"1010.9\" r=\"14.4\" fill=\"#009af9\" fill-rule=\"evenodd\" fill-opacity=\"1\" stroke=\"#000000\" stroke-opacity=\"1\" stroke-width=\"3.2\"/>\n",
       "<circle clip-path=\"url(#clip452)\" cx=\"1091.91\" cy=\"1037.16\" r=\"14.4\" fill=\"#009af9\" fill-rule=\"evenodd\" fill-opacity=\"1\" stroke=\"#000000\" stroke-opacity=\"1\" stroke-width=\"3.2\"/>\n",
       "<circle clip-path=\"url(#clip452)\" cx=\"885.707\" cy=\"964.453\" r=\"14.4\" fill=\"#009af9\" fill-rule=\"evenodd\" fill-opacity=\"1\" stroke=\"#000000\" stroke-opacity=\"1\" stroke-width=\"3.2\"/>\n",
       "<circle clip-path=\"url(#clip452)\" cx=\"889.209\" cy=\"1118.88\" r=\"14.4\" fill=\"#009af9\" fill-rule=\"evenodd\" fill-opacity=\"1\" stroke=\"#000000\" stroke-opacity=\"1\" stroke-width=\"3.2\"/>\n",
       "<circle clip-path=\"url(#clip452)\" cx=\"857.646\" cy=\"834.199\" r=\"14.4\" fill=\"#009af9\" fill-rule=\"evenodd\" fill-opacity=\"1\" stroke=\"#000000\" stroke-opacity=\"1\" stroke-width=\"3.2\"/>\n",
       "<circle clip-path=\"url(#clip452)\" cx=\"856.623\" cy=\"1025.85\" r=\"14.4\" fill=\"#009af9\" fill-rule=\"evenodd\" fill-opacity=\"1\" stroke=\"#000000\" stroke-opacity=\"1\" stroke-width=\"3.2\"/>\n",
       "<circle clip-path=\"url(#clip452)\" cx=\"677.424\" cy=\"1023.5\" r=\"14.4\" fill=\"#009af9\" fill-rule=\"evenodd\" fill-opacity=\"1\" stroke=\"#000000\" stroke-opacity=\"1\" stroke-width=\"3.2\"/>\n",
       "<circle clip-path=\"url(#clip452)\" cx=\"919.721\" cy=\"1093.03\" r=\"14.4\" fill=\"#009af9\" fill-rule=\"evenodd\" fill-opacity=\"1\" stroke=\"#000000\" stroke-opacity=\"1\" stroke-width=\"3.2\"/>\n",
       "<circle clip-path=\"url(#clip452)\" cx=\"935.073\" cy=\"575.187\" r=\"14.4\" fill=\"#009af9\" fill-rule=\"evenodd\" fill-opacity=\"1\" stroke=\"#000000\" stroke-opacity=\"1\" stroke-width=\"3.2\"/>\n",
       "<circle clip-path=\"url(#clip452)\" cx=\"1081.44\" cy=\"903.81\" r=\"14.4\" fill=\"#009af9\" fill-rule=\"evenodd\" fill-opacity=\"1\" stroke=\"#000000\" stroke-opacity=\"1\" stroke-width=\"3.2\"/>\n",
       "<circle clip-path=\"url(#clip452)\" cx=\"1059.38\" cy=\"906.309\" r=\"14.4\" fill=\"#009af9\" fill-rule=\"evenodd\" fill-opacity=\"1\" stroke=\"#000000\" stroke-opacity=\"1\" stroke-width=\"3.2\"/>\n",
       "<circle clip-path=\"url(#clip452)\" cx=\"925.169\" cy=\"1088.34\" r=\"14.4\" fill=\"#009af9\" fill-rule=\"evenodd\" fill-opacity=\"1\" stroke=\"#000000\" stroke-opacity=\"1\" stroke-width=\"3.2\"/>\n",
       "<circle clip-path=\"url(#clip452)\" cx=\"1022.78\" cy=\"823.605\" r=\"14.4\" fill=\"#009af9\" fill-rule=\"evenodd\" fill-opacity=\"1\" stroke=\"#000000\" stroke-opacity=\"1\" stroke-width=\"3.2\"/>\n",
       "<circle clip-path=\"url(#clip452)\" cx=\"1221.72\" cy=\"524.486\" r=\"14.4\" fill=\"#009af9\" fill-rule=\"evenodd\" fill-opacity=\"1\" stroke=\"#000000\" stroke-opacity=\"1\" stroke-width=\"3.2\"/>\n",
       "<circle clip-path=\"url(#clip452)\" cx=\"1096.03\" cy=\"1033.03\" r=\"14.4\" fill=\"#009af9\" fill-rule=\"evenodd\" fill-opacity=\"1\" stroke=\"#000000\" stroke-opacity=\"1\" stroke-width=\"3.2\"/>\n",
       "<circle clip-path=\"url(#clip452)\" cx=\"864.484\" cy=\"929.403\" r=\"14.4\" fill=\"#009af9\" fill-rule=\"evenodd\" fill-opacity=\"1\" stroke=\"#000000\" stroke-opacity=\"1\" stroke-width=\"3.2\"/>\n",
       "<circle clip-path=\"url(#clip452)\" cx=\"1033.97\" cy=\"598.993\" r=\"14.4\" fill=\"#009af9\" fill-rule=\"evenodd\" fill-opacity=\"1\" stroke=\"#000000\" stroke-opacity=\"1\" stroke-width=\"3.2\"/>\n",
       "<circle clip-path=\"url(#clip452)\" cx=\"756.976\" cy=\"1201.11\" r=\"14.4\" fill=\"#009af9\" fill-rule=\"evenodd\" fill-opacity=\"1\" stroke=\"#000000\" stroke-opacity=\"1\" stroke-width=\"3.2\"/>\n",
       "<circle clip-path=\"url(#clip452)\" cx=\"798.332\" cy=\"1026.76\" r=\"14.4\" fill=\"#009af9\" fill-rule=\"evenodd\" fill-opacity=\"1\" stroke=\"#000000\" stroke-opacity=\"1\" stroke-width=\"3.2\"/>\n",
       "<circle clip-path=\"url(#clip452)\" cx=\"845.707\" cy=\"718.88\" r=\"14.4\" fill=\"#009af9\" fill-rule=\"evenodd\" fill-opacity=\"1\" stroke=\"#000000\" stroke-opacity=\"1\" stroke-width=\"3.2\"/>\n",
       "<circle clip-path=\"url(#clip452)\" cx=\"602.898\" cy=\"611.525\" r=\"14.4\" fill=\"#009af9\" fill-rule=\"evenodd\" fill-opacity=\"1\" stroke=\"#000000\" stroke-opacity=\"1\" stroke-width=\"3.2\"/>\n",
       "<circle clip-path=\"url(#clip452)\" cx=\"709.222\" cy=\"1214.79\" r=\"14.4\" fill=\"#009af9\" fill-rule=\"evenodd\" fill-opacity=\"1\" stroke=\"#000000\" stroke-opacity=\"1\" stroke-width=\"3.2\"/>\n",
       "<circle clip-path=\"url(#clip452)\" cx=\"1036.95\" cy=\"1088.65\" r=\"14.4\" fill=\"#009af9\" fill-rule=\"evenodd\" fill-opacity=\"1\" stroke=\"#000000\" stroke-opacity=\"1\" stroke-width=\"3.2\"/>\n",
       "<circle clip-path=\"url(#clip452)\" cx=\"508.748\" cy=\"578.767\" r=\"14.4\" fill=\"#009af9\" fill-rule=\"evenodd\" fill-opacity=\"1\" stroke=\"#000000\" stroke-opacity=\"1\" stroke-width=\"3.2\"/>\n",
       "<circle clip-path=\"url(#clip452)\" cx=\"1052.81\" cy=\"643.519\" r=\"14.4\" fill=\"#009af9\" fill-rule=\"evenodd\" fill-opacity=\"1\" stroke=\"#000000\" stroke-opacity=\"1\" stroke-width=\"3.2\"/>\n",
       "<circle clip-path=\"url(#clip452)\" cx=\"993.098\" cy=\"1039.11\" r=\"14.4\" fill=\"#009af9\" fill-rule=\"evenodd\" fill-opacity=\"1\" stroke=\"#000000\" stroke-opacity=\"1\" stroke-width=\"3.2\"/>\n",
       "<circle clip-path=\"url(#clip452)\" cx=\"1167.91\" cy=\"887.764\" r=\"14.4\" fill=\"#009af9\" fill-rule=\"evenodd\" fill-opacity=\"1\" stroke=\"#000000\" stroke-opacity=\"1\" stroke-width=\"3.2\"/>\n",
       "<circle clip-path=\"url(#clip452)\" cx=\"611.556\" cy=\"989.745\" r=\"14.4\" fill=\"#009af9\" fill-rule=\"evenodd\" fill-opacity=\"1\" stroke=\"#000000\" stroke-opacity=\"1\" stroke-width=\"3.2\"/>\n",
       "<circle clip-path=\"url(#clip452)\" cx=\"719.649\" cy=\"824.82\" r=\"14.4\" fill=\"#009af9\" fill-rule=\"evenodd\" fill-opacity=\"1\" stroke=\"#000000\" stroke-opacity=\"1\" stroke-width=\"3.2\"/>\n",
       "<circle clip-path=\"url(#clip452)\" cx=\"598.503\" cy=\"999.645\" r=\"14.4\" fill=\"#009af9\" fill-rule=\"evenodd\" fill-opacity=\"1\" stroke=\"#000000\" stroke-opacity=\"1\" stroke-width=\"3.2\"/>\n",
       "<circle clip-path=\"url(#clip452)\" cx=\"857.997\" cy=\"1209.02\" r=\"14.4\" fill=\"#009af9\" fill-rule=\"evenodd\" fill-opacity=\"1\" stroke=\"#000000\" stroke-opacity=\"1\" stroke-width=\"3.2\"/>\n",
       "<circle clip-path=\"url(#clip452)\" cx=\"934.155\" cy=\"1273.05\" r=\"14.4\" fill=\"#009af9\" fill-rule=\"evenodd\" fill-opacity=\"1\" stroke=\"#000000\" stroke-opacity=\"1\" stroke-width=\"3.2\"/>\n",
       "<circle clip-path=\"url(#clip452)\" cx=\"727.492\" cy=\"952.337\" r=\"14.4\" fill=\"#009af9\" fill-rule=\"evenodd\" fill-opacity=\"1\" stroke=\"#000000\" stroke-opacity=\"1\" stroke-width=\"3.2\"/>\n",
       "<circle clip-path=\"url(#clip452)\" cx=\"741.595\" cy=\"664.277\" r=\"14.4\" fill=\"#009af9\" fill-rule=\"evenodd\" fill-opacity=\"1\" stroke=\"#000000\" stroke-opacity=\"1\" stroke-width=\"3.2\"/>\n",
       "<circle clip-path=\"url(#clip452)\" cx=\"909.774\" cy=\"686.642\" r=\"14.4\" fill=\"#009af9\" fill-rule=\"evenodd\" fill-opacity=\"1\" stroke=\"#000000\" stroke-opacity=\"1\" stroke-width=\"3.2\"/>\n",
       "<circle clip-path=\"url(#clip452)\" cx=\"950.692\" cy=\"885.563\" r=\"14.4\" fill=\"#009af9\" fill-rule=\"evenodd\" fill-opacity=\"1\" stroke=\"#000000\" stroke-opacity=\"1\" stroke-width=\"3.2\"/>\n",
       "<circle clip-path=\"url(#clip452)\" cx=\"913.724\" cy=\"990.429\" r=\"14.4\" fill=\"#009af9\" fill-rule=\"evenodd\" fill-opacity=\"1\" stroke=\"#000000\" stroke-opacity=\"1\" stroke-width=\"3.2\"/>\n",
       "<circle clip-path=\"url(#clip452)\" cx=\"827.529\" cy=\"1268.34\" r=\"14.4\" fill=\"#009af9\" fill-rule=\"evenodd\" fill-opacity=\"1\" stroke=\"#000000\" stroke-opacity=\"1\" stroke-width=\"3.2\"/>\n",
       "<circle clip-path=\"url(#clip452)\" cx=\"1646.62\" cy=\"525.075\" r=\"14.4\" fill=\"#009af9\" fill-rule=\"evenodd\" fill-opacity=\"1\" stroke=\"#000000\" stroke-opacity=\"1\" stroke-width=\"3.2\"/>\n",
       "<circle clip-path=\"url(#clip452)\" cx=\"841.119\" cy=\"852.592\" r=\"14.4\" fill=\"#009af9\" fill-rule=\"evenodd\" fill-opacity=\"1\" stroke=\"#000000\" stroke-opacity=\"1\" stroke-width=\"3.2\"/>\n",
       "<circle clip-path=\"url(#clip452)\" cx=\"1353.47\" cy=\"1182.83\" r=\"14.4\" fill=\"#009af9\" fill-rule=\"evenodd\" fill-opacity=\"1\" stroke=\"#000000\" stroke-opacity=\"1\" stroke-width=\"3.2\"/>\n",
       "<circle clip-path=\"url(#clip452)\" cx=\"1374.63\" cy=\"539.183\" r=\"14.4\" fill=\"#009af9\" fill-rule=\"evenodd\" fill-opacity=\"1\" stroke=\"#000000\" stroke-opacity=\"1\" stroke-width=\"3.2\"/>\n",
       "<circle clip-path=\"url(#clip452)\" cx=\"1129.15\" cy=\"898.342\" r=\"14.4\" fill=\"#009af9\" fill-rule=\"evenodd\" fill-opacity=\"1\" stroke=\"#000000\" stroke-opacity=\"1\" stroke-width=\"3.2\"/>\n",
       "<circle clip-path=\"url(#clip452)\" cx=\"1693.76\" cy=\"762.347\" r=\"14.4\" fill=\"#009af9\" fill-rule=\"evenodd\" fill-opacity=\"1\" stroke=\"#000000\" stroke-opacity=\"1\" stroke-width=\"3.2\"/>\n",
       "<circle clip-path=\"url(#clip452)\" cx=\"774.378\" cy=\"1292.62\" r=\"14.4\" fill=\"#009af9\" fill-rule=\"evenodd\" fill-opacity=\"1\" stroke=\"#000000\" stroke-opacity=\"1\" stroke-width=\"3.2\"/>\n",
       "<circle clip-path=\"url(#clip452)\" cx=\"1199.8\" cy=\"1015.5\" r=\"14.4\" fill=\"#009af9\" fill-rule=\"evenodd\" fill-opacity=\"1\" stroke=\"#000000\" stroke-opacity=\"1\" stroke-width=\"3.2\"/>\n",
       "<circle clip-path=\"url(#clip452)\" cx=\"717.687\" cy=\"1191.6\" r=\"14.4\" fill=\"#009af9\" fill-rule=\"evenodd\" fill-opacity=\"1\" stroke=\"#000000\" stroke-opacity=\"1\" stroke-width=\"3.2\"/>\n",
       "<circle clip-path=\"url(#clip452)\" cx=\"664.944\" cy=\"792.839\" r=\"14.4\" fill=\"#009af9\" fill-rule=\"evenodd\" fill-opacity=\"1\" stroke=\"#000000\" stroke-opacity=\"1\" stroke-width=\"3.2\"/>\n",
       "<circle clip-path=\"url(#clip452)\" cx=\"1081.76\" cy=\"747.312\" r=\"14.4\" fill=\"#009af9\" fill-rule=\"evenodd\" fill-opacity=\"1\" stroke=\"#000000\" stroke-opacity=\"1\" stroke-width=\"3.2\"/>\n",
       "<circle clip-path=\"url(#clip452)\" cx=\"712.273\" cy=\"793.33\" r=\"14.4\" fill=\"#009af9\" fill-rule=\"evenodd\" fill-opacity=\"1\" stroke=\"#000000\" stroke-opacity=\"1\" stroke-width=\"3.2\"/>\n",
       "<circle clip-path=\"url(#clip452)\" cx=\"829.966\" cy=\"758.28\" r=\"14.4\" fill=\"#009af9\" fill-rule=\"evenodd\" fill-opacity=\"1\" stroke=\"#000000\" stroke-opacity=\"1\" stroke-width=\"3.2\"/>\n",
       "<circle clip-path=\"url(#clip452)\" cx=\"1571.79\" cy=\"817.921\" r=\"14.4\" fill=\"#009af9\" fill-rule=\"evenodd\" fill-opacity=\"1\" stroke=\"#000000\" stroke-opacity=\"1\" stroke-width=\"3.2\"/>\n",
       "<circle clip-path=\"url(#clip452)\" cx=\"679.976\" cy=\"709.958\" r=\"14.4\" fill=\"#009af9\" fill-rule=\"evenodd\" fill-opacity=\"1\" stroke=\"#000000\" stroke-opacity=\"1\" stroke-width=\"3.2\"/>\n",
       "<circle clip-path=\"url(#clip452)\" cx=\"779.536\" cy=\"674.396\" r=\"14.4\" fill=\"#009af9\" fill-rule=\"evenodd\" fill-opacity=\"1\" stroke=\"#000000\" stroke-opacity=\"1\" stroke-width=\"3.2\"/>\n",
       "<circle clip-path=\"url(#clip452)\" cx=\"1416.47\" cy=\"864.078\" r=\"14.4\" fill=\"#009af9\" fill-rule=\"evenodd\" fill-opacity=\"1\" stroke=\"#000000\" stroke-opacity=\"1\" stroke-width=\"3.2\"/>\n",
       "<circle clip-path=\"url(#clip452)\" cx=\"1509.3\" cy=\"837.002\" r=\"14.4\" fill=\"#009af9\" fill-rule=\"evenodd\" fill-opacity=\"1\" stroke=\"#000000\" stroke-opacity=\"1\" stroke-width=\"3.2\"/>\n",
       "<circle clip-path=\"url(#clip452)\" cx=\"960.288\" cy=\"832.389\" r=\"14.4\" fill=\"#009af9\" fill-rule=\"evenodd\" fill-opacity=\"1\" stroke=\"#000000\" stroke-opacity=\"1\" stroke-width=\"3.2\"/>\n",
       "<circle clip-path=\"url(#clip452)\" cx=\"940.416\" cy=\"1030.98\" r=\"14.4\" fill=\"#009af9\" fill-rule=\"evenodd\" fill-opacity=\"1\" stroke=\"#000000\" stroke-opacity=\"1\" stroke-width=\"3.2\"/>\n",
       "<circle clip-path=\"url(#clip452)\" cx=\"811.945\" cy=\"854.299\" r=\"14.4\" fill=\"#009af9\" fill-rule=\"evenodd\" fill-opacity=\"1\" stroke=\"#000000\" stroke-opacity=\"1\" stroke-width=\"3.2\"/>\n",
       "<circle clip-path=\"url(#clip452)\" cx=\"788.139\" cy=\"1137.48\" r=\"14.4\" fill=\"#009af9\" fill-rule=\"evenodd\" fill-opacity=\"1\" stroke=\"#000000\" stroke-opacity=\"1\" stroke-width=\"3.2\"/>\n",
       "<circle clip-path=\"url(#clip452)\" cx=\"1236.03\" cy=\"1155.69\" r=\"14.4\" fill=\"#009af9\" fill-rule=\"evenodd\" fill-opacity=\"1\" stroke=\"#000000\" stroke-opacity=\"1\" stroke-width=\"3.2\"/>\n",
       "<circle clip-path=\"url(#clip452)\" cx=\"1022.94\" cy=\"546.955\" r=\"14.4\" fill=\"#009af9\" fill-rule=\"evenodd\" fill-opacity=\"1\" stroke=\"#000000\" stroke-opacity=\"1\" stroke-width=\"3.2\"/>\n",
       "<circle clip-path=\"url(#clip452)\" cx=\"734.509\" cy=\"1167.53\" r=\"14.4\" fill=\"#009af9\" fill-rule=\"evenodd\" fill-opacity=\"1\" stroke=\"#000000\" stroke-opacity=\"1\" stroke-width=\"3.2\"/>\n",
       "<circle clip-path=\"url(#clip452)\" cx=\"600.947\" cy=\"872.389\" r=\"14.4\" fill=\"#009af9\" fill-rule=\"evenodd\" fill-opacity=\"1\" stroke=\"#000000\" stroke-opacity=\"1\" stroke-width=\"3.2\"/>\n",
       "<circle clip-path=\"url(#clip452)\" cx=\"608.528\" cy=\"1157.05\" r=\"14.4\" fill=\"#009af9\" fill-rule=\"evenodd\" fill-opacity=\"1\" stroke=\"#000000\" stroke-opacity=\"1\" stroke-width=\"3.2\"/>\n",
       "<circle clip-path=\"url(#clip452)\" cx=\"734.585\" cy=\"890.236\" r=\"14.4\" fill=\"#009af9\" fill-rule=\"evenodd\" fill-opacity=\"1\" stroke=\"#000000\" stroke-opacity=\"1\" stroke-width=\"3.2\"/>\n",
       "<circle clip-path=\"url(#clip452)\" cx=\"1184.89\" cy=\"952.43\" r=\"14.4\" fill=\"#009af9\" fill-rule=\"evenodd\" fill-opacity=\"1\" stroke=\"#000000\" stroke-opacity=\"1\" stroke-width=\"3.2\"/>\n",
       "<circle clip-path=\"url(#clip452)\" cx=\"1420.14\" cy=\"703.958\" r=\"14.4\" fill=\"#009af9\" fill-rule=\"evenodd\" fill-opacity=\"1\" stroke=\"#000000\" stroke-opacity=\"1\" stroke-width=\"3.2\"/>\n",
       "</svg>\n"
      ]
     },
     "execution_count": 14,
     "metadata": {},
     "output_type": "execute_result"
    }
   ],
   "source": [
    "scatter(residuals(out0),predict(out0),lab=\"\")"
   ]
  },
  {
   "cell_type": "markdown",
   "metadata": {},
   "source": [
    "## GLM\n",
    "\n",
    "The syntax for generalized linear models is very similar to that of linear models.  One small difference is that here the estimation is done using maximum likelihood, and the user has to specify the distribution of the outcome/response, and the link function they wish to use.  There is no quasi-likelihood option here."
   ]
  },
  {
   "cell_type": "code",
   "execution_count": 15,
   "metadata": {},
   "outputs": [
    {
     "data": {
      "text/plain": [
       "StatsModels.TableRegressionModel{GeneralizedLinearModel{GLM.GlmResp{Vector{Float64}, Normal{Float64}, LogLink}, GLM.DensePredChol{Float64, LinearAlgebra.CholeskyPivoted{Float64, Matrix{Float64}, Vector{Int64}}}}, Matrix{Float64}}\n",
       "\n",
       "it11 ~ 1 + :(log(it09))\n",
       "\n",
       "Coefficients:\n",
       "──────────────────────────────────────────────────────────────────────────\n",
       "                  Coef.  Std. Error      z  Pr(>|z|)  Lower 95%  Upper 95%\n",
       "──────────────────────────────────────────────────────────────────────────\n",
       "(Intercept)  -0.0167844   0.14326    -0.12    0.9067  -0.29757    0.264001\n",
       "log(it09)     0.88134     0.0559823  15.74    <1e-55   0.771617   0.991063\n",
       "──────────────────────────────────────────────────────────────────────────"
      ]
     },
     "execution_count": 15,
     "metadata": {},
     "output_type": "execute_result"
    }
   ],
   "source": [
    "out1 = glm(@formula( it11 ~ log(it09) ),agren,Normal(),LogLink())"
   ]
  },
  {
   "cell_type": "markdown",
   "metadata": {},
   "source": [
    "## Generating random numbers\n",
    "\n",
    "In Julia distributions are a type, so there is a uniform interface for interacting with them using multiple dispatch.  The idea is that depending on the type of distribution, a different function gets called behind the scenes. Here is how we generate random uniform or normal numbers."
   ]
  },
  {
   "cell_type": "code",
   "execution_count": 16,
   "metadata": {},
   "outputs": [],
   "source": [
    "using Random\n",
    "using Distributions"
   ]
  },
  {
   "cell_type": "code",
   "execution_count": 17,
   "metadata": {
    "tags": []
   },
   "outputs": [
    {
     "data": {
      "text/plain": [
       "2×2 Matrix{Float64}:\n",
       " 0.269737   0.56462\n",
       " 0.0882769  0.58333"
      ]
     },
     "execution_count": 17,
     "metadata": {},
     "output_type": "execute_result"
    }
   ],
   "source": [
    "rand(Uniform(),2,2)"
   ]
  },
  {
   "cell_type": "code",
   "execution_count": 18,
   "metadata": {
    "tags": []
   },
   "outputs": [
    {
     "data": {
      "text/plain": [
       "2×2 Matrix{Float64}:\n",
       " -1.33676    0.40877\n",
       "  0.111623  -1.69938"
      ]
     },
     "execution_count": 18,
     "metadata": {},
     "output_type": "execute_result"
    }
   ],
   "source": [
    "rand(Normal(),2,2)"
   ]
  },
  {
   "cell_type": "markdown",
   "metadata": {},
   "source": [
    "For reproducibility, one might want to specify the type of pseudo random number generator and the seed."
   ]
  },
  {
   "cell_type": "code",
   "execution_count": 19,
   "metadata": {},
   "outputs": [
    {
     "data": {
      "text/plain": [
       "4×4 Matrix{Float64}:\n",
       " 0.260125   0.9676    0.972755  0.557837\n",
       " 0.190313   0.645691  0.868194  0.893169\n",
       " 0.660911   0.545968  0.172707  0.199381\n",
       " 0.0671932  0.526845  0.52399   0.0893719"
      ]
     },
     "execution_count": 19,
     "metadata": {},
     "output_type": "execute_result"
    }
   ],
   "source": [
    "# initialize random number generator\n",
    "rnd = MersenneTwister(100)\n",
    "# Draw uniform (0,1) numbers in 4x4 matrix\n",
    "rand(rnd,Uniform(),4,4)"
   ]
  },
  {
   "cell_type": "markdown",
   "metadata": {},
   "source": [
    "## Calculating probabilities and densities\n",
    "\n",
    "The interface for calculating othe probabilistic quantities is also uniform."
   ]
  },
  {
   "cell_type": "markdown",
   "metadata": {},
   "source": [
    "Calculating the CDF of the normal distribution"
   ]
  },
  {
   "cell_type": "code",
   "execution_count": 20,
   "metadata": {},
   "outputs": [
    {
     "data": {
      "text/plain": [
       "0.9750021048517795"
      ]
     },
     "execution_count": 20,
     "metadata": {},
     "output_type": "execute_result"
    }
   ],
   "source": [
    "cdf(Normal(0,1),1.96)"
   ]
  },
  {
   "cell_type": "markdown",
   "metadata": {},
   "source": [
    "Quantiles of the normal distribution."
   ]
  },
  {
   "cell_type": "code",
   "execution_count": 21,
   "metadata": {},
   "outputs": [
    {
     "data": {
      "text/plain": [
       "1.6448536269514717"
      ]
     },
     "execution_count": 21,
     "metadata": {},
     "output_type": "execute_result"
    }
   ],
   "source": [
    "quantile(Normal(),0.95)"
   ]
  },
  {
   "cell_type": "markdown",
   "metadata": {},
   "source": [
    "Generating random normal variables with mean 0.3 and standard deviation 0.5."
   ]
  },
  {
   "cell_type": "code",
   "execution_count": 22,
   "metadata": {},
   "outputs": [],
   "source": [
    "x = rand(Normal(0.3,0.5),1000);"
   ]
  },
  {
   "cell_type": "markdown",
   "metadata": {},
   "source": [
    "We now fit the MLE assuming a normal distribution."
   ]
  },
  {
   "cell_type": "code",
   "execution_count": 23,
   "metadata": {},
   "outputs": [
    {
     "data": {
      "text/plain": [
       "Normal{Float64}(μ=0.2913864375391153, σ=0.5021307353379704)"
      ]
     },
     "execution_count": 23,
     "metadata": {},
     "output_type": "execute_result"
    }
   ],
   "source": [
    "normFit = fit_mle(Normal,x)"
   ]
  },
  {
   "cell_type": "markdown",
   "metadata": {},
   "source": [
    "We generate normal variables with parameters equal to the estimated ones."
   ]
  },
  {
   "cell_type": "code",
   "execution_count": 24,
   "metadata": {},
   "outputs": [
    {
     "data": {
      "text/plain": [
       "10-element Vector{Float64}:\n",
       "  0.14535895774249635\n",
       "  0.14147730392040908\n",
       " -0.7133458223299751\n",
       "  0.03838521988178704\n",
       " -0.2447610824860888\n",
       "  1.0886282344882898\n",
       "  0.6180851039635277\n",
       "  0.1933881528782382\n",
       "  0.40499703242631024\n",
       "  0.7402528154043158"
      ]
     },
     "execution_count": 24,
     "metadata": {},
     "output_type": "execute_result"
    }
   ],
   "source": [
    "rand(normFit,10)"
   ]
  },
  {
   "cell_type": "markdown",
   "metadata": {},
   "source": [
    "We will see more of this in the Bayesian data analysis lecture."
   ]
  },
  {
   "cell_type": "markdown",
   "metadata": {
    "tags": []
   },
   "source": [
    "## Data wrangling tasks\n",
    "\n",
    "The DataFrames package has utilities for manipulating data frames.  As an example, we load a dataset for English Premier League results data."
   ]
  },
  {
   "cell_type": "code",
   "execution_count": 25,
   "metadata": {},
   "outputs": [],
   "source": [
    "eplURL = \"https://raw.githubusercontent.com/sens/smalldata/master/soccer/E0.csv\"\n",
    "epl = CSV.read(download(eplURL),DataFrame);"
   ]
  },
  {
   "cell_type": "code",
   "execution_count": 26,
   "metadata": {},
   "outputs": [
    {
     "data": {
      "text/html": [
       "<div><div style = \"float: left;\"><span>DataFrameRow (65 columns)</span></div><div style = \"clear: both;\"></div></div><div class = \"data-frame\" style = \"overflow-x: scroll;\"><table class = \"data-frame\" style = \"margin-bottom: 6px;\"><thead><tr class = \"header\"><th class = \"rowLabel\" style = \"font-weight: bold; text-align: right;\">Row</th><th style = \"text-align: left;\">Div</th><th style = \"text-align: left;\">Date</th><th style = \"text-align: left;\">HomeTeam</th><th style = \"text-align: left;\">AwayTeam</th><th style = \"text-align: left;\">FTHG</th><th style = \"text-align: left;\">FTAG</th><th style = \"text-align: left;\">FTR</th><th style = \"text-align: left;\">HTHG</th><th style = \"text-align: left;\">HTAG</th><th style = \"text-align: left;\">HTR</th><th style = \"text-align: left;\">Referee</th><th style = \"text-align: left;\">HS</th><th style = \"text-align: left;\">AS</th><th style = \"text-align: left;\">HST</th><th style = \"text-align: left;\">AST</th><th style = \"text-align: left;\">HF</th><th style = \"text-align: left;\">AF</th><th style = \"text-align: left;\">HC</th><th style = \"text-align: left;\">AC</th><th style = \"text-align: left;\">HY</th><th style = \"text-align: left;\">AY</th><th style = \"text-align: left;\">HR</th><th style = \"text-align: left;\">AR</th><th style = \"text-align: left;\">B365H</th><th style = \"text-align: left;\">B365D</th><th style = \"text-align: left;\">B365A</th><th style = \"text-align: left;\">BWH</th><th style = \"text-align: left;\">BWD</th><th style = \"text-align: left;\">BWA</th><th style = \"text-align: left;\">IWH</th><th style = \"text-align: left;\">IWD</th><th style = \"text-align: left;\">IWA</th><th style = \"text-align: left;\">LBH</th><th style = \"text-align: left;\">LBD</th><th style = \"text-align: left;\">LBA</th><th style = \"text-align: left;\">PSH</th><th style = \"text-align: left;\">PSD</th><th style = \"text-align: left;\">PSA</th><th style = \"text-align: left;\">WHH</th><th style = \"text-align: left;\">WHD</th><th style = \"text-align: left;\">WHA</th><th style = \"text-align: left;\">VCH</th><th style = \"text-align: left;\">VCD</th><th style = \"text-align: left;\">VCA</th><th style = \"text-align: left;\">Bb1X2</th><th style = \"text-align: left;\">BbMxH</th><th style = \"text-align: left;\">BbAvH</th><th style = \"text-align: left;\">BbMxD</th><th style = \"text-align: left;\">BbAvD</th><th style = \"text-align: left;\">BbMxA</th><th style = \"text-align: left;\">BbAvA</th><th style = \"text-align: left;\">BbOU</th><th style = \"text-align: left;\">BbMx&gt;2.5</th><th style = \"text-align: left;\">BbAv&gt;2.5</th><th style = \"text-align: left;\">BbMx&lt;2.5</th><th style = \"text-align: left;\">BbAv&lt;2.5</th><th style = \"text-align: left;\">BbAH</th><th style = \"text-align: left;\">BbAHh</th><th style = \"text-align: left;\">BbMxAHH</th><th style = \"text-align: left;\">BbAvAHH</th><th style = \"text-align: left;\">BbMxAHA</th><th style = \"text-align: left;\">BbAvAHA</th><th style = \"text-align: left;\">PSCH</th><th style = \"text-align: left;\">PSCD</th><th style = \"text-align: left;\">PSCA</th></tr><tr class = \"subheader headerLastRow\"><th class = \"rowLabel\" style = \"font-weight: bold; text-align: right;\"></th><th title = \"String3\" style = \"text-align: left;\">String3</th><th title = \"String15\" style = \"text-align: left;\">String15</th><th title = \"String15\" style = \"text-align: left;\">String15</th><th title = \"String15\" style = \"text-align: left;\">String15</th><th title = \"Int64\" style = \"text-align: left;\">Int64</th><th title = \"Int64\" style = \"text-align: left;\">Int64</th><th title = \"String1\" style = \"text-align: left;\">String1</th><th title = \"Int64\" style = \"text-align: left;\">Int64</th><th title = \"Int64\" style = \"text-align: left;\">Int64</th><th title = \"String1\" style = \"text-align: left;\">String1</th><th title = \"String15\" style = \"text-align: left;\">String15</th><th title = \"Int64\" style = \"text-align: left;\">Int64</th><th title = \"Int64\" style = \"text-align: left;\">Int64</th><th title = \"Int64\" style = \"text-align: left;\">Int64</th><th title = \"Int64\" style = \"text-align: left;\">Int64</th><th title = \"Int64\" style = \"text-align: left;\">Int64</th><th title = \"Int64\" style = \"text-align: left;\">Int64</th><th title = \"Int64\" style = \"text-align: left;\">Int64</th><th title = \"Int64\" style = \"text-align: left;\">Int64</th><th title = \"Int64\" style = \"text-align: left;\">Int64</th><th title = \"Int64\" style = \"text-align: left;\">Int64</th><th title = \"Int64\" style = \"text-align: left;\">Int64</th><th title = \"Int64\" style = \"text-align: left;\">Int64</th><th title = \"Float64\" style = \"text-align: left;\">Float64</th><th title = \"Float64\" style = \"text-align: left;\">Float64</th><th title = \"Float64\" style = \"text-align: left;\">Float64</th><th title = \"Union{Missing, Float64}\" style = \"text-align: left;\">Float64?</th><th title = \"Union{Missing, Float64}\" style = \"text-align: left;\">Float64?</th><th title = \"Union{Missing, Float64}\" style = \"text-align: left;\">Float64?</th><th title = \"Float64\" style = \"text-align: left;\">Float64</th><th title = \"Float64\" style = \"text-align: left;\">Float64</th><th title = \"Float64\" style = \"text-align: left;\">Float64</th><th title = \"Float64\" style = \"text-align: left;\">Float64</th><th title = \"Float64\" style = \"text-align: left;\">Float64</th><th title = \"Float64\" style = \"text-align: left;\">Float64</th><th title = \"Float64\" style = \"text-align: left;\">Float64</th><th title = \"Float64\" style = \"text-align: left;\">Float64</th><th title = \"Float64\" style = \"text-align: left;\">Float64</th><th title = \"Float64\" style = \"text-align: left;\">Float64</th><th title = \"Float64\" style = \"text-align: left;\">Float64</th><th title = \"Float64\" style = \"text-align: left;\">Float64</th><th title = \"Float64\" style = \"text-align: left;\">Float64</th><th title = \"Float64\" style = \"text-align: left;\">Float64</th><th title = \"Float64\" style = \"text-align: left;\">Float64</th><th title = \"Int64\" style = \"text-align: left;\">Int64</th><th title = \"Float64\" style = \"text-align: left;\">Float64</th><th title = \"Float64\" style = \"text-align: left;\">Float64</th><th title = \"Float64\" style = \"text-align: left;\">Float64</th><th title = \"Float64\" style = \"text-align: left;\">Float64</th><th title = \"Float64\" style = \"text-align: left;\">Float64</th><th title = \"Float64\" style = \"text-align: left;\">Float64</th><th title = \"Int64\" style = \"text-align: left;\">Int64</th><th title = \"Float64\" style = \"text-align: left;\">Float64</th><th title = \"Float64\" style = \"text-align: left;\">Float64</th><th title = \"Float64\" style = \"text-align: left;\">Float64</th><th title = \"Float64\" style = \"text-align: left;\">Float64</th><th title = \"Int64\" style = \"text-align: left;\">Int64</th><th title = \"Float64\" style = \"text-align: left;\">Float64</th><th title = \"Float64\" style = \"text-align: left;\">Float64</th><th title = \"Float64\" style = \"text-align: left;\">Float64</th><th title = \"Float64\" style = \"text-align: left;\">Float64</th><th title = \"Float64\" style = \"text-align: left;\">Float64</th><th title = \"Float64\" style = \"text-align: left;\">Float64</th><th title = \"Float64\" style = \"text-align: left;\">Float64</th><th title = \"Float64\" style = \"text-align: left;\">Float64</th></tr></thead><tbody><tr><td class = \"rowLabel\" style = \"font-weight: bold; text-align: right;\">1</td><td style = \"text-align: left;\">E0</td><td style = \"text-align: left;\">08/08/15</td><td style = \"text-align: left;\">Bournemouth</td><td style = \"text-align: left;\">Aston Villa</td><td style = \"text-align: right;\">0</td><td style = \"text-align: right;\">1</td><td style = \"text-align: left;\">A</td><td style = \"text-align: right;\">0</td><td style = \"text-align: right;\">0</td><td style = \"text-align: left;\">D</td><td style = \"text-align: left;\">M Clattenburg</td><td style = \"text-align: right;\">11</td><td style = \"text-align: right;\">7</td><td style = \"text-align: right;\">2</td><td style = \"text-align: right;\">3</td><td style = \"text-align: right;\">13</td><td style = \"text-align: right;\">13</td><td style = \"text-align: right;\">6</td><td style = \"text-align: right;\">3</td><td style = \"text-align: right;\">3</td><td style = \"text-align: right;\">4</td><td style = \"text-align: right;\">0</td><td style = \"text-align: right;\">0</td><td style = \"text-align: right;\">2.0</td><td style = \"text-align: right;\">3.6</td><td style = \"text-align: right;\">4.0</td><td style = \"text-align: right;\">2.0</td><td style = \"text-align: right;\">3.3</td><td style = \"text-align: right;\">3.7</td><td style = \"text-align: right;\">2.1</td><td style = \"text-align: right;\">3.3</td><td style = \"text-align: right;\">3.3</td><td style = \"text-align: right;\">2.05</td><td style = \"text-align: right;\">3.3</td><td style = \"text-align: right;\">4.0</td><td style = \"text-align: right;\">1.95</td><td style = \"text-align: right;\">3.65</td><td style = \"text-align: right;\">4.27</td><td style = \"text-align: right;\">1.91</td><td style = \"text-align: right;\">3.5</td><td style = \"text-align: right;\">4.0</td><td style = \"text-align: right;\">2.0</td><td style = \"text-align: right;\">3.5</td><td style = \"text-align: right;\">4.2</td><td style = \"text-align: right;\">45</td><td style = \"text-align: right;\">2.1</td><td style = \"text-align: right;\">1.96</td><td style = \"text-align: right;\">3.65</td><td style = \"text-align: right;\">3.48</td><td style = \"text-align: right;\">4.33</td><td style = \"text-align: right;\">3.98</td><td style = \"text-align: right;\">43</td><td style = \"text-align: right;\">2.11</td><td style = \"text-align: right;\">2.02</td><td style = \"text-align: right;\">1.88</td><td style = \"text-align: right;\">1.79</td><td style = \"text-align: right;\">26</td><td style = \"text-align: right;\">-0.5</td><td style = \"text-align: right;\">1.98</td><td style = \"text-align: right;\">1.93</td><td style = \"text-align: right;\">1.99</td><td style = \"text-align: right;\">1.92</td><td style = \"text-align: right;\">1.82</td><td style = \"text-align: right;\">3.88</td><td style = \"text-align: right;\">4.7</td></tr></tbody></table></div>"
      ],
      "text/latex": [
       "\\begin{tabular}{r|cccccccccc}\n",
       "\t& Div & Date & HomeTeam & AwayTeam & FTHG & FTAG & FTR & HTHG & HTAG & \\\\\n",
       "\t\\hline\n",
       "\t& String3 & String15 & String15 & String15 & Int64 & Int64 & String1 & Int64 & Int64 & \\\\\n",
       "\t\\hline\n",
       "\t1 & E0 & 08/08/15 & Bournemouth & Aston Villa & 0 & 1 & A & 0 & 0 & $\\dots$ \\\\\n",
       "\\end{tabular}\n"
      ],
      "text/plain": [
       "\u001b[1mDataFrameRow\u001b[0m\n",
       "\u001b[1m Row \u001b[0m│\u001b[1m Div     \u001b[0m\u001b[1m Date     \u001b[0m\u001b[1m HomeTeam    \u001b[0m\u001b[1m AwayTeam    \u001b[0m\u001b[1m FTHG  \u001b[0m\u001b[1m FTAG  \u001b[0m\u001b[1m FTR     \u001b[0m\u001b[1m HTH\u001b[0m ⋯\n",
       "     │\u001b[90m String3 \u001b[0m\u001b[90m String15 \u001b[0m\u001b[90m String15    \u001b[0m\u001b[90m String15    \u001b[0m\u001b[90m Int64 \u001b[0m\u001b[90m Int64 \u001b[0m\u001b[90m String1 \u001b[0m\u001b[90m Int\u001b[0m ⋯\n",
       "─────┼──────────────────────────────────────────────────────────────────────────\n",
       "   1 │ E0       08/08/15  Bournemouth  Aston Villa      0      1  A            ⋯\n",
       "\u001b[36m                                                              58 columns omitted\u001b[0m"
      ]
     },
     "execution_count": 26,
     "metadata": {},
     "output_type": "execute_result"
    }
   ],
   "source": [
    "first(epl)"
   ]
  },
  {
   "cell_type": "code",
   "execution_count": 27,
   "metadata": {},
   "outputs": [
    {
     "data": {
      "text/plain": [
       "65-element Vector{String}:\n",
       " \"Div\"\n",
       " \"Date\"\n",
       " \"HomeTeam\"\n",
       " \"AwayTeam\"\n",
       " \"FTHG\"\n",
       " \"FTAG\"\n",
       " \"FTR\"\n",
       " \"HTHG\"\n",
       " \"HTAG\"\n",
       " \"HTR\"\n",
       " \"Referee\"\n",
       " \"HS\"\n",
       " \"AS\"\n",
       " ⋮\n",
       " \"BbAv>2.5\"\n",
       " \"BbMx<2.5\"\n",
       " \"BbAv<2.5\"\n",
       " \"BbAH\"\n",
       " \"BbAHh\"\n",
       " \"BbMxAHH\"\n",
       " \"BbAvAHH\"\n",
       " \"BbMxAHA\"\n",
       " \"BbAvAHA\"\n",
       " \"PSCH\"\n",
       " \"PSCD\"\n",
       " \"PSCA\""
      ]
     },
     "execution_count": 27,
     "metadata": {},
     "output_type": "execute_result"
    }
   ],
   "source": [
    "names(epl)"
   ]
  },
  {
   "cell_type": "markdown",
   "metadata": {},
   "source": [
    "We create a narrower version by selecting necessary columns using regular expressions."
   ]
  },
  {
   "cell_type": "code",
   "execution_count": 28,
   "metadata": {},
   "outputs": [
    {
     "data": {
      "text/html": [
       "<div><div style = \"float: left;\"><span>10×9 DataFrame</span></div><div style = \"clear: both;\"></div></div><div class = \"data-frame\" style = \"overflow-x: scroll;\"><table class = \"data-frame\" style = \"margin-bottom: 6px;\"><thead><tr class = \"header\"><th class = \"rowNumber\" style = \"font-weight: bold; text-align: right;\">Row</th><th style = \"text-align: left;\">Date</th><th style = \"text-align: left;\">HomeTeam</th><th style = \"text-align: left;\">AwayTeam</th><th style = \"text-align: left;\">FTHG</th><th style = \"text-align: left;\">FTAG</th><th style = \"text-align: left;\">FTR</th><th style = \"text-align: left;\">HTHG</th><th style = \"text-align: left;\">HTAG</th><th style = \"text-align: left;\">HTR</th></tr><tr class = \"subheader headerLastRow\"><th class = \"rowNumber\" style = \"font-weight: bold; text-align: right;\"></th><th title = \"String15\" style = \"text-align: left;\">String15</th><th title = \"String15\" style = \"text-align: left;\">String15</th><th title = \"String15\" style = \"text-align: left;\">String15</th><th title = \"Int64\" style = \"text-align: left;\">Int64</th><th title = \"Int64\" style = \"text-align: left;\">Int64</th><th title = \"String1\" style = \"text-align: left;\">String1</th><th title = \"Int64\" style = \"text-align: left;\">Int64</th><th title = \"Int64\" style = \"text-align: left;\">Int64</th><th title = \"String1\" style = \"text-align: left;\">String1</th></tr></thead><tbody><tr><td class = \"rowNumber\" style = \"font-weight: bold; text-align: right;\">1</td><td style = \"text-align: left;\">08/08/15</td><td style = \"text-align: left;\">Bournemouth</td><td style = \"text-align: left;\">Aston Villa</td><td style = \"text-align: right;\">0</td><td style = \"text-align: right;\">1</td><td style = \"text-align: left;\">A</td><td style = \"text-align: right;\">0</td><td style = \"text-align: right;\">0</td><td style = \"text-align: left;\">D</td></tr><tr><td class = \"rowNumber\" style = \"font-weight: bold; text-align: right;\">2</td><td style = \"text-align: left;\">08/08/15</td><td style = \"text-align: left;\">Chelsea</td><td style = \"text-align: left;\">Swansea</td><td style = \"text-align: right;\">2</td><td style = \"text-align: right;\">2</td><td style = \"text-align: left;\">D</td><td style = \"text-align: right;\">2</td><td style = \"text-align: right;\">1</td><td style = \"text-align: left;\">H</td></tr><tr><td class = \"rowNumber\" style = \"font-weight: bold; text-align: right;\">3</td><td style = \"text-align: left;\">08/08/15</td><td style = \"text-align: left;\">Everton</td><td style = \"text-align: left;\">Watford</td><td style = \"text-align: right;\">2</td><td style = \"text-align: right;\">2</td><td style = \"text-align: left;\">D</td><td style = \"text-align: right;\">0</td><td style = \"text-align: right;\">1</td><td style = \"text-align: left;\">A</td></tr><tr><td class = \"rowNumber\" style = \"font-weight: bold; text-align: right;\">4</td><td style = \"text-align: left;\">08/08/15</td><td style = \"text-align: left;\">Leicester</td><td style = \"text-align: left;\">Sunderland</td><td style = \"text-align: right;\">4</td><td style = \"text-align: right;\">2</td><td style = \"text-align: left;\">H</td><td style = \"text-align: right;\">3</td><td style = \"text-align: right;\">0</td><td style = \"text-align: left;\">H</td></tr><tr><td class = \"rowNumber\" style = \"font-weight: bold; text-align: right;\">5</td><td style = \"text-align: left;\">08/08/15</td><td style = \"text-align: left;\">Man United</td><td style = \"text-align: left;\">Tottenham</td><td style = \"text-align: right;\">1</td><td style = \"text-align: right;\">0</td><td style = \"text-align: left;\">H</td><td style = \"text-align: right;\">1</td><td style = \"text-align: right;\">0</td><td style = \"text-align: left;\">H</td></tr><tr><td class = \"rowNumber\" style = \"font-weight: bold; text-align: right;\">6</td><td style = \"text-align: left;\">08/08/15</td><td style = \"text-align: left;\">Norwich</td><td style = \"text-align: left;\">Crystal Palace</td><td style = \"text-align: right;\">1</td><td style = \"text-align: right;\">3</td><td style = \"text-align: left;\">A</td><td style = \"text-align: right;\">0</td><td style = \"text-align: right;\">1</td><td style = \"text-align: left;\">A</td></tr><tr><td class = \"rowNumber\" style = \"font-weight: bold; text-align: right;\">7</td><td style = \"text-align: left;\">09/08/15</td><td style = \"text-align: left;\">Arsenal</td><td style = \"text-align: left;\">West Ham</td><td style = \"text-align: right;\">0</td><td style = \"text-align: right;\">2</td><td style = \"text-align: left;\">A</td><td style = \"text-align: right;\">0</td><td style = \"text-align: right;\">1</td><td style = \"text-align: left;\">A</td></tr><tr><td class = \"rowNumber\" style = \"font-weight: bold; text-align: right;\">8</td><td style = \"text-align: left;\">09/08/15</td><td style = \"text-align: left;\">Newcastle</td><td style = \"text-align: left;\">Southampton</td><td style = \"text-align: right;\">2</td><td style = \"text-align: right;\">2</td><td style = \"text-align: left;\">D</td><td style = \"text-align: right;\">1</td><td style = \"text-align: right;\">1</td><td style = \"text-align: left;\">D</td></tr><tr><td class = \"rowNumber\" style = \"font-weight: bold; text-align: right;\">9</td><td style = \"text-align: left;\">09/08/15</td><td style = \"text-align: left;\">Stoke</td><td style = \"text-align: left;\">Liverpool</td><td style = \"text-align: right;\">0</td><td style = \"text-align: right;\">1</td><td style = \"text-align: left;\">A</td><td style = \"text-align: right;\">0</td><td style = \"text-align: right;\">0</td><td style = \"text-align: left;\">D</td></tr><tr><td class = \"rowNumber\" style = \"font-weight: bold; text-align: right;\">10</td><td style = \"text-align: left;\">10/08/15</td><td style = \"text-align: left;\">West Brom</td><td style = \"text-align: left;\">Man City</td><td style = \"text-align: right;\">0</td><td style = \"text-align: right;\">3</td><td style = \"text-align: left;\">A</td><td style = \"text-align: right;\">0</td><td style = \"text-align: right;\">2</td><td style = \"text-align: left;\">A</td></tr></tbody></table></div>"
      ],
      "text/latex": [
       "\\begin{tabular}{r|ccccccccc}\n",
       "\t& Date & HomeTeam & AwayTeam & FTHG & FTAG & FTR & HTHG & HTAG & HTR\\\\\n",
       "\t\\hline\n",
       "\t& String15 & String15 & String15 & Int64 & Int64 & String1 & Int64 & Int64 & String1\\\\\n",
       "\t\\hline\n",
       "\t1 & 08/08/15 & Bournemouth & Aston Villa & 0 & 1 & A & 0 & 0 & D \\\\\n",
       "\t2 & 08/08/15 & Chelsea & Swansea & 2 & 2 & D & 2 & 1 & H \\\\\n",
       "\t3 & 08/08/15 & Everton & Watford & 2 & 2 & D & 0 & 1 & A \\\\\n",
       "\t4 & 08/08/15 & Leicester & Sunderland & 4 & 2 & H & 3 & 0 & H \\\\\n",
       "\t5 & 08/08/15 & Man United & Tottenham & 1 & 0 & H & 1 & 0 & H \\\\\n",
       "\t6 & 08/08/15 & Norwich & Crystal Palace & 1 & 3 & A & 0 & 1 & A \\\\\n",
       "\t7 & 09/08/15 & Arsenal & West Ham & 0 & 2 & A & 0 & 1 & A \\\\\n",
       "\t8 & 09/08/15 & Newcastle & Southampton & 2 & 2 & D & 1 & 1 & D \\\\\n",
       "\t9 & 09/08/15 & Stoke & Liverpool & 0 & 1 & A & 0 & 0 & D \\\\\n",
       "\t10 & 10/08/15 & West Brom & Man City & 0 & 3 & A & 0 & 2 & A \\\\\n",
       "\\end{tabular}\n"
      ],
      "text/plain": [
       "\u001b[1m10×9 DataFrame\u001b[0m\n",
       "\u001b[1m Row \u001b[0m│\u001b[1m Date     \u001b[0m\u001b[1m HomeTeam    \u001b[0m\u001b[1m AwayTeam       \u001b[0m\u001b[1m FTHG  \u001b[0m\u001b[1m FTAG  \u001b[0m\u001b[1m FTR     \u001b[0m\u001b[1m HTHG  \u001b[0m\u001b[1m HT\u001b[0m ⋯\n",
       "     │\u001b[90m String15 \u001b[0m\u001b[90m String15    \u001b[0m\u001b[90m String15       \u001b[0m\u001b[90m Int64 \u001b[0m\u001b[90m Int64 \u001b[0m\u001b[90m String1 \u001b[0m\u001b[90m Int64 \u001b[0m\u001b[90m In\u001b[0m ⋯\n",
       "─────┼──────────────────────────────────────────────────────────────────────────\n",
       "   1 │ 08/08/15  Bournemouth  Aston Villa         0      1  A            0     ⋯\n",
       "   2 │ 08/08/15  Chelsea      Swansea             2      2  D            2\n",
       "   3 │ 08/08/15  Everton      Watford             2      2  D            0\n",
       "   4 │ 08/08/15  Leicester    Sunderland          4      2  H            3\n",
       "   5 │ 08/08/15  Man United   Tottenham           1      0  H            1     ⋯\n",
       "   6 │ 08/08/15  Norwich      Crystal Palace      1      3  A            0\n",
       "   7 │ 09/08/15  Arsenal      West Ham            0      2  A            0\n",
       "   8 │ 09/08/15  Newcastle    Southampton         2      2  D            1\n",
       "   9 │ 09/08/15  Stoke        Liverpool           0      1  A            0     ⋯\n",
       "  10 │ 10/08/15  West Brom    Man City            0      3  A            0\n",
       "\u001b[36m                                                               2 columns omitted\u001b[0m"
      ]
     },
     "execution_count": 28,
     "metadata": {},
     "output_type": "execute_result"
    }
   ],
   "source": [
    "( eplNarrow = select(epl,r\"Date|Team|HT|FT\") )  |> (x->first(x,10))"
   ]
  },
  {
   "cell_type": "markdown",
   "metadata": {},
   "source": [
    "If we want to subset the data to only Arsenal home games, we use the `subset` function. Notice how the selectin function works in terms of the name of the column and the (anonymous) function used to generate true/false conditions."
   ]
  },
  {
   "cell_type": "code",
   "execution_count": 29,
   "metadata": {},
   "outputs": [
    {
     "data": {
      "text/html": [
       "<div><div style = \"float: left;\"><span>9×9 DataFrame</span></div><div style = \"clear: both;\"></div></div><div class = \"data-frame\" style = \"overflow-x: scroll;\"><table class = \"data-frame\" style = \"margin-bottom: 6px;\"><thead><tr class = \"header\"><th class = \"rowNumber\" style = \"font-weight: bold; text-align: right;\">Row</th><th style = \"text-align: left;\">Date</th><th style = \"text-align: left;\">HomeTeam</th><th style = \"text-align: left;\">AwayTeam</th><th style = \"text-align: left;\">FTHG</th><th style = \"text-align: left;\">FTAG</th><th style = \"text-align: left;\">FTR</th><th style = \"text-align: left;\">HTHG</th><th style = \"text-align: left;\">HTAG</th><th style = \"text-align: left;\">HTR</th></tr><tr class = \"subheader headerLastRow\"><th class = \"rowNumber\" style = \"font-weight: bold; text-align: right;\"></th><th title = \"String15\" style = \"text-align: left;\">String15</th><th title = \"String15\" style = \"text-align: left;\">String15</th><th title = \"String15\" style = \"text-align: left;\">String15</th><th title = \"Int64\" style = \"text-align: left;\">Int64</th><th title = \"Int64\" style = \"text-align: left;\">Int64</th><th title = \"String1\" style = \"text-align: left;\">String1</th><th title = \"Int64\" style = \"text-align: left;\">Int64</th><th title = \"Int64\" style = \"text-align: left;\">Int64</th><th title = \"String1\" style = \"text-align: left;\">String1</th></tr></thead><tbody><tr><td class = \"rowNumber\" style = \"font-weight: bold; text-align: right;\">1</td><td style = \"text-align: left;\">09/08/15</td><td style = \"text-align: left;\">Arsenal</td><td style = \"text-align: left;\">West Ham</td><td style = \"text-align: right;\">0</td><td style = \"text-align: right;\">2</td><td style = \"text-align: left;\">A</td><td style = \"text-align: right;\">0</td><td style = \"text-align: right;\">1</td><td style = \"text-align: left;\">A</td></tr><tr><td class = \"rowNumber\" style = \"font-weight: bold; text-align: right;\">2</td><td style = \"text-align: left;\">24/10/15</td><td style = \"text-align: left;\">Arsenal</td><td style = \"text-align: left;\">Everton</td><td style = \"text-align: right;\">2</td><td style = \"text-align: right;\">1</td><td style = \"text-align: left;\">H</td><td style = \"text-align: right;\">2</td><td style = \"text-align: right;\">1</td><td style = \"text-align: left;\">H</td></tr><tr><td class = \"rowNumber\" style = \"font-weight: bold; text-align: right;\">3</td><td style = \"text-align: left;\">08/11/15</td><td style = \"text-align: left;\">Arsenal</td><td style = \"text-align: left;\">Tottenham</td><td style = \"text-align: right;\">1</td><td style = \"text-align: right;\">1</td><td style = \"text-align: left;\">D</td><td style = \"text-align: right;\">0</td><td style = \"text-align: right;\">1</td><td style = \"text-align: left;\">A</td></tr><tr><td class = \"rowNumber\" style = \"font-weight: bold; text-align: right;\">4</td><td style = \"text-align: left;\">05/12/15</td><td style = \"text-align: left;\">Arsenal</td><td style = \"text-align: left;\">Sunderland</td><td style = \"text-align: right;\">3</td><td style = \"text-align: right;\">1</td><td style = \"text-align: left;\">H</td><td style = \"text-align: right;\">1</td><td style = \"text-align: right;\">1</td><td style = \"text-align: left;\">D</td></tr><tr><td class = \"rowNumber\" style = \"font-weight: bold; text-align: right;\">5</td><td style = \"text-align: left;\">21/12/15</td><td style = \"text-align: left;\">Arsenal</td><td style = \"text-align: left;\">Man City</td><td style = \"text-align: right;\">2</td><td style = \"text-align: right;\">1</td><td style = \"text-align: left;\">H</td><td style = \"text-align: right;\">2</td><td style = \"text-align: right;\">0</td><td style = \"text-align: left;\">H</td></tr><tr><td class = \"rowNumber\" style = \"font-weight: bold; text-align: right;\">6</td><td style = \"text-align: left;\">24/01/16</td><td style = \"text-align: left;\">Arsenal</td><td style = \"text-align: left;\">Chelsea</td><td style = \"text-align: right;\">0</td><td style = \"text-align: right;\">1</td><td style = \"text-align: left;\">A</td><td style = \"text-align: right;\">0</td><td style = \"text-align: right;\">1</td><td style = \"text-align: left;\">A</td></tr><tr><td class = \"rowNumber\" style = \"font-weight: bold; text-align: right;\">7</td><td style = \"text-align: left;\">14/02/16</td><td style = \"text-align: left;\">Arsenal</td><td style = \"text-align: left;\">Leicester</td><td style = \"text-align: right;\">2</td><td style = \"text-align: right;\">1</td><td style = \"text-align: left;\">H</td><td style = \"text-align: right;\">0</td><td style = \"text-align: right;\">1</td><td style = \"text-align: left;\">A</td></tr><tr><td class = \"rowNumber\" style = \"font-weight: bold; text-align: right;\">8</td><td style = \"text-align: left;\">02/03/16</td><td style = \"text-align: left;\">Arsenal</td><td style = \"text-align: left;\">Swansea</td><td style = \"text-align: right;\">1</td><td style = \"text-align: right;\">2</td><td style = \"text-align: left;\">A</td><td style = \"text-align: right;\">1</td><td style = \"text-align: right;\">1</td><td style = \"text-align: left;\">D</td></tr><tr><td class = \"rowNumber\" style = \"font-weight: bold; text-align: right;\">9</td><td style = \"text-align: left;\">17/04/16</td><td style = \"text-align: left;\">Arsenal</td><td style = \"text-align: left;\">Crystal Palace</td><td style = \"text-align: right;\">1</td><td style = \"text-align: right;\">1</td><td style = \"text-align: left;\">D</td><td style = \"text-align: right;\">1</td><td style = \"text-align: right;\">0</td><td style = \"text-align: left;\">H</td></tr></tbody></table></div>"
      ],
      "text/latex": [
       "\\begin{tabular}{r|ccccccccc}\n",
       "\t& Date & HomeTeam & AwayTeam & FTHG & FTAG & FTR & HTHG & HTAG & HTR\\\\\n",
       "\t\\hline\n",
       "\t& String15 & String15 & String15 & Int64 & Int64 & String1 & Int64 & Int64 & String1\\\\\n",
       "\t\\hline\n",
       "\t1 & 09/08/15 & Arsenal & West Ham & 0 & 2 & A & 0 & 1 & A \\\\\n",
       "\t2 & 24/10/15 & Arsenal & Everton & 2 & 1 & H & 2 & 1 & H \\\\\n",
       "\t3 & 08/11/15 & Arsenal & Tottenham & 1 & 1 & D & 0 & 1 & A \\\\\n",
       "\t4 & 05/12/15 & Arsenal & Sunderland & 3 & 1 & H & 1 & 1 & D \\\\\n",
       "\t5 & 21/12/15 & Arsenal & Man City & 2 & 1 & H & 2 & 0 & H \\\\\n",
       "\t6 & 24/01/16 & Arsenal & Chelsea & 0 & 1 & A & 0 & 1 & A \\\\\n",
       "\t7 & 14/02/16 & Arsenal & Leicester & 2 & 1 & H & 0 & 1 & A \\\\\n",
       "\t8 & 02/03/16 & Arsenal & Swansea & 1 & 2 & A & 1 & 1 & D \\\\\n",
       "\t9 & 17/04/16 & Arsenal & Crystal Palace & 1 & 1 & D & 1 & 0 & H \\\\\n",
       "\\end{tabular}\n"
      ],
      "text/plain": [
       "\u001b[1m9×9 DataFrame\u001b[0m\n",
       "\u001b[1m Row \u001b[0m│\u001b[1m Date     \u001b[0m\u001b[1m HomeTeam \u001b[0m\u001b[1m AwayTeam       \u001b[0m\u001b[1m FTHG  \u001b[0m\u001b[1m FTAG  \u001b[0m\u001b[1m FTR     \u001b[0m\u001b[1m HTHG  \u001b[0m\u001b[1m HTAG \u001b[0m ⋯\n",
       "     │\u001b[90m String15 \u001b[0m\u001b[90m String15 \u001b[0m\u001b[90m String15       \u001b[0m\u001b[90m Int64 \u001b[0m\u001b[90m Int64 \u001b[0m\u001b[90m String1 \u001b[0m\u001b[90m Int64 \u001b[0m\u001b[90m Int64\u001b[0m ⋯\n",
       "─────┼──────────────────────────────────────────────────────────────────────────\n",
       "   1 │ 09/08/15  Arsenal   West Ham            0      2  A            0      1 ⋯\n",
       "   2 │ 24/10/15  Arsenal   Everton             2      1  H            2      1\n",
       "   3 │ 08/11/15  Arsenal   Tottenham           1      1  D            0      1\n",
       "   4 │ 05/12/15  Arsenal   Sunderland          3      1  H            1      1\n",
       "   5 │ 21/12/15  Arsenal   Man City            2      1  H            2      0 ⋯\n",
       "   6 │ 24/01/16  Arsenal   Chelsea             0      1  A            0      1\n",
       "   7 │ 14/02/16  Arsenal   Leicester           2      1  H            0      1\n",
       "   8 │ 02/03/16  Arsenal   Swansea             1      2  A            1      1\n",
       "   9 │ 17/04/16  Arsenal   Crystal Palace      1      1  D            1      0 ⋯\n",
       "\u001b[36m                                                                1 column omitted\u001b[0m"
      ]
     },
     "execution_count": 29,
     "metadata": {},
     "output_type": "execute_result"
    }
   ],
   "source": [
    "subset(eplNarrow,:HomeTeam => (x->x.==\"Arsenal\"), :FTAG => (x->x.>0))"
   ]
  },
  {
   "cell_type": "code",
   "execution_count": 30,
   "metadata": {},
   "outputs": [
    {
     "data": {
      "text/html": [
       "<div><div style = \"float: left;\"><span>9×9 DataFrame</span></div><div style = \"clear: both;\"></div></div><div class = \"data-frame\" style = \"overflow-x: scroll;\"><table class = \"data-frame\" style = \"margin-bottom: 6px;\"><thead><tr class = \"header\"><th class = \"rowNumber\" style = \"font-weight: bold; text-align: right;\">Row</th><th style = \"text-align: left;\">Date</th><th style = \"text-align: left;\">HomeTeam</th><th style = \"text-align: left;\">AwayTeam</th><th style = \"text-align: left;\">FTHG</th><th style = \"text-align: left;\">FTAG</th><th style = \"text-align: left;\">FTR</th><th style = \"text-align: left;\">HTHG</th><th style = \"text-align: left;\">HTAG</th><th style = \"text-align: left;\">HTR</th></tr><tr class = \"subheader headerLastRow\"><th class = \"rowNumber\" style = \"font-weight: bold; text-align: right;\"></th><th title = \"String15\" style = \"text-align: left;\">String15</th><th title = \"String15\" style = \"text-align: left;\">String15</th><th title = \"String15\" style = \"text-align: left;\">String15</th><th title = \"Int64\" style = \"text-align: left;\">Int64</th><th title = \"Int64\" style = \"text-align: left;\">Int64</th><th title = \"String1\" style = \"text-align: left;\">String1</th><th title = \"Int64\" style = \"text-align: left;\">Int64</th><th title = \"Int64\" style = \"text-align: left;\">Int64</th><th title = \"String1\" style = \"text-align: left;\">String1</th></tr></thead><tbody><tr><td class = \"rowNumber\" style = \"font-weight: bold; text-align: right;\">1</td><td style = \"text-align: left;\">09/08/15</td><td style = \"text-align: left;\">Arsenal</td><td style = \"text-align: left;\">West Ham</td><td style = \"text-align: right;\">0</td><td style = \"text-align: right;\">2</td><td style = \"text-align: left;\">A</td><td style = \"text-align: right;\">0</td><td style = \"text-align: right;\">1</td><td style = \"text-align: left;\">A</td></tr><tr><td class = \"rowNumber\" style = \"font-weight: bold; text-align: right;\">2</td><td style = \"text-align: left;\">24/10/15</td><td style = \"text-align: left;\">Arsenal</td><td style = \"text-align: left;\">Everton</td><td style = \"text-align: right;\">2</td><td style = \"text-align: right;\">1</td><td style = \"text-align: left;\">H</td><td style = \"text-align: right;\">2</td><td style = \"text-align: right;\">1</td><td style = \"text-align: left;\">H</td></tr><tr><td class = \"rowNumber\" style = \"font-weight: bold; text-align: right;\">3</td><td style = \"text-align: left;\">08/11/15</td><td style = \"text-align: left;\">Arsenal</td><td style = \"text-align: left;\">Tottenham</td><td style = \"text-align: right;\">1</td><td style = \"text-align: right;\">1</td><td style = \"text-align: left;\">D</td><td style = \"text-align: right;\">0</td><td style = \"text-align: right;\">1</td><td style = \"text-align: left;\">A</td></tr><tr><td class = \"rowNumber\" style = \"font-weight: bold; text-align: right;\">4</td><td style = \"text-align: left;\">05/12/15</td><td style = \"text-align: left;\">Arsenal</td><td style = \"text-align: left;\">Sunderland</td><td style = \"text-align: right;\">3</td><td style = \"text-align: right;\">1</td><td style = \"text-align: left;\">H</td><td style = \"text-align: right;\">1</td><td style = \"text-align: right;\">1</td><td style = \"text-align: left;\">D</td></tr><tr><td class = \"rowNumber\" style = \"font-weight: bold; text-align: right;\">5</td><td style = \"text-align: left;\">21/12/15</td><td style = \"text-align: left;\">Arsenal</td><td style = \"text-align: left;\">Man City</td><td style = \"text-align: right;\">2</td><td style = \"text-align: right;\">1</td><td style = \"text-align: left;\">H</td><td style = \"text-align: right;\">2</td><td style = \"text-align: right;\">0</td><td style = \"text-align: left;\">H</td></tr><tr><td class = \"rowNumber\" style = \"font-weight: bold; text-align: right;\">6</td><td style = \"text-align: left;\">24/01/16</td><td style = \"text-align: left;\">Arsenal</td><td style = \"text-align: left;\">Chelsea</td><td style = \"text-align: right;\">0</td><td style = \"text-align: right;\">1</td><td style = \"text-align: left;\">A</td><td style = \"text-align: right;\">0</td><td style = \"text-align: right;\">1</td><td style = \"text-align: left;\">A</td></tr><tr><td class = \"rowNumber\" style = \"font-weight: bold; text-align: right;\">7</td><td style = \"text-align: left;\">14/02/16</td><td style = \"text-align: left;\">Arsenal</td><td style = \"text-align: left;\">Leicester</td><td style = \"text-align: right;\">2</td><td style = \"text-align: right;\">1</td><td style = \"text-align: left;\">H</td><td style = \"text-align: right;\">0</td><td style = \"text-align: right;\">1</td><td style = \"text-align: left;\">A</td></tr><tr><td class = \"rowNumber\" style = \"font-weight: bold; text-align: right;\">8</td><td style = \"text-align: left;\">02/03/16</td><td style = \"text-align: left;\">Arsenal</td><td style = \"text-align: left;\">Swansea</td><td style = \"text-align: right;\">1</td><td style = \"text-align: right;\">2</td><td style = \"text-align: left;\">A</td><td style = \"text-align: right;\">1</td><td style = \"text-align: right;\">1</td><td style = \"text-align: left;\">D</td></tr><tr><td class = \"rowNumber\" style = \"font-weight: bold; text-align: right;\">9</td><td style = \"text-align: left;\">17/04/16</td><td style = \"text-align: left;\">Arsenal</td><td style = \"text-align: left;\">Crystal Palace</td><td style = \"text-align: right;\">1</td><td style = \"text-align: right;\">1</td><td style = \"text-align: left;\">D</td><td style = \"text-align: right;\">1</td><td style = \"text-align: right;\">0</td><td style = \"text-align: left;\">H</td></tr></tbody></table></div>"
      ],
      "text/latex": [
       "\\begin{tabular}{r|ccccccccc}\n",
       "\t& Date & HomeTeam & AwayTeam & FTHG & FTAG & FTR & HTHG & HTAG & HTR\\\\\n",
       "\t\\hline\n",
       "\t& String15 & String15 & String15 & Int64 & Int64 & String1 & Int64 & Int64 & String1\\\\\n",
       "\t\\hline\n",
       "\t1 & 09/08/15 & Arsenal & West Ham & 0 & 2 & A & 0 & 1 & A \\\\\n",
       "\t2 & 24/10/15 & Arsenal & Everton & 2 & 1 & H & 2 & 1 & H \\\\\n",
       "\t3 & 08/11/15 & Arsenal & Tottenham & 1 & 1 & D & 0 & 1 & A \\\\\n",
       "\t4 & 05/12/15 & Arsenal & Sunderland & 3 & 1 & H & 1 & 1 & D \\\\\n",
       "\t5 & 21/12/15 & Arsenal & Man City & 2 & 1 & H & 2 & 0 & H \\\\\n",
       "\t6 & 24/01/16 & Arsenal & Chelsea & 0 & 1 & A & 0 & 1 & A \\\\\n",
       "\t7 & 14/02/16 & Arsenal & Leicester & 2 & 1 & H & 0 & 1 & A \\\\\n",
       "\t8 & 02/03/16 & Arsenal & Swansea & 1 & 2 & A & 1 & 1 & D \\\\\n",
       "\t9 & 17/04/16 & Arsenal & Crystal Palace & 1 & 1 & D & 1 & 0 & H \\\\\n",
       "\\end{tabular}\n"
      ],
      "text/plain": [
       "\u001b[1m9×9 DataFrame\u001b[0m\n",
       "\u001b[1m Row \u001b[0m│\u001b[1m Date     \u001b[0m\u001b[1m HomeTeam \u001b[0m\u001b[1m AwayTeam       \u001b[0m\u001b[1m FTHG  \u001b[0m\u001b[1m FTAG  \u001b[0m\u001b[1m FTR     \u001b[0m\u001b[1m HTHG  \u001b[0m\u001b[1m HTAG \u001b[0m ⋯\n",
       "     │\u001b[90m String15 \u001b[0m\u001b[90m String15 \u001b[0m\u001b[90m String15       \u001b[0m\u001b[90m Int64 \u001b[0m\u001b[90m Int64 \u001b[0m\u001b[90m String1 \u001b[0m\u001b[90m Int64 \u001b[0m\u001b[90m Int64\u001b[0m ⋯\n",
       "─────┼──────────────────────────────────────────────────────────────────────────\n",
       "   1 │ 09/08/15  Arsenal   West Ham            0      2  A            0      1 ⋯\n",
       "   2 │ 24/10/15  Arsenal   Everton             2      1  H            2      1\n",
       "   3 │ 08/11/15  Arsenal   Tottenham           1      1  D            0      1\n",
       "   4 │ 05/12/15  Arsenal   Sunderland          3      1  H            1      1\n",
       "   5 │ 21/12/15  Arsenal   Man City            2      1  H            2      0 ⋯\n",
       "   6 │ 24/01/16  Arsenal   Chelsea             0      1  A            0      1\n",
       "   7 │ 14/02/16  Arsenal   Leicester           2      1  H            0      1\n",
       "   8 │ 02/03/16  Arsenal   Swansea             1      2  A            1      1\n",
       "   9 │ 17/04/16  Arsenal   Crystal Palace      1      1  D            1      0 ⋯\n",
       "\u001b[36m                                                                1 column omitted\u001b[0m"
      ]
     },
     "execution_count": 30,
     "metadata": {},
     "output_type": "execute_result"
    }
   ],
   "source": [
    "subset(eplNarrow,[:HomeTeam,:FTAG] => (x,y)-> (x.==\"Arsenal\").& (y.>0) )"
   ]
  },
  {
   "cell_type": "markdown",
   "metadata": {},
   "source": [
    "The `combine` function can be used for summarization.  Now, we use a similar \"dictionary\" approach where we name the column to operate on, the function being applied, and the name of the new column for the result."
   ]
  },
  {
   "cell_type": "code",
   "execution_count": 31,
   "metadata": {},
   "outputs": [
    {
     "data": {
      "text/html": [
       "<div><div style = \"float: left;\"><span>20×2 DataFrame</span></div><div style = \"clear: both;\"></div></div><div class = \"data-frame\" style = \"overflow-x: scroll;\"><table class = \"data-frame\" style = \"margin-bottom: 6px;\"><thead><tr class = \"header\"><th class = \"rowNumber\" style = \"font-weight: bold; text-align: right;\">Row</th><th style = \"text-align: left;\">HomeTeam</th><th style = \"text-align: left;\">TotalHomeGoals</th></tr><tr class = \"subheader headerLastRow\"><th class = \"rowNumber\" style = \"font-weight: bold; text-align: right;\"></th><th title = \"String15\" style = \"text-align: left;\">String15</th><th title = \"Int64\" style = \"text-align: left;\">Int64</th></tr></thead><tbody><tr><td class = \"rowNumber\" style = \"font-weight: bold; text-align: right;\">1</td><td style = \"text-align: left;\">Bournemouth</td><td style = \"text-align: right;\">23</td></tr><tr><td class = \"rowNumber\" style = \"font-weight: bold; text-align: right;\">2</td><td style = \"text-align: left;\">Chelsea</td><td style = \"text-align: right;\">32</td></tr><tr><td class = \"rowNumber\" style = \"font-weight: bold; text-align: right;\">3</td><td style = \"text-align: left;\">Everton</td><td style = \"text-align: right;\">35</td></tr><tr><td class = \"rowNumber\" style = \"font-weight: bold; text-align: right;\">4</td><td style = \"text-align: left;\">Leicester</td><td style = \"text-align: right;\">35</td></tr><tr><td class = \"rowNumber\" style = \"font-weight: bold; text-align: right;\">5</td><td style = \"text-align: left;\">Man United</td><td style = \"text-align: right;\">27</td></tr><tr><td class = \"rowNumber\" style = \"font-weight: bold; text-align: right;\">6</td><td style = \"text-align: left;\">Norwich</td><td style = \"text-align: right;\">26</td></tr><tr><td class = \"rowNumber\" style = \"font-weight: bold; text-align: right;\">7</td><td style = \"text-align: left;\">Arsenal</td><td style = \"text-align: right;\">31</td></tr><tr><td class = \"rowNumber\" style = \"font-weight: bold; text-align: right;\">8</td><td style = \"text-align: left;\">Newcastle</td><td style = \"text-align: right;\">32</td></tr><tr><td class = \"rowNumber\" style = \"font-weight: bold; text-align: right;\">9</td><td style = \"text-align: left;\">Stoke</td><td style = \"text-align: right;\">22</td></tr><tr><td class = \"rowNumber\" style = \"font-weight: bold; text-align: right;\">10</td><td style = \"text-align: left;\">West Brom</td><td style = \"text-align: right;\">20</td></tr><tr><td class = \"rowNumber\" style = \"font-weight: bold; text-align: right;\">11</td><td style = \"text-align: left;\">Aston Villa</td><td style = \"text-align: right;\">14</td></tr><tr><td class = \"rowNumber\" style = \"font-weight: bold; text-align: right;\">12</td><td style = \"text-align: left;\">Southampton</td><td style = \"text-align: right;\">39</td></tr><tr><td class = \"rowNumber\" style = \"font-weight: bold; text-align: right;\">13</td><td style = \"text-align: left;\">Sunderland</td><td style = \"text-align: right;\">23</td></tr><tr><td class = \"rowNumber\" style = \"font-weight: bold; text-align: right;\">14</td><td style = \"text-align: left;\">Swansea</td><td style = \"text-align: right;\">20</td></tr><tr><td class = \"rowNumber\" style = \"font-weight: bold; text-align: right;\">15</td><td style = \"text-align: left;\">Tottenham</td><td style = \"text-align: right;\">35</td></tr><tr><td class = \"rowNumber\" style = \"font-weight: bold; text-align: right;\">16</td><td style = \"text-align: left;\">Watford</td><td style = \"text-align: right;\">20</td></tr><tr><td class = \"rowNumber\" style = \"font-weight: bold; text-align: right;\">17</td><td style = \"text-align: left;\">West Ham</td><td style = \"text-align: right;\">34</td></tr><tr><td class = \"rowNumber\" style = \"font-weight: bold; text-align: right;\">18</td><td style = \"text-align: left;\">Crystal Palace</td><td style = \"text-align: right;\">19</td></tr><tr><td class = \"rowNumber\" style = \"font-weight: bold; text-align: right;\">19</td><td style = \"text-align: left;\">Man City</td><td style = \"text-align: right;\">47</td></tr><tr><td class = \"rowNumber\" style = \"font-weight: bold; text-align: right;\">20</td><td style = \"text-align: left;\">Liverpool</td><td style = \"text-align: right;\">33</td></tr></tbody></table></div>"
      ],
      "text/latex": [
       "\\begin{tabular}{r|cc}\n",
       "\t& HomeTeam & TotalHomeGoals\\\\\n",
       "\t\\hline\n",
       "\t& String15 & Int64\\\\\n",
       "\t\\hline\n",
       "\t1 & Bournemouth & 23 \\\\\n",
       "\t2 & Chelsea & 32 \\\\\n",
       "\t3 & Everton & 35 \\\\\n",
       "\t4 & Leicester & 35 \\\\\n",
       "\t5 & Man United & 27 \\\\\n",
       "\t6 & Norwich & 26 \\\\\n",
       "\t7 & Arsenal & 31 \\\\\n",
       "\t8 & Newcastle & 32 \\\\\n",
       "\t9 & Stoke & 22 \\\\\n",
       "\t10 & West Brom & 20 \\\\\n",
       "\t11 & Aston Villa & 14 \\\\\n",
       "\t12 & Southampton & 39 \\\\\n",
       "\t13 & Sunderland & 23 \\\\\n",
       "\t14 & Swansea & 20 \\\\\n",
       "\t15 & Tottenham & 35 \\\\\n",
       "\t16 & Watford & 20 \\\\\n",
       "\t17 & West Ham & 34 \\\\\n",
       "\t18 & Crystal Palace & 19 \\\\\n",
       "\t19 & Man City & 47 \\\\\n",
       "\t20 & Liverpool & 33 \\\\\n",
       "\\end{tabular}\n"
      ],
      "text/plain": [
       "\u001b[1m20×2 DataFrame\u001b[0m\n",
       "\u001b[1m Row \u001b[0m│\u001b[1m HomeTeam       \u001b[0m\u001b[1m TotalHomeGoals \u001b[0m\n",
       "     │\u001b[90m String15       \u001b[0m\u001b[90m Int64          \u001b[0m\n",
       "─────┼────────────────────────────────\n",
       "   1 │ Bournemouth                 23\n",
       "   2 │ Chelsea                     32\n",
       "   3 │ Everton                     35\n",
       "   4 │ Leicester                   35\n",
       "   5 │ Man United                  27\n",
       "   6 │ Norwich                     26\n",
       "   7 │ Arsenal                     31\n",
       "   8 │ Newcastle                   32\n",
       "   9 │ Stoke                       22\n",
       "  10 │ West Brom                   20\n",
       "  11 │ Aston Villa                 14\n",
       "  12 │ Southampton                 39\n",
       "  13 │ Sunderland                  23\n",
       "  14 │ Swansea                     20\n",
       "  15 │ Tottenham                   35\n",
       "  16 │ Watford                     20\n",
       "  17 │ West Ham                    34\n",
       "  18 │ Crystal Palace              19\n",
       "  19 │ Man City                    47\n",
       "  20 │ Liverpool                   33"
      ]
     },
     "execution_count": 31,
     "metadata": {},
     "output_type": "execute_result"
    }
   ],
   "source": [
    "combine( groupby(eplNarrow,:HomeTeam), :FTHG => sum => :TotalHomeGoals )"
   ]
  },
  {
   "cell_type": "markdown",
   "metadata": {},
   "source": [
    "Below is a more complex example, where we calculate the number of points earned by each team by first writing a function to calculate the number of points earned by a home team.  We calculate points at home, and away.  Then we add them and sort them."
   ]
  },
  {
   "cell_type": "code",
   "execution_count": 32,
   "metadata": {
    "tags": []
   },
   "outputs": [
    {
     "data": {
      "text/plain": [
       "homepoints (generic function with 1 method)"
      ]
     },
     "execution_count": 32,
     "metadata": {},
     "output_type": "execute_result"
    }
   ],
   "source": [
    "homepoints(hg,ag) = \n",
    "begin \n",
    "    if(hg>ag) return 3\n",
    "    elseif (hg==ag) return 1\n",
    "    else return 0\n",
    "    end\n",
    "end"
   ]
  },
  {
   "cell_type": "code",
   "execution_count": 33,
   "metadata": {
    "tags": []
   },
   "outputs": [],
   "source": [
    "hp = combine( groupby(eplNarrow,:HomeTeam), [:FTHG,:FTAG] => ( (x,y) -> sum(homepoints.(x,y)) ) => :HomePoints  )\n",
    "ap = combine( groupby(eplNarrow,:AwayTeam), [:FTHG,:FTAG] => ( (x,y) -> sum(homepoints.(y,x)) ) => :AwayPoints  );"
   ]
  },
  {
   "cell_type": "code",
   "execution_count": 34,
   "metadata": {
    "tags": []
   },
   "outputs": [
    {
     "data": {
      "text/html": [
       "<div><div style = \"float: left;\"><span>20×4 DataFrame</span></div><div style = \"clear: both;\"></div></div><div class = \"data-frame\" style = \"overflow-x: scroll;\"><table class = \"data-frame\" style = \"margin-bottom: 6px;\"><thead><tr class = \"header\"><th class = \"rowNumber\" style = \"font-weight: bold; text-align: right;\">Row</th><th style = \"text-align: left;\">AwayTeam</th><th style = \"text-align: left;\">AwayPoints</th><th style = \"text-align: left;\">HomeTeam</th><th style = \"text-align: left;\">HomePoints</th></tr><tr class = \"subheader headerLastRow\"><th class = \"rowNumber\" style = \"font-weight: bold; text-align: right;\"></th><th title = \"String15\" style = \"text-align: left;\">String15</th><th title = \"Int64\" style = \"text-align: left;\">Int64</th><th title = \"String15\" style = \"text-align: left;\">String15</th><th title = \"Int64\" style = \"text-align: left;\">Int64</th></tr></thead><tbody><tr><td class = \"rowNumber\" style = \"font-weight: bold; text-align: right;\">1</td><td style = \"text-align: left;\">Arsenal</td><td style = \"text-align: right;\">31</td><td style = \"text-align: left;\">Arsenal</td><td style = \"text-align: right;\">40</td></tr><tr><td class = \"rowNumber\" style = \"font-weight: bold; text-align: right;\">2</td><td style = \"text-align: left;\">Aston Villa</td><td style = \"text-align: right;\">6</td><td style = \"text-align: left;\">Aston Villa</td><td style = \"text-align: right;\">11</td></tr><tr><td class = \"rowNumber\" style = \"font-weight: bold; text-align: right;\">3</td><td style = \"text-align: left;\">Bournemouth</td><td style = \"text-align: right;\">22</td><td style = \"text-align: left;\">Bournemouth</td><td style = \"text-align: right;\">20</td></tr><tr><td class = \"rowNumber\" style = \"font-weight: bold; text-align: right;\">4</td><td style = \"text-align: left;\">Chelsea</td><td style = \"text-align: right;\">26</td><td style = \"text-align: left;\">Chelsea</td><td style = \"text-align: right;\">24</td></tr><tr><td class = \"rowNumber\" style = \"font-weight: bold; text-align: right;\">5</td><td style = \"text-align: left;\">Crystal Palace</td><td style = \"text-align: right;\">21</td><td style = \"text-align: left;\">Crystal Palace</td><td style = \"text-align: right;\">21</td></tr><tr><td class = \"rowNumber\" style = \"font-weight: bold; text-align: right;\">6</td><td style = \"text-align: left;\">Everton</td><td style = \"text-align: right;\">24</td><td style = \"text-align: left;\">Everton</td><td style = \"text-align: right;\">23</td></tr><tr><td class = \"rowNumber\" style = \"font-weight: bold; text-align: right;\">7</td><td style = \"text-align: left;\">Leicester</td><td style = \"text-align: right;\">39</td><td style = \"text-align: left;\">Leicester</td><td style = \"text-align: right;\">42</td></tr><tr><td class = \"rowNumber\" style = \"font-weight: bold; text-align: right;\">8</td><td style = \"text-align: left;\">Liverpool</td><td style = \"text-align: right;\">28</td><td style = \"text-align: left;\">Liverpool</td><td style = \"text-align: right;\">32</td></tr><tr><td class = \"rowNumber\" style = \"font-weight: bold; text-align: right;\">9</td><td style = \"text-align: left;\">Man City</td><td style = \"text-align: right;\">28</td><td style = \"text-align: left;\">Man City</td><td style = \"text-align: right;\">38</td></tr><tr><td class = \"rowNumber\" style = \"font-weight: bold; text-align: right;\">10</td><td style = \"text-align: left;\">Man United</td><td style = \"text-align: right;\">25</td><td style = \"text-align: left;\">Man United</td><td style = \"text-align: right;\">41</td></tr><tr><td class = \"rowNumber\" style = \"font-weight: bold; text-align: right;\">11</td><td style = \"text-align: left;\">Newcastle</td><td style = \"text-align: right;\">9</td><td style = \"text-align: left;\">Newcastle</td><td style = \"text-align: right;\">28</td></tr><tr><td class = \"rowNumber\" style = \"font-weight: bold; text-align: right;\">12</td><td style = \"text-align: left;\">Norwich</td><td style = \"text-align: right;\">11</td><td style = \"text-align: left;\">Norwich</td><td style = \"text-align: right;\">23</td></tr><tr><td class = \"rowNumber\" style = \"font-weight: bold; text-align: right;\">13</td><td style = \"text-align: left;\">Southampton</td><td style = \"text-align: right;\">27</td><td style = \"text-align: left;\">Southampton</td><td style = \"text-align: right;\">36</td></tr><tr><td class = \"rowNumber\" style = \"font-weight: bold; text-align: right;\">14</td><td style = \"text-align: left;\">Stoke</td><td style = \"text-align: right;\">23</td><td style = \"text-align: left;\">Stoke</td><td style = \"text-align: right;\">28</td></tr><tr><td class = \"rowNumber\" style = \"font-weight: bold; text-align: right;\">15</td><td style = \"text-align: left;\">Sunderland</td><td style = \"text-align: right;\">15</td><td style = \"text-align: left;\">Sunderland</td><td style = \"text-align: right;\">24</td></tr><tr><td class = \"rowNumber\" style = \"font-weight: bold; text-align: right;\">16</td><td style = \"text-align: left;\">Swansea</td><td style = \"text-align: right;\">17</td><td style = \"text-align: left;\">Swansea</td><td style = \"text-align: right;\">30</td></tr><tr><td class = \"rowNumber\" style = \"font-weight: bold; text-align: right;\">17</td><td style = \"text-align: left;\">Tottenham</td><td style = \"text-align: right;\">34</td><td style = \"text-align: left;\">Tottenham</td><td style = \"text-align: right;\">36</td></tr><tr><td class = \"rowNumber\" style = \"font-weight: bold; text-align: right;\">18</td><td style = \"text-align: left;\">Watford</td><td style = \"text-align: right;\">21</td><td style = \"text-align: left;\">Watford</td><td style = \"text-align: right;\">24</td></tr><tr><td class = \"rowNumber\" style = \"font-weight: bold; text-align: right;\">19</td><td style = \"text-align: left;\">West Brom</td><td style = \"text-align: right;\">20</td><td style = \"text-align: left;\">West Brom</td><td style = \"text-align: right;\">23</td></tr><tr><td class = \"rowNumber\" style = \"font-weight: bold; text-align: right;\">20</td><td style = \"text-align: left;\">West Ham</td><td style = \"text-align: right;\">28</td><td style = \"text-align: left;\">West Ham</td><td style = \"text-align: right;\">34</td></tr></tbody></table></div>"
      ],
      "text/latex": [
       "\\begin{tabular}{r|cccc}\n",
       "\t& AwayTeam & AwayPoints & HomeTeam & HomePoints\\\\\n",
       "\t\\hline\n",
       "\t& String15 & Int64 & String15 & Int64\\\\\n",
       "\t\\hline\n",
       "\t1 & Arsenal & 31 & Arsenal & 40 \\\\\n",
       "\t2 & Aston Villa & 6 & Aston Villa & 11 \\\\\n",
       "\t3 & Bournemouth & 22 & Bournemouth & 20 \\\\\n",
       "\t4 & Chelsea & 26 & Chelsea & 24 \\\\\n",
       "\t5 & Crystal Palace & 21 & Crystal Palace & 21 \\\\\n",
       "\t6 & Everton & 24 & Everton & 23 \\\\\n",
       "\t7 & Leicester & 39 & Leicester & 42 \\\\\n",
       "\t8 & Liverpool & 28 & Liverpool & 32 \\\\\n",
       "\t9 & Man City & 28 & Man City & 38 \\\\\n",
       "\t10 & Man United & 25 & Man United & 41 \\\\\n",
       "\t11 & Newcastle & 9 & Newcastle & 28 \\\\\n",
       "\t12 & Norwich & 11 & Norwich & 23 \\\\\n",
       "\t13 & Southampton & 27 & Southampton & 36 \\\\\n",
       "\t14 & Stoke & 23 & Stoke & 28 \\\\\n",
       "\t15 & Sunderland & 15 & Sunderland & 24 \\\\\n",
       "\t16 & Swansea & 17 & Swansea & 30 \\\\\n",
       "\t17 & Tottenham & 34 & Tottenham & 36 \\\\\n",
       "\t18 & Watford & 21 & Watford & 24 \\\\\n",
       "\t19 & West Brom & 20 & West Brom & 23 \\\\\n",
       "\t20 & West Ham & 28 & West Ham & 34 \\\\\n",
       "\\end{tabular}\n"
      ],
      "text/plain": [
       "\u001b[1m20×4 DataFrame\u001b[0m\n",
       "\u001b[1m Row \u001b[0m│\u001b[1m AwayTeam       \u001b[0m\u001b[1m AwayPoints \u001b[0m\u001b[1m HomeTeam       \u001b[0m\u001b[1m HomePoints \u001b[0m\n",
       "     │\u001b[90m String15       \u001b[0m\u001b[90m Int64      \u001b[0m\u001b[90m String15       \u001b[0m\u001b[90m Int64      \u001b[0m\n",
       "─────┼────────────────────────────────────────────────────────\n",
       "   1 │ Arsenal                 31  Arsenal                 40\n",
       "   2 │ Aston Villa              6  Aston Villa             11\n",
       "   3 │ Bournemouth             22  Bournemouth             20\n",
       "   4 │ Chelsea                 26  Chelsea                 24\n",
       "   5 │ Crystal Palace          21  Crystal Palace          21\n",
       "   6 │ Everton                 24  Everton                 23\n",
       "   7 │ Leicester               39  Leicester               42\n",
       "   8 │ Liverpool               28  Liverpool               32\n",
       "   9 │ Man City                28  Man City                38\n",
       "  10 │ Man United              25  Man United              41\n",
       "  11 │ Newcastle                9  Newcastle               28\n",
       "  12 │ Norwich                 11  Norwich                 23\n",
       "  13 │ Southampton             27  Southampton             36\n",
       "  14 │ Stoke                   23  Stoke                   28\n",
       "  15 │ Sunderland              15  Sunderland              24\n",
       "  16 │ Swansea                 17  Swansea                 30\n",
       "  17 │ Tottenham               34  Tottenham               36\n",
       "  18 │ Watford                 21  Watford                 24\n",
       "  19 │ West Brom               20  West Brom               23\n",
       "  20 │ West Ham                28  West Ham                34"
      ]
     },
     "execution_count": 34,
     "metadata": {},
     "output_type": "execute_result"
    }
   ],
   "source": [
    "hcat(sort(ap,:AwayTeam),sort(hp,:HomeTeam))"
   ]
  },
  {
   "cell_type": "markdown",
   "metadata": {},
   "source": [
    "## Exercises\n",
    "\n",
    "- Arabidopsis: Predit fitness in Sweden in 2011 using fitness in Italy in 2011 and FLC locus.\n",
    "- EPL: Sort teams by total goals scored at home"
   ]
  }
 ],
 "metadata": {
  "jupytext": {
   "formats": "ipynb,jl:light"
  },
  "kernelspec": {
   "display_name": "Julia 1.8.5",
   "language": "julia",
   "name": "julia-1.8"
  },
  "language_info": {
   "file_extension": ".jl",
   "mimetype": "application/julia",
   "name": "julia",
   "version": "1.8.5"
  },
  "toc-autonumbering": true,
  "toc-showcode": false,
  "toc-showtags": false
 },
 "nbformat": 4,
 "nbformat_minor": 4
}
