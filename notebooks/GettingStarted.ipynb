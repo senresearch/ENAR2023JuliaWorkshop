{
 "cells": [
  {
   "cell_type": "markdown",
   "id": "42d16fde-46ce-4ea0-80ec-a220617d364b",
   "metadata": {},
   "source": [
    "# Getting Started with Julia Programming\n",
    "___\n",
    "\n",
    "**Gregory Farage, Śaunak Sen**    \n",
    "\n",
    "    gfarage@uthsc.edu / sen@uthsc.edu\n",
    "    Division of Biostatistics\n",
    "    Department of Preventive Medicine\n",
    "    University of Tennessee Health Science Center\n",
    "    Memphis, TN\n",
    "\n",
    "Julia is a high-level, high-performance dynamic programming language designed for numerical and scientific computing. In this tutorial, we will cover some of the basics of Julia programming, including how to assign variables, print results, add comments, and search for help.\n",
    "\n",
    "*References for this notebook:*\n",
    "* [The Julia language: Variable](https://docs.julialang.org/en/v1/manual/variables/)\n",
    "* [Excelling at Julia Basics and Beyond (Huda Nassar, Jane Herriman)](https://github.com/xorJane/Excelling-at-Julia-Basics-and-Beyond)\n",
    "* [wikibooks - The REPL](https://en.wikibooks.org/wiki/Introducing_Julia/The_REPL)"
   ]
  },
  {
   "cell_type": "markdown",
   "id": "3c8788b4-bc43-49bb-b4ab-01e3f5c0f13f",
   "metadata": {
    "slideshow": {
     "slide_type": "subslide"
    }
   },
   "source": [
    "### Outline of this notebook\n",
    "\n",
    "- Assigning Variables\n",
    "- Unicode Character\n",
    "- Printing Results\n",
    "- Adding Comments\n",
    "- Seraching for Help"
   ]
  },
  {
   "cell_type": "markdown",
   "id": "c654d92d-1bb7-49a0-af2d-829a656c3ace",
   "metadata": {},
   "source": [
    "## Assigning Variables\n",
    "In Julia, we can assign values to variables using the `= `operator. Here is an example:"
   ]
  },
  {
   "cell_type": "code",
   "execution_count": 1,
   "id": "a9c39bc4-62d0-4d54-a839-2c596106ad6d",
   "metadata": {},
   "outputs": [
    {
     "data": {
      "text/plain": [
       "10"
      ]
     },
     "execution_count": 1,
     "metadata": {},
     "output_type": "execute_result"
    }
   ],
   "source": [
    "x = 10"
   ]
  },
  {
   "cell_type": "markdown",
   "id": "bdef86a7-ccb0-4d31-81b6-7faffb11501b",
   "metadata": {},
   "source": [
    "This assigns the value 10 to the variable x. We can also assign the result of an expression to a variable:"
   ]
  },
  {
   "cell_type": "code",
   "execution_count": 2,
   "id": "d832630f-17c0-4cb9-87ec-cb8dc1bce7bb",
   "metadata": {},
   "outputs": [
    {
     "data": {
      "text/plain": [
       "20"
      ]
     },
     "execution_count": 2,
     "metadata": {},
     "output_type": "execute_result"
    }
   ],
   "source": [
    "y = 2 * x"
   ]
  },
  {
   "cell_type": "markdown",
   "id": "17928aa4-e372-4770-9e2e-4af753ff0f90",
   "metadata": {},
   "source": [
    "This assigns the result of 2 * x to the variable y."
   ]
  },
  {
   "cell_type": "markdown",
   "id": "c0b6ec95-6bb3-4d5f-a73f-f755026cf0a8",
   "metadata": {},
   "source": [
    "## Unicode Characters\n",
    "\n",
    "Julia supports Unicode characters, which can be useful for writing mathematical expressions, symbols, and other special characters, including mathematical symbols, Greek letters.\n",
    "\n",
    "Unicode characters can be typed directly into the code editor, as long as the editor supports Unicode input. The good news is that the Julia REPL supports Unicode.\n",
    "\n",
    "For example, to type the Greek letter alpha (α), you can simply type \\alpha and press the TAB key. This will replace \\alpha with the actual character."
   ]
  },
  {
   "cell_type": "code",
   "execution_count": 9,
   "id": "c97b05e4-560f-4c1a-8510-fe9dfc91706e",
   "metadata": {},
   "outputs": [
    {
     "data": {
      "text/plain": [
       "7"
      ]
     },
     "execution_count": 9,
     "metadata": {},
     "output_type": "execute_result"
    }
   ],
   "source": [
    "α = 7"
   ]
  },
  {
   "cell_type": "markdown",
   "id": "11931c39-4c6b-42b6-8a55-e7061a173e17",
   "metadata": {},
   "source": [
    "We can also special character such as:"
   ]
  },
  {
   "cell_type": "code",
   "execution_count": 10,
   "id": "cee86d22-b846-461b-95a3-f9b0650afaff",
   "metadata": {},
   "outputs": [
    {
     "data": {
      "text/plain": [
       "3"
      ]
     },
     "execution_count": 10,
     "metadata": {},
     "output_type": "execute_result"
    }
   ],
   "source": [
    "🐸 = 3"
   ]
  },
  {
   "cell_type": "code",
   "execution_count": 11,
   "id": "e28cdaaa-2cb6-4aa5-a34c-51c1fd5bad25",
   "metadata": {},
   "outputs": [
    {
     "data": {
      "text/plain": [
       "10"
      ]
     },
     "execution_count": 11,
     "metadata": {},
     "output_type": "execute_result"
    }
   ],
   "source": [
    "🐸 + α"
   ]
  },
  {
   "cell_type": "markdown",
   "id": "53648767-afef-434c-bae1-c02eac9d69fa",
   "metadata": {},
   "source": [
    "All possible input unicodes can be found [here](https://docs.julialang.org/en/v1/manual/unicode-input/)"
   ]
  },
  {
   "cell_type": "markdown",
   "id": "3606092e-a730-4617-a51e-7d88acf82418",
   "metadata": {},
   "source": [
    "## Printing Results\n",
    "To print the value of a variable or an expression, we can use the println() function. Here is an example:"
   ]
  },
  {
   "cell_type": "code",
   "execution_count": 3,
   "id": "91f9d8f8-1f1e-46b2-82aa-e4e066c7e4c5",
   "metadata": {},
   "outputs": [
    {
     "name": "stdout",
     "output_type": "stream",
     "text": [
      "The value of x is 10\n",
      "The value of y is 20\n"
     ]
    }
   ],
   "source": [
    "println(\"The value of x is \", x)\n",
    "println(\"The value of y is \", y)"
   ]
  },
  {
   "cell_type": "markdown",
   "id": "13824ef5-cdfa-4066-afe1-9d9359230f8f",
   "metadata": {},
   "source": [
    "This will print the values of x and y to the console."
   ]
  },
  {
   "cell_type": "markdown",
   "id": "edb87b72-8e82-43a7-95c7-8c28ca7fa26f",
   "metadata": {},
   "source": [
    "## Adding Comments\n",
    "Comments are used to add notes or explanations to code, and are ignored by the Julia interpreter. In Julia, comments start with the # character. Here is an example:"
   ]
  },
  {
   "cell_type": "code",
   "execution_count": 4,
   "id": "72113051-b580-4c46-8f9c-0f97100e7d99",
   "metadata": {},
   "outputs": [
    {
     "data": {
      "text/plain": [
       "10"
      ]
     },
     "execution_count": 4,
     "metadata": {},
     "output_type": "execute_result"
    }
   ],
   "source": [
    "# This is a comment\n",
    "x = 10 # This is also a comment"
   ]
  },
  {
   "cell_type": "markdown",
   "id": "8f38d77a-747b-4256-941e-39df1c8f8bc7",
   "metadata": {},
   "source": [
    "Comments can be added to the end of a line of code, or on a separate line."
   ]
  },
  {
   "cell_type": "markdown",
   "id": "e41f383d-bf41-40f9-8c84-df75b5d84ce0",
   "metadata": {},
   "source": [
    "## Searching for Help\n",
    "Julia has extensive built-in documentation, which can be accessed using the ? operator. For example, to get help on the println() function, we can type ?println in the Julia console:"
   ]
  },
  {
   "cell_type": "code",
   "execution_count": 5,
   "id": "51aa4c51-995f-4503-87a0-1293a17d8f88",
   "metadata": {},
   "outputs": [
    {
     "name": "stdout",
     "output_type": "stream",
     "text": [
      "search: \u001b[0m\u001b[1mp\u001b[22m\u001b[0m\u001b[1mr\u001b[22m\u001b[0m\u001b[1mi\u001b[22m\u001b[0m\u001b[1mn\u001b[22m\u001b[0m\u001b[1mt\u001b[22m\u001b[0m\u001b[1ml\u001b[22m\u001b[0m\u001b[1mn\u001b[22m \u001b[0m\u001b[1mp\u001b[22m\u001b[0m\u001b[1mr\u001b[22m\u001b[0m\u001b[1mi\u001b[22m\u001b[0m\u001b[1mn\u001b[22m\u001b[0m\u001b[1mt\u001b[22msty\u001b[0m\u001b[1ml\u001b[22med \u001b[0m\u001b[1mp\u001b[22m\u001b[0m\u001b[1mr\u001b[22m\u001b[0m\u001b[1mi\u001b[22m\u001b[0m\u001b[1mn\u001b[22m\u001b[0m\u001b[1mt\u001b[22m s\u001b[0m\u001b[1mp\u001b[22m\u001b[0m\u001b[1mr\u001b[22m\u001b[0m\u001b[1mi\u001b[22m\u001b[0m\u001b[1mn\u001b[22m\u001b[0m\u001b[1mt\u001b[22m is\u001b[0m\u001b[1mp\u001b[22m\u001b[0m\u001b[1mr\u001b[22m\u001b[0m\u001b[1mi\u001b[22m\u001b[0m\u001b[1mn\u001b[22m\u001b[0m\u001b[1mt\u001b[22m\n",
      "\n"
     ]
    },
    {
     "data": {
      "text/latex": [
       "\\begin{verbatim}\n",
       "println([io::IO], xs...)\n",
       "\\end{verbatim}\n",
       "Print (using \\href{@ref}{\\texttt{print}}) \\texttt{xs} to \\texttt{io} followed by a newline. If \\texttt{io} is not supplied, prints to the default output stream \\href{@ref}{\\texttt{stdout}}.\n",
       "\n",
       "See also \\href{@ref}{\\texttt{printstyled}} to add colors etc.\n",
       "\n",
       "\\section{Examples}\n",
       "\\begin{verbatim}\n",
       "julia> println(\"Hello, world\")\n",
       "Hello, world\n",
       "\n",
       "julia> io = IOBuffer();\n",
       "\n",
       "julia> println(io, \"Hello\", ',', \" world.\")\n",
       "\n",
       "julia> String(take!(io))\n",
       "\"Hello, world.\\n\"\n",
       "\\end{verbatim}\n"
      ],
      "text/markdown": [
       "```\n",
       "println([io::IO], xs...)\n",
       "```\n",
       "\n",
       "Print (using [`print`](@ref)) `xs` to `io` followed by a newline. If `io` is not supplied, prints to the default output stream [`stdout`](@ref).\n",
       "\n",
       "See also [`printstyled`](@ref) to add colors etc.\n",
       "\n",
       "# Examples\n",
       "\n",
       "```jldoctest\n",
       "julia> println(\"Hello, world\")\n",
       "Hello, world\n",
       "\n",
       "julia> io = IOBuffer();\n",
       "\n",
       "julia> println(io, \"Hello\", ',', \" world.\")\n",
       "\n",
       "julia> String(take!(io))\n",
       "\"Hello, world.\\n\"\n",
       "```\n"
      ],
      "text/plain": [
       "\u001b[36m  println([io::IO], xs...)\u001b[39m\n",
       "\n",
       "  Print (using \u001b[36mprint\u001b[39m) \u001b[36mxs\u001b[39m to \u001b[36mio\u001b[39m followed by a newline. If \u001b[36mio\u001b[39m is not supplied,\n",
       "  prints to the default output stream \u001b[36mstdout\u001b[39m.\n",
       "\n",
       "  See also \u001b[36mprintstyled\u001b[39m to add colors etc.\n",
       "\n",
       "\u001b[1m  Examples\u001b[22m\n",
       "\u001b[1m  ≡≡≡≡≡≡≡≡≡≡\u001b[22m\n",
       "\n",
       "\u001b[36m  julia> println(\"Hello, world\")\u001b[39m\n",
       "\u001b[36m  Hello, world\u001b[39m\n",
       "\u001b[36m  \u001b[39m\n",
       "\u001b[36m  julia> io = IOBuffer();\u001b[39m\n",
       "\u001b[36m  \u001b[39m\n",
       "\u001b[36m  julia> println(io, \"Hello\", ',', \" world.\")\u001b[39m\n",
       "\u001b[36m  \u001b[39m\n",
       "\u001b[36m  julia> String(take!(io))\u001b[39m\n",
       "\u001b[36m  \"Hello, world.\\n\"\u001b[39m"
      ]
     },
     "execution_count": 5,
     "metadata": {},
     "output_type": "execute_result"
    }
   ],
   "source": [
    "?println"
   ]
  },
  {
   "cell_type": "markdown",
   "id": "32c2d6e7-6387-4f60-b681-4ba421a76099",
   "metadata": {},
   "source": [
    "This will display the documentation for the `println()` function."
   ]
  },
  {
   "cell_type": "code",
   "execution_count": 6,
   "id": "bd1933ce-d9f1-4792-ad71-5e45e8db2629",
   "metadata": {},
   "outputs": [
    {
     "name": "stdout",
     "output_type": "stream",
     "text": [
      "Julia Version 1.8.5\n",
      "Commit 17cfb8e65e (2023-01-08 06:45 UTC)\n",
      "Platform Info:\n",
      "  OS: Windows (x86_64-w64-mingw32)\n",
      "  CPU: 8 × 11th Gen Intel(R) Core(TM) i7-1165G7 @ 2.80GHz\n",
      "  WORD_SIZE: 64\n",
      "  LIBM: libopenlibm\n",
      "  LLVM: libLLVM-13.0.1 (ORCJIT, tigerlake)\n",
      "  Threads: 1 on 8 virtual cores\n"
     ]
    }
   ],
   "source": [
    "versioninfo()"
   ]
  },
  {
   "cell_type": "markdown",
   "id": "fabcc898-062c-438e-9771-8f7c5ef3dbd7",
   "metadata": {},
   "source": [
    "## Summary\n",
    "This notebook covered some of the basics of Julia programming, including how to assign variables, print results, add comments, and search for help. "
   ]
  },
  {
   "cell_type": "markdown",
   "id": "14443d8b-d863-4aef-91f2-19df8b4f41a6",
   "metadata": {},
   "source": [
    "## Exercise - Julia Basics"
   ]
  },
  {
   "cell_type": "markdown",
   "id": "6314361d-e31f-4d7a-bab3-17acdfbca2ba",
   "metadata": {},
   "source": [
    "#### Ex.1: Look up documentation for the `rand()` function"
   ]
  },
  {
   "cell_type": "code",
   "execution_count": null,
   "id": "3ba61bba-3a7a-4cab-ba9b-00d131463e69",
   "metadata": {},
   "outputs": [],
   "source": []
  },
  {
   "cell_type": "markdown",
   "id": "ed1c8813-0fd4-4dcc-82ef-e62b7df6b43e",
   "metadata": {},
   "source": [
    "#### Ex.2: Assign two random integers between 1 an 10 to two Unicode input variables of your choice. ([list of Unicode input](https://docs.julialang.org/en/v1/manual/unicode-input/)).   \n",
    "*hint: rand(1:10)*  \n",
    "Warning: some unicode input are reserved. For example, the unicode \\sqrt is reserved for the actual square root function.\n",
    "```julia\n",
    "√ 2\n",
    "1.4142135623730951\n",
    "```"
   ]
  },
  {
   "cell_type": "code",
   "execution_count": null,
   "id": "6f9c7bf9-bba0-40e0-9362-138a5c813138",
   "metadata": {},
   "outputs": [],
   "source": []
  },
  {
   "cell_type": "code",
   "execution_count": null,
   "id": "b6786887-927b-46ad-b012-9a430b214967",
   "metadata": {},
   "outputs": [],
   "source": []
  },
  {
   "cell_type": "markdown",
   "id": "89cb3ba9-336a-4b18-b6d2-97af5ea32052",
   "metadata": {},
   "source": [
    "#### Ex.3: Write a function that takes two input arguments, adds them together, and then multiplies the sum by 2.\n",
    "*Hint: type \"?function\" to get documentaion about writing a function*"
   ]
  },
  {
   "cell_type": "code",
   "execution_count": null,
   "id": "f53e63bd-712d-4bc6-89ca-121296b51b3f",
   "metadata": {},
   "outputs": [],
   "source": []
  },
  {
   "cell_type": "markdown",
   "id": "b48522f5-9f9e-4529-8ff8-8af3830154e1",
   "metadata": {},
   "source": [
    "#### Ex.4: Apply the function to the two Unicode variables created previously."
   ]
  },
  {
   "cell_type": "code",
   "execution_count": null,
   "id": "6ac596b2-bdce-4912-80e5-e99d93daf078",
   "metadata": {},
   "outputs": [],
   "source": []
  }
 ],
 "metadata": {
  "jupytext": {
   "encoding": "# -*- coding: utf-8 -*-",
   "formats": "ipynb,jl:light"
  },
  "kernelspec": {
   "display_name": "Julia 1.8.5",
   "language": "julia",
   "name": "julia-1.8"
  },
  "language_info": {
   "file_extension": ".jl",
   "mimetype": "application/julia",
   "name": "julia",
   "version": "1.8.5"
  }
 },
 "nbformat": 4,
 "nbformat_minor": 5
}
