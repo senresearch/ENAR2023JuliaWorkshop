{
 "cells": [
  {
   "cell_type": "markdown",
   "id": "cc9ca851-2343-444e-a3b1-3d03846bc219",
   "metadata": {},
   "source": [
    "## Exercise - Optimization "
   ]
  },
  {
   "cell_type": "code",
   "execution_count": 1,
   "id": "064debfe-c9b3-4dfa-93b5-73ba3eec96c9",
   "metadata": {},
   "outputs": [],
   "source": [
    "using Distributed"
   ]
  },
  {
   "cell_type": "markdown",
   "id": "50ac9da9-69a2-481c-8c80-3a13c04e66d4",
   "metadata": {},
   "source": [
    "#### Ex.1: \n",
    "\n",
    "Find out how many cores and threads you can run on your computer."
   ]
  },
  {
   "cell_type": "markdown",
   "id": "e5ed50cf-09b4-4c27-92ea-3c08e295628d",
   "metadata": {},
   "source": [
    "##### Ex.1 - solution:"
   ]
  },
  {
   "cell_type": "markdown",
   "id": "e55f2c69-7df7-4a3a-8613-9e5fb8440ba6",
   "metadata": {},
   "source": [
    "There can be many ways to see it, either by typing in the corresponding command (for your specific OS) from the command line (also you can check out `ParallelComputing.ipynb` section 1.2)\n",
    "\n",
    "From the command line, type:\n",
    "\n",
    "**linux**:\n",
    "`lscpu`\n",
    "\n",
    "**macOS**:\n",
    "`sysctl -a | grep cpu | grep hw`\n",
    "\n",
    "**windows**:\n",
    "`wmic cpu get NumberOfCores,NumberOfLogicalProcessors`\n",
    "\n",
    "or simply by looking into the system report for your computer (such as in macOS, `Apple` -> `About This Mac` -> `System Report...`)"
   ]
  },
  {
   "cell_type": "markdown",
   "id": "4005fcad-ed07-45f6-821a-5faa4de3882c",
   "metadata": {},
   "source": [
    "From Julia, you can use the package `Hwloc`"
   ]
  },
  {
   "cell_type": "code",
   "execution_count": 2,
   "id": "4d5726b6-992d-42dd-9ccf-1c4333c5238a",
   "metadata": {},
   "outputs": [],
   "source": [
    "using Hwloc"
   ]
  },
  {
   "cell_type": "markdown",
   "id": "685eb296-282e-4c0a-adbc-0e84769708ce",
   "metadata": {},
   "source": [
    "Check how many physical cores you have:"
   ]
  },
  {
   "cell_type": "code",
   "execution_count": 3,
   "id": "b443a4d6-9ff4-4187-b09d-988c69908b21",
   "metadata": {},
   "outputs": [
    {
     "data": {
      "text/plain": [
       "4"
      ]
     },
     "execution_count": 3,
     "metadata": {},
     "output_type": "execute_result"
    }
   ],
   "source": [
    "num_physical_cores() "
   ]
  },
  {
   "cell_type": "markdown",
   "id": "839c5575-f8d4-4d0f-9393-79547f13c7dc",
   "metadata": {},
   "source": [
    "Check how many virtual cores (virtual processes) you can have:"
   ]
  },
  {
   "cell_type": "code",
   "execution_count": 4,
   "id": "875dcb9c-91b1-409e-8788-6bac0a7c41d4",
   "metadata": {},
   "outputs": [
    {
     "data": {
      "text/plain": [
       "8"
      ]
     },
     "execution_count": 4,
     "metadata": {},
     "output_type": "execute_result"
    }
   ],
   "source": [
    "num_virtual_cores()"
   ]
  },
  {
   "cell_type": "markdown",
   "id": "e136e519-47fd-40e6-bb17-39825247de2f",
   "metadata": {},
   "source": [
    "You may see that `num_virtual_cores()` is two times the `num_physical_cores()`.\n",
    "\n",
    "This is because normally on one physical core, there can be two processes (distributed processes, or threads) running concurrently. "
   ]
  },
  {
   "cell_type": "markdown",
   "id": "e1378bae-d54e-4aa4-911e-005dca844f7a",
   "metadata": {},
   "source": [
    "#### Ex.2: Procs() \n",
    "Add at least two processes to your instance."
   ]
  },
  {
   "cell_type": "markdown",
   "id": "050b9630-5b72-438b-ba56-10f4a00a8528",
   "metadata": {},
   "source": [
    "##### Ex.2 - solution:"
   ]
  },
  {
   "cell_type": "code",
   "execution_count": 5,
   "id": "288fac09-636b-4520-b80d-8d6f3c19e542",
   "metadata": {},
   "outputs": [
    {
     "data": {
      "text/plain": [
       "1-element Vector{Int64}:\n",
       " 1"
      ]
     },
     "execution_count": 5,
     "metadata": {},
     "output_type": "execute_result"
    }
   ],
   "source": [
    "procs() # run this before adding procs"
   ]
  },
  {
   "cell_type": "code",
   "execution_count": 6,
   "id": "c5d476c1-5fa6-4802-bab8-71ffcbe33628",
   "metadata": {},
   "outputs": [
    {
     "data": {
      "text/plain": [
       "2-element Vector{Int64}:\n",
       " 2\n",
       " 3"
      ]
     },
     "execution_count": 6,
     "metadata": {},
     "output_type": "execute_result"
    }
   ],
   "source": [
    "addprocs(2)"
   ]
  },
  {
   "cell_type": "code",
   "execution_count": 7,
   "id": "abd36e6d-e417-4d5d-9e3e-c6e119600fda",
   "metadata": {},
   "outputs": [
    {
     "data": {
      "text/plain": [
       "3-element Vector{Int64}:\n",
       " 1\n",
       " 2\n",
       " 3"
      ]
     },
     "execution_count": 7,
     "metadata": {},
     "output_type": "execute_result"
    }
   ],
   "source": [
    "procs() # run this after adding procs"
   ]
  },
  {
   "cell_type": "code",
   "execution_count": 8,
   "id": "b34167ba-697b-42b6-ac0c-dcb168b6d051",
   "metadata": {},
   "outputs": [
    {
     "data": {
      "text/plain": [
       "2-element Vector{Int64}:\n",
       " 2\n",
       " 3"
      ]
     },
     "execution_count": 8,
     "metadata": {},
     "output_type": "execute_result"
    }
   ],
   "source": [
    "workers() # only `workers` will be `working`"
   ]
  },
  {
   "cell_type": "markdown",
   "id": "40515275-d83e-442e-9d3b-5bb3f65c2d74",
   "metadata": {},
   "source": [
    "**Q:** Why are there three processes while only two are working? \n",
    "\n",
    "Check out this `StackOverflow` thread: https://stackoverflow.com/questions/75247172/number-of-workers-and-processes-in-julia (and the Julia doc with link also provided in this thread)."
   ]
  },
  {
   "cell_type": "markdown",
   "id": "7b72331e-1f01-4188-9bd7-822c6a506b3a",
   "metadata": {},
   "source": [
    "#### Ex.3:\n",
    "Generate four **Uniform(0,1)** random numbers on each core and return the matrix; call that A"
   ]
  },
  {
   "cell_type": "markdown",
   "id": "bc885cc0-7f6e-473c-b9f1-7e804175543e",
   "metadata": {},
   "source": [
    "##### Ex.3 - solution:"
   ]
  },
  {
   "cell_type": "markdown",
   "id": "cf4c6905-7b00-4b99-925e-072a949af15b",
   "metadata": {},
   "source": [
    "First, let **all workers** know what information they will need to know in order to work: "
   ]
  },
  {
   "cell_type": "code",
   "execution_count": 9,
   "id": "fbed70be-4960-47d4-a004-3cc9be70e629",
   "metadata": {},
   "outputs": [],
   "source": [
    "@everywhere using Distributions, Random \n",
    "# here just to let them \"know\" the packages"
   ]
  },
  {
   "cell_type": "markdown",
   "id": "f4851183-0932-4139-975b-65f03671e2f3",
   "metadata": {},
   "source": [
    "We can then use `pmap` to let the workers to generate the columns of matrix A."
   ]
  },
  {
   "cell_type": "code",
   "execution_count": 10,
   "id": "e2c80e42-d4d2-4759-9cd2-32ae8dcdf451",
   "metadata": {},
   "outputs": [
    {
     "data": {
      "text/plain": [
       "2-element Vector{Vector{Float64}}:\n",
       " [0.7234671238939189, 0.49557716427533594, 0.6747703674198254, 0.8499955415266967]\n",
       " [0.3178551907215277, 0.23787811300037798, 0.8500445492222142, 0.9326045372406845]"
      ]
     },
     "execution_count": 10,
     "metadata": {},
     "output_type": "execute_result"
    }
   ],
   "source": [
    "A_columns = pmap(i -> rand(Uniform(0, 1), 4), 1:nworkers())"
   ]
  },
  {
   "cell_type": "markdown",
   "id": "8c2a8498-1c1a-4120-83d4-14f81c52f41c",
   "metadata": {},
   "source": [
    "(as the ordinary `map`, `pmap` returns a collection of the outputs after mapping the )"
   ]
  },
  {
   "cell_type": "markdown",
   "id": "9ce28b07-525a-4c82-9d2d-bf3350c10eaa",
   "metadata": {},
   "source": [
    "Then we can use `reduce`, which will apply the operation defined in the first argument on the given collection (the second argument) to \"reduce\" its dimensionality, to generate the matrix."
   ]
  },
  {
   "cell_type": "code",
   "execution_count": 18,
   "id": "11f4699b-1d28-47fe-b239-ab240782276a",
   "metadata": {},
   "outputs": [
    {
     "data": {
      "text/plain": [
       "4×2 Matrix{Float64}:\n",
       " 0.723467  0.317855\n",
       " 0.495577  0.237878\n",
       " 0.67477   0.850045\n",
       " 0.849996  0.932605"
      ]
     },
     "execution_count": 18,
     "metadata": {},
     "output_type": "execute_result"
    }
   ],
   "source": [
    "A = reduce(hcat, A_columns) # hcat to concatenate horizontally the vectors"
   ]
  },
  {
   "cell_type": "markdown",
   "id": "346268bc-25ae-4d7a-be55-437a941b3c77",
   "metadata": {},
   "source": [
    "#### Ex.4: \n",
    "Calculate $A(A^TA)^{-1}A^T$ (transpose matrix A, if it is not full rank)."
   ]
  },
  {
   "cell_type": "markdown",
   "id": "b3e1ec7a-c90b-42aa-b5af-ec4ee05c018d",
   "metadata": {},
   "source": [
    "##### Ex.4 - solution:"
   ]
  },
  {
   "cell_type": "code",
   "execution_count": 36,
   "id": "66aa2b79-fe1f-4407-9bd6-08c424746ed8",
   "metadata": {},
   "outputs": [
    {
     "data": {
      "text/plain": [
       "4×4 Matrix{Float64}:\n",
       "  0.692072    0.447356   -0.0886151  0.0716135\n",
       "  0.447356    0.289826   -0.0392786  0.0644744\n",
       " -0.0886151  -0.0392786   0.506012   0.490478\n",
       "  0.0716135   0.0644744   0.490478   0.512089"
      ]
     },
     "execution_count": 36,
     "metadata": {},
     "output_type": "execute_result"
    }
   ],
   "source": [
    "P = A*(A'A)^(-1)*A'"
   ]
  }
 ],
 "metadata": {
  "jupytext": {
   "formats": "ipynb,auto:light"
  },
  "kernelspec": {
   "display_name": "Julia 1.8.5",
   "language": "julia",
   "name": "julia-1.8"
  },
  "language_info": {
   "file_extension": ".jl",
   "mimetype": "application/julia",
   "name": "julia",
   "version": "1.8.5"
  }
 },
 "nbformat": 4,
 "nbformat_minor": 5
}
