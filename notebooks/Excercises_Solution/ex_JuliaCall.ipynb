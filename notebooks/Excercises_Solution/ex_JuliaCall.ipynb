{
 "cells": [
  {
   "cell_type": "markdown",
   "id": "213ae46e-88d3-4d29-af30-0c9265bad20c",
   "metadata": {},
   "source": [
    "## Exercise: using `julia_call` package in R"
   ]
  },
  {
   "cell_type": "markdown",
   "id": "a81e0a0f-ff46-421b-b03b-2f7a9af10684",
   "metadata": {},
   "source": [
    "If you are an extensive R user and are not ready to fully switch to Julia, but still want to experience some features in Julia, such as using some Julia packages for your data analysis, this exercise would be particularly of your interests. \n",
    "\n",
    "For this exercise, we would use the Julia package `MatrixLM.jl`, a fast application of fitting multivariate linear models in Julia. We will fit the model:\n",
    "\n",
    "$$Y = XBZ^T+E\n",
    "$$\n",
    "\n",
    "where \n",
    "\n",
    "- $Y$ is the multivariate response of dimension $n \\times m$\n",
    "- $X$ is the design matrix of row covariates of dimension $n \\times p$\n",
    "- $Z$ is the design matrix of column covariates of dimension $m \\times q$\n",
    "- $B$ is the matrix of interative effects of row and column covariates; it has dimension $p \\times q$\n",
    "- $E$ is the $n \\times m$ matrix of normal noises.\n",
    "\n",
    "\n",
    "We will be simulating data using R code, and use `MatrixLM.jl`\n",
    "\n",
    "The goal of this exercise is mainly to familiarize you with the `R/julia_call` functionalities, by which you can easily utilize some additional features in Julia running Julia packages in the backend, while still staying in the R interface."
   ]
  },
  {
   "cell_type": "markdown",
   "id": "3b1dfc34-580c-4dc8-82ba-af905e87da22",
   "metadata": {},
   "source": [
    "**Load R libraries:**"
   ]
  },
  {
   "cell_type": "code",
   "execution_count": 42,
   "id": "d5cb8c38-da36-4ee6-8342-8e0806dafa10",
   "metadata": {},
   "outputs": [],
   "source": [
    "library(dplyr);\n",
    "\n",
    "# install.packages(JuliaCall)\n",
    "library(JuliaCall)\n",
    "# julia_setup(installJulia = TRUE) # for the first time, run this to initialize JuliaCall"
   ]
  },
  {
   "cell_type": "markdown",
   "id": "2f3aa737-9711-4a00-be24-2370e5f87d0b",
   "metadata": {},
   "source": [
    "#### Ex.1: Simulate data in R"
   ]
  },
  {
   "cell_type": "markdown",
   "id": "199b9d4a-2ba3-48ab-87f0-eee37693e69d",
   "metadata": {},
   "source": [
    "Set the random seed to be 1. Then, simulate the data as the following:\n",
    "\n",
    "- n = 100, m = 250\n",
    "- The number of row covariates, p = 5\n",
    "- The number of column covariates, q = 5\n",
    "- Simulate X, Z, B as matrices of uniformly distributed numbers in [0, 1], of the corresponding sizes \n",
    "- Simulate random normal errors E with standard deviation $\\sigma = 0.1$\n",
    "- Simulate Y by the model $Y = XBZ^T+E$"
   ]
  },
  {
   "cell_type": "code",
   "execution_count": null,
   "id": "1e6117d8-4cce-4b6f-a7d3-4fca520a36d6",
   "metadata": {},
   "outputs": [],
   "source": []
  },
  {
   "cell_type": "markdown",
   "id": "4b69541b-3108-4119-a4bc-a6c62bc3b86d",
   "metadata": {},
   "source": [
    "##### Ex.1 - solution:"
   ]
  },
  {
   "cell_type": "code",
   "execution_count": 43,
   "id": "edc8c498-859c-4283-881f-76872377636c",
   "metadata": {},
   "outputs": [],
   "source": [
    "# Sizes of row covariates\n",
    "n <- 100\n",
    "p <- 5\n",
    "\n",
    "# Sizes of column covariates\n",
    "m <- 250\n",
    "q <- 5"
   ]
  },
  {
   "cell_type": "code",
   "execution_count": 44,
   "id": "7e6ab72e-fd1c-42c2-a6d6-aa2a8c30b29c",
   "metadata": {},
   "outputs": [],
   "source": [
    "# set random seed\n",
    "set.seed(1)\n",
    "\n",
    "X = matrix(runif(n*p), nrow = n) # design matrix of row covariates X\n",
    "Z = matrix(runif(m*q), nrow = m) # design matrix of column covariates X\n",
    "\n",
    "B = matrix(runif(p*q, -5, 5), nrow = p) # true coefficient matrix B\n",
    "E = matrix(rnorm(n*m, sd = 0.1), nrow = n) # standard normal errors E\n",
    "Y = X %*% B %*% t(Z) + E # simulating multivariate response matrix Y"
   ]
  },
  {
   "cell_type": "markdown",
   "id": "d2c13147-d6d0-4ae5-a624-00e368a92cb4",
   "metadata": {
    "jp-MarkdownHeadingCollapsed": true,
    "tags": []
   },
   "source": [
    "#### Ex.2: Load data into Julia \n",
    "(using `julia_assign()`)"
   ]
  },
  {
   "cell_type": "code",
   "execution_count": null,
   "id": "6c7ee709-da1b-43e6-b991-f148958622b1",
   "metadata": {},
   "outputs": [],
   "source": []
  },
  {
   "cell_type": "code",
   "execution_count": null,
   "id": "2d791362-dc1c-4372-a70f-6bd05bcd9e59",
   "metadata": {},
   "outputs": [],
   "source": []
  },
  {
   "cell_type": "markdown",
   "id": "5b2288b0-f129-4ba2-94fa-5f31984a7c22",
   "metadata": {},
   "source": [
    "##### Ex.2 - solution:"
   ]
  },
  {
   "cell_type": "code",
   "execution_count": 45,
   "id": "5f82a0f5-1427-4b98-b17b-51d9a14b2ed5",
   "metadata": {},
   "outputs": [],
   "source": [
    "# Assign variables to the Julia environment...\n",
    "julia_assign(\"X\", X);\n",
    "julia_assign(\"B\", B);\n",
    "julia_assign(\"Z\", Z);\n",
    "julia_assign(\"Y\", Y)"
   ]
  },
  {
   "cell_type": "markdown",
   "id": "101d1195-7eee-4088-aacb-e50411f559ab",
   "metadata": {},
   "source": [
    "Then, for example, if you run"
   ]
  },
  {
   "cell_type": "code",
   "execution_count": 46,
   "id": "711123f7-0284-4133-aa24-99c028eaed78",
   "metadata": {},
   "outputs": [
    {
     "data": {
      "text/html": [
       "<table class=\"dataframe\">\n",
       "<caption>A matrix: 6 × 5 of type dbl</caption>\n",
       "<tbody>\n",
       "\t<tr><td>0.2655087</td><td>0.6547239</td><td>0.2675082</td><td>0.67371223</td><td>0.6588776</td></tr>\n",
       "\t<tr><td>0.3721239</td><td>0.3531973</td><td>0.2186453</td><td>0.09485786</td><td>0.1850700</td></tr>\n",
       "\t<tr><td>0.5728534</td><td>0.2702601</td><td>0.5167968</td><td>0.49259612</td><td>0.9543781</td></tr>\n",
       "\t<tr><td>0.9082078</td><td>0.9926841</td><td>0.2689506</td><td>0.46155184</td><td>0.8978485</td></tr>\n",
       "\t<tr><td>0.2016819</td><td>0.6334933</td><td>0.1811683</td><td>0.37521653</td><td>0.9436971</td></tr>\n",
       "\t<tr><td>0.8983897</td><td>0.2132081</td><td>0.5185761</td><td>0.99109922</td><td>0.7236908</td></tr>\n",
       "</tbody>\n",
       "</table>\n"
      ],
      "text/latex": [
       "A matrix: 6 × 5 of type dbl\n",
       "\\begin{tabular}{lllll}\n",
       "\t 0.2655087 & 0.6547239 & 0.2675082 & 0.67371223 & 0.6588776\\\\\n",
       "\t 0.3721239 & 0.3531973 & 0.2186453 & 0.09485786 & 0.1850700\\\\\n",
       "\t 0.5728534 & 0.2702601 & 0.5167968 & 0.49259612 & 0.9543781\\\\\n",
       "\t 0.9082078 & 0.9926841 & 0.2689506 & 0.46155184 & 0.8978485\\\\\n",
       "\t 0.2016819 & 0.6334933 & 0.1811683 & 0.37521653 & 0.9436971\\\\\n",
       "\t 0.8983897 & 0.2132081 & 0.5185761 & 0.99109922 & 0.7236908\\\\\n",
       "\\end{tabular}\n"
      ],
      "text/markdown": [
       "\n",
       "A matrix: 6 × 5 of type dbl\n",
       "\n",
       "| 0.2655087 | 0.6547239 | 0.2675082 | 0.67371223 | 0.6588776 |\n",
       "| 0.3721239 | 0.3531973 | 0.2186453 | 0.09485786 | 0.1850700 |\n",
       "| 0.5728534 | 0.2702601 | 0.5167968 | 0.49259612 | 0.9543781 |\n",
       "| 0.9082078 | 0.9926841 | 0.2689506 | 0.46155184 | 0.8978485 |\n",
       "| 0.2016819 | 0.6334933 | 0.1811683 | 0.37521653 | 0.9436971 |\n",
       "| 0.8983897 | 0.2132081 | 0.5185761 | 0.99109922 | 0.7236908 |\n",
       "\n"
      ],
      "text/plain": [
       "     [,1]      [,2]      [,3]      [,4]       [,5]     \n",
       "[1,] 0.2655087 0.6547239 0.2675082 0.67371223 0.6588776\n",
       "[2,] 0.3721239 0.3531973 0.2186453 0.09485786 0.1850700\n",
       "[3,] 0.5728534 0.2702601 0.5167968 0.49259612 0.9543781\n",
       "[4,] 0.9082078 0.9926841 0.2689506 0.46155184 0.8978485\n",
       "[5,] 0.2016819 0.6334933 0.1811683 0.37521653 0.9436971\n",
       "[6,] 0.8983897 0.2132081 0.5185761 0.99109922 0.7236908"
      ]
     },
     "metadata": {},
     "output_type": "display_data"
    }
   ],
   "source": [
    "julia_eval(\"X[1:6, :]\") # check the first 6 rows of X in Julia"
   ]
  },
  {
   "cell_type": "markdown",
   "id": "d13b6902-c267-4646-a5a4-d1a2a28c976c",
   "metadata": {},
   "source": [
    "and"
   ]
  },
  {
   "cell_type": "code",
   "execution_count": 47,
   "id": "51ca773e-7448-4c8c-b065-56d27e580897",
   "metadata": {},
   "outputs": [
    {
     "data": {
      "text/html": [
       "<table class=\"dataframe\">\n",
       "<caption>A matrix: 6 × 5 of type dbl</caption>\n",
       "<tbody>\n",
       "\t<tr><td>0.2655087</td><td>0.6547239</td><td>0.2675082</td><td>0.67371223</td><td>0.6588776</td></tr>\n",
       "\t<tr><td>0.3721239</td><td>0.3531973</td><td>0.2186453</td><td>0.09485786</td><td>0.1850700</td></tr>\n",
       "\t<tr><td>0.5728534</td><td>0.2702601</td><td>0.5167968</td><td>0.49259612</td><td>0.9543781</td></tr>\n",
       "\t<tr><td>0.9082078</td><td>0.9926841</td><td>0.2689506</td><td>0.46155184</td><td>0.8978485</td></tr>\n",
       "\t<tr><td>0.2016819</td><td>0.6334933</td><td>0.1811683</td><td>0.37521653</td><td>0.9436971</td></tr>\n",
       "\t<tr><td>0.8983897</td><td>0.2132081</td><td>0.5185761</td><td>0.99109922</td><td>0.7236908</td></tr>\n",
       "</tbody>\n",
       "</table>\n"
      ],
      "text/latex": [
       "A matrix: 6 × 5 of type dbl\n",
       "\\begin{tabular}{lllll}\n",
       "\t 0.2655087 & 0.6547239 & 0.2675082 & 0.67371223 & 0.6588776\\\\\n",
       "\t 0.3721239 & 0.3531973 & 0.2186453 & 0.09485786 & 0.1850700\\\\\n",
       "\t 0.5728534 & 0.2702601 & 0.5167968 & 0.49259612 & 0.9543781\\\\\n",
       "\t 0.9082078 & 0.9926841 & 0.2689506 & 0.46155184 & 0.8978485\\\\\n",
       "\t 0.2016819 & 0.6334933 & 0.1811683 & 0.37521653 & 0.9436971\\\\\n",
       "\t 0.8983897 & 0.2132081 & 0.5185761 & 0.99109922 & 0.7236908\\\\\n",
       "\\end{tabular}\n"
      ],
      "text/markdown": [
       "\n",
       "A matrix: 6 × 5 of type dbl\n",
       "\n",
       "| 0.2655087 | 0.6547239 | 0.2675082 | 0.67371223 | 0.6588776 |\n",
       "| 0.3721239 | 0.3531973 | 0.2186453 | 0.09485786 | 0.1850700 |\n",
       "| 0.5728534 | 0.2702601 | 0.5167968 | 0.49259612 | 0.9543781 |\n",
       "| 0.9082078 | 0.9926841 | 0.2689506 | 0.46155184 | 0.8978485 |\n",
       "| 0.2016819 | 0.6334933 | 0.1811683 | 0.37521653 | 0.9436971 |\n",
       "| 0.8983897 | 0.2132081 | 0.5185761 | 0.99109922 | 0.7236908 |\n",
       "\n"
      ],
      "text/plain": [
       "     [,1]      [,2]      [,3]      [,4]       [,5]     \n",
       "[1,] 0.2655087 0.6547239 0.2675082 0.67371223 0.6588776\n",
       "[2,] 0.3721239 0.3531973 0.2186453 0.09485786 0.1850700\n",
       "[3,] 0.5728534 0.2702601 0.5167968 0.49259612 0.9543781\n",
       "[4,] 0.9082078 0.9926841 0.2689506 0.46155184 0.8978485\n",
       "[5,] 0.2016819 0.6334933 0.1811683 0.37521653 0.9436971\n",
       "[6,] 0.8983897 0.2132081 0.5185761 0.99109922 0.7236908"
      ]
     },
     "metadata": {},
     "output_type": "display_data"
    }
   ],
   "source": [
    "head(X) # check the first 6 rows of X in R"
   ]
  },
  {
   "cell_type": "markdown",
   "id": "311d7ea1-00ab-4042-b74d-ac5bb95fd5c5",
   "metadata": {},
   "source": [
    "you shall see that the X matrix has been loaded into Julia."
   ]
  },
  {
   "cell_type": "markdown",
   "id": "05149d78-628c-4a73-8521-1f8f27418a5c",
   "metadata": {},
   "source": [
    "#### Ex.3: Check all simulated data has been loaded into Julia\n",
    "(using `julia_exists`)"
   ]
  },
  {
   "cell_type": "code",
   "execution_count": null,
   "id": "175373ae-8248-4650-8eff-1bc86683d1b8",
   "metadata": {},
   "outputs": [],
   "source": []
  },
  {
   "cell_type": "code",
   "execution_count": null,
   "id": "fccbaaee-0442-4f8c-b0c7-8d8dc45246ea",
   "metadata": {},
   "outputs": [],
   "source": []
  },
  {
   "cell_type": "markdown",
   "id": "126eaf53-54f4-4ba0-809c-621325116b34",
   "metadata": {},
   "source": [
    "##### Ex.3 - solution:"
   ]
  },
  {
   "cell_type": "code",
   "execution_count": 48,
   "id": "c2042253-b597-4a11-acc8-4c8ec9cc6427",
   "metadata": {},
   "outputs": [
    {
     "data": {
      "text/html": [
       "<style>\n",
       ".dl-inline {width: auto; margin:0; padding: 0}\n",
       ".dl-inline>dt, .dl-inline>dd {float: none; width: auto; display: inline-block}\n",
       ".dl-inline>dt::after {content: \":\\0020\"; padding-right: .5ex}\n",
       ".dl-inline>dt:not(:first-of-type) {padding-left: .5ex}\n",
       "</style><dl class=dl-inline><dt>X</dt><dd>TRUE</dd><dt>B</dt><dd>TRUE</dd><dt>Z</dt><dd>TRUE</dd><dt>Y</dt><dd>TRUE</dd></dl>\n"
      ],
      "text/latex": [
       "\\begin{description*}\n",
       "\\item[X] TRUE\n",
       "\\item[B] TRUE\n",
       "\\item[Z] TRUE\n",
       "\\item[Y] TRUE\n",
       "\\end{description*}\n"
      ],
      "text/markdown": [
       "X\n",
       ":   TRUEB\n",
       ":   TRUEZ\n",
       ":   TRUEY\n",
       ":   TRUE\n",
       "\n"
      ],
      "text/plain": [
       "   X    B    Z    Y \n",
       "TRUE TRUE TRUE TRUE "
      ]
     },
     "metadata": {},
     "output_type": "display_data"
    }
   ],
   "source": [
    "sapply(c(\"X\", \"B\", \"Z\", \"Y\"), julia_exists)"
   ]
  },
  {
   "cell_type": "markdown",
   "id": "a67b67f1-abf7-4fac-a3e8-3803af6d300c",
   "metadata": {},
   "source": [
    "you should be able to confirm that the data has been loaded into Julia."
   ]
  },
  {
   "cell_type": "markdown",
   "id": "16884d1c-9fb3-4cb4-aa9d-6a38052c7df9",
   "metadata": {},
   "source": [
    "#### Ex.4 - Load package in Julia\n",
    "(using `julia_library()`)"
   ]
  },
  {
   "cell_type": "code",
   "execution_count": null,
   "id": "ecc3fcf4-4cc9-43af-951c-adb0aa42e5fa",
   "metadata": {},
   "outputs": [],
   "source": []
  },
  {
   "cell_type": "markdown",
   "id": "b79bc949-1892-41db-b0c1-d1ddef4894e7",
   "metadata": {},
   "source": [
    "##### Ex.4 - solution:"
   ]
  },
  {
   "cell_type": "code",
   "execution_count": 49,
   "id": "ed0d94be-b87f-4e25-96aa-e1a00011e354",
   "metadata": {},
   "outputs": [],
   "source": [
    "julia_library(\"MatrixLM\")"
   ]
  },
  {
   "cell_type": "markdown",
   "id": "6b2d5c5f-c387-47ab-a84b-d7d8ed51a863",
   "metadata": {},
   "source": [
    "or, more intuitively, use `julia_command()` or `julia_eval()`"
   ]
  },
  {
   "cell_type": "code",
   "execution_count": 50,
   "id": "06881ce0-012f-4cbc-b66d-4e1dba22debd",
   "metadata": {},
   "outputs": [
    {
     "data": {
      "text/plain": [
       "NULL"
      ]
     },
     "metadata": {},
     "output_type": "display_data"
    }
   ],
   "source": [
    "julia_eval(\"using MatrixLM\") # will print NULL because nothing is returned from this command"
   ]
  },
  {
   "cell_type": "code",
   "execution_count": 51,
   "id": "7c2a7bc8-d90f-4cd2-9770-07ea037f8e07",
   "metadata": {},
   "outputs": [],
   "source": [
    "julia_command(\"using MatrixLM\");"
   ]
  },
  {
   "cell_type": "markdown",
   "id": "9504bef7-ec2f-4d1e-be8a-5a01f6b94eee",
   "metadata": {},
   "source": [
    "#### Ex.5: Extract the output from Julia into R "
   ]
  },
  {
   "cell_type": "markdown",
   "id": "50d8766b-74fe-4704-b54a-5a8319ee587c",
   "metadata": {},
   "source": [
    "First, evaluate the Matrix Linear Model by running the following Julia command (you can copy and paste each line to a line executing `julia_command()`)"
   ]
  },
  {
   "cell_type": "markdown",
   "id": "ffe4d454-9b22-44f6-8d4e-8306104b89ef",
   "metadata": {},
   "source": [
    "```julia\n",
    "dat = RawData(Response(Y), Predictors(X, Z));\n",
    "est = mlm(dat; hasXIntercept = false, hasZIntercept = false);\n",
    "\n",
    "```"
   ]
  },
  {
   "cell_type": "markdown",
   "id": "eb69108d-9a2e-4ac2-bf6c-1bdbfd3d5cb7",
   "metadata": {},
   "source": [
    "Next, after the package finished the task, extract the output estimated $B$ and assign it to a variable in R environment.\n",
    "\n",
    "**Which one should you use? `julia_command()` or `julia_eval()`? Test it out!**"
   ]
  },
  {
   "cell_type": "markdown",
   "id": "28b0cf93-0262-45f3-9956-6119137a2bbe",
   "metadata": {},
   "source": [
    "```julia\n",
    "coef(est)\n",
    "```"
   ]
  },
  {
   "cell_type": "markdown",
   "id": "4cd7279f-3bab-4787-86e6-11ef632f07de",
   "metadata": {},
   "source": [
    "##### Ex.5 - solution:"
   ]
  },
  {
   "cell_type": "code",
   "execution_count": 52,
   "id": "b067ae79-93d0-45f1-b89e-f6650ffa1d49",
   "metadata": {},
   "outputs": [],
   "source": [
    "# Construct a RawData object\n",
    "julia_command(\"dat = RawData(Response(Y), Predictors(X, Z));\")\n",
    "julia_command(\"est = mlm(dat; hasXIntercept = false, hasZIntercept = false);\")"
   ]
  },
  {
   "cell_type": "markdown",
   "id": "9d562411-e5ab-4c5f-b0a5-a95529ad0486",
   "metadata": {},
   "source": [
    "We shall learn that `julia_command()` will not return the output but only display the result as in the Julia console."
   ]
  },
  {
   "cell_type": "code",
   "execution_count": 53,
   "id": "ae0dc4e1-9e7c-49d1-adeb-d7a84ff77219",
   "metadata": {},
   "outputs": [
    {
     "data": {
      "text/html": [
       "5×5 Matrix{Float64}:\n",
       "  0.749082  -4.63939   -3.25801     0.875111   4.59497\n",
       "  0.964557   1.25309   -0.0663613   0.726904  -1.18719\n",
       "  0.68714   -0.656523   2.36629     1.55231   -3.29546\n",
       " -2.81598   -1.43399    0.106681    3.64763   -2.68305\n",
       "  3.20676    2.73621   -0.248831   -1.02727    4.498"
      ]
     },
     "metadata": {},
     "output_type": "display_data"
    }
   ],
   "source": [
    "B_hat_nothing <- julia_command(\"coef(est)\")"
   ]
  },
  {
   "cell_type": "code",
   "execution_count": 54,
   "id": "34af1656-cddc-416a-88c4-33b406161f89",
   "metadata": {},
   "outputs": [
    {
     "data": {
      "text/html": [
       "'NULL'"
      ],
      "text/latex": [
       "'NULL'"
      ],
      "text/markdown": [
       "'NULL'"
      ],
      "text/plain": [
       "[1] \"NULL\""
      ]
     },
     "metadata": {},
     "output_type": "display_data"
    }
   ],
   "source": [
    "class(B_hat_nothing)"
   ]
  },
  {
   "cell_type": "markdown",
   "id": "e03ada3f-9c36-44b2-b8c5-e11b8b377fcc",
   "metadata": {},
   "source": [
    "We shall use `julia_eval()` to execute the command and assign the output returned to a variable to be used in R later."
   ]
  },
  {
   "cell_type": "code",
   "execution_count": 55,
   "id": "17f53fc6-b225-496d-aaa1-5c77f76cfa92",
   "metadata": {},
   "outputs": [],
   "source": [
    "B_hat <- julia_eval(\"coef(est)\") # Get the coefficients of the model"
   ]
  },
  {
   "cell_type": "code",
   "execution_count": 56,
   "id": "2bd80bb7-7e5a-4579-a1b0-450a3169bcd3",
   "metadata": {},
   "outputs": [
    {
     "data": {
      "text/html": [
       "<style>\n",
       ".list-inline {list-style: none; margin:0; padding: 0}\n",
       ".list-inline>li {display: inline-block}\n",
       ".list-inline>li:not(:last-child)::after {content: \"\\00b7\"; padding: 0 .5ex}\n",
       "</style>\n",
       "<ol class=list-inline><li>'matrix'</li><li>'array'</li></ol>\n"
      ],
      "text/latex": [
       "\\begin{enumerate*}\n",
       "\\item 'matrix'\n",
       "\\item 'array'\n",
       "\\end{enumerate*}\n"
      ],
      "text/markdown": [
       "1. 'matrix'\n",
       "2. 'array'\n",
       "\n",
       "\n"
      ],
      "text/plain": [
       "[1] \"matrix\" \"array\" "
      ]
     },
     "metadata": {},
     "output_type": "display_data"
    }
   ],
   "source": [
    "class(B_hat)"
   ]
  },
  {
   "cell_type": "markdown",
   "id": "63b6671b-e9fd-47c8-b9b3-70fe6aa45405",
   "metadata": {},
   "source": [
    "Check that you shall get the similar results as the following:"
   ]
  },
  {
   "cell_type": "code",
   "execution_count": 57,
   "id": "b49ceacd-68e0-44d3-bbf1-32246a58e8f4",
   "metadata": {},
   "outputs": [
    {
     "data": {
      "text/html": [
       "<table class=\"dataframe\">\n",
       "<caption>A matrix: 5 × 5 of type dbl</caption>\n",
       "<tbody>\n",
       "\t<tr><td> 0.75</td><td>-4.64</td><td>-3.26</td><td> 0.88</td><td> 4.59</td></tr>\n",
       "\t<tr><td> 0.96</td><td> 1.25</td><td>-0.07</td><td> 0.73</td><td>-1.19</td></tr>\n",
       "\t<tr><td> 0.69</td><td>-0.66</td><td> 2.37</td><td> 1.55</td><td>-3.30</td></tr>\n",
       "\t<tr><td>-2.82</td><td>-1.43</td><td> 0.11</td><td> 3.65</td><td>-2.68</td></tr>\n",
       "\t<tr><td> 3.21</td><td> 2.74</td><td>-0.25</td><td>-1.03</td><td> 4.50</td></tr>\n",
       "</tbody>\n",
       "</table>\n"
      ],
      "text/latex": [
       "A matrix: 5 × 5 of type dbl\n",
       "\\begin{tabular}{lllll}\n",
       "\t  0.75 & -4.64 & -3.26 &  0.88 &  4.59\\\\\n",
       "\t  0.96 &  1.25 & -0.07 &  0.73 & -1.19\\\\\n",
       "\t  0.69 & -0.66 &  2.37 &  1.55 & -3.30\\\\\n",
       "\t -2.82 & -1.43 &  0.11 &  3.65 & -2.68\\\\\n",
       "\t  3.21 &  2.74 & -0.25 & -1.03 &  4.50\\\\\n",
       "\\end{tabular}\n"
      ],
      "text/markdown": [
       "\n",
       "A matrix: 5 × 5 of type dbl\n",
       "\n",
       "|  0.75 | -4.64 | -3.26 |  0.88 |  4.59 |\n",
       "|  0.96 |  1.25 | -0.07 |  0.73 | -1.19 |\n",
       "|  0.69 | -0.66 |  2.37 |  1.55 | -3.30 |\n",
       "| -2.82 | -1.43 |  0.11 |  3.65 | -2.68 |\n",
       "|  3.21 |  2.74 | -0.25 | -1.03 |  4.50 |\n",
       "\n"
      ],
      "text/plain": [
       "     [,1]  [,2]  [,3]  [,4]  [,5] \n",
       "[1,]  0.75 -4.64 -3.26  0.88  4.59\n",
       "[2,]  0.96  1.25 -0.07  0.73 -1.19\n",
       "[3,]  0.69 -0.66  2.37  1.55 -3.30\n",
       "[4,] -2.82 -1.43  0.11  3.65 -2.68\n",
       "[5,]  3.21  2.74 -0.25 -1.03  4.50"
      ]
     },
     "metadata": {},
     "output_type": "display_data"
    }
   ],
   "source": [
    "B_hat |> round(digits = 2) # estimated coefficients by MatrixLM"
   ]
  },
  {
   "cell_type": "code",
   "execution_count": 58,
   "id": "07e1465d-ee19-4c3a-83b2-86a3f502ec7a",
   "metadata": {},
   "outputs": [
    {
     "data": {
      "text/html": [
       "<table class=\"dataframe\">\n",
       "<caption>A matrix: 5 × 5 of type dbl</caption>\n",
       "<tbody>\n",
       "\t<tr><td> 0.74</td><td>-4.63</td><td>-3.27</td><td> 0.88</td><td> 4.60</td></tr>\n",
       "\t<tr><td> 0.97</td><td> 1.26</td><td>-0.07</td><td> 0.73</td><td>-1.19</td></tr>\n",
       "\t<tr><td> 0.70</td><td>-0.67</td><td> 2.37</td><td> 1.55</td><td>-3.30</td></tr>\n",
       "\t<tr><td>-2.82</td><td>-1.43</td><td> 0.11</td><td> 3.65</td><td>-2.68</td></tr>\n",
       "\t<tr><td> 3.20</td><td> 2.74</td><td>-0.25</td><td>-1.03</td><td> 4.50</td></tr>\n",
       "</tbody>\n",
       "</table>\n"
      ],
      "text/latex": [
       "A matrix: 5 × 5 of type dbl\n",
       "\\begin{tabular}{lllll}\n",
       "\t  0.74 & -4.63 & -3.27 &  0.88 &  4.60\\\\\n",
       "\t  0.97 &  1.26 & -0.07 &  0.73 & -1.19\\\\\n",
       "\t  0.70 & -0.67 &  2.37 &  1.55 & -3.30\\\\\n",
       "\t -2.82 & -1.43 &  0.11 &  3.65 & -2.68\\\\\n",
       "\t  3.20 &  2.74 & -0.25 & -1.03 &  4.50\\\\\n",
       "\\end{tabular}\n"
      ],
      "text/markdown": [
       "\n",
       "A matrix: 5 × 5 of type dbl\n",
       "\n",
       "|  0.74 | -4.63 | -3.27 |  0.88 |  4.60 |\n",
       "|  0.97 |  1.26 | -0.07 |  0.73 | -1.19 |\n",
       "|  0.70 | -0.67 |  2.37 |  1.55 | -3.30 |\n",
       "| -2.82 | -1.43 |  0.11 |  3.65 | -2.68 |\n",
       "|  3.20 |  2.74 | -0.25 | -1.03 |  4.50 |\n",
       "\n"
      ],
      "text/plain": [
       "     [,1]  [,2]  [,3]  [,4]  [,5] \n",
       "[1,]  0.74 -4.63 -3.27  0.88  4.60\n",
       "[2,]  0.97  1.26 -0.07  0.73 -1.19\n",
       "[3,]  0.70 -0.67  2.37  1.55 -3.30\n",
       "[4,] -2.82 -1.43  0.11  3.65 -2.68\n",
       "[5,]  3.20  2.74 -0.25 -1.03  4.50"
      ]
     },
     "metadata": {},
     "output_type": "display_data"
    }
   ],
   "source": [
    "B |> round(digits = 2) # true coefficients"
   ]
  },
  {
   "cell_type": "markdown",
   "id": "89e5849f-7cf0-4785-93fb-7107ee769968",
   "metadata": {},
   "source": [
    "##### Appendix: a simple example of downstream analysis in R!"
   ]
  },
  {
   "cell_type": "markdown",
   "id": "e8d9791e-7c71-4444-869c-586032964d80",
   "metadata": {},
   "source": [
    "Packages in Julia, such as `MatrixLM.jl` (feel free to explore [here](https://github.com/senresearch/MatrixLM.jl)), provides many useful features. With `JuliaCall`, R users can easily use these features in Julia for computational tasks in the backend, and extract the results for downstream analyses in R."
   ]
  },
  {
   "cell_type": "markdown",
   "id": "62a7dc95-80e6-4093-83b7-f716416e79d9",
   "metadata": {},
   "source": [
    "For example, with `MatrixLM.jl`, we can get residuals from the fitted model "
   ]
  },
  {
   "cell_type": "code",
   "execution_count": 59,
   "id": "d24c8a05-101a-4173-ad4d-4aa093d1feca",
   "metadata": {},
   "outputs": [],
   "source": [
    "resids <- julia_eval(\"resids = resid(est)\");"
   ]
  },
  {
   "cell_type": "markdown",
   "id": "0fc4191c-3980-4d8a-ba67-31cd66bedf36",
   "metadata": {},
   "source": [
    "then visualize the result (with any graphing tools of your choice) using the powerful visualization features in R."
   ]
  },
  {
   "cell_type": "code",
   "execution_count": 60,
   "id": "4709ef43-77d2-4858-8025-fd0472fc43c6",
   "metadata": {},
   "outputs": [
    {
     "data": {
      "image/png": "[encoded data removed]",
      "text/plain": [
       "Plot with title “Histogram of resids”"
      ]
     },
     "metadata": {
      "image/png": {
       "height": 420,
       "width": 420
      }
     },
     "output_type": "display_data"
    }
   ],
   "source": [
    "hist(resids) # here we just used Base.R"
   ]
  },
  {
   "cell_type": "markdown",
   "id": "5829d6c5-f445-4e10-bb47-daedab4450d3",
   "metadata": {},
   "source": [
    "Hope you enjoyed the workshop and hope you will explore Julia more yourself in the future!"
   ]
  }
 ],
 "metadata": {
  "jupytext": {
   "formats": "ipynb,Rmd"
  },
  "kernelspec": {
   "display_name": "R",
   "language": "R",
   "name": "ir"
  },
  "language_info": {
   "codemirror_mode": "r",
   "file_extension": ".r",
   "mimetype": "text/x-r-source",
   "name": "R",
   "pygments_lexer": "r",
   "version": "4.2.2"
  }
 },
 "nbformat": 4,
 "nbformat_minor": 5
}
