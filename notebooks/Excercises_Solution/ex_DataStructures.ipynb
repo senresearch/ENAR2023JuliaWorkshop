{
 "cells": [
  {
   "cell_type": "markdown",
   "id": "14443d8b-d863-4aef-91f2-19df8b4f41a6",
   "metadata": {},
   "source": [
    "## Exercise - Data Structure"
   ]
  },
  {
   "cell_type": "markdown",
   "id": "ed1c8813-0fd4-4dcc-82ef-e62b7df6b43e",
   "metadata": {},
   "source": [
    "#### Ex.1: Arrays in Julia\n",
    "\n",
    "Create a 3x3 matrix A with random integers between 1 and 10 using the function `rand()`. Then check the data type of the A."
   ]
  },
  {
   "cell_type": "markdown",
   "id": "88405f53-4809-440e-a125-2fd4f6af1bf1",
   "metadata": {},
   "source": [
    "##### Ex.1 - solution:"
   ]
  },
  {
   "cell_type": "code",
   "execution_count": 1,
   "id": "6c932c18-a919-4636-a13e-b9c69103fe68",
   "metadata": {},
   "outputs": [
    {
     "data": {
      "text/plain": [
       "3×3 Matrix{Int64}:\n",
       " 3  2  9\n",
       " 4  4  8\n",
       " 4  3  6"
      ]
     },
     "execution_count": 1,
     "metadata": {},
     "output_type": "execute_result"
    }
   ],
   "source": [
    "A = rand(1:10, 3, 3)"
   ]
  },
  {
   "cell_type": "markdown",
   "id": "29130e51-4b5c-4a6e-9027-850cf5ae9091",
   "metadata": {},
   "source": [
    "Or, by hand"
   ]
  },
  {
   "cell_type": "code",
   "execution_count": 10,
   "id": "93f548cc-b732-466b-bfef-1a5c033d0952",
   "metadata": {},
   "outputs": [
    {
     "data": {
      "text/plain": [
       "3×3 Matrix{Int64}:\n",
       " 2   9  7\n",
       " 4  10  3\n",
       " 7   8  3"
      ]
     },
     "execution_count": 10,
     "metadata": {},
     "output_type": "execute_result"
    }
   ],
   "source": [
    "A = Array{Int, 2}(undef, 3, 3);\n",
    "for i in 1:3\n",
    "    for j in 1:3\n",
    "        A[i, j] = rand(1:10)\n",
    "    end\n",
    "end\n",
    "A"
   ]
  },
  {
   "cell_type": "markdown",
   "id": "6787b73a-91c2-4928-a22a-38f2f218793a",
   "metadata": {},
   "source": [
    "Using `typeof()` to see the data type of A, you'll see"
   ]
  },
  {
   "cell_type": "code",
   "execution_count": 8,
   "id": "1d03e062-7f8f-452d-9b56-b5b335fb1dc0",
   "metadata": {},
   "outputs": [
    {
     "data": {
      "text/plain": [
       "Matrix{Int64}\u001b[90m (alias for \u001b[39m\u001b[90mArray{Int64, 2}\u001b[39m\u001b[90m)\u001b[39m"
      ]
     },
     "execution_count": 8,
     "metadata": {},
     "output_type": "execute_result"
    }
   ],
   "source": [
    "typeof(A) # Check the data type of the A."
   ]
  },
  {
   "cell_type": "markdown",
   "id": "0e1df94a-7fae-4a9c-a647-4e8c767e72a0",
   "metadata": {},
   "source": [
    "#### Ex.2: Functions in Julia\n",
    "Define a function `f(x)` that takes in an integer number x and returns its squared value."
   ]
  },
  {
   "cell_type": "code",
   "execution_count": null,
   "id": "8f0e588e-90f4-4920-93d5-0a31fefb20fc",
   "metadata": {},
   "outputs": [],
   "source": []
  },
  {
   "cell_type": "markdown",
   "id": "ebb6e460-740d-4931-a52c-9e30d9409641",
   "metadata": {},
   "source": [
    "##### Ex.2 - solution:"
   ]
  },
  {
   "cell_type": "code",
   "execution_count": 2,
   "id": "01fabe70-6608-4487-b0ff-b189177b05b8",
   "metadata": {},
   "outputs": [
    {
     "data": {
      "text/plain": [
       "f (generic function with 2 methods)"
      ]
     },
     "execution_count": 7,
     "metadata": {},
     "output_type": "execute_result"
    }
   ],
   "source": [
    "function f(x::Int)\n",
    "    return x^2\n",
    "end"
   ]
  },
  {
   "cell_type": "markdown",
   "id": "e33d2959-b415-4d63-9bf8-a4184eb02f30",
   "metadata": {},
   "source": [
    "#### Ex.3: Loops in Julia\n",
    "\n",
    "Apply the function f(x) to each element of the matrix A using a loop, with the number of iterations obtained by `size(A)`, and then store the result in a new matrix B."
   ]
  },
  {
   "cell_type": "code",
   "execution_count": null,
   "id": "e77086a6-88f8-4c10-b426-a9407c0c76bd",
   "metadata": {},
   "outputs": [],
   "source": []
  },
  {
   "cell_type": "markdown",
   "id": "1ab3fa9c-0dfc-4012-9c2a-63e2f357e9c8",
   "metadata": {},
   "source": [
    "##### Ex.3 - solution:"
   ]
  },
  {
   "cell_type": "code",
   "execution_count": 9,
   "id": "918b4117-3984-4d59-b035-448094de2474",
   "metadata": {},
   "outputs": [],
   "source": [
    "B = copy(A);\n",
    "for i in 1:3\n",
    "    for j in 1:3\n",
    "        B[i, j] = f(A[i, j])\n",
    "    end\n",
    "end"
   ]
  },
  {
   "cell_type": "code",
   "execution_count": 17,
   "id": "da1eb3d7-66fd-42fd-a6bb-747d5f4df5cf",
   "metadata": {},
   "outputs": [
    {
     "data": {
      "text/plain": [
       "3×3 Matrix{Int64}:\n",
       "  4   81  49\n",
       " 16  100   9\n",
       " 49   64   9"
      ]
     },
     "execution_count": 17,
     "metadata": {},
     "output_type": "execute_result"
    }
   ],
   "source": [
    "B"
   ]
  },
  {
   "cell_type": "markdown",
   "id": "2d812a5d-954c-4e48-b194-d3c0f0b2f959",
   "metadata": {},
   "source": [
    "#### Ex.4: Broadcasting\n",
    "\n",
    "Apply this function f(x) to each element of the matrix A using broadcasting (by `f.()`) and store the result in a matrix C."
   ]
  },
  {
   "cell_type": "code",
   "execution_count": null,
   "id": "49841dc3-8efe-4721-8419-d177f0f8f64f",
   "metadata": {},
   "outputs": [
    {
     "data": {
      "text/plain": [
       "3×3 Matrix{Int64}:\n",
       " 53  41   97\n",
       " 60  48  116\n",
       " 48  38   96"
      ]
     },
     "execution_count": 5,
     "metadata": {},
     "output_type": "execute_result"
    }
   ],
   "source": [
    "f(A)"
   ]
  },
  {
   "cell_type": "markdown",
   "id": "fbc959a2-7fee-4b78-922a-b4c23d9de599",
   "metadata": {},
   "source": [
    "##### Ex.4 - solution:"
   ]
  },
  {
   "cell_type": "code",
   "execution_count": null,
   "id": "ce9a4069-f45f-4a92-bb8b-9a107779e1c4",
   "metadata": {},
   "outputs": [
    {
     "data": {
      "text/plain": [
       "3×3 Matrix{Int64}:\n",
       "  9   4  81\n",
       " 16  16  64\n",
       " 16   9  36"
      ]
     },
     "execution_count": 6,
     "metadata": {},
     "output_type": "execute_result"
    }
   ],
   "source": [
    "C = f.(A)"
   ]
  },
  {
   "cell_type": "code",
   "execution_count": 20,
   "id": "184e920f-dab5-47d8-98ef-9c627dd7ffdd",
   "metadata": {},
   "outputs": [
    {
     "data": {
      "text/plain": [
       "3×3 Matrix{Int64}:\n",
       " 2   9  7\n",
       " 4  10  3\n",
       " 7   8  3"
      ]
     },
     "execution_count": 20,
     "metadata": {},
     "output_type": "execute_result"
    }
   ],
   "source": [
    "A"
   ]
  },
  {
   "cell_type": "markdown",
   "id": "c4536d79-727c-4f82-95ad-ef28df80eab6",
   "metadata": {},
   "source": [
    "#### Ex.5 Tuples in Julia\n",
    "Create a tuple of three, containing the numbers in the second column of matrix A, and store the results in the new tuple D.\n",
    "\n",
    "Check the data type of D."
   ]
  },
  {
   "cell_type": "code",
   "execution_count": null,
   "id": "84ca82dc-95e4-43e7-a346-9337c810650e",
   "metadata": {},
   "outputs": [],
   "source": []
  },
  {
   "cell_type": "markdown",
   "id": "18fcd19d-0e61-4f0a-aee7-a2c01076e38c",
   "metadata": {},
   "source": [
    "##### Ex.5 - solution:"
   ]
  },
  {
   "cell_type": "code",
   "execution_count": 34,
   "id": "5af9057c-7831-428e-a064-de1e1a9abb51",
   "metadata": {},
   "outputs": [
    {
     "data": {
      "text/plain": [
       "(9, 10, 8)"
      ]
     },
     "execution_count": 34,
     "metadata": {},
     "output_type": "execute_result"
    }
   ],
   "source": [
    "D = (A[1, 2], A[2, 2], A[3, 2])"
   ]
  },
  {
   "cell_type": "markdown",
   "id": "ae761501-9735-4fcf-a86f-970dc16a601c",
   "metadata": {},
   "source": [
    "Or,"
   ]
  },
  {
   "cell_type": "code",
   "execution_count": 36,
   "id": "7d4952d0-b537-4916-b8c5-91a47e9458bc",
   "metadata": {},
   "outputs": [
    {
     "data": {
      "text/plain": [
       "(9, 10, 8)"
      ]
     },
     "execution_count": 36,
     "metadata": {},
     "output_type": "execute_result"
    }
   ],
   "source": [
    "D = Tuple(A[:, 2])"
   ]
  },
  {
   "cell_type": "code",
   "execution_count": 37,
   "id": "a46add02-6481-46e2-9381-8bdcc006e1a8",
   "metadata": {},
   "outputs": [
    {
     "data": {
      "text/plain": [
       "Tuple{Int64, Int64, Int64}"
      ]
     },
     "execution_count": 37,
     "metadata": {},
     "output_type": "execute_result"
    }
   ],
   "source": [
    "typeof(D)"
   ]
  },
  {
   "cell_type": "code",
   "execution_count": 39,
   "id": "4225d332-38dd-4a50-ad60-cd6c57c24545",
   "metadata": {},
   "outputs": [
    {
     "data": {
      "text/plain": [
       "3×3 Matrix{Int64}:\n",
       " 2   9  7\n",
       " 4  10  3\n",
       " 7   8  3"
      ]
     },
     "execution_count": 39,
     "metadata": {},
     "output_type": "execute_result"
    }
   ],
   "source": [
    "A # check if the numbers match"
   ]
  },
  {
   "cell_type": "markdown",
   "id": "15c909dd-8984-4c36-90e6-7d0125190c47",
   "metadata": {},
   "source": [
    "#### Optional: Broadcasting in the Tuple\n",
    "\n",
    "Apply the function f(x) to the tuple D with broadcasting. \n",
    "\n",
    "Assign the output to variable E."
   ]
  },
  {
   "cell_type": "code",
   "execution_count": null,
   "id": "1edb57ad-6dbf-43e1-95ef-489db7d04da7",
   "metadata": {},
   "outputs": [],
   "source": []
  },
  {
   "cell_type": "markdown",
   "id": "f67ecedb-86f8-4d33-addf-d701d1f9817f",
   "metadata": {},
   "source": [
    "##### solution:"
   ]
  },
  {
   "cell_type": "code",
   "execution_count": 40,
   "id": "0f3473ec-718b-49ca-a03f-ca39a7ccbaaa",
   "metadata": {},
   "outputs": [
    {
     "data": {
      "text/plain": [
       "(81, 100, 64)"
      ]
     },
     "execution_count": 40,
     "metadata": {},
     "output_type": "execute_result"
    }
   ],
   "source": [
    "E = f.(D)"
   ]
  }
 ],
 "metadata": {
  "jupytext": {
   "formats": "ipynb,auto:light"
  },
  "kernelspec": {
   "display_name": "Julia 1.8.5",
   "language": "julia",
   "name": "julia-1.8"
  },
  "language_info": {
   "file_extension": ".jl",
   "mimetype": "application/julia",
   "name": "julia",
   "version": "1.8.5"
  }
 },
 "nbformat": 4,
 "nbformat_minor": 5
}
