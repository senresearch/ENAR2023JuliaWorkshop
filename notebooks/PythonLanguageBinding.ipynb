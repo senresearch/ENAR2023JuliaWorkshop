{
 "cells": [
  {
   "cell_type": "markdown",
   "metadata": {
    "slideshow": {
     "slide_type": "slide"
    }
   },
   "source": [
    "# Language Binding with Python\n",
    "---\n",
    "\n",
    "**Gregory Farage, Śaunak Sen**    \n",
    "\n",
    "    gfarage@uthsc.edu / sen@uthsc.edu\n",
    "    Division of Biostatistics\n",
    "    Department of Preventive Medicine\n",
    "    University of Tennessee Health Science Center\n",
    "    Memphis, TN\n",
    "\n",
    "The advantages of Julia can be fully appreciated when used exclusively, however, it is reassuring to know that there are multiple ways to incorporate Python and R into your workflow. The purpose of this notebook is for you to see as simple it is to call function or libraries from other programming languages. We show you few examples how to directly call and fully interoperate with Python from the Julia language, with the packages `PyCall.jl`.\n",
    "\n",
    "\n",
    "*References for this notebook:*\n",
    "* [PyCall.jl](https://docs.juliahub.com/PyCall/GkzkC/1.92.0/)\n",
    "* [Lecture by Steven Johnson ](https://github.com/mitmath/18S096/blob/master/lectures/lecture1/Boxes-and-registers.ipynb)\n",
    "* [Excelling at Julia Basics and Beyond (Huda Nassar, Jane Herriman)](https://github.com/xorJane/Excelling-at-Julia-Basics-and-Beyond)"
   ]
  },
  {
   "cell_type": "markdown",
   "metadata": {
    "slideshow": {
     "slide_type": "subslide"
    }
   },
   "source": [
    "### Outline of this notebook\n",
    "\n",
    "- Toy example\n",
    "- Calling python built-in function \n",
    "- Calling python hand-written function \n",
    "- Importing python libraries"
   ]
  },
  {
   "cell_type": "markdown",
   "metadata": {},
   "source": [
    "## Toy example"
   ]
  },
  {
   "cell_type": "markdown",
   "metadata": {},
   "source": [
    "Let's use the `sum` function as an example to understand how calling mechanisms work.   \n",
    "\n",
    "The function `sum(x)` can computes the sum of all elements in an array `x` of length $n$:\n",
    "$$\n",
    "\\mathrm{sum}(x) = \\sum_{i=1}^n x_i.\n",
    "$$"
   ]
  },
  {
   "cell_type": "markdown",
   "metadata": {},
   "source": [
    "Generate a vector of random numbers"
   ]
  },
  {
   "cell_type": "code",
   "execution_count": 1,
   "metadata": {
    "slideshow": {
     "slide_type": "subslide"
    },
    "tags": []
   },
   "outputs": [],
   "source": [
    "a = rand(10^3);"
   ]
  },
  {
   "cell_type": "markdown",
   "metadata": {
    "slideshow": {
     "slide_type": "-"
    }
   },
   "source": [
    "The expected value is 500, since the vector `a` has a uniform distribution on [0,1) with each entry having a mean of 0.5."
   ]
  },
  {
   "cell_type": "code",
   "execution_count": 2,
   "metadata": {
    "slideshow": {
     "slide_type": "-"
    },
    "tags": []
   },
   "outputs": [
    {
     "data": {
      "text/plain": [
       "484.3279189030336"
      ]
     },
     "execution_count": 2,
     "metadata": {},
     "output_type": "execute_result"
    }
   ],
   "source": [
    " sum(a)"
   ]
  },
  {
   "cell_type": "markdown",
   "metadata": {
    "slideshow": {
     "slide_type": "slide"
    }
   },
   "source": [
    "## Calling Python's built-in `sum` "
   ]
  },
  {
   "cell_type": "markdown",
   "metadata": {
    "slideshow": {
     "slide_type": "-"
    }
   },
   "source": [
    "The `PyCall` package provides a Julia interface to Python:"
   ]
  },
  {
   "cell_type": "code",
   "execution_count": 3,
   "metadata": {
    "scrolled": true,
    "slideshow": {
     "slide_type": "-"
    },
    "tags": []
   },
   "outputs": [],
   "source": [
    "# Using Pkg; Pkg.add(\"PyCall\")\n",
    "using PyCall"
   ]
  },
  {
   "cell_type": "markdown",
   "metadata": {},
   "source": [
    "Let's use the Python built-in \"sum\" function:"
   ]
  },
  {
   "cell_type": "code",
   "execution_count": 4,
   "metadata": {
    "slideshow": {
     "slide_type": "-"
    },
    "tags": []
   },
   "outputs": [
    {
     "data": {
      "text/plain": [
       "PyObject <built-in function sum>"
      ]
     },
     "execution_count": 4,
     "metadata": {},
     "output_type": "execute_result"
    }
   ],
   "source": [
    "pysum = pybuiltin(\"sum\")"
   ]
  },
  {
   "cell_type": "code",
   "execution_count": 5,
   "metadata": {
    "slideshow": {
     "slide_type": "-"
    },
    "tags": []
   },
   "outputs": [
    {
     "data": {
      "text/plain": [
       "484.32791890303344"
      ]
     },
     "execution_count": 5,
     "metadata": {},
     "output_type": "execute_result"
    }
   ],
   "source": [
    "pysum(a)"
   ]
  },
  {
   "cell_type": "markdown",
   "metadata": {},
   "source": [
    "Verify that the output of Julia's and Python's built-in sum functions are similar."
   ]
  },
  {
   "cell_type": "code",
   "execution_count": 6,
   "metadata": {
    "slideshow": {
     "slide_type": "-"
    },
    "tags": []
   },
   "outputs": [
    {
     "data": {
      "text/plain": [
       "true"
      ]
     },
     "execution_count": 6,
     "metadata": {},
     "output_type": "execute_result"
    }
   ],
   "source": [
    "pysum(a) ≈ sum(a) # \\approx ~ isapprox()"
   ]
  },
  {
   "cell_type": "markdown",
   "metadata": {
    "slideshow": {
     "slide_type": "slide"
    }
   },
   "source": [
    "## Calling hand-written Python `sum` function \n",
    "\n",
    "\n",
    "#### Loading local Python code\n",
    "In this example, we wrote a Python code, *python_sum.py*,  to compute our `sum` function and then source it from Julia using `PyCall`. This method permits us to load the code locally within Julia."
   ]
  },
  {
   "cell_type": "markdown",
   "metadata": {
    "slideshow": {
     "slide_type": "-"
    }
   },
   "source": [
    "\n",
    "_filename: python_sum.py_\n",
    "\n",
    "```python\n",
    "def py_sum(R):\n",
    "    s = 0.0\n",
    "    for r in R:\n",
    "        s += r\n",
    "    return s\n",
    "```"
   ]
  },
  {
   "cell_type": "markdown",
   "metadata": {},
   "source": [
    "We use the `pyimport()` function to directly source our Python code file.    \n",
    "First, we need to add the local directory to `pyimport()` searching path."
   ]
  },
  {
   "cell_type": "code",
   "execution_count": 7,
   "metadata": {
    "slideshow": {
     "slide_type": "-"
    },
    "tags": []
   },
   "outputs": [],
   "source": [
    "pushfirst!(PyVector(pyimport(\"sys\").\"path\"), @__DIR__);  "
   ]
  },
  {
   "cell_type": "markdown",
   "metadata": {},
   "source": [
    "Then, we generate a new module, **e.g.** `python_sum`, that can export the function `py_sum` from the file python_sum.py."
   ]
  },
  {
   "cell_type": "code",
   "execution_count": 8,
   "metadata": {
    "slideshow": {
     "slide_type": "subslide"
    },
    "tags": []
   },
   "outputs": [
    {
     "data": {
      "text/plain": [
       "PyObject <module 'python_sum' from 'C:\\\\git\\\\gregfa\\\\ENAR2023JuliaWorkshop\\\\notebooks\\\\python_sum.py'>"
      ]
     },
     "execution_count": 8,
     "metadata": {},
     "output_type": "execute_result"
    }
   ],
   "source": [
    "python_sum = pyimport(\"python_sum\") "
   ]
  },
  {
   "cell_type": "code",
   "execution_count": 9,
   "metadata": {
    "slideshow": {
     "slide_type": "-"
    },
    "tags": []
   },
   "outputs": [
    {
     "data": {
      "text/plain": [
       "484.32791890303344"
      ]
     },
     "execution_count": 9,
     "metadata": {},
     "output_type": "execute_result"
    }
   ],
   "source": [
    "python_sum.py_sum(a)"
   ]
  },
  {
   "cell_type": "markdown",
   "metadata": {
    "tags": []
   },
   "source": [
    "#### Wrapping Python code in Julia"
   ]
  },
  {
   "cell_type": "markdown",
   "metadata": {
    "slideshow": {
     "slide_type": "subslide"
    }
   },
   "source": [
    "The other option consist in writting our Python function and wrap it into the Julia macro `py`:"
   ]
  },
  {
   "cell_type": "code",
   "execution_count": 10,
   "metadata": {
    "tags": []
   },
   "outputs": [
    {
     "data": {
      "text/plain": [
       "PyObject <function py_sum2 at 0x00000239BB28BE20>"
      ]
     },
     "execution_count": 10,
     "metadata": {},
     "output_type": "execute_result"
    }
   ],
   "source": [
    "py\"\"\"\n",
    "def py_sum2(R):\n",
    "    s = 0.0\n",
    "    for r in R:\n",
    "        s += r\n",
    "    return s\n",
    "\"\"\"\n",
    "sum_py = py\"py_sum2\""
   ]
  },
  {
   "cell_type": "code",
   "execution_count": 11,
   "metadata": {
    "slideshow": {
     "slide_type": "-"
    },
    "tags": []
   },
   "outputs": [
    {
     "data": {
      "text/plain": [
       "484.32791890303344"
      ]
     },
     "execution_count": 11,
     "metadata": {},
     "output_type": "execute_result"
    }
   ],
   "source": [
    "sum_py(a)"
   ]
  },
  {
   "cell_type": "markdown",
   "metadata": {
    "slideshow": {
     "slide_type": "slide"
    }
   },
   "source": [
    "## Importing Python libraries \n",
    "\n",
    "Here is a simple example to call Python `math` library and its sinus function `math.sin`:"
   ]
  },
  {
   "cell_type": "code",
   "execution_count": 12,
   "metadata": {
    "slideshow": {
     "slide_type": "-"
    },
    "tags": []
   },
   "outputs": [
    {
     "data": {
      "text/plain": [
       "0.7071067811865476"
      ]
     },
     "execution_count": 12,
     "metadata": {},
     "output_type": "execute_result"
    }
   ],
   "source": [
    "math = pyimport(\"math\")\n",
    "math.sin(math.pi / 4) "
   ]
  },
  {
   "cell_type": "markdown",
   "metadata": {
    "slideshow": {
     "slide_type": "subslide"
    }
   },
   "source": [
    "Now, let's consider the case where we need to add a library to our environment. As an example, let's add `numpy` which is a high-performance library written in C and can be accessed from Python. To install it in Julia and use its `sum` function, we can follow these steps:"
   ]
  },
  {
   "cell_type": "code",
   "execution_count": 13,
   "metadata": {
    "slideshow": {
     "slide_type": "-"
    },
    "tags": []
   },
   "outputs": [],
   "source": [
    "# using Pkg; Pkg.add(\"Conda\")\n",
    "using Conda\n",
    "# In case numpy is not already installed run:\n",
    "# Conda.add(\"numpy\");"
   ]
  },
  {
   "cell_type": "markdown",
   "metadata": {},
   "source": [
    "*Please note that if you encounter an error while loading your library, you should verify your Python environment. You can learn how to specify the Python version by following this [link](https://github.com/JuliaPy/PyCall.jl#specifying-the-python-version). If you want to use Python from `Conda.jl`, simply set the environment as follows:* \n",
    "```julia\n",
    "julia> ENV[\"PYTHON\"]=\"\"\n",
    "```\n",
    "We can use now the sum function from the `numpy` library:    \n"
   ]
  },
  {
   "cell_type": "code",
   "execution_count": 14,
   "metadata": {
    "slideshow": {
     "slide_type": "subslide"
    },
    "tags": []
   },
   "outputs": [
    {
     "data": {
      "text/plain": [
       "PyObject <function sum at 0x00000239BC47B9A0>"
      ]
     },
     "execution_count": 14,
     "metadata": {},
     "output_type": "execute_result"
    }
   ],
   "source": [
    "numpy_sum = pyimport(\"numpy\").\"sum\""
   ]
  },
  {
   "cell_type": "code",
   "execution_count": 15,
   "metadata": {
    "slideshow": {
     "slide_type": "-"
    },
    "tags": []
   },
   "outputs": [
    {
     "data": {
      "text/plain": [
       "484.3279189030336"
      ]
     },
     "execution_count": 15,
     "metadata": {},
     "output_type": "execute_result"
    }
   ],
   "source": [
    "numpy_sum(a)"
   ]
  },
  {
   "cell_type": "code",
   "execution_count": 13,
   "metadata": {
    "tags": []
   },
   "outputs": [
    {
     "name": "stdout",
     "output_type": "stream",
     "text": [
      "Julia Version 1.8.5\n",
      "Commit 17cfb8e65ea (2023-01-08 06:45 UTC)\n",
      "Platform Info:\n",
      "  OS: Linux (x86_64-linux-gnu)\n",
      "  CPU: 8 × 11th Gen Intel(R) Core(TM) i7-1165G7 @ 2.80GHz\n",
      "  WORD_SIZE: 64\n",
      "  LIBM: libopenlibm\n",
      "  LLVM: libLLVM-13.0.1 (ORCJIT, tigerlake)\n",
      "  Threads: 1 on 8 virtual cores\n"
     ]
    }
   ],
   "source": [
    "versioninfo()"
   ]
  },
  {
   "cell_type": "markdown",
   "metadata": {
    "slideshow": {
     "slide_type": "slide"
    }
   },
   "source": [
    "## Summary\n",
    "\n",
    "* Access to a large number of Python libraries: `PyCall.jl` enables Julia users to access the vast ecosystem of Python libraries, including popular ones such as NumPy, Pandas, and TensorFlow.\n",
    "\n",
    "* Improved interoperability: `PyCall.jl` allows Julia users to seamlessly integrate their Julia code with existing Python codebases, improving interoperability between the two languages.\n",
    "\n",
    "* Faster prototyping: By leveraging the strengths of both languages, PyCall.jl enables users to prototype and experiment with different algorithms and models quickly.\n",
    "\n",
    "* Easy deployment: PyCall.jl makes it easy to deploy Julia code that relies on Python libraries, as the necessary Python dependencies can be installed along with the Julia code.\n",
    "\n",
    "* Similar packages exists also for R, Java, C++ and C."
   ]
  }
 ],
 "metadata": {
  "@webio": {
   "lastCommId": null,
   "lastKernelId": null
  },
  "anaconda-cloud": {},
  "celltoolbar": "Slideshow",
  "jupytext": {
   "cell_metadata_json": true,
   "encoding": "# -*- coding: utf-8 -*-",
   "formats": "ipynb,jl:light"
  },
  "kernelspec": {
   "display_name": "Julia 1.8.5",
   "language": "julia",
   "name": "julia-1.8"
  },
  "language_info": {
   "file_extension": ".jl",
   "mimetype": "application/julia",
   "name": "julia",
   "version": "1.8.5"
  },
  "toc": {
   "colors": {
    "hover_highlight": "#DAA520",
    "running_highlight": "#FF0000",
    "selected_highlight": "#FFD700"
   },
   "moveMenuLeft": true,
   "nav_menu": {
    "height": "212px",
    "width": "252px"
   },
   "navigate_menu": true,
   "number_sections": true,
   "sideBar": true,
   "threshold": "2",
   "toc_cell": false,
   "toc_section_display": "block",
   "toc_window_display": false
  }
 },
 "nbformat": 4,
 "nbformat_minor": 4
}
